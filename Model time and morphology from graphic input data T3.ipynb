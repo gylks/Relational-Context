{
 "cells": [
  {
   "cell_type": "markdown",
   "metadata": {},
   "source": [
    "1. Read mesh points for Blender (Phenotype)\n",
    "2. Convert Blender xyz tensors to NN tensor format\n",
    "3. Create NN input and output Targets\n",
    "4. Initialize network model\n",
    "5. Train 2D Ge input to NN model 3D (xyz) Ph output\n",
    "6. Generate sample model output and blender formatted test data\n",
    "7. Save 2D template model weights to file\n"
   ]
  },
  {
   "cell_type": "code",
   "execution_count": 1,
   "metadata": {},
   "outputs": [
    {
     "data": {
      "text/html": [
       "<script type=\"text/javascript\">window.PlotlyConfig = {MathJaxConfig: 'local'};</script><script type=\"text/javascript\">if (window.MathJax) {MathJax.Hub.Config({SVG: {font: \"STIX-Web\"}});}</script><script>requirejs.config({paths: { 'plotly': ['https://cdn.plot.ly/plotly-latest.min']},});if(!window._Plotly) {require(['plotly'],function(plotly) {window._Plotly=plotly;});}</script>"
      ],
      "text/vnd.plotly.v1+html": [
       "<script type=\"text/javascript\">window.PlotlyConfig = {MathJaxConfig: 'local'};</script><script type=\"text/javascript\">if (window.MathJax) {MathJax.Hub.Config({SVG: {font: \"STIX-Web\"}});}</script><script>requirejs.config({paths: { 'plotly': ['https://cdn.plot.ly/plotly-latest.min']},});if(!window._Plotly) {require(['plotly'],function(plotly) {window._Plotly=plotly;});}</script>"
      ]
     },
     "metadata": {},
     "output_type": "display_data"
    }
   ],
   "source": [
    "import torch as torch\n",
    "import torch.nn as nn\n",
    "\n",
    "import numpy as np\n",
    "import json \n",
    "import time\n",
    "import NNArt as gy\n",
    "\n",
    "import plotly as py\n",
    "import plotly.offline as offline\n",
    "import plotly.graph_objs as go\n",
    "\n",
    "import os\n",
    "import plotly.io as pio\n",
    "\n",
    "CURRENT_MODEL_SAVE_DIR = './save/'\n",
    "\n",
    "offline.init_notebook_mode(connected=True) \n",
    "np.set_printoptions(precision=3, suppress=True)"
   ]
  },
  {
   "cell_type": "code",
   "execution_count": 2,
   "metadata": {},
   "outputs": [
    {
     "name": "stdout",
     "output_type": "stream",
     "text": [
      "CUDA is available: True \n",
      "  on device: 0 (GeForce GTX 1080 Ti)\n",
      "for pytorch: 1.0.1 and python: 3.7.2\n",
      "  at: D:\\Anaconda3\\envs\\pytorch\\python.exe\n"
     ]
    }
   ],
   "source": [
    "import sys\n",
    "sys.executable\n",
    "from platform import python_version\n",
    "\n",
    "print('CUDA is available: {} \\n  on device: {} ({})\\nfor pytorch: {} and python: {}\\n  at: {}'.format(\n",
    "    torch.cuda.is_available(),\n",
    "    torch.cuda.current_device(), torch.cuda.get_device_name(torch.cuda.current_device()),\n",
    "    torch.__version__,\n",
    "    python_version(),\n",
    "    sys.executable\n",
    "    ))\n"
   ]
  },
  {
   "cell_type": "code",
   "execution_count": 3,
   "metadata": {},
   "outputs": [],
   "source": [
    "class Net(nn.Module):\n",
    "    def __init__(self, layerSizes=[2,10,15,21]):\n",
    "        super(Net, self).__init__()\n",
    "        self.shape = layerSizes\n",
    "        self.seq = nn.Sequential(\n",
    "            nn.Linear(layerSizes[0],layerSizes[1]),\n",
    "            nn.ELU(),          \n",
    "            nn.Linear(layerSizes[1],layerSizes[2]),\n",
    "            nn.ELU(),            \n",
    "            nn.Linear(layerSizes[2],layerSizes[3]),\n",
    "            nn.ELU()\n",
    "        )\n",
    "        \n",
    "    def forward(self, x):\n",
    "        return self.seq(x) "
   ]
  },
  {
   "cell_type": "code",
   "execution_count": 4,
   "metadata": {},
   "outputs": [],
   "source": [
    "def createRandomizedTargetsGP(g,p):\n",
    "    '''\n",
    "    Randomize mesh interior while maintaining shape and edge coordinates\n",
    "    \n",
    "    Defines an internal function createRandomizedInput(target, r0, r1) \n",
    "    that is run twice, once for g and once for p, using the same random numbers\n",
    "    \n",
    "    '''\n",
    "    def createRandomizedInput(target, r0, r1):\n",
    "        '''      \n",
    "        Randomize mesh interior while maintaining shape and edge coordinates\n",
    "\n",
    "        First randomizing morphology (requireds swapping time and morph axis)\n",
    "        Then time axis\n",
    "\n",
    "        Double first and last elements and \n",
    "        add a random fraction of the difference between rows to each row trimming the last row\n",
    "\n",
    "        This will add one to the row and column count\n",
    "\n",
    "        '''\n",
    "\n",
    "        ##### Randomize Morphology #####\n",
    "        #swap time and morph tensors\n",
    "        timeSwap = np.swapaxes(target,0,1).data.numpy()\n",
    "        #double first and last time morphs \n",
    "        timeSwapPrePost = np.concatenate((timeSwap[:1],timeSwap,timeSwap[-1:]),axis=0)\n",
    "\n",
    "        #compute difference between time steps\n",
    "        #should be all zeros except time in tensor dim 2\n",
    "        timeDifs = timeSwapPrePost[:-1]-timeSwapPrePost[1:]\n",
    "        #add random percent to diff and add to time morphs    \n",
    "        timeSwapRandom = r0*timeDifs+timeSwapPrePost[1:]\n",
    "\n",
    "        #unswap swaped tensors\n",
    "        target2 =  np.swapaxes(timeSwapRandom,0,1)\n",
    "\n",
    "        ##### Randomize Time #####\n",
    "        timePrePost = np.concatenate((target2[0:1],target2,target2[-1:]),axis=0)\n",
    "        timeDif = timePrePost[:-1]-timePrePost[1:]\n",
    "        timeMorphRandom = r1*timeDif+timePrePost[1:]\n",
    "\n",
    "        return timeMorphRandom\n",
    "\n",
    "    r = np.random.rand(1)\n",
    "    rr = np.random.rand(1)\n",
    "    \n",
    "    g = createRandomizedInput(g,r,rr)\n",
    "    p = createRandomizedInput(p,r,rr)\n",
    "    return torch.Tensor(g), torch.Tensor(p)\n"
   ]
  },
  {
   "cell_type": "code",
   "execution_count": 5,
   "metadata": {},
   "outputs": [],
   "source": [
    "def phTrain(phModel, parms):\n",
    "    epochs = parms['epochs']\n",
    "    lRate = parms['lRate']\n",
    "    numBatch = parms['numBatch']\n",
    "    \n",
    "    minLossP = 10\n",
    "    maxLossP = 0\n",
    "    phOptimizer = torch.optim.Adam(phModel.parameters(), lr=lRate)\n",
    "    for epoch in range(epochs):\n",
    "        relMapIn, phTargetOut = createRandomizedTargetsGP(parms['relMap'],parms['phTarget'])\n",
    "        for b in range(numBatch):\n",
    "            phOptimizer.zero_grad()\n",
    "            phOutput = phModel(relMapIn[b])\n",
    "            lossP = criterion(phOutput, phTargetOut[b])\n",
    "            (lossP).backward()\n",
    "            phOptimizer.step()\n",
    "            minLossP = min(lossP.data.item(), minLossP)\n",
    "            maxLossP = max(lossP.data.item(), maxLossP)\n",
    "            \n",
    "        if (epoch) % (epochs/10) == 0:\n",
    "            print(\"Epoch {0:,.0f} - loss: {1:,.5f}\".format(epoch, lossP.data.item()))\n",
    "    print(\"Epoch {0:,.0f} - loss: {1:,.5f}:{2:,.5f}\".format(epoch+1, minLossP, maxLossP))\n",
    "    return"
   ]
  },
  {
   "cell_type": "code",
   "execution_count": 6,
   "metadata": {},
   "outputs": [
    {
     "data": {
      "text/plain": [
       "((7, 7, 3), (7, 7, 7, 3), -0.7742119216918945, 1.0778927993774414)"
      ]
     },
     "execution_count": 6,
     "metadata": {},
     "output_type": "execute_result"
    }
   ],
   "source": [
    "''' \n",
    "1. read mesh points for blender (Phenotype)\n",
    "\n",
    "Run multiple times with different file prefix to generate and save multiple models\n",
    "\n",
    "'''\n",
    "pre = 'PetalS1T'\n",
    "\n",
    "with open(CURRENT_MODEL_SAVE_DIR+pre+'0.json', 'r') as fp:\n",
    "    bc0 = np.array(json.load(fp))\n",
    "\n",
    "with open(CURRENT_MODEL_SAVE_DIR+pre+'1.json', 'r') as fp:\n",
    "    bc1 = np.array(json.load(fp))\n",
    "\n",
    "with open(CURRENT_MODEL_SAVE_DIR+pre+'2.json', 'r') as fp:\n",
    "    bc2 = np.array(json.load(fp))\n",
    "\n",
    "with open(CURRENT_MODEL_SAVE_DIR+pre+'3.json', 'r') as fp:\n",
    "    bc3 = np.array(json.load(fp))\n",
    "\n",
    "with open(CURRENT_MODEL_SAVE_DIR+pre+'4.json', 'r') as fp:\n",
    "    bc4 = np.array(json.load(fp))\n",
    "\n",
    "with open(CURRENT_MODEL_SAVE_DIR+pre+'5.json', 'r') as fp:\n",
    "    bc5 = np.array(json.load(fp))\n",
    "\n",
    "with open(CURRENT_MODEL_SAVE_DIR+pre+'6.json', 'r') as fp:\n",
    "    bc6 = np.array(json.load(fp))\n",
    "\n",
    "with open(CURRENT_MODEL_SAVE_DIR+'PetalS0T4.json', 'r') as fp:\n",
    "    S0T4 = np.array(json.load(fp))\n",
    "\n",
    "\n",
    "#appy transforms\n",
    "mult = .12\n",
    "bc = np.stack((bc0,bc1,bc2,bc3,bc4,bc5,bc6), axis=0)*mult\n",
    "\n",
    "bc0.shape,bc.shape, np.min(bc), np.max(bc)\n",
    "# timesteps/petals, morphSteps/batch, crossPoints/inputs, coordinates\n"
   ]
  },
  {
   "cell_type": "code",
   "execution_count": null,
   "metadata": {},
   "outputs": [],
   "source": []
  },
  {
   "cell_type": "code",
   "execution_count": 7,
   "metadata": {},
   "outputs": [
    {
     "data": {
      "text/plain": [
       "((7, 7, 3),\n",
       " (7, 21),\n",
       " (7, 21),\n",
       " (7, 7, 21),\n",
       " -0.7742119216918945,\n",
       " 1.0778927993774414)"
      ]
     },
     "execution_count": 7,
     "metadata": {},
     "output_type": "execute_result"
    }
   ],
   "source": [
    "''' \n",
    "2. Convert Blender xyz tensors to NN tensor format\n",
    "\n",
    "'''\n",
    "nc0= gy.FormatBlenderToNetwork(bc[0], typeList=[], hasTime=0, hasZ=1, numPoints=7)\n",
    "nc1= gy.FormatBlenderToNetwork(bc[1], typeList=[], hasTime=0, hasZ=1, numPoints=7)\n",
    "nc2= gy.FormatBlenderToNetwork(bc[2], typeList=[], hasTime=0, hasZ=1, numPoints=7)\n",
    "nc3= gy.FormatBlenderToNetwork(bc[3], typeList=[], hasTime=0, hasZ=1, numPoints=7)\n",
    "nc4= gy.FormatBlenderToNetwork(bc[4], typeList=[], hasTime=0, hasZ=1, numPoints=7)\n",
    "nc5= gy.FormatBlenderToNetwork(bc[5], typeList=[], hasTime=0, hasZ=1, numPoints=7)\n",
    "nc6= gy.FormatBlenderToNetwork(bc[6], typeList=[], hasTime=0, hasZ=1, numPoints=7)\n",
    "\n",
    "nc = np.stack((nc0,nc1,nc2,nc3,nc4,nc5,nc6), axis=0)\n",
    "\n",
    "bc0.shape, nc0.shape, nc6.shape, nc.shape, np.min(nc), np.max(nc)"
   ]
  },
  {
   "cell_type": "code",
   "execution_count": 8,
   "metadata": {},
   "outputs": [
    {
     "data": {
      "application/vnd.plotly.v1+json": {
       "config": {
        "linkText": "Export to plot.ly",
        "plotlyServerURL": "https://plot.ly",
        "showLink": false
       },
       "data": [
        {
         "line": {
          "shape": "spline"
         },
         "name": "0",
         "type": "scatter",
         "uid": "b7f0ceda-c406-44b1-bac7-b46ac38f741a",
         "x": [
          -1.9190692341908288e-08,
          5.958580411970615e-05,
          2.1315590129233896e-06,
          9.771751065272838e-06,
          8.667659712955354e-06,
          3.49575444124639e-05,
          1.0680663820039625e-09
         ],
         "y": [
          4.77805178888957e-08,
          7.341774646192789e-05,
          2.778819529339671e-05,
          3.187184804119169e-05,
          4.36799309682101e-05,
          4.538069595582783e-05,
          1.5802620012550504e-09
         ]
        },
        {
         "line": {
          "shape": "spline"
         },
         "name": "1",
         "type": "scatter",
         "uid": "ef9eda9a-f3bf-4a16-b089-341d4f6522d0",
         "x": [
          0.009400384426116943,
          0.018020410537719727,
          0.026826753616333007,
          0.031206339597702026,
          0.02764338254928589,
          0.0192482328414917,
          0.010174030065536499
         ],
         "y": [
          0.18949481964111328,
          0.19071112632751464,
          0.1921248435974121,
          0.19290600299835203,
          0.19151687622070312,
          0.19048544883728027,
          0.18827845573425292
         ]
        },
        {
         "line": {
          "shape": "spline"
         },
         "name": "2",
         "type": "scatter",
         "uid": "41c00080-3904-4265-8930-14f925d3f1c4",
         "x": [
          -0.011951665878295898,
          0.005312275886535644,
          0.01846419811248779,
          0.026236259937286375,
          0.01968303680419922,
          0.0037583041191101073,
          -0.010406155586242676
         ],
         "y": [
          0.351328125,
          0.3572420883178711,
          0.3612875461578369,
          0.3623847770690918,
          0.3609334659576416,
          0.3556729602813721,
          0.3506264591217041
         ]
        },
        {
         "line": {
          "shape": "spline"
         },
         "name": "3",
         "type": "scatter",
         "uid": "019ddf30-cd13-444d-b83f-a9bf67807800",
         "x": [
          -0.05973934650421142,
          -0.03614320278167724,
          -0.02149954319000244,
          -0.01317842960357666,
          -0.021099228858947754,
          -0.038411464691162106,
          -0.058033533096313476
         ],
         "y": [
          0.5271399879455566,
          0.5353361892700195,
          0.5398819541931152,
          0.5435963058471679,
          0.5412793350219727,
          0.5356632614135742,
          0.5276412963867188
         ]
        },
        {
         "line": {
          "shape": "spline"
         },
         "name": "4",
         "type": "scatter",
         "uid": "1614f7a0-b198-43c7-82a6-ccfb35d61d40",
         "x": [
          -0.14771830558776855,
          -0.13157466888427735,
          -0.11753159523010254,
          -0.11056208610534668,
          -0.11685449123382569,
          -0.13164776802062989,
          -0.1456501007080078
         ],
         "y": [
          0.6921754646301269,
          0.6990626907348633,
          0.7043070602416992,
          0.7070166778564453,
          0.7050417709350586,
          0.6998537635803223,
          0.6944325256347657
         ]
        },
        {
         "line": {
          "shape": "spline"
         },
         "name": "5",
         "type": "scatter",
         "uid": "6c863863-6f3f-403d-ac85-42b0dafc988d",
         "x": [
          -0.23342087745666504,
          -0.2251600170135498,
          -0.21761844635009764,
          -0.2138561153411865,
          -0.21640774726867676,
          -0.22344823837280273,
          -0.23179826259613037
         ],
         "y": [
          0.8169337463378906,
          0.8197518539428711,
          0.8227095794677735,
          0.8249166870117187,
          0.824088020324707,
          0.8212598991394042,
          0.8185825538635254
         ]
        },
        {
         "line": {
          "shape": "spline"
         },
         "name": "6",
         "type": "scatter",
         "uid": "3bdf8ffb-f874-49cd-83a3-770124dba7ce",
         "x": [
          -0.3385017871856689,
          -0.3379687213897705,
          -0.3375085830688476,
          -0.337280330657959,
          -0.33757264137268067,
          -0.338023567199707,
          -0.3385264492034912
         ],
         "y": [
          0.9304734992980956,
          0.9323785400390625,
          0.9341297149658203,
          0.9352126121520996,
          0.9340836524963378,
          0.9323856925964356,
          0.930487003326416
         ]
        },
        {
         "line": {
          "dash": "2px,6px",
          "shape": "spline"
         },
         "marker": {
          "symbol": "star"
         },
         "name": "7",
         "type": "scatter",
         "uid": "31f4bf7f-caf6-41b8-aced-4ddfc0eb0dcf",
         "x": [
          -1.3275048260652512e-09,
          8.110288297757506e-05,
          1.1507237213663756e-05,
          2.008324780035764e-05,
          2.3084215354174375e-05,
          4.8370216973125935e-05,
          1.1801846966363881e-09
         ],
         "y": [
          5.139842983226117e-08,
          4.8610540106892584e-05,
          2.538331027608365e-05,
          2.6607607724145053e-05,
          3.808122128248215e-05,
          3.068776451982558e-05,
          1.1838351099413556e-09
         ]
        },
        {
         "line": {
          "dash": "2px,6px",
          "shape": "spline"
         },
         "marker": {
          "symbol": "star"
         },
         "name": "8",
         "type": "scatter",
         "uid": "74ac50dc-aab4-439e-8dbd-6a7df5a458e6",
         "x": [
          0.07364450454711914,
          0.08216068267822266,
          0.09091946125030517,
          0.09530208349227905,
          0.09147889852523804,
          0.08323726415634156,
          0.0739554762840271
         ],
         "y": [
          0.1748517608642578,
          0.17304649829864502,
          0.1713630151748657,
          0.1705991506576538,
          0.17051241874694822,
          0.17241448402404785,
          0.17344416618347167
         ]
        },
        {
         "line": {
          "dash": "2px,6px",
          "shape": "spline"
         },
         "marker": {
          "symbol": "star"
         },
         "name": "9",
         "type": "scatter",
         "uid": "71c03b90-1ce1-4d99-88a5-c4ebb38e706a",
         "x": [
          0.10893039464950562,
          0.12717587471008301,
          0.14091825485229492,
          0.14859686851501464,
          0.14194250106811523,
          0.1251789379119873,
          0.1101426887512207
         ],
         "y": [
          0.3342281913757324,
          0.33388083457946777,
          0.333184118270874,
          0.3315569400787353,
          0.3324345302581787,
          0.3329378414154053,
          0.33304018020629883
         ]
        },
        {
         "line": {
          "dash": "2px,6px",
          "shape": "spline"
         },
         "marker": {
          "symbol": "star"
         },
         "name": "10",
         "type": "scatter",
         "uid": "c8e55f85-90ee-461b-ad54-aac475a25aec",
         "x": [
          0.12415582180023194,
          0.1491322088241577,
          0.16444746494293214,
          0.17353716373443603,
          0.16530160903930663,
          0.14711262702941894,
          0.12593021392822265
         ],
         "y": [
          0.5157816696166992,
          0.5154131698608398,
          0.5146763420104981,
          0.5153207588195801,
          0.5158525657653809,
          0.516496353149414,
          0.5156692886352539
         ]
        },
        {
         "line": {
          "dash": "2px,6px",
          "shape": "spline"
         },
         "marker": {
          "symbol": "star"
         },
         "name": "11",
         "type": "scatter",
         "uid": "60165320-6f51-40fa-a939-140f74787f7f",
         "x": [
          0.09792808055877684,
          0.11545371294021606,
          0.13044357776641846,
          0.13791953086853026,
          0.1313311243057251,
          0.11565560102462769,
          0.10064355611801147
         ],
         "y": [
          0.7009547996520996,
          0.701905288696289,
          0.7020303726196289,
          0.7021928215026855,
          0.7024891662597657,
          0.7026736450195312,
          0.7023684310913085
         ]
        },
        {
         "line": {
          "dash": "2px,6px",
          "shape": "spline"
         },
         "marker": {
          "symbol": "star"
         },
         "name": "12",
         "type": "scatter",
         "uid": "a1683cb7-893d-4d77-a6d7-b4c4558f9301",
         "x": [
          0.06006383657455444,
          0.06879034996032715,
          0.07688874006271362,
          0.08117905139923096,
          0.07849789381027221,
          0.07091470956802368,
          0.06215255498886108
         ],
         "y": [
          0.8475012588500976,
          0.847323989868164,
          0.8475240325927734,
          0.8483112144470214,
          0.8484052848815917,
          0.8481556892395019,
          0.8484956932067871
         ]
        },
        {
         "line": {
          "dash": "2px,6px",
          "shape": "spline"
         },
         "marker": {
          "symbol": "star"
         },
         "name": "13",
         "type": "scatter",
         "uid": "3d635597-199a-4a8c-9706-d587be258292",
         "x": [
          0.0001529889553785324,
          0.0013054521381855012,
          0.002336786985397339,
          0.0029216522723436353,
          0.0022608295083045957,
          0.0012563558667898177,
          0.00013442493975162505
         ],
         "y": [
          0.9901335525512694,
          0.9917413330078124,
          0.9932295227050781,
          0.9941690826416015,
          0.9932081222534179,
          0.9917668533325195,
          0.9901546096801758
         ]
        },
        {
         "line": {
          "shape": "spline"
         },
         "name": "14",
         "type": "scatter",
         "uid": "45acdf56-a069-4453-a74f-66207901e9ca",
         "x": [
          -9.125643174456854e-10,
          -3.864494618028402e-05,
          -4.8043025890365244e-05,
          0.00013047832064330578,
          3.638707101345062e-05,
          -0.00013535404577851294,
          9.125643174456854e-10
         ],
         "y": [
          -5.207596487366572e-10,
          6.514838431030512e-05,
          9.948668768629432e-05,
          4.3975627049803735e-05,
          -2.7959069120697674e-06,
          1.566312974318862e-05,
          5.207596487366572e-10
         ]
        },
        {
         "line": {
          "shape": "spline"
         },
         "name": "15",
         "type": "scatter",
         "uid": "5364770b-638b-4e19-9a95-8bc3255a7260",
         "x": [
          0.11571342945098877,
          0.12094549655914306,
          0.12349157810211181,
          0.12560704708099366,
          0.12411415100097656,
          0.121332106590271,
          0.11647509098052979
         ],
         "y": [
          0.12819509983062743,
          0.11517355442047118,
          0.10306408166885375,
          0.09581608057022094,
          0.10315680742263794,
          0.1138154911994934,
          0.12776533126831055
         ]
        },
        {
         "line": {
          "shape": "spline"
         },
         "name": "16",
         "type": "scatter",
         "uid": "99f4bc7d-7f03-4dff-acca-26ed3a4e04d5",
         "x": [
          0.2201949691772461,
          0.22578261852264403,
          0.23143006324768065,
          0.23585472106933592,
          0.23065276622772216,
          0.22523391723632813,
          0.2205289363861084
         ],
         "y": [
          0.25851519584655763,
          0.2393767261505127,
          0.2252827262878418,
          0.2185989189147949,
          0.22534947395324706,
          0.23978887081146238,
          0.260246057510376
         ]
        },
        {
         "line": {
          "shape": "spline"
         },
         "name": "17",
         "type": "scatter",
         "uid": "2df49b23-67a7-476c-b98e-1c2249375a0f",
         "x": [
          0.3111105537414551,
          0.3283528804779053,
          0.34467799186706544,
          0.35863849639892575,
          0.34349604606628414,
          0.3296198272705078,
          0.3121814918518066
         ],
         "y": [
          0.4181774997711181,
          0.4035983848571777,
          0.3894650459289551,
          0.38023959159851073,
          0.38978267669677735,
          0.4024185276031494,
          0.4151188087463379
         ]
        },
        {
         "line": {
          "shape": "spline"
         },
         "name": "18",
         "type": "scatter",
         "uid": "286a058e-8db6-487b-ad84-bb9a8c6f6d57",
         "x": [
          0.3757527637481689,
          0.3936375045776367,
          0.41458248138427733,
          0.4321112251281738,
          0.414515962600708,
          0.39372385025024415,
          0.3740763473510742
         ],
         "y": [
          0.5564656448364258,
          0.5462310218811035,
          0.5335837554931641,
          0.5232563209533692,
          0.5336952209472656,
          0.5463854598999023,
          0.557501277923584
         ]
        },
        {
         "line": {
          "shape": "spline"
         },
         "name": "19",
         "type": "scatter",
         "uid": "bf68486a-34bb-4e6c-a263-8e1769fe35dd",
         "x": [
          0.44728497505187986,
          0.47195179939270016,
          0.4952292251586914,
          0.515504264831543,
          0.4953064727783203,
          0.4724527645111084,
          0.44670310020446774
         ],
         "y": [
          0.7246808624267578,
          0.7294769668579101,
          0.7300953483581543,
          0.7288388442993163,
          0.7302013206481933,
          0.7304633331298828,
          0.7237072563171386
         ]
        },
        {
         "line": {
          "shape": "spline"
         },
         "name": "20",
         "type": "scatter",
         "uid": "28425da9-b12e-40a8-8104-48e8a710e94e",
         "x": [
          0.46703847885131833,
          0.4904494857788086,
          0.5133968353271484,
          0.5234438896179199,
          0.5130540275573731,
          0.4901838684082031,
          0.47129513740539547
         ],
         "y": [
          0.8365264892578125,
          0.858552017211914,
          0.8780657958984375,
          0.8817969131469726,
          0.8770806312561035,
          0.8570063209533691,
          0.8362810134887695
         ]
        },
        {
         "line": {
          "dash": "2px,6px",
          "shape": "spline"
         },
         "marker": {
          "symbol": "star"
         },
         "name": "21",
         "type": "scatter",
         "uid": "2a9ad19b-1f85-4623-99bc-e43f79980956",
         "x": [
          -5.990894713647777e-10,
          3.4895979333668946e-05,
          -3.580488846637308e-05,
          -2.2452150005847216e-05,
          1.4875122578814626e-05,
          -1.243929611518979e-05,
          5.990894713647777e-10
         ],
         "y": [
          -1.4757014277222424e-10,
          8.192142995540053e-06,
          -2.198801783379167e-05,
          -8.885084534995258e-06,
          2.535821695346385e-06,
          -1.1814826866611838e-05,
          1.4757014277222424e-10
         ]
        },
        {
         "line": {
          "dash": "2px,6px",
          "shape": "spline"
         },
         "marker": {
          "symbol": "star"
         },
         "name": "22",
         "type": "scatter",
         "uid": "e55eed52-55f4-488c-8518-b8eb645e1192",
         "x": [
          0.1543745470046997,
          0.15229976177215576,
          0.1521937894821167,
          0.15226717472076415,
          0.15210690021514892,
          0.15286584377288817,
          0.15408874511718748
         ],
         "y": [
          0.06983430862426758,
          0.057848389148712154,
          0.04461626887321472,
          0.03727813124656677,
          0.04501967310905457,
          0.05761107444763183,
          0.06944862127304077
         ]
        },
        {
         "line": {
          "dash": "2px,6px",
          "shape": "spline"
         },
         "marker": {
          "symbol": "star"
         },
         "name": "23",
         "type": "scatter",
         "uid": "b9175df3-9358-466c-9cc7-32e4f89f5097",
         "x": [
          0.33354246139526367,
          0.32480770111083984,
          0.32439459800720216,
          0.32753505706787106,
          0.32424599647521973,
          0.32559308052062985,
          0.3328997611999512
         ],
         "y": [
          0.1582446527481079,
          0.12874207019805908,
          0.10767226696014404,
          0.09433404922485351,
          0.10695480108261109,
          0.12877527236938477,
          0.15739748954772947
         ]
        },
        {
         "line": {
          "dash": "2px,6px",
          "shape": "spline"
         },
         "marker": {
          "symbol": "star"
         },
         "name": "24",
         "type": "scatter",
         "uid": "06a312a9-fa14-4a04-87c9-a63c49ab3e89",
         "x": [
          0.4994563865661621,
          0.49731748580932617,
          0.5097337532043457,
          0.5222148513793945,
          0.5108392524719239,
          0.4989965629577637,
          0.4986440277099609
         ],
         "y": [
          0.25622915267944335,
          0.22147732257843017,
          0.19974184513092041,
          0.17616230964660645,
          0.19594963073730468,
          0.22424533367156982,
          0.255950288772583
         ]
        },
        {
         "line": {
          "dash": "2px,6px",
          "shape": "spline"
         },
         "marker": {
          "symbol": "star"
         },
         "name": "25",
         "type": "scatter",
         "uid": "5b279ffd-c23e-4bd7-aabd-3f3d1fab1f6f",
         "x": [
          0.6575027847290039,
          0.6802191925048828,
          0.7025470161437988,
          0.7189005661010742,
          0.7054185676574707,
          0.6828469276428223,
          0.6598365211486816
         ],
         "y": [
          0.3663349342346191,
          0.3516504192352295,
          0.31844100952148435,
          0.29282232284545895,
          0.3193624019622803,
          0.35297006607055664,
          0.36651183128356934
         ]
        },
        {
         "line": {
          "dash": "2px,6px",
          "shape": "spline"
         },
         "marker": {
          "symbol": "star"
         },
         "name": "26",
         "type": "scatter",
         "uid": "58a882c9-ede8-47bc-99ba-4fb55ea90aae",
         "x": [
          0.7880037117004394,
          0.8138543701171874,
          0.8434281349182129,
          0.8619066810607909,
          0.8433703994750976,
          0.8152641677856445,
          0.7928486251831054
         ],
         "y": [
          0.4510516262054443,
          0.4423399543762207,
          0.42456593513488766,
          0.40381030082702635,
          0.42314303398132325,
          0.4412635803222656,
          0.4498894786834717
         ]
        },
        {
         "line": {
          "dash": "2px,6px",
          "shape": "spline"
         },
         "marker": {
          "symbol": "star"
         },
         "name": "27",
         "type": "scatter",
         "uid": "d380fb53-705c-4b0f-b424-0538173c9e90",
         "x": [
          0.8675835227966309,
          0.8982775497436523,
          0.9242815017700194,
          0.9466250610351562,
          0.9270495986938476,
          0.8999380302429199,
          0.8791883468627929
         ],
         "y": [
          0.49515913009643553,
          0.5010836791992187,
          0.5027295112609863,
          0.5020579719543456,
          0.5033259201049805,
          0.5013550758361817,
          0.49980783462524414
         ]
        },
        {
         "line": {
          "shape": "spline"
         },
         "name": "28",
         "type": "scatter",
         "uid": "9b28dceb-6d68-4894-a8db-7ab19200c847",
         "x": [
          -1.1175869563118112e-10,
          2.2981592919677496e-05,
          -9.953553671948612e-06,
          2.487658231984824e-05,
          -1.995355531107634e-05,
          -1.0544893448241054e-05,
          -7.025630077706068e-18
         ],
         "y": [
          -2.0816681711721684e-18,
          7.176172512117773e-06,
          -5.760875501437112e-07,
          5.315559828886762e-06,
          2.815499436110258e-05,
          4.674193623941392e-06,
          1.6653345369377347e-18
         ]
        },
        {
         "line": {
          "shape": "spline"
         },
         "name": "29",
         "type": "scatter",
         "uid": "52c0d5d1-660a-465d-a4e8-8ef3585914f6",
         "x": [
          0.1789039707183838,
          0.17094202995300292,
          0.16314642906188964,
          0.1607898187637329,
          0.16335641384124755,
          0.17061574459075926,
          0.1775103521347046
         ],
         "y": [
          0.011369402110576628,
          -0.00022047758102416992,
          -0.012482699453830718,
          -0.017595856189727782,
          -0.011520100235939025,
          -0.0015806865692138672,
          0.011696548461914062
         ]
        },
        {
         "line": {
          "shape": "spline"
         },
         "name": "30",
         "type": "scatter",
         "uid": "324df6a0-9044-4ab7-a948-a4acd213f173",
         "x": [
          0.36004809379577635,
          0.3527102279663086,
          0.3421183204650879,
          0.33976630210876463,
          0.3425786018371582,
          0.35264150619506834,
          0.3613461685180664
         ],
         "y": [
          0.029079768061637878,
          0.0077077665925025934,
          -0.019123123884201048,
          -0.027885689735412597,
          -0.01950038194656372,
          0.009424884617328643,
          0.0302996563911438
         ]
        },
        {
         "line": {
          "shape": "spline"
         },
         "name": "31",
         "type": "scatter",
         "uid": "faac1c30-f086-40b2-bc3e-152f93a3c4fd",
         "x": [
          0.5538709831237792,
          0.551773681640625,
          0.5456482887268066,
          0.5401831054687499,
          0.5447724723815918,
          0.5514159965515136,
          0.5529959106445312
         ],
         "y": [
          0.039500448703765866,
          -0.001870790719985962,
          -0.02955999255180359,
          -0.042468209266662595,
          -0.027941302657127378,
          0.003179839253425598,
          0.03366076469421386
         ]
        },
        {
         "line": {
          "shape": "spline"
         },
         "name": "32",
         "type": "scatter",
         "uid": "2228c9eb-b8fe-4666-ac5b-f9c01431655d",
         "x": [
          0.7155344009399414,
          0.7358662033081055,
          0.7535442352294922,
          0.7592107200622559,
          0.7543190002441406,
          0.736937026977539,
          0.7156243515014649
         ],
         "y": [
          0.02831460356712341,
          -0.008195702433586121,
          -0.037942918539047236,
          -0.05199397802352905,
          -0.03781681537628174,
          -0.0070205068588256835,
          0.028029372096061704
         ]
        },
        {
         "line": {
          "shape": "spline"
         },
         "name": "33",
         "type": "scatter",
         "uid": "9fe68bef-8246-4767-85f2-9e1c5352d501",
         "x": [
          0.889320888519287,
          0.9164555168151856,
          0.9344028282165527,
          0.9408776664733887,
          0.9349308013916016,
          0.9168106269836426,
          0.8884770584106445
         ],
         "y": [
          0.008636273145675659,
          -0.0216598516702652,
          -0.04140409469604492,
          -0.05611832857131958,
          -0.04154374837875366,
          -0.021582841873168945,
          0.010417288541793824
         ]
        },
        {
         "line": {
          "shape": "spline"
         },
         "name": "34",
         "type": "scatter",
         "uid": "1012bb6b-3678-456c-864d-54ecaba6f7e6",
         "x": [
          1.018707160949707,
          1.0468878936767578,
          1.0691974639892579,
          1.0778927993774414,
          1.0685313034057617,
          1.0461304092407226,
          1.0178421020507813
         ],
         "y": [
          -0.01849047303199768,
          -0.02780770182609558,
          -0.03609468340873718,
          -0.04279961228370666,
          -0.03613941550254822,
          -0.028337289690971372,
          -0.02156805396080017
         ]
        },
        {
         "line": {
          "shape": "spline"
         },
         "name": "35",
         "type": "scatter",
         "uid": "b5980f6c-3370-41ac-8957-2c14689b4b1a",
         "x": [
          6.984679501442769e-12,
          0.00011222168337553739,
          0.00151271503418684,
          0.00020533340983092783,
          0.0013693777844309806,
          -0.00046004491858184335,
          1.3970371526283998e-11
         ],
         "y": [
          1.0658141036401502e-16,
          -0.00018459486309438944,
          5.367530509829521e-05,
          0.0004542556498199701,
          6.520533934235573e-05,
          -0.00037031935527920723,
          -2.6645352591003756e-16
         ]
        },
        {
         "line": {
          "shape": "spline"
         },
         "name": "36",
         "type": "scatter",
         "uid": "20df0a9e-9cf1-46c6-9d69-360a4fcf0ce8",
         "x": [
          0.17768657684326172,
          0.15980860233306884,
          0.15356892585754395,
          0.15167687416076658,
          0.15435944080352781,
          0.15906744003295897,
          0.17844377517700194
         ],
         "y": [
          -0.0491310703754425,
          -0.06153126239776611,
          -0.06849678039550781,
          -0.07198014020919799,
          -0.06787946462631225,
          -0.06161625623703003,
          -0.04902928590774536
         ]
        },
        {
         "line": {
          "shape": "spline"
         },
         "name": "37",
         "type": "scatter",
         "uid": "dc38277c-7639-48cd-b1c4-2ffa2a9ca2bf",
         "x": [
          0.34645628929138184,
          0.3178866863250732,
          0.3096565246582031,
          0.3045534896850586,
          0.3102321910858154,
          0.31855155944824215,
          0.3446543312072754
         ],
         "y": [
          -0.0999577260017395,
          -0.13287261486053467,
          -0.14455119609832764,
          -0.1521291446685791,
          -0.14344651222229005,
          -0.1327233409881592,
          -0.10172456502914429
         ]
        },
        {
         "line": {
          "shape": "spline"
         },
         "name": "38",
         "type": "scatter",
         "uid": "db3d0c88-c601-4e88-b119-220fbbb48522",
         "x": [
          0.5366039657592774,
          0.4936958885192871,
          0.4800632858276367,
          0.4709876918792724,
          0.48162586212158204,
          0.49573957443237304,
          0.5371923637390137
         ],
         "y": [
          -0.17874741554260254,
          -0.24027660369873047,
          -0.256399040222168,
          -0.26292380332946774,
          -0.2568801498413086,
          -0.23657328128814697,
          -0.1769307518005371
         ]
        },
        {
         "line": {
          "shape": "spline"
         },
         "name": "39",
         "type": "scatter",
         "uid": "69369818-6724-40fd-9fb3-4b5d4382cf3e",
         "x": [
          0.6656925773620606,
          0.6598402976989746,
          0.6583704185485839,
          0.6546423912048339,
          0.6566436195373535,
          0.6612569046020508,
          0.6646425247192382
         ],
         "y": [
          -0.24994139671325682,
          -0.3247704219818115,
          -0.3454910087585449,
          -0.3581351852416992,
          -0.3452591514587402,
          -0.318720760345459,
          -0.2509503078460693
         ]
        },
        {
         "line": {
          "shape": "spline"
         },
         "name": "40",
         "type": "scatter",
         "uid": "48382dec-97a2-4f8e-ae6f-fba5355c7ef0",
         "x": [
          0.7885799217224121,
          0.8085819053649902,
          0.8151550483703613,
          0.8221077346801757,
          0.8145563507080078,
          0.8083484458923339,
          0.7867124176025391
         ],
         "y": [
          -0.3438272094726562,
          -0.3918009853363037,
          -0.41044381141662595,
          -0.4277042770385742,
          -0.41253559112548827,
          -0.39023666381835936,
          -0.3425374889373779
         ]
        },
        {
         "line": {
          "shape": "spline"
         },
         "name": "41",
         "type": "scatter",
         "uid": "58e9eba4-2658-4f47-9d44-6a302014563e",
         "x": [
          0.8757915687561035,
          0.9192784881591797,
          0.9495217323303222,
          0.9703876876831055,
          0.9507852745056152,
          0.9207074546813965,
          0.8766744232177734
         ],
         "y": [
          -0.40878682136535643,
          -0.4391477680206299,
          -0.4578735637664795,
          -0.4707069110870361,
          -0.458274450302124,
          -0.43907278060913085,
          -0.4092431831359863
         ]
        },
        {
         "line": {
          "shape": "spline"
         },
         "name": "42",
         "type": "scatter",
         "uid": "b5473c5c-23d2-433f-bd17-0c148bfb0c5e",
         "x": [
          2.763769799685178e-09,
          4.232039675116539e-05,
          0.0014398460090160369,
          0.0003483148757368326,
          0.0013090950250625609,
          -0.0005589591152966023,
          -2.744078670957606e-09
         ],
         "y": [
          -4.885582072233774e-10,
          -0.00021184480749070645,
          -0.00046694079414010047,
          0.00035663251765072346,
          -0.00040708173997700215,
          -0.00019064148422330617,
          4.813909804113336e-10
         ]
        },
        {
         "line": {
          "shape": "spline"
         },
         "name": "43",
         "type": "scatter",
         "uid": "0b349ad0-a3b8-4f21-ba51-37accde75a8f",
         "x": [
          0.1501669692993164,
          0.12912604808807374,
          0.12088030815124512,
          0.11791098117828369,
          0.12183428764343261,
          0.12840049266815184,
          0.15091328144073485
         ],
         "y": [
          -0.10694050312042236,
          -0.11247824192047119,
          -0.11688957452774047,
          -0.11951575756072998,
          -0.11657986879348754,
          -0.1123046064376831,
          -0.10710381746292114
         ]
        },
        {
         "line": {
          "shape": "spline"
         },
         "name": "44",
         "type": "scatter",
         "uid": "4a6ecee1-0b39-492b-87dc-fcacdac8c553",
         "x": [
          0.29137487411499025,
          0.2532706832885742,
          0.24154254913330078,
          0.23415544509887695,
          0.24246130943298339,
          0.2539464855194092,
          0.2890772438049316
         ],
         "y": [
          -0.21242457389831543,
          -0.233583083152771,
          -0.24174247741699217,
          -0.24711808204650879,
          -0.24090130805969237,
          -0.23367018699645994,
          -0.21346856117248533
         ]
        },
        {
         "line": {
          "shape": "spline"
         },
         "name": "45",
         "type": "scatter",
         "uid": "0aa3dfd9-891e-4c3c-8369-4f219eaa6f83",
         "x": [
          0.4431075954437256,
          0.3817429161071777,
          0.36341826438903807,
          0.3526584720611572,
          0.364722089767456,
          0.3849299812316894,
          0.44428181648254395
         ],
         "y": [
          -0.35149701118469234,
          -0.39464009284973145,
          -0.4051276016235351,
          -0.4081548500061035,
          -0.40611413955688475,
          -0.3918590927124023,
          -0.34999116897583005
         ]
        },
        {
         "line": {
          "shape": "spline"
         },
         "name": "46",
         "type": "scatter",
         "uid": "c9de6d63-6220-4894-b3c3-b58e2fa35f27",
         "x": [
          0.5400614547729492,
          0.5089690017700195,
          0.5005009460449219,
          0.49267324447631833,
          0.4989575958251953,
          0.512369327545166,
          0.5387295913696288
         ],
         "y": [
          -0.4625483894348144,
          -0.530863037109375,
          -0.5498313331604003,
          -0.5604378890991211,
          -0.5490228652954101,
          -0.525662727355957,
          -0.46313727378845215
         ]
        },
        {
         "line": {
          "shape": "spline"
         },
         "name": "47",
         "type": "scatter",
         "uid": "ceb8e377-5887-4a75-9b38-6ba40ef55332",
         "x": [
          0.6234268569946289,
          0.6258146095275878,
          0.6256151390075684,
          0.6262450790405273,
          0.6243371200561523,
          0.6261302375793457,
          0.6221131896972656
         ],
         "y": [
          -0.5928020668029785,
          -0.6447237968444824,
          -0.6644904899597168,
          -0.6830879974365234,
          -0.6662513351440429,
          -0.6431739807128906,
          -0.5909514427185059
         ]
        },
        {
         "line": {
          "shape": "spline"
         },
         "name": "48",
         "type": "scatter",
         "uid": "c763a450-cc1c-47f4-b0d3-b2f0f1a8749c",
         "x": [
          0.6831615257263184,
          0.7136418342590332,
          0.7356565475463867,
          0.7508748435974121,
          0.7367068290710449,
          0.7150102615356445,
          0.6838350677490234
         ],
         "y": [
          -0.6836723899841308,
          -0.7270757102966309,
          -0.7550159454345703,
          -0.7742119216918945,
          -0.7558248710632324,
          -0.7274939918518066,
          -0.6844031524658203
         ]
        }
       ],
       "layout": {
        "height": 600,
        "hovermode": "closest",
        "title": {
         "text": "Blender generated curves XZ Front View"
        },
        "width": 600,
        "xaxis": {
         "range": [
          -0.4,
          1.3
         ],
         "title": {
          "text": "X"
         }
        },
        "yaxis": {
         "range": [
          -0.6,
          1.2
         ],
         "title": {
          "text": "Y"
         }
        }
       }
      },
      "text/html": [
       "<div id=\"3fcb1c3a-900d-4961-8953-41b5b767f53e\" style=\"height: 600px; width: 600px;\" class=\"plotly-graph-div\"></div><script type=\"text/javascript\">require([\"plotly\"], function(Plotly) { window.PLOTLYENV=window.PLOTLYENV || {};window.PLOTLYENV.BASE_URL=\"https://plot.ly\";Plotly.newPlot(\"3fcb1c3a-900d-4961-8953-41b5b767f53e\", [{\"line\": {\"shape\": \"spline\"}, \"name\": \"0\", \"x\": [-1.9190692341908288e-08, 5.958580411970615e-05, 2.1315590129233896e-06, 9.771751065272838e-06, 8.667659712955354e-06, 3.49575444124639e-05, 1.0680663820039625e-09], \"y\": [4.77805178888957e-08, 7.341774646192789e-05, 2.778819529339671e-05, 3.187184804119169e-05, 4.36799309682101e-05, 4.538069595582783e-05, 1.5802620012550504e-09], \"type\": \"scatter\", \"uid\": \"b7f0ceda-c406-44b1-bac7-b46ac38f741a\"}, {\"line\": {\"shape\": \"spline\"}, \"name\": \"1\", \"x\": [0.009400384426116943, 0.018020410537719727, 0.026826753616333007, 0.031206339597702026, 0.02764338254928589, 0.0192482328414917, 0.010174030065536499], \"y\": [0.18949481964111328, 0.19071112632751464, 0.1921248435974121, 0.19290600299835203, 0.19151687622070312, 0.19048544883728027, 0.18827845573425292], \"type\": \"scatter\", \"uid\": \"ef9eda9a-f3bf-4a16-b089-341d4f6522d0\"}, {\"line\": {\"shape\": \"spline\"}, \"name\": \"2\", \"x\": [-0.011951665878295898, 0.005312275886535644, 0.01846419811248779, 0.026236259937286375, 0.01968303680419922, 0.0037583041191101073, -0.010406155586242676], \"y\": [0.351328125, 0.3572420883178711, 0.3612875461578369, 0.3623847770690918, 0.3609334659576416, 0.3556729602813721, 0.3506264591217041], \"type\": \"scatter\", \"uid\": \"41c00080-3904-4265-8930-14f925d3f1c4\"}, {\"line\": {\"shape\": \"spline\"}, \"name\": \"3\", \"x\": [-0.05973934650421142, -0.03614320278167724, -0.02149954319000244, -0.01317842960357666, -0.021099228858947754, -0.038411464691162106, -0.058033533096313476], \"y\": [0.5271399879455566, 0.5353361892700195, 0.5398819541931152, 0.5435963058471679, 0.5412793350219727, 0.5356632614135742, 0.5276412963867188], \"type\": \"scatter\", \"uid\": \"019ddf30-cd13-444d-b83f-a9bf67807800\"}, {\"line\": {\"shape\": \"spline\"}, \"name\": \"4\", \"x\": [-0.14771830558776855, -0.13157466888427735, -0.11753159523010254, -0.11056208610534668, -0.11685449123382569, -0.13164776802062989, -0.1456501007080078], \"y\": [0.6921754646301269, 0.6990626907348633, 0.7043070602416992, 0.7070166778564453, 0.7050417709350586, 0.6998537635803223, 0.6944325256347657], \"type\": \"scatter\", \"uid\": \"1614f7a0-b198-43c7-82a6-ccfb35d61d40\"}, {\"line\": {\"shape\": \"spline\"}, \"name\": \"5\", \"x\": [-0.23342087745666504, -0.2251600170135498, -0.21761844635009764, -0.2138561153411865, -0.21640774726867676, -0.22344823837280273, -0.23179826259613037], \"y\": [0.8169337463378906, 0.8197518539428711, 0.8227095794677735, 0.8249166870117187, 0.824088020324707, 0.8212598991394042, 0.8185825538635254], \"type\": \"scatter\", \"uid\": \"6c863863-6f3f-403d-ac85-42b0dafc988d\"}, {\"line\": {\"shape\": \"spline\"}, \"name\": \"6\", \"x\": [-0.3385017871856689, -0.3379687213897705, -0.3375085830688476, -0.337280330657959, -0.33757264137268067, -0.338023567199707, -0.3385264492034912], \"y\": [0.9304734992980956, 0.9323785400390625, 0.9341297149658203, 0.9352126121520996, 0.9340836524963378, 0.9323856925964356, 0.930487003326416], \"type\": \"scatter\", \"uid\": \"3bdf8ffb-f874-49cd-83a3-770124dba7ce\"}, {\"line\": {\"dash\": \"2px,6px\", \"shape\": \"spline\"}, \"marker\": {\"symbol\": \"star\"}, \"name\": \"7\", \"x\": [-1.3275048260652512e-09, 8.110288297757506e-05, 1.1507237213663756e-05, 2.008324780035764e-05, 2.3084215354174375e-05, 4.8370216973125935e-05, 1.1801846966363881e-09], \"y\": [5.139842983226117e-08, 4.8610540106892584e-05, 2.538331027608365e-05, 2.6607607724145053e-05, 3.808122128248215e-05, 3.068776451982558e-05, 1.1838351099413556e-09], \"type\": \"scatter\", \"uid\": \"31f4bf7f-caf6-41b8-aced-4ddfc0eb0dcf\"}, {\"line\": {\"dash\": \"2px,6px\", \"shape\": \"spline\"}, \"marker\": {\"symbol\": \"star\"}, \"name\": \"8\", \"x\": [0.07364450454711914, 0.08216068267822266, 0.09091946125030517, 0.09530208349227905, 0.09147889852523804, 0.08323726415634156, 0.0739554762840271], \"y\": [0.1748517608642578, 0.17304649829864502, 0.1713630151748657, 0.1705991506576538, 0.17051241874694822, 0.17241448402404785, 0.17344416618347167], \"type\": \"scatter\", \"uid\": \"74ac50dc-aab4-439e-8dbd-6a7df5a458e6\"}, {\"line\": {\"dash\": \"2px,6px\", \"shape\": \"spline\"}, \"marker\": {\"symbol\": \"star\"}, \"name\": \"9\", \"x\": [0.10893039464950562, 0.12717587471008301, 0.14091825485229492, 0.14859686851501464, 0.14194250106811523, 0.1251789379119873, 0.1101426887512207], \"y\": [0.3342281913757324, 0.33388083457946777, 0.333184118270874, 0.3315569400787353, 0.3324345302581787, 0.3329378414154053, 0.33304018020629883], \"type\": \"scatter\", \"uid\": \"71c03b90-1ce1-4d99-88a5-c4ebb38e706a\"}, {\"line\": {\"dash\": \"2px,6px\", \"shape\": \"spline\"}, \"marker\": {\"symbol\": \"star\"}, \"name\": \"10\", \"x\": [0.12415582180023194, 0.1491322088241577, 0.16444746494293214, 0.17353716373443603, 0.16530160903930663, 0.14711262702941894, 0.12593021392822265], \"y\": [0.5157816696166992, 0.5154131698608398, 0.5146763420104981, 0.5153207588195801, 0.5158525657653809, 0.516496353149414, 0.5156692886352539], \"type\": \"scatter\", \"uid\": \"c8e55f85-90ee-461b-ad54-aac475a25aec\"}, {\"line\": {\"dash\": \"2px,6px\", \"shape\": \"spline\"}, \"marker\": {\"symbol\": \"star\"}, \"name\": \"11\", \"x\": [0.09792808055877684, 0.11545371294021606, 0.13044357776641846, 0.13791953086853026, 0.1313311243057251, 0.11565560102462769, 0.10064355611801147], \"y\": [0.7009547996520996, 0.701905288696289, 0.7020303726196289, 0.7021928215026855, 0.7024891662597657, 0.7026736450195312, 0.7023684310913085], \"type\": \"scatter\", \"uid\": \"60165320-6f51-40fa-a939-140f74787f7f\"}, {\"line\": {\"dash\": \"2px,6px\", \"shape\": \"spline\"}, \"marker\": {\"symbol\": \"star\"}, \"name\": \"12\", \"x\": [0.06006383657455444, 0.06879034996032715, 0.07688874006271362, 0.08117905139923096, 0.07849789381027221, 0.07091470956802368, 0.06215255498886108], \"y\": [0.8475012588500976, 0.847323989868164, 0.8475240325927734, 0.8483112144470214, 0.8484052848815917, 0.8481556892395019, 0.8484956932067871], \"type\": \"scatter\", \"uid\": \"a1683cb7-893d-4d77-a6d7-b4c4558f9301\"}, {\"line\": {\"dash\": \"2px,6px\", \"shape\": \"spline\"}, \"marker\": {\"symbol\": \"star\"}, \"name\": \"13\", \"x\": [0.0001529889553785324, 0.0013054521381855012, 0.002336786985397339, 0.0029216522723436353, 0.0022608295083045957, 0.0012563558667898177, 0.00013442493975162505], \"y\": [0.9901335525512694, 0.9917413330078124, 0.9932295227050781, 0.9941690826416015, 0.9932081222534179, 0.9917668533325195, 0.9901546096801758], \"type\": \"scatter\", \"uid\": \"3d635597-199a-4a8c-9706-d587be258292\"}, {\"line\": {\"shape\": \"spline\"}, \"name\": \"14\", \"x\": [-9.125643174456854e-10, -3.864494618028402e-05, -4.8043025890365244e-05, 0.00013047832064330578, 3.638707101345062e-05, -0.00013535404577851294, 9.125643174456854e-10], \"y\": [-5.207596487366572e-10, 6.514838431030512e-05, 9.948668768629432e-05, 4.3975627049803735e-05, -2.7959069120697674e-06, 1.566312974318862e-05, 5.207596487366572e-10], \"type\": \"scatter\", \"uid\": \"45acdf56-a069-4453-a74f-66207901e9ca\"}, {\"line\": {\"shape\": \"spline\"}, \"name\": \"15\", \"x\": [0.11571342945098877, 0.12094549655914306, 0.12349157810211181, 0.12560704708099366, 0.12411415100097656, 0.121332106590271, 0.11647509098052979], \"y\": [0.12819509983062743, 0.11517355442047118, 0.10306408166885375, 0.09581608057022094, 0.10315680742263794, 0.1138154911994934, 0.12776533126831055], \"type\": \"scatter\", \"uid\": \"5364770b-638b-4e19-9a95-8bc3255a7260\"}, {\"line\": {\"shape\": \"spline\"}, \"name\": \"16\", \"x\": [0.2201949691772461, 0.22578261852264403, 0.23143006324768065, 0.23585472106933592, 0.23065276622772216, 0.22523391723632813, 0.2205289363861084], \"y\": [0.25851519584655763, 0.2393767261505127, 0.2252827262878418, 0.2185989189147949, 0.22534947395324706, 0.23978887081146238, 0.260246057510376], \"type\": \"scatter\", \"uid\": \"99f4bc7d-7f03-4dff-acca-26ed3a4e04d5\"}, {\"line\": {\"shape\": \"spline\"}, \"name\": \"17\", \"x\": [0.3111105537414551, 0.3283528804779053, 0.34467799186706544, 0.35863849639892575, 0.34349604606628414, 0.3296198272705078, 0.3121814918518066], \"y\": [0.4181774997711181, 0.4035983848571777, 0.3894650459289551, 0.38023959159851073, 0.38978267669677735, 0.4024185276031494, 0.4151188087463379], \"type\": \"scatter\", \"uid\": \"2df49b23-67a7-476c-b98e-1c2249375a0f\"}, {\"line\": {\"shape\": \"spline\"}, \"name\": \"18\", \"x\": [0.3757527637481689, 0.3936375045776367, 0.41458248138427733, 0.4321112251281738, 0.414515962600708, 0.39372385025024415, 0.3740763473510742], \"y\": [0.5564656448364258, 0.5462310218811035, 0.5335837554931641, 0.5232563209533692, 0.5336952209472656, 0.5463854598999023, 0.557501277923584], \"type\": \"scatter\", \"uid\": \"286a058e-8db6-487b-ad84-bb9a8c6f6d57\"}, {\"line\": {\"shape\": \"spline\"}, \"name\": \"19\", \"x\": [0.44728497505187986, 0.47195179939270016, 0.4952292251586914, 0.515504264831543, 0.4953064727783203, 0.4724527645111084, 0.44670310020446774], \"y\": [0.7246808624267578, 0.7294769668579101, 0.7300953483581543, 0.7288388442993163, 0.7302013206481933, 0.7304633331298828, 0.7237072563171386], \"type\": \"scatter\", \"uid\": \"bf68486a-34bb-4e6c-a263-8e1769fe35dd\"}, {\"line\": {\"shape\": \"spline\"}, \"name\": \"20\", \"x\": [0.46703847885131833, 0.4904494857788086, 0.5133968353271484, 0.5234438896179199, 0.5130540275573731, 0.4901838684082031, 0.47129513740539547], \"y\": [0.8365264892578125, 0.858552017211914, 0.8780657958984375, 0.8817969131469726, 0.8770806312561035, 0.8570063209533691, 0.8362810134887695], \"type\": \"scatter\", \"uid\": \"28425da9-b12e-40a8-8104-48e8a710e94e\"}, {\"line\": {\"dash\": \"2px,6px\", \"shape\": \"spline\"}, \"marker\": {\"symbol\": \"star\"}, \"name\": \"21\", \"x\": [-5.990894713647777e-10, 3.4895979333668946e-05, -3.580488846637308e-05, -2.2452150005847216e-05, 1.4875122578814626e-05, -1.243929611518979e-05, 5.990894713647777e-10], \"y\": [-1.4757014277222424e-10, 8.192142995540053e-06, -2.198801783379167e-05, -8.885084534995258e-06, 2.535821695346385e-06, -1.1814826866611838e-05, 1.4757014277222424e-10], \"type\": \"scatter\", \"uid\": \"2a9ad19b-1f85-4623-99bc-e43f79980956\"}, {\"line\": {\"dash\": \"2px,6px\", \"shape\": \"spline\"}, \"marker\": {\"symbol\": \"star\"}, \"name\": \"22\", \"x\": [0.1543745470046997, 0.15229976177215576, 0.1521937894821167, 0.15226717472076415, 0.15210690021514892, 0.15286584377288817, 0.15408874511718748], \"y\": [0.06983430862426758, 0.057848389148712154, 0.04461626887321472, 0.03727813124656677, 0.04501967310905457, 0.05761107444763183, 0.06944862127304077], \"type\": \"scatter\", \"uid\": \"e55eed52-55f4-488c-8518-b8eb645e1192\"}, {\"line\": {\"dash\": \"2px,6px\", \"shape\": \"spline\"}, \"marker\": {\"symbol\": \"star\"}, \"name\": \"23\", \"x\": [0.33354246139526367, 0.32480770111083984, 0.32439459800720216, 0.32753505706787106, 0.32424599647521973, 0.32559308052062985, 0.3328997611999512], \"y\": [0.1582446527481079, 0.12874207019805908, 0.10767226696014404, 0.09433404922485351, 0.10695480108261109, 0.12877527236938477, 0.15739748954772947], \"type\": \"scatter\", \"uid\": \"b9175df3-9358-466c-9cc7-32e4f89f5097\"}, {\"line\": {\"dash\": \"2px,6px\", \"shape\": \"spline\"}, \"marker\": {\"symbol\": \"star\"}, \"name\": \"24\", \"x\": [0.4994563865661621, 0.49731748580932617, 0.5097337532043457, 0.5222148513793945, 0.5108392524719239, 0.4989965629577637, 0.4986440277099609], \"y\": [0.25622915267944335, 0.22147732257843017, 0.19974184513092041, 0.17616230964660645, 0.19594963073730468, 0.22424533367156982, 0.255950288772583], \"type\": \"scatter\", \"uid\": \"06a312a9-fa14-4a04-87c9-a63c49ab3e89\"}, {\"line\": {\"dash\": \"2px,6px\", \"shape\": \"spline\"}, \"marker\": {\"symbol\": \"star\"}, \"name\": \"25\", \"x\": [0.6575027847290039, 0.6802191925048828, 0.7025470161437988, 0.7189005661010742, 0.7054185676574707, 0.6828469276428223, 0.6598365211486816], \"y\": [0.3663349342346191, 0.3516504192352295, 0.31844100952148435, 0.29282232284545895, 0.3193624019622803, 0.35297006607055664, 0.36651183128356934], \"type\": \"scatter\", \"uid\": \"5b279ffd-c23e-4bd7-aabd-3f3d1fab1f6f\"}, {\"line\": {\"dash\": \"2px,6px\", \"shape\": \"spline\"}, \"marker\": {\"symbol\": \"star\"}, \"name\": \"26\", \"x\": [0.7880037117004394, 0.8138543701171874, 0.8434281349182129, 0.8619066810607909, 0.8433703994750976, 0.8152641677856445, 0.7928486251831054], \"y\": [0.4510516262054443, 0.4423399543762207, 0.42456593513488766, 0.40381030082702635, 0.42314303398132325, 0.4412635803222656, 0.4498894786834717], \"type\": \"scatter\", \"uid\": \"58a882c9-ede8-47bc-99ba-4fb55ea90aae\"}, {\"line\": {\"dash\": \"2px,6px\", \"shape\": \"spline\"}, \"marker\": {\"symbol\": \"star\"}, \"name\": \"27\", \"x\": [0.8675835227966309, 0.8982775497436523, 0.9242815017700194, 0.9466250610351562, 0.9270495986938476, 0.8999380302429199, 0.8791883468627929], \"y\": [0.49515913009643553, 0.5010836791992187, 0.5027295112609863, 0.5020579719543456, 0.5033259201049805, 0.5013550758361817, 0.49980783462524414], \"type\": \"scatter\", \"uid\": \"d380fb53-705c-4b0f-b424-0538173c9e90\"}, {\"line\": {\"shape\": \"spline\"}, \"name\": \"28\", \"x\": [-1.1175869563118112e-10, 2.2981592919677496e-05, -9.953553671948612e-06, 2.487658231984824e-05, -1.995355531107634e-05, -1.0544893448241054e-05, -7.025630077706068e-18], \"y\": [-2.0816681711721684e-18, 7.176172512117773e-06, -5.760875501437112e-07, 5.315559828886762e-06, 2.815499436110258e-05, 4.674193623941392e-06, 1.6653345369377347e-18], \"type\": \"scatter\", \"uid\": \"9b28dceb-6d68-4894-a8db-7ab19200c847\"}, {\"line\": {\"shape\": \"spline\"}, \"name\": \"29\", \"x\": [0.1789039707183838, 0.17094202995300292, 0.16314642906188964, 0.1607898187637329, 0.16335641384124755, 0.17061574459075926, 0.1775103521347046], \"y\": [0.011369402110576628, -0.00022047758102416992, -0.012482699453830718, -0.017595856189727782, -0.011520100235939025, -0.0015806865692138672, 0.011696548461914062], \"type\": \"scatter\", \"uid\": \"52c0d5d1-660a-465d-a4e8-8ef3585914f6\"}, {\"line\": {\"shape\": \"spline\"}, \"name\": \"30\", \"x\": [0.36004809379577635, 0.3527102279663086, 0.3421183204650879, 0.33976630210876463, 0.3425786018371582, 0.35264150619506834, 0.3613461685180664], \"y\": [0.029079768061637878, 0.0077077665925025934, -0.019123123884201048, -0.027885689735412597, -0.01950038194656372, 0.009424884617328643, 0.0302996563911438], \"type\": \"scatter\", \"uid\": \"324df6a0-9044-4ab7-a948-a4acd213f173\"}, {\"line\": {\"shape\": \"spline\"}, \"name\": \"31\", \"x\": [0.5538709831237792, 0.551773681640625, 0.5456482887268066, 0.5401831054687499, 0.5447724723815918, 0.5514159965515136, 0.5529959106445312], \"y\": [0.039500448703765866, -0.001870790719985962, -0.02955999255180359, -0.042468209266662595, -0.027941302657127378, 0.003179839253425598, 0.03366076469421386], \"type\": \"scatter\", \"uid\": \"faac1c30-f086-40b2-bc3e-152f93a3c4fd\"}, {\"line\": {\"shape\": \"spline\"}, \"name\": \"32\", \"x\": [0.7155344009399414, 0.7358662033081055, 0.7535442352294922, 0.7592107200622559, 0.7543190002441406, 0.736937026977539, 0.7156243515014649], \"y\": [0.02831460356712341, -0.008195702433586121, -0.037942918539047236, -0.05199397802352905, -0.03781681537628174, -0.0070205068588256835, 0.028029372096061704], \"type\": \"scatter\", \"uid\": \"2228c9eb-b8fe-4666-ac5b-f9c01431655d\"}, {\"line\": {\"shape\": \"spline\"}, \"name\": \"33\", \"x\": [0.889320888519287, 0.9164555168151856, 0.9344028282165527, 0.9408776664733887, 0.9349308013916016, 0.9168106269836426, 0.8884770584106445], \"y\": [0.008636273145675659, -0.0216598516702652, -0.04140409469604492, -0.05611832857131958, -0.04154374837875366, -0.021582841873168945, 0.010417288541793824], \"type\": \"scatter\", \"uid\": \"9fe68bef-8246-4767-85f2-9e1c5352d501\"}, {\"line\": {\"shape\": \"spline\"}, \"name\": \"34\", \"x\": [1.018707160949707, 1.0468878936767578, 1.0691974639892579, 1.0778927993774414, 1.0685313034057617, 1.0461304092407226, 1.0178421020507813], \"y\": [-0.01849047303199768, -0.02780770182609558, -0.03609468340873718, -0.04279961228370666, -0.03613941550254822, -0.028337289690971372, -0.02156805396080017], \"type\": \"scatter\", \"uid\": \"1012bb6b-3678-456c-864d-54ecaba6f7e6\"}, {\"line\": {\"shape\": \"spline\"}, \"name\": \"35\", \"x\": [6.984679501442769e-12, 0.00011222168337553739, 0.00151271503418684, 0.00020533340983092783, 0.0013693777844309806, -0.00046004491858184335, 1.3970371526283998e-11], \"y\": [1.0658141036401502e-16, -0.00018459486309438944, 5.367530509829521e-05, 0.0004542556498199701, 6.520533934235573e-05, -0.00037031935527920723, -2.6645352591003756e-16], \"type\": \"scatter\", \"uid\": \"b5980f6c-3370-41ac-8957-2c14689b4b1a\"}, {\"line\": {\"shape\": \"spline\"}, \"name\": \"36\", \"x\": [0.17768657684326172, 0.15980860233306884, 0.15356892585754395, 0.15167687416076658, 0.15435944080352781, 0.15906744003295897, 0.17844377517700194], \"y\": [-0.0491310703754425, -0.06153126239776611, -0.06849678039550781, -0.07198014020919799, -0.06787946462631225, -0.06161625623703003, -0.04902928590774536], \"type\": \"scatter\", \"uid\": \"20df0a9e-9cf1-46c6-9d69-360a4fcf0ce8\"}, {\"line\": {\"shape\": \"spline\"}, \"name\": \"37\", \"x\": [0.34645628929138184, 0.3178866863250732, 0.3096565246582031, 0.3045534896850586, 0.3102321910858154, 0.31855155944824215, 0.3446543312072754], \"y\": [-0.0999577260017395, -0.13287261486053467, -0.14455119609832764, -0.1521291446685791, -0.14344651222229005, -0.1327233409881592, -0.10172456502914429], \"type\": \"scatter\", \"uid\": \"dc38277c-7639-48cd-b1c4-2ffa2a9ca2bf\"}, {\"line\": {\"shape\": \"spline\"}, \"name\": \"38\", \"x\": [0.5366039657592774, 0.4936958885192871, 0.4800632858276367, 0.4709876918792724, 0.48162586212158204, 0.49573957443237304, 0.5371923637390137], \"y\": [-0.17874741554260254, -0.24027660369873047, -0.256399040222168, -0.26292380332946774, -0.2568801498413086, -0.23657328128814697, -0.1769307518005371], \"type\": \"scatter\", \"uid\": \"db3d0c88-c601-4e88-b119-220fbbb48522\"}, {\"line\": {\"shape\": \"spline\"}, \"name\": \"39\", \"x\": [0.6656925773620606, 0.6598402976989746, 0.6583704185485839, 0.6546423912048339, 0.6566436195373535, 0.6612569046020508, 0.6646425247192382], \"y\": [-0.24994139671325682, -0.3247704219818115, -0.3454910087585449, -0.3581351852416992, -0.3452591514587402, -0.318720760345459, -0.2509503078460693], \"type\": \"scatter\", \"uid\": \"69369818-6724-40fd-9fb3-4b5d4382cf3e\"}, {\"line\": {\"shape\": \"spline\"}, \"name\": \"40\", \"x\": [0.7885799217224121, 0.8085819053649902, 0.8151550483703613, 0.8221077346801757, 0.8145563507080078, 0.8083484458923339, 0.7867124176025391], \"y\": [-0.3438272094726562, -0.3918009853363037, -0.41044381141662595, -0.4277042770385742, -0.41253559112548827, -0.39023666381835936, -0.3425374889373779], \"type\": \"scatter\", \"uid\": \"48382dec-97a2-4f8e-ae6f-fba5355c7ef0\"}, {\"line\": {\"shape\": \"spline\"}, \"name\": \"41\", \"x\": [0.8757915687561035, 0.9192784881591797, 0.9495217323303222, 0.9703876876831055, 0.9507852745056152, 0.9207074546813965, 0.8766744232177734], \"y\": [-0.40878682136535643, -0.4391477680206299, -0.4578735637664795, -0.4707069110870361, -0.458274450302124, -0.43907278060913085, -0.4092431831359863], \"type\": \"scatter\", \"uid\": \"58e9eba4-2658-4f47-9d44-6a302014563e\"}, {\"line\": {\"shape\": \"spline\"}, \"name\": \"42\", \"x\": [2.763769799685178e-09, 4.232039675116539e-05, 0.0014398460090160369, 0.0003483148757368326, 0.0013090950250625609, -0.0005589591152966023, -2.744078670957606e-09], \"y\": [-4.885582072233774e-10, -0.00021184480749070645, -0.00046694079414010047, 0.00035663251765072346, -0.00040708173997700215, -0.00019064148422330617, 4.813909804113336e-10], \"type\": \"scatter\", \"uid\": \"b5473c5c-23d2-433f-bd17-0c148bfb0c5e\"}, {\"line\": {\"shape\": \"spline\"}, \"name\": \"43\", \"x\": [0.1501669692993164, 0.12912604808807374, 0.12088030815124512, 0.11791098117828369, 0.12183428764343261, 0.12840049266815184, 0.15091328144073485], \"y\": [-0.10694050312042236, -0.11247824192047119, -0.11688957452774047, -0.11951575756072998, -0.11657986879348754, -0.1123046064376831, -0.10710381746292114], \"type\": \"scatter\", \"uid\": \"0b349ad0-a3b8-4f21-ba51-37accde75a8f\"}, {\"line\": {\"shape\": \"spline\"}, \"name\": \"44\", \"x\": [0.29137487411499025, 0.2532706832885742, 0.24154254913330078, 0.23415544509887695, 0.24246130943298339, 0.2539464855194092, 0.2890772438049316], \"y\": [-0.21242457389831543, -0.233583083152771, -0.24174247741699217, -0.24711808204650879, -0.24090130805969237, -0.23367018699645994, -0.21346856117248533], \"type\": \"scatter\", \"uid\": \"4a6ecee1-0b39-492b-87dc-fcacdac8c553\"}, {\"line\": {\"shape\": \"spline\"}, \"name\": \"45\", \"x\": [0.4431075954437256, 0.3817429161071777, 0.36341826438903807, 0.3526584720611572, 0.364722089767456, 0.3849299812316894, 0.44428181648254395], \"y\": [-0.35149701118469234, -0.39464009284973145, -0.4051276016235351, -0.4081548500061035, -0.40611413955688475, -0.3918590927124023, -0.34999116897583005], \"type\": \"scatter\", \"uid\": \"0aa3dfd9-891e-4c3c-8369-4f219eaa6f83\"}, {\"line\": {\"shape\": \"spline\"}, \"name\": \"46\", \"x\": [0.5400614547729492, 0.5089690017700195, 0.5005009460449219, 0.49267324447631833, 0.4989575958251953, 0.512369327545166, 0.5387295913696288], \"y\": [-0.4625483894348144, -0.530863037109375, -0.5498313331604003, -0.5604378890991211, -0.5490228652954101, -0.525662727355957, -0.46313727378845215], \"type\": \"scatter\", \"uid\": \"c9de6d63-6220-4894-b3c3-b58e2fa35f27\"}, {\"line\": {\"shape\": \"spline\"}, \"name\": \"47\", \"x\": [0.6234268569946289, 0.6258146095275878, 0.6256151390075684, 0.6262450790405273, 0.6243371200561523, 0.6261302375793457, 0.6221131896972656], \"y\": [-0.5928020668029785, -0.6447237968444824, -0.6644904899597168, -0.6830879974365234, -0.6662513351440429, -0.6431739807128906, -0.5909514427185059], \"type\": \"scatter\", \"uid\": \"ceb8e377-5887-4a75-9b38-6ba40ef55332\"}, {\"line\": {\"shape\": \"spline\"}, \"name\": \"48\", \"x\": [0.6831615257263184, 0.7136418342590332, 0.7356565475463867, 0.7508748435974121, 0.7367068290710449, 0.7150102615356445, 0.6838350677490234], \"y\": [-0.6836723899841308, -0.7270757102966309, -0.7550159454345703, -0.7742119216918945, -0.7558248710632324, -0.7274939918518066, -0.6844031524658203], \"type\": \"scatter\", \"uid\": \"c763a450-cc1c-47f4-b0d3-b2f0f1a8749c\"}], {\"height\": 600, \"hovermode\": \"closest\", \"title\": {\"text\": \"Blender generated curves XZ Front View\"}, \"width\": 600, \"xaxis\": {\"range\": [-0.4, 1.3], \"title\": {\"text\": \"X\"}}, \"yaxis\": {\"range\": [-0.6, 1.2], \"title\": {\"text\": \"Y\"}}}, {\"showLink\": false, \"linkText\": \"Export to plot.ly\", \"plotlyServerURL\": \"https://plot.ly\"})});</script>"
      ],
      "text/vnd.plotly.v1+html": [
       "<div id=\"3fcb1c3a-900d-4961-8953-41b5b767f53e\" style=\"height: 600px; width: 600px;\" class=\"plotly-graph-div\"></div><script type=\"text/javascript\">require([\"plotly\"], function(Plotly) { window.PLOTLYENV=window.PLOTLYENV || {};window.PLOTLYENV.BASE_URL=\"https://plot.ly\";Plotly.newPlot(\"3fcb1c3a-900d-4961-8953-41b5b767f53e\", [{\"line\": {\"shape\": \"spline\"}, \"name\": \"0\", \"x\": [-1.9190692341908288e-08, 5.958580411970615e-05, 2.1315590129233896e-06, 9.771751065272838e-06, 8.667659712955354e-06, 3.49575444124639e-05, 1.0680663820039625e-09], \"y\": [4.77805178888957e-08, 7.341774646192789e-05, 2.778819529339671e-05, 3.187184804119169e-05, 4.36799309682101e-05, 4.538069595582783e-05, 1.5802620012550504e-09], \"type\": \"scatter\", \"uid\": \"b7f0ceda-c406-44b1-bac7-b46ac38f741a\"}, {\"line\": {\"shape\": \"spline\"}, \"name\": \"1\", \"x\": [0.009400384426116943, 0.018020410537719727, 0.026826753616333007, 0.031206339597702026, 0.02764338254928589, 0.0192482328414917, 0.010174030065536499], \"y\": [0.18949481964111328, 0.19071112632751464, 0.1921248435974121, 0.19290600299835203, 0.19151687622070312, 0.19048544883728027, 0.18827845573425292], \"type\": \"scatter\", \"uid\": \"ef9eda9a-f3bf-4a16-b089-341d4f6522d0\"}, {\"line\": {\"shape\": \"spline\"}, \"name\": \"2\", \"x\": [-0.011951665878295898, 0.005312275886535644, 0.01846419811248779, 0.026236259937286375, 0.01968303680419922, 0.0037583041191101073, -0.010406155586242676], \"y\": [0.351328125, 0.3572420883178711, 0.3612875461578369, 0.3623847770690918, 0.3609334659576416, 0.3556729602813721, 0.3506264591217041], \"type\": \"scatter\", \"uid\": \"41c00080-3904-4265-8930-14f925d3f1c4\"}, {\"line\": {\"shape\": \"spline\"}, \"name\": \"3\", \"x\": [-0.05973934650421142, -0.03614320278167724, -0.02149954319000244, -0.01317842960357666, -0.021099228858947754, -0.038411464691162106, -0.058033533096313476], \"y\": [0.5271399879455566, 0.5353361892700195, 0.5398819541931152, 0.5435963058471679, 0.5412793350219727, 0.5356632614135742, 0.5276412963867188], \"type\": \"scatter\", \"uid\": \"019ddf30-cd13-444d-b83f-a9bf67807800\"}, {\"line\": {\"shape\": \"spline\"}, \"name\": \"4\", \"x\": [-0.14771830558776855, -0.13157466888427735, -0.11753159523010254, -0.11056208610534668, -0.11685449123382569, -0.13164776802062989, -0.1456501007080078], \"y\": [0.6921754646301269, 0.6990626907348633, 0.7043070602416992, 0.7070166778564453, 0.7050417709350586, 0.6998537635803223, 0.6944325256347657], \"type\": \"scatter\", \"uid\": \"1614f7a0-b198-43c7-82a6-ccfb35d61d40\"}, {\"line\": {\"shape\": \"spline\"}, \"name\": \"5\", \"x\": [-0.23342087745666504, -0.2251600170135498, -0.21761844635009764, -0.2138561153411865, -0.21640774726867676, -0.22344823837280273, -0.23179826259613037], \"y\": [0.8169337463378906, 0.8197518539428711, 0.8227095794677735, 0.8249166870117187, 0.824088020324707, 0.8212598991394042, 0.8185825538635254], \"type\": \"scatter\", \"uid\": \"6c863863-6f3f-403d-ac85-42b0dafc988d\"}, {\"line\": {\"shape\": \"spline\"}, \"name\": \"6\", \"x\": [-0.3385017871856689, -0.3379687213897705, -0.3375085830688476, -0.337280330657959, -0.33757264137268067, -0.338023567199707, -0.3385264492034912], \"y\": [0.9304734992980956, 0.9323785400390625, 0.9341297149658203, 0.9352126121520996, 0.9340836524963378, 0.9323856925964356, 0.930487003326416], \"type\": \"scatter\", \"uid\": \"3bdf8ffb-f874-49cd-83a3-770124dba7ce\"}, {\"line\": {\"dash\": \"2px,6px\", \"shape\": \"spline\"}, \"marker\": {\"symbol\": \"star\"}, \"name\": \"7\", \"x\": [-1.3275048260652512e-09, 8.110288297757506e-05, 1.1507237213663756e-05, 2.008324780035764e-05, 2.3084215354174375e-05, 4.8370216973125935e-05, 1.1801846966363881e-09], \"y\": [5.139842983226117e-08, 4.8610540106892584e-05, 2.538331027608365e-05, 2.6607607724145053e-05, 3.808122128248215e-05, 3.068776451982558e-05, 1.1838351099413556e-09], \"type\": \"scatter\", \"uid\": \"31f4bf7f-caf6-41b8-aced-4ddfc0eb0dcf\"}, {\"line\": {\"dash\": \"2px,6px\", \"shape\": \"spline\"}, \"marker\": {\"symbol\": \"star\"}, \"name\": \"8\", \"x\": [0.07364450454711914, 0.08216068267822266, 0.09091946125030517, 0.09530208349227905, 0.09147889852523804, 0.08323726415634156, 0.0739554762840271], \"y\": [0.1748517608642578, 0.17304649829864502, 0.1713630151748657, 0.1705991506576538, 0.17051241874694822, 0.17241448402404785, 0.17344416618347167], \"type\": \"scatter\", \"uid\": \"74ac50dc-aab4-439e-8dbd-6a7df5a458e6\"}, {\"line\": {\"dash\": \"2px,6px\", \"shape\": \"spline\"}, \"marker\": {\"symbol\": \"star\"}, \"name\": \"9\", \"x\": [0.10893039464950562, 0.12717587471008301, 0.14091825485229492, 0.14859686851501464, 0.14194250106811523, 0.1251789379119873, 0.1101426887512207], \"y\": [0.3342281913757324, 0.33388083457946777, 0.333184118270874, 0.3315569400787353, 0.3324345302581787, 0.3329378414154053, 0.33304018020629883], \"type\": \"scatter\", \"uid\": \"71c03b90-1ce1-4d99-88a5-c4ebb38e706a\"}, {\"line\": {\"dash\": \"2px,6px\", \"shape\": \"spline\"}, \"marker\": {\"symbol\": \"star\"}, \"name\": \"10\", \"x\": [0.12415582180023194, 0.1491322088241577, 0.16444746494293214, 0.17353716373443603, 0.16530160903930663, 0.14711262702941894, 0.12593021392822265], \"y\": [0.5157816696166992, 0.5154131698608398, 0.5146763420104981, 0.5153207588195801, 0.5158525657653809, 0.516496353149414, 0.5156692886352539], \"type\": \"scatter\", \"uid\": \"c8e55f85-90ee-461b-ad54-aac475a25aec\"}, {\"line\": {\"dash\": \"2px,6px\", \"shape\": \"spline\"}, \"marker\": {\"symbol\": \"star\"}, \"name\": \"11\", \"x\": [0.09792808055877684, 0.11545371294021606, 0.13044357776641846, 0.13791953086853026, 0.1313311243057251, 0.11565560102462769, 0.10064355611801147], \"y\": [0.7009547996520996, 0.701905288696289, 0.7020303726196289, 0.7021928215026855, 0.7024891662597657, 0.7026736450195312, 0.7023684310913085], \"type\": \"scatter\", \"uid\": \"60165320-6f51-40fa-a939-140f74787f7f\"}, {\"line\": {\"dash\": \"2px,6px\", \"shape\": \"spline\"}, \"marker\": {\"symbol\": \"star\"}, \"name\": \"12\", \"x\": [0.06006383657455444, 0.06879034996032715, 0.07688874006271362, 0.08117905139923096, 0.07849789381027221, 0.07091470956802368, 0.06215255498886108], \"y\": [0.8475012588500976, 0.847323989868164, 0.8475240325927734, 0.8483112144470214, 0.8484052848815917, 0.8481556892395019, 0.8484956932067871], \"type\": \"scatter\", \"uid\": \"a1683cb7-893d-4d77-a6d7-b4c4558f9301\"}, {\"line\": {\"dash\": \"2px,6px\", \"shape\": \"spline\"}, \"marker\": {\"symbol\": \"star\"}, \"name\": \"13\", \"x\": [0.0001529889553785324, 0.0013054521381855012, 0.002336786985397339, 0.0029216522723436353, 0.0022608295083045957, 0.0012563558667898177, 0.00013442493975162505], \"y\": [0.9901335525512694, 0.9917413330078124, 0.9932295227050781, 0.9941690826416015, 0.9932081222534179, 0.9917668533325195, 0.9901546096801758], \"type\": \"scatter\", \"uid\": \"3d635597-199a-4a8c-9706-d587be258292\"}, {\"line\": {\"shape\": \"spline\"}, \"name\": \"14\", \"x\": [-9.125643174456854e-10, -3.864494618028402e-05, -4.8043025890365244e-05, 0.00013047832064330578, 3.638707101345062e-05, -0.00013535404577851294, 9.125643174456854e-10], \"y\": [-5.207596487366572e-10, 6.514838431030512e-05, 9.948668768629432e-05, 4.3975627049803735e-05, -2.7959069120697674e-06, 1.566312974318862e-05, 5.207596487366572e-10], \"type\": \"scatter\", \"uid\": \"45acdf56-a069-4453-a74f-66207901e9ca\"}, {\"line\": {\"shape\": \"spline\"}, \"name\": \"15\", \"x\": [0.11571342945098877, 0.12094549655914306, 0.12349157810211181, 0.12560704708099366, 0.12411415100097656, 0.121332106590271, 0.11647509098052979], \"y\": [0.12819509983062743, 0.11517355442047118, 0.10306408166885375, 0.09581608057022094, 0.10315680742263794, 0.1138154911994934, 0.12776533126831055], \"type\": \"scatter\", \"uid\": \"5364770b-638b-4e19-9a95-8bc3255a7260\"}, {\"line\": {\"shape\": \"spline\"}, \"name\": \"16\", \"x\": [0.2201949691772461, 0.22578261852264403, 0.23143006324768065, 0.23585472106933592, 0.23065276622772216, 0.22523391723632813, 0.2205289363861084], \"y\": [0.25851519584655763, 0.2393767261505127, 0.2252827262878418, 0.2185989189147949, 0.22534947395324706, 0.23978887081146238, 0.260246057510376], \"type\": \"scatter\", \"uid\": \"99f4bc7d-7f03-4dff-acca-26ed3a4e04d5\"}, {\"line\": {\"shape\": \"spline\"}, \"name\": \"17\", \"x\": [0.3111105537414551, 0.3283528804779053, 0.34467799186706544, 0.35863849639892575, 0.34349604606628414, 0.3296198272705078, 0.3121814918518066], \"y\": [0.4181774997711181, 0.4035983848571777, 0.3894650459289551, 0.38023959159851073, 0.38978267669677735, 0.4024185276031494, 0.4151188087463379], \"type\": \"scatter\", \"uid\": \"2df49b23-67a7-476c-b98e-1c2249375a0f\"}, {\"line\": {\"shape\": \"spline\"}, \"name\": \"18\", \"x\": [0.3757527637481689, 0.3936375045776367, 0.41458248138427733, 0.4321112251281738, 0.414515962600708, 0.39372385025024415, 0.3740763473510742], \"y\": [0.5564656448364258, 0.5462310218811035, 0.5335837554931641, 0.5232563209533692, 0.5336952209472656, 0.5463854598999023, 0.557501277923584], \"type\": \"scatter\", \"uid\": \"286a058e-8db6-487b-ad84-bb9a8c6f6d57\"}, {\"line\": {\"shape\": \"spline\"}, \"name\": \"19\", \"x\": [0.44728497505187986, 0.47195179939270016, 0.4952292251586914, 0.515504264831543, 0.4953064727783203, 0.4724527645111084, 0.44670310020446774], \"y\": [0.7246808624267578, 0.7294769668579101, 0.7300953483581543, 0.7288388442993163, 0.7302013206481933, 0.7304633331298828, 0.7237072563171386], \"type\": \"scatter\", \"uid\": \"bf68486a-34bb-4e6c-a263-8e1769fe35dd\"}, {\"line\": {\"shape\": \"spline\"}, \"name\": \"20\", \"x\": [0.46703847885131833, 0.4904494857788086, 0.5133968353271484, 0.5234438896179199, 0.5130540275573731, 0.4901838684082031, 0.47129513740539547], \"y\": [0.8365264892578125, 0.858552017211914, 0.8780657958984375, 0.8817969131469726, 0.8770806312561035, 0.8570063209533691, 0.8362810134887695], \"type\": \"scatter\", \"uid\": \"28425da9-b12e-40a8-8104-48e8a710e94e\"}, {\"line\": {\"dash\": \"2px,6px\", \"shape\": \"spline\"}, \"marker\": {\"symbol\": \"star\"}, \"name\": \"21\", \"x\": [-5.990894713647777e-10, 3.4895979333668946e-05, -3.580488846637308e-05, -2.2452150005847216e-05, 1.4875122578814626e-05, -1.243929611518979e-05, 5.990894713647777e-10], \"y\": [-1.4757014277222424e-10, 8.192142995540053e-06, -2.198801783379167e-05, -8.885084534995258e-06, 2.535821695346385e-06, -1.1814826866611838e-05, 1.4757014277222424e-10], \"type\": \"scatter\", \"uid\": \"2a9ad19b-1f85-4623-99bc-e43f79980956\"}, {\"line\": {\"dash\": \"2px,6px\", \"shape\": \"spline\"}, \"marker\": {\"symbol\": \"star\"}, \"name\": \"22\", \"x\": [0.1543745470046997, 0.15229976177215576, 0.1521937894821167, 0.15226717472076415, 0.15210690021514892, 0.15286584377288817, 0.15408874511718748], \"y\": [0.06983430862426758, 0.057848389148712154, 0.04461626887321472, 0.03727813124656677, 0.04501967310905457, 0.05761107444763183, 0.06944862127304077], \"type\": \"scatter\", \"uid\": \"e55eed52-55f4-488c-8518-b8eb645e1192\"}, {\"line\": {\"dash\": \"2px,6px\", \"shape\": \"spline\"}, \"marker\": {\"symbol\": \"star\"}, \"name\": \"23\", \"x\": [0.33354246139526367, 0.32480770111083984, 0.32439459800720216, 0.32753505706787106, 0.32424599647521973, 0.32559308052062985, 0.3328997611999512], \"y\": [0.1582446527481079, 0.12874207019805908, 0.10767226696014404, 0.09433404922485351, 0.10695480108261109, 0.12877527236938477, 0.15739748954772947], \"type\": \"scatter\", \"uid\": \"b9175df3-9358-466c-9cc7-32e4f89f5097\"}, {\"line\": {\"dash\": \"2px,6px\", \"shape\": \"spline\"}, \"marker\": {\"symbol\": \"star\"}, \"name\": \"24\", \"x\": [0.4994563865661621, 0.49731748580932617, 0.5097337532043457, 0.5222148513793945, 0.5108392524719239, 0.4989965629577637, 0.4986440277099609], \"y\": [0.25622915267944335, 0.22147732257843017, 0.19974184513092041, 0.17616230964660645, 0.19594963073730468, 0.22424533367156982, 0.255950288772583], \"type\": \"scatter\", \"uid\": \"06a312a9-fa14-4a04-87c9-a63c49ab3e89\"}, {\"line\": {\"dash\": \"2px,6px\", \"shape\": \"spline\"}, \"marker\": {\"symbol\": \"star\"}, \"name\": \"25\", \"x\": [0.6575027847290039, 0.6802191925048828, 0.7025470161437988, 0.7189005661010742, 0.7054185676574707, 0.6828469276428223, 0.6598365211486816], \"y\": [0.3663349342346191, 0.3516504192352295, 0.31844100952148435, 0.29282232284545895, 0.3193624019622803, 0.35297006607055664, 0.36651183128356934], \"type\": \"scatter\", \"uid\": \"5b279ffd-c23e-4bd7-aabd-3f3d1fab1f6f\"}, {\"line\": {\"dash\": \"2px,6px\", \"shape\": \"spline\"}, \"marker\": {\"symbol\": \"star\"}, \"name\": \"26\", \"x\": [0.7880037117004394, 0.8138543701171874, 0.8434281349182129, 0.8619066810607909, 0.8433703994750976, 0.8152641677856445, 0.7928486251831054], \"y\": [0.4510516262054443, 0.4423399543762207, 0.42456593513488766, 0.40381030082702635, 0.42314303398132325, 0.4412635803222656, 0.4498894786834717], \"type\": \"scatter\", \"uid\": \"58a882c9-ede8-47bc-99ba-4fb55ea90aae\"}, {\"line\": {\"dash\": \"2px,6px\", \"shape\": \"spline\"}, \"marker\": {\"symbol\": \"star\"}, \"name\": \"27\", \"x\": [0.8675835227966309, 0.8982775497436523, 0.9242815017700194, 0.9466250610351562, 0.9270495986938476, 0.8999380302429199, 0.8791883468627929], \"y\": [0.49515913009643553, 0.5010836791992187, 0.5027295112609863, 0.5020579719543456, 0.5033259201049805, 0.5013550758361817, 0.49980783462524414], \"type\": \"scatter\", \"uid\": \"d380fb53-705c-4b0f-b424-0538173c9e90\"}, {\"line\": {\"shape\": \"spline\"}, \"name\": \"28\", \"x\": [-1.1175869563118112e-10, 2.2981592919677496e-05, -9.953553671948612e-06, 2.487658231984824e-05, -1.995355531107634e-05, -1.0544893448241054e-05, -7.025630077706068e-18], \"y\": [-2.0816681711721684e-18, 7.176172512117773e-06, -5.760875501437112e-07, 5.315559828886762e-06, 2.815499436110258e-05, 4.674193623941392e-06, 1.6653345369377347e-18], \"type\": \"scatter\", \"uid\": \"9b28dceb-6d68-4894-a8db-7ab19200c847\"}, {\"line\": {\"shape\": \"spline\"}, \"name\": \"29\", \"x\": [0.1789039707183838, 0.17094202995300292, 0.16314642906188964, 0.1607898187637329, 0.16335641384124755, 0.17061574459075926, 0.1775103521347046], \"y\": [0.011369402110576628, -0.00022047758102416992, -0.012482699453830718, -0.017595856189727782, -0.011520100235939025, -0.0015806865692138672, 0.011696548461914062], \"type\": \"scatter\", \"uid\": \"52c0d5d1-660a-465d-a4e8-8ef3585914f6\"}, {\"line\": {\"shape\": \"spline\"}, \"name\": \"30\", \"x\": [0.36004809379577635, 0.3527102279663086, 0.3421183204650879, 0.33976630210876463, 0.3425786018371582, 0.35264150619506834, 0.3613461685180664], \"y\": [0.029079768061637878, 0.0077077665925025934, -0.019123123884201048, -0.027885689735412597, -0.01950038194656372, 0.009424884617328643, 0.0302996563911438], \"type\": \"scatter\", \"uid\": \"324df6a0-9044-4ab7-a948-a4acd213f173\"}, {\"line\": {\"shape\": \"spline\"}, \"name\": \"31\", \"x\": [0.5538709831237792, 0.551773681640625, 0.5456482887268066, 0.5401831054687499, 0.5447724723815918, 0.5514159965515136, 0.5529959106445312], \"y\": [0.039500448703765866, -0.001870790719985962, -0.02955999255180359, -0.042468209266662595, -0.027941302657127378, 0.003179839253425598, 0.03366076469421386], \"type\": \"scatter\", \"uid\": \"faac1c30-f086-40b2-bc3e-152f93a3c4fd\"}, {\"line\": {\"shape\": \"spline\"}, \"name\": \"32\", \"x\": [0.7155344009399414, 0.7358662033081055, 0.7535442352294922, 0.7592107200622559, 0.7543190002441406, 0.736937026977539, 0.7156243515014649], \"y\": [0.02831460356712341, -0.008195702433586121, -0.037942918539047236, -0.05199397802352905, -0.03781681537628174, -0.0070205068588256835, 0.028029372096061704], \"type\": \"scatter\", \"uid\": \"2228c9eb-b8fe-4666-ac5b-f9c01431655d\"}, {\"line\": {\"shape\": \"spline\"}, \"name\": \"33\", \"x\": [0.889320888519287, 0.9164555168151856, 0.9344028282165527, 0.9408776664733887, 0.9349308013916016, 0.9168106269836426, 0.8884770584106445], \"y\": [0.008636273145675659, -0.0216598516702652, -0.04140409469604492, -0.05611832857131958, -0.04154374837875366, -0.021582841873168945, 0.010417288541793824], \"type\": \"scatter\", \"uid\": \"9fe68bef-8246-4767-85f2-9e1c5352d501\"}, {\"line\": {\"shape\": \"spline\"}, \"name\": \"34\", \"x\": [1.018707160949707, 1.0468878936767578, 1.0691974639892579, 1.0778927993774414, 1.0685313034057617, 1.0461304092407226, 1.0178421020507813], \"y\": [-0.01849047303199768, -0.02780770182609558, -0.03609468340873718, -0.04279961228370666, -0.03613941550254822, -0.028337289690971372, -0.02156805396080017], \"type\": \"scatter\", \"uid\": \"1012bb6b-3678-456c-864d-54ecaba6f7e6\"}, {\"line\": {\"shape\": \"spline\"}, \"name\": \"35\", \"x\": [6.984679501442769e-12, 0.00011222168337553739, 0.00151271503418684, 0.00020533340983092783, 0.0013693777844309806, -0.00046004491858184335, 1.3970371526283998e-11], \"y\": [1.0658141036401502e-16, -0.00018459486309438944, 5.367530509829521e-05, 0.0004542556498199701, 6.520533934235573e-05, -0.00037031935527920723, -2.6645352591003756e-16], \"type\": \"scatter\", \"uid\": \"b5980f6c-3370-41ac-8957-2c14689b4b1a\"}, {\"line\": {\"shape\": \"spline\"}, \"name\": \"36\", \"x\": [0.17768657684326172, 0.15980860233306884, 0.15356892585754395, 0.15167687416076658, 0.15435944080352781, 0.15906744003295897, 0.17844377517700194], \"y\": [-0.0491310703754425, -0.06153126239776611, -0.06849678039550781, -0.07198014020919799, -0.06787946462631225, -0.06161625623703003, -0.04902928590774536], \"type\": \"scatter\", \"uid\": \"20df0a9e-9cf1-46c6-9d69-360a4fcf0ce8\"}, {\"line\": {\"shape\": \"spline\"}, \"name\": \"37\", \"x\": [0.34645628929138184, 0.3178866863250732, 0.3096565246582031, 0.3045534896850586, 0.3102321910858154, 0.31855155944824215, 0.3446543312072754], \"y\": [-0.0999577260017395, -0.13287261486053467, -0.14455119609832764, -0.1521291446685791, -0.14344651222229005, -0.1327233409881592, -0.10172456502914429], \"type\": \"scatter\", \"uid\": \"dc38277c-7639-48cd-b1c4-2ffa2a9ca2bf\"}, {\"line\": {\"shape\": \"spline\"}, \"name\": \"38\", \"x\": [0.5366039657592774, 0.4936958885192871, 0.4800632858276367, 0.4709876918792724, 0.48162586212158204, 0.49573957443237304, 0.5371923637390137], \"y\": [-0.17874741554260254, -0.24027660369873047, -0.256399040222168, -0.26292380332946774, -0.2568801498413086, -0.23657328128814697, -0.1769307518005371], \"type\": \"scatter\", \"uid\": \"db3d0c88-c601-4e88-b119-220fbbb48522\"}, {\"line\": {\"shape\": \"spline\"}, \"name\": \"39\", \"x\": [0.6656925773620606, 0.6598402976989746, 0.6583704185485839, 0.6546423912048339, 0.6566436195373535, 0.6612569046020508, 0.6646425247192382], \"y\": [-0.24994139671325682, -0.3247704219818115, -0.3454910087585449, -0.3581351852416992, -0.3452591514587402, -0.318720760345459, -0.2509503078460693], \"type\": \"scatter\", \"uid\": \"69369818-6724-40fd-9fb3-4b5d4382cf3e\"}, {\"line\": {\"shape\": \"spline\"}, \"name\": \"40\", \"x\": [0.7885799217224121, 0.8085819053649902, 0.8151550483703613, 0.8221077346801757, 0.8145563507080078, 0.8083484458923339, 0.7867124176025391], \"y\": [-0.3438272094726562, -0.3918009853363037, -0.41044381141662595, -0.4277042770385742, -0.41253559112548827, -0.39023666381835936, -0.3425374889373779], \"type\": \"scatter\", \"uid\": \"48382dec-97a2-4f8e-ae6f-fba5355c7ef0\"}, {\"line\": {\"shape\": \"spline\"}, \"name\": \"41\", \"x\": [0.8757915687561035, 0.9192784881591797, 0.9495217323303222, 0.9703876876831055, 0.9507852745056152, 0.9207074546813965, 0.8766744232177734], \"y\": [-0.40878682136535643, -0.4391477680206299, -0.4578735637664795, -0.4707069110870361, -0.458274450302124, -0.43907278060913085, -0.4092431831359863], \"type\": \"scatter\", \"uid\": \"58e9eba4-2658-4f47-9d44-6a302014563e\"}, {\"line\": {\"shape\": \"spline\"}, \"name\": \"42\", \"x\": [2.763769799685178e-09, 4.232039675116539e-05, 0.0014398460090160369, 0.0003483148757368326, 0.0013090950250625609, -0.0005589591152966023, -2.744078670957606e-09], \"y\": [-4.885582072233774e-10, -0.00021184480749070645, -0.00046694079414010047, 0.00035663251765072346, -0.00040708173997700215, -0.00019064148422330617, 4.813909804113336e-10], \"type\": \"scatter\", \"uid\": \"b5473c5c-23d2-433f-bd17-0c148bfb0c5e\"}, {\"line\": {\"shape\": \"spline\"}, \"name\": \"43\", \"x\": [0.1501669692993164, 0.12912604808807374, 0.12088030815124512, 0.11791098117828369, 0.12183428764343261, 0.12840049266815184, 0.15091328144073485], \"y\": [-0.10694050312042236, -0.11247824192047119, -0.11688957452774047, -0.11951575756072998, -0.11657986879348754, -0.1123046064376831, -0.10710381746292114], \"type\": \"scatter\", \"uid\": \"0b349ad0-a3b8-4f21-ba51-37accde75a8f\"}, {\"line\": {\"shape\": \"spline\"}, \"name\": \"44\", \"x\": [0.29137487411499025, 0.2532706832885742, 0.24154254913330078, 0.23415544509887695, 0.24246130943298339, 0.2539464855194092, 0.2890772438049316], \"y\": [-0.21242457389831543, -0.233583083152771, -0.24174247741699217, -0.24711808204650879, -0.24090130805969237, -0.23367018699645994, -0.21346856117248533], \"type\": \"scatter\", \"uid\": \"4a6ecee1-0b39-492b-87dc-fcacdac8c553\"}, {\"line\": {\"shape\": \"spline\"}, \"name\": \"45\", \"x\": [0.4431075954437256, 0.3817429161071777, 0.36341826438903807, 0.3526584720611572, 0.364722089767456, 0.3849299812316894, 0.44428181648254395], \"y\": [-0.35149701118469234, -0.39464009284973145, -0.4051276016235351, -0.4081548500061035, -0.40611413955688475, -0.3918590927124023, -0.34999116897583005], \"type\": \"scatter\", \"uid\": \"0aa3dfd9-891e-4c3c-8369-4f219eaa6f83\"}, {\"line\": {\"shape\": \"spline\"}, \"name\": \"46\", \"x\": [0.5400614547729492, 0.5089690017700195, 0.5005009460449219, 0.49267324447631833, 0.4989575958251953, 0.512369327545166, 0.5387295913696288], \"y\": [-0.4625483894348144, -0.530863037109375, -0.5498313331604003, -0.5604378890991211, -0.5490228652954101, -0.525662727355957, -0.46313727378845215], \"type\": \"scatter\", \"uid\": \"c9de6d63-6220-4894-b3c3-b58e2fa35f27\"}, {\"line\": {\"shape\": \"spline\"}, \"name\": \"47\", \"x\": [0.6234268569946289, 0.6258146095275878, 0.6256151390075684, 0.6262450790405273, 0.6243371200561523, 0.6261302375793457, 0.6221131896972656], \"y\": [-0.5928020668029785, -0.6447237968444824, -0.6644904899597168, -0.6830879974365234, -0.6662513351440429, -0.6431739807128906, -0.5909514427185059], \"type\": \"scatter\", \"uid\": \"ceb8e377-5887-4a75-9b38-6ba40ef55332\"}, {\"line\": {\"shape\": \"spline\"}, \"name\": \"48\", \"x\": [0.6831615257263184, 0.7136418342590332, 0.7356565475463867, 0.7508748435974121, 0.7367068290710449, 0.7150102615356445, 0.6838350677490234], \"y\": [-0.6836723899841308, -0.7270757102966309, -0.7550159454345703, -0.7742119216918945, -0.7558248710632324, -0.7274939918518066, -0.6844031524658203], \"type\": \"scatter\", \"uid\": \"c763a450-cc1c-47f4-b0d3-b2f0f1a8749c\"}], {\"height\": 600, \"hovermode\": \"closest\", \"title\": {\"text\": \"Blender generated curves XZ Front View\"}, \"width\": 600, \"xaxis\": {\"range\": [-0.4, 1.3], \"title\": {\"text\": \"X\"}}, \"yaxis\": {\"range\": [-0.6, 1.2], \"title\": {\"text\": \"Y\"}}}, {\"showLink\": false, \"linkText\": \"Export to plot.ly\", \"plotlyServerURL\": \"https://plot.ly\"})});</script>"
      ]
     },
     "metadata": {},
     "output_type": "display_data"
    }
   ],
   "source": [
    "nx = np.concatenate((nc[0], nc[1], nc[2], nc[3], nc[4], nc[5], nc[6]))\n",
    "gx = gy.FormatNetworkToGraphColumns(nx, xOffset=0, yOffset=14, colPoints=7)\n",
    "\n",
    "layout = go.Layout(\n",
    "    title = 'Initial Curves',\n",
    "    height = 600,\n",
    "    width = 600,\n",
    "    hovermode= 'closest',\n",
    "    xaxis= dict(\n",
    "        title= 'X',\n",
    "        range = [-.4,1.3],\n",
    "    ),\n",
    "    yaxis=dict(\n",
    "        title= 'Y',\n",
    "        range = [-.6,1.2],\n",
    "    )\n",
    ")\n",
    "layout.title = 'Blender generated curves XZ Front View'\n",
    "f = gy.graphCurves(gx, layout, dashRange=range(7,14))\n",
    "f = gy.graphCurves(gx, layout, dashRange=gy.rangeList([range(7,14),range(21,28)]))\n",
    "offline.iplot(f)\n"
   ]
  },
  {
   "cell_type": "code",
   "execution_count": 9,
   "metadata": {},
   "outputs": [
    {
     "data": {
      "application/vnd.plotly.v1+json": {
       "config": {
        "linkText": "Export to plot.ly",
        "plotlyServerURL": "https://plot.ly",
        "showLink": false
       },
       "data": [
        {
         "line": {
          "shape": "spline"
         },
         "name": "0",
         "type": "scatter",
         "uid": "7aa235c8-8d87-44b6-b70a-6f1d60a2fa9f",
         "x": [
          -0.06,
          -0.03625357389450073,
          -0.01637134552001953,
          -3.183426219038665e-05,
          0.015511304140090942,
          0.03491119980812073,
          0.06
         ],
         "y": [
          -4.885582072233774e-10,
          -0.00021184480749070645,
          -0.00046694079414010047,
          0.00035663251765072346,
          -0.00040708173997700215,
          -0.00019064148422330617,
          4.813909804113336e-10
         ]
        },
        {
         "line": {
          "shape": "spline"
         },
         "name": "1",
         "type": "scatter",
         "uid": "710c7512-249a-458a-a7f7-d1c6ac30b1ff",
         "x": [
          -0.09220729351043701,
          -0.0552430772781372,
          -0.026477263569831846,
          9.983645053580403e-05,
          0.026380807757377625,
          0.054389744997024536,
          0.10095828294754028
         ],
         "y": [
          -0.10694050312042236,
          -0.11247824192047119,
          -0.11688957452774047,
          -0.11951575756072998,
          -0.11657986879348754,
          -0.1123046064376831,
          -0.10710381746292114
         ]
        },
        {
         "line": {
          "shape": "spline"
         },
         "name": "2",
         "type": "scatter",
         "uid": "d39f19e7-897f-4fa0-8906-a2eb016dc56b",
         "x": [
          -0.14900598049163818,
          -0.08210969924926757,
          -0.044882715940475465,
          -6.337221013382077e-05,
          0.044706881046295166,
          0.09658396482467652,
          0.1427052640914917
         ],
         "y": [
          -0.21242457389831543,
          -0.233583083152771,
          -0.24174247741699217,
          -0.24711808204650879,
          -0.24090130805969237,
          -0.23367018699645994,
          -0.21346856117248533
         ]
        },
        {
         "line": {
          "shape": "spline"
         },
         "name": "3",
         "type": "scatter",
         "uid": "ed04cf39-feaa-486e-9c4b-3a1db0043786",
         "x": [
          -0.16916666507720945,
          -0.0926789903640747,
          -0.05249894857406616,
          0.0006839778833091258,
          0.054779863357543944,
          0.11410569190979003,
          0.167413272857666
         ],
         "y": [
          -0.35149701118469234,
          -0.39464009284973145,
          -0.4051276016235351,
          -0.4081548500061035,
          -0.40611413955688475,
          -0.3918590927124023,
          -0.34999116897583005
         ]
        },
        {
         "line": {
          "shape": "spline"
         },
         "name": "4",
         "type": "scatter",
         "uid": "d85dbe22-cb2e-4213-9ffb-f5f509a3869c",
         "x": [
          -0.17112045764923095,
          -0.09844457387924194,
          -0.05310993075370788,
          -0.00048058262094855306,
          0.053545178174972535,
          0.11567794561386108,
          0.17193689346313476
         ],
         "y": [
          -0.4625483894348144,
          -0.530863037109375,
          -0.5498313331604003,
          -0.5604378890991211,
          -0.5490228652954101,
          -0.525662727355957,
          -0.46313727378845215
         ]
        },
        {
         "line": {
          "shape": "spline"
         },
         "name": "5",
         "type": "scatter",
         "uid": "f073f1bf-5a6f-493d-a637-3ec5e579f5af",
         "x": [
          -0.15472851276397703,
          -0.09387964010238647,
          -0.050023283958435055,
          0.00018370565492659808,
          0.05256449818611145,
          0.1026408290863037,
          0.15553353309631346
         ],
         "y": [
          -0.5928020668029785,
          -0.6447237968444824,
          -0.6644904899597168,
          -0.6830879974365234,
          -0.6662513351440429,
          -0.6431739807128906,
          -0.5909514427185059
         ]
        },
        {
         "line": {
          "shape": "spline"
         },
         "name": "6",
         "type": "scatter",
         "uid": "c92cf239-acc1-4722-b394-94a9546a77eb",
         "x": [
          -0.11634461402893066,
          -0.08577572107315064,
          -0.047071377038955683,
          0.0003049664385616779,
          0.04342487096786499,
          0.08656352519989013,
          0.12741339683532715
         ],
         "y": [
          -0.6836723899841308,
          -0.7270757102966309,
          -0.7550159454345703,
          -0.7742119216918945,
          -0.7558248710632324,
          -0.7274939918518066,
          -0.6844031524658203
         ]
        }
       ],
       "layout": {
        "height": 600,
        "hovermode": "closest",
        "title": {
         "text": "Blender generated curves YZ Right Side View"
        },
        "width": 600,
        "xaxis": {
         "range": [
          -0.8,
          0.8
         ],
         "title": {
          "text": "X"
         }
        },
        "yaxis": {
         "range": [
          -0.6,
          1
         ],
         "title": {
          "text": "Y"
         }
        }
       }
      },
      "text/html": [
       "<div id=\"a8e18bc0-8e27-401b-b3a6-b9e6c6544828\" style=\"height: 600px; width: 600px;\" class=\"plotly-graph-div\"></div><script type=\"text/javascript\">require([\"plotly\"], function(Plotly) { window.PLOTLYENV=window.PLOTLYENV || {};window.PLOTLYENV.BASE_URL=\"https://plot.ly\";Plotly.newPlot(\"a8e18bc0-8e27-401b-b3a6-b9e6c6544828\", [{\"line\": {\"shape\": \"spline\"}, \"name\": \"0\", \"x\": [-0.06, -0.03625357389450073, -0.01637134552001953, -3.183426219038665e-05, 0.015511304140090942, 0.03491119980812073, 0.06], \"y\": [-4.885582072233774e-10, -0.00021184480749070645, -0.00046694079414010047, 0.00035663251765072346, -0.00040708173997700215, -0.00019064148422330617, 4.813909804113336e-10], \"type\": \"scatter\", \"uid\": \"7aa235c8-8d87-44b6-b70a-6f1d60a2fa9f\"}, {\"line\": {\"shape\": \"spline\"}, \"name\": \"1\", \"x\": [-0.09220729351043701, -0.0552430772781372, -0.026477263569831846, 9.983645053580403e-05, 0.026380807757377625, 0.054389744997024536, 0.10095828294754028], \"y\": [-0.10694050312042236, -0.11247824192047119, -0.11688957452774047, -0.11951575756072998, -0.11657986879348754, -0.1123046064376831, -0.10710381746292114], \"type\": \"scatter\", \"uid\": \"710c7512-249a-458a-a7f7-d1c6ac30b1ff\"}, {\"line\": {\"shape\": \"spline\"}, \"name\": \"2\", \"x\": [-0.14900598049163818, -0.08210969924926757, -0.044882715940475465, -6.337221013382077e-05, 0.044706881046295166, 0.09658396482467652, 0.1427052640914917], \"y\": [-0.21242457389831543, -0.233583083152771, -0.24174247741699217, -0.24711808204650879, -0.24090130805969237, -0.23367018699645994, -0.21346856117248533], \"type\": \"scatter\", \"uid\": \"d39f19e7-897f-4fa0-8906-a2eb016dc56b\"}, {\"line\": {\"shape\": \"spline\"}, \"name\": \"3\", \"x\": [-0.16916666507720945, -0.0926789903640747, -0.05249894857406616, 0.0006839778833091258, 0.054779863357543944, 0.11410569190979003, 0.167413272857666], \"y\": [-0.35149701118469234, -0.39464009284973145, -0.4051276016235351, -0.4081548500061035, -0.40611413955688475, -0.3918590927124023, -0.34999116897583005], \"type\": \"scatter\", \"uid\": \"ed04cf39-feaa-486e-9c4b-3a1db0043786\"}, {\"line\": {\"shape\": \"spline\"}, \"name\": \"4\", \"x\": [-0.17112045764923095, -0.09844457387924194, -0.05310993075370788, -0.00048058262094855306, 0.053545178174972535, 0.11567794561386108, 0.17193689346313476], \"y\": [-0.4625483894348144, -0.530863037109375, -0.5498313331604003, -0.5604378890991211, -0.5490228652954101, -0.525662727355957, -0.46313727378845215], \"type\": \"scatter\", \"uid\": \"d85dbe22-cb2e-4213-9ffb-f5f509a3869c\"}, {\"line\": {\"shape\": \"spline\"}, \"name\": \"5\", \"x\": [-0.15472851276397703, -0.09387964010238647, -0.050023283958435055, 0.00018370565492659808, 0.05256449818611145, 0.1026408290863037, 0.15553353309631346], \"y\": [-0.5928020668029785, -0.6447237968444824, -0.6644904899597168, -0.6830879974365234, -0.6662513351440429, -0.6431739807128906, -0.5909514427185059], \"type\": \"scatter\", \"uid\": \"f073f1bf-5a6f-493d-a637-3ec5e579f5af\"}, {\"line\": {\"shape\": \"spline\"}, \"name\": \"6\", \"x\": [-0.11634461402893066, -0.08577572107315064, -0.047071377038955683, 0.0003049664385616779, 0.04342487096786499, 0.08656352519989013, 0.12741339683532715], \"y\": [-0.6836723899841308, -0.7270757102966309, -0.7550159454345703, -0.7742119216918945, -0.7558248710632324, -0.7274939918518066, -0.6844031524658203], \"type\": \"scatter\", \"uid\": \"c92cf239-acc1-4722-b394-94a9546a77eb\"}], {\"height\": 600, \"hovermode\": \"closest\", \"title\": {\"text\": \"Blender generated curves YZ Right Side View\"}, \"width\": 600, \"xaxis\": {\"range\": [-0.8, 0.8], \"title\": {\"text\": \"X\"}}, \"yaxis\": {\"range\": [-0.6, 1], \"title\": {\"text\": \"Y\"}}}, {\"showLink\": false, \"linkText\": \"Export to plot.ly\", \"plotlyServerURL\": \"https://plot.ly\"})});</script>"
      ],
      "text/vnd.plotly.v1+html": [
       "<div id=\"a8e18bc0-8e27-401b-b3a6-b9e6c6544828\" style=\"height: 600px; width: 600px;\" class=\"plotly-graph-div\"></div><script type=\"text/javascript\">require([\"plotly\"], function(Plotly) { window.PLOTLYENV=window.PLOTLYENV || {};window.PLOTLYENV.BASE_URL=\"https://plot.ly\";Plotly.newPlot(\"a8e18bc0-8e27-401b-b3a6-b9e6c6544828\", [{\"line\": {\"shape\": \"spline\"}, \"name\": \"0\", \"x\": [-0.06, -0.03625357389450073, -0.01637134552001953, -3.183426219038665e-05, 0.015511304140090942, 0.03491119980812073, 0.06], \"y\": [-4.885582072233774e-10, -0.00021184480749070645, -0.00046694079414010047, 0.00035663251765072346, -0.00040708173997700215, -0.00019064148422330617, 4.813909804113336e-10], \"type\": \"scatter\", \"uid\": \"7aa235c8-8d87-44b6-b70a-6f1d60a2fa9f\"}, {\"line\": {\"shape\": \"spline\"}, \"name\": \"1\", \"x\": [-0.09220729351043701, -0.0552430772781372, -0.026477263569831846, 9.983645053580403e-05, 0.026380807757377625, 0.054389744997024536, 0.10095828294754028], \"y\": [-0.10694050312042236, -0.11247824192047119, -0.11688957452774047, -0.11951575756072998, -0.11657986879348754, -0.1123046064376831, -0.10710381746292114], \"type\": \"scatter\", \"uid\": \"710c7512-249a-458a-a7f7-d1c6ac30b1ff\"}, {\"line\": {\"shape\": \"spline\"}, \"name\": \"2\", \"x\": [-0.14900598049163818, -0.08210969924926757, -0.044882715940475465, -6.337221013382077e-05, 0.044706881046295166, 0.09658396482467652, 0.1427052640914917], \"y\": [-0.21242457389831543, -0.233583083152771, -0.24174247741699217, -0.24711808204650879, -0.24090130805969237, -0.23367018699645994, -0.21346856117248533], \"type\": \"scatter\", \"uid\": \"d39f19e7-897f-4fa0-8906-a2eb016dc56b\"}, {\"line\": {\"shape\": \"spline\"}, \"name\": \"3\", \"x\": [-0.16916666507720945, -0.0926789903640747, -0.05249894857406616, 0.0006839778833091258, 0.054779863357543944, 0.11410569190979003, 0.167413272857666], \"y\": [-0.35149701118469234, -0.39464009284973145, -0.4051276016235351, -0.4081548500061035, -0.40611413955688475, -0.3918590927124023, -0.34999116897583005], \"type\": \"scatter\", \"uid\": \"ed04cf39-feaa-486e-9c4b-3a1db0043786\"}, {\"line\": {\"shape\": \"spline\"}, \"name\": \"4\", \"x\": [-0.17112045764923095, -0.09844457387924194, -0.05310993075370788, -0.00048058262094855306, 0.053545178174972535, 0.11567794561386108, 0.17193689346313476], \"y\": [-0.4625483894348144, -0.530863037109375, -0.5498313331604003, -0.5604378890991211, -0.5490228652954101, -0.525662727355957, -0.46313727378845215], \"type\": \"scatter\", \"uid\": \"d85dbe22-cb2e-4213-9ffb-f5f509a3869c\"}, {\"line\": {\"shape\": \"spline\"}, \"name\": \"5\", \"x\": [-0.15472851276397703, -0.09387964010238647, -0.050023283958435055, 0.00018370565492659808, 0.05256449818611145, 0.1026408290863037, 0.15553353309631346], \"y\": [-0.5928020668029785, -0.6447237968444824, -0.6644904899597168, -0.6830879974365234, -0.6662513351440429, -0.6431739807128906, -0.5909514427185059], \"type\": \"scatter\", \"uid\": \"f073f1bf-5a6f-493d-a637-3ec5e579f5af\"}, {\"line\": {\"shape\": \"spline\"}, \"name\": \"6\", \"x\": [-0.11634461402893066, -0.08577572107315064, -0.047071377038955683, 0.0003049664385616779, 0.04342487096786499, 0.08656352519989013, 0.12741339683532715], \"y\": [-0.6836723899841308, -0.7270757102966309, -0.7550159454345703, -0.7742119216918945, -0.7558248710632324, -0.7274939918518066, -0.6844031524658203], \"type\": \"scatter\", \"uid\": \"c92cf239-acc1-4722-b394-94a9546a77eb\"}], {\"height\": 600, \"hovermode\": \"closest\", \"title\": {\"text\": \"Blender generated curves YZ Right Side View\"}, \"width\": 600, \"xaxis\": {\"range\": [-0.8, 0.8], \"title\": {\"text\": \"X\"}}, \"yaxis\": {\"range\": [-0.6, 1], \"title\": {\"text\": \"Y\"}}}, {\"showLink\": false, \"linkText\": \"Export to plot.ly\", \"plotlyServerURL\": \"https://plot.ly\"})});</script>"
      ]
     },
     "metadata": {},
     "output_type": "display_data"
    }
   ],
   "source": [
    "gx = gy.FormatNetworkToGraphColumns(nc[6], xOffset=7, yOffset=14, colPoints=7)\n",
    "\n",
    "layout = go.Layout(\n",
    "    title = 'Initial Curves',\n",
    "    height = 600,\n",
    "    width = 600,\n",
    "    hovermode= 'closest',\n",
    "    xaxis= dict(\n",
    "        title= 'X',\n",
    "        range = [-.8,.8],\n",
    "    ),\n",
    "    yaxis=dict(\n",
    "        title= 'Y',\n",
    "        range = [-.6,1],\n",
    "    )\n",
    ")\n",
    "layout.title = 'Blender generated curves YZ Right Side View'\n",
    "f = gy.graphCurves(gx, layout,dashRange=[10,10])\n",
    "offline.iplot(f)"
   ]
  },
  {
   "cell_type": "code",
   "execution_count": 10,
   "metadata": {},
   "outputs": [
    {
     "data": {
      "application/vnd.plotly.v1+json": {
       "config": {
        "linkText": "Export to plot.ly",
        "plotlyServerURL": "https://plot.ly",
        "showLink": false
       },
       "data": [
        {
         "line": {
          "shape": "spline"
         },
         "name": "0.0",
         "type": "scatter",
         "uid": "f9bb62c2-4367-42dd-bba9-c367102c255c",
         "x": [
          -1.1175869563118112e-10,
          2.2981592919677496e-05,
          -9.953553671948612e-06,
          2.487658231984824e-05,
          -1.995355531107634e-05,
          -1.0544893448241054e-05,
          -7.025630077706068e-18
         ],
         "y": [
          -0.03,
          -0.0170790159702301,
          -0.008057965636253356,
          0.00033597364090383054,
          0.008807904124259948,
          0.01821758508682251,
          0.03
         ]
        },
        {
         "line": {
          "shape": "spline"
         },
         "name": "0.1",
         "type": "scatter",
         "uid": "69dd901c-56f1-4af0-9892-c921a604719f",
         "x": [
          0.1789039707183838,
          0.17094202995300292,
          0.16314642906188964,
          0.1607898187637329,
          0.16335641384124755,
          0.17061574459075926,
          0.1775103521347046
         ],
         "y": [
          -0.07159546852111816,
          -0.043130865097045896,
          -0.019209771752357482,
          0.0006192455627024174,
          0.020651902556419372,
          0.04404250144958496,
          0.07087594270706177
         ]
        },
        {
         "line": {
          "shape": "spline"
         },
         "name": "0.3",
         "type": "scatter",
         "uid": "96a0c681-dbbc-4050-a131-bf46cfe6ab88",
         "x": [
          0.36004809379577635,
          0.3527102279663086,
          0.3421183204650879,
          0.33976630210876463,
          0.3425786018371582,
          0.35264150619506834,
          0.3613461685180664
         ],
         "y": [
          -0.12594849586486817,
          -0.08134529829025268,
          -0.030308239459991455,
          -0.0002317593153566122,
          0.031722711324691774,
          0.08069172620773316,
          0.11188671827316284
         ]
        },
        {
         "line": {
          "shape": "spline"
         },
         "name": "0.55",
         "type": "scatter",
         "uid": "d03fe701-2f84-47f2-87d7-73c295ae7fd8",
         "x": [
          0.5538709831237792,
          0.551773681640625,
          0.5456482887268066,
          0.5401831054687499,
          0.5447724723815918,
          0.5514159965515136,
          0.5529959106445312
         ],
         "y": [
          -0.14753371238708496,
          -0.1014908480644226,
          -0.043556113243103024,
          -0.00025146237574517725,
          0.04008424401283264,
          0.09531410694122314,
          0.13856956958770753
         ]
        },
        {
         "line": {
          "shape": "spline"
         },
         "name": "0.8",
         "type": "scatter",
         "uid": "28d8ad9a-3f5f-459a-a11f-ccd96692db6c",
         "x": [
          0.7155344009399414,
          0.7358662033081055,
          0.7535442352294922,
          0.7592107200622559,
          0.7543190002441406,
          0.736937026977539,
          0.7156243515014649
         ],
         "y": [
          -0.15213702678680419,
          -0.10056578636169433,
          -0.04948278665542603,
          0.00041302925907075403,
          0.04786356210708618,
          0.10057695865631103,
          0.1542985439300537
         ]
        },
        {
         "line": {
          "shape": "spline"
         },
         "name": "1.0",
         "type": "scatter",
         "uid": "edc5e49f-51af-473b-97f9-36372dcf409e",
         "x": [
          0.889320888519287,
          0.9164555168151856,
          0.9344028282165527,
          0.9408776664733887,
          0.9349308013916016,
          0.9168106269836426,
          0.8884770584106445
         ],
         "y": [
          -0.13285032749176026,
          -0.09753257989883422,
          -0.04974196314811706,
          0.0002724487334489822,
          0.04842079997062683,
          0.09702117204666137,
          0.1353309917449951
         ]
        },
        {
         "line": {
          "shape": "spline"
         },
         "name": "1.1",
         "type": "scatter",
         "uid": "66ca61e1-5051-41d1-b3e3-f6b6a44a57db",
         "x": [
          1.018707160949707,
          1.0468878936767578,
          1.0691974639892579,
          1.0778927993774414,
          1.0685313034057617,
          1.0461304092407226,
          1.0178421020507813
         ],
         "y": [
          -0.1094048023223877,
          -0.08487961292266845,
          -0.04237799763679504,
          -8.706892607733607e-05,
          0.0379702091217041,
          0.084911470413208,
          0.10375258684158324
         ]
        }
       ],
       "layout": {
        "height": 600,
        "hovermode": "closest",
        "title": {
         "text": "Figure 2. Morphology curves XY Top View for time index .8"
        },
        "width": 600,
        "xaxis": {
         "range": [
          -0.1,
          1.2
         ],
         "title": {
          "text": "X"
         }
        },
        "yaxis": {
         "range": [
          -0.25,
          0.25
         ],
         "title": {
          "text": "Y"
         }
        }
       }
      },
      "text/html": [
       "<div id=\"a614731b-23d6-48a0-a2e4-c972a34656a2\" style=\"height: 600px; width: 600px;\" class=\"plotly-graph-div\"></div><script type=\"text/javascript\">require([\"plotly\"], function(Plotly) { window.PLOTLYENV=window.PLOTLYENV || {};window.PLOTLYENV.BASE_URL=\"https://plot.ly\";Plotly.newPlot(\"a614731b-23d6-48a0-a2e4-c972a34656a2\", [{\"line\": {\"shape\": \"spline\"}, \"name\": \"0.0\", \"x\": [-1.1175869563118112e-10, 2.2981592919677496e-05, -9.953553671948612e-06, 2.487658231984824e-05, -1.995355531107634e-05, -1.0544893448241054e-05, -7.025630077706068e-18], \"y\": [-0.03, -0.0170790159702301, -0.008057965636253356, 0.00033597364090383054, 0.008807904124259948, 0.01821758508682251, 0.03], \"type\": \"scatter\", \"uid\": \"f9bb62c2-4367-42dd-bba9-c367102c255c\"}, {\"line\": {\"shape\": \"spline\"}, \"name\": \"0.1\", \"x\": [0.1789039707183838, 0.17094202995300292, 0.16314642906188964, 0.1607898187637329, 0.16335641384124755, 0.17061574459075926, 0.1775103521347046], \"y\": [-0.07159546852111816, -0.043130865097045896, -0.019209771752357482, 0.0006192455627024174, 0.020651902556419372, 0.04404250144958496, 0.07087594270706177], \"type\": \"scatter\", \"uid\": \"69dd901c-56f1-4af0-9892-c921a604719f\"}, {\"line\": {\"shape\": \"spline\"}, \"name\": \"0.3\", \"x\": [0.36004809379577635, 0.3527102279663086, 0.3421183204650879, 0.33976630210876463, 0.3425786018371582, 0.35264150619506834, 0.3613461685180664], \"y\": [-0.12594849586486817, -0.08134529829025268, -0.030308239459991455, -0.0002317593153566122, 0.031722711324691774, 0.08069172620773316, 0.11188671827316284], \"type\": \"scatter\", \"uid\": \"96a0c681-dbbc-4050-a131-bf46cfe6ab88\"}, {\"line\": {\"shape\": \"spline\"}, \"name\": \"0.55\", \"x\": [0.5538709831237792, 0.551773681640625, 0.5456482887268066, 0.5401831054687499, 0.5447724723815918, 0.5514159965515136, 0.5529959106445312], \"y\": [-0.14753371238708496, -0.1014908480644226, -0.043556113243103024, -0.00025146237574517725, 0.04008424401283264, 0.09531410694122314, 0.13856956958770753], \"type\": \"scatter\", \"uid\": \"d03fe701-2f84-47f2-87d7-73c295ae7fd8\"}, {\"line\": {\"shape\": \"spline\"}, \"name\": \"0.8\", \"x\": [0.7155344009399414, 0.7358662033081055, 0.7535442352294922, 0.7592107200622559, 0.7543190002441406, 0.736937026977539, 0.7156243515014649], \"y\": [-0.15213702678680419, -0.10056578636169433, -0.04948278665542603, 0.00041302925907075403, 0.04786356210708618, 0.10057695865631103, 0.1542985439300537], \"type\": \"scatter\", \"uid\": \"28d8ad9a-3f5f-459a-a11f-ccd96692db6c\"}, {\"line\": {\"shape\": \"spline\"}, \"name\": \"1.0\", \"x\": [0.889320888519287, 0.9164555168151856, 0.9344028282165527, 0.9408776664733887, 0.9349308013916016, 0.9168106269836426, 0.8884770584106445], \"y\": [-0.13285032749176026, -0.09753257989883422, -0.04974196314811706, 0.0002724487334489822, 0.04842079997062683, 0.09702117204666137, 0.1353309917449951], \"type\": \"scatter\", \"uid\": \"edc5e49f-51af-473b-97f9-36372dcf409e\"}, {\"line\": {\"shape\": \"spline\"}, \"name\": \"1.1\", \"x\": [1.018707160949707, 1.0468878936767578, 1.0691974639892579, 1.0778927993774414, 1.0685313034057617, 1.0461304092407226, 1.0178421020507813], \"y\": [-0.1094048023223877, -0.08487961292266845, -0.04237799763679504, -8.706892607733607e-05, 0.0379702091217041, 0.084911470413208, 0.10375258684158324], \"type\": \"scatter\", \"uid\": \"66ca61e1-5051-41d1-b3e3-f6b6a44a57db\"}], {\"height\": 600, \"hovermode\": \"closest\", \"title\": {\"text\": \"Figure 2. Morphology curves XY Top View for time index .8\"}, \"width\": 600, \"xaxis\": {\"range\": [-0.1, 1.2], \"title\": {\"text\": \"X\"}}, \"yaxis\": {\"range\": [-0.25, 0.25], \"title\": {\"text\": \"Y\"}}}, {\"showLink\": false, \"linkText\": \"Export to plot.ly\", \"plotlyServerURL\": \"https://plot.ly\"})});</script>"
      ],
      "text/vnd.plotly.v1+html": [
       "<div id=\"a614731b-23d6-48a0-a2e4-c972a34656a2\" style=\"height: 600px; width: 600px;\" class=\"plotly-graph-div\"></div><script type=\"text/javascript\">require([\"plotly\"], function(Plotly) { window.PLOTLYENV=window.PLOTLYENV || {};window.PLOTLYENV.BASE_URL=\"https://plot.ly\";Plotly.newPlot(\"a614731b-23d6-48a0-a2e4-c972a34656a2\", [{\"line\": {\"shape\": \"spline\"}, \"name\": \"0.0\", \"x\": [-1.1175869563118112e-10, 2.2981592919677496e-05, -9.953553671948612e-06, 2.487658231984824e-05, -1.995355531107634e-05, -1.0544893448241054e-05, -7.025630077706068e-18], \"y\": [-0.03, -0.0170790159702301, -0.008057965636253356, 0.00033597364090383054, 0.008807904124259948, 0.01821758508682251, 0.03], \"type\": \"scatter\", \"uid\": \"f9bb62c2-4367-42dd-bba9-c367102c255c\"}, {\"line\": {\"shape\": \"spline\"}, \"name\": \"0.1\", \"x\": [0.1789039707183838, 0.17094202995300292, 0.16314642906188964, 0.1607898187637329, 0.16335641384124755, 0.17061574459075926, 0.1775103521347046], \"y\": [-0.07159546852111816, -0.043130865097045896, -0.019209771752357482, 0.0006192455627024174, 0.020651902556419372, 0.04404250144958496, 0.07087594270706177], \"type\": \"scatter\", \"uid\": \"69dd901c-56f1-4af0-9892-c921a604719f\"}, {\"line\": {\"shape\": \"spline\"}, \"name\": \"0.3\", \"x\": [0.36004809379577635, 0.3527102279663086, 0.3421183204650879, 0.33976630210876463, 0.3425786018371582, 0.35264150619506834, 0.3613461685180664], \"y\": [-0.12594849586486817, -0.08134529829025268, -0.030308239459991455, -0.0002317593153566122, 0.031722711324691774, 0.08069172620773316, 0.11188671827316284], \"type\": \"scatter\", \"uid\": \"96a0c681-dbbc-4050-a131-bf46cfe6ab88\"}, {\"line\": {\"shape\": \"spline\"}, \"name\": \"0.55\", \"x\": [0.5538709831237792, 0.551773681640625, 0.5456482887268066, 0.5401831054687499, 0.5447724723815918, 0.5514159965515136, 0.5529959106445312], \"y\": [-0.14753371238708496, -0.1014908480644226, -0.043556113243103024, -0.00025146237574517725, 0.04008424401283264, 0.09531410694122314, 0.13856956958770753], \"type\": \"scatter\", \"uid\": \"d03fe701-2f84-47f2-87d7-73c295ae7fd8\"}, {\"line\": {\"shape\": \"spline\"}, \"name\": \"0.8\", \"x\": [0.7155344009399414, 0.7358662033081055, 0.7535442352294922, 0.7592107200622559, 0.7543190002441406, 0.736937026977539, 0.7156243515014649], \"y\": [-0.15213702678680419, -0.10056578636169433, -0.04948278665542603, 0.00041302925907075403, 0.04786356210708618, 0.10057695865631103, 0.1542985439300537], \"type\": \"scatter\", \"uid\": \"28d8ad9a-3f5f-459a-a11f-ccd96692db6c\"}, {\"line\": {\"shape\": \"spline\"}, \"name\": \"1.0\", \"x\": [0.889320888519287, 0.9164555168151856, 0.9344028282165527, 0.9408776664733887, 0.9349308013916016, 0.9168106269836426, 0.8884770584106445], \"y\": [-0.13285032749176026, -0.09753257989883422, -0.04974196314811706, 0.0002724487334489822, 0.04842079997062683, 0.09702117204666137, 0.1353309917449951], \"type\": \"scatter\", \"uid\": \"edc5e49f-51af-473b-97f9-36372dcf409e\"}, {\"line\": {\"shape\": \"spline\"}, \"name\": \"1.1\", \"x\": [1.018707160949707, 1.0468878936767578, 1.0691974639892579, 1.0778927993774414, 1.0685313034057617, 1.0461304092407226, 1.0178421020507813], \"y\": [-0.1094048023223877, -0.08487961292266845, -0.04237799763679504, -8.706892607733607e-05, 0.0379702091217041, 0.084911470413208, 0.10375258684158324], \"type\": \"scatter\", \"uid\": \"66ca61e1-5051-41d1-b3e3-f6b6a44a57db\"}], {\"height\": 600, \"hovermode\": \"closest\", \"title\": {\"text\": \"Figure 2. Morphology curves XY Top View for time index .8\"}, \"width\": 600, \"xaxis\": {\"range\": [-0.1, 1.2], \"title\": {\"text\": \"X\"}}, \"yaxis\": {\"range\": [-0.25, 0.25], \"title\": {\"text\": \"Y\"}}}, {\"showLink\": false, \"linkText\": \"Export to plot.ly\", \"plotlyServerURL\": \"https://plot.ly\"})});</script>"
      ]
     },
     "metadata": {},
     "output_type": "display_data"
    }
   ],
   "source": [
    "gx = gy.FormatNetworkToGraphColumns(nc[4], xOffset=0, yOffset=7, colPoints=7)\n",
    "\n",
    "layout = go.Layout(\n",
    "    title = 'Initial Curves',\n",
    "    height = 600,\n",
    "    width = 600,\n",
    "    hovermode= 'closest',\n",
    "    xaxis= dict(\n",
    "        title= 'X',\n",
    "        range = [-.1,1.2],\n",
    "    ),\n",
    "    yaxis=dict(\n",
    "        title= 'Y',\n",
    "        range = [-.25,.25],\n",
    "    )\n",
    ")\n",
    "layout.title = 'Figure 2. Morphology curves XY Top View for time index .8'\n",
    "labels = [0.,0.1,.3,.55,.8,1.0, 1.1]\n",
    "\n",
    "f = gy.graphCurves(gx, layout, labels, dashRange=range(10,100))\n",
    "offline.iplot(f)\n",
    "\n",
    "if not os.path.exists('images'):\n",
    "    os.mkdir('images')\n",
    "pio.write_image(f, './images/fig2.png')\n"
   ]
  },
  {
   "cell_type": "code",
   "execution_count": 11,
   "metadata": {},
   "outputs": [
    {
     "data": {
      "text/plain": [
       "(torch.Size([7, 7, 2]), torch.Size([7, 7, 21]))"
      ]
     },
     "execution_count": 11,
     "metadata": {},
     "output_type": "execute_result"
    }
   ],
   "source": [
    "''' \n",
    "3. Create reference NN input and output Targets\n",
    "\n",
    "'''\n",
    "morphIndices=[0.,0.1,.3,.55,.8,1.0, 1.1]\n",
    "timeIndices= [0.,0.1,.3,.55,.8,1.0, 1.1]\n",
    "\n",
    "relMapIn = gy.createRmInput(morphIndices, timeIndices, sPermutation=[])\n",
    "trelMapIn = torch.Tensor(relMapIn)\n",
    "tphTarget = torch.Tensor(nc)\n",
    "\n",
    "trelMapIn.shape, tphTarget.shape\n"
   ]
  },
  {
   "cell_type": "code",
   "execution_count": 12,
   "metadata": {},
   "outputs": [
    {
     "name": "stdout",
     "output_type": "stream",
     "text": [
      "cuda device:  cpu\n"
     ]
    },
    {
     "data": {
      "text/plain": [
       "([2, 10, 15, 21], torch.Size([7, 7, 2]))"
      ]
     },
     "execution_count": 12,
     "metadata": {},
     "output_type": "execute_result"
    }
   ],
   "source": [
    "'''\n",
    "4. Initialize network model\n",
    "\n",
    "'''\n",
    "\n",
    "torch.manual_seed(1)\n",
    "templateModel = Net([2,10,15,21])\n",
    "templateModel.train = True\n",
    "\n",
    "#device = torch.device(\"cuda:0\")\n",
    "device = torch.device(\"cpu\")\n",
    "print('cuda device: ', device)\n",
    "if device == torch.device(\"cuda:0\"):\n",
    "    templateModel.to(device)\n",
    "    trelMapIn = tgeTarget.to(device)\n",
    "    tphTarget = tphTarget.to(device)\n",
    "    print(\"Transfer to use \", device)\n",
    "templateModel.shape, trelMapIn.shape"
   ]
  },
  {
   "cell_type": "code",
   "execution_count": 16,
   "metadata": {},
   "outputs": [
    {
     "name": "stdout",
     "output_type": "stream",
     "text": [
      "Epoch 0 - loss: 0.00826\n",
      "Epoch 2,000 - loss: 0.01025\n",
      "Epoch 4,000 - loss: 0.01235\n",
      "Epoch 6,000 - loss: 0.00515\n",
      "Epoch 8,000 - loss: 0.01322\n",
      "Epoch 10,000 - loss: 0.00699\n",
      "Epoch 12,000 - loss: 0.00610\n",
      "Epoch 14,000 - loss: 0.00747\n",
      "Epoch 16,000 - loss: 0.00429\n",
      "Epoch 18,000 - loss: 0.01686\n",
      "Epoch 20,000 - loss: 0.00117:0.04173\n",
      "time:  126.89228773117065\n"
     ]
    }
   ],
   "source": [
    "''' \n",
    "5. Train 2D Ge input to NN model 3D (xyz) Ph output\n",
    "\n",
    "'''\n",
    "numBatch = trelMapIn.shape[0]\n",
    "criterion = torch.nn.MSELoss(reduction='sum')\n",
    "start = time.time()\n",
    "\n",
    "parms={'lRate':.0001, 'epochs':20000,'numBatch':numBatch,'relMap':trelMapIn,'phTarget':tphTarget}\n",
    "phTrain(templateModel,parms)\n",
    "\n",
    "print('time: ', time.time()-start)\n",
    "templateModel.train = False"
   ]
  },
  {
   "cell_type": "code",
   "execution_count": null,
   "metadata": {},
   "outputs": [],
   "source": [
    "'''\n",
    "parms={'lRate':.001, 'epochs':20000,'numBatch':numBatch,'relMap':trelMapIn,'phTarget':tphTarget}\n",
    "Epoch 20,000 - loss: 0.00389:36.25688\n",
    "Epoch 20,000 - loss: 0.00219:0.23437\n",
    "parms={'lRate':.0005, 'epochs':20000,'numBatch':numBatch,'relMap':trelMapIn,'phTarget':tphTarget}\n",
    "Epoch 20,000 - loss: 0.00135:0.07675\n",
    "parms={'lRate':.0001, 'epochs':20000,'numBatch':numBatch,'relMap':trelMapIn,'phTarget':tphTarget}\n",
    "\n",
    "\n",
    "'''"
   ]
  },
  {
   "cell_type": "code",
   "execution_count": null,
   "metadata": {},
   "outputs": [],
   "source": [
    "'''\n",
    "6. Generate sample model output and blender formatted test data\n",
    "\n",
    "'''\n",
    "\n",
    "morphIndices=[0.,0.1,.2,.3,.5,.7,.9,1.0, 1.1]\n",
    "timeIndices=[0.,0.1,.2,.3,.5,.7,.9,1.0, 1.1]\n",
    "relMapIn = gy.createRmInput(morphIndices, timeIndices, sPermutation=[])\n",
    "\n",
    "ph2t = templateModel(torch.Tensor(relMapIn)).data.numpy()\n",
    "\n",
    "relMapIn.shape,ph2t.shape"
   ]
  },
  {
   "cell_type": "code",
   "execution_count": null,
   "metadata": {},
   "outputs": [],
   "source": [
    "# model generated\n",
    "grPh2t = np.reshape(ph2t,(-1,21))\n",
    "gx = gy.FormatNetworkToGraphColumns(grPh2t, xOffset=0, yOffset=14, colPoints=7)\n",
    "\n",
    "layout = go.Layout(\n",
    "    title = 'Initial Curves',\n",
    "    height = 600,\n",
    "    width = 600,\n",
    "    hovermode= 'closest',\n",
    "    xaxis= dict(\n",
    "        title= 'X',\n",
    "        range = [-.8,1.3],\n",
    "    ),\n",
    "    yaxis=dict(\n",
    "        title= 'Y',\n",
    "        range = [-1,1.3],\n",
    "    )\n",
    ")\n",
    "layout.title = 'Model generated curves XZ Front View'\n",
    "f = gy.graphCurves(gx, layout, dashRange=range(0,8))\n",
    "offline.iplot(f)"
   ]
  },
  {
   "cell_type": "code",
   "execution_count": null,
   "metadata": {},
   "outputs": [],
   "source": [
    "i = 5\n",
    "ii = 6\n",
    "xOffset=0\n",
    "yOffset=7\n",
    "colPoints=7\n",
    "\n",
    "gx1 = gy.FormatNetworkToGraphColumns(nc[i], xOffset, yOffset, colPoints)\n",
    "gx2 = gy.FormatNetworkToGraphColumns(ph2t[ii], xOffset, yOffset, colPoints)\n",
    "gx = np.concatenate((gx1,gx2),axis=0)\n",
    "layout = go.Layout(\n",
    "    title = 'Initial Curves',\n",
    "    height = 600,\n",
    "    width = 600,\n",
    "    hovermode= 'closest',\n",
    "    xaxis= dict(\n",
    "        title= 'X',\n",
    "        range = [-.1,1.2],\n",
    "    ),\n",
    "    yaxis=dict(\n",
    "        title= 'Y',\n",
    "        range = [-.6,.6],\n",
    "    )\n",
    ")\n",
    "layout.title = 'Model generated curves XY Top View'\n",
    "f = gy.graphCurves(gx, layout, dashRange=range(0,7))\n",
    "offline.iplot(f)"
   ]
  },
  {
   "cell_type": "code",
   "execution_count": null,
   "metadata": {},
   "outputs": [],
   "source": [
    "i = 2\n",
    "ii = 3\n",
    "xOffset=7\n",
    "yOffset=14\n",
    "colPoints=7\n",
    "\n",
    "gx1 = gy.FormatNetworkToGraphColumns(nc[i], xOffset, yOffset, colPoints)\n",
    "gx2 = gy.FormatNetworkToGraphColumns(ph2t[ii], xOffset, yOffset, colPoints)\n",
    "gx = np.concatenate((gx1,gx2),axis=0)\n",
    "layout = go.Layout(\n",
    "    title = 'Initial Curves',\n",
    "    height = 600,\n",
    "    width = 600,\n",
    "    hovermode= 'closest',\n",
    "    xaxis= dict(\n",
    "        title= 'X',\n",
    "        range = [-.3,.3],\n",
    "    ),\n",
    "    yaxis=dict(\n",
    "        title= 'Y',\n",
    "        range = [-.1,1.3],\n",
    "    )\n",
    ")\n",
    "layout.title = 'Model generated curves XY Top View'\n",
    "f = gy.graphCurves(gx, layout, dashRange=range(0,7))\n",
    "offline.iplot(f)"
   ]
  },
  {
   "cell_type": "code",
   "execution_count": null,
   "metadata": {},
   "outputs": [],
   "source": [
    "'''\n",
    "7. Save 2D template model weights to file\n",
    "\n",
    "'''\n",
    "\n",
    "# PATH = CURRENT_MODEL_SAVE_DIR +'templateModel0.pth'\n",
    "# torch.save(phModel.state_dict(), PATH)\n",
    "# PATH"
   ]
  },
  {
   "cell_type": "code",
   "execution_count": null,
   "metadata": {},
   "outputs": [],
   "source": [
    "# bphOut = gy.FormatNetworkToBlender(phOut, xOffset=0, yOffset=7, zOffset=14, colPoints=7)\n",
    "# PATH = CURRENT_MODEL_SAVE_DIR +'bModelT0.json'\n",
    "\n",
    "# with open(PATH, 'w') as fp:\n",
    "#     json.dump(bphOut.tolist(),fp)\n",
    "    \n",
    "# PATH, bphOut.shape"
   ]
  }
 ],
 "metadata": {
  "kernelspec": {
   "display_name": "Python [conda env:pytorch]",
   "language": "python",
   "name": "conda-env-pytorch-py"
  },
  "language_info": {
   "codemirror_mode": {
    "name": "ipython",
    "version": 3
   },
   "file_extension": ".py",
   "mimetype": "text/x-python",
   "name": "python",
   "nbconvert_exporter": "python",
   "pygments_lexer": "ipython3",
   "version": "3.7.2"
  }
 },
 "nbformat": 4,
 "nbformat_minor": 2
}
