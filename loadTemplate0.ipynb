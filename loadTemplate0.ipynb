{
 "cells": [
  {
   "cell_type": "markdown",
   "metadata": {},
   "source": [
    "1. Read mesh points for Blender (Phenotype)\n",
    "2. Convert Blender xyz tensors to NN tensor format\n",
    "3. Create NN input and output Targets\n",
    "4. Initialize network model\n",
    "5. Train 2D Ge input to NN model 3D (xyz) Ph output\n",
    "6. Generate sample model output and blender formatted test data\n",
    "7. Save 2D template model weights to file\n"
   ]
  },
  {
   "cell_type": "code",
   "execution_count": 2,
   "metadata": {},
   "outputs": [
    {
     "data": {
      "text/html": [
       "<script type=\"text/javascript\">window.PlotlyConfig = {MathJaxConfig: 'local'};</script><script type=\"text/javascript\">if (window.MathJax) {MathJax.Hub.Config({SVG: {font: \"STIX-Web\"}});}</script><script>requirejs.config({paths: { 'plotly': ['https://cdn.plot.ly/plotly-latest.min']},});if(!window._Plotly) {require(['plotly'],function(plotly) {window._Plotly=plotly;});}</script>"
      ],
      "text/vnd.plotly.v1+html": [
       "<script type=\"text/javascript\">window.PlotlyConfig = {MathJaxConfig: 'local'};</script><script type=\"text/javascript\">if (window.MathJax) {MathJax.Hub.Config({SVG: {font: \"STIX-Web\"}});}</script><script>requirejs.config({paths: { 'plotly': ['https://cdn.plot.ly/plotly-latest.min']},});if(!window._Plotly) {require(['plotly'],function(plotly) {window._Plotly=plotly;});}</script>"
      ]
     },
     "metadata": {},
     "output_type": "display_data"
    }
   ],
   "source": [
    "import torch as torch\n",
    "import torch.nn as nn\n",
    "\n",
    "import numpy as np\n",
    "import json \n",
    "import time\n",
    "import NNArt as gy\n",
    "\n",
    "import plotly as py\n",
    "import plotly.offline as offline\n",
    "import plotly.graph_objs as go\n",
    "\n",
    "CURRENT_MODEL_SAVE_DIR = './save/'\n",
    "\n",
    "offline.init_notebook_mode(connected=True) \n",
    "np.set_printoptions(precision=3, suppress=True)"
   ]
  },
  {
   "cell_type": "code",
   "execution_count": 3,
   "metadata": {},
   "outputs": [
    {
     "name": "stdout",
     "output_type": "stream",
     "text": [
      "CUDA is available: True \n",
      "  on device: 0 (GeForce GTX 1080 Ti)\n",
      "for pytorch: 1.0.1 and python: 3.7.2\n",
      "  at: D:\\Anaconda3\\envs\\pytorch\\python.exe\n"
     ]
    }
   ],
   "source": [
    "import sys\n",
    "sys.executable\n",
    "from platform import python_version\n",
    "\n",
    "print('CUDA is available: {} \\n  on device: {} ({})\\nfor pytorch: {} and python: {}\\n  at: {}'.format(\n",
    "    torch.cuda.is_available(),\n",
    "    torch.cuda.current_device(), torch.cuda.get_device_name(torch.cuda.current_device()),\n",
    "    torch.__version__,\n",
    "    python_version(),\n",
    "    sys.executable\n",
    "    ))\n"
   ]
  },
  {
   "cell_type": "code",
   "execution_count": 4,
   "metadata": {},
   "outputs": [],
   "source": [
    "class Net(nn.Module):\n",
    "    def __init__(self, layerSizes=[2,10,10,20]):\n",
    "        super(Net, self).__init__()\n",
    "        self.shape = layerSizes\n",
    "        self.seq = nn.Sequential(\n",
    "            nn.Linear(layerSizes[0],layerSizes[1]),\n",
    "            nn.ELU(),          \n",
    "            nn.Linear(layerSizes[1],layerSizes[2]),\n",
    "            nn.ELU(),            \n",
    "            nn.Linear(layerSizes[2],layerSizes[3]),\n",
    "            nn.ELU()\n",
    "        )\n",
    "        \n",
    "    def forward(self, x):\n",
    "        return self.seq(x) "
   ]
  },
  {
   "cell_type": "code",
   "execution_count": 5,
   "metadata": {},
   "outputs": [],
   "source": [
    "def createRandomizedTargetsGP(g,p):\n",
    "    '''\n",
    "    Randomize mesh interior while maintaining shape and edge coordinates\n",
    "    \n",
    "    Defines an internal function createRandomizedInput(target, r0, r1) \n",
    "    that is run twice, once for g and once for p, using the same random numbers\n",
    "    \n",
    "    '''\n",
    "    def createRandomizedInput(target, r0, r1):\n",
    "        '''      \n",
    "        Randomize mesh interior while maintaining shape and edge coordinates\n",
    "\n",
    "        First randomizing morphology (requireds swapping time and morph axis)\n",
    "        Then time axis\n",
    "\n",
    "        Double first and last elements and \n",
    "        add a random fraction of the difference between rows to each row trimming the last row\n",
    "\n",
    "        This will add one to the row and column count\n",
    "\n",
    "        '''\n",
    "\n",
    "        ##### Randomize Morphology #####\n",
    "        #swap time and morph tensors\n",
    "        timeSwap = np.swapaxes(target,0,1).data.numpy()\n",
    "        #double first and last time morphs \n",
    "        timeSwapPrePost = np.concatenate((timeSwap[:1],timeSwap,timeSwap[-1:]),axis=0)\n",
    "\n",
    "        #compute difference between time steps\n",
    "        #should be all zeros except time in tensor dim 2\n",
    "        timeDifs = timeSwapPrePost[:-1]-timeSwapPrePost[1:]\n",
    "        #add random percent to diff and add to time morphs    \n",
    "        timeSwapRandom = r0*timeDifs+timeSwapPrePost[1:]\n",
    "\n",
    "        #unswap swaped tensors\n",
    "        target2 =  np.swapaxes(timeSwapRandom,0,1)\n",
    "\n",
    "        ##### Randomize Time #####\n",
    "        timePrePost = np.concatenate((target2[0:1],target2,target2[-1:]),axis=0)\n",
    "        timeDif = timePrePost[:-1]-timePrePost[1:]\n",
    "        timeMorphRandom = r1*timeDif+timePrePost[1:]\n",
    "\n",
    "        return timeMorphRandom\n",
    "\n",
    "    r = np.random.rand(1)\n",
    "    rr = np.random.rand(1)\n",
    "    \n",
    "    g = createRandomizedInput(g,r,rr)\n",
    "    p = createRandomizedInput(p,r,rr)\n",
    "    return torch.Tensor(g), torch.Tensor(p)\n"
   ]
  },
  {
   "cell_type": "code",
   "execution_count": 6,
   "metadata": {},
   "outputs": [],
   "source": [
    "def phTrain(phModel, parms):\n",
    "    epochs = parms['epochs']\n",
    "    lRate = parms['lRate']\n",
    "    numBatch = parms['numBatch']\n",
    "    \n",
    "    minLossP = 10\n",
    "    maxLossP = 0\n",
    "    phOptimizer = torch.optim.Adam(phModel.parameters(), lr=lRate)\n",
    "    for epoch in range(epochs):\n",
    "        relMapIn, phTargetOut = createRandomizedTargetsGP(parms['relMap'],parms['phTarget'])\n",
    "        for b in range(numBatch):\n",
    "            phOptimizer.zero_grad()\n",
    "            phOutput = phModel(relMapIn[b])\n",
    "            lossP = criterion(phOutput, phTargetOut[b])\n",
    "            (lossP).backward()\n",
    "            phOptimizer.step()\n",
    "            minLossP = min(lossP.data.item(), minLossP)\n",
    "            maxLossP = max(lossP.data.item(), maxLossP)\n",
    "            \n",
    "        if (epoch) % (epochs/10) == 0:\n",
    "            print(\"Epoch {0:,.0f} - loss: {1:,.5f}\".format(epoch, lossP.data.item()))\n",
    "    print(\"Epoch {0:,.0f} - loss: {1:,.5f}:{2:,.5f}\".format(epoch+1, minLossP, maxLossP))\n",
    "    return"
   ]
  },
  {
   "cell_type": "code",
   "execution_count": 7,
   "metadata": {},
   "outputs": [
    {
     "data": {
      "text/plain": [
       "((7, 7, 3), (7, 7, 7, 3), -0.5523978996276855, 1.0635079193115233)"
      ]
     },
     "execution_count": 7,
     "metadata": {},
     "output_type": "execute_result"
    }
   ],
   "source": [
    "''' \n",
    "1. read mesh points for blender (Phenotype)\n",
    "\n",
    "Run multiple times with different file prefix to generate and save multiple models\n",
    "\n",
    "'''\n",
    "pre = 'PetalS0T'\n",
    "with open(CURRENT_MODEL_SAVE_DIR+pre+'0.json', 'r') as fp:\n",
    "    bc0 = np.array(json.load(fp))\n",
    "\n",
    "with open(CURRENT_MODEL_SAVE_DIR+pre+'1.json', 'r') as fp:\n",
    "    bc1 = np.array(json.load(fp))\n",
    "\n",
    "with open(CURRENT_MODEL_SAVE_DIR+pre+'2.json', 'r') as fp:\n",
    "    bc2 = np.array(json.load(fp))\n",
    "\n",
    "with open(CURRENT_MODEL_SAVE_DIR+pre+'3.json', 'r') as fp:\n",
    "    bc3 = np.array(json.load(fp))\n",
    "\n",
    "with open(CURRENT_MODEL_SAVE_DIR+pre+'4.json', 'r') as fp:\n",
    "    bc4 = np.array(json.load(fp))\n",
    "\n",
    "with open(CURRENT_MODEL_SAVE_DIR+pre+'5.json', 'r') as fp:\n",
    "    bc5 = np.array(json.load(fp))\n",
    "\n",
    "with open(CURRENT_MODEL_SAVE_DIR+pre+'6.json', 'r') as fp:\n",
    "    bc6 = np.array(json.load(fp))\n",
    "\n",
    "#appy transforms\n",
    "mult = .12\n",
    "bc = np.stack((bc0,bc1,bc2,bc3,bc4,bc5,bc6), axis=0)*mult\n",
    "\n",
    "bc0.shape,bc.shape, np.min(bc), np.max(bc)\n",
    "# timesteps/petals, morphSteps/batch, crossPoints/inputs, coordinates\n"
   ]
  },
  {
   "cell_type": "code",
   "execution_count": 8,
   "metadata": {},
   "outputs": [
    {
     "data": {
      "text/plain": [
       "((7, 7, 3),\n",
       " (7, 21),\n",
       " (7, 21),\n",
       " (7, 7, 21),\n",
       " -0.5523978996276855,\n",
       " 1.0635079193115233)"
      ]
     },
     "execution_count": 8,
     "metadata": {},
     "output_type": "execute_result"
    }
   ],
   "source": [
    "''' \n",
    "2. Convert Blender xyz tensors to NN tensor format\n",
    "\n",
    "'''\n",
    "nc0= gy.FormatBlenderToNetwork(bc[0], typeList=[], hasTime=0, hasZ=1, numPoints=7)\n",
    "nc1= gy.FormatBlenderToNetwork(bc[1], typeList=[], hasTime=0, hasZ=1, numPoints=7)\n",
    "nc2= gy.FormatBlenderToNetwork(bc[2], typeList=[], hasTime=0, hasZ=1, numPoints=7)\n",
    "nc3= gy.FormatBlenderToNetwork(bc[3], typeList=[], hasTime=0, hasZ=1, numPoints=7)\n",
    "nc4= gy.FormatBlenderToNetwork(bc[4], typeList=[], hasTime=0, hasZ=1, numPoints=7)\n",
    "nc5= gy.FormatBlenderToNetwork(bc[5], typeList=[], hasTime=0, hasZ=1, numPoints=7)\n",
    "nc6= gy.FormatBlenderToNetwork(bc[6], typeList=[], hasTime=0, hasZ=1, numPoints=7)\n",
    "\n",
    "nc = np.stack((nc0,nc1,nc2,nc3,nc4,nc5,nc6), axis=0)\n",
    "\n",
    "bc0.shape, nc0.shape, nc6.shape, nc.shape, np.min(nc), np.max(nc)"
   ]
  },
  {
   "cell_type": "code",
   "execution_count": 9,
   "metadata": {},
   "outputs": [
    {
     "data": {
      "application/vnd.plotly.v1+json": {
       "config": {
        "linkText": "Export to plot.ly",
        "plotlyServerURL": "https://plot.ly",
        "showLink": false
       },
       "data": [
        {
         "line": {
          "shape": "spline"
         },
         "name": "0",
         "type": "scatter",
         "uid": "223f3449-b989-4c31-9376-c161b6156b25",
         "x": [
          -1.9190690636605723e-08,
          5.958580411970615e-05,
          2.1315598860383033e-06,
          9.771752811502665e-06,
          8.667659712955354e-06,
          3.49575444124639e-05,
          1.0680663820039625e-09
         ],
         "y": [
          4.778051447829057e-08,
          7.341774646192789e-05,
          2.7788193547166882e-05,
          3.187184804119169e-05,
          4.367992747575044e-05,
          4.5380692463368177e-05,
          1.5802620012550504e-09
         ]
        },
        {
         "line": {
          "shape": "spline"
         },
         "name": "1",
         "type": "scatter",
         "uid": "bde9d7b0-dda0-42b7-ad9d-ff497621c641",
         "x": [
          0.00940038800239563,
          0.018020410537719727,
          0.026826753616333007,
          0.03120633602142334,
          0.02764338254928589,
          0.0192482328414917,
          0.010174026489257812
         ],
         "y": [
          0.18949480533599852,
          0.19071112632751464,
          0.1921248435974121,
          0.19290600299835203,
          0.19151687622070312,
          0.19048543453216552,
          0.18827845573425292
         ]
        },
        {
         "line": {
          "shape": "spline"
         },
         "name": "2",
         "type": "scatter",
         "uid": "85e48d56-46e8-4e88-8ec0-3528a4bbbdc4",
         "x": [
          -0.011951680183410644,
          0.005312283039093017,
          0.018464205265045164,
          0.026236252784729002,
          0.019683029651641846,
          0.0037583112716674805,
          -0.010406148433685302
         ],
         "y": [
          0.351328125,
          0.3572420883178711,
          0.3612875175476074,
          0.3623847484588623,
          0.3609334659576416,
          0.35567293167114256,
          0.3506264305114746
         ]
        },
        {
         "line": {
          "shape": "spline"
         },
         "name": "3",
         "type": "scatter",
         "uid": "cbbcf643-8ce2-4817-a887-be315a3a7403",
         "x": [
          -0.05973933935165405,
          -0.03614320278167724,
          -0.02149954319000244,
          -0.013178458213806152,
          -0.021099228858947754,
          -0.038411464691162106,
          -0.058033533096313476
         ],
         "y": [
          0.5271399879455566,
          0.5353361320495605,
          0.5398819541931152,
          0.5435963058471679,
          0.5412793350219727,
          0.5356632614135742,
          0.5276412963867188
         ]
        },
        {
         "line": {
          "shape": "spline"
         },
         "name": "4",
         "type": "scatter",
         "uid": "4ba5b7e2-78cb-4614-ac04-af8abde645c7",
         "x": [
          -0.1477182912826538,
          -0.13157466888427735,
          -0.11753158092498779,
          -0.11056205749511719,
          -0.11685450553894043,
          -0.13164776802062989,
          -0.1456501007080078
         ],
         "y": [
          0.692175407409668,
          0.6990626335144042,
          0.7043070602416992,
          0.7070165634155273,
          0.7050417709350586,
          0.6998538208007812,
          0.6944324684143066
         ]
        },
        {
         "line": {
          "shape": "spline"
         },
         "name": "5",
         "type": "scatter",
         "uid": "7d740cf5-090b-4390-aa0b-537f5be5ee00",
         "x": [
          -0.23342086315155028,
          -0.2251599884033203,
          -0.2176184606552124,
          -0.21385610103607178,
          -0.21640774726867676,
          -0.22344820976257324,
          -0.2317982482910156
         ],
         "y": [
          0.8169336891174316,
          0.819751796722412,
          0.8227095794677735,
          0.8249166297912597,
          0.824087963104248,
          0.8212598419189453,
          0.8185825538635254
         ]
        },
        {
         "line": {
          "shape": "spline"
         },
         "name": "6",
         "type": "scatter",
         "uid": "05bbfc97-afd3-40b6-9684-aac88ca5c575",
         "x": [
          -0.33850175857543946,
          -0.3379687213897705,
          -0.3375085830688476,
          -0.337280330657959,
          -0.33757261276245115,
          -0.338023567199707,
          -0.3385264205932617
         ],
         "y": [
          0.9304734420776367,
          0.9323784828186035,
          0.9341297149658203,
          0.9352126693725585,
          0.9340835952758789,
          0.9323856925964356,
          0.930487003326416
         ]
        },
        {
         "line": {
          "dash": "2px,6px",
          "shape": "spline"
         },
         "marker": {
          "symbol": "star"
         },
         "name": "7",
         "type": "scatter",
         "uid": "7302cd3c-74f5-4824-b809-f1766c9f9920",
         "x": [
          -1.327503014181275e-09,
          8.110288996249438e-05,
          1.1507236340548843e-05,
          2.0083249546587466e-05,
          2.3084215354174375e-05,
          4.8370216973125935e-05,
          1.1801843768921571e-09
         ],
         "y": [
          5.139842642165604e-08,
          4.8610533121973275e-05,
          2.538330678362399e-05,
          2.6607607724145053e-05,
          3.808121779002249e-05,
          3.068776451982558e-05,
          1.1838347901971247e-09
         ]
        },
        {
         "line": {
          "dash": "2px,6px",
          "shape": "spline"
         },
         "marker": {
          "symbol": "star"
         },
         "name": "8",
         "type": "scatter",
         "uid": "269d40a3-b080-4317-9efa-45d60a4a1ddf",
         "x": [
          0.07364451169967651,
          0.08216068983078002,
          0.09091946125030517,
          0.09530209779739379,
          0.0914789056777954,
          0.08323727130889892,
          0.0739554762840271
         ],
         "y": [
          0.1748517608642578,
          0.17304649829864502,
          0.1713630151748657,
          0.1705991506576538,
          0.1705124044418335,
          0.17241448402404785,
          0.17344415187835693
         ]
        },
        {
         "line": {
          "dash": "2px,6px",
          "shape": "spline"
         },
         "marker": {
          "symbol": "star"
         },
         "name": "9",
         "type": "scatter",
         "uid": "6557f9e3-b865-405f-b435-d77ce1186282",
         "x": [
          0.10893038749694824,
          0.12717588901519775,
          0.14091826915740965,
          0.14859689712524413,
          0.14194250106811523,
          0.12517895221710204,
          0.11014270305633544
         ],
         "y": [
          0.33422816276550293,
          0.33388086318969723,
          0.3331840896606445,
          0.33155696868896484,
          0.3324345302581787,
          0.33293781280517576,
          0.3330402088165283
         ]
        },
        {
         "line": {
          "dash": "2px,6px",
          "shape": "spline"
         },
         "marker": {
          "symbol": "star"
         },
         "name": "10",
         "type": "scatter",
         "uid": "53263670-5622-4174-addc-98896577ebc5",
         "x": [
          0.12415585041046143,
          0.14913222312927246,
          0.16444752216339112,
          0.17353717803955077,
          0.1653016233444214,
          0.14711262702941894,
          0.12593024253845214
         ],
         "y": [
          0.5157816123962402,
          0.5154131698608398,
          0.514676399230957,
          0.5153207588195801,
          0.5158525657653809,
          0.5164962959289551,
          0.5156692886352539
         ]
        },
        {
         "line": {
          "dash": "2px,6px",
          "shape": "spline"
         },
         "marker": {
          "symbol": "star"
         },
         "name": "11",
         "type": "scatter",
         "uid": "2d468529-e889-4da5-875b-2cb2da16abcc",
         "x": [
          0.0979281234741211,
          0.11545373439788818,
          0.1304435920715332,
          0.13791953086853026,
          0.1313311529159546,
          0.1156556224822998,
          0.10064354896545409
         ],
         "y": [
          0.7009547996520996,
          0.7019052314758301,
          0.7020303153991699,
          0.7021927642822265,
          0.7024891662597657,
          0.7026736450195312,
          0.7023683738708496
         ]
        },
        {
         "line": {
          "dash": "2px,6px",
          "shape": "spline"
         },
         "marker": {
          "symbol": "star"
         },
         "name": "12",
         "type": "scatter",
         "uid": "fd5c2069-9a5e-41ae-bf31-95a3415d2fcb",
         "x": [
          0.06006388664245605,
          0.06879040718078613,
          0.07688876152038573,
          0.08117908000946045,
          0.07849788665771484,
          0.0709147310256958,
          0.0621525764465332
         ],
         "y": [
          0.8475012016296386,
          0.847323989868164,
          0.8475240325927734,
          0.8483112144470214,
          0.8484052276611328,
          0.848155632019043,
          0.848495635986328
         ]
        },
        {
         "line": {
          "dash": "2px,6px",
          "shape": "spline"
         },
         "marker": {
          "symbol": "star"
         },
         "name": "13",
         "type": "scatter",
         "uid": "e9c5365b-0810-4200-83b1-04e988b0d5d5",
         "x": [
          0.00015300750732421875,
          0.0013054847717285155,
          0.0023367977142333984,
          0.0029216766357421874,
          0.002260866165161133,
          0.0012563896179199217,
          0.00013443946838378906
         ],
         "y": [
          0.9901334381103515,
          0.9917413330078124,
          0.9932295227050781,
          0.9941690826416015,
          0.9932081222534179,
          0.9917668533325195,
          0.9901546096801758
         ]
        },
        {
         "line": {
          "shape": "spline"
         },
         "name": "14",
         "type": "scatter",
         "uid": "33b2da5c-13be-4130-b8c4-a63645d8dd1c",
         "x": [
          0.05168467998504638,
          0.03953502774238586,
          0.03578327894210815,
          0.035545309782028196,
          0.03553543210029602,
          0.0394675076007843,
          0.050860447883605955
         ],
         "y": [
          0.047002937793731686,
          0.0045937058329582215,
          -0.01202482223510742,
          -0.012107627391815185,
          -0.012650189995765686,
          0.004558900594711304,
          0.04521091103553772
         ]
        },
        {
         "line": {
          "shape": "spline"
         },
         "name": "15",
         "type": "scatter",
         "uid": "af661c0c-4966-4def-bd64-1cc1b73b3697",
         "x": [
          0.141023268699646,
          0.14709928035736083,
          0.15272093296051026,
          0.1580416488647461,
          0.15336811065673828,
          0.14813498497009278,
          0.1353578996658325
         ],
         "y": [
          0.14856422424316407,
          0.12684672832489013,
          0.11798799276351929,
          0.11147111177444458,
          0.11771972894668578,
          0.12619035243988036,
          0.15076675415039062
         ]
        },
        {
         "line": {
          "shape": "spline"
         },
         "name": "16",
         "type": "scatter",
         "uid": "c07c70d5-0ffe-4e1e-a4cf-3d0f63b3a7ce",
         "x": [
          0.23084867477416993,
          0.2514615440368652,
          0.2709335231781006,
          0.27652124404907225,
          0.2675862121582031,
          0.24997315406799314,
          0.22779706478118897
         ],
         "y": [
          0.30042898178100585,
          0.2859998416900635,
          0.2750240421295166,
          0.27113310813903807,
          0.27628254890441895,
          0.28620606422424316,
          0.3010578346252441
         ]
        },
        {
         "line": {
          "shape": "spline"
         },
         "name": "17",
         "type": "scatter",
         "uid": "015a2597-5ec3-44d8-823c-3fe9ec2fa189",
         "x": [
          0.3130575942993164,
          0.33975849151611326,
          0.364767951965332,
          0.3778554153442383,
          0.3679061508178711,
          0.34106414794921874,
          0.3116997528076172
         ],
         "y": [
          0.4517308616638183,
          0.4412448978424072,
          0.4341275596618652,
          0.43067576408386227,
          0.43281932830810543,
          0.44044349670410154,
          0.4533009338378906
         ]
        },
        {
         "line": {
          "shape": "spline"
         },
         "name": "18",
         "type": "scatter",
         "uid": "70cab71b-4f57-4893-ac6f-dad7813216f1",
         "x": [
          0.36487069129943844,
          0.38686457633972166,
          0.41261621475219723,
          0.4219369411468506,
          0.4106549263000488,
          0.3862767791748047,
          0.36100341796874996
         ],
         "y": [
          0.6377574920654296,
          0.6369814109802245,
          0.6320343589782714,
          0.632892665863037,
          0.6325689697265625,
          0.6362385177612304,
          0.6386773681640625
         ]
        },
        {
         "line": {
          "shape": "spline"
         },
         "name": "19",
         "type": "scatter",
         "uid": "4ee1531a-e15e-4102-8716-a5ab6e47b7ca",
         "x": [
          0.3782600212097168,
          0.4013339996337891,
          0.4181584167480469,
          0.42528519630432127,
          0.41836678504943847,
          0.3990610599517822,
          0.37847282409667965
         ],
         "y": [
          0.7880121231079101,
          0.8021530151367188,
          0.8105208206176757,
          0.8156421661376952,
          0.811508331298828,
          0.8025580215454101,
          0.7875312423706055
         ]
        },
        {
         "line": {
          "shape": "spline"
         },
         "name": "20",
         "type": "scatter",
         "uid": "19ca7bc6-afc7-4003-84a8-00404ed287b1",
         "x": [
          0.38494640350341797,
          0.3911358261108398,
          0.3964350128173828,
          0.40321037292480466,
          0.39657474517822267,
          0.391124153137207,
          0.3845399951934814
         ],
         "y": [
          0.9591097640991211,
          0.9749245834350586,
          0.9838375854492187,
          0.9875178909301757,
          0.9835391235351563,
          0.9752544021606445,
          0.9589279747009277
         ]
        },
        {
         "line": {
          "dash": "2px,6px",
          "shape": "spline"
         },
         "marker": {
          "symbol": "star"
         },
         "name": "21",
         "type": "scatter",
         "uid": "15e45d3c-9657-437b-97bb-440d139074ec",
         "x": [
          0.035712229013442995,
          0.028308257460594177,
          0.025840120911598204,
          0.02726027011871338,
          0.024601203203201295,
          0.025044760107994078,
          0.037753515243530274
         ],
         "y": [
          0.034047954082489014,
          0.010194587409496306,
          0.002232830822467804,
          -0.002337630987167358,
          6.289422512054444e-05,
          0.009447953402996062,
          0.03703531265258789
         ]
        },
        {
         "line": {
          "dash": "2px,6px",
          "shape": "spline"
         },
         "marker": {
          "symbol": "star"
         },
         "name": "22",
         "type": "scatter",
         "uid": "8e069b45-6dc0-44fe-9c55-02a4c7043154",
         "x": [
          0.15893081188201905,
          0.15088123798370362,
          0.14985065460205077,
          0.15009285449981688,
          0.14821702480316162,
          0.15093598365783692,
          0.15645802974700926
         ],
         "y": [
          0.10615679740905762,
          0.07704464435577392,
          0.0652751898765564,
          0.05627194046974182,
          0.06273525953292847,
          0.0783583402633667,
          0.10510653018951416
         ]
        },
        {
         "line": {
          "dash": "2px,6px",
          "shape": "spline"
         },
         "marker": {
          "symbol": "star"
         },
         "name": "23",
         "type": "scatter",
         "uid": "94c9be91-5c2e-4e9a-8126-7a46615d421d",
         "x": [
          0.3014497375488281,
          0.30886064529418944,
          0.31072451591491695,
          0.31150208473205565,
          0.31124928474426267,
          0.30903302192687987,
          0.30095887184143066
         ],
         "y": [
          0.18768423557281494,
          0.15357001304626464,
          0.12884432315826416,
          0.12123239994049072,
          0.130465350151062,
          0.15476377487182616,
          0.18553316116333007
         ]
        },
        {
         "line": {
          "dash": "2px,6px",
          "shape": "spline"
         },
         "marker": {
          "symbol": "star"
         },
         "name": "24",
         "type": "scatter",
         "uid": "9a2ed2c4-873b-4599-8a93-c6357cfb947a",
         "x": [
          0.4632882785797119,
          0.4853079414367676,
          0.5036013793945312,
          0.5071413230895996,
          0.5023492240905761,
          0.48576799392700193,
          0.4622857761383056
         ],
         "y": [
          0.2975693607330322,
          0.2671149730682373,
          0.24380035400390623,
          0.23178166866302488,
          0.24319519042968749,
          0.2656412601470947,
          0.2973689746856689
         ]
        },
        {
         "line": {
          "dash": "2px,6px",
          "shape": "spline"
         },
         "marker": {
          "symbol": "star"
         },
         "name": "25",
         "type": "scatter",
         "uid": "66ef851f-7308-4c5d-a64f-799e37b37312",
         "x": [
          0.6104701423645019,
          0.642502269744873,
          0.6584291839599609,
          0.6664225387573242,
          0.6605555534362793,
          0.6394352531433105,
          0.6097964859008789
         ],
         "y": [
          0.41725868225097656,
          0.39462641716003416,
          0.3766544151306152,
          0.3699193954467773,
          0.3752539443969726,
          0.3917883110046387,
          0.41871477127075196
         ]
        },
        {
         "line": {
          "dash": "2px,6px",
          "shape": "spline"
         },
         "marker": {
          "symbol": "star"
         },
         "name": "26",
         "type": "scatter",
         "uid": "4cadcd5f-5a84-497f-b4ab-b97b890ee1d6",
         "x": [
          0.7022661781311035,
          0.7377789115905762,
          0.7524561882019043,
          0.7633257293701171,
          0.7566491889953613,
          0.7341827774047851,
          0.7024374961853027
         ],
         "y": [
          0.5351441574096679,
          0.5319633865356446,
          0.5267728042602539,
          0.5250051498413085,
          0.5247298049926757,
          0.5302750396728515,
          0.5369807624816895
         ]
        },
        {
         "line": {
          "dash": "2px,6px",
          "shape": "spline"
         },
         "marker": {
          "symbol": "star"
         },
         "name": "27",
         "type": "scatter",
         "uid": "1dceb010-8314-472e-a997-1f76ffcfb027",
         "x": [
          0.7687636184692382,
          0.7948029899597168,
          0.8179195404052734,
          0.8274735832214355,
          0.8151292419433593,
          0.7987413024902343,
          0.7660419845581055
         ],
         "y": [
          0.6501293563842773,
          0.6868323898315429,
          0.6948566436767578,
          0.6998749923706055,
          0.6968943786621093,
          0.6896899795532226,
          0.652675437927246
         ]
        },
        {
         "line": {
          "shape": "spline"
         },
         "name": "28",
         "type": "scatter",
         "uid": "76ae5179-3dd2-47f7-af0e-305ed44de781",
         "x": [
          0.16236223697662353,
          0.08125010490417481,
          0.04441631197929382,
          0.040969945192337036,
          0.0536141288280487,
          0.0801120114326477,
          0.16012637615203856
         ],
         "y": [
          0.03799632668495178,
          0.022589921951293945,
          0.01608697235584259,
          0.01063824713230133,
          0.014557936191558837,
          0.018589752316474913,
          0.03633513450622559
         ]
        },
        {
         "line": {
          "shape": "spline"
         },
         "name": "29",
         "type": "scatter",
         "uid": "d06a1741-6b49-4206-b9f1-98516499ade9",
         "x": [
          0.2393024682998657,
          0.21575105667114258,
          0.19523194313049316,
          0.19087251663208007,
          0.19999533176422118,
          0.21590290546417235,
          0.23692962169647216
         ],
         "y": [
          0.04787492752075195,
          0.019586985111236573,
          -0.01314075082540512,
          -0.021567281484603882,
          -0.011341259479522704,
          0.02016076326370239,
          0.04958091616630554
         ]
        },
        {
         "line": {
          "shape": "spline"
         },
         "name": "30",
         "type": "scatter",
         "uid": "e69f0cab-c712-4920-b742-7a5dfa010107",
         "x": [
          0.34832187652587887,
          0.34047474861145016,
          0.33316640853881835,
          0.323820161819458,
          0.3318517971038818,
          0.3432246208190918,
          0.3529733848571777
         ],
         "y": [
          0.05793404817581176,
          0.019348483085632324,
          -0.0062473064661025994,
          -0.027106432914733886,
          -0.00652563214302063,
          0.021203606128692626,
          0.05571916222572326
         ]
        },
        {
         "line": {
          "shape": "spline"
         },
         "name": "31",
         "type": "scatter",
         "uid": "70c06107-e1df-4b90-a648-c08f043edbb2",
         "x": [
          0.4843810844421387,
          0.4876487159729004,
          0.5011018180847168,
          0.49599843978881836,
          0.4994479179382324,
          0.4918671226501465,
          0.4864383888244629
         ],
         "y": [
          0.07971917152404785,
          0.04199065089225769,
          0.009349980354309081,
          -0.01180413007736206,
          0.012774145603179932,
          0.04313592195510864,
          0.07421977043151855
         ]
        },
        {
         "line": {
          "shape": "spline"
         },
         "name": "32",
         "type": "scatter",
         "uid": "20fcb7ba-803d-4933-b143-c67ac74a3feb",
         "x": [
          0.6345508575439452,
          0.6567080497741699,
          0.6817718124389648,
          0.6838518905639648,
          0.6799615859985352,
          0.6598602676391602,
          0.6344191932678223
         ],
         "y": [
          0.11239006519317626,
          0.08153931856155396,
          0.052607102394104,
          0.037518610954284666,
          0.056737761497497555,
          0.08157370090484618,
          0.11113480567932128
         ]
        },
        {
         "line": {
          "shape": "spline"
         },
         "name": "33",
         "type": "scatter",
         "uid": "65827ce1-1dfc-4f47-a347-7b81d04ec9f5",
         "x": [
          0.8092409133911133,
          0.8551245117187499,
          0.8801838684082031,
          0.8915140914916991,
          0.8807708358764648,
          0.8539779281616211,
          0.8086671638488769
         ],
         "y": [
          0.15510362148284912,
          0.13139737129211426,
          0.11380029916763305,
          0.1035820198059082,
          0.11338117361068725,
          0.13112194061279298,
          0.15380028247833252
         ]
        },
        {
         "line": {
          "shape": "spline"
         },
         "name": "34",
         "type": "scatter",
         "uid": "79a86b4e-9d69-4685-af47-c8cdaebe912f",
         "x": [
          0.9175137519836425,
          0.9960908889770508,
          1.0298971939086914,
          1.0499903869628906,
          1.033000373840332,
          0.9956387329101563,
          0.9192278480529785
         ],
         "y": [
          0.17756741523742675,
          0.19272201061248778,
          0.20068293571472168,
          0.1993065547943115,
          0.19162091732025147,
          0.19420037269592286,
          0.17805267333984373
         ]
        },
        {
         "line": {
          "shape": "spline"
         },
         "name": "35",
         "type": "scatter",
         "uid": "622536b3-4263-4c65-83cd-84d6a34a8f77",
         "x": [
          0.1566022253036499,
          0.08314455986022949,
          0.01605749487876892,
          -0.01826066493988037,
          0.007939066886901856,
          0.08495230436325073,
          0.16049906730651856
         ],
         "y": [
          -0.03337667942047119,
          -0.020545881986618043,
          -0.02099713861942291,
          -0.004458653479814529,
          -0.0020293736457824706,
          -0.02476770222187042,
          -0.02734644055366516
         ]
        },
        {
         "line": {
          "shape": "spline"
         },
         "name": "36",
         "type": "scatter",
         "uid": "79898bc6-ded2-4812-befd-bb46b90a6124",
         "x": [
          0.23732502937316893,
          0.18775111198425293,
          0.1561357069015503,
          0.14155624866485594,
          0.15472472190856934,
          0.1934891653060913,
          0.23654614448547362
         ],
         "y": [
          -0.04410171747207641,
          -0.04934241771697998,
          -0.06009269714355468,
          -0.06437020540237426,
          -0.061141533851623533,
          -0.05136730670928955,
          -0.04422731637954712
         ]
        },
        {
         "line": {
          "shape": "spline"
         },
         "name": "37",
         "type": "scatter",
         "uid": "f8141621-c47d-4bf5-ad6c-80e6908898be",
         "x": [
          0.36939116477966305,
          0.3389352607727051,
          0.3068853378295898,
          0.2878029441833496,
          0.3063541030883789,
          0.3406628894805908,
          0.3692296886444092
         ],
         "y": [
          -0.07203826189041138,
          -0.08172677278518677,
          -0.10381573677062989,
          -0.11762863397598267,
          -0.10658514976501464,
          -0.08584269046783446,
          -0.07102420091629028
         ]
        },
        {
         "line": {
          "shape": "spline"
         },
         "name": "38",
         "type": "scatter",
         "uid": "a51a3806-ee62-43f2-bbce-84c4da130200",
         "x": [
          0.49604633331298825,
          0.4986719512939453,
          0.4820012855529785,
          0.4767746543884277,
          0.49149805068969726,
          0.4918904113769531,
          0.49885620117187496
         ],
         "y": [
          -0.08697011947631836,
          -0.12167708873748778,
          -0.15067294120788574,
          -0.17392683506011963,
          -0.15220513343811035,
          -0.12231422424316406,
          -0.0844936466217041
         ]
        },
        {
         "line": {
          "shape": "spline"
         },
         "name": "39",
         "type": "scatter",
         "uid": "8b477021-8a35-4448-9626-4f57e418b9d3",
         "x": [
          0.6591514205932617,
          0.6822454833984375,
          0.6937431907653808,
          0.6958654975891113,
          0.6987220001220703,
          0.6778516387939453,
          0.6610672187805176
         ],
         "y": [
          -0.11316984415054321,
          -0.1514696502685547,
          -0.18084125518798827,
          -0.1986589765548706,
          -0.17950917720794676,
          -0.15257391929626465,
          -0.11364266395568848
         ]
        },
        {
         "line": {
          "shape": "spline"
         },
         "name": "40",
         "type": "scatter",
         "uid": "91ea65e8-1316-45f7-9121-e5fab64a9f56",
         "x": [
          0.815196762084961,
          0.8605083847045898,
          0.8941831970214843,
          0.9050537109375,
          0.8957990455627441,
          0.8574292945861816,
          0.8161811828613281
         ],
         "y": [
          -0.13916808128356933,
          -0.17297613143920898,
          -0.195860595703125,
          -0.20689694881439208,
          -0.19404004096984862,
          -0.1742707586288452,
          -0.14204960346221923
         ]
        },
        {
         "line": {
          "shape": "spline"
         },
         "name": "41",
         "type": "scatter",
         "uid": "f100e0f2-5af8-465c-bb49-0f4e893e69f7",
         "x": [
          0.9141083908081055,
          0.9927778244018555,
          1.0440301895141602,
          1.0635079193115233,
          1.043038215637207,
          0.9880208587646484,
          0.9119764709472656
         ],
         "y": [
          -0.16356704235076905,
          -0.1834562873840332,
          -0.19323497772216797,
          -0.20076440334320067,
          -0.19384998321533203,
          -0.19092395782470703,
          -0.18591270446777344
         ]
        },
        {
         "line": {
          "shape": "spline"
         },
         "name": "42",
         "type": "scatter",
         "uid": "1742a0c2-0f15-4cae-a7c6-a5e24f915d69",
         "x": [
          0.1357424783706665,
          0.07110323667526244,
          0.007907670736312865,
          -0.01868436098098755,
          0.0067661932110786435,
          0.07135799646377564,
          0.14146674156188965
         ],
         "y": [
          -0.08492493152618408,
          -0.0477439284324646,
          -0.025222842693328855,
          0.002055750489234924,
          -0.004622307121753692,
          -0.0523294186592102,
          -0.08059115409851074
         ]
        },
        {
         "line": {
          "shape": "spline"
         },
         "name": "43",
         "type": "scatter",
         "uid": "1c2626ef-537d-4672-950f-85900e3f3b89",
         "x": [
          0.2079289197921753,
          0.1595522403717041,
          0.1261666488647461,
          0.11100345611572265,
          0.1244820499420166,
          0.16425167083740233,
          0.20715402603149413
         ],
         "y": [
          -0.122611985206604,
          -0.11058135509490967,
          -0.10987021207809448,
          -0.10890328645706177,
          -0.110373215675354,
          -0.11444666862487793,
          -0.12246361255645752
         ]
        },
        {
         "line": {
          "shape": "spline"
         },
         "name": "44",
         "type": "scatter",
         "uid": "99d719e6-12d6-43c7-a4d3-a0c972ae6070",
         "x": [
          0.32247565269470213,
          0.29054277420043945,
          0.2528708267211914,
          0.23021492958068845,
          0.25142440795898435,
          0.29075846672058103,
          0.32267066001892086
         ],
         "y": [
          -0.1940330171585083,
          -0.1927207088470459,
          -0.20251583576202392,
          -0.208969144821167,
          -0.20493653297424316,
          -0.1971792984008789,
          -0.19302489280700683
         ]
        },
        {
         "line": {
          "shape": "spline"
         },
         "name": "45",
         "type": "scatter",
         "uid": "9f72f12c-0c4b-4f55-a870-a35071685188",
         "x": [
          0.43638556480407714,
          0.42698235511779786,
          0.4013998603820801,
          0.38853515625,
          0.4097998809814453,
          0.42039181709289547,
          0.43987292289733887
         ],
         "y": [
          -0.25138298034667966,
          -0.2848948860168457,
          -0.3064403915405273,
          -0.32650428771972656,
          -0.31112823486328123,
          -0.28317418098449704,
          -0.2500168991088867
         ]
        },
        {
         "line": {
          "shape": "spline"
         },
         "name": "46",
         "type": "scatter",
         "uid": "e975e340-7727-4105-a60d-5da318233ea1",
         "x": [
          0.580693359375,
          0.5892953681945801,
          0.5900539970397949,
          0.5859543228149414,
          0.595188159942627,
          0.5847888565063476,
          0.5823319244384766
         ],
         "y": [
          -0.33178791046142575,
          -0.37567657470703125,
          -0.4072093105316162,
          -0.42467834472656246,
          -0.4076604080200195,
          -0.37521145820617674,
          -0.3328874588012695
         ]
        },
        {
         "line": {
          "shape": "spline"
         },
         "name": "47",
         "type": "scatter",
         "uid": "9a45cf4d-bf80-4620-a127-55aaed6b8914",
         "x": [
          0.718436107635498,
          0.7494520568847656,
          0.77326904296875,
          0.7797094345092773,
          0.7754101181030273,
          0.7461158752441406,
          0.7183756256103515
         ],
         "y": [
          -0.40958888053894044,
          -0.45685558319091796,
          -0.4898773956298828,
          -0.5039661026000977,
          -0.48871925354003903,
          -0.4570190048217773,
          -0.41263332366943356
         ]
        },
        {
         "line": {
          "shape": "spline"
         },
         "name": "48",
         "type": "scatter",
         "uid": "a6fdd015-f34f-4db3-ae38-8185a9bb3c17",
         "x": [
          0.8030376434326172,
          0.8701602745056152,
          0.9149771690368652,
          0.9307050704956055,
          0.9138347053527832,
          0.8631360626220703,
          0.7933916473388671
         ],
         "y": [
          -0.4663461685180664,
          -0.5119424629211425,
          -0.5386608123779296,
          -0.5523978996276855,
          -0.5388994216918945,
          -0.5173328018188477,
          -0.4866150856018066
         ]
        }
       ],
       "layout": {
        "height": 600,
        "hovermode": "closest",
        "title": {
         "text": "Blender generated curves XZ Front View"
        },
        "width": 600,
        "xaxis": {
         "range": [
          -0.4,
          1.3
         ],
         "title": {
          "text": "X"
         }
        },
        "yaxis": {
         "range": [
          -0.6,
          1.2
         ],
         "title": {
          "text": "Y"
         }
        }
       }
      },
      "text/html": [
       "<div id=\"b24696de-8721-41ad-bd3a-f757cb5f6788\" style=\"height: 600px; width: 600px;\" class=\"plotly-graph-div\"></div><script type=\"text/javascript\">require([\"plotly\"], function(Plotly) { window.PLOTLYENV=window.PLOTLYENV || {};window.PLOTLYENV.BASE_URL=\"https://plot.ly\";Plotly.newPlot(\"b24696de-8721-41ad-bd3a-f757cb5f6788\", [{\"line\": {\"shape\": \"spline\"}, \"name\": \"0\", \"x\": [-1.9190690636605723e-08, 5.958580411970615e-05, 2.1315598860383033e-06, 9.771752811502665e-06, 8.667659712955354e-06, 3.49575444124639e-05, 1.0680663820039625e-09], \"y\": [4.778051447829057e-08, 7.341774646192789e-05, 2.7788193547166882e-05, 3.187184804119169e-05, 4.367992747575044e-05, 4.5380692463368177e-05, 1.5802620012550504e-09], \"type\": \"scatter\", \"uid\": \"223f3449-b989-4c31-9376-c161b6156b25\"}, {\"line\": {\"shape\": \"spline\"}, \"name\": \"1\", \"x\": [0.00940038800239563, 0.018020410537719727, 0.026826753616333007, 0.03120633602142334, 0.02764338254928589, 0.0192482328414917, 0.010174026489257812], \"y\": [0.18949480533599852, 0.19071112632751464, 0.1921248435974121, 0.19290600299835203, 0.19151687622070312, 0.19048543453216552, 0.18827845573425292], \"type\": \"scatter\", \"uid\": \"bde9d7b0-dda0-42b7-ad9d-ff497621c641\"}, {\"line\": {\"shape\": \"spline\"}, \"name\": \"2\", \"x\": [-0.011951680183410644, 0.005312283039093017, 0.018464205265045164, 0.026236252784729002, 0.019683029651641846, 0.0037583112716674805, -0.010406148433685302], \"y\": [0.351328125, 0.3572420883178711, 0.3612875175476074, 0.3623847484588623, 0.3609334659576416, 0.35567293167114256, 0.3506264305114746], \"type\": \"scatter\", \"uid\": \"85e48d56-46e8-4e88-8ec0-3528a4bbbdc4\"}, {\"line\": {\"shape\": \"spline\"}, \"name\": \"3\", \"x\": [-0.05973933935165405, -0.03614320278167724, -0.02149954319000244, -0.013178458213806152, -0.021099228858947754, -0.038411464691162106, -0.058033533096313476], \"y\": [0.5271399879455566, 0.5353361320495605, 0.5398819541931152, 0.5435963058471679, 0.5412793350219727, 0.5356632614135742, 0.5276412963867188], \"type\": \"scatter\", \"uid\": \"cbbcf643-8ce2-4817-a887-be315a3a7403\"}, {\"line\": {\"shape\": \"spline\"}, \"name\": \"4\", \"x\": [-0.1477182912826538, -0.13157466888427735, -0.11753158092498779, -0.11056205749511719, -0.11685450553894043, -0.13164776802062989, -0.1456501007080078], \"y\": [0.692175407409668, 0.6990626335144042, 0.7043070602416992, 0.7070165634155273, 0.7050417709350586, 0.6998538208007812, 0.6944324684143066], \"type\": \"scatter\", \"uid\": \"4ba5b7e2-78cb-4614-ac04-af8abde645c7\"}, {\"line\": {\"shape\": \"spline\"}, \"name\": \"5\", \"x\": [-0.23342086315155028, -0.2251599884033203, -0.2176184606552124, -0.21385610103607178, -0.21640774726867676, -0.22344820976257324, -0.2317982482910156], \"y\": [0.8169336891174316, 0.819751796722412, 0.8227095794677735, 0.8249166297912597, 0.824087963104248, 0.8212598419189453, 0.8185825538635254], \"type\": \"scatter\", \"uid\": \"7d740cf5-090b-4390-aa0b-537f5be5ee00\"}, {\"line\": {\"shape\": \"spline\"}, \"name\": \"6\", \"x\": [-0.33850175857543946, -0.3379687213897705, -0.3375085830688476, -0.337280330657959, -0.33757261276245115, -0.338023567199707, -0.3385264205932617], \"y\": [0.9304734420776367, 0.9323784828186035, 0.9341297149658203, 0.9352126693725585, 0.9340835952758789, 0.9323856925964356, 0.930487003326416], \"type\": \"scatter\", \"uid\": \"05bbfc97-afd3-40b6-9684-aac88ca5c575\"}, {\"line\": {\"dash\": \"2px,6px\", \"shape\": \"spline\"}, \"marker\": {\"symbol\": \"star\"}, \"name\": \"7\", \"x\": [-1.327503014181275e-09, 8.110288996249438e-05, 1.1507236340548843e-05, 2.0083249546587466e-05, 2.3084215354174375e-05, 4.8370216973125935e-05, 1.1801843768921571e-09], \"y\": [5.139842642165604e-08, 4.8610533121973275e-05, 2.538330678362399e-05, 2.6607607724145053e-05, 3.808121779002249e-05, 3.068776451982558e-05, 1.1838347901971247e-09], \"type\": \"scatter\", \"uid\": \"7302cd3c-74f5-4824-b809-f1766c9f9920\"}, {\"line\": {\"dash\": \"2px,6px\", \"shape\": \"spline\"}, \"marker\": {\"symbol\": \"star\"}, \"name\": \"8\", \"x\": [0.07364451169967651, 0.08216068983078002, 0.09091946125030517, 0.09530209779739379, 0.0914789056777954, 0.08323727130889892, 0.0739554762840271], \"y\": [0.1748517608642578, 0.17304649829864502, 0.1713630151748657, 0.1705991506576538, 0.1705124044418335, 0.17241448402404785, 0.17344415187835693], \"type\": \"scatter\", \"uid\": \"269d40a3-b080-4317-9efa-45d60a4a1ddf\"}, {\"line\": {\"dash\": \"2px,6px\", \"shape\": \"spline\"}, \"marker\": {\"symbol\": \"star\"}, \"name\": \"9\", \"x\": [0.10893038749694824, 0.12717588901519775, 0.14091826915740965, 0.14859689712524413, 0.14194250106811523, 0.12517895221710204, 0.11014270305633544], \"y\": [0.33422816276550293, 0.33388086318969723, 0.3331840896606445, 0.33155696868896484, 0.3324345302581787, 0.33293781280517576, 0.3330402088165283], \"type\": \"scatter\", \"uid\": \"6557f9e3-b865-405f-b435-d77ce1186282\"}, {\"line\": {\"dash\": \"2px,6px\", \"shape\": \"spline\"}, \"marker\": {\"symbol\": \"star\"}, \"name\": \"10\", \"x\": [0.12415585041046143, 0.14913222312927246, 0.16444752216339112, 0.17353717803955077, 0.1653016233444214, 0.14711262702941894, 0.12593024253845214], \"y\": [0.5157816123962402, 0.5154131698608398, 0.514676399230957, 0.5153207588195801, 0.5158525657653809, 0.5164962959289551, 0.5156692886352539], \"type\": \"scatter\", \"uid\": \"53263670-5622-4174-addc-98896577ebc5\"}, {\"line\": {\"dash\": \"2px,6px\", \"shape\": \"spline\"}, \"marker\": {\"symbol\": \"star\"}, \"name\": \"11\", \"x\": [0.0979281234741211, 0.11545373439788818, 0.1304435920715332, 0.13791953086853026, 0.1313311529159546, 0.1156556224822998, 0.10064354896545409], \"y\": [0.7009547996520996, 0.7019052314758301, 0.7020303153991699, 0.7021927642822265, 0.7024891662597657, 0.7026736450195312, 0.7023683738708496], \"type\": \"scatter\", \"uid\": \"2d468529-e889-4da5-875b-2cb2da16abcc\"}, {\"line\": {\"dash\": \"2px,6px\", \"shape\": \"spline\"}, \"marker\": {\"symbol\": \"star\"}, \"name\": \"12\", \"x\": [0.06006388664245605, 0.06879040718078613, 0.07688876152038573, 0.08117908000946045, 0.07849788665771484, 0.0709147310256958, 0.0621525764465332], \"y\": [0.8475012016296386, 0.847323989868164, 0.8475240325927734, 0.8483112144470214, 0.8484052276611328, 0.848155632019043, 0.848495635986328], \"type\": \"scatter\", \"uid\": \"fd5c2069-9a5e-41ae-bf31-95a3415d2fcb\"}, {\"line\": {\"dash\": \"2px,6px\", \"shape\": \"spline\"}, \"marker\": {\"symbol\": \"star\"}, \"name\": \"13\", \"x\": [0.00015300750732421875, 0.0013054847717285155, 0.0023367977142333984, 0.0029216766357421874, 0.002260866165161133, 0.0012563896179199217, 0.00013443946838378906], \"y\": [0.9901334381103515, 0.9917413330078124, 0.9932295227050781, 0.9941690826416015, 0.9932081222534179, 0.9917668533325195, 0.9901546096801758], \"type\": \"scatter\", \"uid\": \"e9c5365b-0810-4200-83b1-04e988b0d5d5\"}, {\"line\": {\"shape\": \"spline\"}, \"name\": \"14\", \"x\": [0.05168467998504638, 0.03953502774238586, 0.03578327894210815, 0.035545309782028196, 0.03553543210029602, 0.0394675076007843, 0.050860447883605955], \"y\": [0.047002937793731686, 0.0045937058329582215, -0.01202482223510742, -0.012107627391815185, -0.012650189995765686, 0.004558900594711304, 0.04521091103553772], \"type\": \"scatter\", \"uid\": \"33b2da5c-13be-4130-b8c4-a63645d8dd1c\"}, {\"line\": {\"shape\": \"spline\"}, \"name\": \"15\", \"x\": [0.141023268699646, 0.14709928035736083, 0.15272093296051026, 0.1580416488647461, 0.15336811065673828, 0.14813498497009278, 0.1353578996658325], \"y\": [0.14856422424316407, 0.12684672832489013, 0.11798799276351929, 0.11147111177444458, 0.11771972894668578, 0.12619035243988036, 0.15076675415039062], \"type\": \"scatter\", \"uid\": \"af661c0c-4966-4def-bd64-1cc1b73b3697\"}, {\"line\": {\"shape\": \"spline\"}, \"name\": \"16\", \"x\": [0.23084867477416993, 0.2514615440368652, 0.2709335231781006, 0.27652124404907225, 0.2675862121582031, 0.24997315406799314, 0.22779706478118897], \"y\": [0.30042898178100585, 0.2859998416900635, 0.2750240421295166, 0.27113310813903807, 0.27628254890441895, 0.28620606422424316, 0.3010578346252441], \"type\": \"scatter\", \"uid\": \"c07c70d5-0ffe-4e1e-a4cf-3d0f63b3a7ce\"}, {\"line\": {\"shape\": \"spline\"}, \"name\": \"17\", \"x\": [0.3130575942993164, 0.33975849151611326, 0.364767951965332, 0.3778554153442383, 0.3679061508178711, 0.34106414794921874, 0.3116997528076172], \"y\": [0.4517308616638183, 0.4412448978424072, 0.4341275596618652, 0.43067576408386227, 0.43281932830810543, 0.44044349670410154, 0.4533009338378906], \"type\": \"scatter\", \"uid\": \"015a2597-5ec3-44d8-823c-3fe9ec2fa189\"}, {\"line\": {\"shape\": \"spline\"}, \"name\": \"18\", \"x\": [0.36487069129943844, 0.38686457633972166, 0.41261621475219723, 0.4219369411468506, 0.4106549263000488, 0.3862767791748047, 0.36100341796874996], \"y\": [0.6377574920654296, 0.6369814109802245, 0.6320343589782714, 0.632892665863037, 0.6325689697265625, 0.6362385177612304, 0.6386773681640625], \"type\": \"scatter\", \"uid\": \"70cab71b-4f57-4893-ac6f-dad7813216f1\"}, {\"line\": {\"shape\": \"spline\"}, \"name\": \"19\", \"x\": [0.3782600212097168, 0.4013339996337891, 0.4181584167480469, 0.42528519630432127, 0.41836678504943847, 0.3990610599517822, 0.37847282409667965], \"y\": [0.7880121231079101, 0.8021530151367188, 0.8105208206176757, 0.8156421661376952, 0.811508331298828, 0.8025580215454101, 0.7875312423706055], \"type\": \"scatter\", \"uid\": \"4ee1531a-e15e-4102-8716-a5ab6e47b7ca\"}, {\"line\": {\"shape\": \"spline\"}, \"name\": \"20\", \"x\": [0.38494640350341797, 0.3911358261108398, 0.3964350128173828, 0.40321037292480466, 0.39657474517822267, 0.391124153137207, 0.3845399951934814], \"y\": [0.9591097640991211, 0.9749245834350586, 0.9838375854492187, 0.9875178909301757, 0.9835391235351563, 0.9752544021606445, 0.9589279747009277], \"type\": \"scatter\", \"uid\": \"19ca7bc6-afc7-4003-84a8-00404ed287b1\"}, {\"line\": {\"dash\": \"2px,6px\", \"shape\": \"spline\"}, \"marker\": {\"symbol\": \"star\"}, \"name\": \"21\", \"x\": [0.035712229013442995, 0.028308257460594177, 0.025840120911598204, 0.02726027011871338, 0.024601203203201295, 0.025044760107994078, 0.037753515243530274], \"y\": [0.034047954082489014, 0.010194587409496306, 0.002232830822467804, -0.002337630987167358, 6.289422512054444e-05, 0.009447953402996062, 0.03703531265258789], \"type\": \"scatter\", \"uid\": \"15e45d3c-9657-437b-97bb-440d139074ec\"}, {\"line\": {\"dash\": \"2px,6px\", \"shape\": \"spline\"}, \"marker\": {\"symbol\": \"star\"}, \"name\": \"22\", \"x\": [0.15893081188201905, 0.15088123798370362, 0.14985065460205077, 0.15009285449981688, 0.14821702480316162, 0.15093598365783692, 0.15645802974700926], \"y\": [0.10615679740905762, 0.07704464435577392, 0.0652751898765564, 0.05627194046974182, 0.06273525953292847, 0.0783583402633667, 0.10510653018951416], \"type\": \"scatter\", \"uid\": \"8e069b45-6dc0-44fe-9c55-02a4c7043154\"}, {\"line\": {\"dash\": \"2px,6px\", \"shape\": \"spline\"}, \"marker\": {\"symbol\": \"star\"}, \"name\": \"23\", \"x\": [0.3014497375488281, 0.30886064529418944, 0.31072451591491695, 0.31150208473205565, 0.31124928474426267, 0.30903302192687987, 0.30095887184143066], \"y\": [0.18768423557281494, 0.15357001304626464, 0.12884432315826416, 0.12123239994049072, 0.130465350151062, 0.15476377487182616, 0.18553316116333007], \"type\": \"scatter\", \"uid\": \"94c9be91-5c2e-4e9a-8126-7a46615d421d\"}, {\"line\": {\"dash\": \"2px,6px\", \"shape\": \"spline\"}, \"marker\": {\"symbol\": \"star\"}, \"name\": \"24\", \"x\": [0.4632882785797119, 0.4853079414367676, 0.5036013793945312, 0.5071413230895996, 0.5023492240905761, 0.48576799392700193, 0.4622857761383056], \"y\": [0.2975693607330322, 0.2671149730682373, 0.24380035400390623, 0.23178166866302488, 0.24319519042968749, 0.2656412601470947, 0.2973689746856689], \"type\": \"scatter\", \"uid\": \"9a2ed2c4-873b-4599-8a93-c6357cfb947a\"}, {\"line\": {\"dash\": \"2px,6px\", \"shape\": \"spline\"}, \"marker\": {\"symbol\": \"star\"}, \"name\": \"25\", \"x\": [0.6104701423645019, 0.642502269744873, 0.6584291839599609, 0.6664225387573242, 0.6605555534362793, 0.6394352531433105, 0.6097964859008789], \"y\": [0.41725868225097656, 0.39462641716003416, 0.3766544151306152, 0.3699193954467773, 0.3752539443969726, 0.3917883110046387, 0.41871477127075196], \"type\": \"scatter\", \"uid\": \"66ef851f-7308-4c5d-a64f-799e37b37312\"}, {\"line\": {\"dash\": \"2px,6px\", \"shape\": \"spline\"}, \"marker\": {\"symbol\": \"star\"}, \"name\": \"26\", \"x\": [0.7022661781311035, 0.7377789115905762, 0.7524561882019043, 0.7633257293701171, 0.7566491889953613, 0.7341827774047851, 0.7024374961853027], \"y\": [0.5351441574096679, 0.5319633865356446, 0.5267728042602539, 0.5250051498413085, 0.5247298049926757, 0.5302750396728515, 0.5369807624816895], \"type\": \"scatter\", \"uid\": \"4cadcd5f-5a84-497f-b4ab-b97b890ee1d6\"}, {\"line\": {\"dash\": \"2px,6px\", \"shape\": \"spline\"}, \"marker\": {\"symbol\": \"star\"}, \"name\": \"27\", \"x\": [0.7687636184692382, 0.7948029899597168, 0.8179195404052734, 0.8274735832214355, 0.8151292419433593, 0.7987413024902343, 0.7660419845581055], \"y\": [0.6501293563842773, 0.6868323898315429, 0.6948566436767578, 0.6998749923706055, 0.6968943786621093, 0.6896899795532226, 0.652675437927246], \"type\": \"scatter\", \"uid\": \"1dceb010-8314-472e-a997-1f76ffcfb027\"}, {\"line\": {\"shape\": \"spline\"}, \"name\": \"28\", \"x\": [0.16236223697662353, 0.08125010490417481, 0.04441631197929382, 0.040969945192337036, 0.0536141288280487, 0.0801120114326477, 0.16012637615203856], \"y\": [0.03799632668495178, 0.022589921951293945, 0.01608697235584259, 0.01063824713230133, 0.014557936191558837, 0.018589752316474913, 0.03633513450622559], \"type\": \"scatter\", \"uid\": \"76ae5179-3dd2-47f7-af0e-305ed44de781\"}, {\"line\": {\"shape\": \"spline\"}, \"name\": \"29\", \"x\": [0.2393024682998657, 0.21575105667114258, 0.19523194313049316, 0.19087251663208007, 0.19999533176422118, 0.21590290546417235, 0.23692962169647216], \"y\": [0.04787492752075195, 0.019586985111236573, -0.01314075082540512, -0.021567281484603882, -0.011341259479522704, 0.02016076326370239, 0.04958091616630554], \"type\": \"scatter\", \"uid\": \"d06a1741-6b49-4206-b9f1-98516499ade9\"}, {\"line\": {\"shape\": \"spline\"}, \"name\": \"30\", \"x\": [0.34832187652587887, 0.34047474861145016, 0.33316640853881835, 0.323820161819458, 0.3318517971038818, 0.3432246208190918, 0.3529733848571777], \"y\": [0.05793404817581176, 0.019348483085632324, -0.0062473064661025994, -0.027106432914733886, -0.00652563214302063, 0.021203606128692626, 0.05571916222572326], \"type\": \"scatter\", \"uid\": \"e69f0cab-c712-4920-b742-7a5dfa010107\"}, {\"line\": {\"shape\": \"spline\"}, \"name\": \"31\", \"x\": [0.4843810844421387, 0.4876487159729004, 0.5011018180847168, 0.49599843978881836, 0.4994479179382324, 0.4918671226501465, 0.4864383888244629], \"y\": [0.07971917152404785, 0.04199065089225769, 0.009349980354309081, -0.01180413007736206, 0.012774145603179932, 0.04313592195510864, 0.07421977043151855], \"type\": \"scatter\", \"uid\": \"70c06107-e1df-4b90-a648-c08f043edbb2\"}, {\"line\": {\"shape\": \"spline\"}, \"name\": \"32\", \"x\": [0.6345508575439452, 0.6567080497741699, 0.6817718124389648, 0.6838518905639648, 0.6799615859985352, 0.6598602676391602, 0.6344191932678223], \"y\": [0.11239006519317626, 0.08153931856155396, 0.052607102394104, 0.037518610954284666, 0.056737761497497555, 0.08157370090484618, 0.11113480567932128], \"type\": \"scatter\", \"uid\": \"20fcb7ba-803d-4933-b143-c67ac74a3feb\"}, {\"line\": {\"shape\": \"spline\"}, \"name\": \"33\", \"x\": [0.8092409133911133, 0.8551245117187499, 0.8801838684082031, 0.8915140914916991, 0.8807708358764648, 0.8539779281616211, 0.8086671638488769], \"y\": [0.15510362148284912, 0.13139737129211426, 0.11380029916763305, 0.1035820198059082, 0.11338117361068725, 0.13112194061279298, 0.15380028247833252], \"type\": \"scatter\", \"uid\": \"65827ce1-1dfc-4f47-a347-7b81d04ec9f5\"}, {\"line\": {\"shape\": \"spline\"}, \"name\": \"34\", \"x\": [0.9175137519836425, 0.9960908889770508, 1.0298971939086914, 1.0499903869628906, 1.033000373840332, 0.9956387329101563, 0.9192278480529785], \"y\": [0.17756741523742675, 0.19272201061248778, 0.20068293571472168, 0.1993065547943115, 0.19162091732025147, 0.19420037269592286, 0.17805267333984373], \"type\": \"scatter\", \"uid\": \"79a86b4e-9d69-4685-af47-c8cdaebe912f\"}, {\"line\": {\"shape\": \"spline\"}, \"name\": \"35\", \"x\": [0.1566022253036499, 0.08314455986022949, 0.01605749487876892, -0.01826066493988037, 0.007939066886901856, 0.08495230436325073, 0.16049906730651856], \"y\": [-0.03337667942047119, -0.020545881986618043, -0.02099713861942291, -0.004458653479814529, -0.0020293736457824706, -0.02476770222187042, -0.02734644055366516], \"type\": \"scatter\", \"uid\": \"622536b3-4263-4c65-83cd-84d6a34a8f77\"}, {\"line\": {\"shape\": \"spline\"}, \"name\": \"36\", \"x\": [0.23732502937316893, 0.18775111198425293, 0.1561357069015503, 0.14155624866485594, 0.15472472190856934, 0.1934891653060913, 0.23654614448547362], \"y\": [-0.04410171747207641, -0.04934241771697998, -0.06009269714355468, -0.06437020540237426, -0.061141533851623533, -0.05136730670928955, -0.04422731637954712], \"type\": \"scatter\", \"uid\": \"79898bc6-ded2-4812-befd-bb46b90a6124\"}, {\"line\": {\"shape\": \"spline\"}, \"name\": \"37\", \"x\": [0.36939116477966305, 0.3389352607727051, 0.3068853378295898, 0.2878029441833496, 0.3063541030883789, 0.3406628894805908, 0.3692296886444092], \"y\": [-0.07203826189041138, -0.08172677278518677, -0.10381573677062989, -0.11762863397598267, -0.10658514976501464, -0.08584269046783446, -0.07102420091629028], \"type\": \"scatter\", \"uid\": \"f8141621-c47d-4bf5-ad6c-80e6908898be\"}, {\"line\": {\"shape\": \"spline\"}, \"name\": \"38\", \"x\": [0.49604633331298825, 0.4986719512939453, 0.4820012855529785, 0.4767746543884277, 0.49149805068969726, 0.4918904113769531, 0.49885620117187496], \"y\": [-0.08697011947631836, -0.12167708873748778, -0.15067294120788574, -0.17392683506011963, -0.15220513343811035, -0.12231422424316406, -0.0844936466217041], \"type\": \"scatter\", \"uid\": \"a51a3806-ee62-43f2-bbce-84c4da130200\"}, {\"line\": {\"shape\": \"spline\"}, \"name\": \"39\", \"x\": [0.6591514205932617, 0.6822454833984375, 0.6937431907653808, 0.6958654975891113, 0.6987220001220703, 0.6778516387939453, 0.6610672187805176], \"y\": [-0.11316984415054321, -0.1514696502685547, -0.18084125518798827, -0.1986589765548706, -0.17950917720794676, -0.15257391929626465, -0.11364266395568848], \"type\": \"scatter\", \"uid\": \"8b477021-8a35-4448-9626-4f57e418b9d3\"}, {\"line\": {\"shape\": \"spline\"}, \"name\": \"40\", \"x\": [0.815196762084961, 0.8605083847045898, 0.8941831970214843, 0.9050537109375, 0.8957990455627441, 0.8574292945861816, 0.8161811828613281], \"y\": [-0.13916808128356933, -0.17297613143920898, -0.195860595703125, -0.20689694881439208, -0.19404004096984862, -0.1742707586288452, -0.14204960346221923], \"type\": \"scatter\", \"uid\": \"91ea65e8-1316-45f7-9121-e5fab64a9f56\"}, {\"line\": {\"shape\": \"spline\"}, \"name\": \"41\", \"x\": [0.9141083908081055, 0.9927778244018555, 1.0440301895141602, 1.0635079193115233, 1.043038215637207, 0.9880208587646484, 0.9119764709472656], \"y\": [-0.16356704235076905, -0.1834562873840332, -0.19323497772216797, -0.20076440334320067, -0.19384998321533203, -0.19092395782470703, -0.18591270446777344], \"type\": \"scatter\", \"uid\": \"f100e0f2-5af8-465c-bb49-0f4e893e69f7\"}, {\"line\": {\"shape\": \"spline\"}, \"name\": \"42\", \"x\": [0.1357424783706665, 0.07110323667526244, 0.007907670736312865, -0.01868436098098755, 0.0067661932110786435, 0.07135799646377564, 0.14146674156188965], \"y\": [-0.08492493152618408, -0.0477439284324646, -0.025222842693328855, 0.002055750489234924, -0.004622307121753692, -0.0523294186592102, -0.08059115409851074], \"type\": \"scatter\", \"uid\": \"1742a0c2-0f15-4cae-a7c6-a5e24f915d69\"}, {\"line\": {\"shape\": \"spline\"}, \"name\": \"43\", \"x\": [0.2079289197921753, 0.1595522403717041, 0.1261666488647461, 0.11100345611572265, 0.1244820499420166, 0.16425167083740233, 0.20715402603149413], \"y\": [-0.122611985206604, -0.11058135509490967, -0.10987021207809448, -0.10890328645706177, -0.110373215675354, -0.11444666862487793, -0.12246361255645752], \"type\": \"scatter\", \"uid\": \"1c2626ef-537d-4672-950f-85900e3f3b89\"}, {\"line\": {\"shape\": \"spline\"}, \"name\": \"44\", \"x\": [0.32247565269470213, 0.29054277420043945, 0.2528708267211914, 0.23021492958068845, 0.25142440795898435, 0.29075846672058103, 0.32267066001892086], \"y\": [-0.1940330171585083, -0.1927207088470459, -0.20251583576202392, -0.208969144821167, -0.20493653297424316, -0.1971792984008789, -0.19302489280700683], \"type\": \"scatter\", \"uid\": \"99d719e6-12d6-43c7-a4d3-a0c972ae6070\"}, {\"line\": {\"shape\": \"spline\"}, \"name\": \"45\", \"x\": [0.43638556480407714, 0.42698235511779786, 0.4013998603820801, 0.38853515625, 0.4097998809814453, 0.42039181709289547, 0.43987292289733887], \"y\": [-0.25138298034667966, -0.2848948860168457, -0.3064403915405273, -0.32650428771972656, -0.31112823486328123, -0.28317418098449704, -0.2500168991088867], \"type\": \"scatter\", \"uid\": \"9f72f12c-0c4b-4f55-a870-a35071685188\"}, {\"line\": {\"shape\": \"spline\"}, \"name\": \"46\", \"x\": [0.580693359375, 0.5892953681945801, 0.5900539970397949, 0.5859543228149414, 0.595188159942627, 0.5847888565063476, 0.5823319244384766], \"y\": [-0.33178791046142575, -0.37567657470703125, -0.4072093105316162, -0.42467834472656246, -0.4076604080200195, -0.37521145820617674, -0.3328874588012695], \"type\": \"scatter\", \"uid\": \"e975e340-7727-4105-a60d-5da318233ea1\"}, {\"line\": {\"shape\": \"spline\"}, \"name\": \"47\", \"x\": [0.718436107635498, 0.7494520568847656, 0.77326904296875, 0.7797094345092773, 0.7754101181030273, 0.7461158752441406, 0.7183756256103515], \"y\": [-0.40958888053894044, -0.45685558319091796, -0.4898773956298828, -0.5039661026000977, -0.48871925354003903, -0.4570190048217773, -0.41263332366943356], \"type\": \"scatter\", \"uid\": \"9a45cf4d-bf80-4620-a127-55aaed6b8914\"}, {\"line\": {\"shape\": \"spline\"}, \"name\": \"48\", \"x\": [0.8030376434326172, 0.8701602745056152, 0.9149771690368652, 0.9307050704956055, 0.9138347053527832, 0.8631360626220703, 0.7933916473388671], \"y\": [-0.4663461685180664, -0.5119424629211425, -0.5386608123779296, -0.5523978996276855, -0.5388994216918945, -0.5173328018188477, -0.4866150856018066], \"type\": \"scatter\", \"uid\": \"a6fdd015-f34f-4db3-ae38-8185a9bb3c17\"}], {\"height\": 600, \"hovermode\": \"closest\", \"title\": {\"text\": \"Blender generated curves XZ Front View\"}, \"width\": 600, \"xaxis\": {\"range\": [-0.4, 1.3], \"title\": {\"text\": \"X\"}}, \"yaxis\": {\"range\": [-0.6, 1.2], \"title\": {\"text\": \"Y\"}}}, {\"showLink\": false, \"linkText\": \"Export to plot.ly\", \"plotlyServerURL\": \"https://plot.ly\"})});</script>"
      ],
      "text/vnd.plotly.v1+html": [
       "<div id=\"b24696de-8721-41ad-bd3a-f757cb5f6788\" style=\"height: 600px; width: 600px;\" class=\"plotly-graph-div\"></div><script type=\"text/javascript\">require([\"plotly\"], function(Plotly) { window.PLOTLYENV=window.PLOTLYENV || {};window.PLOTLYENV.BASE_URL=\"https://plot.ly\";Plotly.newPlot(\"b24696de-8721-41ad-bd3a-f757cb5f6788\", [{\"line\": {\"shape\": \"spline\"}, \"name\": \"0\", \"x\": [-1.9190690636605723e-08, 5.958580411970615e-05, 2.1315598860383033e-06, 9.771752811502665e-06, 8.667659712955354e-06, 3.49575444124639e-05, 1.0680663820039625e-09], \"y\": [4.778051447829057e-08, 7.341774646192789e-05, 2.7788193547166882e-05, 3.187184804119169e-05, 4.367992747575044e-05, 4.5380692463368177e-05, 1.5802620012550504e-09], \"type\": \"scatter\", \"uid\": \"223f3449-b989-4c31-9376-c161b6156b25\"}, {\"line\": {\"shape\": \"spline\"}, \"name\": \"1\", \"x\": [0.00940038800239563, 0.018020410537719727, 0.026826753616333007, 0.03120633602142334, 0.02764338254928589, 0.0192482328414917, 0.010174026489257812], \"y\": [0.18949480533599852, 0.19071112632751464, 0.1921248435974121, 0.19290600299835203, 0.19151687622070312, 0.19048543453216552, 0.18827845573425292], \"type\": \"scatter\", \"uid\": \"bde9d7b0-dda0-42b7-ad9d-ff497621c641\"}, {\"line\": {\"shape\": \"spline\"}, \"name\": \"2\", \"x\": [-0.011951680183410644, 0.005312283039093017, 0.018464205265045164, 0.026236252784729002, 0.019683029651641846, 0.0037583112716674805, -0.010406148433685302], \"y\": [0.351328125, 0.3572420883178711, 0.3612875175476074, 0.3623847484588623, 0.3609334659576416, 0.35567293167114256, 0.3506264305114746], \"type\": \"scatter\", \"uid\": \"85e48d56-46e8-4e88-8ec0-3528a4bbbdc4\"}, {\"line\": {\"shape\": \"spline\"}, \"name\": \"3\", \"x\": [-0.05973933935165405, -0.03614320278167724, -0.02149954319000244, -0.013178458213806152, -0.021099228858947754, -0.038411464691162106, -0.058033533096313476], \"y\": [0.5271399879455566, 0.5353361320495605, 0.5398819541931152, 0.5435963058471679, 0.5412793350219727, 0.5356632614135742, 0.5276412963867188], \"type\": \"scatter\", \"uid\": \"cbbcf643-8ce2-4817-a887-be315a3a7403\"}, {\"line\": {\"shape\": \"spline\"}, \"name\": \"4\", \"x\": [-0.1477182912826538, -0.13157466888427735, -0.11753158092498779, -0.11056205749511719, -0.11685450553894043, -0.13164776802062989, -0.1456501007080078], \"y\": [0.692175407409668, 0.6990626335144042, 0.7043070602416992, 0.7070165634155273, 0.7050417709350586, 0.6998538208007812, 0.6944324684143066], \"type\": \"scatter\", \"uid\": \"4ba5b7e2-78cb-4614-ac04-af8abde645c7\"}, {\"line\": {\"shape\": \"spline\"}, \"name\": \"5\", \"x\": [-0.23342086315155028, -0.2251599884033203, -0.2176184606552124, -0.21385610103607178, -0.21640774726867676, -0.22344820976257324, -0.2317982482910156], \"y\": [0.8169336891174316, 0.819751796722412, 0.8227095794677735, 0.8249166297912597, 0.824087963104248, 0.8212598419189453, 0.8185825538635254], \"type\": \"scatter\", \"uid\": \"7d740cf5-090b-4390-aa0b-537f5be5ee00\"}, {\"line\": {\"shape\": \"spline\"}, \"name\": \"6\", \"x\": [-0.33850175857543946, -0.3379687213897705, -0.3375085830688476, -0.337280330657959, -0.33757261276245115, -0.338023567199707, -0.3385264205932617], \"y\": [0.9304734420776367, 0.9323784828186035, 0.9341297149658203, 0.9352126693725585, 0.9340835952758789, 0.9323856925964356, 0.930487003326416], \"type\": \"scatter\", \"uid\": \"05bbfc97-afd3-40b6-9684-aac88ca5c575\"}, {\"line\": {\"dash\": \"2px,6px\", \"shape\": \"spline\"}, \"marker\": {\"symbol\": \"star\"}, \"name\": \"7\", \"x\": [-1.327503014181275e-09, 8.110288996249438e-05, 1.1507236340548843e-05, 2.0083249546587466e-05, 2.3084215354174375e-05, 4.8370216973125935e-05, 1.1801843768921571e-09], \"y\": [5.139842642165604e-08, 4.8610533121973275e-05, 2.538330678362399e-05, 2.6607607724145053e-05, 3.808121779002249e-05, 3.068776451982558e-05, 1.1838347901971247e-09], \"type\": \"scatter\", \"uid\": \"7302cd3c-74f5-4824-b809-f1766c9f9920\"}, {\"line\": {\"dash\": \"2px,6px\", \"shape\": \"spline\"}, \"marker\": {\"symbol\": \"star\"}, \"name\": \"8\", \"x\": [0.07364451169967651, 0.08216068983078002, 0.09091946125030517, 0.09530209779739379, 0.0914789056777954, 0.08323727130889892, 0.0739554762840271], \"y\": [0.1748517608642578, 0.17304649829864502, 0.1713630151748657, 0.1705991506576538, 0.1705124044418335, 0.17241448402404785, 0.17344415187835693], \"type\": \"scatter\", \"uid\": \"269d40a3-b080-4317-9efa-45d60a4a1ddf\"}, {\"line\": {\"dash\": \"2px,6px\", \"shape\": \"spline\"}, \"marker\": {\"symbol\": \"star\"}, \"name\": \"9\", \"x\": [0.10893038749694824, 0.12717588901519775, 0.14091826915740965, 0.14859689712524413, 0.14194250106811523, 0.12517895221710204, 0.11014270305633544], \"y\": [0.33422816276550293, 0.33388086318969723, 0.3331840896606445, 0.33155696868896484, 0.3324345302581787, 0.33293781280517576, 0.3330402088165283], \"type\": \"scatter\", \"uid\": \"6557f9e3-b865-405f-b435-d77ce1186282\"}, {\"line\": {\"dash\": \"2px,6px\", \"shape\": \"spline\"}, \"marker\": {\"symbol\": \"star\"}, \"name\": \"10\", \"x\": [0.12415585041046143, 0.14913222312927246, 0.16444752216339112, 0.17353717803955077, 0.1653016233444214, 0.14711262702941894, 0.12593024253845214], \"y\": [0.5157816123962402, 0.5154131698608398, 0.514676399230957, 0.5153207588195801, 0.5158525657653809, 0.5164962959289551, 0.5156692886352539], \"type\": \"scatter\", \"uid\": \"53263670-5622-4174-addc-98896577ebc5\"}, {\"line\": {\"dash\": \"2px,6px\", \"shape\": \"spline\"}, \"marker\": {\"symbol\": \"star\"}, \"name\": \"11\", \"x\": [0.0979281234741211, 0.11545373439788818, 0.1304435920715332, 0.13791953086853026, 0.1313311529159546, 0.1156556224822998, 0.10064354896545409], \"y\": [0.7009547996520996, 0.7019052314758301, 0.7020303153991699, 0.7021927642822265, 0.7024891662597657, 0.7026736450195312, 0.7023683738708496], \"type\": \"scatter\", \"uid\": \"2d468529-e889-4da5-875b-2cb2da16abcc\"}, {\"line\": {\"dash\": \"2px,6px\", \"shape\": \"spline\"}, \"marker\": {\"symbol\": \"star\"}, \"name\": \"12\", \"x\": [0.06006388664245605, 0.06879040718078613, 0.07688876152038573, 0.08117908000946045, 0.07849788665771484, 0.0709147310256958, 0.0621525764465332], \"y\": [0.8475012016296386, 0.847323989868164, 0.8475240325927734, 0.8483112144470214, 0.8484052276611328, 0.848155632019043, 0.848495635986328], \"type\": \"scatter\", \"uid\": \"fd5c2069-9a5e-41ae-bf31-95a3415d2fcb\"}, {\"line\": {\"dash\": \"2px,6px\", \"shape\": \"spline\"}, \"marker\": {\"symbol\": \"star\"}, \"name\": \"13\", \"x\": [0.00015300750732421875, 0.0013054847717285155, 0.0023367977142333984, 0.0029216766357421874, 0.002260866165161133, 0.0012563896179199217, 0.00013443946838378906], \"y\": [0.9901334381103515, 0.9917413330078124, 0.9932295227050781, 0.9941690826416015, 0.9932081222534179, 0.9917668533325195, 0.9901546096801758], \"type\": \"scatter\", \"uid\": \"e9c5365b-0810-4200-83b1-04e988b0d5d5\"}, {\"line\": {\"shape\": \"spline\"}, \"name\": \"14\", \"x\": [0.05168467998504638, 0.03953502774238586, 0.03578327894210815, 0.035545309782028196, 0.03553543210029602, 0.0394675076007843, 0.050860447883605955], \"y\": [0.047002937793731686, 0.0045937058329582215, -0.01202482223510742, -0.012107627391815185, -0.012650189995765686, 0.004558900594711304, 0.04521091103553772], \"type\": \"scatter\", \"uid\": \"33b2da5c-13be-4130-b8c4-a63645d8dd1c\"}, {\"line\": {\"shape\": \"spline\"}, \"name\": \"15\", \"x\": [0.141023268699646, 0.14709928035736083, 0.15272093296051026, 0.1580416488647461, 0.15336811065673828, 0.14813498497009278, 0.1353578996658325], \"y\": [0.14856422424316407, 0.12684672832489013, 0.11798799276351929, 0.11147111177444458, 0.11771972894668578, 0.12619035243988036, 0.15076675415039062], \"type\": \"scatter\", \"uid\": \"af661c0c-4966-4def-bd64-1cc1b73b3697\"}, {\"line\": {\"shape\": \"spline\"}, \"name\": \"16\", \"x\": [0.23084867477416993, 0.2514615440368652, 0.2709335231781006, 0.27652124404907225, 0.2675862121582031, 0.24997315406799314, 0.22779706478118897], \"y\": [0.30042898178100585, 0.2859998416900635, 0.2750240421295166, 0.27113310813903807, 0.27628254890441895, 0.28620606422424316, 0.3010578346252441], \"type\": \"scatter\", \"uid\": \"c07c70d5-0ffe-4e1e-a4cf-3d0f63b3a7ce\"}, {\"line\": {\"shape\": \"spline\"}, \"name\": \"17\", \"x\": [0.3130575942993164, 0.33975849151611326, 0.364767951965332, 0.3778554153442383, 0.3679061508178711, 0.34106414794921874, 0.3116997528076172], \"y\": [0.4517308616638183, 0.4412448978424072, 0.4341275596618652, 0.43067576408386227, 0.43281932830810543, 0.44044349670410154, 0.4533009338378906], \"type\": \"scatter\", \"uid\": \"015a2597-5ec3-44d8-823c-3fe9ec2fa189\"}, {\"line\": {\"shape\": \"spline\"}, \"name\": \"18\", \"x\": [0.36487069129943844, 0.38686457633972166, 0.41261621475219723, 0.4219369411468506, 0.4106549263000488, 0.3862767791748047, 0.36100341796874996], \"y\": [0.6377574920654296, 0.6369814109802245, 0.6320343589782714, 0.632892665863037, 0.6325689697265625, 0.6362385177612304, 0.6386773681640625], \"type\": \"scatter\", \"uid\": \"70cab71b-4f57-4893-ac6f-dad7813216f1\"}, {\"line\": {\"shape\": \"spline\"}, \"name\": \"19\", \"x\": [0.3782600212097168, 0.4013339996337891, 0.4181584167480469, 0.42528519630432127, 0.41836678504943847, 0.3990610599517822, 0.37847282409667965], \"y\": [0.7880121231079101, 0.8021530151367188, 0.8105208206176757, 0.8156421661376952, 0.811508331298828, 0.8025580215454101, 0.7875312423706055], \"type\": \"scatter\", \"uid\": \"4ee1531a-e15e-4102-8716-a5ab6e47b7ca\"}, {\"line\": {\"shape\": \"spline\"}, \"name\": \"20\", \"x\": [0.38494640350341797, 0.3911358261108398, 0.3964350128173828, 0.40321037292480466, 0.39657474517822267, 0.391124153137207, 0.3845399951934814], \"y\": [0.9591097640991211, 0.9749245834350586, 0.9838375854492187, 0.9875178909301757, 0.9835391235351563, 0.9752544021606445, 0.9589279747009277], \"type\": \"scatter\", \"uid\": \"19ca7bc6-afc7-4003-84a8-00404ed287b1\"}, {\"line\": {\"dash\": \"2px,6px\", \"shape\": \"spline\"}, \"marker\": {\"symbol\": \"star\"}, \"name\": \"21\", \"x\": [0.035712229013442995, 0.028308257460594177, 0.025840120911598204, 0.02726027011871338, 0.024601203203201295, 0.025044760107994078, 0.037753515243530274], \"y\": [0.034047954082489014, 0.010194587409496306, 0.002232830822467804, -0.002337630987167358, 6.289422512054444e-05, 0.009447953402996062, 0.03703531265258789], \"type\": \"scatter\", \"uid\": \"15e45d3c-9657-437b-97bb-440d139074ec\"}, {\"line\": {\"dash\": \"2px,6px\", \"shape\": \"spline\"}, \"marker\": {\"symbol\": \"star\"}, \"name\": \"22\", \"x\": [0.15893081188201905, 0.15088123798370362, 0.14985065460205077, 0.15009285449981688, 0.14821702480316162, 0.15093598365783692, 0.15645802974700926], \"y\": [0.10615679740905762, 0.07704464435577392, 0.0652751898765564, 0.05627194046974182, 0.06273525953292847, 0.0783583402633667, 0.10510653018951416], \"type\": \"scatter\", \"uid\": \"8e069b45-6dc0-44fe-9c55-02a4c7043154\"}, {\"line\": {\"dash\": \"2px,6px\", \"shape\": \"spline\"}, \"marker\": {\"symbol\": \"star\"}, \"name\": \"23\", \"x\": [0.3014497375488281, 0.30886064529418944, 0.31072451591491695, 0.31150208473205565, 0.31124928474426267, 0.30903302192687987, 0.30095887184143066], \"y\": [0.18768423557281494, 0.15357001304626464, 0.12884432315826416, 0.12123239994049072, 0.130465350151062, 0.15476377487182616, 0.18553316116333007], \"type\": \"scatter\", \"uid\": \"94c9be91-5c2e-4e9a-8126-7a46615d421d\"}, {\"line\": {\"dash\": \"2px,6px\", \"shape\": \"spline\"}, \"marker\": {\"symbol\": \"star\"}, \"name\": \"24\", \"x\": [0.4632882785797119, 0.4853079414367676, 0.5036013793945312, 0.5071413230895996, 0.5023492240905761, 0.48576799392700193, 0.4622857761383056], \"y\": [0.2975693607330322, 0.2671149730682373, 0.24380035400390623, 0.23178166866302488, 0.24319519042968749, 0.2656412601470947, 0.2973689746856689], \"type\": \"scatter\", \"uid\": \"9a2ed2c4-873b-4599-8a93-c6357cfb947a\"}, {\"line\": {\"dash\": \"2px,6px\", \"shape\": \"spline\"}, \"marker\": {\"symbol\": \"star\"}, \"name\": \"25\", \"x\": [0.6104701423645019, 0.642502269744873, 0.6584291839599609, 0.6664225387573242, 0.6605555534362793, 0.6394352531433105, 0.6097964859008789], \"y\": [0.41725868225097656, 0.39462641716003416, 0.3766544151306152, 0.3699193954467773, 0.3752539443969726, 0.3917883110046387, 0.41871477127075196], \"type\": \"scatter\", \"uid\": \"66ef851f-7308-4c5d-a64f-799e37b37312\"}, {\"line\": {\"dash\": \"2px,6px\", \"shape\": \"spline\"}, \"marker\": {\"symbol\": \"star\"}, \"name\": \"26\", \"x\": [0.7022661781311035, 0.7377789115905762, 0.7524561882019043, 0.7633257293701171, 0.7566491889953613, 0.7341827774047851, 0.7024374961853027], \"y\": [0.5351441574096679, 0.5319633865356446, 0.5267728042602539, 0.5250051498413085, 0.5247298049926757, 0.5302750396728515, 0.5369807624816895], \"type\": \"scatter\", \"uid\": \"4cadcd5f-5a84-497f-b4ab-b97b890ee1d6\"}, {\"line\": {\"dash\": \"2px,6px\", \"shape\": \"spline\"}, \"marker\": {\"symbol\": \"star\"}, \"name\": \"27\", \"x\": [0.7687636184692382, 0.7948029899597168, 0.8179195404052734, 0.8274735832214355, 0.8151292419433593, 0.7987413024902343, 0.7660419845581055], \"y\": [0.6501293563842773, 0.6868323898315429, 0.6948566436767578, 0.6998749923706055, 0.6968943786621093, 0.6896899795532226, 0.652675437927246], \"type\": \"scatter\", \"uid\": \"1dceb010-8314-472e-a997-1f76ffcfb027\"}, {\"line\": {\"shape\": \"spline\"}, \"name\": \"28\", \"x\": [0.16236223697662353, 0.08125010490417481, 0.04441631197929382, 0.040969945192337036, 0.0536141288280487, 0.0801120114326477, 0.16012637615203856], \"y\": [0.03799632668495178, 0.022589921951293945, 0.01608697235584259, 0.01063824713230133, 0.014557936191558837, 0.018589752316474913, 0.03633513450622559], \"type\": \"scatter\", \"uid\": \"76ae5179-3dd2-47f7-af0e-305ed44de781\"}, {\"line\": {\"shape\": \"spline\"}, \"name\": \"29\", \"x\": [0.2393024682998657, 0.21575105667114258, 0.19523194313049316, 0.19087251663208007, 0.19999533176422118, 0.21590290546417235, 0.23692962169647216], \"y\": [0.04787492752075195, 0.019586985111236573, -0.01314075082540512, -0.021567281484603882, -0.011341259479522704, 0.02016076326370239, 0.04958091616630554], \"type\": \"scatter\", \"uid\": \"d06a1741-6b49-4206-b9f1-98516499ade9\"}, {\"line\": {\"shape\": \"spline\"}, \"name\": \"30\", \"x\": [0.34832187652587887, 0.34047474861145016, 0.33316640853881835, 0.323820161819458, 0.3318517971038818, 0.3432246208190918, 0.3529733848571777], \"y\": [0.05793404817581176, 0.019348483085632324, -0.0062473064661025994, -0.027106432914733886, -0.00652563214302063, 0.021203606128692626, 0.05571916222572326], \"type\": \"scatter\", \"uid\": \"e69f0cab-c712-4920-b742-7a5dfa010107\"}, {\"line\": {\"shape\": \"spline\"}, \"name\": \"31\", \"x\": [0.4843810844421387, 0.4876487159729004, 0.5011018180847168, 0.49599843978881836, 0.4994479179382324, 0.4918671226501465, 0.4864383888244629], \"y\": [0.07971917152404785, 0.04199065089225769, 0.009349980354309081, -0.01180413007736206, 0.012774145603179932, 0.04313592195510864, 0.07421977043151855], \"type\": \"scatter\", \"uid\": \"70c06107-e1df-4b90-a648-c08f043edbb2\"}, {\"line\": {\"shape\": \"spline\"}, \"name\": \"32\", \"x\": [0.6345508575439452, 0.6567080497741699, 0.6817718124389648, 0.6838518905639648, 0.6799615859985352, 0.6598602676391602, 0.6344191932678223], \"y\": [0.11239006519317626, 0.08153931856155396, 0.052607102394104, 0.037518610954284666, 0.056737761497497555, 0.08157370090484618, 0.11113480567932128], \"type\": \"scatter\", \"uid\": \"20fcb7ba-803d-4933-b143-c67ac74a3feb\"}, {\"line\": {\"shape\": \"spline\"}, \"name\": \"33\", \"x\": [0.8092409133911133, 0.8551245117187499, 0.8801838684082031, 0.8915140914916991, 0.8807708358764648, 0.8539779281616211, 0.8086671638488769], \"y\": [0.15510362148284912, 0.13139737129211426, 0.11380029916763305, 0.1035820198059082, 0.11338117361068725, 0.13112194061279298, 0.15380028247833252], \"type\": \"scatter\", \"uid\": \"65827ce1-1dfc-4f47-a347-7b81d04ec9f5\"}, {\"line\": {\"shape\": \"spline\"}, \"name\": \"34\", \"x\": [0.9175137519836425, 0.9960908889770508, 1.0298971939086914, 1.0499903869628906, 1.033000373840332, 0.9956387329101563, 0.9192278480529785], \"y\": [0.17756741523742675, 0.19272201061248778, 0.20068293571472168, 0.1993065547943115, 0.19162091732025147, 0.19420037269592286, 0.17805267333984373], \"type\": \"scatter\", \"uid\": \"79a86b4e-9d69-4685-af47-c8cdaebe912f\"}, {\"line\": {\"shape\": \"spline\"}, \"name\": \"35\", \"x\": [0.1566022253036499, 0.08314455986022949, 0.01605749487876892, -0.01826066493988037, 0.007939066886901856, 0.08495230436325073, 0.16049906730651856], \"y\": [-0.03337667942047119, -0.020545881986618043, -0.02099713861942291, -0.004458653479814529, -0.0020293736457824706, -0.02476770222187042, -0.02734644055366516], \"type\": \"scatter\", \"uid\": \"622536b3-4263-4c65-83cd-84d6a34a8f77\"}, {\"line\": {\"shape\": \"spline\"}, \"name\": \"36\", \"x\": [0.23732502937316893, 0.18775111198425293, 0.1561357069015503, 0.14155624866485594, 0.15472472190856934, 0.1934891653060913, 0.23654614448547362], \"y\": [-0.04410171747207641, -0.04934241771697998, -0.06009269714355468, -0.06437020540237426, -0.061141533851623533, -0.05136730670928955, -0.04422731637954712], \"type\": \"scatter\", \"uid\": \"79898bc6-ded2-4812-befd-bb46b90a6124\"}, {\"line\": {\"shape\": \"spline\"}, \"name\": \"37\", \"x\": [0.36939116477966305, 0.3389352607727051, 0.3068853378295898, 0.2878029441833496, 0.3063541030883789, 0.3406628894805908, 0.3692296886444092], \"y\": [-0.07203826189041138, -0.08172677278518677, -0.10381573677062989, -0.11762863397598267, -0.10658514976501464, -0.08584269046783446, -0.07102420091629028], \"type\": \"scatter\", \"uid\": \"f8141621-c47d-4bf5-ad6c-80e6908898be\"}, {\"line\": {\"shape\": \"spline\"}, \"name\": \"38\", \"x\": [0.49604633331298825, 0.4986719512939453, 0.4820012855529785, 0.4767746543884277, 0.49149805068969726, 0.4918904113769531, 0.49885620117187496], \"y\": [-0.08697011947631836, -0.12167708873748778, -0.15067294120788574, -0.17392683506011963, -0.15220513343811035, -0.12231422424316406, -0.0844936466217041], \"type\": \"scatter\", \"uid\": \"a51a3806-ee62-43f2-bbce-84c4da130200\"}, {\"line\": {\"shape\": \"spline\"}, \"name\": \"39\", \"x\": [0.6591514205932617, 0.6822454833984375, 0.6937431907653808, 0.6958654975891113, 0.6987220001220703, 0.6778516387939453, 0.6610672187805176], \"y\": [-0.11316984415054321, -0.1514696502685547, -0.18084125518798827, -0.1986589765548706, -0.17950917720794676, -0.15257391929626465, -0.11364266395568848], \"type\": \"scatter\", \"uid\": \"8b477021-8a35-4448-9626-4f57e418b9d3\"}, {\"line\": {\"shape\": \"spline\"}, \"name\": \"40\", \"x\": [0.815196762084961, 0.8605083847045898, 0.8941831970214843, 0.9050537109375, 0.8957990455627441, 0.8574292945861816, 0.8161811828613281], \"y\": [-0.13916808128356933, -0.17297613143920898, -0.195860595703125, -0.20689694881439208, -0.19404004096984862, -0.1742707586288452, -0.14204960346221923], \"type\": \"scatter\", \"uid\": \"91ea65e8-1316-45f7-9121-e5fab64a9f56\"}, {\"line\": {\"shape\": \"spline\"}, \"name\": \"41\", \"x\": [0.9141083908081055, 0.9927778244018555, 1.0440301895141602, 1.0635079193115233, 1.043038215637207, 0.9880208587646484, 0.9119764709472656], \"y\": [-0.16356704235076905, -0.1834562873840332, -0.19323497772216797, -0.20076440334320067, -0.19384998321533203, -0.19092395782470703, -0.18591270446777344], \"type\": \"scatter\", \"uid\": \"f100e0f2-5af8-465c-bb49-0f4e893e69f7\"}, {\"line\": {\"shape\": \"spline\"}, \"name\": \"42\", \"x\": [0.1357424783706665, 0.07110323667526244, 0.007907670736312865, -0.01868436098098755, 0.0067661932110786435, 0.07135799646377564, 0.14146674156188965], \"y\": [-0.08492493152618408, -0.0477439284324646, -0.025222842693328855, 0.002055750489234924, -0.004622307121753692, -0.0523294186592102, -0.08059115409851074], \"type\": \"scatter\", \"uid\": \"1742a0c2-0f15-4cae-a7c6-a5e24f915d69\"}, {\"line\": {\"shape\": \"spline\"}, \"name\": \"43\", \"x\": [0.2079289197921753, 0.1595522403717041, 0.1261666488647461, 0.11100345611572265, 0.1244820499420166, 0.16425167083740233, 0.20715402603149413], \"y\": [-0.122611985206604, -0.11058135509490967, -0.10987021207809448, -0.10890328645706177, -0.110373215675354, -0.11444666862487793, -0.12246361255645752], \"type\": \"scatter\", \"uid\": \"1c2626ef-537d-4672-950f-85900e3f3b89\"}, {\"line\": {\"shape\": \"spline\"}, \"name\": \"44\", \"x\": [0.32247565269470213, 0.29054277420043945, 0.2528708267211914, 0.23021492958068845, 0.25142440795898435, 0.29075846672058103, 0.32267066001892086], \"y\": [-0.1940330171585083, -0.1927207088470459, -0.20251583576202392, -0.208969144821167, -0.20493653297424316, -0.1971792984008789, -0.19302489280700683], \"type\": \"scatter\", \"uid\": \"99d719e6-12d6-43c7-a4d3-a0c972ae6070\"}, {\"line\": {\"shape\": \"spline\"}, \"name\": \"45\", \"x\": [0.43638556480407714, 0.42698235511779786, 0.4013998603820801, 0.38853515625, 0.4097998809814453, 0.42039181709289547, 0.43987292289733887], \"y\": [-0.25138298034667966, -0.2848948860168457, -0.3064403915405273, -0.32650428771972656, -0.31112823486328123, -0.28317418098449704, -0.2500168991088867], \"type\": \"scatter\", \"uid\": \"9f72f12c-0c4b-4f55-a870-a35071685188\"}, {\"line\": {\"shape\": \"spline\"}, \"name\": \"46\", \"x\": [0.580693359375, 0.5892953681945801, 0.5900539970397949, 0.5859543228149414, 0.595188159942627, 0.5847888565063476, 0.5823319244384766], \"y\": [-0.33178791046142575, -0.37567657470703125, -0.4072093105316162, -0.42467834472656246, -0.4076604080200195, -0.37521145820617674, -0.3328874588012695], \"type\": \"scatter\", \"uid\": \"e975e340-7727-4105-a60d-5da318233ea1\"}, {\"line\": {\"shape\": \"spline\"}, \"name\": \"47\", \"x\": [0.718436107635498, 0.7494520568847656, 0.77326904296875, 0.7797094345092773, 0.7754101181030273, 0.7461158752441406, 0.7183756256103515], \"y\": [-0.40958888053894044, -0.45685558319091796, -0.4898773956298828, -0.5039661026000977, -0.48871925354003903, -0.4570190048217773, -0.41263332366943356], \"type\": \"scatter\", \"uid\": \"9a45cf4d-bf80-4620-a127-55aaed6b8914\"}, {\"line\": {\"shape\": \"spline\"}, \"name\": \"48\", \"x\": [0.8030376434326172, 0.8701602745056152, 0.9149771690368652, 0.9307050704956055, 0.9138347053527832, 0.8631360626220703, 0.7933916473388671], \"y\": [-0.4663461685180664, -0.5119424629211425, -0.5386608123779296, -0.5523978996276855, -0.5388994216918945, -0.5173328018188477, -0.4866150856018066], \"type\": \"scatter\", \"uid\": \"a6fdd015-f34f-4db3-ae38-8185a9bb3c17\"}], {\"height\": 600, \"hovermode\": \"closest\", \"title\": {\"text\": \"Blender generated curves XZ Front View\"}, \"width\": 600, \"xaxis\": {\"range\": [-0.4, 1.3], \"title\": {\"text\": \"X\"}}, \"yaxis\": {\"range\": [-0.6, 1.2], \"title\": {\"text\": \"Y\"}}}, {\"showLink\": false, \"linkText\": \"Export to plot.ly\", \"plotlyServerURL\": \"https://plot.ly\"})});</script>"
      ]
     },
     "metadata": {},
     "output_type": "display_data"
    }
   ],
   "source": [
    "nx = np.concatenate((nc[0], nc[1], nc[2], nc[3], nc[4], nc[5], nc[6]))\n",
    "gx = gy.FormatNetworkToGraphColumns(nx, xOffset=0, yOffset=14, colPoints=7)\n",
    "\n",
    "layout = go.Layout(\n",
    "    title = 'Initial Curves',\n",
    "    height = 600,\n",
    "    width = 600,\n",
    "    hovermode= 'closest',\n",
    "    xaxis= dict(\n",
    "        title= 'X',\n",
    "        range = [-.4,1.3],\n",
    "    ),\n",
    "    yaxis=dict(\n",
    "        title= 'Y',\n",
    "        range = [-.6,1.2],\n",
    "    )\n",
    ")\n",
    "layout.title = 'Blender generated curves XZ Front View'\n",
    "f = gy.graphCurves(gx, layout, dashRange=range(7,14))\n",
    "f = gy.graphCurves(gx, layout, dashRange=gy.rangeList([range(7,14),range(21,28)]))\n",
    "offline.iplot(f)\n"
   ]
  },
  {
   "cell_type": "code",
   "execution_count": 10,
   "metadata": {},
   "outputs": [
    {
     "data": {
      "application/vnd.plotly.v1+json": {
       "config": {
        "linkText": "Export to plot.ly",
        "plotlyServerURL": "https://plot.ly",
        "showLink": false
       },
       "data": [
        {
         "line": {
          "shape": "spline"
         },
         "name": "0",
         "type": "scatter",
         "uid": "f0e7925a-598f-43e6-bf19-aac73a948afa",
         "x": [
          -0.1685985517501831,
          -0.07965473413467407,
          -0.03315668106079101,
          -0.00021929675247520208,
          0.03335633039474487,
          0.09137977838516236,
          0.1690902042388916
         ],
         "y": [
          0.03799632668495178,
          0.022589921951293945,
          0.01608697235584259,
          0.01063824713230133,
          0.014557936191558837,
          0.018589752316474913,
          0.03633513450622559
         ]
        },
        {
         "line": {
          "shape": "spline"
         },
         "name": "1",
         "type": "scatter",
         "uid": "d44b2a0f-61f7-4121-ab7c-82f883ee6fc0",
         "x": [
          -0.23815648555755614,
          -0.1697014331817627,
          -0.08237872123718261,
          -0.0010125087574124336,
          0.0828548526763916,
          0.1721029758453369,
          0.24290019035339355
         ],
         "y": [
          0.04787492752075195,
          0.019586985111236573,
          -0.01314075082540512,
          -0.021567281484603882,
          -0.011341259479522704,
          0.02016076326370239,
          0.04958091616630554
         ]
        },
        {
         "line": {
          "shape": "spline"
         },
         "name": "2",
         "type": "scatter",
         "uid": "66db9b11-4dec-4834-9d1e-a58504690efc",
         "x": [
          -0.3109507942199707,
          -0.21234426498413086,
          -0.10937582015991211,
          -0.0012746507674455641,
          0.10971741914749145,
          0.21385746002197265,
          0.2990800380706787
         ],
         "y": [
          0.05793404817581176,
          0.019348483085632324,
          -0.0062473064661025994,
          -0.027106432914733886,
          -0.00652563214302063,
          0.021203606128692626,
          0.05571916222572326
         ]
        },
        {
         "line": {
          "shape": "spline"
         },
         "name": "3",
         "type": "scatter",
         "uid": "b0f385c8-1115-4d3d-bda7-abe75c04d5db",
         "x": [
          -0.3525000286102295,
          -0.2412242317199707,
          -0.1276931619644165,
          0.00027118166908621786,
          0.1284562110900879,
          0.24397387504577636,
          0.33431736946105955
         ],
         "y": [
          0.07971917152404785,
          0.04199065089225769,
          0.009349980354309081,
          -0.01180413007736206,
          0.012774145603179932,
          0.04313592195510864,
          0.07421977043151855
         ]
        },
        {
         "line": {
          "shape": "spline"
         },
         "name": "4",
         "type": "scatter",
         "uid": "0fcad10e-a892-4805-9f00-b0e05b828dd1",
         "x": [
          -0.36489455223083495,
          -0.24243101119995117,
          -0.1277885055541992,
          0.0012987289577722548,
          0.12828091621398927,
          0.2448072624206543,
          0.3565103816986084
         ],
         "y": [
          0.11239006519317626,
          0.08153931856155396,
          0.052607102394104,
          0.037518610954284666,
          0.056737761497497555,
          0.08157370090484618,
          0.11113480567932128
         ]
        },
        {
         "line": {
          "shape": "spline"
         },
         "name": "5",
         "type": "scatter",
         "uid": "01e6a1c0-504f-476d-924c-2a29de62f060",
         "x": [
          -0.3487242794036865,
          -0.23228851318359375,
          -0.11993322372436523,
          0.0003005198948085308,
          0.11919249057769775,
          0.23281672954559327,
          0.3453734493255615
         ],
         "y": [
          0.15510362148284912,
          0.13139737129211426,
          0.11380029916763305,
          0.1035820198059082,
          0.11338117361068725,
          0.13112194061279298,
          0.15380028247833252
         ]
        },
        {
         "line": {
          "shape": "spline"
         },
         "name": "6",
         "type": "scatter",
         "uid": "464af223-57a3-4a32-a8f5-50a33b861b65",
         "x": [
          -0.29604326248168944,
          -0.20963364601135254,
          -0.11139646053314209,
          0.0007861006446182728,
          0.10324812412261962,
          0.2110151195526123,
          0.29314690589904785
         ],
         "y": [
          0.17756741523742675,
          0.19272201061248778,
          0.20068293571472168,
          0.1993065547943115,
          0.19162091732025147,
          0.19420037269592286,
          0.17805267333984373
         ]
        }
       ],
       "layout": {
        "height": 600,
        "hovermode": "closest",
        "title": {
         "text": "Blender generated curves YZ Right Side View"
        },
        "width": 600,
        "xaxis": {
         "range": [
          -0.8,
          0.8
         ],
         "title": {
          "text": "X"
         }
        },
        "yaxis": {
         "range": [
          -0.6,
          1
         ],
         "title": {
          "text": "Y"
         }
        }
       }
      },
      "text/html": [
       "<div id=\"a75c57ae-8f4a-4682-9f90-6d2512b2a458\" style=\"height: 600px; width: 600px;\" class=\"plotly-graph-div\"></div><script type=\"text/javascript\">require([\"plotly\"], function(Plotly) { window.PLOTLYENV=window.PLOTLYENV || {};window.PLOTLYENV.BASE_URL=\"https://plot.ly\";Plotly.newPlot(\"a75c57ae-8f4a-4682-9f90-6d2512b2a458\", [{\"line\": {\"shape\": \"spline\"}, \"name\": \"0\", \"x\": [-0.1685985517501831, -0.07965473413467407, -0.03315668106079101, -0.00021929675247520208, 0.03335633039474487, 0.09137977838516236, 0.1690902042388916], \"y\": [0.03799632668495178, 0.022589921951293945, 0.01608697235584259, 0.01063824713230133, 0.014557936191558837, 0.018589752316474913, 0.03633513450622559], \"type\": \"scatter\", \"uid\": \"f0e7925a-598f-43e6-bf19-aac73a948afa\"}, {\"line\": {\"shape\": \"spline\"}, \"name\": \"1\", \"x\": [-0.23815648555755614, -0.1697014331817627, -0.08237872123718261, -0.0010125087574124336, 0.0828548526763916, 0.1721029758453369, 0.24290019035339355], \"y\": [0.04787492752075195, 0.019586985111236573, -0.01314075082540512, -0.021567281484603882, -0.011341259479522704, 0.02016076326370239, 0.04958091616630554], \"type\": \"scatter\", \"uid\": \"d44b2a0f-61f7-4121-ab7c-82f883ee6fc0\"}, {\"line\": {\"shape\": \"spline\"}, \"name\": \"2\", \"x\": [-0.3109507942199707, -0.21234426498413086, -0.10937582015991211, -0.0012746507674455641, 0.10971741914749145, 0.21385746002197265, 0.2990800380706787], \"y\": [0.05793404817581176, 0.019348483085632324, -0.0062473064661025994, -0.027106432914733886, -0.00652563214302063, 0.021203606128692626, 0.05571916222572326], \"type\": \"scatter\", \"uid\": \"66db9b11-4dec-4834-9d1e-a58504690efc\"}, {\"line\": {\"shape\": \"spline\"}, \"name\": \"3\", \"x\": [-0.3525000286102295, -0.2412242317199707, -0.1276931619644165, 0.00027118166908621786, 0.1284562110900879, 0.24397387504577636, 0.33431736946105955], \"y\": [0.07971917152404785, 0.04199065089225769, 0.009349980354309081, -0.01180413007736206, 0.012774145603179932, 0.04313592195510864, 0.07421977043151855], \"type\": \"scatter\", \"uid\": \"b0f385c8-1115-4d3d-bda7-abe75c04d5db\"}, {\"line\": {\"shape\": \"spline\"}, \"name\": \"4\", \"x\": [-0.36489455223083495, -0.24243101119995117, -0.1277885055541992, 0.0012987289577722548, 0.12828091621398927, 0.2448072624206543, 0.3565103816986084], \"y\": [0.11239006519317626, 0.08153931856155396, 0.052607102394104, 0.037518610954284666, 0.056737761497497555, 0.08157370090484618, 0.11113480567932128], \"type\": \"scatter\", \"uid\": \"0fcad10e-a892-4805-9f00-b0e05b828dd1\"}, {\"line\": {\"shape\": \"spline\"}, \"name\": \"5\", \"x\": [-0.3487242794036865, -0.23228851318359375, -0.11993322372436523, 0.0003005198948085308, 0.11919249057769775, 0.23281672954559327, 0.3453734493255615], \"y\": [0.15510362148284912, 0.13139737129211426, 0.11380029916763305, 0.1035820198059082, 0.11338117361068725, 0.13112194061279298, 0.15380028247833252], \"type\": \"scatter\", \"uid\": \"01e6a1c0-504f-476d-924c-2a29de62f060\"}, {\"line\": {\"shape\": \"spline\"}, \"name\": \"6\", \"x\": [-0.29604326248168944, -0.20963364601135254, -0.11139646053314209, 0.0007861006446182728, 0.10324812412261962, 0.2110151195526123, 0.29314690589904785], \"y\": [0.17756741523742675, 0.19272201061248778, 0.20068293571472168, 0.1993065547943115, 0.19162091732025147, 0.19420037269592286, 0.17805267333984373], \"type\": \"scatter\", \"uid\": \"464af223-57a3-4a32-a8f5-50a33b861b65\"}], {\"height\": 600, \"hovermode\": \"closest\", \"title\": {\"text\": \"Blender generated curves YZ Right Side View\"}, \"width\": 600, \"xaxis\": {\"range\": [-0.8, 0.8], \"title\": {\"text\": \"X\"}}, \"yaxis\": {\"range\": [-0.6, 1], \"title\": {\"text\": \"Y\"}}}, {\"showLink\": false, \"linkText\": \"Export to plot.ly\", \"plotlyServerURL\": \"https://plot.ly\"})});</script>"
      ],
      "text/vnd.plotly.v1+html": [
       "<div id=\"a75c57ae-8f4a-4682-9f90-6d2512b2a458\" style=\"height: 600px; width: 600px;\" class=\"plotly-graph-div\"></div><script type=\"text/javascript\">require([\"plotly\"], function(Plotly) { window.PLOTLYENV=window.PLOTLYENV || {};window.PLOTLYENV.BASE_URL=\"https://plot.ly\";Plotly.newPlot(\"a75c57ae-8f4a-4682-9f90-6d2512b2a458\", [{\"line\": {\"shape\": \"spline\"}, \"name\": \"0\", \"x\": [-0.1685985517501831, -0.07965473413467407, -0.03315668106079101, -0.00021929675247520208, 0.03335633039474487, 0.09137977838516236, 0.1690902042388916], \"y\": [0.03799632668495178, 0.022589921951293945, 0.01608697235584259, 0.01063824713230133, 0.014557936191558837, 0.018589752316474913, 0.03633513450622559], \"type\": \"scatter\", \"uid\": \"f0e7925a-598f-43e6-bf19-aac73a948afa\"}, {\"line\": {\"shape\": \"spline\"}, \"name\": \"1\", \"x\": [-0.23815648555755614, -0.1697014331817627, -0.08237872123718261, -0.0010125087574124336, 0.0828548526763916, 0.1721029758453369, 0.24290019035339355], \"y\": [0.04787492752075195, 0.019586985111236573, -0.01314075082540512, -0.021567281484603882, -0.011341259479522704, 0.02016076326370239, 0.04958091616630554], \"type\": \"scatter\", \"uid\": \"d44b2a0f-61f7-4121-ab7c-82f883ee6fc0\"}, {\"line\": {\"shape\": \"spline\"}, \"name\": \"2\", \"x\": [-0.3109507942199707, -0.21234426498413086, -0.10937582015991211, -0.0012746507674455641, 0.10971741914749145, 0.21385746002197265, 0.2990800380706787], \"y\": [0.05793404817581176, 0.019348483085632324, -0.0062473064661025994, -0.027106432914733886, -0.00652563214302063, 0.021203606128692626, 0.05571916222572326], \"type\": \"scatter\", \"uid\": \"66db9b11-4dec-4834-9d1e-a58504690efc\"}, {\"line\": {\"shape\": \"spline\"}, \"name\": \"3\", \"x\": [-0.3525000286102295, -0.2412242317199707, -0.1276931619644165, 0.00027118166908621786, 0.1284562110900879, 0.24397387504577636, 0.33431736946105955], \"y\": [0.07971917152404785, 0.04199065089225769, 0.009349980354309081, -0.01180413007736206, 0.012774145603179932, 0.04313592195510864, 0.07421977043151855], \"type\": \"scatter\", \"uid\": \"b0f385c8-1115-4d3d-bda7-abe75c04d5db\"}, {\"line\": {\"shape\": \"spline\"}, \"name\": \"4\", \"x\": [-0.36489455223083495, -0.24243101119995117, -0.1277885055541992, 0.0012987289577722548, 0.12828091621398927, 0.2448072624206543, 0.3565103816986084], \"y\": [0.11239006519317626, 0.08153931856155396, 0.052607102394104, 0.037518610954284666, 0.056737761497497555, 0.08157370090484618, 0.11113480567932128], \"type\": \"scatter\", \"uid\": \"0fcad10e-a892-4805-9f00-b0e05b828dd1\"}, {\"line\": {\"shape\": \"spline\"}, \"name\": \"5\", \"x\": [-0.3487242794036865, -0.23228851318359375, -0.11993322372436523, 0.0003005198948085308, 0.11919249057769775, 0.23281672954559327, 0.3453734493255615], \"y\": [0.15510362148284912, 0.13139737129211426, 0.11380029916763305, 0.1035820198059082, 0.11338117361068725, 0.13112194061279298, 0.15380028247833252], \"type\": \"scatter\", \"uid\": \"01e6a1c0-504f-476d-924c-2a29de62f060\"}, {\"line\": {\"shape\": \"spline\"}, \"name\": \"6\", \"x\": [-0.29604326248168944, -0.20963364601135254, -0.11139646053314209, 0.0007861006446182728, 0.10324812412261962, 0.2110151195526123, 0.29314690589904785], \"y\": [0.17756741523742675, 0.19272201061248778, 0.20068293571472168, 0.1993065547943115, 0.19162091732025147, 0.19420037269592286, 0.17805267333984373], \"type\": \"scatter\", \"uid\": \"464af223-57a3-4a32-a8f5-50a33b861b65\"}], {\"height\": 600, \"hovermode\": \"closest\", \"title\": {\"text\": \"Blender generated curves YZ Right Side View\"}, \"width\": 600, \"xaxis\": {\"range\": [-0.8, 0.8], \"title\": {\"text\": \"X\"}}, \"yaxis\": {\"range\": [-0.6, 1], \"title\": {\"text\": \"Y\"}}}, {\"showLink\": false, \"linkText\": \"Export to plot.ly\", \"plotlyServerURL\": \"https://plot.ly\"})});</script>"
      ]
     },
     "metadata": {},
     "output_type": "display_data"
    }
   ],
   "source": [
    "gx = gy.FormatNetworkToGraphColumns(nc[4], xOffset=7, yOffset=14, colPoints=7)\n",
    "\n",
    "layout = go.Layout(\n",
    "    title = 'Initial Curves',\n",
    "    height = 600,\n",
    "    width = 600,\n",
    "    hovermode= 'closest',\n",
    "    xaxis= dict(\n",
    "        title= 'X',\n",
    "        range = [-.8,.8],\n",
    "    ),\n",
    "    yaxis=dict(\n",
    "        title= 'Y',\n",
    "        range = [-.6,1],\n",
    "    )\n",
    ")\n",
    "layout.title = 'Blender generated curves YZ Right Side View'\n",
    "f = gy.graphCurves(gx, layout,dashRange=[10,10])\n",
    "offline.iplot(f)"
   ]
  },
  {
   "cell_type": "code",
   "execution_count": 11,
   "metadata": {},
   "outputs": [],
   "source": [
    "gx = gy.FormatNetworkToGraphColumns(nc[4], xOffset=0, yOffset=7, colPoints=7)\n",
    "\n",
    "layout = go.Layout(\n",
    "    title = 'Initial Curves',\n",
    "    height = 600,\n",
    "    width = 600,\n",
    "    hovermode= 'closest',\n",
    "    xaxis= dict(\n",
    "        title= 'X',\n",
    "        range = [-.1,1.2],\n",
    "    ),\n",
    "    yaxis=dict(\n",
    "        title= 'Y',\n",
    "        range = [-.5,.5],\n",
    "    )\n",
    ")\n",
    "layout.title = 'Blender generated curves XY Top View View'\n",
    "labels = [0.,0.1,.3,.55,.8,1.0, 1.1]\n",
    "f = gy.graphCurves(gx, layout, labels,dashRange=range(10,100))\n",
    "# offline.iplot(f)\n",
    "# if not os.path.exists('images'):\n",
    "#     os.mkdir('images')\n",
    "# pio.write_image(f, 'images/fig1.png')\n"
   ]
  },
  {
   "cell_type": "code",
   "execution_count": 13,
   "metadata": {},
   "outputs": [
    {
     "data": {
      "text/plain": [
       "(torch.Size([7, 7, 2]), torch.Size([7, 7, 21]))"
      ]
     },
     "execution_count": 13,
     "metadata": {},
     "output_type": "execute_result"
    }
   ],
   "source": [
    "''' \n",
    "3. Create reference NN input and output Targets\n",
    "\n",
    "'''\n",
    "morphIndices=[0.,0.1,.3,.55,.8,1.0, 1.1]\n",
    "timeIndices= [0.,0.1,.3,.55,.8,1.0, 1.1]\n",
    "\n",
    "relMapIn = gy.createRmInput(morphIndices, timeIndices, sPermutation=[])\n",
    "trelMapIn = torch.Tensor(relMapIn)\n",
    "tphTarget = torch.Tensor(nc)\n",
    "\n",
    "trelMapIn.shape, tphTarget.shape\n"
   ]
  },
  {
   "cell_type": "code",
   "execution_count": 14,
   "metadata": {},
   "outputs": [
    {
     "name": "stdout",
     "output_type": "stream",
     "text": [
      "cuda device:  cpu\n"
     ]
    },
    {
     "data": {
      "text/plain": [
       "([2, 10, 15, 21], torch.Size([7, 7, 2]))"
      ]
     },
     "execution_count": 14,
     "metadata": {},
     "output_type": "execute_result"
    }
   ],
   "source": [
    "'''\n",
    "4. Initialize network model\n",
    "\n",
    "'''\n",
    "\n",
    "torch.manual_seed(1)\n",
    "templateModel = Net([2,10,15,21])\n",
    "templateModel.train = True\n",
    "\n",
    "#device = torch.device(\"cuda:0\")\n",
    "device = torch.device(\"cpu\")\n",
    "print('cuda device: ', device)\n",
    "if device == torch.device(\"cuda:0\"):\n",
    "    templateModel.to(device)\n",
    "    trelMapIn = tgeTarget.to(device)\n",
    "    tphTarget = tphTarget.to(device)\n",
    "    print(\"Transfer to use \", device)\n",
    "    \n",
    "templateModel.shape, trelMapIn.shape"
   ]
  },
  {
   "cell_type": "code",
   "execution_count": 23,
   "metadata": {},
   "outputs": [
    {
     "name": "stdout",
     "output_type": "stream",
     "text": [
      "Epoch 0 - loss: 0.00308\n",
      "Epoch 2,000 - loss: 0.00382\n",
      "Epoch 4,000 - loss: 0.00754\n",
      "Epoch 6,000 - loss: 0.00418\n",
      "Epoch 8,000 - loss: 0.00912\n",
      "Epoch 10,000 - loss: 0.00690\n",
      "Epoch 12,000 - loss: 0.00913\n",
      "Epoch 14,000 - loss: 0.00757\n",
      "Epoch 16,000 - loss: 0.00504\n",
      "Epoch 18,000 - loss: 0.00382\n",
      "Epoch 20,000 - loss: 0.00122:0.04446\n",
      "time:  127.56095957756042\n"
     ]
    }
   ],
   "source": [
    "''' \n",
    "5. Train 2D Ge input to NN model 3D (xyz) Ph output\n",
    "\n",
    "'''\n",
    "numBatch = trelMapIn.shape[0]\n",
    "criterion = torch.nn.MSELoss(reduction='sum')\n",
    "start = time.time()\n",
    "\n",
    "parms={'lRate':.00005, 'epochs':20000,'numBatch':numBatch,'relMap':trelMapIn,'phTarget':tphTarget}\n",
    "phTrain(templateModel,parms)\n",
    "\n",
    "print('time: ', time.time()-start)\n",
    "templateModel.train = False"
   ]
  },
  {
   "cell_type": "code",
   "execution_count": null,
   "metadata": {},
   "outputs": [],
   "source": [
    "'''\n",
    "parms={'lRate':.001, 'epochs':20000,'numBatch':numBatch,'relMap':trelMapIn,'phTarget':tphTarget}\n",
    "Epoch 20,000 - loss: 0.00370:38.28113\n",
    "Epoch 20,000 - loss: 0.00284:0.27083\n",
    "parms={'lRate':.0005, 'epochs':20000,'numBatch':numBatch,'relMap':trelMapIn,'phTarget':tphTarget}\n",
    "Epoch 20,000 - loss: 0.00177:0.09617\n",
    "Epoch 20,000 - loss: 0.00137:0.04988\n",
    "parms={'lRate':.0002, 'epochs':20000,'numBatch':numBatch,'relMap':trelMapIn,'phTarget':tphTarget}\n",
    "Epoch 20,000 - loss: 0.00138:0.05712\n",
    "parms={'lRate':.00005, 'epochs':20000,'numBatch':numBatch,'relMap':trelMapIn,'phTarget':tphTarget}\n",
    "Epoch 20,000 - loss: 0.00122:0.04446\n",
    "\n",
    "'''"
   ]
  },
  {
   "cell_type": "code",
   "execution_count": 24,
   "metadata": {},
   "outputs": [
    {
     "data": {
      "text/plain": [
       "((9, 9, 2), (9, 9, 21))"
      ]
     },
     "execution_count": 24,
     "metadata": {},
     "output_type": "execute_result"
    }
   ],
   "source": [
    "'''\n",
    "6. Generate sample model output and blender formatted test data\n",
    "\n",
    "'''\n",
    "\n",
    "morphIndices=[0.,0.1,.2,.3,.5,.7,.9,1.0, 1.1]\n",
    "timeIndices=[0.,0.1,.2,.3,.5,.7,.9,1.0, 1.1]\n",
    "relMapIn = gy.createRmInput(morphIndices, timeIndices, sPermutation=[])\n",
    "\n",
    "ph2t = templateModel(torch.Tensor(relMapIn)).data.numpy()\n",
    "\n",
    "relMapIn.shape,ph2t.shape"
   ]
  },
  {
   "cell_type": "code",
   "execution_count": 25,
   "metadata": {},
   "outputs": [
    {
     "data": {
      "application/vnd.plotly.v1+json": {
       "config": {
        "linkText": "Export to plot.ly",
        "plotlyServerURL": "https://plot.ly",
        "showLink": false
       },
       "data": [
        {
         "line": {
          "dash": "2px,6px",
          "shape": "spline"
         },
         "marker": {
          "symbol": "star"
         },
         "name": "0",
         "type": "scatter",
         "uid": "799bb9f8-e500-4c7e-b144-706f850a2aca",
         "x": [
          -0.007948756217956543,
          -0.007111728191375732,
          -0.00735849142074585,
          -0.008664548397064209,
          -0.0075836181640625,
          -0.006564319133758545,
          -0.007563531398773193
         ],
         "y": [
          0.0012583248317241669,
          0.0004968605935573578,
          -0.00026339292526245117,
          -0.00013333559036254883,
          -0.00029963254928588867,
          0.00048627585056237876,
          0.0005759419873356819
         ]
        },
        {
         "line": {
          "dash": "2px,6px",
          "shape": "spline"
         },
         "marker": {
          "symbol": "star"
         },
         "name": "1",
         "type": "scatter",
         "uid": "29e597fc-32a7-440b-a66a-7de519fa4872",
         "x": [
          0.003794938325881958,
          0.012245029211044312,
          0.01916535198688507,
          0.023897036910057068,
          0.020151451230049133,
          0.012151248753070831,
          0.004382282495498657
         ],
         "y": [
          0.16554680466651917,
          0.16874326765537262,
          0.17049553990364075,
          0.1708437204360962,
          0.1700996607542038,
          0.16864264011383057,
          0.16573020815849304
         ]
        },
        {
         "line": {
          "dash": "2px,6px",
          "shape": "spline"
         },
         "marker": {
          "symbol": "star"
         },
         "name": "2",
         "type": "scatter",
         "uid": "4958c5ae-ccd2-4576-97d0-e19ddb14af35",
         "x": [
          0.002282440662384033,
          0.015465214848518372,
          0.025501489639282227,
          0.03193805366754532,
          0.02664864808320999,
          0.014842420816421509,
          0.003396153450012207
         ],
         "y": [
          0.2708723545074463,
          0.2762325406074524,
          0.2793170213699341,
          0.28031009435653687,
          0.2796206772327423,
          0.27609679102897644,
          0.2711809575557709
         ]
        },
        {
         "line": {
          "dash": "2px,6px",
          "shape": "spline"
         },
         "marker": {
          "symbol": "star"
         },
         "name": "3",
         "type": "scatter",
         "uid": "211605fe-8b81-4a22-831a-a96a7fa459f1",
         "x": [
          -0.0074544548988342285,
          0.008287467062473297,
          0.02002003788948059,
          0.026814430952072144,
          0.021057866513729095,
          0.007341653108596802,
          -0.0058563947677612305
         ],
         "y": [
          0.3532012403011322,
          0.35910114645957947,
          0.3625946044921875,
          0.36409294605255127,
          0.3637674152851105,
          0.3589116334915161,
          0.3532616198062897
         ]
        },
        {
         "line": {
          "dash": "2px,6px",
          "shape": "spline"
         },
         "marker": {
          "symbol": "star"
         },
         "name": "4",
         "type": "scatter",
         "uid": "010134a3-6df3-4b92-ab05-7e83c3d8ee89",
         "x": [
          -0.04480820894241333,
          -0.02796351909637451,
          -0.014262080192565918,
          -0.007303953170776367,
          -0.013298213481903076,
          -0.028996646404266357,
          -0.04272031784057617
         ],
         "y": [
          0.4947819411754608,
          0.4983966648578644,
          0.5009622573852539,
          0.5025703310966492,
          0.5030034780502319,
          0.49819058179855347,
          0.4942804276943207
         ]
        },
        {
         "line": {
          "dash": "2px,6px",
          "shape": "spline"
         },
         "marker": {
          "symbol": "star"
         },
         "name": "5",
         "type": "scatter",
         "uid": "c154a4d5-4ae4-48a3-99a1-9e4204f54c75",
         "x": [
          -0.10364896059036255,
          -0.08828991651535034,
          -0.07501381635665894,
          -0.06825417280197144,
          -0.07372218370437622,
          -0.08894836902618408,
          -0.10150617361068726
         ],
         "y": [
          0.623660683631897,
          0.6251044273376465,
          0.6267492771148682,
          0.6282088756561279,
          0.6282914876937866,
          0.6252735257148743,
          0.6237549781799316
         ]
        },
        {
         "line": {
          "dash": "2px,6px",
          "shape": "spline"
         },
         "marker": {
          "symbol": "star"
         },
         "name": "6",
         "type": "scatter",
         "uid": "3a4b749d-1f31-4b55-8a87-38ccb93c06b7",
         "x": [
          -0.18971091508865356,
          -0.17707937955856323,
          -0.1674676537513733,
          -0.1621227264404297,
          -0.166082501411438,
          -0.17727285623550415,
          -0.18792986869812012
         ],
         "y": [
          0.7449011206626892,
          0.748397707939148,
          0.7514927983283997,
          0.7538575530052185,
          0.7518038153648376,
          0.7491481304168701,
          0.7468279600143433
         ]
        },
        {
         "line": {
          "dash": "2px,6px",
          "shape": "spline"
         },
         "marker": {
          "symbol": "star"
         },
         "name": "7",
         "type": "scatter",
         "uid": "5ed94d85-00e8-4191-997b-69ad32f45db7",
         "x": [
          -0.2504386901855469,
          -0.24103283882141113,
          -0.23427248001098633,
          -0.23047494888305664,
          -0.23330342769622803,
          -0.24086689949035645,
          -0.2492777705192566
         ],
         "y": [
          0.8187764883041382,
          0.8227916955947876,
          0.8263817429542542,
          0.8287597298622131,
          0.826128363609314,
          0.8235442638397217,
          0.8207467198371887
         ]
        },
        {
         "line": {
          "shape": "spline"
         },
         "name": "8",
         "type": "scatter",
         "uid": "bb1c4829-1cd4-4bd0-b804-8f0e8f50fde7",
         "x": [
          -0.3357906937599182,
          -0.33491015434265137,
          -0.3329440951347351,
          -0.33235883712768555,
          -0.33295053243637085,
          -0.3342331051826477,
          -0.33578115701675415
         ],
         "y": [
          0.9319867491722107,
          0.9307212829589844,
          0.9312875866889954,
          0.931474506855011,
          0.9314232468605042,
          0.9308878779411316,
          0.9322583675384521
         ]
        },
        {
         "line": {
          "shape": "spline"
         },
         "name": "9",
         "type": "scatter",
         "uid": "3874a72a-6730-4c15-b8fc-d1bc65456cae",
         "x": [
          0.01875448226928711,
          0.01566135138273239,
          0.015209093689918518,
          0.014942653477191925,
          0.014917351305484772,
          0.016106516122817993,
          0.01855263113975525
         ],
         "y": [
          0.004188124090433121,
          -0.004262030124664307,
          -0.007378578186035156,
          -0.007484495639801025,
          -0.007444322109222412,
          -0.004537999629974365,
          0.003234182484447956
         ]
        },
        {
         "line": {
          "shape": "spline"
         },
         "name": "10",
         "type": "scatter",
         "uid": "29d715be-e571-43fd-9f89-c1fe06af0c69",
         "x": [
          0.0647442638874054,
          0.07354118674993515,
          0.08220946043729782,
          0.08807484805583954,
          0.08281465619802475,
          0.07377825677394867,
          0.06420308351516724
         ],
         "y": [
          0.15968140959739685,
          0.15535438060760498,
          0.1536191999912262,
          0.1526411920785904,
          0.15224142372608185,
          0.15512366592884064,
          0.15961626172065735
         ]
        },
        {
         "line": {
          "shape": "spline"
         },
         "name": "11",
         "type": "scatter",
         "uid": "6a923682-24a7-4d03-b741-48c0b01d9654",
         "x": [
          0.08971014618873596,
          0.10588165372610092,
          0.11847245693206787,
          0.1259857565164566,
          0.11910242587327957,
          0.10554070770740509,
          0.08952292799949646
         ],
         "y": [
          0.2575441598892212,
          0.25707387924194336,
          0.25707828998565674,
          0.2566670775413513,
          0.25600770115852356,
          0.2568355202674866,
          0.25786513090133667
         ]
        },
        {
         "line": {
          "shape": "spline"
         },
         "name": "12",
         "type": "scatter",
         "uid": "63b79546-3ac0-4c59-add3-ea6ca31fc31c",
         "x": [
          0.10041108727455139,
          0.1205059140920639,
          0.13502387702465057,
          0.14279243350028992,
          0.13548843562602997,
          0.11967087537050247,
          0.10074633359909058
         ],
         "y": [
          0.3369919955730438,
          0.338691383600235,
          0.3397904932498932,
          0.34011316299438477,
          0.33956658840179443,
          0.33840352296829224,
          0.3372333347797394
         ]
        },
        {
         "line": {
          "shape": "spline"
         },
         "name": "13",
         "type": "scatter",
         "uid": "1ab72ef5-21e0-4106-88a1-4144dfd366c8",
         "x": [
          0.1026686578989029,
          0.12506099045276642,
          0.14215132594108582,
          0.15015746653079987,
          0.14248356223106384,
          0.12395602464675903,
          0.10369300842285156
         ],
         "y": [
          0.4797999858856201,
          0.48085540533065796,
          0.4817095398902893,
          0.48248612880706787,
          0.48270782828330994,
          0.480516254901886,
          0.47929632663726807
         ]
        },
        {
         "line": {
          "shape": "spline"
         },
         "name": "14",
         "type": "scatter",
         "uid": "e1f43844-895d-4dc2-86bb-7822c920828c",
         "x": [
          0.09033891558647156,
          0.11128517240285873,
          0.1287025809288025,
          0.1370590180158615,
          0.12944680452346802,
          0.11051836609840393,
          0.09176409244537354
         ],
         "y": [
          0.6194038391113281,
          0.6198755502700806,
          0.6205364465713501,
          0.6215500235557556,
          0.621513307094574,
          0.6199164986610413,
          0.6190020442008972
         ]
        },
        {
         "line": {
          "shape": "spline"
         },
         "name": "15",
         "type": "scatter",
         "uid": "9dfde218-c26f-41db-b03e-1914f795da77",
         "x": [
          0.062093108892440796,
          0.0794043093919754,
          0.09217182546854019,
          0.09934215247631073,
          0.09327373653650284,
          0.07907042652368546,
          0.06388886272907257
         ],
         "y": [
          0.7607471942901611,
          0.7673336267471313,
          0.7715747952461243,
          0.774622917175293,
          0.7719818949699402,
          0.7682204842567444,
          0.7620000839233398
         ]
        },
        {
         "line": {
          "shape": "spline"
         },
         "name": "16",
         "type": "scatter",
         "uid": "8cb23aaa-01ca-46c2-84d7-1d4eedb6bcdf",
         "x": [
          0.034881383180618286,
          0.04768585413694382,
          0.05605064332485199,
          0.06138547509908676,
          0.056810371577739716,
          0.04775972664356232,
          0.036464959383010864
         ],
         "y": [
          0.8481993675231934,
          0.858055830001831,
          0.8642975687980652,
          0.8682122230529785,
          0.8645711541175842,
          0.8592321276664734,
          0.8496089577674866
         ]
        },
        {
         "line": {
          "shape": "spline"
         },
         "name": "17",
         "type": "scatter",
         "uid": "d5d69555-0eac-463d-b20d-38927427531d",
         "x": [
          -0.018914997577667236,
          -0.018377602100372314,
          -0.017383873462677002,
          -0.016339361667633057,
          -0.017935752868652344,
          -0.017436742782592773,
          -0.01849508285522461
         ],
         "y": [
          0.9781332015991211,
          0.9858570098876953,
          0.9909685254096985,
          0.9937463998794556,
          0.991908073425293,
          0.9867733716964722,
          0.9777679443359375
         ]
        },
        {
         "line": {
          "shape": "spline"
         },
         "name": "18",
         "type": "scatter",
         "uid": "13bd0081-4a90-4d5f-8654-7e2d2b413512",
         "x": [
          0.027376383543014526,
          0.02223292738199234,
          0.022142693400382996,
          0.023385562002658844,
          0.02201605588197708,
          0.02180004119873047,
          0.0266554057598114
         ],
         "y": [
          0.016143742948770523,
          -0.0009067654609680176,
          -0.0060890913009643555,
          -0.0065084099769592285,
          -0.006556093692779541,
          -0.001459956169128418,
          0.015622620470821857
         ]
        },
        {
         "line": {
          "shape": "spline"
         },
         "name": "19",
         "type": "scatter",
         "uid": "c850b2c3-6180-4ac9-8bf2-ccf7eb337e6c",
         "x": [
          0.09158781170845032,
          0.09932909160852432,
          0.1082882434129715,
          0.11400613933801651,
          0.10828662663698196,
          0.09963348507881165,
          0.09024712443351746
         ],
         "y": [
          0.1547679901123047,
          0.1402159333229065,
          0.1338261365890503,
          0.13137409090995789,
          0.13219161331653595,
          0.1398567110300064,
          0.15423369407653809
         ]
        },
        {
         "line": {
          "shape": "spline"
         },
         "name": "20",
         "type": "scatter",
         "uid": "a54e47f6-9005-4873-9ea1-d1b493a724b8",
         "x": [
          0.14171434938907623,
          0.159050852060318,
          0.17277462780475616,
          0.17988023161888123,
          0.17252257466316223,
          0.15902841091156006,
          0.14045833051204681
         ],
         "y": [
          0.24026107788085938,
          0.23079045116901398,
          0.22592097520828247,
          0.22381727397441864,
          0.2243986278772354,
          0.2303963452577591,
          0.2401622235774994
         ]
        },
        {
         "line": {
          "shape": "spline"
         },
         "name": "21",
         "type": "scatter",
         "uid": "b3900eb7-c257-4911-a9c9-808044289e81",
         "x": [
          0.1737365573644638,
          0.19736957550048828,
          0.21412108838558197,
          0.22192004323005676,
          0.213735431432724,
          0.19669494032859802,
          0.17279602587223053
         ],
         "y": [
          0.3114970624446869,
          0.30584144592285156,
          0.30277594923973083,
          0.301513671875,
          0.30165764689445496,
          0.3053509294986725,
          0.3117885887622833
         ]
        },
        {
         "line": {
          "shape": "spline"
         },
         "name": "22",
         "type": "scatter",
         "uid": "e9b96ff5-6d0f-44ee-b1e0-e24e9157ac8b",
         "x": [
          0.20711910724639893,
          0.23431724309921265,
          0.2547418177127838,
          0.26339033246040344,
          0.2544015347957611,
          0.23308511078357697,
          0.20678776502609253
         ],
         "y": [
          0.45236051082611084,
          0.44788047671318054,
          0.4453381299972534,
          0.4446370005607605,
          0.44535031914711,
          0.44719961285591125,
          0.45213842391967773
         ]
        },
        {
         "line": {
          "shape": "spline"
         },
         "name": "23",
         "type": "scatter",
         "uid": "80207050-f79b-4f24-92ae-38f6a97a4898",
         "x": [
          0.2254534810781479,
          0.2507700026035309,
          0.272361695766449,
          0.2818874716758728,
          0.27253884077072144,
          0.24987182021141052,
          0.2254306823015213
         ],
         "y": [
          0.5947185158729553,
          0.589895486831665,
          0.5870277881622314,
          0.586419939994812,
          0.5872087478637695,
          0.5894410610198975,
          0.5943206548690796
         ]
        },
        {
         "line": {
          "shape": "spline"
         },
         "name": "24",
         "type": "scatter",
         "uid": "8e1155d0-dddf-4af6-bd4b-535e9963c3a0",
         "x": [
          0.2333885133266449,
          0.2531496584415436,
          0.26951390504837036,
          0.2780001759529114,
          0.2702694237232208,
          0.2527489960193634,
          0.2338845580816269
         ],
         "y": [
          0.745822012424469,
          0.749190092086792,
          0.7505914568901062,
          0.7523080110549927,
          0.7505443096160889,
          0.749578595161438,
          0.7469819784164429
         ]
        },
        {
         "line": {
          "shape": "spline"
         },
         "name": "25",
         "type": "scatter",
         "uid": "e608c740-e4e6-4885-9fbc-7aa311dbdd6c",
         "x": [
          0.229223370552063,
          0.2433401644229889,
          0.25463610887527466,
          0.26124414801597595,
          0.2551688253879547,
          0.24338267743587494,
          0.22966110706329346
         ],
         "y": [
          0.8390164375305176,
          0.8470722436904907,
          0.8510299324989319,
          0.8539016246795654,
          0.8510590195655823,
          0.8478289246559143,
          0.8403854966163635
         ]
        },
        {
         "line": {
          "shape": "spline"
         },
         "name": "26",
         "type": "scatter",
         "uid": "7a384b9a-1021-494e-b545-a81da276d282",
         "x": [
          0.20460155606269836,
          0.20573881268501282,
          0.20918938517570496,
          0.21160146594047546,
          0.20847657322883606,
          0.20671741664409637,
          0.20405220985412598
         ],
         "y": [
          0.9754737019538879,
          0.9832642078399658,
          0.9870021939277649,
          0.9891657829284668,
          0.9878498315811157,
          0.9838498830795288,
          0.9749419689178467
         ]
        },
        {
         "line": {
          "shape": "spline"
         },
         "name": "27",
         "type": "scatter",
         "uid": "0b458c3a-323a-47af-9059-5096fdc65847",
         "x": [
          0.033540159463882446,
          0.025730490684509277,
          0.024750277400016785,
          0.02700982242822647,
          0.025117866694927216,
          0.024192973971366882,
          0.03261500597000122
         ],
         "y": [
          0.027993541210889816,
          0.003839530050754547,
          -0.00320512056350708,
          -0.0043357014656066895,
          -0.004148542881011963,
          0.0032129387836903334,
          0.028248369693756104
         ]
        },
        {
         "line": {
          "shape": "spline"
         },
         "name": "28",
         "type": "scatter",
         "uid": "0892e73a-84fe-4e95-a992-bc03a14821d9",
         "x": [
          0.10940428078174591,
          0.11531823128461838,
          0.12377245724201202,
          0.1292448341846466,
          0.12355757504701614,
          0.1154056042432785,
          0.10737676918506622
         ],
         "y": [
          0.14567625522613525,
          0.12136420607566833,
          0.11048346012830734,
          0.10609234869480133,
          0.10813680291175842,
          0.1209646537899971,
          0.14505083858966827
         ]
        },
        {
         "line": {
          "shape": "spline"
         },
         "name": "29",
         "type": "scatter",
         "uid": "ae6d5d72-54b5-4c1b-a90a-b34ae6f9ae70",
         "x": [
          0.17206060886383057,
          0.18768718838691711,
          0.20026333630084991,
          0.20576858520507812,
          0.19924917817115784,
          0.1879110485315323,
          0.17020924389362335
         ],
         "y": [
          0.22149837017059326,
          0.20254090428352356,
          0.1922483891248703,
          0.1881624162197113,
          0.1908356249332428,
          0.20212674140930176,
          0.22078540921211243
         ]
        },
        {
         "line": {
          "shape": "spline"
         },
         "name": "30",
         "type": "scatter",
         "uid": "4da6756f-9345-4d0b-985e-a556cdacca9c",
         "x": [
          0.22055113315582275,
          0.24346864223480225,
          0.25934988260269165,
          0.26524630188941956,
          0.25796568393707275,
          0.24316830933094025,
          0.21898029744625092
         ],
         "y": [
          0.2823307514190674,
          0.2682172656059265,
          0.2597934901714325,
          0.25684207677841187,
          0.2591678202152252,
          0.26764294505119324,
          0.28205549716949463
         ]
        },
        {
         "line": {
          "shape": "spline"
         },
         "name": "31",
         "type": "scatter",
         "uid": "7ff27d4b-52c3-4247-9a21-d9cc974773c2",
         "x": [
          0.2889768183231354,
          0.319252610206604,
          0.34139499068260193,
          0.3496832847595215,
          0.3403642773628235,
          0.3180207908153534,
          0.2876286506652832
         ],
         "y": [
          0.410780131816864,
          0.39954471588134766,
          0.39259788393974304,
          0.390250027179718,
          0.39228618144989014,
          0.39867210388183594,
          0.41090285778045654
         ]
        },
        {
         "line": {
          "shape": "spline"
         },
         "name": "32",
         "type": "scatter",
         "uid": "071b1a56-af49-4b62-8d7c-5ba90c6ed34c",
         "x": [
          0.3333388566970825,
          0.36227717995643616,
          0.3867607116699219,
          0.3968408703804016,
          0.3865550756454468,
          0.36119478940963745,
          0.3321669101715088
         ],
         "y": [
          0.5511399507522583,
          0.5408085584640503,
          0.5339850783348083,
          0.5316691994667053,
          0.5336896777153015,
          0.5400164723396301,
          0.5512973070144653
         ]
        },
        {
         "line": {
          "shape": "spline"
         },
         "name": "33",
         "type": "scatter",
         "uid": "04a369c1-9042-4fec-82f0-1ba657cc4f0c",
         "x": [
          0.3679785430431366,
          0.39074525237083435,
          0.4103885889053345,
          0.4200868606567383,
          0.4110776484012604,
          0.39017775654792786,
          0.367319792509079
         ],
         "y": [
          0.7030812501907349,
          0.7029279470443726,
          0.7009987831115723,
          0.7011234164237976,
          0.7004961967468262,
          0.7029052376747131,
          0.704817533493042
         ]
        },
        {
         "line": {
          "shape": "spline"
         },
         "name": "34",
         "type": "scatter",
         "uid": "fd76d973-6f8b-4be4-918a-ae6278aa4cfa",
         "x": [
          0.37959009408950806,
          0.396664559841156,
          0.41115957498550415,
          0.4192878305912018,
          0.4118082821369171,
          0.39652955532073975,
          0.37900209426879883
         ],
         "y": [
          0.7963535189628601,
          0.8030922412872314,
          0.804707944393158,
          0.8063814640045166,
          0.8043044805526733,
          0.8034690022468567,
          0.7983230948448181
         ]
        },
        {
         "line": {
          "shape": "spline"
         },
         "name": "35",
         "type": "scatter",
         "uid": "3f9f8930-00e8-4695-9be8-93345fa59dc1",
         "x": [
          0.37546306848526,
          0.38094088435173035,
          0.38800865411758423,
          0.3925704061985016,
          0.3875722289085388,
          0.38165485858917236,
          0.37412601709365845
         ],
         "y": [
          0.9300026297569275,
          0.9400889873504639,
          0.9434486031532288,
          0.945202648639679,
          0.943781316280365,
          0.940337061882019,
          0.9298213124275208
         ]
        },
        {
         "line": {
          "shape": "spline"
         },
         "name": "36",
         "type": "scatter",
         "uid": "c94104d4-1561-4ff3-bc59-f760b197ad2f",
         "x": [
          0.059416770935058594,
          0.03882940858602524,
          0.0294162780046463,
          0.030367963016033173,
          0.031311772763729095,
          0.0358550101518631,
          0.059143707156181335
         ],
         "y": [
          0.0384683720767498,
          0.008339297026395798,
          -0.001699209213256836,
          -0.004770874977111816,
          -0.0024961233139038086,
          0.008015296421945095,
          0.04012729227542877
         ]
        },
        {
         "line": {
          "shape": "spline"
         },
         "name": "37",
         "type": "scatter",
         "uid": "3f7ff9cd-6f18-4e73-801c-846988ddc51b",
         "x": [
          0.15205860137939453,
          0.14697644114494324,
          0.14872971177101135,
          0.15207695960998535,
          0.14959754049777985,
          0.14689089357852936,
          0.14978407323360443
         ],
         "y": [
          0.1156734824180603,
          0.07884854078292847,
          0.05962810665369034,
          0.04962841421365738,
          0.05576355755329132,
          0.07904142141342163,
          0.11521150916814804
         ]
        },
        {
         "line": {
          "shape": "spline"
         },
         "name": "38",
         "type": "scatter",
         "uid": "ce3c7fe9-194a-47a3-be6b-8c934954e591",
         "x": [
          0.22540205717086792,
          0.2296597957611084,
          0.2350732535123825,
          0.23723694682121277,
          0.23469778895378113,
          0.23036512732505798,
          0.2231818288564682
         ],
         "y": [
          0.16861864924430847,
          0.13643938302993774,
          0.11625974625349045,
          0.1058807224035263,
          0.11361442506313324,
          0.13659648597240448,
          0.16742508113384247
         ]
        },
        {
         "line": {
          "shape": "spline"
         },
         "name": "39",
         "type": "scatter",
         "uid": "4fcc2c55-388a-4a99-841d-6dc47ba24157",
         "x": [
          0.288677453994751,
          0.2993502616882324,
          0.3070584833621979,
          0.3079735338687897,
          0.30569252371788025,
          0.2999638020992279,
          0.28709647059440613
         ],
         "y": [
          0.21415172517299652,
          0.18805043399333954,
          0.16924726963043213,
          0.1605273336172104,
          0.16912582516670227,
          0.18785861134529114,
          0.2126537412405014
         ]
        },
        {
         "line": {
          "shape": "spline"
         },
         "name": "40",
         "type": "scatter",
         "uid": "3b5d1d17-ab67-451d-9b17-413f1bf10d32",
         "x": [
          0.3994525372982025,
          0.41929465532302856,
          0.43461668491363525,
          0.4373127818107605,
          0.43280312418937683,
          0.41957640647888184,
          0.3983372151851654
         ],
         "y": [
          0.3024650514125824,
          0.278166800737381,
          0.2593437433242798,
          0.2522393465042114,
          0.2619742155075073,
          0.27753064036369324,
          0.30104634165763855
         ]
        },
        {
         "line": {
          "shape": "spline"
         },
         "name": "41",
         "type": "scatter",
         "uid": "6dfd082b-f7e6-4514-abd0-75e3904f4f22",
         "x": [
          0.5041836500167847,
          0.530008852481842,
          0.5519610047340393,
          0.5591036677360535,
          0.5513033270835876,
          0.5301718711853027,
          0.5027203559875488
         ],
         "y": [
          0.3995075821876526,
          0.3781878352165222,
          0.3608163893222809,
          0.3545079827308655,
          0.36254939436912537,
          0.3777160346508026,
          0.4000051021575928
         ]
        },
        {
         "line": {
          "shape": "spline"
         },
         "name": "42",
         "type": "scatter",
         "uid": "a3370fea-159a-4f8b-ae22-bbd57976c986",
         "x": [
          0.5998717546463013,
          0.6268879175186157,
          0.6478976607322693,
          0.6579579710960388,
          0.6490609645843506,
          0.626690149307251,
          0.598762035369873
         ],
         "y": [
          0.5250633955001831,
          0.5210715532302856,
          0.5128195881843567,
          0.5100883841514587,
          0.5127522349357605,
          0.5213819742202759,
          0.5286536812782288
         ]
        },
        {
         "line": {
          "shape": "spline"
         },
         "name": "43",
         "type": "scatter",
         "uid": "5344b1fb-72b6-498d-8dca-660ea7e9853f",
         "x": [
          0.6457319855690002,
          0.6724656820297241,
          0.6903316378593445,
          0.7007660865783691,
          0.6919263601303101,
          0.672159731388092,
          0.6449909806251526
         ],
         "y": [
          0.6042206883430481,
          0.6148272752761841,
          0.6146724224090576,
          0.6151724457740784,
          0.613918662071228,
          0.615588366985321,
          0.6082593202590942
         ]
        },
        {
         "line": {
          "shape": "spline"
         },
         "name": "44",
         "type": "scatter",
         "uid": "eb03f913-6d46-4f31-beb3-a60e3169738c",
         "x": [
          0.6877433061599731,
          0.7141634225845337,
          0.7280533909797668,
          0.7380312085151672,
          0.7290842533111572,
          0.7137271761894226,
          0.687214732170105
         ],
         "y": [
          0.7089478969573975,
          0.7378612756729126,
          0.7486640810966492,
          0.7529460191726685,
          0.7475584745407104,
          0.7386743426322937,
          0.7103055119514465
         ]
        },
        {
         "line": {
          "shape": "spline"
         },
         "name": "45",
         "type": "scatter",
         "uid": "dbe962ec-8ac4-4e8f-94b7-d9c759feec44",
         "x": [
          0.11167830228805542,
          0.06690943241119385,
          0.040798723697662354,
          0.03426270931959152,
          0.042602814733982086,
          0.06551053375005722,
          0.11244112253189087
         ],
         "y": [
          0.03726448491215706,
          0.01682266965508461,
          0.007047951687127352,
          0.005667276680469513,
          0.010291068814694881,
          0.01563185267150402,
          0.0385076180100441
         ]
        },
        {
         "line": {
          "shape": "spline"
         },
         "name": "46",
         "type": "scatter",
         "uid": "6060f3c4-9e4f-4402-b304-ba5f910f16ee",
         "x": [
          0.2070343792438507,
          0.18016096949577332,
          0.16668403148651123,
          0.16325592994689941,
          0.1683315932750702,
          0.18151986598968506,
          0.20566105842590332
         ],
         "y": [
          0.07312406599521637,
          0.040542665868997574,
          0.018139205873012543,
          0.005800962448120117,
          0.015842638909816742,
          0.040562186390161514,
          0.0722404196858406
         ]
        },
        {
         "line": {
          "shape": "spline"
         },
         "name": "47",
         "type": "scatter",
         "uid": "968f52ef-5f25-4c30-b799-beff07959fd4",
         "x": [
          0.2789948880672455,
          0.2637966573238373,
          0.25498294830322266,
          0.25163760781288147,
          0.25672420859336853,
          0.2652994990348816,
          0.27793875336647034
         ],
         "y": [
          0.0901048332452774,
          0.058066461235284805,
          0.03243260830640793,
          0.016033902764320374,
          0.028957143425941467,
          0.05890553072094917,
          0.08908494561910629
         ]
        },
        {
         "line": {
          "shape": "spline"
         },
         "name": "48",
         "type": "scatter",
         "uid": "468ec0ff-38ef-4eca-85dd-58cbecdb5881",
         "x": [
          0.3390832245349884,
          0.33244988322257996,
          0.3270551562309265,
          0.32350799441337585,
          0.3287034034729004,
          0.33335065841674805,
          0.3388746678829193
         ],
         "y": [
          0.10556939244270325,
          0.07648038864135742,
          0.05075063556432724,
          0.03353971242904663,
          0.04821525514125824,
          0.07746227085590363,
          0.10462093353271484
         ]
        },
        {
         "line": {
          "shape": "spline"
         },
         "name": "49",
         "type": "scatter",
         "uid": "cd46588a-3b96-49e0-9bf8-55091e832a22",
         "x": [
          0.45253676176071167,
          0.45918551087379456,
          0.46599864959716797,
          0.4646763503551483,
          0.4665144085884094,
          0.4596845507621765,
          0.45296964049339294
         ],
         "y": [
          0.15623003244400024,
          0.12266088277101517,
          0.09431502223014832,
          0.07780788838863373,
          0.09596000611782074,
          0.12241382151842117,
          0.15355312824249268
         ]
        },
        {
         "line": {
          "shape": "spline"
         },
         "name": "50",
         "type": "scatter",
         "uid": "46c611c1-456b-47d1-b9cf-63579e7ef72d",
         "x": [
          0.5704646110534668,
          0.5894591212272644,
          0.606578528881073,
          0.6097402572631836,
          0.606903612613678,
          0.5901432633399963,
          0.5706528425216675
         ],
         "y": [
          0.20606522262096405,
          0.17069733142852783,
          0.14240235090255737,
          0.12829244136810303,
          0.14522016048431396,
          0.17032501101493835,
          0.20476290583610535
         ]
        },
        {
         "line": {
          "shape": "spline"
         },
         "name": "51",
         "type": "scatter",
         "uid": "347881ae-faa9-448f-a0c3-2eaad1bf0ef7",
         "x": [
          0.7022436261177063,
          0.735560953617096,
          0.7593131065368652,
          0.767804741859436,
          0.7600463032722473,
          0.7365030646324158,
          0.7018963098526001
         ],
         "y": [
          0.2599200904369354,
          0.23723441362380981,
          0.2172851860523224,
          0.20842337608337402,
          0.21819423139095306,
          0.23751966655254364,
          0.26162031292915344
         ]
        },
        {
         "line": {
          "shape": "spline"
         },
         "name": "52",
         "type": "scatter",
         "uid": "800c4d38-4a06-43bd-81a4-e36561b850bc",
         "x": [
          0.7773080468177795,
          0.8208051323890686,
          0.8470481634140015,
          0.8586024045944214,
          0.8478414416313171,
          0.8214647173881531,
          0.7769030332565308
         ],
         "y": [
          0.2990991175174713,
          0.2925851047039032,
          0.2829399108886719,
          0.2786186933517456,
          0.2820555865764618,
          0.2932118773460388,
          0.3009883165359497
         ]
        },
        {
         "line": {
          "shape": "spline"
         },
         "name": "53",
         "type": "scatter",
         "uid": "bd2fa182-8bcc-451b-8993-b3fa58ed1eb9",
         "x": [
          0.8589955568313599,
          0.9167744517326355,
          0.9475485682487488,
          0.9632720947265625,
          0.9477441310882568,
          0.9166286587715149,
          0.8585209846496582
         ],
         "y": [
          0.36533796787261963,
          0.3833325505256653,
          0.3899085819721222,
          0.3911910057067871,
          0.3866884410381317,
          0.38359493017196655,
          0.36298635601997375
         ]
        },
        {
         "line": {
          "shape": "spline"
         },
         "name": "54",
         "type": "scatter",
         "uid": "e012ee36-4c45-45bf-a810-552087b742b1",
         "x": [
          0.14438417553901672,
          0.07956094294786453,
          0.0352223664522171,
          0.018454231321811676,
          0.03488873690366745,
          0.08019451051950455,
          0.14615343511104584
         ],
         "y": [
          0.0032106153666973114,
          0.004208054393529892,
          0.002433613408356905,
          0.00938667356967926,
          0.011604472063481808,
          0.0006005342584103346,
          0.0049121687188744545
         ]
        },
        {
         "line": {
          "shape": "spline"
         },
         "name": "55",
         "type": "scatter",
         "uid": "cdffa8e7-cebf-44bc-b20c-ccd45ac78924",
         "x": [
          0.2309603989124298,
          0.18800455331802368,
          0.15982793271541595,
          0.14761215448379517,
          0.15978562831878662,
          0.1910790055990219,
          0.23010291159152985
         ],
         "y": [
          0.005112882703542709,
          -0.012601256370544434,
          -0.02947819232940674,
          -0.03640341758728027,
          -0.028158247470855713,
          -0.014893829822540283,
          0.00429087970405817
         ]
        },
        {
         "line": {
          "shape": "spline"
         },
         "name": "56",
         "type": "scatter",
         "uid": "55183cca-5e49-4a4f-bab8-f64c39b6d3ef",
         "x": [
          0.29637983441352844,
          0.2681453227996826,
          0.24725498259067535,
          0.2367686629295349,
          0.2481541633605957,
          0.27085092663764954,
          0.2956197261810303
         ],
         "y": [
          -0.0048179030418396,
          -0.027116894721984863,
          -0.0490795373916626,
          -0.06263136863708496,
          -0.05102086067199707,
          -0.02827143669128418,
          -0.005748927593231201
         ]
        },
        {
         "line": {
          "shape": "spline"
         },
         "name": "57",
         "type": "scatter",
         "uid": "bc5f691b-4c23-4719-921d-894a0e00b371",
         "x": [
          0.35212475061416626,
          0.3345569372177124,
          0.3179292678833008,
          0.3085380494594574,
          0.3199981153011322,
          0.33576226234436035,
          0.3525170683860779
         ],
         "y": [
          -0.014278829097747803,
          -0.036789000034332275,
          -0.06009286642074585,
          -0.07698661088943481,
          -0.0629880428314209,
          -0.03712218999862671,
          -0.014527380466461182
         ]
        },
        {
         "line": {
          "shape": "spline"
         },
         "name": "58",
         "type": "scatter",
         "uid": "ab2bd294-5631-40c9-be54-a2417de8cc4c",
         "x": [
          0.4650571346282959,
          0.46380823850631714,
          0.46018338203430176,
          0.45541518926620483,
          0.4639059603214264,
          0.4627310633659363,
          0.467016339302063
         ],
         "y": [
          -0.011684060096740723,
          -0.044926464557647705,
          -0.07384711503982544,
          -0.09552526473999023,
          -0.0760837197303772,
          -0.044852256774902344,
          -0.012405991554260254
         ]
        },
        {
         "line": {
          "shape": "spline"
         },
         "name": "59",
         "type": "scatter",
         "uid": "9f7762dd-29c6-45a2-ac92-fe3bc379b792",
         "x": [
          0.5869118571281433,
          0.6011382341384888,
          0.6115729212760925,
          0.6119168400764465,
          0.6148898601531982,
          0.599453330039978,
          0.5890600681304932
         ],
         "y": [
          0.008199799805879593,
          -0.03347700834274292,
          -0.06512182950973511,
          -0.08580923080444336,
          -0.06476682424545288,
          -0.03412270545959473,
          0.007003803737461567
         ]
        },
        {
         "line": {
          "shape": "spline"
         },
         "name": "60",
         "type": "scatter",
         "uid": "2446910f-cec5-4102-9a52-e66b493963f7",
         "x": [
          0.731378436088562,
          0.767353892326355,
          0.788976788520813,
          0.7953437566757202,
          0.7913477420806885,
          0.7659487128257751,
          0.7327543497085571
         ],
         "y": [
          0.007197465747594833,
          -0.02627497911453247,
          -0.051222026348114014,
          -0.06575566530227661,
          -0.05102115869522095,
          -0.026906192302703857,
          0.0072118425741791725
         ]
        },
        {
         "line": {
          "shape": "spline"
         },
         "name": "61",
         "type": "scatter",
         "uid": "6f44255c-d8a1-48f9-b6a7-6d48034b743b",
         "x": [
          0.8179857730865479,
          0.8709279298782349,
          0.8999401926994324,
          0.9109060764312744,
          0.9014838933944702,
          0.8694334626197815,
          0.8188475370407104
         ],
         "y": [
          0.0037541575729846954,
          -0.016606569290161133,
          -0.032491326332092285,
          -0.04235714673995972,
          -0.03366696834564209,
          -0.017423510551452637,
          0.0016798237338662148
         ]
        },
        {
         "line": {
          "shape": "spline"
         },
         "name": "62",
         "type": "scatter",
         "uid": "c8fe7e61-bdf6-440a-ad7b-b8789de86d0b",
         "x": [
          0.9179748296737671,
          0.9958373308181763,
          1.039241909980774,
          1.0579711198806763,
          1.0389484167099,
          0.994137704372406,
          0.91758131980896
         ],
         "y": [
          0.015843350440263748,
          0.014023184776306152,
          0.012158416211605072,
          0.007315292954444885,
          0.00821640994399786,
          0.011709894053637981,
          0.004897409118711948
         ]
        },
        {
         "line": {
          "shape": "spline"
         },
         "name": "63",
         "type": "scatter",
         "uid": "bbb4e26e-0501-4a98-b8c2-786416b326bf",
         "x": [
          0.15225940942764282,
          0.07936891168355942,
          0.023639380931854248,
          0.0004790201783180237,
          0.021711431443691254,
          0.08050807565450668,
          0.15485906600952148
         ],
         "y": [
          -0.03156036138534546,
          -0.01424109935760498,
          -0.007904291152954102,
          0.006713390350341797,
          0.0051319291815161705,
          -0.01918548345565796,
          -0.028267085552215576
         ]
        },
        {
         "line": {
          "shape": "spline"
         },
         "name": "64",
         "type": "scatter",
         "uid": "846aae64-641a-4273-99b0-cb47911d9ffe",
         "x": [
          0.2383926808834076,
          0.18757221102714539,
          0.1486695110797882,
          0.13027721643447876,
          0.14715784788131714,
          0.19113826751708984,
          0.23814687132835388
         ],
         "y": [
          -0.03971785306930542,
          -0.04282432794570923,
          -0.052659034729003906,
          -0.0531846284866333,
          -0.048199594020843506,
          -0.04641258716583252,
          -0.039192020893096924
         ]
        },
        {
         "line": {
          "shape": "spline"
         },
         "name": "65",
         "type": "scatter",
         "uid": "9ddf3c5a-41e7-45a7-99a0-5c3bad0c0e6d",
         "x": [
          0.30239877104759216,
          0.2666190564632416,
          0.23580358922481537,
          0.21963126957416534,
          0.23549121618270874,
          0.2697347402572632,
          0.3020504415035248
         ],
         "y": [
          -0.05812573432922363,
          -0.06800270080566406,
          -0.08394986391067505,
          -0.09214472770690918,
          -0.08339059352874756,
          -0.07039713859558105,
          -0.05793505907058716
         ]
        },
        {
         "line": {
          "shape": "spline"
         },
         "name": "66",
         "type": "scatter",
         "uid": "bc417060-84af-4a3f-96b5-1bf0361fe3db",
         "x": [
          0.3557526767253876,
          0.33084166049957275,
          0.3043718934059143,
          0.2896310091018677,
          0.3056679666042328,
          0.33212143182754517,
          0.3566204309463501
         ],
         "y": [
          -0.07685273885726929,
          -0.08847469091415405,
          -0.10639810562133789,
          -0.1187593936920166,
          -0.10729557275772095,
          -0.08986413478851318,
          -0.07599931955337524
         ]
        },
        {
         "line": {
          "shape": "spline"
         },
         "name": "67",
         "type": "scatter",
         "uid": "c7fa6ca7-03c9-448d-9a26-3efd1644c755",
         "x": [
          0.4640513062477112,
          0.4559684097766876,
          0.44276368618011475,
          0.4336444139480591,
          0.44689884781837463,
          0.4541569650173187,
          0.46661120653152466
         ],
         "y": [
          -0.09903901815414429,
          -0.12426704168319702,
          -0.14912456274032593,
          -0.16814035177230835,
          -0.15073132514953613,
          -0.12471580505371094,
          -0.09851282835006714
         ]
        },
        {
         "line": {
          "shape": "spline"
         },
         "name": "68",
         "type": "scatter",
         "uid": "7fad37d5-b73c-436c-8ed3-8403c470df71",
         "x": [
          0.5822137594223022,
          0.5901007056236267,
          0.5924715399742126,
          0.5898405909538269,
          0.597513735294342,
          0.5865544080734253,
          0.5851411819458008
         ],
         "y": [
          -0.11020416021347046,
          -0.14841800928115845,
          -0.17818647623062134,
          -0.19882231950759888,
          -0.17837965488433838,
          -0.14920157194137573,
          -0.11084085702896118
         ]
        },
        {
         "line": {
          "shape": "spline"
         },
         "name": "69",
         "type": "scatter",
         "uid": "ef831fbe-453a-47d7-ad5c-e87e5e4cadc1",
         "x": [
          0.7238998413085938,
          0.7542668581008911,
          0.7705294489860535,
          0.7744726538658142,
          0.7741683125495911,
          0.7507021427154541,
          0.7254230976104736
         ],
         "y": [
          -0.14200043678283691,
          -0.17749762535095215,
          -0.20323896408081055,
          -0.21854478120803833,
          -0.20271098613739014,
          -0.17898321151733398,
          -0.14382243156433105
         ]
        },
        {
         "line": {
          "shape": "spline"
         },
         "name": "70",
         "type": "scatter",
         "uid": "ee6a521d-f1aa-4b0f-a4e8-f66da89e1440",
         "x": [
          0.8087450265884399,
          0.8572084903717041,
          0.8845152854919434,
          0.8941412568092346,
          0.8867738246917725,
          0.8536805510520935,
          0.8088352680206299
         ],
         "y": [
          -0.1647917628288269,
          -0.19343966245651245,
          -0.21352505683898926,
          -0.22539985179901123,
          -0.21382689476013184,
          -0.19582146406173706,
          -0.17074847221374512
         ]
        },
        {
         "line": {
          "shape": "spline"
         },
         "name": "71",
         "type": "scatter",
         "uid": "1bcd7dc9-8aa2-4243-a6c8-64818a6c4e95",
         "x": [
          0.9089158177375793,
          0.9846329689025879,
          1.031097650527954,
          1.0500919818878174,
          1.0308598279953003,
          0.9810619354248047,
          0.9065847396850586
         ],
         "y": [
          -0.1835809350013733,
          -0.2019808292388916,
          -0.21319526433944702,
          -0.22168445587158203,
          -0.21545571088790894,
          -0.20643174648284912,
          -0.1995401382446289
         ]
        },
        {
         "line": {
          "shape": "spline"
         },
         "name": "72",
         "type": "scatter",
         "uid": "e072bbb7-c609-42ee-88fa-f1d05952006c",
         "x": [
          0.1376710683107376,
          0.060485340654850006,
          -0.01077336072921753,
          -0.0415530800819397,
          -0.014436006546020508,
          0.06101560592651367,
          0.14223045110702515
         ],
         "y": [
          -0.10357493162155151,
          -0.07119226455688477,
          -0.05602473020553589,
          -0.032429039478302,
          -0.03887176513671875,
          -0.07609051465988159,
          -0.09694749116897583
         ]
        },
        {
         "line": {
          "shape": "spline"
         },
         "name": "73",
         "type": "scatter",
         "uid": "8c4db2ec-ab37-4f65-812c-a337c351c10e",
         "x": [
          0.21689501404762268,
          0.16292545199394226,
          0.10943835228681564,
          0.08277995139360428,
          0.1061631441116333,
          0.16580304503440857,
          0.21835902333259583
         ],
         "y": [
          -0.1266762614250183,
          -0.11777496337890625,
          -0.12022221088409424,
          -0.11308890581130981,
          -0.112201988697052,
          -0.1212262511253357,
          -0.12311321496963501
         ]
        },
        {
         "line": {
          "shape": "spline"
         },
         "name": "74",
         "type": "scatter",
         "uid": "67072c15-4e46-484c-ad98-cfd1db3a63d3",
         "x": [
          0.2736811935901642,
          0.2356407642364502,
          0.1913905143737793,
          0.16740380227565765,
          0.18943855166435242,
          0.2379647195339203,
          0.2747325301170349
         ],
         "y": [
          -0.1574028730392456,
          -0.15890157222747803,
          -0.16900020837783813,
          -0.17057108879089355,
          -0.16537487506866455,
          -0.16114968061447144,
          -0.1546592116355896
         ]
        },
        {
         "line": {
          "shape": "spline"
         },
         "name": "75",
         "type": "scatter",
         "uid": "68fb36ae-a9d2-49ed-a547-36e596372bba",
         "x": [
          0.31915968656539917,
          0.29240670800209045,
          0.25295132398605347,
          0.23068849742412567,
          0.2528834640979767,
          0.2925758361816406,
          0.32129961252212524
         ],
         "y": [
          -0.18861621618270874,
          -0.19497305154800415,
          -0.20835989713668823,
          -0.21489417552947998,
          -0.2065635323524475,
          -0.19617938995361328,
          -0.18566054105758667
         ]
        },
        {
         "line": {
          "shape": "spline"
         },
         "name": "76",
         "type": "scatter",
         "uid": "79e71287-5606-4246-b00b-b871892253ee",
         "x": [
          0.41125786304473877,
          0.40114468336105347,
          0.37576502561569214,
          0.3598940372467041,
          0.37931564450263977,
          0.39747732877731323,
          0.4146423935890198
         ],
         "y": [
          -0.2417955994606018,
          -0.2665424942970276,
          -0.28901588916778564,
          -0.3035430312156677,
          -0.2887946367263794,
          -0.2667589783668518,
          -0.2400648593902588
         ]
        },
        {
         "line": {
          "shape": "spline"
         },
         "name": "77",
         "type": "scatter",
         "uid": "9f8a987b-c5d1-4126-9127-471c6daf8a7d",
         "x": [
          0.5116713643074036,
          0.5155486464500427,
          0.5074297189712524,
          0.49929168820381165,
          0.5129258632659912,
          0.5092096328735352,
          0.5144859552383423
         ],
         "y": [
          -0.2945507764816284,
          -0.3377285599708557,
          -0.36782562732696533,
          -0.38588112592697144,
          -0.3672521710395813,
          -0.3383256196975708,
          -0.2955409288406372
         ]
        },
        {
         "line": {
          "shape": "spline"
         },
         "name": "78",
         "type": "scatter",
         "uid": "ecb80219-0c39-49a1-9da0-0ab39629e169",
         "x": [
          0.6306590437889099,
          0.6527150869369507,
          0.663999617099762,
          0.6643457412719727,
          0.6682091951370239,
          0.6457422375679016,
          0.6297663450241089
         ],
         "y": [
          -0.36676347255706787,
          -0.4178617596626282,
          -0.44957900047302246,
          -0.4656097888946533,
          -0.4483528733253479,
          -0.4200218915939331,
          -0.3726813793182373
         ]
        },
        {
         "line": {
          "shape": "spline"
         },
         "name": "79",
         "type": "scatter",
         "uid": "61952403-5e8c-4dd0-afc1-5237f3278e78",
         "x": [
          0.7025498747825623,
          0.7402729392051697,
          0.7667712569236755,
          0.7738512754440308,
          0.7688504457473755,
          0.7334811091423035,
          0.6981987953186035
         ],
         "y": [
          -0.41276347637176514,
          -0.4633394479751587,
          -0.4931958317756653,
          -0.5071996450424194,
          -0.4921395182609558,
          -0.4669222831726074,
          -0.4241626262664795
         ]
        },
        {
         "line": {
          "shape": "spline"
         },
         "name": "80",
         "type": "scatter",
         "uid": "18898d3b-df4d-4f87-996f-0aa0959b5b8b",
         "x": [
          0.7874448299407959,
          0.8497649431228638,
          0.9007062315940857,
          0.9185721278190613,
          0.8992964625358582,
          0.8431832194328308,
          0.7780091762542725
         ],
         "y": [
          -0.4630966782569885,
          -0.5113785266876221,
          -0.5378960371017456,
          -0.5500936508178711,
          -0.5376138091087341,
          -0.5170410871505737,
          -0.48352545499801636
         ]
        }
       ],
       "layout": {
        "height": 600,
        "hovermode": "closest",
        "title": {
         "text": "Model generated curves XZ Front View"
        },
        "width": 600,
        "xaxis": {
         "range": [
          -0.8,
          1.3
         ],
         "title": {
          "text": "X"
         }
        },
        "yaxis": {
         "range": [
          -1,
          1.3
         ],
         "title": {
          "text": "Y"
         }
        }
       }
      },
      "text/html": [
       "<div id=\"1c7e7700-ead3-4f17-bbec-9bc0a9e7c9fa\" style=\"height: 600px; width: 600px;\" class=\"plotly-graph-div\"></div><script type=\"text/javascript\">require([\"plotly\"], function(Plotly) { window.PLOTLYENV=window.PLOTLYENV || {};window.PLOTLYENV.BASE_URL=\"https://plot.ly\";Plotly.newPlot(\"1c7e7700-ead3-4f17-bbec-9bc0a9e7c9fa\", [{\"line\": {\"dash\": \"2px,6px\", \"shape\": \"spline\"}, \"marker\": {\"symbol\": \"star\"}, \"name\": \"0\", \"x\": [-0.007948756217956543, -0.007111728191375732, -0.00735849142074585, -0.008664548397064209, -0.0075836181640625, -0.006564319133758545, -0.007563531398773193], \"y\": [0.0012583248317241669, 0.0004968605935573578, -0.00026339292526245117, -0.00013333559036254883, -0.00029963254928588867, 0.00048627585056237876, 0.0005759419873356819], \"type\": \"scatter\", \"uid\": \"799bb9f8-e500-4c7e-b144-706f850a2aca\"}, {\"line\": {\"dash\": \"2px,6px\", \"shape\": \"spline\"}, \"marker\": {\"symbol\": \"star\"}, \"name\": \"1\", \"x\": [0.003794938325881958, 0.012245029211044312, 0.01916535198688507, 0.023897036910057068, 0.020151451230049133, 0.012151248753070831, 0.004382282495498657], \"y\": [0.16554680466651917, 0.16874326765537262, 0.17049553990364075, 0.1708437204360962, 0.1700996607542038, 0.16864264011383057, 0.16573020815849304], \"type\": \"scatter\", \"uid\": \"29e597fc-32a7-440b-a66a-7de519fa4872\"}, {\"line\": {\"dash\": \"2px,6px\", \"shape\": \"spline\"}, \"marker\": {\"symbol\": \"star\"}, \"name\": \"2\", \"x\": [0.002282440662384033, 0.015465214848518372, 0.025501489639282227, 0.03193805366754532, 0.02664864808320999, 0.014842420816421509, 0.003396153450012207], \"y\": [0.2708723545074463, 0.2762325406074524, 0.2793170213699341, 0.28031009435653687, 0.2796206772327423, 0.27609679102897644, 0.2711809575557709], \"type\": \"scatter\", \"uid\": \"4958c5ae-ccd2-4576-97d0-e19ddb14af35\"}, {\"line\": {\"dash\": \"2px,6px\", \"shape\": \"spline\"}, \"marker\": {\"symbol\": \"star\"}, \"name\": \"3\", \"x\": [-0.0074544548988342285, 0.008287467062473297, 0.02002003788948059, 0.026814430952072144, 0.021057866513729095, 0.007341653108596802, -0.0058563947677612305], \"y\": [0.3532012403011322, 0.35910114645957947, 0.3625946044921875, 0.36409294605255127, 0.3637674152851105, 0.3589116334915161, 0.3532616198062897], \"type\": \"scatter\", \"uid\": \"211605fe-8b81-4a22-831a-a96a7fa459f1\"}, {\"line\": {\"dash\": \"2px,6px\", \"shape\": \"spline\"}, \"marker\": {\"symbol\": \"star\"}, \"name\": \"4\", \"x\": [-0.04480820894241333, -0.02796351909637451, -0.014262080192565918, -0.007303953170776367, -0.013298213481903076, -0.028996646404266357, -0.04272031784057617], \"y\": [0.4947819411754608, 0.4983966648578644, 0.5009622573852539, 0.5025703310966492, 0.5030034780502319, 0.49819058179855347, 0.4942804276943207], \"type\": \"scatter\", \"uid\": \"010134a3-6df3-4b92-ab05-7e83c3d8ee89\"}, {\"line\": {\"dash\": \"2px,6px\", \"shape\": \"spline\"}, \"marker\": {\"symbol\": \"star\"}, \"name\": \"5\", \"x\": [-0.10364896059036255, -0.08828991651535034, -0.07501381635665894, -0.06825417280197144, -0.07372218370437622, -0.08894836902618408, -0.10150617361068726], \"y\": [0.623660683631897, 0.6251044273376465, 0.6267492771148682, 0.6282088756561279, 0.6282914876937866, 0.6252735257148743, 0.6237549781799316], \"type\": \"scatter\", \"uid\": \"c154a4d5-4ae4-48a3-99a1-9e4204f54c75\"}, {\"line\": {\"dash\": \"2px,6px\", \"shape\": \"spline\"}, \"marker\": {\"symbol\": \"star\"}, \"name\": \"6\", \"x\": [-0.18971091508865356, -0.17707937955856323, -0.1674676537513733, -0.1621227264404297, -0.166082501411438, -0.17727285623550415, -0.18792986869812012], \"y\": [0.7449011206626892, 0.748397707939148, 0.7514927983283997, 0.7538575530052185, 0.7518038153648376, 0.7491481304168701, 0.7468279600143433], \"type\": \"scatter\", \"uid\": \"3a4b749d-1f31-4b55-8a87-38ccb93c06b7\"}, {\"line\": {\"dash\": \"2px,6px\", \"shape\": \"spline\"}, \"marker\": {\"symbol\": \"star\"}, \"name\": \"7\", \"x\": [-0.2504386901855469, -0.24103283882141113, -0.23427248001098633, -0.23047494888305664, -0.23330342769622803, -0.24086689949035645, -0.2492777705192566], \"y\": [0.8187764883041382, 0.8227916955947876, 0.8263817429542542, 0.8287597298622131, 0.826128363609314, 0.8235442638397217, 0.8207467198371887], \"type\": \"scatter\", \"uid\": \"5ed94d85-00e8-4191-997b-69ad32f45db7\"}, {\"line\": {\"shape\": \"spline\"}, \"name\": \"8\", \"x\": [-0.3357906937599182, -0.33491015434265137, -0.3329440951347351, -0.33235883712768555, -0.33295053243637085, -0.3342331051826477, -0.33578115701675415], \"y\": [0.9319867491722107, 0.9307212829589844, 0.9312875866889954, 0.931474506855011, 0.9314232468605042, 0.9308878779411316, 0.9322583675384521], \"type\": \"scatter\", \"uid\": \"bb1c4829-1cd4-4bd0-b804-8f0e8f50fde7\"}, {\"line\": {\"shape\": \"spline\"}, \"name\": \"9\", \"x\": [0.01875448226928711, 0.01566135138273239, 0.015209093689918518, 0.014942653477191925, 0.014917351305484772, 0.016106516122817993, 0.01855263113975525], \"y\": [0.004188124090433121, -0.004262030124664307, -0.007378578186035156, -0.007484495639801025, -0.007444322109222412, -0.004537999629974365, 0.003234182484447956], \"type\": \"scatter\", \"uid\": \"3874a72a-6730-4c15-b8fc-d1bc65456cae\"}, {\"line\": {\"shape\": \"spline\"}, \"name\": \"10\", \"x\": [0.0647442638874054, 0.07354118674993515, 0.08220946043729782, 0.08807484805583954, 0.08281465619802475, 0.07377825677394867, 0.06420308351516724], \"y\": [0.15968140959739685, 0.15535438060760498, 0.1536191999912262, 0.1526411920785904, 0.15224142372608185, 0.15512366592884064, 0.15961626172065735], \"type\": \"scatter\", \"uid\": \"29d715be-e571-43fd-9f89-c1fe06af0c69\"}, {\"line\": {\"shape\": \"spline\"}, \"name\": \"11\", \"x\": [0.08971014618873596, 0.10588165372610092, 0.11847245693206787, 0.1259857565164566, 0.11910242587327957, 0.10554070770740509, 0.08952292799949646], \"y\": [0.2575441598892212, 0.25707387924194336, 0.25707828998565674, 0.2566670775413513, 0.25600770115852356, 0.2568355202674866, 0.25786513090133667], \"type\": \"scatter\", \"uid\": \"6a923682-24a7-4d03-b741-48c0b01d9654\"}, {\"line\": {\"shape\": \"spline\"}, \"name\": \"12\", \"x\": [0.10041108727455139, 0.1205059140920639, 0.13502387702465057, 0.14279243350028992, 0.13548843562602997, 0.11967087537050247, 0.10074633359909058], \"y\": [0.3369919955730438, 0.338691383600235, 0.3397904932498932, 0.34011316299438477, 0.33956658840179443, 0.33840352296829224, 0.3372333347797394], \"type\": \"scatter\", \"uid\": \"63b79546-3ac0-4c59-add3-ea6ca31fc31c\"}, {\"line\": {\"shape\": \"spline\"}, \"name\": \"13\", \"x\": [0.1026686578989029, 0.12506099045276642, 0.14215132594108582, 0.15015746653079987, 0.14248356223106384, 0.12395602464675903, 0.10369300842285156], \"y\": [0.4797999858856201, 0.48085540533065796, 0.4817095398902893, 0.48248612880706787, 0.48270782828330994, 0.480516254901886, 0.47929632663726807], \"type\": \"scatter\", \"uid\": \"1ab72ef5-21e0-4106-88a1-4144dfd366c8\"}, {\"line\": {\"shape\": \"spline\"}, \"name\": \"14\", \"x\": [0.09033891558647156, 0.11128517240285873, 0.1287025809288025, 0.1370590180158615, 0.12944680452346802, 0.11051836609840393, 0.09176409244537354], \"y\": [0.6194038391113281, 0.6198755502700806, 0.6205364465713501, 0.6215500235557556, 0.621513307094574, 0.6199164986610413, 0.6190020442008972], \"type\": \"scatter\", \"uid\": \"e1f43844-895d-4dc2-86bb-7822c920828c\"}, {\"line\": {\"shape\": \"spline\"}, \"name\": \"15\", \"x\": [0.062093108892440796, 0.0794043093919754, 0.09217182546854019, 0.09934215247631073, 0.09327373653650284, 0.07907042652368546, 0.06388886272907257], \"y\": [0.7607471942901611, 0.7673336267471313, 0.7715747952461243, 0.774622917175293, 0.7719818949699402, 0.7682204842567444, 0.7620000839233398], \"type\": \"scatter\", \"uid\": \"9dfde218-c26f-41db-b03e-1914f795da77\"}, {\"line\": {\"shape\": \"spline\"}, \"name\": \"16\", \"x\": [0.034881383180618286, 0.04768585413694382, 0.05605064332485199, 0.06138547509908676, 0.056810371577739716, 0.04775972664356232, 0.036464959383010864], \"y\": [0.8481993675231934, 0.858055830001831, 0.8642975687980652, 0.8682122230529785, 0.8645711541175842, 0.8592321276664734, 0.8496089577674866], \"type\": \"scatter\", \"uid\": \"8cb23aaa-01ca-46c2-84d7-1d4eedb6bcdf\"}, {\"line\": {\"shape\": \"spline\"}, \"name\": \"17\", \"x\": [-0.018914997577667236, -0.018377602100372314, -0.017383873462677002, -0.016339361667633057, -0.017935752868652344, -0.017436742782592773, -0.01849508285522461], \"y\": [0.9781332015991211, 0.9858570098876953, 0.9909685254096985, 0.9937463998794556, 0.991908073425293, 0.9867733716964722, 0.9777679443359375], \"type\": \"scatter\", \"uid\": \"d5d69555-0eac-463d-b20d-38927427531d\"}, {\"line\": {\"shape\": \"spline\"}, \"name\": \"18\", \"x\": [0.027376383543014526, 0.02223292738199234, 0.022142693400382996, 0.023385562002658844, 0.02201605588197708, 0.02180004119873047, 0.0266554057598114], \"y\": [0.016143742948770523, -0.0009067654609680176, -0.0060890913009643555, -0.0065084099769592285, -0.006556093692779541, -0.001459956169128418, 0.015622620470821857], \"type\": \"scatter\", \"uid\": \"13bd0081-4a90-4d5f-8654-7e2d2b413512\"}, {\"line\": {\"shape\": \"spline\"}, \"name\": \"19\", \"x\": [0.09158781170845032, 0.09932909160852432, 0.1082882434129715, 0.11400613933801651, 0.10828662663698196, 0.09963348507881165, 0.09024712443351746], \"y\": [0.1547679901123047, 0.1402159333229065, 0.1338261365890503, 0.13137409090995789, 0.13219161331653595, 0.1398567110300064, 0.15423369407653809], \"type\": \"scatter\", \"uid\": \"c850b2c3-6180-4ac9-8bf2-ccf7eb337e6c\"}, {\"line\": {\"shape\": \"spline\"}, \"name\": \"20\", \"x\": [0.14171434938907623, 0.159050852060318, 0.17277462780475616, 0.17988023161888123, 0.17252257466316223, 0.15902841091156006, 0.14045833051204681], \"y\": [0.24026107788085938, 0.23079045116901398, 0.22592097520828247, 0.22381727397441864, 0.2243986278772354, 0.2303963452577591, 0.2401622235774994], \"type\": \"scatter\", \"uid\": \"a54e47f6-9005-4873-9ea1-d1b493a724b8\"}, {\"line\": {\"shape\": \"spline\"}, \"name\": \"21\", \"x\": [0.1737365573644638, 0.19736957550048828, 0.21412108838558197, 0.22192004323005676, 0.213735431432724, 0.19669494032859802, 0.17279602587223053], \"y\": [0.3114970624446869, 0.30584144592285156, 0.30277594923973083, 0.301513671875, 0.30165764689445496, 0.3053509294986725, 0.3117885887622833], \"type\": \"scatter\", \"uid\": \"b3900eb7-c257-4911-a9c9-808044289e81\"}, {\"line\": {\"shape\": \"spline\"}, \"name\": \"22\", \"x\": [0.20711910724639893, 0.23431724309921265, 0.2547418177127838, 0.26339033246040344, 0.2544015347957611, 0.23308511078357697, 0.20678776502609253], \"y\": [0.45236051082611084, 0.44788047671318054, 0.4453381299972534, 0.4446370005607605, 0.44535031914711, 0.44719961285591125, 0.45213842391967773], \"type\": \"scatter\", \"uid\": \"e9b96ff5-6d0f-44ee-b1e0-e24e9157ac8b\"}, {\"line\": {\"shape\": \"spline\"}, \"name\": \"23\", \"x\": [0.2254534810781479, 0.2507700026035309, 0.272361695766449, 0.2818874716758728, 0.27253884077072144, 0.24987182021141052, 0.2254306823015213], \"y\": [0.5947185158729553, 0.589895486831665, 0.5870277881622314, 0.586419939994812, 0.5872087478637695, 0.5894410610198975, 0.5943206548690796], \"type\": \"scatter\", \"uid\": \"80207050-f79b-4f24-92ae-38f6a97a4898\"}, {\"line\": {\"shape\": \"spline\"}, \"name\": \"24\", \"x\": [0.2333885133266449, 0.2531496584415436, 0.26951390504837036, 0.2780001759529114, 0.2702694237232208, 0.2527489960193634, 0.2338845580816269], \"y\": [0.745822012424469, 0.749190092086792, 0.7505914568901062, 0.7523080110549927, 0.7505443096160889, 0.749578595161438, 0.7469819784164429], \"type\": \"scatter\", \"uid\": \"8e1155d0-dddf-4af6-bd4b-535e9963c3a0\"}, {\"line\": {\"shape\": \"spline\"}, \"name\": \"25\", \"x\": [0.229223370552063, 0.2433401644229889, 0.25463610887527466, 0.26124414801597595, 0.2551688253879547, 0.24338267743587494, 0.22966110706329346], \"y\": [0.8390164375305176, 0.8470722436904907, 0.8510299324989319, 0.8539016246795654, 0.8510590195655823, 0.8478289246559143, 0.8403854966163635], \"type\": \"scatter\", \"uid\": \"e608c740-e4e6-4885-9fbc-7aa311dbdd6c\"}, {\"line\": {\"shape\": \"spline\"}, \"name\": \"26\", \"x\": [0.20460155606269836, 0.20573881268501282, 0.20918938517570496, 0.21160146594047546, 0.20847657322883606, 0.20671741664409637, 0.20405220985412598], \"y\": [0.9754737019538879, 0.9832642078399658, 0.9870021939277649, 0.9891657829284668, 0.9878498315811157, 0.9838498830795288, 0.9749419689178467], \"type\": \"scatter\", \"uid\": \"7a384b9a-1021-494e-b545-a81da276d282\"}, {\"line\": {\"shape\": \"spline\"}, \"name\": \"27\", \"x\": [0.033540159463882446, 0.025730490684509277, 0.024750277400016785, 0.02700982242822647, 0.025117866694927216, 0.024192973971366882, 0.03261500597000122], \"y\": [0.027993541210889816, 0.003839530050754547, -0.00320512056350708, -0.0043357014656066895, -0.004148542881011963, 0.0032129387836903334, 0.028248369693756104], \"type\": \"scatter\", \"uid\": \"0b458c3a-323a-47af-9059-5096fdc65847\"}, {\"line\": {\"shape\": \"spline\"}, \"name\": \"28\", \"x\": [0.10940428078174591, 0.11531823128461838, 0.12377245724201202, 0.1292448341846466, 0.12355757504701614, 0.1154056042432785, 0.10737676918506622], \"y\": [0.14567625522613525, 0.12136420607566833, 0.11048346012830734, 0.10609234869480133, 0.10813680291175842, 0.1209646537899971, 0.14505083858966827], \"type\": \"scatter\", \"uid\": \"0892e73a-84fe-4e95-a992-bc03a14821d9\"}, {\"line\": {\"shape\": \"spline\"}, \"name\": \"29\", \"x\": [0.17206060886383057, 0.18768718838691711, 0.20026333630084991, 0.20576858520507812, 0.19924917817115784, 0.1879110485315323, 0.17020924389362335], \"y\": [0.22149837017059326, 0.20254090428352356, 0.1922483891248703, 0.1881624162197113, 0.1908356249332428, 0.20212674140930176, 0.22078540921211243], \"type\": \"scatter\", \"uid\": \"ae6d5d72-54b5-4c1b-a90a-b34ae6f9ae70\"}, {\"line\": {\"shape\": \"spline\"}, \"name\": \"30\", \"x\": [0.22055113315582275, 0.24346864223480225, 0.25934988260269165, 0.26524630188941956, 0.25796568393707275, 0.24316830933094025, 0.21898029744625092], \"y\": [0.2823307514190674, 0.2682172656059265, 0.2597934901714325, 0.25684207677841187, 0.2591678202152252, 0.26764294505119324, 0.28205549716949463], \"type\": \"scatter\", \"uid\": \"4da6756f-9345-4d0b-985e-a556cdacca9c\"}, {\"line\": {\"shape\": \"spline\"}, \"name\": \"31\", \"x\": [0.2889768183231354, 0.319252610206604, 0.34139499068260193, 0.3496832847595215, 0.3403642773628235, 0.3180207908153534, 0.2876286506652832], \"y\": [0.410780131816864, 0.39954471588134766, 0.39259788393974304, 0.390250027179718, 0.39228618144989014, 0.39867210388183594, 0.41090285778045654], \"type\": \"scatter\", \"uid\": \"7ff27d4b-52c3-4247-9a21-d9cc974773c2\"}, {\"line\": {\"shape\": \"spline\"}, \"name\": \"32\", \"x\": [0.3333388566970825, 0.36227717995643616, 0.3867607116699219, 0.3968408703804016, 0.3865550756454468, 0.36119478940963745, 0.3321669101715088], \"y\": [0.5511399507522583, 0.5408085584640503, 0.5339850783348083, 0.5316691994667053, 0.5336896777153015, 0.5400164723396301, 0.5512973070144653], \"type\": \"scatter\", \"uid\": \"071b1a56-af49-4b62-8d7c-5ba90c6ed34c\"}, {\"line\": {\"shape\": \"spline\"}, \"name\": \"33\", \"x\": [0.3679785430431366, 0.39074525237083435, 0.4103885889053345, 0.4200868606567383, 0.4110776484012604, 0.39017775654792786, 0.367319792509079], \"y\": [0.7030812501907349, 0.7029279470443726, 0.7009987831115723, 0.7011234164237976, 0.7004961967468262, 0.7029052376747131, 0.704817533493042], \"type\": \"scatter\", \"uid\": \"04a369c1-9042-4fec-82f0-1ba657cc4f0c\"}, {\"line\": {\"shape\": \"spline\"}, \"name\": \"34\", \"x\": [0.37959009408950806, 0.396664559841156, 0.41115957498550415, 0.4192878305912018, 0.4118082821369171, 0.39652955532073975, 0.37900209426879883], \"y\": [0.7963535189628601, 0.8030922412872314, 0.804707944393158, 0.8063814640045166, 0.8043044805526733, 0.8034690022468567, 0.7983230948448181], \"type\": \"scatter\", \"uid\": \"fd76d973-6f8b-4be4-918a-ae6278aa4cfa\"}, {\"line\": {\"shape\": \"spline\"}, \"name\": \"35\", \"x\": [0.37546306848526, 0.38094088435173035, 0.38800865411758423, 0.3925704061985016, 0.3875722289085388, 0.38165485858917236, 0.37412601709365845], \"y\": [0.9300026297569275, 0.9400889873504639, 0.9434486031532288, 0.945202648639679, 0.943781316280365, 0.940337061882019, 0.9298213124275208], \"type\": \"scatter\", \"uid\": \"3f9f8930-00e8-4695-9be8-93345fa59dc1\"}, {\"line\": {\"shape\": \"spline\"}, \"name\": \"36\", \"x\": [0.059416770935058594, 0.03882940858602524, 0.0294162780046463, 0.030367963016033173, 0.031311772763729095, 0.0358550101518631, 0.059143707156181335], \"y\": [0.0384683720767498, 0.008339297026395798, -0.001699209213256836, -0.004770874977111816, -0.0024961233139038086, 0.008015296421945095, 0.04012729227542877], \"type\": \"scatter\", \"uid\": \"c94104d4-1561-4ff3-bc59-f760b197ad2f\"}, {\"line\": {\"shape\": \"spline\"}, \"name\": \"37\", \"x\": [0.15205860137939453, 0.14697644114494324, 0.14872971177101135, 0.15207695960998535, 0.14959754049777985, 0.14689089357852936, 0.14978407323360443], \"y\": [0.1156734824180603, 0.07884854078292847, 0.05962810665369034, 0.04962841421365738, 0.05576355755329132, 0.07904142141342163, 0.11521150916814804], \"type\": \"scatter\", \"uid\": \"3f7ff9cd-6f18-4e73-801c-846988ddc51b\"}, {\"line\": {\"shape\": \"spline\"}, \"name\": \"38\", \"x\": [0.22540205717086792, 0.2296597957611084, 0.2350732535123825, 0.23723694682121277, 0.23469778895378113, 0.23036512732505798, 0.2231818288564682], \"y\": [0.16861864924430847, 0.13643938302993774, 0.11625974625349045, 0.1058807224035263, 0.11361442506313324, 0.13659648597240448, 0.16742508113384247], \"type\": \"scatter\", \"uid\": \"ce3c7fe9-194a-47a3-be6b-8c934954e591\"}, {\"line\": {\"shape\": \"spline\"}, \"name\": \"39\", \"x\": [0.288677453994751, 0.2993502616882324, 0.3070584833621979, 0.3079735338687897, 0.30569252371788025, 0.2999638020992279, 0.28709647059440613], \"y\": [0.21415172517299652, 0.18805043399333954, 0.16924726963043213, 0.1605273336172104, 0.16912582516670227, 0.18785861134529114, 0.2126537412405014], \"type\": \"scatter\", \"uid\": \"4fcc2c55-388a-4a99-841d-6dc47ba24157\"}, {\"line\": {\"shape\": \"spline\"}, \"name\": \"40\", \"x\": [0.3994525372982025, 0.41929465532302856, 0.43461668491363525, 0.4373127818107605, 0.43280312418937683, 0.41957640647888184, 0.3983372151851654], \"y\": [0.3024650514125824, 0.278166800737381, 0.2593437433242798, 0.2522393465042114, 0.2619742155075073, 0.27753064036369324, 0.30104634165763855], \"type\": \"scatter\", \"uid\": \"3b5d1d17-ab67-451d-9b17-413f1bf10d32\"}, {\"line\": {\"shape\": \"spline\"}, \"name\": \"41\", \"x\": [0.5041836500167847, 0.530008852481842, 0.5519610047340393, 0.5591036677360535, 0.5513033270835876, 0.5301718711853027, 0.5027203559875488], \"y\": [0.3995075821876526, 0.3781878352165222, 0.3608163893222809, 0.3545079827308655, 0.36254939436912537, 0.3777160346508026, 0.4000051021575928], \"type\": \"scatter\", \"uid\": \"6dfd082b-f7e6-4514-abd0-75e3904f4f22\"}, {\"line\": {\"shape\": \"spline\"}, \"name\": \"42\", \"x\": [0.5998717546463013, 0.6268879175186157, 0.6478976607322693, 0.6579579710960388, 0.6490609645843506, 0.626690149307251, 0.598762035369873], \"y\": [0.5250633955001831, 0.5210715532302856, 0.5128195881843567, 0.5100883841514587, 0.5127522349357605, 0.5213819742202759, 0.5286536812782288], \"type\": \"scatter\", \"uid\": \"a3370fea-159a-4f8b-ae22-bbd57976c986\"}, {\"line\": {\"shape\": \"spline\"}, \"name\": \"43\", \"x\": [0.6457319855690002, 0.6724656820297241, 0.6903316378593445, 0.7007660865783691, 0.6919263601303101, 0.672159731388092, 0.6449909806251526], \"y\": [0.6042206883430481, 0.6148272752761841, 0.6146724224090576, 0.6151724457740784, 0.613918662071228, 0.615588366985321, 0.6082593202590942], \"type\": \"scatter\", \"uid\": \"5344b1fb-72b6-498d-8dca-660ea7e9853f\"}, {\"line\": {\"shape\": \"spline\"}, \"name\": \"44\", \"x\": [0.6877433061599731, 0.7141634225845337, 0.7280533909797668, 0.7380312085151672, 0.7290842533111572, 0.7137271761894226, 0.687214732170105], \"y\": [0.7089478969573975, 0.7378612756729126, 0.7486640810966492, 0.7529460191726685, 0.7475584745407104, 0.7386743426322937, 0.7103055119514465], \"type\": \"scatter\", \"uid\": \"eb03f913-6d46-4f31-beb3-a60e3169738c\"}, {\"line\": {\"shape\": \"spline\"}, \"name\": \"45\", \"x\": [0.11167830228805542, 0.06690943241119385, 0.040798723697662354, 0.03426270931959152, 0.042602814733982086, 0.06551053375005722, 0.11244112253189087], \"y\": [0.03726448491215706, 0.01682266965508461, 0.007047951687127352, 0.005667276680469513, 0.010291068814694881, 0.01563185267150402, 0.0385076180100441], \"type\": \"scatter\", \"uid\": \"dbe962ec-8ac4-4e8f-94b7-d9c759feec44\"}, {\"line\": {\"shape\": \"spline\"}, \"name\": \"46\", \"x\": [0.2070343792438507, 0.18016096949577332, 0.16668403148651123, 0.16325592994689941, 0.1683315932750702, 0.18151986598968506, 0.20566105842590332], \"y\": [0.07312406599521637, 0.040542665868997574, 0.018139205873012543, 0.005800962448120117, 0.015842638909816742, 0.040562186390161514, 0.0722404196858406], \"type\": \"scatter\", \"uid\": \"6060f3c4-9e4f-4402-b304-ba5f910f16ee\"}, {\"line\": {\"shape\": \"spline\"}, \"name\": \"47\", \"x\": [0.2789948880672455, 0.2637966573238373, 0.25498294830322266, 0.25163760781288147, 0.25672420859336853, 0.2652994990348816, 0.27793875336647034], \"y\": [0.0901048332452774, 0.058066461235284805, 0.03243260830640793, 0.016033902764320374, 0.028957143425941467, 0.05890553072094917, 0.08908494561910629], \"type\": \"scatter\", \"uid\": \"968f52ef-5f25-4c30-b799-beff07959fd4\"}, {\"line\": {\"shape\": \"spline\"}, \"name\": \"48\", \"x\": [0.3390832245349884, 0.33244988322257996, 0.3270551562309265, 0.32350799441337585, 0.3287034034729004, 0.33335065841674805, 0.3388746678829193], \"y\": [0.10556939244270325, 0.07648038864135742, 0.05075063556432724, 0.03353971242904663, 0.04821525514125824, 0.07746227085590363, 0.10462093353271484], \"type\": \"scatter\", \"uid\": \"468ec0ff-38ef-4eca-85dd-58cbecdb5881\"}, {\"line\": {\"shape\": \"spline\"}, \"name\": \"49\", \"x\": [0.45253676176071167, 0.45918551087379456, 0.46599864959716797, 0.4646763503551483, 0.4665144085884094, 0.4596845507621765, 0.45296964049339294], \"y\": [0.15623003244400024, 0.12266088277101517, 0.09431502223014832, 0.07780788838863373, 0.09596000611782074, 0.12241382151842117, 0.15355312824249268], \"type\": \"scatter\", \"uid\": \"cd46588a-3b96-49e0-9bf8-55091e832a22\"}, {\"line\": {\"shape\": \"spline\"}, \"name\": \"50\", \"x\": [0.5704646110534668, 0.5894591212272644, 0.606578528881073, 0.6097402572631836, 0.606903612613678, 0.5901432633399963, 0.5706528425216675], \"y\": [0.20606522262096405, 0.17069733142852783, 0.14240235090255737, 0.12829244136810303, 0.14522016048431396, 0.17032501101493835, 0.20476290583610535], \"type\": \"scatter\", \"uid\": \"46c611c1-456b-47d1-b9cf-63579e7ef72d\"}, {\"line\": {\"shape\": \"spline\"}, \"name\": \"51\", \"x\": [0.7022436261177063, 0.735560953617096, 0.7593131065368652, 0.767804741859436, 0.7600463032722473, 0.7365030646324158, 0.7018963098526001], \"y\": [0.2599200904369354, 0.23723441362380981, 0.2172851860523224, 0.20842337608337402, 0.21819423139095306, 0.23751966655254364, 0.26162031292915344], \"type\": \"scatter\", \"uid\": \"347881ae-faa9-448f-a0c3-2eaad1bf0ef7\"}, {\"line\": {\"shape\": \"spline\"}, \"name\": \"52\", \"x\": [0.7773080468177795, 0.8208051323890686, 0.8470481634140015, 0.8586024045944214, 0.8478414416313171, 0.8214647173881531, 0.7769030332565308], \"y\": [0.2990991175174713, 0.2925851047039032, 0.2829399108886719, 0.2786186933517456, 0.2820555865764618, 0.2932118773460388, 0.3009883165359497], \"type\": \"scatter\", \"uid\": \"800c4d38-4a06-43bd-81a4-e36561b850bc\"}, {\"line\": {\"shape\": \"spline\"}, \"name\": \"53\", \"x\": [0.8589955568313599, 0.9167744517326355, 0.9475485682487488, 0.9632720947265625, 0.9477441310882568, 0.9166286587715149, 0.8585209846496582], \"y\": [0.36533796787261963, 0.3833325505256653, 0.3899085819721222, 0.3911910057067871, 0.3866884410381317, 0.38359493017196655, 0.36298635601997375], \"type\": \"scatter\", \"uid\": \"bd2fa182-8bcc-451b-8993-b3fa58ed1eb9\"}, {\"line\": {\"shape\": \"spline\"}, \"name\": \"54\", \"x\": [0.14438417553901672, 0.07956094294786453, 0.0352223664522171, 0.018454231321811676, 0.03488873690366745, 0.08019451051950455, 0.14615343511104584], \"y\": [0.0032106153666973114, 0.004208054393529892, 0.002433613408356905, 0.00938667356967926, 0.011604472063481808, 0.0006005342584103346, 0.0049121687188744545], \"type\": \"scatter\", \"uid\": \"e012ee36-4c45-45bf-a810-552087b742b1\"}, {\"line\": {\"shape\": \"spline\"}, \"name\": \"55\", \"x\": [0.2309603989124298, 0.18800455331802368, 0.15982793271541595, 0.14761215448379517, 0.15978562831878662, 0.1910790055990219, 0.23010291159152985], \"y\": [0.005112882703542709, -0.012601256370544434, -0.02947819232940674, -0.03640341758728027, -0.028158247470855713, -0.014893829822540283, 0.00429087970405817], \"type\": \"scatter\", \"uid\": \"cdffa8e7-cebf-44bc-b20c-ccd45ac78924\"}, {\"line\": {\"shape\": \"spline\"}, \"name\": \"56\", \"x\": [0.29637983441352844, 0.2681453227996826, 0.24725498259067535, 0.2367686629295349, 0.2481541633605957, 0.27085092663764954, 0.2956197261810303], \"y\": [-0.0048179030418396, -0.027116894721984863, -0.0490795373916626, -0.06263136863708496, -0.05102086067199707, -0.02827143669128418, -0.005748927593231201], \"type\": \"scatter\", \"uid\": \"55183cca-5e49-4a4f-bab8-f64c39b6d3ef\"}, {\"line\": {\"shape\": \"spline\"}, \"name\": \"57\", \"x\": [0.35212475061416626, 0.3345569372177124, 0.3179292678833008, 0.3085380494594574, 0.3199981153011322, 0.33576226234436035, 0.3525170683860779], \"y\": [-0.014278829097747803, -0.036789000034332275, -0.06009286642074585, -0.07698661088943481, -0.0629880428314209, -0.03712218999862671, -0.014527380466461182], \"type\": \"scatter\", \"uid\": \"bc5f691b-4c23-4719-921d-894a0e00b371\"}, {\"line\": {\"shape\": \"spline\"}, \"name\": \"58\", \"x\": [0.4650571346282959, 0.46380823850631714, 0.46018338203430176, 0.45541518926620483, 0.4639059603214264, 0.4627310633659363, 0.467016339302063], \"y\": [-0.011684060096740723, -0.044926464557647705, -0.07384711503982544, -0.09552526473999023, -0.0760837197303772, -0.044852256774902344, -0.012405991554260254], \"type\": \"scatter\", \"uid\": \"ab2bd294-5631-40c9-be54-a2417de8cc4c\"}, {\"line\": {\"shape\": \"spline\"}, \"name\": \"59\", \"x\": [0.5869118571281433, 0.6011382341384888, 0.6115729212760925, 0.6119168400764465, 0.6148898601531982, 0.599453330039978, 0.5890600681304932], \"y\": [0.008199799805879593, -0.03347700834274292, -0.06512182950973511, -0.08580923080444336, -0.06476682424545288, -0.03412270545959473, 0.007003803737461567], \"type\": \"scatter\", \"uid\": \"9f7762dd-29c6-45a2-ac92-fe3bc379b792\"}, {\"line\": {\"shape\": \"spline\"}, \"name\": \"60\", \"x\": [0.731378436088562, 0.767353892326355, 0.788976788520813, 0.7953437566757202, 0.7913477420806885, 0.7659487128257751, 0.7327543497085571], \"y\": [0.007197465747594833, -0.02627497911453247, -0.051222026348114014, -0.06575566530227661, -0.05102115869522095, -0.026906192302703857, 0.0072118425741791725], \"type\": \"scatter\", \"uid\": \"2446910f-cec5-4102-9a52-e66b493963f7\"}, {\"line\": {\"shape\": \"spline\"}, \"name\": \"61\", \"x\": [0.8179857730865479, 0.8709279298782349, 0.8999401926994324, 0.9109060764312744, 0.9014838933944702, 0.8694334626197815, 0.8188475370407104], \"y\": [0.0037541575729846954, -0.016606569290161133, -0.032491326332092285, -0.04235714673995972, -0.03366696834564209, -0.017423510551452637, 0.0016798237338662148], \"type\": \"scatter\", \"uid\": \"6f44255c-d8a1-48f9-b6a7-6d48034b743b\"}, {\"line\": {\"shape\": \"spline\"}, \"name\": \"62\", \"x\": [0.9179748296737671, 0.9958373308181763, 1.039241909980774, 1.0579711198806763, 1.0389484167099, 0.994137704372406, 0.91758131980896], \"y\": [0.015843350440263748, 0.014023184776306152, 0.012158416211605072, 0.007315292954444885, 0.00821640994399786, 0.011709894053637981, 0.004897409118711948], \"type\": \"scatter\", \"uid\": \"c8fe7e61-bdf6-440a-ad7b-b8789de86d0b\"}, {\"line\": {\"shape\": \"spline\"}, \"name\": \"63\", \"x\": [0.15225940942764282, 0.07936891168355942, 0.023639380931854248, 0.0004790201783180237, 0.021711431443691254, 0.08050807565450668, 0.15485906600952148], \"y\": [-0.03156036138534546, -0.01424109935760498, -0.007904291152954102, 0.006713390350341797, 0.0051319291815161705, -0.01918548345565796, -0.028267085552215576], \"type\": \"scatter\", \"uid\": \"bbb4e26e-0501-4a98-b8c2-786416b326bf\"}, {\"line\": {\"shape\": \"spline\"}, \"name\": \"64\", \"x\": [0.2383926808834076, 0.18757221102714539, 0.1486695110797882, 0.13027721643447876, 0.14715784788131714, 0.19113826751708984, 0.23814687132835388], \"y\": [-0.03971785306930542, -0.04282432794570923, -0.052659034729003906, -0.0531846284866333, -0.048199594020843506, -0.04641258716583252, -0.039192020893096924], \"type\": \"scatter\", \"uid\": \"846aae64-641a-4273-99b0-cb47911d9ffe\"}, {\"line\": {\"shape\": \"spline\"}, \"name\": \"65\", \"x\": [0.30239877104759216, 0.2666190564632416, 0.23580358922481537, 0.21963126957416534, 0.23549121618270874, 0.2697347402572632, 0.3020504415035248], \"y\": [-0.05812573432922363, -0.06800270080566406, -0.08394986391067505, -0.09214472770690918, -0.08339059352874756, -0.07039713859558105, -0.05793505907058716], \"type\": \"scatter\", \"uid\": \"9ddf3c5a-41e7-45a7-99a0-5c3bad0c0e6d\"}, {\"line\": {\"shape\": \"spline\"}, \"name\": \"66\", \"x\": [0.3557526767253876, 0.33084166049957275, 0.3043718934059143, 0.2896310091018677, 0.3056679666042328, 0.33212143182754517, 0.3566204309463501], \"y\": [-0.07685273885726929, -0.08847469091415405, -0.10639810562133789, -0.1187593936920166, -0.10729557275772095, -0.08986413478851318, -0.07599931955337524], \"type\": \"scatter\", \"uid\": \"bc417060-84af-4a3f-96b5-1bf0361fe3db\"}, {\"line\": {\"shape\": \"spline\"}, \"name\": \"67\", \"x\": [0.4640513062477112, 0.4559684097766876, 0.44276368618011475, 0.4336444139480591, 0.44689884781837463, 0.4541569650173187, 0.46661120653152466], \"y\": [-0.09903901815414429, -0.12426704168319702, -0.14912456274032593, -0.16814035177230835, -0.15073132514953613, -0.12471580505371094, -0.09851282835006714], \"type\": \"scatter\", \"uid\": \"c7fa6ca7-03c9-448d-9a26-3efd1644c755\"}, {\"line\": {\"shape\": \"spline\"}, \"name\": \"68\", \"x\": [0.5822137594223022, 0.5901007056236267, 0.5924715399742126, 0.5898405909538269, 0.597513735294342, 0.5865544080734253, 0.5851411819458008], \"y\": [-0.11020416021347046, -0.14841800928115845, -0.17818647623062134, -0.19882231950759888, -0.17837965488433838, -0.14920157194137573, -0.11084085702896118], \"type\": \"scatter\", \"uid\": \"7fad37d5-b73c-436c-8ed3-8403c470df71\"}, {\"line\": {\"shape\": \"spline\"}, \"name\": \"69\", \"x\": [0.7238998413085938, 0.7542668581008911, 0.7705294489860535, 0.7744726538658142, 0.7741683125495911, 0.7507021427154541, 0.7254230976104736], \"y\": [-0.14200043678283691, -0.17749762535095215, -0.20323896408081055, -0.21854478120803833, -0.20271098613739014, -0.17898321151733398, -0.14382243156433105], \"type\": \"scatter\", \"uid\": \"ef831fbe-453a-47d7-ad5c-e87e5e4cadc1\"}, {\"line\": {\"shape\": \"spline\"}, \"name\": \"70\", \"x\": [0.8087450265884399, 0.8572084903717041, 0.8845152854919434, 0.8941412568092346, 0.8867738246917725, 0.8536805510520935, 0.8088352680206299], \"y\": [-0.1647917628288269, -0.19343966245651245, -0.21352505683898926, -0.22539985179901123, -0.21382689476013184, -0.19582146406173706, -0.17074847221374512], \"type\": \"scatter\", \"uid\": \"ee6a521d-f1aa-4b0f-a4e8-f66da89e1440\"}, {\"line\": {\"shape\": \"spline\"}, \"name\": \"71\", \"x\": [0.9089158177375793, 0.9846329689025879, 1.031097650527954, 1.0500919818878174, 1.0308598279953003, 0.9810619354248047, 0.9065847396850586], \"y\": [-0.1835809350013733, -0.2019808292388916, -0.21319526433944702, -0.22168445587158203, -0.21545571088790894, -0.20643174648284912, -0.1995401382446289], \"type\": \"scatter\", \"uid\": \"1bcd7dc9-8aa2-4243-a6c8-64818a6c4e95\"}, {\"line\": {\"shape\": \"spline\"}, \"name\": \"72\", \"x\": [0.1376710683107376, 0.060485340654850006, -0.01077336072921753, -0.0415530800819397, -0.014436006546020508, 0.06101560592651367, 0.14223045110702515], \"y\": [-0.10357493162155151, -0.07119226455688477, -0.05602473020553589, -0.032429039478302, -0.03887176513671875, -0.07609051465988159, -0.09694749116897583], \"type\": \"scatter\", \"uid\": \"e072bbb7-c609-42ee-88fa-f1d05952006c\"}, {\"line\": {\"shape\": \"spline\"}, \"name\": \"73\", \"x\": [0.21689501404762268, 0.16292545199394226, 0.10943835228681564, 0.08277995139360428, 0.1061631441116333, 0.16580304503440857, 0.21835902333259583], \"y\": [-0.1266762614250183, -0.11777496337890625, -0.12022221088409424, -0.11308890581130981, -0.112201988697052, -0.1212262511253357, -0.12311321496963501], \"type\": \"scatter\", \"uid\": \"8c4db2ec-ab37-4f65-812c-a337c351c10e\"}, {\"line\": {\"shape\": \"spline\"}, \"name\": \"74\", \"x\": [0.2736811935901642, 0.2356407642364502, 0.1913905143737793, 0.16740380227565765, 0.18943855166435242, 0.2379647195339203, 0.2747325301170349], \"y\": [-0.1574028730392456, -0.15890157222747803, -0.16900020837783813, -0.17057108879089355, -0.16537487506866455, -0.16114968061447144, -0.1546592116355896], \"type\": \"scatter\", \"uid\": \"67072c15-4e46-484c-ad98-cfd1db3a63d3\"}, {\"line\": {\"shape\": \"spline\"}, \"name\": \"75\", \"x\": [0.31915968656539917, 0.29240670800209045, 0.25295132398605347, 0.23068849742412567, 0.2528834640979767, 0.2925758361816406, 0.32129961252212524], \"y\": [-0.18861621618270874, -0.19497305154800415, -0.20835989713668823, -0.21489417552947998, -0.2065635323524475, -0.19617938995361328, -0.18566054105758667], \"type\": \"scatter\", \"uid\": \"68fb36ae-a9d2-49ed-a547-36e596372bba\"}, {\"line\": {\"shape\": \"spline\"}, \"name\": \"76\", \"x\": [0.41125786304473877, 0.40114468336105347, 0.37576502561569214, 0.3598940372467041, 0.37931564450263977, 0.39747732877731323, 0.4146423935890198], \"y\": [-0.2417955994606018, -0.2665424942970276, -0.28901588916778564, -0.3035430312156677, -0.2887946367263794, -0.2667589783668518, -0.2400648593902588], \"type\": \"scatter\", \"uid\": \"79e71287-5606-4246-b00b-b871892253ee\"}, {\"line\": {\"shape\": \"spline\"}, \"name\": \"77\", \"x\": [0.5116713643074036, 0.5155486464500427, 0.5074297189712524, 0.49929168820381165, 0.5129258632659912, 0.5092096328735352, 0.5144859552383423], \"y\": [-0.2945507764816284, -0.3377285599708557, -0.36782562732696533, -0.38588112592697144, -0.3672521710395813, -0.3383256196975708, -0.2955409288406372], \"type\": \"scatter\", \"uid\": \"9f8a987b-c5d1-4126-9127-471c6daf8a7d\"}, {\"line\": {\"shape\": \"spline\"}, \"name\": \"78\", \"x\": [0.6306590437889099, 0.6527150869369507, 0.663999617099762, 0.6643457412719727, 0.6682091951370239, 0.6457422375679016, 0.6297663450241089], \"y\": [-0.36676347255706787, -0.4178617596626282, -0.44957900047302246, -0.4656097888946533, -0.4483528733253479, -0.4200218915939331, -0.3726813793182373], \"type\": \"scatter\", \"uid\": \"ecb80219-0c39-49a1-9da0-0ab39629e169\"}, {\"line\": {\"shape\": \"spline\"}, \"name\": \"79\", \"x\": [0.7025498747825623, 0.7402729392051697, 0.7667712569236755, 0.7738512754440308, 0.7688504457473755, 0.7334811091423035, 0.6981987953186035], \"y\": [-0.41276347637176514, -0.4633394479751587, -0.4931958317756653, -0.5071996450424194, -0.4921395182609558, -0.4669222831726074, -0.4241626262664795], \"type\": \"scatter\", \"uid\": \"61952403-5e8c-4dd0-afc1-5237f3278e78\"}, {\"line\": {\"shape\": \"spline\"}, \"name\": \"80\", \"x\": [0.7874448299407959, 0.8497649431228638, 0.9007062315940857, 0.9185721278190613, 0.8992964625358582, 0.8431832194328308, 0.7780091762542725], \"y\": [-0.4630966782569885, -0.5113785266876221, -0.5378960371017456, -0.5500936508178711, -0.5376138091087341, -0.5170410871505737, -0.48352545499801636], \"type\": \"scatter\", \"uid\": \"18898d3b-df4d-4f87-996f-0aa0959b5b8b\"}], {\"height\": 600, \"hovermode\": \"closest\", \"title\": {\"text\": \"Model generated curves XZ Front View\"}, \"width\": 600, \"xaxis\": {\"range\": [-0.8, 1.3], \"title\": {\"text\": \"X\"}}, \"yaxis\": {\"range\": [-1, 1.3], \"title\": {\"text\": \"Y\"}}}, {\"showLink\": false, \"linkText\": \"Export to plot.ly\", \"plotlyServerURL\": \"https://plot.ly\"})});</script>"
      ],
      "text/vnd.plotly.v1+html": [
       "<div id=\"1c7e7700-ead3-4f17-bbec-9bc0a9e7c9fa\" style=\"height: 600px; width: 600px;\" class=\"plotly-graph-div\"></div><script type=\"text/javascript\">require([\"plotly\"], function(Plotly) { window.PLOTLYENV=window.PLOTLYENV || {};window.PLOTLYENV.BASE_URL=\"https://plot.ly\";Plotly.newPlot(\"1c7e7700-ead3-4f17-bbec-9bc0a9e7c9fa\", [{\"line\": {\"dash\": \"2px,6px\", \"shape\": \"spline\"}, \"marker\": {\"symbol\": \"star\"}, \"name\": \"0\", \"x\": [-0.007948756217956543, -0.007111728191375732, -0.00735849142074585, -0.008664548397064209, -0.0075836181640625, -0.006564319133758545, -0.007563531398773193], \"y\": [0.0012583248317241669, 0.0004968605935573578, -0.00026339292526245117, -0.00013333559036254883, -0.00029963254928588867, 0.00048627585056237876, 0.0005759419873356819], \"type\": \"scatter\", \"uid\": \"799bb9f8-e500-4c7e-b144-706f850a2aca\"}, {\"line\": {\"dash\": \"2px,6px\", \"shape\": \"spline\"}, \"marker\": {\"symbol\": \"star\"}, \"name\": \"1\", \"x\": [0.003794938325881958, 0.012245029211044312, 0.01916535198688507, 0.023897036910057068, 0.020151451230049133, 0.012151248753070831, 0.004382282495498657], \"y\": [0.16554680466651917, 0.16874326765537262, 0.17049553990364075, 0.1708437204360962, 0.1700996607542038, 0.16864264011383057, 0.16573020815849304], \"type\": \"scatter\", \"uid\": \"29e597fc-32a7-440b-a66a-7de519fa4872\"}, {\"line\": {\"dash\": \"2px,6px\", \"shape\": \"spline\"}, \"marker\": {\"symbol\": \"star\"}, \"name\": \"2\", \"x\": [0.002282440662384033, 0.015465214848518372, 0.025501489639282227, 0.03193805366754532, 0.02664864808320999, 0.014842420816421509, 0.003396153450012207], \"y\": [0.2708723545074463, 0.2762325406074524, 0.2793170213699341, 0.28031009435653687, 0.2796206772327423, 0.27609679102897644, 0.2711809575557709], \"type\": \"scatter\", \"uid\": \"4958c5ae-ccd2-4576-97d0-e19ddb14af35\"}, {\"line\": {\"dash\": \"2px,6px\", \"shape\": \"spline\"}, \"marker\": {\"symbol\": \"star\"}, \"name\": \"3\", \"x\": [-0.0074544548988342285, 0.008287467062473297, 0.02002003788948059, 0.026814430952072144, 0.021057866513729095, 0.007341653108596802, -0.0058563947677612305], \"y\": [0.3532012403011322, 0.35910114645957947, 0.3625946044921875, 0.36409294605255127, 0.3637674152851105, 0.3589116334915161, 0.3532616198062897], \"type\": \"scatter\", \"uid\": \"211605fe-8b81-4a22-831a-a96a7fa459f1\"}, {\"line\": {\"dash\": \"2px,6px\", \"shape\": \"spline\"}, \"marker\": {\"symbol\": \"star\"}, \"name\": \"4\", \"x\": [-0.04480820894241333, -0.02796351909637451, -0.014262080192565918, -0.007303953170776367, -0.013298213481903076, -0.028996646404266357, -0.04272031784057617], \"y\": [0.4947819411754608, 0.4983966648578644, 0.5009622573852539, 0.5025703310966492, 0.5030034780502319, 0.49819058179855347, 0.4942804276943207], \"type\": \"scatter\", \"uid\": \"010134a3-6df3-4b92-ab05-7e83c3d8ee89\"}, {\"line\": {\"dash\": \"2px,6px\", \"shape\": \"spline\"}, \"marker\": {\"symbol\": \"star\"}, \"name\": \"5\", \"x\": [-0.10364896059036255, -0.08828991651535034, -0.07501381635665894, -0.06825417280197144, -0.07372218370437622, -0.08894836902618408, -0.10150617361068726], \"y\": [0.623660683631897, 0.6251044273376465, 0.6267492771148682, 0.6282088756561279, 0.6282914876937866, 0.6252735257148743, 0.6237549781799316], \"type\": \"scatter\", \"uid\": \"c154a4d5-4ae4-48a3-99a1-9e4204f54c75\"}, {\"line\": {\"dash\": \"2px,6px\", \"shape\": \"spline\"}, \"marker\": {\"symbol\": \"star\"}, \"name\": \"6\", \"x\": [-0.18971091508865356, -0.17707937955856323, -0.1674676537513733, -0.1621227264404297, -0.166082501411438, -0.17727285623550415, -0.18792986869812012], \"y\": [0.7449011206626892, 0.748397707939148, 0.7514927983283997, 0.7538575530052185, 0.7518038153648376, 0.7491481304168701, 0.7468279600143433], \"type\": \"scatter\", \"uid\": \"3a4b749d-1f31-4b55-8a87-38ccb93c06b7\"}, {\"line\": {\"dash\": \"2px,6px\", \"shape\": \"spline\"}, \"marker\": {\"symbol\": \"star\"}, \"name\": \"7\", \"x\": [-0.2504386901855469, -0.24103283882141113, -0.23427248001098633, -0.23047494888305664, -0.23330342769622803, -0.24086689949035645, -0.2492777705192566], \"y\": [0.8187764883041382, 0.8227916955947876, 0.8263817429542542, 0.8287597298622131, 0.826128363609314, 0.8235442638397217, 0.8207467198371887], \"type\": \"scatter\", \"uid\": \"5ed94d85-00e8-4191-997b-69ad32f45db7\"}, {\"line\": {\"shape\": \"spline\"}, \"name\": \"8\", \"x\": [-0.3357906937599182, -0.33491015434265137, -0.3329440951347351, -0.33235883712768555, -0.33295053243637085, -0.3342331051826477, -0.33578115701675415], \"y\": [0.9319867491722107, 0.9307212829589844, 0.9312875866889954, 0.931474506855011, 0.9314232468605042, 0.9308878779411316, 0.9322583675384521], \"type\": \"scatter\", \"uid\": \"bb1c4829-1cd4-4bd0-b804-8f0e8f50fde7\"}, {\"line\": {\"shape\": \"spline\"}, \"name\": \"9\", \"x\": [0.01875448226928711, 0.01566135138273239, 0.015209093689918518, 0.014942653477191925, 0.014917351305484772, 0.016106516122817993, 0.01855263113975525], \"y\": [0.004188124090433121, -0.004262030124664307, -0.007378578186035156, -0.007484495639801025, -0.007444322109222412, -0.004537999629974365, 0.003234182484447956], \"type\": \"scatter\", \"uid\": \"3874a72a-6730-4c15-b8fc-d1bc65456cae\"}, {\"line\": {\"shape\": \"spline\"}, \"name\": \"10\", \"x\": [0.0647442638874054, 0.07354118674993515, 0.08220946043729782, 0.08807484805583954, 0.08281465619802475, 0.07377825677394867, 0.06420308351516724], \"y\": [0.15968140959739685, 0.15535438060760498, 0.1536191999912262, 0.1526411920785904, 0.15224142372608185, 0.15512366592884064, 0.15961626172065735], \"type\": \"scatter\", \"uid\": \"29d715be-e571-43fd-9f89-c1fe06af0c69\"}, {\"line\": {\"shape\": \"spline\"}, \"name\": \"11\", \"x\": [0.08971014618873596, 0.10588165372610092, 0.11847245693206787, 0.1259857565164566, 0.11910242587327957, 0.10554070770740509, 0.08952292799949646], \"y\": [0.2575441598892212, 0.25707387924194336, 0.25707828998565674, 0.2566670775413513, 0.25600770115852356, 0.2568355202674866, 0.25786513090133667], \"type\": \"scatter\", \"uid\": \"6a923682-24a7-4d03-b741-48c0b01d9654\"}, {\"line\": {\"shape\": \"spline\"}, \"name\": \"12\", \"x\": [0.10041108727455139, 0.1205059140920639, 0.13502387702465057, 0.14279243350028992, 0.13548843562602997, 0.11967087537050247, 0.10074633359909058], \"y\": [0.3369919955730438, 0.338691383600235, 0.3397904932498932, 0.34011316299438477, 0.33956658840179443, 0.33840352296829224, 0.3372333347797394], \"type\": \"scatter\", \"uid\": \"63b79546-3ac0-4c59-add3-ea6ca31fc31c\"}, {\"line\": {\"shape\": \"spline\"}, \"name\": \"13\", \"x\": [0.1026686578989029, 0.12506099045276642, 0.14215132594108582, 0.15015746653079987, 0.14248356223106384, 0.12395602464675903, 0.10369300842285156], \"y\": [0.4797999858856201, 0.48085540533065796, 0.4817095398902893, 0.48248612880706787, 0.48270782828330994, 0.480516254901886, 0.47929632663726807], \"type\": \"scatter\", \"uid\": \"1ab72ef5-21e0-4106-88a1-4144dfd366c8\"}, {\"line\": {\"shape\": \"spline\"}, \"name\": \"14\", \"x\": [0.09033891558647156, 0.11128517240285873, 0.1287025809288025, 0.1370590180158615, 0.12944680452346802, 0.11051836609840393, 0.09176409244537354], \"y\": [0.6194038391113281, 0.6198755502700806, 0.6205364465713501, 0.6215500235557556, 0.621513307094574, 0.6199164986610413, 0.6190020442008972], \"type\": \"scatter\", \"uid\": \"e1f43844-895d-4dc2-86bb-7822c920828c\"}, {\"line\": {\"shape\": \"spline\"}, \"name\": \"15\", \"x\": [0.062093108892440796, 0.0794043093919754, 0.09217182546854019, 0.09934215247631073, 0.09327373653650284, 0.07907042652368546, 0.06388886272907257], \"y\": [0.7607471942901611, 0.7673336267471313, 0.7715747952461243, 0.774622917175293, 0.7719818949699402, 0.7682204842567444, 0.7620000839233398], \"type\": \"scatter\", \"uid\": \"9dfde218-c26f-41db-b03e-1914f795da77\"}, {\"line\": {\"shape\": \"spline\"}, \"name\": \"16\", \"x\": [0.034881383180618286, 0.04768585413694382, 0.05605064332485199, 0.06138547509908676, 0.056810371577739716, 0.04775972664356232, 0.036464959383010864], \"y\": [0.8481993675231934, 0.858055830001831, 0.8642975687980652, 0.8682122230529785, 0.8645711541175842, 0.8592321276664734, 0.8496089577674866], \"type\": \"scatter\", \"uid\": \"8cb23aaa-01ca-46c2-84d7-1d4eedb6bcdf\"}, {\"line\": {\"shape\": \"spline\"}, \"name\": \"17\", \"x\": [-0.018914997577667236, -0.018377602100372314, -0.017383873462677002, -0.016339361667633057, -0.017935752868652344, -0.017436742782592773, -0.01849508285522461], \"y\": [0.9781332015991211, 0.9858570098876953, 0.9909685254096985, 0.9937463998794556, 0.991908073425293, 0.9867733716964722, 0.9777679443359375], \"type\": \"scatter\", \"uid\": \"d5d69555-0eac-463d-b20d-38927427531d\"}, {\"line\": {\"shape\": \"spline\"}, \"name\": \"18\", \"x\": [0.027376383543014526, 0.02223292738199234, 0.022142693400382996, 0.023385562002658844, 0.02201605588197708, 0.02180004119873047, 0.0266554057598114], \"y\": [0.016143742948770523, -0.0009067654609680176, -0.0060890913009643555, -0.0065084099769592285, -0.006556093692779541, -0.001459956169128418, 0.015622620470821857], \"type\": \"scatter\", \"uid\": \"13bd0081-4a90-4d5f-8654-7e2d2b413512\"}, {\"line\": {\"shape\": \"spline\"}, \"name\": \"19\", \"x\": [0.09158781170845032, 0.09932909160852432, 0.1082882434129715, 0.11400613933801651, 0.10828662663698196, 0.09963348507881165, 0.09024712443351746], \"y\": [0.1547679901123047, 0.1402159333229065, 0.1338261365890503, 0.13137409090995789, 0.13219161331653595, 0.1398567110300064, 0.15423369407653809], \"type\": \"scatter\", \"uid\": \"c850b2c3-6180-4ac9-8bf2-ccf7eb337e6c\"}, {\"line\": {\"shape\": \"spline\"}, \"name\": \"20\", \"x\": [0.14171434938907623, 0.159050852060318, 0.17277462780475616, 0.17988023161888123, 0.17252257466316223, 0.15902841091156006, 0.14045833051204681], \"y\": [0.24026107788085938, 0.23079045116901398, 0.22592097520828247, 0.22381727397441864, 0.2243986278772354, 0.2303963452577591, 0.2401622235774994], \"type\": \"scatter\", \"uid\": \"a54e47f6-9005-4873-9ea1-d1b493a724b8\"}, {\"line\": {\"shape\": \"spline\"}, \"name\": \"21\", \"x\": [0.1737365573644638, 0.19736957550048828, 0.21412108838558197, 0.22192004323005676, 0.213735431432724, 0.19669494032859802, 0.17279602587223053], \"y\": [0.3114970624446869, 0.30584144592285156, 0.30277594923973083, 0.301513671875, 0.30165764689445496, 0.3053509294986725, 0.3117885887622833], \"type\": \"scatter\", \"uid\": \"b3900eb7-c257-4911-a9c9-808044289e81\"}, {\"line\": {\"shape\": \"spline\"}, \"name\": \"22\", \"x\": [0.20711910724639893, 0.23431724309921265, 0.2547418177127838, 0.26339033246040344, 0.2544015347957611, 0.23308511078357697, 0.20678776502609253], \"y\": [0.45236051082611084, 0.44788047671318054, 0.4453381299972534, 0.4446370005607605, 0.44535031914711, 0.44719961285591125, 0.45213842391967773], \"type\": \"scatter\", \"uid\": \"e9b96ff5-6d0f-44ee-b1e0-e24e9157ac8b\"}, {\"line\": {\"shape\": \"spline\"}, \"name\": \"23\", \"x\": [0.2254534810781479, 0.2507700026035309, 0.272361695766449, 0.2818874716758728, 0.27253884077072144, 0.24987182021141052, 0.2254306823015213], \"y\": [0.5947185158729553, 0.589895486831665, 0.5870277881622314, 0.586419939994812, 0.5872087478637695, 0.5894410610198975, 0.5943206548690796], \"type\": \"scatter\", \"uid\": \"80207050-f79b-4f24-92ae-38f6a97a4898\"}, {\"line\": {\"shape\": \"spline\"}, \"name\": \"24\", \"x\": [0.2333885133266449, 0.2531496584415436, 0.26951390504837036, 0.2780001759529114, 0.2702694237232208, 0.2527489960193634, 0.2338845580816269], \"y\": [0.745822012424469, 0.749190092086792, 0.7505914568901062, 0.7523080110549927, 0.7505443096160889, 0.749578595161438, 0.7469819784164429], \"type\": \"scatter\", \"uid\": \"8e1155d0-dddf-4af6-bd4b-535e9963c3a0\"}, {\"line\": {\"shape\": \"spline\"}, \"name\": \"25\", \"x\": [0.229223370552063, 0.2433401644229889, 0.25463610887527466, 0.26124414801597595, 0.2551688253879547, 0.24338267743587494, 0.22966110706329346], \"y\": [0.8390164375305176, 0.8470722436904907, 0.8510299324989319, 0.8539016246795654, 0.8510590195655823, 0.8478289246559143, 0.8403854966163635], \"type\": \"scatter\", \"uid\": \"e608c740-e4e6-4885-9fbc-7aa311dbdd6c\"}, {\"line\": {\"shape\": \"spline\"}, \"name\": \"26\", \"x\": [0.20460155606269836, 0.20573881268501282, 0.20918938517570496, 0.21160146594047546, 0.20847657322883606, 0.20671741664409637, 0.20405220985412598], \"y\": [0.9754737019538879, 0.9832642078399658, 0.9870021939277649, 0.9891657829284668, 0.9878498315811157, 0.9838498830795288, 0.9749419689178467], \"type\": \"scatter\", \"uid\": \"7a384b9a-1021-494e-b545-a81da276d282\"}, {\"line\": {\"shape\": \"spline\"}, \"name\": \"27\", \"x\": [0.033540159463882446, 0.025730490684509277, 0.024750277400016785, 0.02700982242822647, 0.025117866694927216, 0.024192973971366882, 0.03261500597000122], \"y\": [0.027993541210889816, 0.003839530050754547, -0.00320512056350708, -0.0043357014656066895, -0.004148542881011963, 0.0032129387836903334, 0.028248369693756104], \"type\": \"scatter\", \"uid\": \"0b458c3a-323a-47af-9059-5096fdc65847\"}, {\"line\": {\"shape\": \"spline\"}, \"name\": \"28\", \"x\": [0.10940428078174591, 0.11531823128461838, 0.12377245724201202, 0.1292448341846466, 0.12355757504701614, 0.1154056042432785, 0.10737676918506622], \"y\": [0.14567625522613525, 0.12136420607566833, 0.11048346012830734, 0.10609234869480133, 0.10813680291175842, 0.1209646537899971, 0.14505083858966827], \"type\": \"scatter\", \"uid\": \"0892e73a-84fe-4e95-a992-bc03a14821d9\"}, {\"line\": {\"shape\": \"spline\"}, \"name\": \"29\", \"x\": [0.17206060886383057, 0.18768718838691711, 0.20026333630084991, 0.20576858520507812, 0.19924917817115784, 0.1879110485315323, 0.17020924389362335], \"y\": [0.22149837017059326, 0.20254090428352356, 0.1922483891248703, 0.1881624162197113, 0.1908356249332428, 0.20212674140930176, 0.22078540921211243], \"type\": \"scatter\", \"uid\": \"ae6d5d72-54b5-4c1b-a90a-b34ae6f9ae70\"}, {\"line\": {\"shape\": \"spline\"}, \"name\": \"30\", \"x\": [0.22055113315582275, 0.24346864223480225, 0.25934988260269165, 0.26524630188941956, 0.25796568393707275, 0.24316830933094025, 0.21898029744625092], \"y\": [0.2823307514190674, 0.2682172656059265, 0.2597934901714325, 0.25684207677841187, 0.2591678202152252, 0.26764294505119324, 0.28205549716949463], \"type\": \"scatter\", \"uid\": \"4da6756f-9345-4d0b-985e-a556cdacca9c\"}, {\"line\": {\"shape\": \"spline\"}, \"name\": \"31\", \"x\": [0.2889768183231354, 0.319252610206604, 0.34139499068260193, 0.3496832847595215, 0.3403642773628235, 0.3180207908153534, 0.2876286506652832], \"y\": [0.410780131816864, 0.39954471588134766, 0.39259788393974304, 0.390250027179718, 0.39228618144989014, 0.39867210388183594, 0.41090285778045654], \"type\": \"scatter\", \"uid\": \"7ff27d4b-52c3-4247-9a21-d9cc974773c2\"}, {\"line\": {\"shape\": \"spline\"}, \"name\": \"32\", \"x\": [0.3333388566970825, 0.36227717995643616, 0.3867607116699219, 0.3968408703804016, 0.3865550756454468, 0.36119478940963745, 0.3321669101715088], \"y\": [0.5511399507522583, 0.5408085584640503, 0.5339850783348083, 0.5316691994667053, 0.5336896777153015, 0.5400164723396301, 0.5512973070144653], \"type\": \"scatter\", \"uid\": \"071b1a56-af49-4b62-8d7c-5ba90c6ed34c\"}, {\"line\": {\"shape\": \"spline\"}, \"name\": \"33\", \"x\": [0.3679785430431366, 0.39074525237083435, 0.4103885889053345, 0.4200868606567383, 0.4110776484012604, 0.39017775654792786, 0.367319792509079], \"y\": [0.7030812501907349, 0.7029279470443726, 0.7009987831115723, 0.7011234164237976, 0.7004961967468262, 0.7029052376747131, 0.704817533493042], \"type\": \"scatter\", \"uid\": \"04a369c1-9042-4fec-82f0-1ba657cc4f0c\"}, {\"line\": {\"shape\": \"spline\"}, \"name\": \"34\", \"x\": [0.37959009408950806, 0.396664559841156, 0.41115957498550415, 0.4192878305912018, 0.4118082821369171, 0.39652955532073975, 0.37900209426879883], \"y\": [0.7963535189628601, 0.8030922412872314, 0.804707944393158, 0.8063814640045166, 0.8043044805526733, 0.8034690022468567, 0.7983230948448181], \"type\": \"scatter\", \"uid\": \"fd76d973-6f8b-4be4-918a-ae6278aa4cfa\"}, {\"line\": {\"shape\": \"spline\"}, \"name\": \"35\", \"x\": [0.37546306848526, 0.38094088435173035, 0.38800865411758423, 0.3925704061985016, 0.3875722289085388, 0.38165485858917236, 0.37412601709365845], \"y\": [0.9300026297569275, 0.9400889873504639, 0.9434486031532288, 0.945202648639679, 0.943781316280365, 0.940337061882019, 0.9298213124275208], \"type\": \"scatter\", \"uid\": \"3f9f8930-00e8-4695-9be8-93345fa59dc1\"}, {\"line\": {\"shape\": \"spline\"}, \"name\": \"36\", \"x\": [0.059416770935058594, 0.03882940858602524, 0.0294162780046463, 0.030367963016033173, 0.031311772763729095, 0.0358550101518631, 0.059143707156181335], \"y\": [0.0384683720767498, 0.008339297026395798, -0.001699209213256836, -0.004770874977111816, -0.0024961233139038086, 0.008015296421945095, 0.04012729227542877], \"type\": \"scatter\", \"uid\": \"c94104d4-1561-4ff3-bc59-f760b197ad2f\"}, {\"line\": {\"shape\": \"spline\"}, \"name\": \"37\", \"x\": [0.15205860137939453, 0.14697644114494324, 0.14872971177101135, 0.15207695960998535, 0.14959754049777985, 0.14689089357852936, 0.14978407323360443], \"y\": [0.1156734824180603, 0.07884854078292847, 0.05962810665369034, 0.04962841421365738, 0.05576355755329132, 0.07904142141342163, 0.11521150916814804], \"type\": \"scatter\", \"uid\": \"3f7ff9cd-6f18-4e73-801c-846988ddc51b\"}, {\"line\": {\"shape\": \"spline\"}, \"name\": \"38\", \"x\": [0.22540205717086792, 0.2296597957611084, 0.2350732535123825, 0.23723694682121277, 0.23469778895378113, 0.23036512732505798, 0.2231818288564682], \"y\": [0.16861864924430847, 0.13643938302993774, 0.11625974625349045, 0.1058807224035263, 0.11361442506313324, 0.13659648597240448, 0.16742508113384247], \"type\": \"scatter\", \"uid\": \"ce3c7fe9-194a-47a3-be6b-8c934954e591\"}, {\"line\": {\"shape\": \"spline\"}, \"name\": \"39\", \"x\": [0.288677453994751, 0.2993502616882324, 0.3070584833621979, 0.3079735338687897, 0.30569252371788025, 0.2999638020992279, 0.28709647059440613], \"y\": [0.21415172517299652, 0.18805043399333954, 0.16924726963043213, 0.1605273336172104, 0.16912582516670227, 0.18785861134529114, 0.2126537412405014], \"type\": \"scatter\", \"uid\": \"4fcc2c55-388a-4a99-841d-6dc47ba24157\"}, {\"line\": {\"shape\": \"spline\"}, \"name\": \"40\", \"x\": [0.3994525372982025, 0.41929465532302856, 0.43461668491363525, 0.4373127818107605, 0.43280312418937683, 0.41957640647888184, 0.3983372151851654], \"y\": [0.3024650514125824, 0.278166800737381, 0.2593437433242798, 0.2522393465042114, 0.2619742155075073, 0.27753064036369324, 0.30104634165763855], \"type\": \"scatter\", \"uid\": \"3b5d1d17-ab67-451d-9b17-413f1bf10d32\"}, {\"line\": {\"shape\": \"spline\"}, \"name\": \"41\", \"x\": [0.5041836500167847, 0.530008852481842, 0.5519610047340393, 0.5591036677360535, 0.5513033270835876, 0.5301718711853027, 0.5027203559875488], \"y\": [0.3995075821876526, 0.3781878352165222, 0.3608163893222809, 0.3545079827308655, 0.36254939436912537, 0.3777160346508026, 0.4000051021575928], \"type\": \"scatter\", \"uid\": \"6dfd082b-f7e6-4514-abd0-75e3904f4f22\"}, {\"line\": {\"shape\": \"spline\"}, \"name\": \"42\", \"x\": [0.5998717546463013, 0.6268879175186157, 0.6478976607322693, 0.6579579710960388, 0.6490609645843506, 0.626690149307251, 0.598762035369873], \"y\": [0.5250633955001831, 0.5210715532302856, 0.5128195881843567, 0.5100883841514587, 0.5127522349357605, 0.5213819742202759, 0.5286536812782288], \"type\": \"scatter\", \"uid\": \"a3370fea-159a-4f8b-ae22-bbd57976c986\"}, {\"line\": {\"shape\": \"spline\"}, \"name\": \"43\", \"x\": [0.6457319855690002, 0.6724656820297241, 0.6903316378593445, 0.7007660865783691, 0.6919263601303101, 0.672159731388092, 0.6449909806251526], \"y\": [0.6042206883430481, 0.6148272752761841, 0.6146724224090576, 0.6151724457740784, 0.613918662071228, 0.615588366985321, 0.6082593202590942], \"type\": \"scatter\", \"uid\": \"5344b1fb-72b6-498d-8dca-660ea7e9853f\"}, {\"line\": {\"shape\": \"spline\"}, \"name\": \"44\", \"x\": [0.6877433061599731, 0.7141634225845337, 0.7280533909797668, 0.7380312085151672, 0.7290842533111572, 0.7137271761894226, 0.687214732170105], \"y\": [0.7089478969573975, 0.7378612756729126, 0.7486640810966492, 0.7529460191726685, 0.7475584745407104, 0.7386743426322937, 0.7103055119514465], \"type\": \"scatter\", \"uid\": \"eb03f913-6d46-4f31-beb3-a60e3169738c\"}, {\"line\": {\"shape\": \"spline\"}, \"name\": \"45\", \"x\": [0.11167830228805542, 0.06690943241119385, 0.040798723697662354, 0.03426270931959152, 0.042602814733982086, 0.06551053375005722, 0.11244112253189087], \"y\": [0.03726448491215706, 0.01682266965508461, 0.007047951687127352, 0.005667276680469513, 0.010291068814694881, 0.01563185267150402, 0.0385076180100441], \"type\": \"scatter\", \"uid\": \"dbe962ec-8ac4-4e8f-94b7-d9c759feec44\"}, {\"line\": {\"shape\": \"spline\"}, \"name\": \"46\", \"x\": [0.2070343792438507, 0.18016096949577332, 0.16668403148651123, 0.16325592994689941, 0.1683315932750702, 0.18151986598968506, 0.20566105842590332], \"y\": [0.07312406599521637, 0.040542665868997574, 0.018139205873012543, 0.005800962448120117, 0.015842638909816742, 0.040562186390161514, 0.0722404196858406], \"type\": \"scatter\", \"uid\": \"6060f3c4-9e4f-4402-b304-ba5f910f16ee\"}, {\"line\": {\"shape\": \"spline\"}, \"name\": \"47\", \"x\": [0.2789948880672455, 0.2637966573238373, 0.25498294830322266, 0.25163760781288147, 0.25672420859336853, 0.2652994990348816, 0.27793875336647034], \"y\": [0.0901048332452774, 0.058066461235284805, 0.03243260830640793, 0.016033902764320374, 0.028957143425941467, 0.05890553072094917, 0.08908494561910629], \"type\": \"scatter\", \"uid\": \"968f52ef-5f25-4c30-b799-beff07959fd4\"}, {\"line\": {\"shape\": \"spline\"}, \"name\": \"48\", \"x\": [0.3390832245349884, 0.33244988322257996, 0.3270551562309265, 0.32350799441337585, 0.3287034034729004, 0.33335065841674805, 0.3388746678829193], \"y\": [0.10556939244270325, 0.07648038864135742, 0.05075063556432724, 0.03353971242904663, 0.04821525514125824, 0.07746227085590363, 0.10462093353271484], \"type\": \"scatter\", \"uid\": \"468ec0ff-38ef-4eca-85dd-58cbecdb5881\"}, {\"line\": {\"shape\": \"spline\"}, \"name\": \"49\", \"x\": [0.45253676176071167, 0.45918551087379456, 0.46599864959716797, 0.4646763503551483, 0.4665144085884094, 0.4596845507621765, 0.45296964049339294], \"y\": [0.15623003244400024, 0.12266088277101517, 0.09431502223014832, 0.07780788838863373, 0.09596000611782074, 0.12241382151842117, 0.15355312824249268], \"type\": \"scatter\", \"uid\": \"cd46588a-3b96-49e0-9bf8-55091e832a22\"}, {\"line\": {\"shape\": \"spline\"}, \"name\": \"50\", \"x\": [0.5704646110534668, 0.5894591212272644, 0.606578528881073, 0.6097402572631836, 0.606903612613678, 0.5901432633399963, 0.5706528425216675], \"y\": [0.20606522262096405, 0.17069733142852783, 0.14240235090255737, 0.12829244136810303, 0.14522016048431396, 0.17032501101493835, 0.20476290583610535], \"type\": \"scatter\", \"uid\": \"46c611c1-456b-47d1-b9cf-63579e7ef72d\"}, {\"line\": {\"shape\": \"spline\"}, \"name\": \"51\", \"x\": [0.7022436261177063, 0.735560953617096, 0.7593131065368652, 0.767804741859436, 0.7600463032722473, 0.7365030646324158, 0.7018963098526001], \"y\": [0.2599200904369354, 0.23723441362380981, 0.2172851860523224, 0.20842337608337402, 0.21819423139095306, 0.23751966655254364, 0.26162031292915344], \"type\": \"scatter\", \"uid\": \"347881ae-faa9-448f-a0c3-2eaad1bf0ef7\"}, {\"line\": {\"shape\": \"spline\"}, \"name\": \"52\", \"x\": [0.7773080468177795, 0.8208051323890686, 0.8470481634140015, 0.8586024045944214, 0.8478414416313171, 0.8214647173881531, 0.7769030332565308], \"y\": [0.2990991175174713, 0.2925851047039032, 0.2829399108886719, 0.2786186933517456, 0.2820555865764618, 0.2932118773460388, 0.3009883165359497], \"type\": \"scatter\", \"uid\": \"800c4d38-4a06-43bd-81a4-e36561b850bc\"}, {\"line\": {\"shape\": \"spline\"}, \"name\": \"53\", \"x\": [0.8589955568313599, 0.9167744517326355, 0.9475485682487488, 0.9632720947265625, 0.9477441310882568, 0.9166286587715149, 0.8585209846496582], \"y\": [0.36533796787261963, 0.3833325505256653, 0.3899085819721222, 0.3911910057067871, 0.3866884410381317, 0.38359493017196655, 0.36298635601997375], \"type\": \"scatter\", \"uid\": \"bd2fa182-8bcc-451b-8993-b3fa58ed1eb9\"}, {\"line\": {\"shape\": \"spline\"}, \"name\": \"54\", \"x\": [0.14438417553901672, 0.07956094294786453, 0.0352223664522171, 0.018454231321811676, 0.03488873690366745, 0.08019451051950455, 0.14615343511104584], \"y\": [0.0032106153666973114, 0.004208054393529892, 0.002433613408356905, 0.00938667356967926, 0.011604472063481808, 0.0006005342584103346, 0.0049121687188744545], \"type\": \"scatter\", \"uid\": \"e012ee36-4c45-45bf-a810-552087b742b1\"}, {\"line\": {\"shape\": \"spline\"}, \"name\": \"55\", \"x\": [0.2309603989124298, 0.18800455331802368, 0.15982793271541595, 0.14761215448379517, 0.15978562831878662, 0.1910790055990219, 0.23010291159152985], \"y\": [0.005112882703542709, -0.012601256370544434, -0.02947819232940674, -0.03640341758728027, -0.028158247470855713, -0.014893829822540283, 0.00429087970405817], \"type\": \"scatter\", \"uid\": \"cdffa8e7-cebf-44bc-b20c-ccd45ac78924\"}, {\"line\": {\"shape\": \"spline\"}, \"name\": \"56\", \"x\": [0.29637983441352844, 0.2681453227996826, 0.24725498259067535, 0.2367686629295349, 0.2481541633605957, 0.27085092663764954, 0.2956197261810303], \"y\": [-0.0048179030418396, -0.027116894721984863, -0.0490795373916626, -0.06263136863708496, -0.05102086067199707, -0.02827143669128418, -0.005748927593231201], \"type\": \"scatter\", \"uid\": \"55183cca-5e49-4a4f-bab8-f64c39b6d3ef\"}, {\"line\": {\"shape\": \"spline\"}, \"name\": \"57\", \"x\": [0.35212475061416626, 0.3345569372177124, 0.3179292678833008, 0.3085380494594574, 0.3199981153011322, 0.33576226234436035, 0.3525170683860779], \"y\": [-0.014278829097747803, -0.036789000034332275, -0.06009286642074585, -0.07698661088943481, -0.0629880428314209, -0.03712218999862671, -0.014527380466461182], \"type\": \"scatter\", \"uid\": \"bc5f691b-4c23-4719-921d-894a0e00b371\"}, {\"line\": {\"shape\": \"spline\"}, \"name\": \"58\", \"x\": [0.4650571346282959, 0.46380823850631714, 0.46018338203430176, 0.45541518926620483, 0.4639059603214264, 0.4627310633659363, 0.467016339302063], \"y\": [-0.011684060096740723, -0.044926464557647705, -0.07384711503982544, -0.09552526473999023, -0.0760837197303772, -0.044852256774902344, -0.012405991554260254], \"type\": \"scatter\", \"uid\": \"ab2bd294-5631-40c9-be54-a2417de8cc4c\"}, {\"line\": {\"shape\": \"spline\"}, \"name\": \"59\", \"x\": [0.5869118571281433, 0.6011382341384888, 0.6115729212760925, 0.6119168400764465, 0.6148898601531982, 0.599453330039978, 0.5890600681304932], \"y\": [0.008199799805879593, -0.03347700834274292, -0.06512182950973511, -0.08580923080444336, -0.06476682424545288, -0.03412270545959473, 0.007003803737461567], \"type\": \"scatter\", \"uid\": \"9f7762dd-29c6-45a2-ac92-fe3bc379b792\"}, {\"line\": {\"shape\": \"spline\"}, \"name\": \"60\", \"x\": [0.731378436088562, 0.767353892326355, 0.788976788520813, 0.7953437566757202, 0.7913477420806885, 0.7659487128257751, 0.7327543497085571], \"y\": [0.007197465747594833, -0.02627497911453247, -0.051222026348114014, -0.06575566530227661, -0.05102115869522095, -0.026906192302703857, 0.0072118425741791725], \"type\": \"scatter\", \"uid\": \"2446910f-cec5-4102-9a52-e66b493963f7\"}, {\"line\": {\"shape\": \"spline\"}, \"name\": \"61\", \"x\": [0.8179857730865479, 0.8709279298782349, 0.8999401926994324, 0.9109060764312744, 0.9014838933944702, 0.8694334626197815, 0.8188475370407104], \"y\": [0.0037541575729846954, -0.016606569290161133, -0.032491326332092285, -0.04235714673995972, -0.03366696834564209, -0.017423510551452637, 0.0016798237338662148], \"type\": \"scatter\", \"uid\": \"6f44255c-d8a1-48f9-b6a7-6d48034b743b\"}, {\"line\": {\"shape\": \"spline\"}, \"name\": \"62\", \"x\": [0.9179748296737671, 0.9958373308181763, 1.039241909980774, 1.0579711198806763, 1.0389484167099, 0.994137704372406, 0.91758131980896], \"y\": [0.015843350440263748, 0.014023184776306152, 0.012158416211605072, 0.007315292954444885, 0.00821640994399786, 0.011709894053637981, 0.004897409118711948], \"type\": \"scatter\", \"uid\": \"c8fe7e61-bdf6-440a-ad7b-b8789de86d0b\"}, {\"line\": {\"shape\": \"spline\"}, \"name\": \"63\", \"x\": [0.15225940942764282, 0.07936891168355942, 0.023639380931854248, 0.0004790201783180237, 0.021711431443691254, 0.08050807565450668, 0.15485906600952148], \"y\": [-0.03156036138534546, -0.01424109935760498, -0.007904291152954102, 0.006713390350341797, 0.0051319291815161705, -0.01918548345565796, -0.028267085552215576], \"type\": \"scatter\", \"uid\": \"bbb4e26e-0501-4a98-b8c2-786416b326bf\"}, {\"line\": {\"shape\": \"spline\"}, \"name\": \"64\", \"x\": [0.2383926808834076, 0.18757221102714539, 0.1486695110797882, 0.13027721643447876, 0.14715784788131714, 0.19113826751708984, 0.23814687132835388], \"y\": [-0.03971785306930542, -0.04282432794570923, -0.052659034729003906, -0.0531846284866333, -0.048199594020843506, -0.04641258716583252, -0.039192020893096924], \"type\": \"scatter\", \"uid\": \"846aae64-641a-4273-99b0-cb47911d9ffe\"}, {\"line\": {\"shape\": \"spline\"}, \"name\": \"65\", \"x\": [0.30239877104759216, 0.2666190564632416, 0.23580358922481537, 0.21963126957416534, 0.23549121618270874, 0.2697347402572632, 0.3020504415035248], \"y\": [-0.05812573432922363, -0.06800270080566406, -0.08394986391067505, -0.09214472770690918, -0.08339059352874756, -0.07039713859558105, -0.05793505907058716], \"type\": \"scatter\", \"uid\": \"9ddf3c5a-41e7-45a7-99a0-5c3bad0c0e6d\"}, {\"line\": {\"shape\": \"spline\"}, \"name\": \"66\", \"x\": [0.3557526767253876, 0.33084166049957275, 0.3043718934059143, 0.2896310091018677, 0.3056679666042328, 0.33212143182754517, 0.3566204309463501], \"y\": [-0.07685273885726929, -0.08847469091415405, -0.10639810562133789, -0.1187593936920166, -0.10729557275772095, -0.08986413478851318, -0.07599931955337524], \"type\": \"scatter\", \"uid\": \"bc417060-84af-4a3f-96b5-1bf0361fe3db\"}, {\"line\": {\"shape\": \"spline\"}, \"name\": \"67\", \"x\": [0.4640513062477112, 0.4559684097766876, 0.44276368618011475, 0.4336444139480591, 0.44689884781837463, 0.4541569650173187, 0.46661120653152466], \"y\": [-0.09903901815414429, -0.12426704168319702, -0.14912456274032593, -0.16814035177230835, -0.15073132514953613, -0.12471580505371094, -0.09851282835006714], \"type\": \"scatter\", \"uid\": \"c7fa6ca7-03c9-448d-9a26-3efd1644c755\"}, {\"line\": {\"shape\": \"spline\"}, \"name\": \"68\", \"x\": [0.5822137594223022, 0.5901007056236267, 0.5924715399742126, 0.5898405909538269, 0.597513735294342, 0.5865544080734253, 0.5851411819458008], \"y\": [-0.11020416021347046, -0.14841800928115845, -0.17818647623062134, -0.19882231950759888, -0.17837965488433838, -0.14920157194137573, -0.11084085702896118], \"type\": \"scatter\", \"uid\": \"7fad37d5-b73c-436c-8ed3-8403c470df71\"}, {\"line\": {\"shape\": \"spline\"}, \"name\": \"69\", \"x\": [0.7238998413085938, 0.7542668581008911, 0.7705294489860535, 0.7744726538658142, 0.7741683125495911, 0.7507021427154541, 0.7254230976104736], \"y\": [-0.14200043678283691, -0.17749762535095215, -0.20323896408081055, -0.21854478120803833, -0.20271098613739014, -0.17898321151733398, -0.14382243156433105], \"type\": \"scatter\", \"uid\": \"ef831fbe-453a-47d7-ad5c-e87e5e4cadc1\"}, {\"line\": {\"shape\": \"spline\"}, \"name\": \"70\", \"x\": [0.8087450265884399, 0.8572084903717041, 0.8845152854919434, 0.8941412568092346, 0.8867738246917725, 0.8536805510520935, 0.8088352680206299], \"y\": [-0.1647917628288269, -0.19343966245651245, -0.21352505683898926, -0.22539985179901123, -0.21382689476013184, -0.19582146406173706, -0.17074847221374512], \"type\": \"scatter\", \"uid\": \"ee6a521d-f1aa-4b0f-a4e8-f66da89e1440\"}, {\"line\": {\"shape\": \"spline\"}, \"name\": \"71\", \"x\": [0.9089158177375793, 0.9846329689025879, 1.031097650527954, 1.0500919818878174, 1.0308598279953003, 0.9810619354248047, 0.9065847396850586], \"y\": [-0.1835809350013733, -0.2019808292388916, -0.21319526433944702, -0.22168445587158203, -0.21545571088790894, -0.20643174648284912, -0.1995401382446289], \"type\": \"scatter\", \"uid\": \"1bcd7dc9-8aa2-4243-a6c8-64818a6c4e95\"}, {\"line\": {\"shape\": \"spline\"}, \"name\": \"72\", \"x\": [0.1376710683107376, 0.060485340654850006, -0.01077336072921753, -0.0415530800819397, -0.014436006546020508, 0.06101560592651367, 0.14223045110702515], \"y\": [-0.10357493162155151, -0.07119226455688477, -0.05602473020553589, -0.032429039478302, -0.03887176513671875, -0.07609051465988159, -0.09694749116897583], \"type\": \"scatter\", \"uid\": \"e072bbb7-c609-42ee-88fa-f1d05952006c\"}, {\"line\": {\"shape\": \"spline\"}, \"name\": \"73\", \"x\": [0.21689501404762268, 0.16292545199394226, 0.10943835228681564, 0.08277995139360428, 0.1061631441116333, 0.16580304503440857, 0.21835902333259583], \"y\": [-0.1266762614250183, -0.11777496337890625, -0.12022221088409424, -0.11308890581130981, -0.112201988697052, -0.1212262511253357, -0.12311321496963501], \"type\": \"scatter\", \"uid\": \"8c4db2ec-ab37-4f65-812c-a337c351c10e\"}, {\"line\": {\"shape\": \"spline\"}, \"name\": \"74\", \"x\": [0.2736811935901642, 0.2356407642364502, 0.1913905143737793, 0.16740380227565765, 0.18943855166435242, 0.2379647195339203, 0.2747325301170349], \"y\": [-0.1574028730392456, -0.15890157222747803, -0.16900020837783813, -0.17057108879089355, -0.16537487506866455, -0.16114968061447144, -0.1546592116355896], \"type\": \"scatter\", \"uid\": \"67072c15-4e46-484c-ad98-cfd1db3a63d3\"}, {\"line\": {\"shape\": \"spline\"}, \"name\": \"75\", \"x\": [0.31915968656539917, 0.29240670800209045, 0.25295132398605347, 0.23068849742412567, 0.2528834640979767, 0.2925758361816406, 0.32129961252212524], \"y\": [-0.18861621618270874, -0.19497305154800415, -0.20835989713668823, -0.21489417552947998, -0.2065635323524475, -0.19617938995361328, -0.18566054105758667], \"type\": \"scatter\", \"uid\": \"68fb36ae-a9d2-49ed-a547-36e596372bba\"}, {\"line\": {\"shape\": \"spline\"}, \"name\": \"76\", \"x\": [0.41125786304473877, 0.40114468336105347, 0.37576502561569214, 0.3598940372467041, 0.37931564450263977, 0.39747732877731323, 0.4146423935890198], \"y\": [-0.2417955994606018, -0.2665424942970276, -0.28901588916778564, -0.3035430312156677, -0.2887946367263794, -0.2667589783668518, -0.2400648593902588], \"type\": \"scatter\", \"uid\": \"79e71287-5606-4246-b00b-b871892253ee\"}, {\"line\": {\"shape\": \"spline\"}, \"name\": \"77\", \"x\": [0.5116713643074036, 0.5155486464500427, 0.5074297189712524, 0.49929168820381165, 0.5129258632659912, 0.5092096328735352, 0.5144859552383423], \"y\": [-0.2945507764816284, -0.3377285599708557, -0.36782562732696533, -0.38588112592697144, -0.3672521710395813, -0.3383256196975708, -0.2955409288406372], \"type\": \"scatter\", \"uid\": \"9f8a987b-c5d1-4126-9127-471c6daf8a7d\"}, {\"line\": {\"shape\": \"spline\"}, \"name\": \"78\", \"x\": [0.6306590437889099, 0.6527150869369507, 0.663999617099762, 0.6643457412719727, 0.6682091951370239, 0.6457422375679016, 0.6297663450241089], \"y\": [-0.36676347255706787, -0.4178617596626282, -0.44957900047302246, -0.4656097888946533, -0.4483528733253479, -0.4200218915939331, -0.3726813793182373], \"type\": \"scatter\", \"uid\": \"ecb80219-0c39-49a1-9da0-0ab39629e169\"}, {\"line\": {\"shape\": \"spline\"}, \"name\": \"79\", \"x\": [0.7025498747825623, 0.7402729392051697, 0.7667712569236755, 0.7738512754440308, 0.7688504457473755, 0.7334811091423035, 0.6981987953186035], \"y\": [-0.41276347637176514, -0.4633394479751587, -0.4931958317756653, -0.5071996450424194, -0.4921395182609558, -0.4669222831726074, -0.4241626262664795], \"type\": \"scatter\", \"uid\": \"61952403-5e8c-4dd0-afc1-5237f3278e78\"}, {\"line\": {\"shape\": \"spline\"}, \"name\": \"80\", \"x\": [0.7874448299407959, 0.8497649431228638, 0.9007062315940857, 0.9185721278190613, 0.8992964625358582, 0.8431832194328308, 0.7780091762542725], \"y\": [-0.4630966782569885, -0.5113785266876221, -0.5378960371017456, -0.5500936508178711, -0.5376138091087341, -0.5170410871505737, -0.48352545499801636], \"type\": \"scatter\", \"uid\": \"18898d3b-df4d-4f87-996f-0aa0959b5b8b\"}], {\"height\": 600, \"hovermode\": \"closest\", \"title\": {\"text\": \"Model generated curves XZ Front View\"}, \"width\": 600, \"xaxis\": {\"range\": [-0.8, 1.3], \"title\": {\"text\": \"X\"}}, \"yaxis\": {\"range\": [-1, 1.3], \"title\": {\"text\": \"Y\"}}}, {\"showLink\": false, \"linkText\": \"Export to plot.ly\", \"plotlyServerURL\": \"https://plot.ly\"})});</script>"
      ]
     },
     "metadata": {},
     "output_type": "display_data"
    }
   ],
   "source": [
    "# model generated\n",
    "grPh2t = np.reshape(ph2t,(-1,21))\n",
    "gx = gy.FormatNetworkToGraphColumns(grPh2t, xOffset=0, yOffset=14, colPoints=7)\n",
    "\n",
    "layout = go.Layout(\n",
    "    title = 'Initial Curves',\n",
    "    height = 600,\n",
    "    width = 600,\n",
    "    hovermode= 'closest',\n",
    "    xaxis= dict(\n",
    "        title= 'X',\n",
    "        range = [-.8,1.3],\n",
    "    ),\n",
    "    yaxis=dict(\n",
    "        title= 'Y',\n",
    "        range = [-1,1.3],\n",
    "    )\n",
    ")\n",
    "layout.title = 'Model generated curves XZ Front View'\n",
    "f = gy.graphCurves(gx, layout, dashRange=range(0,8))\n",
    "offline.iplot(f)"
   ]
  },
  {
   "cell_type": "code",
   "execution_count": 26,
   "metadata": {},
   "outputs": [
    {
     "data": {
      "application/vnd.plotly.v1+json": {
       "config": {
        "linkText": "Export to plot.ly",
        "plotlyServerURL": "https://plot.ly",
        "showLink": false
       },
       "data": [
        {
         "line": {
          "dash": "2px,6px",
          "shape": "spline"
         },
         "marker": {
          "symbol": "star"
         },
         "name": "0",
         "type": "scatter",
         "uid": "de1a4edf-c45e-4e91-a11c-726656caaa7e",
         "x": [
          0.1566022253036499,
          0.08314455986022949,
          0.01605749487876892,
          -0.01826066493988037,
          0.007939066886901856,
          0.08495230436325073,
          0.16049906730651856
         ],
         "y": [
          -0.3122243499755859,
          -0.1727412986755371,
          -0.0753370428085327,
          0.0025239220261573793,
          0.06946373462677001,
          0.18297695159912108,
          0.29302622795104977
         ]
        },
        {
         "line": {
          "dash": "2px,6px",
          "shape": "spline"
         },
         "marker": {
          "symbol": "star"
         },
         "name": "1",
         "type": "scatter",
         "uid": "114ff5b2-122c-4788-819b-110e76cbee27",
         "x": [
          0.23732502937316893,
          0.18775111198425293,
          0.1561357069015503,
          0.14155624866485594,
          0.15472472190856934,
          0.1934891653060913,
          0.23654614448547362
         ],
         "y": [
          -0.3901163578033447,
          -0.24091758728027343,
          -0.1188077688217163,
          0.0009767573699355125,
          0.1189780855178833,
          0.2432537269592285,
          0.3752094554901123
         ]
        },
        {
         "line": {
          "dash": "2px,6px",
          "shape": "spline"
         },
         "marker": {
          "symbol": "star"
         },
         "name": "2",
         "type": "scatter",
         "uid": "081c71c4-3676-41dd-bbd5-c8bc2f90a5d5",
         "x": [
          0.36939116477966305,
          0.3389352607727051,
          0.3068853378295898,
          0.2878029441833496,
          0.3063541030883789,
          0.3406628894805908,
          0.3692296886444092
         ],
         "y": [
          -0.45585722923278804,
          -0.2862713813781738,
          -0.14797496795654297,
          -4.541603266261518e-05,
          0.14835449695587158,
          0.28880069732666014,
          0.451233959197998
         ]
        },
        {
         "line": {
          "dash": "2px,6px",
          "shape": "spline"
         },
         "marker": {
          "symbol": "star"
         },
         "name": "3",
         "type": "scatter",
         "uid": "45d0da5f-59e2-4ff6-a7ee-e13345d8851c",
         "x": [
          0.49604633331298825,
          0.4986719512939453,
          0.4820012855529785,
          0.4767746543884277,
          0.49149805068969726,
          0.4918904113769531,
          0.49885620117187496
         ],
         "y": [
          -0.4938923835754394,
          -0.3274346923828125,
          -0.16933658123016357,
          -0.0006621075980365276,
          0.16716429233551025,
          0.3229553890228271,
          0.5023735427856445
         ]
        },
        {
         "line": {
          "dash": "2px,6px",
          "shape": "spline"
         },
         "marker": {
          "symbol": "star"
         },
         "name": "4",
         "type": "scatter",
         "uid": "54e85180-2bdd-4d77-afe9-5037dcbc000c",
         "x": [
          0.6591514205932617,
          0.6822454833984375,
          0.6937431907653808,
          0.6958654975891113,
          0.6987220001220703,
          0.6778516387939453,
          0.6610672187805176
         ],
         "y": [
          -0.4897840118408203,
          -0.3315732479095459,
          -0.17259641647338866,
          0.0010115489736199378,
          0.17111105918884276,
          0.3289607048034668,
          0.49837148666381836
         ]
        },
        {
         "line": {
          "dash": "2px,6px",
          "shape": "spline"
         },
         "marker": {
          "symbol": "star"
         },
         "name": "5",
         "type": "scatter",
         "uid": "7f58bf7e-0849-4203-bc9a-d107a855e889",
         "x": [
          0.815196762084961,
          0.8605083847045898,
          0.8941831970214843,
          0.9050537109375,
          0.8957990455627441,
          0.8574292945861816,
          0.8161811828613281
         ],
         "y": [
          -0.45181148529052734,
          -0.32610191345214845,
          -0.16934894084930419,
          0.0014656945690512658,
          0.16800520420074463,
          0.3240410041809082,
          0.47516126632690425
         ]
        },
        {
         "line": {
          "dash": "2px,6px",
          "shape": "spline"
         },
         "marker": {
          "symbol": "star"
         },
         "name": "6",
         "type": "scatter",
         "uid": "952062d9-6fe7-419d-9bdb-79498cba4f1e",
         "x": [
          0.9141083908081055,
          0.9927778244018555,
          1.0440301895141602,
          1.0635079193115233,
          1.043038215637207,
          0.9880208587646484,
          0.9119764709472656
         ],
         "y": [
          -0.40715938568115234,
          -0.3209428596496582,
          -0.16275657176971434,
          0.00016776773147284983,
          0.16154010772705077,
          0.3105284214019775,
          0.41259824752807617
         ]
        },
        {
         "line": {
          "shape": "spline"
         },
         "name": "7",
         "type": "scatter",
         "uid": "c88767b7-b6e3-4bc0-9cb2-5b8d9638c4da",
         "x": [
          0.14438417553901672,
          0.07956094294786453,
          0.0352223664522171,
          0.018454231321811676,
          0.03488873690366745,
          0.08019451051950455,
          0.14615343511104584
         ],
         "y": [
          -0.23577260971069336,
          -0.12979644536972046,
          -0.056844890117645264,
          0.0015140380710363388,
          0.05441303551197052,
          0.13856671750545502,
          0.22567713260650635
         ]
        },
        {
         "line": {
          "shape": "spline"
         },
         "name": "8",
         "type": "scatter",
         "uid": "097ad65c-641c-4148-99fc-c8303f373957",
         "x": [
          0.2309603989124298,
          0.18800455331802368,
          0.15982793271541595,
          0.14761215448379517,
          0.15978562831878662,
          0.1910790055990219,
          0.23010291159152985
         ],
         "y": [
          -0.305841326713562,
          -0.19331753253936768,
          -0.09495306015014648,
          1.3094395399093628e-06,
          0.09482143819332123,
          0.1977027952671051,
          0.30000948905944824
         ]
        },
        {
         "line": {
          "shape": "spline"
         },
         "name": "9",
         "type": "scatter",
         "uid": "f989daab-8316-4f6d-9149-2da84b6c5ac9",
         "x": [
          0.29637983441352844,
          0.2681453227996826,
          0.24725498259067535,
          0.2367686629295349,
          0.2481541633605957,
          0.27085092663764954,
          0.2956197261810303
         ],
         "y": [
          -0.35070866346359253,
          -0.22836309671401978,
          -0.11602222919464111,
          -0.0006072521209716797,
          0.11647316068410873,
          0.22989627718925476,
          0.3445360064506531
         ]
        },
        {
         "line": {
          "shape": "spline"
         },
         "name": "10",
         "type": "scatter",
         "uid": "7e929dd0-82a6-4af9-a500-372ebae6b685",
         "x": [
          0.35212475061416626,
          0.3345569372177124,
          0.3179292678833008,
          0.3085380494594574,
          0.3199981153011322,
          0.33576226234436035,
          0.3525170683860779
         ],
         "y": [
          -0.38118940591812134,
          -0.2497919201850891,
          -0.12871217727661133,
          -0.0006981492042541504,
          0.1287475824356079,
          0.24903504550457,
          0.37359076738357544
         ]
        },
        {
         "line": {
          "shape": "spline"
         },
         "name": "11",
         "type": "scatter",
         "uid": "c499851b-ee26-406d-86c5-94e54b5f7fb7",
         "x": [
          0.4650571346282959,
          0.46380823850631714,
          0.46018338203430176,
          0.45541518926620483,
          0.4639059603214264,
          0.4627310633659363,
          0.467016339302063
         ],
         "y": [
          -0.4152986407279968,
          -0.27797913551330566,
          -0.14573156833648682,
          -0.00020200014114379883,
          0.1454874873161316,
          0.2766553461551666,
          0.41188937425613403
         ]
        },
        {
         "line": {
          "shape": "spline"
         },
         "name": "12",
         "type": "scatter",
         "uid": "daa5041f-ef0f-4286-8e7f-4914e91b8b25",
         "x": [
          0.5869118571281433,
          0.6011382341384888,
          0.6115729212760925,
          0.6119168400764465,
          0.6148898601531982,
          0.599453330039978,
          0.5890600681304932
         ],
         "y": [
          -0.427909791469574,
          -0.29057735204696655,
          -0.15333282947540283,
          0.000785493291914463,
          0.1531548947095871,
          0.291533499956131,
          0.43055784702301025
         ]
        },
        {
         "line": {
          "shape": "spline"
         },
         "name": "13",
         "type": "scatter",
         "uid": "e7e7d572-b449-4c38-9895-d7d0bdbeb0e2",
         "x": [
          0.731378436088562,
          0.767353892326355,
          0.788976788520813,
          0.7953437566757202,
          0.7913477420806885,
          0.7659487128257751,
          0.7327543497085571
         ],
         "y": [
          -0.4188193678855896,
          -0.2846781611442566,
          -0.14898616075515747,
          0.0011639688163995743,
          0.1477871537208557,
          0.284650057554245,
          0.42230796813964844
         ]
        },
        {
         "line": {
          "shape": "spline"
         },
         "name": "14",
         "type": "scatter",
         "uid": "b7030adc-321e-4033-9249-e972c634db05",
         "x": [
          0.8179857730865479,
          0.8709279298782349,
          0.8999401926994324,
          0.9109060764312744,
          0.9014838933944702,
          0.8694334626197815,
          0.8188475370407104
         ],
         "y": [
          -0.3995715379714966,
          -0.2762410640716553,
          -0.14333879947662354,
          0.0009984662756323814,
          0.14086875319480896,
          0.27417823672294617,
          0.4003274440765381
         ]
        },
        {
         "line": {
          "shape": "spline"
         },
         "name": "15",
         "type": "scatter",
         "uid": "be97ba99-35f0-4506-9dc9-3182be34c22a",
         "x": [
          0.9179748296737671,
          0.9958373308181763,
          1.039241909980774,
          1.0579711198806763,
          1.0389484167099,
          0.994137704372406,
          0.91758131980896
         ],
         "y": [
          -0.3620307445526123,
          -0.2695896029472351,
          -0.13913404941558838,
          0.0005262573249638081,
          0.1353558599948883,
          0.26507899165153503,
          0.3605930507183075
         ]
        }
       ],
       "layout": {
        "height": 600,
        "hovermode": "closest",
        "title": {
         "text": "Model generated curves XY Top View"
        },
        "width": 600,
        "xaxis": {
         "range": [
          -0.1,
          1.2
         ],
         "title": {
          "text": "X"
         }
        },
        "yaxis": {
         "range": [
          -0.6,
          0.6
         ],
         "title": {
          "text": "Y"
         }
        }
       }
      },
      "text/html": [
       "<div id=\"0e1dc33a-0490-4953-a51f-de943ae8e4d6\" style=\"height: 600px; width: 600px;\" class=\"plotly-graph-div\"></div><script type=\"text/javascript\">require([\"plotly\"], function(Plotly) { window.PLOTLYENV=window.PLOTLYENV || {};window.PLOTLYENV.BASE_URL=\"https://plot.ly\";Plotly.newPlot(\"0e1dc33a-0490-4953-a51f-de943ae8e4d6\", [{\"line\": {\"dash\": \"2px,6px\", \"shape\": \"spline\"}, \"marker\": {\"symbol\": \"star\"}, \"name\": \"0\", \"x\": [0.1566022253036499, 0.08314455986022949, 0.01605749487876892, -0.01826066493988037, 0.007939066886901856, 0.08495230436325073, 0.16049906730651856], \"y\": [-0.3122243499755859, -0.1727412986755371, -0.0753370428085327, 0.0025239220261573793, 0.06946373462677001, 0.18297695159912108, 0.29302622795104977], \"type\": \"scatter\", \"uid\": \"de1a4edf-c45e-4e91-a11c-726656caaa7e\"}, {\"line\": {\"dash\": \"2px,6px\", \"shape\": \"spline\"}, \"marker\": {\"symbol\": \"star\"}, \"name\": \"1\", \"x\": [0.23732502937316893, 0.18775111198425293, 0.1561357069015503, 0.14155624866485594, 0.15472472190856934, 0.1934891653060913, 0.23654614448547362], \"y\": [-0.3901163578033447, -0.24091758728027343, -0.1188077688217163, 0.0009767573699355125, 0.1189780855178833, 0.2432537269592285, 0.3752094554901123], \"type\": \"scatter\", \"uid\": \"114ff5b2-122c-4788-819b-110e76cbee27\"}, {\"line\": {\"dash\": \"2px,6px\", \"shape\": \"spline\"}, \"marker\": {\"symbol\": \"star\"}, \"name\": \"2\", \"x\": [0.36939116477966305, 0.3389352607727051, 0.3068853378295898, 0.2878029441833496, 0.3063541030883789, 0.3406628894805908, 0.3692296886444092], \"y\": [-0.45585722923278804, -0.2862713813781738, -0.14797496795654297, -4.541603266261518e-05, 0.14835449695587158, 0.28880069732666014, 0.451233959197998], \"type\": \"scatter\", \"uid\": \"081c71c4-3676-41dd-bbd5-c8bc2f90a5d5\"}, {\"line\": {\"dash\": \"2px,6px\", \"shape\": \"spline\"}, \"marker\": {\"symbol\": \"star\"}, \"name\": \"3\", \"x\": [0.49604633331298825, 0.4986719512939453, 0.4820012855529785, 0.4767746543884277, 0.49149805068969726, 0.4918904113769531, 0.49885620117187496], \"y\": [-0.4938923835754394, -0.3274346923828125, -0.16933658123016357, -0.0006621075980365276, 0.16716429233551025, 0.3229553890228271, 0.5023735427856445], \"type\": \"scatter\", \"uid\": \"45d0da5f-59e2-4ff6-a7ee-e13345d8851c\"}, {\"line\": {\"dash\": \"2px,6px\", \"shape\": \"spline\"}, \"marker\": {\"symbol\": \"star\"}, \"name\": \"4\", \"x\": [0.6591514205932617, 0.6822454833984375, 0.6937431907653808, 0.6958654975891113, 0.6987220001220703, 0.6778516387939453, 0.6610672187805176], \"y\": [-0.4897840118408203, -0.3315732479095459, -0.17259641647338866, 0.0010115489736199378, 0.17111105918884276, 0.3289607048034668, 0.49837148666381836], \"type\": \"scatter\", \"uid\": \"54e85180-2bdd-4d77-afe9-5037dcbc000c\"}, {\"line\": {\"dash\": \"2px,6px\", \"shape\": \"spline\"}, \"marker\": {\"symbol\": \"star\"}, \"name\": \"5\", \"x\": [0.815196762084961, 0.8605083847045898, 0.8941831970214843, 0.9050537109375, 0.8957990455627441, 0.8574292945861816, 0.8161811828613281], \"y\": [-0.45181148529052734, -0.32610191345214845, -0.16934894084930419, 0.0014656945690512658, 0.16800520420074463, 0.3240410041809082, 0.47516126632690425], \"type\": \"scatter\", \"uid\": \"7f58bf7e-0849-4203-bc9a-d107a855e889\"}, {\"line\": {\"dash\": \"2px,6px\", \"shape\": \"spline\"}, \"marker\": {\"symbol\": \"star\"}, \"name\": \"6\", \"x\": [0.9141083908081055, 0.9927778244018555, 1.0440301895141602, 1.0635079193115233, 1.043038215637207, 0.9880208587646484, 0.9119764709472656], \"y\": [-0.40715938568115234, -0.3209428596496582, -0.16275657176971434, 0.00016776773147284983, 0.16154010772705077, 0.3105284214019775, 0.41259824752807617], \"type\": \"scatter\", \"uid\": \"952062d9-6fe7-419d-9bdb-79498cba4f1e\"}, {\"line\": {\"shape\": \"spline\"}, \"name\": \"7\", \"x\": [0.14438417553901672, 0.07956094294786453, 0.0352223664522171, 0.018454231321811676, 0.03488873690366745, 0.08019451051950455, 0.14615343511104584], \"y\": [-0.23577260971069336, -0.12979644536972046, -0.056844890117645264, 0.0015140380710363388, 0.05441303551197052, 0.13856671750545502, 0.22567713260650635], \"type\": \"scatter\", \"uid\": \"c88767b7-b6e3-4bc0-9cb2-5b8d9638c4da\"}, {\"line\": {\"shape\": \"spline\"}, \"name\": \"8\", \"x\": [0.2309603989124298, 0.18800455331802368, 0.15982793271541595, 0.14761215448379517, 0.15978562831878662, 0.1910790055990219, 0.23010291159152985], \"y\": [-0.305841326713562, -0.19331753253936768, -0.09495306015014648, 1.3094395399093628e-06, 0.09482143819332123, 0.1977027952671051, 0.30000948905944824], \"type\": \"scatter\", \"uid\": \"097ad65c-641c-4148-99fc-c8303f373957\"}, {\"line\": {\"shape\": \"spline\"}, \"name\": \"9\", \"x\": [0.29637983441352844, 0.2681453227996826, 0.24725498259067535, 0.2367686629295349, 0.2481541633605957, 0.27085092663764954, 0.2956197261810303], \"y\": [-0.35070866346359253, -0.22836309671401978, -0.11602222919464111, -0.0006072521209716797, 0.11647316068410873, 0.22989627718925476, 0.3445360064506531], \"type\": \"scatter\", \"uid\": \"f989daab-8316-4f6d-9149-2da84b6c5ac9\"}, {\"line\": {\"shape\": \"spline\"}, \"name\": \"10\", \"x\": [0.35212475061416626, 0.3345569372177124, 0.3179292678833008, 0.3085380494594574, 0.3199981153011322, 0.33576226234436035, 0.3525170683860779], \"y\": [-0.38118940591812134, -0.2497919201850891, -0.12871217727661133, -0.0006981492042541504, 0.1287475824356079, 0.24903504550457, 0.37359076738357544], \"type\": \"scatter\", \"uid\": \"7e929dd0-82a6-4af9-a500-372ebae6b685\"}, {\"line\": {\"shape\": \"spline\"}, \"name\": \"11\", \"x\": [0.4650571346282959, 0.46380823850631714, 0.46018338203430176, 0.45541518926620483, 0.4639059603214264, 0.4627310633659363, 0.467016339302063], \"y\": [-0.4152986407279968, -0.27797913551330566, -0.14573156833648682, -0.00020200014114379883, 0.1454874873161316, 0.2766553461551666, 0.41188937425613403], \"type\": \"scatter\", \"uid\": \"c499851b-ee26-406d-86c5-94e54b5f7fb7\"}, {\"line\": {\"shape\": \"spline\"}, \"name\": \"12\", \"x\": [0.5869118571281433, 0.6011382341384888, 0.6115729212760925, 0.6119168400764465, 0.6148898601531982, 0.599453330039978, 0.5890600681304932], \"y\": [-0.427909791469574, -0.29057735204696655, -0.15333282947540283, 0.000785493291914463, 0.1531548947095871, 0.291533499956131, 0.43055784702301025], \"type\": \"scatter\", \"uid\": \"daa5041f-ef0f-4286-8e7f-4914e91b8b25\"}, {\"line\": {\"shape\": \"spline\"}, \"name\": \"13\", \"x\": [0.731378436088562, 0.767353892326355, 0.788976788520813, 0.7953437566757202, 0.7913477420806885, 0.7659487128257751, 0.7327543497085571], \"y\": [-0.4188193678855896, -0.2846781611442566, -0.14898616075515747, 0.0011639688163995743, 0.1477871537208557, 0.284650057554245, 0.42230796813964844], \"type\": \"scatter\", \"uid\": \"e7e7d572-b449-4c38-9895-d7d0bdbeb0e2\"}, {\"line\": {\"shape\": \"spline\"}, \"name\": \"14\", \"x\": [0.8179857730865479, 0.8709279298782349, 0.8999401926994324, 0.9109060764312744, 0.9014838933944702, 0.8694334626197815, 0.8188475370407104], \"y\": [-0.3995715379714966, -0.2762410640716553, -0.14333879947662354, 0.0009984662756323814, 0.14086875319480896, 0.27417823672294617, 0.4003274440765381], \"type\": \"scatter\", \"uid\": \"b7030adc-321e-4033-9249-e972c634db05\"}, {\"line\": {\"shape\": \"spline\"}, \"name\": \"15\", \"x\": [0.9179748296737671, 0.9958373308181763, 1.039241909980774, 1.0579711198806763, 1.0389484167099, 0.994137704372406, 0.91758131980896], \"y\": [-0.3620307445526123, -0.2695896029472351, -0.13913404941558838, 0.0005262573249638081, 0.1353558599948883, 0.26507899165153503, 0.3605930507183075], \"type\": \"scatter\", \"uid\": \"be97ba99-35f0-4506-9dc9-3182be34c22a\"}], {\"height\": 600, \"hovermode\": \"closest\", \"title\": {\"text\": \"Model generated curves XY Top View\"}, \"width\": 600, \"xaxis\": {\"range\": [-0.1, 1.2], \"title\": {\"text\": \"X\"}}, \"yaxis\": {\"range\": [-0.6, 0.6], \"title\": {\"text\": \"Y\"}}}, {\"showLink\": false, \"linkText\": \"Export to plot.ly\", \"plotlyServerURL\": \"https://plot.ly\"})});</script>"
      ],
      "text/vnd.plotly.v1+html": [
       "<div id=\"0e1dc33a-0490-4953-a51f-de943ae8e4d6\" style=\"height: 600px; width: 600px;\" class=\"plotly-graph-div\"></div><script type=\"text/javascript\">require([\"plotly\"], function(Plotly) { window.PLOTLYENV=window.PLOTLYENV || {};window.PLOTLYENV.BASE_URL=\"https://plot.ly\";Plotly.newPlot(\"0e1dc33a-0490-4953-a51f-de943ae8e4d6\", [{\"line\": {\"dash\": \"2px,6px\", \"shape\": \"spline\"}, \"marker\": {\"symbol\": \"star\"}, \"name\": \"0\", \"x\": [0.1566022253036499, 0.08314455986022949, 0.01605749487876892, -0.01826066493988037, 0.007939066886901856, 0.08495230436325073, 0.16049906730651856], \"y\": [-0.3122243499755859, -0.1727412986755371, -0.0753370428085327, 0.0025239220261573793, 0.06946373462677001, 0.18297695159912108, 0.29302622795104977], \"type\": \"scatter\", \"uid\": \"de1a4edf-c45e-4e91-a11c-726656caaa7e\"}, {\"line\": {\"dash\": \"2px,6px\", \"shape\": \"spline\"}, \"marker\": {\"symbol\": \"star\"}, \"name\": \"1\", \"x\": [0.23732502937316893, 0.18775111198425293, 0.1561357069015503, 0.14155624866485594, 0.15472472190856934, 0.1934891653060913, 0.23654614448547362], \"y\": [-0.3901163578033447, -0.24091758728027343, -0.1188077688217163, 0.0009767573699355125, 0.1189780855178833, 0.2432537269592285, 0.3752094554901123], \"type\": \"scatter\", \"uid\": \"114ff5b2-122c-4788-819b-110e76cbee27\"}, {\"line\": {\"dash\": \"2px,6px\", \"shape\": \"spline\"}, \"marker\": {\"symbol\": \"star\"}, \"name\": \"2\", \"x\": [0.36939116477966305, 0.3389352607727051, 0.3068853378295898, 0.2878029441833496, 0.3063541030883789, 0.3406628894805908, 0.3692296886444092], \"y\": [-0.45585722923278804, -0.2862713813781738, -0.14797496795654297, -4.541603266261518e-05, 0.14835449695587158, 0.28880069732666014, 0.451233959197998], \"type\": \"scatter\", \"uid\": \"081c71c4-3676-41dd-bbd5-c8bc2f90a5d5\"}, {\"line\": {\"dash\": \"2px,6px\", \"shape\": \"spline\"}, \"marker\": {\"symbol\": \"star\"}, \"name\": \"3\", \"x\": [0.49604633331298825, 0.4986719512939453, 0.4820012855529785, 0.4767746543884277, 0.49149805068969726, 0.4918904113769531, 0.49885620117187496], \"y\": [-0.4938923835754394, -0.3274346923828125, -0.16933658123016357, -0.0006621075980365276, 0.16716429233551025, 0.3229553890228271, 0.5023735427856445], \"type\": \"scatter\", \"uid\": \"45d0da5f-59e2-4ff6-a7ee-e13345d8851c\"}, {\"line\": {\"dash\": \"2px,6px\", \"shape\": \"spline\"}, \"marker\": {\"symbol\": \"star\"}, \"name\": \"4\", \"x\": [0.6591514205932617, 0.6822454833984375, 0.6937431907653808, 0.6958654975891113, 0.6987220001220703, 0.6778516387939453, 0.6610672187805176], \"y\": [-0.4897840118408203, -0.3315732479095459, -0.17259641647338866, 0.0010115489736199378, 0.17111105918884276, 0.3289607048034668, 0.49837148666381836], \"type\": \"scatter\", \"uid\": \"54e85180-2bdd-4d77-afe9-5037dcbc000c\"}, {\"line\": {\"dash\": \"2px,6px\", \"shape\": \"spline\"}, \"marker\": {\"symbol\": \"star\"}, \"name\": \"5\", \"x\": [0.815196762084961, 0.8605083847045898, 0.8941831970214843, 0.9050537109375, 0.8957990455627441, 0.8574292945861816, 0.8161811828613281], \"y\": [-0.45181148529052734, -0.32610191345214845, -0.16934894084930419, 0.0014656945690512658, 0.16800520420074463, 0.3240410041809082, 0.47516126632690425], \"type\": \"scatter\", \"uid\": \"7f58bf7e-0849-4203-bc9a-d107a855e889\"}, {\"line\": {\"dash\": \"2px,6px\", \"shape\": \"spline\"}, \"marker\": {\"symbol\": \"star\"}, \"name\": \"6\", \"x\": [0.9141083908081055, 0.9927778244018555, 1.0440301895141602, 1.0635079193115233, 1.043038215637207, 0.9880208587646484, 0.9119764709472656], \"y\": [-0.40715938568115234, -0.3209428596496582, -0.16275657176971434, 0.00016776773147284983, 0.16154010772705077, 0.3105284214019775, 0.41259824752807617], \"type\": \"scatter\", \"uid\": \"952062d9-6fe7-419d-9bdb-79498cba4f1e\"}, {\"line\": {\"shape\": \"spline\"}, \"name\": \"7\", \"x\": [0.14438417553901672, 0.07956094294786453, 0.0352223664522171, 0.018454231321811676, 0.03488873690366745, 0.08019451051950455, 0.14615343511104584], \"y\": [-0.23577260971069336, -0.12979644536972046, -0.056844890117645264, 0.0015140380710363388, 0.05441303551197052, 0.13856671750545502, 0.22567713260650635], \"type\": \"scatter\", \"uid\": \"c88767b7-b6e3-4bc0-9cb2-5b8d9638c4da\"}, {\"line\": {\"shape\": \"spline\"}, \"name\": \"8\", \"x\": [0.2309603989124298, 0.18800455331802368, 0.15982793271541595, 0.14761215448379517, 0.15978562831878662, 0.1910790055990219, 0.23010291159152985], \"y\": [-0.305841326713562, -0.19331753253936768, -0.09495306015014648, 1.3094395399093628e-06, 0.09482143819332123, 0.1977027952671051, 0.30000948905944824], \"type\": \"scatter\", \"uid\": \"097ad65c-641c-4148-99fc-c8303f373957\"}, {\"line\": {\"shape\": \"spline\"}, \"name\": \"9\", \"x\": [0.29637983441352844, 0.2681453227996826, 0.24725498259067535, 0.2367686629295349, 0.2481541633605957, 0.27085092663764954, 0.2956197261810303], \"y\": [-0.35070866346359253, -0.22836309671401978, -0.11602222919464111, -0.0006072521209716797, 0.11647316068410873, 0.22989627718925476, 0.3445360064506531], \"type\": \"scatter\", \"uid\": \"f989daab-8316-4f6d-9149-2da84b6c5ac9\"}, {\"line\": {\"shape\": \"spline\"}, \"name\": \"10\", \"x\": [0.35212475061416626, 0.3345569372177124, 0.3179292678833008, 0.3085380494594574, 0.3199981153011322, 0.33576226234436035, 0.3525170683860779], \"y\": [-0.38118940591812134, -0.2497919201850891, -0.12871217727661133, -0.0006981492042541504, 0.1287475824356079, 0.24903504550457, 0.37359076738357544], \"type\": \"scatter\", \"uid\": \"7e929dd0-82a6-4af9-a500-372ebae6b685\"}, {\"line\": {\"shape\": \"spline\"}, \"name\": \"11\", \"x\": [0.4650571346282959, 0.46380823850631714, 0.46018338203430176, 0.45541518926620483, 0.4639059603214264, 0.4627310633659363, 0.467016339302063], \"y\": [-0.4152986407279968, -0.27797913551330566, -0.14573156833648682, -0.00020200014114379883, 0.1454874873161316, 0.2766553461551666, 0.41188937425613403], \"type\": \"scatter\", \"uid\": \"c499851b-ee26-406d-86c5-94e54b5f7fb7\"}, {\"line\": {\"shape\": \"spline\"}, \"name\": \"12\", \"x\": [0.5869118571281433, 0.6011382341384888, 0.6115729212760925, 0.6119168400764465, 0.6148898601531982, 0.599453330039978, 0.5890600681304932], \"y\": [-0.427909791469574, -0.29057735204696655, -0.15333282947540283, 0.000785493291914463, 0.1531548947095871, 0.291533499956131, 0.43055784702301025], \"type\": \"scatter\", \"uid\": \"daa5041f-ef0f-4286-8e7f-4914e91b8b25\"}, {\"line\": {\"shape\": \"spline\"}, \"name\": \"13\", \"x\": [0.731378436088562, 0.767353892326355, 0.788976788520813, 0.7953437566757202, 0.7913477420806885, 0.7659487128257751, 0.7327543497085571], \"y\": [-0.4188193678855896, -0.2846781611442566, -0.14898616075515747, 0.0011639688163995743, 0.1477871537208557, 0.284650057554245, 0.42230796813964844], \"type\": \"scatter\", \"uid\": \"e7e7d572-b449-4c38-9895-d7d0bdbeb0e2\"}, {\"line\": {\"shape\": \"spline\"}, \"name\": \"14\", \"x\": [0.8179857730865479, 0.8709279298782349, 0.8999401926994324, 0.9109060764312744, 0.9014838933944702, 0.8694334626197815, 0.8188475370407104], \"y\": [-0.3995715379714966, -0.2762410640716553, -0.14333879947662354, 0.0009984662756323814, 0.14086875319480896, 0.27417823672294617, 0.4003274440765381], \"type\": \"scatter\", \"uid\": \"b7030adc-321e-4033-9249-e972c634db05\"}, {\"line\": {\"shape\": \"spline\"}, \"name\": \"15\", \"x\": [0.9179748296737671, 0.9958373308181763, 1.039241909980774, 1.0579711198806763, 1.0389484167099, 0.994137704372406, 0.91758131980896], \"y\": [-0.3620307445526123, -0.2695896029472351, -0.13913404941558838, 0.0005262573249638081, 0.1353558599948883, 0.26507899165153503, 0.3605930507183075], \"type\": \"scatter\", \"uid\": \"be97ba99-35f0-4506-9dc9-3182be34c22a\"}], {\"height\": 600, \"hovermode\": \"closest\", \"title\": {\"text\": \"Model generated curves XY Top View\"}, \"width\": 600, \"xaxis\": {\"range\": [-0.1, 1.2], \"title\": {\"text\": \"X\"}}, \"yaxis\": {\"range\": [-0.6, 0.6], \"title\": {\"text\": \"Y\"}}}, {\"showLink\": false, \"linkText\": \"Export to plot.ly\", \"plotlyServerURL\": \"https://plot.ly\"})});</script>"
      ]
     },
     "metadata": {},
     "output_type": "display_data"
    }
   ],
   "source": [
    "i = 5\n",
    "ii = 6\n",
    "xOffset=0\n",
    "yOffset=7\n",
    "colPoints=7\n",
    "\n",
    "gx1 = gy.FormatNetworkToGraphColumns(nc[i], xOffset, yOffset, colPoints)\n",
    "gx2 = gy.FormatNetworkToGraphColumns(ph2t[ii], xOffset, yOffset, colPoints)\n",
    "gx = np.concatenate((gx1,gx2),axis=0)\n",
    "layout = go.Layout(\n",
    "    title = 'Initial Curves',\n",
    "    height = 600,\n",
    "    width = 600,\n",
    "    hovermode= 'closest',\n",
    "    xaxis= dict(\n",
    "        title= 'X',\n",
    "        range = [-.1,1.2],\n",
    "    ),\n",
    "    yaxis=dict(\n",
    "        title= 'Y',\n",
    "        range = [-.6,.6],\n",
    "    )\n",
    ")\n",
    "layout.title = 'Model generated curves XY Top View'\n",
    "f = gy.graphCurves(gx, layout, dashRange=range(0,7))\n",
    "offline.iplot(f)"
   ]
  },
  {
   "cell_type": "code",
   "execution_count": 27,
   "metadata": {},
   "outputs": [
    {
     "data": {
      "application/vnd.plotly.v1+json": {
       "config": {
        "linkText": "Export to plot.ly",
        "plotlyServerURL": "https://plot.ly",
        "showLink": false
       },
       "data": [
        {
         "line": {
          "dash": "2px,6px",
          "shape": "spline"
         },
         "marker": {
          "symbol": "star"
         },
         "name": "0",
         "type": "scatter",
         "uid": "ea46c000-e0b8-48f9-8dbe-53ee26816f76",
         "x": [
          -0.06672694444656371,
          -0.03091103196144104,
          -0.0073752889037132265,
          -0.0009128819592297076,
          0.006836265921592712,
          0.02490627586841583,
          0.06262355804443359
         ],
         "y": [
          0.047002937793731686,
          0.0045937058329582215,
          -0.01202482223510742,
          -0.012107627391815185,
          -0.012650189995765686,
          0.004558900594711304,
          0.04521091103553772
         ]
        },
        {
         "line": {
          "dash": "2px,6px",
          "shape": "spline"
         },
         "marker": {
          "symbol": "star"
         },
         "name": "1",
         "type": "scatter",
         "uid": "4485fa8d-f96e-4f76-85e2-84c1fc6517a4",
         "x": [
          -0.11550851583480834,
          -0.06963675498962402,
          -0.033024147748947144,
          -0.0013250833377242087,
          0.03148274302482605,
          0.06668413639068603,
          0.11026407480239868
         ],
         "y": [
          0.14856422424316407,
          0.12684672832489013,
          0.11798799276351929,
          0.11147111177444458,
          0.11771972894668578,
          0.12619035243988036,
          0.15076675415039062
         ]
        },
        {
         "line": {
          "dash": "2px,6px",
          "shape": "spline"
         },
         "marker": {
          "symbol": "star"
         },
         "name": "2",
         "type": "scatter",
         "uid": "fab8d3dd-5984-4966-abfa-7bb6012bf53d",
         "x": [
          -0.1449355888366699,
          -0.09969720840454101,
          -0.05227600336074829,
          -0.0007096712663769722,
          0.051067950725555415,
          0.09671194553375244,
          0.1426944351196289
         ],
         "y": [
          0.30042898178100585,
          0.2859998416900635,
          0.2750240421295166,
          0.27113310813903807,
          0.27628254890441895,
          0.28620606422424316,
          0.3010578346252441
         ]
        },
        {
         "line": {
          "dash": "2px,6px",
          "shape": "spline"
         },
         "marker": {
          "symbol": "star"
         },
         "name": "3",
         "type": "scatter",
         "uid": "fcb8069e-a31b-4cf3-aabc-5009b17ecf30",
         "x": [
          -0.16631682872772216,
          -0.12240810871124268,
          -0.06613750219345092,
          0.0008142403699457645,
          0.06708101034164428,
          0.12250365257263184,
          0.160572566986084
         ],
         "y": [
          0.4517308616638183,
          0.4412448978424072,
          0.4341275596618652,
          0.43067576408386227,
          0.43281932830810543,
          0.44044349670410154,
          0.4533009338378906
         ]
        },
        {
         "line": {
          "dash": "2px,6px",
          "shape": "spline"
         },
         "marker": {
          "symbol": "star"
         },
         "name": "4",
         "type": "scatter",
         "uid": "6ec70e4b-75c5-41f1-b0a5-ad43b827723c",
         "x": [
          -0.153489933013916,
          -0.11023910522460938,
          -0.059263107776641843,
          0.0011296355724334716,
          0.054617947340011595,
          0.10643889427185058,
          0.14800529479980468
         ],
         "y": [
          0.6377574920654296,
          0.6369814109802245,
          0.6320343589782714,
          0.632892665863037,
          0.6325689697265625,
          0.6362385177612304,
          0.6386773681640625
         ]
        },
        {
         "line": {
          "dash": "2px,6px",
          "shape": "spline"
         },
         "marker": {
          "symbol": "star"
         },
         "name": "5",
         "type": "scatter",
         "uid": "785a81a1-7a67-47f6-ad5b-a2449a1476bd",
         "x": [
          -0.11737694978713989,
          -0.08228927135467529,
          -0.04590418696403503,
          -6.42177416011691e-05,
          0.03889033555984497,
          0.07814709663391113,
          0.11083342552185058
         ],
         "y": [
          0.7880121231079101,
          0.8021530151367188,
          0.8105208206176757,
          0.8156421661376952,
          0.811508331298828,
          0.8025580215454101,
          0.7875312423706055
         ]
        },
        {
         "line": {
          "dash": "2px,6px",
          "shape": "spline"
         },
         "marker": {
          "symbol": "star"
         },
         "name": "6",
         "type": "scatter",
         "uid": "e13adfa3-5aee-4a64-92be-875d277dc36b",
         "x": [
          -0.05420661449432373,
          -0.035812368392944334,
          -0.02295743107795715,
          -0.00027382300235331055,
          0.018420224189758302,
          0.034130887985229494,
          0.05325080394744873
         ],
         "y": [
          0.9591097640991211,
          0.9749245834350586,
          0.9838375854492187,
          0.9875178909301757,
          0.9835391235351563,
          0.9752544021606445,
          0.9589279747009277
         ]
        },
        {
         "line": {
          "shape": "spline"
         },
         "name": "7",
         "type": "scatter",
         "uid": "5524d201-685f-4060-9e1d-3ad0bbbbaac6",
         "x": [
          -0.04689323902130127,
          -0.025413334369659424,
          -0.0096169114112854,
          0.0005502593703567982,
          0.00945793092250824,
          0.023322224617004395,
          0.05045858025550842
         ],
         "y": [
          0.027993541210889816,
          0.003839530050754547,
          -0.00320512056350708,
          -0.0043357014656066895,
          -0.004148542881011963,
          0.0032129387836903334,
          0.028248369693756104
         ]
        },
        {
         "line": {
          "shape": "spline"
         },
         "name": "8",
         "type": "scatter",
         "uid": "4a7d088e-a253-4e32-999e-657e88d8109b",
         "x": [
          -0.09530246257781982,
          -0.06238752603530884,
          -0.0304679274559021,
          -7.76052474975586e-05,
          0.030305638909339905,
          0.06146472692489624,
          0.09807264804840088
         ],
         "y": [
          0.14567625522613525,
          0.12136420607566833,
          0.11048346012830734,
          0.10609234869480133,
          0.10813680291175842,
          0.1209646537899971,
          0.14505083858966827
         ]
        },
        {
         "line": {
          "shape": "spline"
         },
         "name": "9",
         "type": "scatter",
         "uid": "794d0ffd-a7c8-41ec-a228-715c1a728a3c",
         "x": [
          -0.12162226438522339,
          -0.07955402135848999,
          -0.040650010108947754,
          -9.375810623168945e-05,
          0.04013220965862274,
          0.07884642481803894,
          0.11942893266677856
         ],
         "y": [
          0.22149837017059326,
          0.20254090428352356,
          0.1922483891248703,
          0.1881624162197113,
          0.1908356249332428,
          0.20212674140930176,
          0.22078540921211243
         ]
        },
        {
         "line": {
          "shape": "spline"
         },
         "name": "10",
         "type": "scatter",
         "uid": "40a52568-f4dc-414e-8403-739c6a73e8dc",
         "x": [
          -0.13931775093078613,
          -0.09080201387405396,
          -0.047198474407196045,
          0.00012707337737083435,
          0.04597523808479309,
          0.08853611350059509,
          0.1322595775127411
         ],
         "y": [
          0.2823307514190674,
          0.2682172656059265,
          0.2597934901714325,
          0.25684207677841187,
          0.2591678202152252,
          0.26764294505119324,
          0.28205549716949463
         ]
        },
        {
         "line": {
          "shape": "spline"
         },
         "name": "11",
         "type": "scatter",
         "uid": "5409d597-5bff-4e89-bd5d-c4b2270a990b",
         "x": [
          -0.157859206199646,
          -0.10632562637329102,
          -0.05617254972457886,
          0.0005110623314976692,
          0.053570881485939026,
          0.10064917802810669,
          0.1475670039653778
         ],
         "y": [
          0.410780131816864,
          0.39954471588134766,
          0.39259788393974304,
          0.390250027179718,
          0.39228618144989014,
          0.39867210388183594,
          0.41090285778045654
         ]
        },
        {
         "line": {
          "shape": "spline"
         },
         "name": "12",
         "type": "scatter",
         "uid": "73f0f692-0cbb-400a-b259-a636132f312f",
         "x": [
          -0.15513277053833008,
          -0.10851460695266724,
          -0.05783873796463013,
          0.0006119771860539913,
          0.054374709725379944,
          0.1026969850063324,
          0.14785370230674744
         ],
         "y": [
          0.5511399507522583,
          0.5408085584640503,
          0.5339850783348083,
          0.5316691994667053,
          0.5336896777153015,
          0.5400164723396301,
          0.5512973070144653
         ]
        },
        {
         "line": {
          "shape": "spline"
         },
         "name": "13",
         "type": "scatter",
         "uid": "79b7b507-8993-4a98-81f0-a9c326b83043",
         "x": [
          -0.13383007049560547,
          -0.09223920106887817,
          -0.049155592918395996,
          0.0005087503232061863,
          0.04495839774608612,
          0.0876527726650238,
          0.12849631905555725
         ],
         "y": [
          0.7030812501907349,
          0.7029279470443726,
          0.7009987831115723,
          0.7011234164237976,
          0.7004961967468262,
          0.7029052376747131,
          0.704817533493042
         ]
        },
        {
         "line": {
          "shape": "spline"
         },
         "name": "14",
         "type": "scatter",
         "uid": "64447781-6ccc-4a72-b634-0dadffddb8e5",
         "x": [
          -0.10648220777511597,
          -0.07211202383041382,
          -0.03876286745071411,
          0.00042170146480202675,
          0.034913256764411926,
          0.06882509589195251,
          0.10235095024108887
         ],
         "y": [
          0.7963535189628601,
          0.8030922412872314,
          0.804707944393158,
          0.8063814640045166,
          0.8043044805526733,
          0.8034690022468567,
          0.7983230948448181
         ]
        },
        {
         "line": {
          "shape": "spline"
         },
         "name": "15",
         "type": "scatter",
         "uid": "89a4615c-f3e6-4a36-97b3-cdf80b4fd302",
         "x": [
          -0.052291274070739746,
          -0.03712129592895508,
          -0.021760284900665283,
          0.00039209891110658646,
          0.02005930244922638,
          0.03641381859779358,
          0.052613645792007446
         ],
         "y": [
          0.9300026297569275,
          0.9400889873504639,
          0.9434486031532288,
          0.945202648639679,
          0.943781316280365,
          0.940337061882019,
          0.9298213124275208
         ]
        }
       ],
       "layout": {
        "height": 600,
        "hovermode": "closest",
        "title": {
         "text": "Model generated curves XY Top View"
        },
        "width": 600,
        "xaxis": {
         "range": [
          -0.3,
          0.3
         ],
         "title": {
          "text": "X"
         }
        },
        "yaxis": {
         "range": [
          -0.1,
          1.3
         ],
         "title": {
          "text": "Y"
         }
        }
       }
      },
      "text/html": [
       "<div id=\"ab71e4a5-0c2f-4c76-a7f9-5c769d87c027\" style=\"height: 600px; width: 600px;\" class=\"plotly-graph-div\"></div><script type=\"text/javascript\">require([\"plotly\"], function(Plotly) { window.PLOTLYENV=window.PLOTLYENV || {};window.PLOTLYENV.BASE_URL=\"https://plot.ly\";Plotly.newPlot(\"ab71e4a5-0c2f-4c76-a7f9-5c769d87c027\", [{\"line\": {\"dash\": \"2px,6px\", \"shape\": \"spline\"}, \"marker\": {\"symbol\": \"star\"}, \"name\": \"0\", \"x\": [-0.06672694444656371, -0.03091103196144104, -0.0073752889037132265, -0.0009128819592297076, 0.006836265921592712, 0.02490627586841583, 0.06262355804443359], \"y\": [0.047002937793731686, 0.0045937058329582215, -0.01202482223510742, -0.012107627391815185, -0.012650189995765686, 0.004558900594711304, 0.04521091103553772], \"type\": \"scatter\", \"uid\": \"ea46c000-e0b8-48f9-8dbe-53ee26816f76\"}, {\"line\": {\"dash\": \"2px,6px\", \"shape\": \"spline\"}, \"marker\": {\"symbol\": \"star\"}, \"name\": \"1\", \"x\": [-0.11550851583480834, -0.06963675498962402, -0.033024147748947144, -0.0013250833377242087, 0.03148274302482605, 0.06668413639068603, 0.11026407480239868], \"y\": [0.14856422424316407, 0.12684672832489013, 0.11798799276351929, 0.11147111177444458, 0.11771972894668578, 0.12619035243988036, 0.15076675415039062], \"type\": \"scatter\", \"uid\": \"4485fa8d-f96e-4f76-85e2-84c1fc6517a4\"}, {\"line\": {\"dash\": \"2px,6px\", \"shape\": \"spline\"}, \"marker\": {\"symbol\": \"star\"}, \"name\": \"2\", \"x\": [-0.1449355888366699, -0.09969720840454101, -0.05227600336074829, -0.0007096712663769722, 0.051067950725555415, 0.09671194553375244, 0.1426944351196289], \"y\": [0.30042898178100585, 0.2859998416900635, 0.2750240421295166, 0.27113310813903807, 0.27628254890441895, 0.28620606422424316, 0.3010578346252441], \"type\": \"scatter\", \"uid\": \"fab8d3dd-5984-4966-abfa-7bb6012bf53d\"}, {\"line\": {\"dash\": \"2px,6px\", \"shape\": \"spline\"}, \"marker\": {\"symbol\": \"star\"}, \"name\": \"3\", \"x\": [-0.16631682872772216, -0.12240810871124268, -0.06613750219345092, 0.0008142403699457645, 0.06708101034164428, 0.12250365257263184, 0.160572566986084], \"y\": [0.4517308616638183, 0.4412448978424072, 0.4341275596618652, 0.43067576408386227, 0.43281932830810543, 0.44044349670410154, 0.4533009338378906], \"type\": \"scatter\", \"uid\": \"fcb8069e-a31b-4cf3-aabc-5009b17ecf30\"}, {\"line\": {\"dash\": \"2px,6px\", \"shape\": \"spline\"}, \"marker\": {\"symbol\": \"star\"}, \"name\": \"4\", \"x\": [-0.153489933013916, -0.11023910522460938, -0.059263107776641843, 0.0011296355724334716, 0.054617947340011595, 0.10643889427185058, 0.14800529479980468], \"y\": [0.6377574920654296, 0.6369814109802245, 0.6320343589782714, 0.632892665863037, 0.6325689697265625, 0.6362385177612304, 0.6386773681640625], \"type\": \"scatter\", \"uid\": \"6ec70e4b-75c5-41f1-b0a5-ad43b827723c\"}, {\"line\": {\"dash\": \"2px,6px\", \"shape\": \"spline\"}, \"marker\": {\"symbol\": \"star\"}, \"name\": \"5\", \"x\": [-0.11737694978713989, -0.08228927135467529, -0.04590418696403503, -6.42177416011691e-05, 0.03889033555984497, 0.07814709663391113, 0.11083342552185058], \"y\": [0.7880121231079101, 0.8021530151367188, 0.8105208206176757, 0.8156421661376952, 0.811508331298828, 0.8025580215454101, 0.7875312423706055], \"type\": \"scatter\", \"uid\": \"785a81a1-7a67-47f6-ad5b-a2449a1476bd\"}, {\"line\": {\"dash\": \"2px,6px\", \"shape\": \"spline\"}, \"marker\": {\"symbol\": \"star\"}, \"name\": \"6\", \"x\": [-0.05420661449432373, -0.035812368392944334, -0.02295743107795715, -0.00027382300235331055, 0.018420224189758302, 0.034130887985229494, 0.05325080394744873], \"y\": [0.9591097640991211, 0.9749245834350586, 0.9838375854492187, 0.9875178909301757, 0.9835391235351563, 0.9752544021606445, 0.9589279747009277], \"type\": \"scatter\", \"uid\": \"e13adfa3-5aee-4a64-92be-875d277dc36b\"}, {\"line\": {\"shape\": \"spline\"}, \"name\": \"7\", \"x\": [-0.04689323902130127, -0.025413334369659424, -0.0096169114112854, 0.0005502593703567982, 0.00945793092250824, 0.023322224617004395, 0.05045858025550842], \"y\": [0.027993541210889816, 0.003839530050754547, -0.00320512056350708, -0.0043357014656066895, -0.004148542881011963, 0.0032129387836903334, 0.028248369693756104], \"type\": \"scatter\", \"uid\": \"5524d201-685f-4060-9e1d-3ad0bbbbaac6\"}, {\"line\": {\"shape\": \"spline\"}, \"name\": \"8\", \"x\": [-0.09530246257781982, -0.06238752603530884, -0.0304679274559021, -7.76052474975586e-05, 0.030305638909339905, 0.06146472692489624, 0.09807264804840088], \"y\": [0.14567625522613525, 0.12136420607566833, 0.11048346012830734, 0.10609234869480133, 0.10813680291175842, 0.1209646537899971, 0.14505083858966827], \"type\": \"scatter\", \"uid\": \"4a7d088e-a253-4e32-999e-657e88d8109b\"}, {\"line\": {\"shape\": \"spline\"}, \"name\": \"9\", \"x\": [-0.12162226438522339, -0.07955402135848999, -0.040650010108947754, -9.375810623168945e-05, 0.04013220965862274, 0.07884642481803894, 0.11942893266677856], \"y\": [0.22149837017059326, 0.20254090428352356, 0.1922483891248703, 0.1881624162197113, 0.1908356249332428, 0.20212674140930176, 0.22078540921211243], \"type\": \"scatter\", \"uid\": \"794d0ffd-a7c8-41ec-a228-715c1a728a3c\"}, {\"line\": {\"shape\": \"spline\"}, \"name\": \"10\", \"x\": [-0.13931775093078613, -0.09080201387405396, -0.047198474407196045, 0.00012707337737083435, 0.04597523808479309, 0.08853611350059509, 0.1322595775127411], \"y\": [0.2823307514190674, 0.2682172656059265, 0.2597934901714325, 0.25684207677841187, 0.2591678202152252, 0.26764294505119324, 0.28205549716949463], \"type\": \"scatter\", \"uid\": \"40a52568-f4dc-414e-8403-739c6a73e8dc\"}, {\"line\": {\"shape\": \"spline\"}, \"name\": \"11\", \"x\": [-0.157859206199646, -0.10632562637329102, -0.05617254972457886, 0.0005110623314976692, 0.053570881485939026, 0.10064917802810669, 0.1475670039653778], \"y\": [0.410780131816864, 0.39954471588134766, 0.39259788393974304, 0.390250027179718, 0.39228618144989014, 0.39867210388183594, 0.41090285778045654], \"type\": \"scatter\", \"uid\": \"5409d597-5bff-4e89-bd5d-c4b2270a990b\"}, {\"line\": {\"shape\": \"spline\"}, \"name\": \"12\", \"x\": [-0.15513277053833008, -0.10851460695266724, -0.05783873796463013, 0.0006119771860539913, 0.054374709725379944, 0.1026969850063324, 0.14785370230674744], \"y\": [0.5511399507522583, 0.5408085584640503, 0.5339850783348083, 0.5316691994667053, 0.5336896777153015, 0.5400164723396301, 0.5512973070144653], \"type\": \"scatter\", \"uid\": \"73f0f692-0cbb-400a-b259-a636132f312f\"}, {\"line\": {\"shape\": \"spline\"}, \"name\": \"13\", \"x\": [-0.13383007049560547, -0.09223920106887817, -0.049155592918395996, 0.0005087503232061863, 0.04495839774608612, 0.0876527726650238, 0.12849631905555725], \"y\": [0.7030812501907349, 0.7029279470443726, 0.7009987831115723, 0.7011234164237976, 0.7004961967468262, 0.7029052376747131, 0.704817533493042], \"type\": \"scatter\", \"uid\": \"79b7b507-8993-4a98-81f0-a9c326b83043\"}, {\"line\": {\"shape\": \"spline\"}, \"name\": \"14\", \"x\": [-0.10648220777511597, -0.07211202383041382, -0.03876286745071411, 0.00042170146480202675, 0.034913256764411926, 0.06882509589195251, 0.10235095024108887], \"y\": [0.7963535189628601, 0.8030922412872314, 0.804707944393158, 0.8063814640045166, 0.8043044805526733, 0.8034690022468567, 0.7983230948448181], \"type\": \"scatter\", \"uid\": \"64447781-6ccc-4a72-b634-0dadffddb8e5\"}, {\"line\": {\"shape\": \"spline\"}, \"name\": \"15\", \"x\": [-0.052291274070739746, -0.03712129592895508, -0.021760284900665283, 0.00039209891110658646, 0.02005930244922638, 0.03641381859779358, 0.052613645792007446], \"y\": [0.9300026297569275, 0.9400889873504639, 0.9434486031532288, 0.945202648639679, 0.943781316280365, 0.940337061882019, 0.9298213124275208], \"type\": \"scatter\", \"uid\": \"89a4615c-f3e6-4a36-97b3-cdf80b4fd302\"}], {\"height\": 600, \"hovermode\": \"closest\", \"title\": {\"text\": \"Model generated curves XY Top View\"}, \"width\": 600, \"xaxis\": {\"range\": [-0.3, 0.3], \"title\": {\"text\": \"X\"}}, \"yaxis\": {\"range\": [-0.1, 1.3], \"title\": {\"text\": \"Y\"}}}, {\"showLink\": false, \"linkText\": \"Export to plot.ly\", \"plotlyServerURL\": \"https://plot.ly\"})});</script>"
      ],
      "text/vnd.plotly.v1+html": [
       "<div id=\"ab71e4a5-0c2f-4c76-a7f9-5c769d87c027\" style=\"height: 600px; width: 600px;\" class=\"plotly-graph-div\"></div><script type=\"text/javascript\">require([\"plotly\"], function(Plotly) { window.PLOTLYENV=window.PLOTLYENV || {};window.PLOTLYENV.BASE_URL=\"https://plot.ly\";Plotly.newPlot(\"ab71e4a5-0c2f-4c76-a7f9-5c769d87c027\", [{\"line\": {\"dash\": \"2px,6px\", \"shape\": \"spline\"}, \"marker\": {\"symbol\": \"star\"}, \"name\": \"0\", \"x\": [-0.06672694444656371, -0.03091103196144104, -0.0073752889037132265, -0.0009128819592297076, 0.006836265921592712, 0.02490627586841583, 0.06262355804443359], \"y\": [0.047002937793731686, 0.0045937058329582215, -0.01202482223510742, -0.012107627391815185, -0.012650189995765686, 0.004558900594711304, 0.04521091103553772], \"type\": \"scatter\", \"uid\": \"ea46c000-e0b8-48f9-8dbe-53ee26816f76\"}, {\"line\": {\"dash\": \"2px,6px\", \"shape\": \"spline\"}, \"marker\": {\"symbol\": \"star\"}, \"name\": \"1\", \"x\": [-0.11550851583480834, -0.06963675498962402, -0.033024147748947144, -0.0013250833377242087, 0.03148274302482605, 0.06668413639068603, 0.11026407480239868], \"y\": [0.14856422424316407, 0.12684672832489013, 0.11798799276351929, 0.11147111177444458, 0.11771972894668578, 0.12619035243988036, 0.15076675415039062], \"type\": \"scatter\", \"uid\": \"4485fa8d-f96e-4f76-85e2-84c1fc6517a4\"}, {\"line\": {\"dash\": \"2px,6px\", \"shape\": \"spline\"}, \"marker\": {\"symbol\": \"star\"}, \"name\": \"2\", \"x\": [-0.1449355888366699, -0.09969720840454101, -0.05227600336074829, -0.0007096712663769722, 0.051067950725555415, 0.09671194553375244, 0.1426944351196289], \"y\": [0.30042898178100585, 0.2859998416900635, 0.2750240421295166, 0.27113310813903807, 0.27628254890441895, 0.28620606422424316, 0.3010578346252441], \"type\": \"scatter\", \"uid\": \"fab8d3dd-5984-4966-abfa-7bb6012bf53d\"}, {\"line\": {\"dash\": \"2px,6px\", \"shape\": \"spline\"}, \"marker\": {\"symbol\": \"star\"}, \"name\": \"3\", \"x\": [-0.16631682872772216, -0.12240810871124268, -0.06613750219345092, 0.0008142403699457645, 0.06708101034164428, 0.12250365257263184, 0.160572566986084], \"y\": [0.4517308616638183, 0.4412448978424072, 0.4341275596618652, 0.43067576408386227, 0.43281932830810543, 0.44044349670410154, 0.4533009338378906], \"type\": \"scatter\", \"uid\": \"fcb8069e-a31b-4cf3-aabc-5009b17ecf30\"}, {\"line\": {\"dash\": \"2px,6px\", \"shape\": \"spline\"}, \"marker\": {\"symbol\": \"star\"}, \"name\": \"4\", \"x\": [-0.153489933013916, -0.11023910522460938, -0.059263107776641843, 0.0011296355724334716, 0.054617947340011595, 0.10643889427185058, 0.14800529479980468], \"y\": [0.6377574920654296, 0.6369814109802245, 0.6320343589782714, 0.632892665863037, 0.6325689697265625, 0.6362385177612304, 0.6386773681640625], \"type\": \"scatter\", \"uid\": \"6ec70e4b-75c5-41f1-b0a5-ad43b827723c\"}, {\"line\": {\"dash\": \"2px,6px\", \"shape\": \"spline\"}, \"marker\": {\"symbol\": \"star\"}, \"name\": \"5\", \"x\": [-0.11737694978713989, -0.08228927135467529, -0.04590418696403503, -6.42177416011691e-05, 0.03889033555984497, 0.07814709663391113, 0.11083342552185058], \"y\": [0.7880121231079101, 0.8021530151367188, 0.8105208206176757, 0.8156421661376952, 0.811508331298828, 0.8025580215454101, 0.7875312423706055], \"type\": \"scatter\", \"uid\": \"785a81a1-7a67-47f6-ad5b-a2449a1476bd\"}, {\"line\": {\"dash\": \"2px,6px\", \"shape\": \"spline\"}, \"marker\": {\"symbol\": \"star\"}, \"name\": \"6\", \"x\": [-0.05420661449432373, -0.035812368392944334, -0.02295743107795715, -0.00027382300235331055, 0.018420224189758302, 0.034130887985229494, 0.05325080394744873], \"y\": [0.9591097640991211, 0.9749245834350586, 0.9838375854492187, 0.9875178909301757, 0.9835391235351563, 0.9752544021606445, 0.9589279747009277], \"type\": \"scatter\", \"uid\": \"e13adfa3-5aee-4a64-92be-875d277dc36b\"}, {\"line\": {\"shape\": \"spline\"}, \"name\": \"7\", \"x\": [-0.04689323902130127, -0.025413334369659424, -0.0096169114112854, 0.0005502593703567982, 0.00945793092250824, 0.023322224617004395, 0.05045858025550842], \"y\": [0.027993541210889816, 0.003839530050754547, -0.00320512056350708, -0.0043357014656066895, -0.004148542881011963, 0.0032129387836903334, 0.028248369693756104], \"type\": \"scatter\", \"uid\": \"5524d201-685f-4060-9e1d-3ad0bbbbaac6\"}, {\"line\": {\"shape\": \"spline\"}, \"name\": \"8\", \"x\": [-0.09530246257781982, -0.06238752603530884, -0.0304679274559021, -7.76052474975586e-05, 0.030305638909339905, 0.06146472692489624, 0.09807264804840088], \"y\": [0.14567625522613525, 0.12136420607566833, 0.11048346012830734, 0.10609234869480133, 0.10813680291175842, 0.1209646537899971, 0.14505083858966827], \"type\": \"scatter\", \"uid\": \"4a7d088e-a253-4e32-999e-657e88d8109b\"}, {\"line\": {\"shape\": \"spline\"}, \"name\": \"9\", \"x\": [-0.12162226438522339, -0.07955402135848999, -0.040650010108947754, -9.375810623168945e-05, 0.04013220965862274, 0.07884642481803894, 0.11942893266677856], \"y\": [0.22149837017059326, 0.20254090428352356, 0.1922483891248703, 0.1881624162197113, 0.1908356249332428, 0.20212674140930176, 0.22078540921211243], \"type\": \"scatter\", \"uid\": \"794d0ffd-a7c8-41ec-a228-715c1a728a3c\"}, {\"line\": {\"shape\": \"spline\"}, \"name\": \"10\", \"x\": [-0.13931775093078613, -0.09080201387405396, -0.047198474407196045, 0.00012707337737083435, 0.04597523808479309, 0.08853611350059509, 0.1322595775127411], \"y\": [0.2823307514190674, 0.2682172656059265, 0.2597934901714325, 0.25684207677841187, 0.2591678202152252, 0.26764294505119324, 0.28205549716949463], \"type\": \"scatter\", \"uid\": \"40a52568-f4dc-414e-8403-739c6a73e8dc\"}, {\"line\": {\"shape\": \"spline\"}, \"name\": \"11\", \"x\": [-0.157859206199646, -0.10632562637329102, -0.05617254972457886, 0.0005110623314976692, 0.053570881485939026, 0.10064917802810669, 0.1475670039653778], \"y\": [0.410780131816864, 0.39954471588134766, 0.39259788393974304, 0.390250027179718, 0.39228618144989014, 0.39867210388183594, 0.41090285778045654], \"type\": \"scatter\", \"uid\": \"5409d597-5bff-4e89-bd5d-c4b2270a990b\"}, {\"line\": {\"shape\": \"spline\"}, \"name\": \"12\", \"x\": [-0.15513277053833008, -0.10851460695266724, -0.05783873796463013, 0.0006119771860539913, 0.054374709725379944, 0.1026969850063324, 0.14785370230674744], \"y\": [0.5511399507522583, 0.5408085584640503, 0.5339850783348083, 0.5316691994667053, 0.5336896777153015, 0.5400164723396301, 0.5512973070144653], \"type\": \"scatter\", \"uid\": \"73f0f692-0cbb-400a-b259-a636132f312f\"}, {\"line\": {\"shape\": \"spline\"}, \"name\": \"13\", \"x\": [-0.13383007049560547, -0.09223920106887817, -0.049155592918395996, 0.0005087503232061863, 0.04495839774608612, 0.0876527726650238, 0.12849631905555725], \"y\": [0.7030812501907349, 0.7029279470443726, 0.7009987831115723, 0.7011234164237976, 0.7004961967468262, 0.7029052376747131, 0.704817533493042], \"type\": \"scatter\", \"uid\": \"79b7b507-8993-4a98-81f0-a9c326b83043\"}, {\"line\": {\"shape\": \"spline\"}, \"name\": \"14\", \"x\": [-0.10648220777511597, -0.07211202383041382, -0.03876286745071411, 0.00042170146480202675, 0.034913256764411926, 0.06882509589195251, 0.10235095024108887], \"y\": [0.7963535189628601, 0.8030922412872314, 0.804707944393158, 0.8063814640045166, 0.8043044805526733, 0.8034690022468567, 0.7983230948448181], \"type\": \"scatter\", \"uid\": \"64447781-6ccc-4a72-b634-0dadffddb8e5\"}, {\"line\": {\"shape\": \"spline\"}, \"name\": \"15\", \"x\": [-0.052291274070739746, -0.03712129592895508, -0.021760284900665283, 0.00039209891110658646, 0.02005930244922638, 0.03641381859779358, 0.052613645792007446], \"y\": [0.9300026297569275, 0.9400889873504639, 0.9434486031532288, 0.945202648639679, 0.943781316280365, 0.940337061882019, 0.9298213124275208], \"type\": \"scatter\", \"uid\": \"89a4615c-f3e6-4a36-97b3-cdf80b4fd302\"}], {\"height\": 600, \"hovermode\": \"closest\", \"title\": {\"text\": \"Model generated curves XY Top View\"}, \"width\": 600, \"xaxis\": {\"range\": [-0.3, 0.3], \"title\": {\"text\": \"X\"}}, \"yaxis\": {\"range\": [-0.1, 1.3], \"title\": {\"text\": \"Y\"}}}, {\"showLink\": false, \"linkText\": \"Export to plot.ly\", \"plotlyServerURL\": \"https://plot.ly\"})});</script>"
      ]
     },
     "metadata": {},
     "output_type": "display_data"
    }
   ],
   "source": [
    "i = 2\n",
    "ii = 3\n",
    "xOffset=7\n",
    "yOffset=14\n",
    "colPoints=7\n",
    "\n",
    "gx1 = gy.FormatNetworkToGraphColumns(nc[i], xOffset, yOffset, colPoints)\n",
    "gx2 = gy.FormatNetworkToGraphColumns(ph2t[ii], xOffset, yOffset, colPoints)\n",
    "gx = np.concatenate((gx1,gx2),axis=0)\n",
    "layout = go.Layout(\n",
    "    title = 'Initial Curves',\n",
    "    height = 600,\n",
    "    width = 600,\n",
    "    hovermode= 'closest',\n",
    "    xaxis= dict(\n",
    "        title= 'X',\n",
    "        range = [-.3,.3],\n",
    "    ),\n",
    "    yaxis=dict(\n",
    "        title= 'Y',\n",
    "        range = [-.1,1.3],\n",
    "    )\n",
    ")\n",
    "layout.title = 'Model generated curves XY Top View'\n",
    "f = gy.graphCurves(gx, layout, dashRange=range(0,7))\n",
    "offline.iplot(f)"
   ]
  },
  {
   "cell_type": "code",
   "execution_count": 18,
   "metadata": {},
   "outputs": [
    {
     "data": {
      "text/plain": [
       "'\\n7. Save 2D template model weights to file\\n\\n'"
      ]
     },
     "execution_count": 18,
     "metadata": {},
     "output_type": "execute_result"
    }
   ],
   "source": [
    "'''\n",
    "7. Save 2D template model weights to file\n",
    "\n",
    "'''\n",
    "\n",
    "# PATH = CURRENT_MODEL_SAVE_DIR +'templateModel0.pth'\n",
    "# torch.save(phModel.state_dict(), PATH)\n",
    "# PATH"
   ]
  },
  {
   "cell_type": "code",
   "execution_count": 19,
   "metadata": {},
   "outputs": [],
   "source": [
    "# bphOut = gy.FormatNetworkToBlender(phOut, xOffset=0, yOffset=7, zOffset=14, colPoints=7)\n",
    "# PATH = CURRENT_MODEL_SAVE_DIR +'bModelT0.json'\n",
    "\n",
    "# with open(PATH, 'w') as fp:\n",
    "#     json.dump(bphOut.tolist(),fp)\n",
    "    \n",
    "# PATH, bphOut.shape"
   ]
  }
 ],
 "metadata": {
  "kernelspec": {
   "display_name": "Python [conda env:pytorch]",
   "language": "python",
   "name": "conda-env-pytorch-py"
  },
  "language_info": {
   "codemirror_mode": {
    "name": "ipython",
    "version": 3
   },
   "file_extension": ".py",
   "mimetype": "text/x-python",
   "name": "python",
   "nbconvert_exporter": "python",
   "pygments_lexer": "ipython3",
   "version": "3.7.2"
  }
 },
 "nbformat": 4,
 "nbformat_minor": 2
}
