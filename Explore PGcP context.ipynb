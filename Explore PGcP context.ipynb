{
 "cells": [
  {
   "cell_type": "code",
   "execution_count": 1,
   "metadata": {},
   "outputs": [],
   "source": [
    "'''\n",
    "1. Load 2 template models T3 and T3 and \n",
    "   Load PhGecPh [\"Phenomenal\" to \"Generative with Context\" to \"Phenomenal\" spaces] Model \n",
    "2. Calculate phenomenal (ph) T2, T3 values from template models\n",
    "3. Graph template data\n",
    "5. Graph T2, T3 context curves for different time step outputs, from the geContext Model\n",
    "6. Calculate exploratory context curves for a timestep (timeIndices Index)\n",
    "    using a set of weights to offset from the context average toward the T2 and T3 context boundaries\n",
    "7. Graph exploritory Ge Context values for a time step \n",
    "8. Calculate Ph values for exploratory time and context values  \n",
    "9. Graph exploritory Ph curve against T2 and T3 reference shapes for a time and context vector\n",
    "10. Generate blender json data to graph phenomenal (leaf shapes) context exploration in 3D\n",
    "\n",
    "'''\n",
    "pass"
   ]
  },
  {
   "cell_type": "code",
   "execution_count": 2,
   "metadata": {},
   "outputs": [
    {
     "data": {
      "text/html": [
       "<script type=\"text/javascript\">window.PlotlyConfig = {MathJaxConfig: 'local'};</script><script type=\"text/javascript\">if (window.MathJax) {MathJax.Hub.Config({SVG: {font: \"STIX-Web\"}});}</script><script>requirejs.config({paths: { 'plotly': ['https://cdn.plot.ly/plotly-latest.min']},});if(!window._Plotly) {require(['plotly'],function(plotly) {window._Plotly=plotly;});}</script>"
      ],
      "text/vnd.plotly.v1+html": [
       "<script type=\"text/javascript\">window.PlotlyConfig = {MathJaxConfig: 'local'};</script><script type=\"text/javascript\">if (window.MathJax) {MathJax.Hub.Config({SVG: {font: \"STIX-Web\"}});}</script><script>requirejs.config({paths: { 'plotly': ['https://cdn.plot.ly/plotly-latest.min']},});if(!window._Plotly) {require(['plotly'],function(plotly) {window._Plotly=plotly;});}</script>"
      ]
     },
     "metadata": {},
     "output_type": "display_data"
    }
   ],
   "source": [
    "import torch as torch\n",
    "import torch.nn as nn\n",
    "import torch.nn.functional as F\n",
    "import torch.optim as optim\n",
    "\n",
    "import os\n",
    "import numpy as np\n",
    "import json \n",
    "import math as m\n",
    "import random\n",
    "import time\n",
    "import NNArt as gy\n",
    "from sympy.utilities.iterables import multiset_permutations\n",
    "\n",
    "import plotly as py\n",
    "import plotly.offline as offline\n",
    "import plotly.graph_objs as go\n",
    "import plotly.figure_factory as ff\n",
    "import plotly.io as pio\n",
    "\n",
    "CURRENT_MODEL_SAVE_DIR = './save/'\n",
    "\n",
    "offline.init_notebook_mode(connected=True) \n",
    "np.set_printoptions(precision=3, suppress=True)"
   ]
  },
  {
   "cell_type": "code",
   "execution_count": 3,
   "metadata": {},
   "outputs": [],
   "source": [
    "class Net(nn.Module):\n",
    "    def __init__(self, layerSizes, name):\n",
    "        super(Net, self).__init__()\n",
    "        self.shape = layerSizes\n",
    "        self.name = name\n",
    "        self.seq = nn.Sequential(\n",
    "            nn.Linear(layerSizes[0],layerSizes[1]),\n",
    "            nn.ELU(),          \n",
    "            nn.Linear(layerSizes[1],layerSizes[2]),\n",
    "            nn.ELU(),            \n",
    "            nn.Linear(layerSizes[2],layerSizes[3]),\n",
    "            nn.ELU()\n",
    "        )          \n",
    "    def forward(self, x):\n",
    "        return self.seq(x) "
   ]
  },
  {
   "cell_type": "code",
   "execution_count": 4,
   "metadata": {},
   "outputs": [],
   "source": [
    "def createContextValues(timeIndices=[0.,.5,1.], c1Range=[.2,.1], c2Range=[.1,0.], numLines=3):\n",
    "    '''\n",
    "    timeIndices[0] needs to be 0 (need to fix)\n",
    "    returns (numLines, numTimeIndices, 1 )\n",
    "    \n",
    "    '''    \n",
    "    clist=[]\n",
    "    for y1 in np.linspace(c1Range[0],c1Range[1],numLines):\n",
    "        for y2 in np.linspace(c2Range[0],c2Range[1],numLines):\n",
    "            m = (y1-y2)/(timeIndices[0]-timeIndices[-1]) #(y-y)/(x-x) slope \n",
    "            #if timeIndices[0]==0, y1 is yintercept\n",
    "            c = np.array([[m*x+y1] for x in timeIndices]) #c values for time indices\n",
    "            clist.append(c)\n",
    "            \n",
    "    return np.array(clist) \n"
   ]
  },
  {
   "cell_type": "code",
   "execution_count": 5,
   "metadata": {},
   "outputs": [],
   "source": [
    "def getContextSearchVectors(phTemplateModels, geContextModel, geTensor, timeIndex):\n",
    "    '''\n",
    "    generate a context avg and search vectors for each template context\n",
    "        the search vector is the delta between the template context and the average of the templates\n",
    "        Create Ph data from templates and geTensor to generating geCn values \n",
    "        Use geCn values to generate average and delta values for timeIndex\n",
    "\n",
    "    '''        \n",
    "\n",
    "    #translate geTensor to template Ph values\n",
    "    tphT0Out = phTemplateModels[0](torch.Tensor(geTensor))\n",
    "    tphT1Out = phTemplateModels[1](torch.Tensor(geTensor))\n",
    "    ph0TOut = tphT0Out.data.numpy()\n",
    "    ph1TOut = tphT1Out.data.numpy()\n",
    "\n",
    "    #geContextModel output from template generated ph values\n",
    "    tgeCn0 = geContextModel(tphT0Out)\n",
    "    tgeCn1 = geContextModel(tphT1Out)\n",
    "    geCn0 = tgeCn0.data.numpy()\n",
    "    geCn1 = tgeCn1.data.numpy()\n",
    "\n",
    "    gcAvg = ((geCn0+geCn1)/2)[timeIndex,:,2] #average of T0 and T1 values\n",
    "    gcDelta0 = (geCn0[timeIndex,:,2] - gcAvg) #delta between T0 and average\n",
    "    gcDelta1 = (geCn1[timeIndex,:,2] - gcAvg) #delta between T1 and average\n",
    "    \n",
    "    return gcAvg, np.array([gcDelta0, gcDelta1])\n"
   ]
  },
  {
   "cell_type": "code",
   "execution_count": 6,
   "metadata": {},
   "outputs": [],
   "source": [
    "def createPhFromContext(phContextModel, contextCurves, geTensor, timeIndex):\n",
    "    '''\n",
    "    Take geTensor and add context values for each context array\n",
    "    Then use the phContext model to translate it into Ph space\n",
    "    \n",
    "    contextCurves is a list of context values that match the numMorphSteps (i.e. geTensor.shape[1])\n",
    "    \n",
    "    '''\n",
    "    if geTensor.shape[1] != len(contextCurves[0]):\n",
    "        print('The morph dimension of geMatrix: {}, must equal the number of context values {}'\n",
    "              .format(geTensor.shape[1], len(contextCurves[0]))) \n",
    "        \n",
    "    geList=[]\n",
    "    for c in contextCurves:\n",
    "        cValue = np.reshape(c,[9,-1])\n",
    "        #add context to ge matrix\n",
    "        geList.append(np.concatenate((geTensor[timeIndex],cValue), axis=1))\n",
    "    geExplore = np.array(geList)   \n",
    "\n",
    "    #send through ph model to get ph values based on ge with context\n",
    "    return phContextModel(torch.Tensor(geExplore)).data.numpy()\n"
   ]
  },
  {
   "cell_type": "code",
   "execution_count": 7,
   "metadata": {},
   "outputs": [],
   "source": [
    "def createPhFromContextAcrossTime(phTemplateModels, geContextModel, phContextModel, geTensor, contextWeights):\n",
    "    '''\n",
    "    phTemplateModels [ph2tModel,ph3tModel] \n",
    "    geContextModel.shape [21, 15, 10, 3]\n",
    "    phContextModel.shape [3, 10, 15, 21]\n",
    "    geTensor [timeIndex, morphIndex, tm values (2)] (9, 9, 2)\n",
    "    return phTensors [timeIndex, morphIndex, 3d morph values]\n",
    "    \n",
    "    '''\n",
    "    pList=[]\n",
    "    for t in range(geTensor.shape[0]):\n",
    "        gcAvg, [gcDelta0, gcDelta1] = getContextSearchVectors(phTemplateModels, geCnModel, geTensor, t)\n",
    "        context = [contextWeights[0]*gcDelta0+contextWeights[1]*gcDelta1+gcAvg]\n",
    "        phExplore = createPhFromContext(phContextModel, context, geTensor, t)[:,1:] #suppress first value (just offset)\n",
    "        pList.append(phExplore[0])\n",
    "    return np.array(pList)\n",
    "    \n",
    "# phEx = createPhFromContextAcrossTime([ph2tModel,ph3tModel],geCnModel, phCnModel, geIn, [1.3,0.])\n",
    "# geCnModel.shape,phCnModel.shape,geIn.shape, phEx.shape"
   ]
  },
  {
   "cell_type": "code",
   "execution_count": 8,
   "metadata": {},
   "outputs": [
    {
     "data": {
      "text/plain": [
       "([2, 10, 15, 21], [2, 10, 15, 21])"
      ]
     },
     "execution_count": 8,
     "metadata": {},
     "output_type": "execute_result"
    }
   ],
   "source": [
    "'''\n",
    "1. Load 2 template models and PhGecPh Models\n",
    "\n",
    "'''\n",
    "\n",
    "ph0tModel = Net([2,10,15,21],'ph0tModel')\n",
    "ph1tModel = Net([2,10,15,21],'ph1tModel')\n",
    "\n",
    "path=CURRENT_MODEL_SAVE_DIR+'templateModel'\n",
    "ph0tModel.load_state_dict(torch.load(path+'0.pth'))\n",
    "ph1tModel.load_state_dict(torch.load(path+'1.pth'))\n",
    "\n",
    "PATH = CURRENT_MODEL_SAVE_DIR +'REL PhRcPh-T0T1-mask 11p05.pth'\n",
    "relCnModel = Net([21,15,10,3],'relCnModel')\n",
    "relCnModel.load_state_dict(torch.load(PATH))\n",
    "\n",
    "PATH = CURRENT_MODEL_SAVE_DIR +'PH PhRcPh-T0T1-mask 11p05.pth'\n",
    "phCnModel = Net([3,10,15,21],'phCnModel')\n",
    "phCnModel.load_state_dict(torch.load(PATH))\n",
    "\n",
    "ph0tModel.eval()\n",
    "ph1tModel.eval()\n",
    "relCnModel.eval()\n",
    "\n",
    "ph0tModel.shape, ph1tModel.shape,"
   ]
  },
  {
   "cell_type": "code",
   "execution_count": 9,
   "metadata": {},
   "outputs": [
    {
     "data": {
      "text/plain": [
       "((9, 9, 2), (9, 9, 4), (9, 9, 21))"
      ]
     },
     "execution_count": 9,
     "metadata": {},
     "output_type": "execute_result"
    }
   ],
   "source": [
    "'''\n",
    "2. Calculate ph T2, T3 values from templates\n",
    "\n",
    "'''\n",
    "\n",
    "morphIndices=[0.,0.1,.2,.3,.5,.7,.9,1.0, 1.1]\n",
    "timeIndices=[0.,0.1,.2,.3,.5,.7,.9,1.0, 1.1]\n",
    "relIn = gy.createRmInput(morphIndices, timeIndices, sPermutation=[])\n",
    "relIn01 = gy.createRmInput(morphIndices, timeIndices, sPermutation=[0.,1.])\n",
    "relIn10 = gy.createRmInput(morphIndices, timeIndices, sPermutation=[1.,0.])\n",
    "\n",
    "ph0t = ph0tModel(torch.Tensor(relIn)).data.numpy()\n",
    "ph1t = ph1tModel(torch.Tensor(relIn)).data.numpy()\n",
    "\n",
    "#geC values from template inputs\n",
    "trelCn0 = relCnModel(torch.Tensor(ph0t))\n",
    "trelCn1 = relCnModel(torch.Tensor(ph1t))\n",
    "relCn0 = trelCn0.data.numpy()\n",
    "relCn1 = trelCn1.data.numpy()\n",
    "\n",
    "relIn.shape,relIn01.shape, ph0t.shape"
   ]
  },
  {
   "cell_type": "code",
   "execution_count": 10,
   "metadata": {},
   "outputs": [
    {
     "data": {
      "application/vnd.plotly.v1+json": {
       "config": {
        "linkText": "Export to plot.ly",
        "plotlyServerURL": "https://plot.ly",
        "showLink": false
       },
       "data": [
        {
         "line": {
          "dash": "2px,6px",
          "shape": "spline"
         },
         "marker": {
          "symbol": "star"
         },
         "name": "0",
         "type": "scatter",
         "uid": "c6282d4a-978d-49b4-9e9d-159fac35c893",
         "x": [
          -0.005277097225189209,
          -0.006634533405303955,
          -0.006476163864135742,
          -0.006336629390716553,
          -0.006471514701843262,
          -0.005752444267272949,
          -0.005557894706726074
         ],
         "y": [
          0.003958389163017273,
          0.0045890286564826965,
          0.005535721778869629,
          0.0063256919384002686,
          0.005864948034286499,
          0.004968106746673584,
          0.0035791993141174316
         ]
        },
        {
         "line": {
          "dash": "2px,6px",
          "shape": "spline"
         },
         "marker": {
          "symbol": "star"
         },
         "name": "1",
         "type": "scatter",
         "uid": "d475339f-d895-47ca-a67e-06adde46413f",
         "x": [
          0.004585638642311096,
          0.0173027366399765,
          0.024882927536964417,
          0.028242439031600952,
          0.02591046690940857,
          0.016105391085147858,
          0.006599888205528259
         ],
         "y": [
          0.17438548803329468,
          0.1779211461544037,
          0.18293780088424683,
          0.18505945801734924,
          0.1815926879644394,
          0.17739763855934143,
          0.1741633415222168
         ]
        },
        {
         "line": {
          "dash": "2px,6px",
          "shape": "spline"
         },
         "marker": {
          "symbol": "star"
         },
         "name": "2",
         "type": "scatter",
         "uid": "4027726e-7216-4483-9cfc-34604fd3ae69",
         "x": [
          0.0021014362573623657,
          0.019183024764060974,
          0.03053729236125946,
          0.03502945601940155,
          0.03101867437362671,
          0.017716340720653534,
          0.0043969228863716125
         ],
         "y": [
          0.2756962776184082,
          0.27983152866363525,
          0.2846253216266632,
          0.28762152791023254,
          0.28401970863342285,
          0.27912890911102295,
          0.27507123351097107
         ]
        },
        {
         "line": {
          "dash": "2px,6px",
          "shape": "spline"
         },
         "marker": {
          "symbol": "star"
         },
         "name": "3",
         "type": "scatter",
         "uid": "1ba351ab-6464-4a5d-98ba-e463386a22ae",
         "x": [
          -0.007268130779266357,
          0.009892076253890991,
          0.0216805562376976,
          0.02659793198108673,
          0.022150367498397827,
          0.00819379836320877,
          -0.0060236454010009766
         ],
         "y": [
          0.3508482575416565,
          0.3548346161842346,
          0.35847166180610657,
          0.36228278279304504,
          0.35861241817474365,
          0.35365229845046997,
          0.35026007890701294
         ]
        },
        {
         "line": {
          "dash": "2px,6px",
          "shape": "spline"
         },
         "marker": {
          "symbol": "star"
         },
         "name": "4",
         "type": "scatter",
         "uid": "67c2a736-5fd0-4262-9520-0c51204ceb8e",
         "x": [
          -0.04582560062408447,
          -0.02659553289413452,
          -0.015206575393676758,
          -0.008236587047576904,
          -0.013107120990753174,
          -0.029090464115142822,
          -0.04641646146774292
         ],
         "y": [
          0.5001319646835327,
          0.5044928789138794,
          0.5073830485343933,
          0.5111206769943237,
          0.5071454048156738,
          0.5026215314865112,
          0.5008968710899353
         ]
        },
        {
         "line": {
          "dash": "2px,6px",
          "shape": "spline"
         },
         "marker": {
          "symbol": "star"
         },
         "name": "5",
         "type": "scatter",
         "uid": "3014e7c7-c153-4fa9-9915-5ff362d7aa16",
         "x": [
          -0.10624253749847412,
          -0.08670163154602051,
          -0.07251065969467163,
          -0.06473022699356079,
          -0.07143658399581909,
          -0.08697491884231567,
          -0.10508370399475098
         ],
         "y": [
          0.6341850757598877,
          0.6381098031997681,
          0.6408697962760925,
          0.6425951719284058,
          0.6417294144630432,
          0.6390148401260376,
          0.6354736685752869
         ]
        },
        {
         "line": {
          "dash": "2px,6px",
          "shape": "spline"
         },
         "marker": {
          "symbol": "star"
         },
         "name": "6",
         "type": "scatter",
         "uid": "8438d39d-4aed-4f34-8aee-2a9f242ef681",
         "x": [
          -0.1873881220817566,
          -0.17359763383865356,
          -0.16189485788345337,
          -0.15607154369354248,
          -0.1614934206008911,
          -0.17274731397628784,
          -0.18509268760681152
         ],
         "y": [
          0.7490866184234619,
          0.7557592391967773,
          0.7599098086357117,
          0.762793779373169,
          0.761603057384491,
          0.7573264837265015,
          0.7507098317146301
         ]
        },
        {
         "line": {
          "dash": "2px,6px",
          "shape": "spline"
         },
         "marker": {
          "symbol": "star"
         },
         "name": "7",
         "type": "scatter",
         "uid": "62c5e21c-348a-4f02-8328-587d8a95f053",
         "x": [
          -0.24349313974380493,
          -0.2357441782951355,
          -0.22830736637115479,
          -0.2247287631034851,
          -0.22808897495269775,
          -0.2347617745399475,
          -0.24156051874160767
         ],
         "y": [
          0.8188827037811279,
          0.826007604598999,
          0.8297311663627625,
          0.8328793048858643,
          0.8313472867012024,
          0.8269729614257812,
          0.8201389908790588
         ]
        },
        {
         "line": {
          "dash": "2px,6px",
          "shape": "spline"
         },
         "marker": {
          "symbol": "star"
         },
         "name": "8",
         "type": "scatter",
         "uid": "6e6969ed-9571-4766-b049-8be2197bbe00",
         "x": [
          -0.3299875259399414,
          -0.3331865668296814,
          -0.3344549536705017,
          -0.33514195680618286,
          -0.33406537771224976,
          -0.3326043486595154,
          -0.3301343321800232
         ],
         "y": [
          0.9333808422088623,
          0.9315204620361328,
          0.9312347769737244,
          0.9313985109329224,
          0.9312229752540588,
          0.9316500425338745,
          0.933697521686554
         ]
        },
        {
         "line": {
          "shape": "spline"
         },
         "name": "9",
         "type": "scatter",
         "uid": "c21d4aeb-32ce-4f8e-aa6e-94879ac77a88",
         "x": [
          0.00720321387052536,
          0.005166471004486084,
          0.005911543965339661,
          0.006271630525588989,
          0.005348801612854004,
          0.006526418030261993,
          0.006922110915184021
         ],
         "y": [
          -0.0028765201568603516,
          -0.004334092140197754,
          -0.005394339561462402,
          -0.006118893623352051,
          -0.004658639430999756,
          -0.0038198232650756836,
          -0.00341874361038208
         ]
        },
        {
         "line": {
          "shape": "spline"
         },
         "name": "10",
         "type": "scatter",
         "uid": "3f4e466d-1666-49dd-81c8-3761ee839271",
         "x": [
          0.05652991682291031,
          0.06620985269546509,
          0.07382956147193909,
          0.07766100764274597,
          0.07413342595100403,
          0.06605060398578644,
          0.058708153665065765
         ],
         "y": [
          0.15733656287193298,
          0.15621507167816162,
          0.15658073127269745,
          0.15537944436073303,
          0.15578262507915497,
          0.1562531590461731,
          0.15667150914669037
         ]
        },
        {
         "line": {
          "shape": "spline"
         },
         "name": "11",
         "type": "scatter",
         "uid": "88f36873-0749-4c41-9db9-bf968ce1f79e",
         "x": [
          0.08068390935659409,
          0.09418849647045135,
          0.10605350136756897,
          0.11171576380729675,
          0.10550253093242645,
          0.09408100694417953,
          0.0831739753484726
         ],
         "y": [
          0.24905173480510712,
          0.2476770579814911,
          0.24592706561088562,
          0.2443048059940338,
          0.24609525501728058,
          0.2477683126926422,
          0.24772322177886963
         ]
        },
        {
         "line": {
          "shape": "spline"
         },
         "name": "12",
         "type": "scatter",
         "uid": "5572f135-b895-4cf4-99e6-9eafaef94121",
         "x": [
          0.09653407335281372,
          0.11256316304206848,
          0.12622901797294617,
          0.13392314314842224,
          0.12583914399147034,
          0.11206729710102081,
          0.09803986549377441
         ],
         "y": [
          0.32385337352752686,
          0.3225599229335785,
          0.31853166222572327,
          0.3162063956260681,
          0.31904810667037964,
          0.32214972376823425,
          0.32250887155532837
         ]
        },
        {
         "line": {
          "shape": "spline"
         },
         "name": "13",
         "type": "scatter",
         "uid": "26c1ff6d-8986-44ff-91e8-f43c23a3dc51",
         "x": [
          0.1029471829533577,
          0.12248890101909637,
          0.13574263453483582,
          0.14631322026252747,
          0.13762056827545166,
          0.1203615814447403,
          0.1022241860628128
         ],
         "y": [
          0.4724869728088379,
          0.471954345703125,
          0.46743518114089966,
          0.4649744927883148,
          0.46687519550323486,
          0.470196396112442,
          0.4726574420928955
         ]
        },
        {
         "line": {
          "shape": "spline"
         },
         "name": "14",
         "type": "scatter",
         "uid": "c41ad9a3-5a41-482d-b35d-f1c1058945ba",
         "x": [
          0.08893852680921555,
          0.10936351120471954,
          0.1250942498445511,
          0.13608773052692413,
          0.1264643520116806,
          0.10877364873886108,
          0.08980030566453934
         ],
         "y": [
          0.6151925325393677,
          0.614566445350647,
          0.6123701930046082,
          0.6095248460769653,
          0.6123698353767395,
          0.6151100397109985,
          0.6161074042320251
         ]
        },
        {
         "line": {
          "shape": "spline"
         },
         "name": "15",
         "type": "scatter",
         "uid": "9c22de86-c789-428a-bd96-a651c0a79c49",
         "x": [
          0.06113380938768387,
          0.0798194408416748,
          0.09571363031864166,
          0.1049218624830246,
          0.0961456149816513,
          0.080568328499794,
          0.06406477093696594
         ],
         "y": [
          0.7565248012542725,
          0.7599519491195679,
          0.7628514170646667,
          0.7621906995773315,
          0.7634198665618896,
          0.7619532346725464,
          0.7577340006828308
         ]
        },
        {
         "line": {
          "shape": "spline"
         },
         "name": "16",
         "type": "scatter",
         "uid": "3976ab77-8a01-4c0e-a237-007b80921a65",
         "x": [
          0.03775510936975479,
          0.053711578249931335,
          0.06679126620292664,
          0.07386574149131775,
          0.06699645519256592,
          0.054298434406518936,
          0.0405002236366272
         ],
         "y": [
          0.8402210474014282,
          0.8477247953414917,
          0.8535050749778748,
          0.8551236391067505,
          0.8539837002754211,
          0.8489680290222168,
          0.8410809636116028
         ]
        },
        {
         "line": {
          "shape": "spline"
         },
         "name": "17",
         "type": "scatter",
         "uid": "96bebf65-d305-42f4-80ec-a0284d74f701",
         "x": [
          -0.018421530723571777,
          -0.011450529098510742,
          -0.007692873477935791,
          -0.005853474140167236,
          -0.007230579853057861,
          -0.0120200514793396,
          -0.01855778694152832
         ],
         "y": [
          0.9710816144943237,
          0.9762872457504272,
          0.9826430678367615,
          0.9846929311752319,
          0.9816678166389465,
          0.9760022163391113,
          0.9709265828132629
         ]
        },
        {
         "line": {
          "shape": "spline"
         },
         "name": "18",
         "type": "scatter",
         "uid": "fc059faf-03e1-4792-a57f-ef5a2fd981db",
         "x": [
          0.008720152080059052,
          0.006020307540893555,
          0.006554022431373596,
          0.006651133298873901,
          0.005807220935821533,
          0.007285602390766144,
          0.008438214659690857
         ],
         "y": [
          -0.00295257568359375,
          -0.005724966526031494,
          -0.007686316967010498,
          -0.008729934692382812,
          -0.006810188293457031,
          -0.005509674549102783,
          -0.0033590197563171387
         ]
        },
        {
         "line": {
          "shape": "spline"
         },
         "name": "19",
         "type": "scatter",
         "uid": "5badc182-ea79-4757-b2f1-01ee9d595d9c",
         "x": [
          0.08262991160154343,
          0.08912110328674316,
          0.09536285698413849,
          0.0991075336933136,
          0.09555709362030029,
          0.08943045884370804,
          0.08427570760250092
         ],
         "y": [
          0.13944435119628906,
          0.1347116231918335,
          0.1316426396369934,
          0.1283520758152008,
          0.13109181821346283,
          0.13471007347106934,
          0.13875128328800201
         ]
        },
        {
         "line": {
          "shape": "spline"
         },
         "name": "20",
         "type": "scatter",
         "uid": "07aac1f7-4f44-4518-9ea9-67b1f85b29fc",
         "x": [
          0.129867285490036,
          0.13959568738937378,
          0.14973852038383484,
          0.1556536853313446,
          0.14914563298225403,
          0.1401364803314209,
          0.1317240297794342
         ],
         "y": [
          0.2208179384469986,
          0.21398049592971802,
          0.20694391429424286,
          0.20177891850471497,
          0.2072250097990036,
          0.21422800421714783,
          0.2194116711616516
         ]
        },
        {
         "line": {
          "shape": "spline"
         },
         "name": "21",
         "type": "scatter",
         "uid": "b371d775-c40e-445c-8da6-74cb9b178a4b",
         "x": [
          0.16668853163719177,
          0.17960771918296814,
          0.19195155799388885,
          0.2006988227367401,
          0.19169747829437256,
          0.17955541610717773,
          0.16745468974113464
         ],
         "y": [
          0.29485905170440674,
          0.2881084382534027,
          0.2779272198677063,
          0.2714908719062805,
          0.27838486433029175,
          0.2875491976737976,
          0.2933695316314697
         ]
        },
        {
         "line": {
          "shape": "spline"
         },
         "name": "22",
         "type": "scatter",
         "uid": "cb45e00f-f3d3-464e-9ed9-52dd5a25c2e1",
         "x": [
          0.21204319596290588,
          0.22945627570152283,
          0.24504293501377106,
          0.2574363350868225,
          0.24545970559120178,
          0.2286730706691742,
          0.21153360605239868
         ],
         "y": [
          0.43295741081237793,
          0.42743414640426636,
          0.41560131311416626,
          0.4086415469646454,
          0.41625112295150757,
          0.4260842502117157,
          0.43194496631622314
         ]
        },
        {
         "line": {
          "shape": "spline"
         },
         "name": "23",
         "type": "scatter",
         "uid": "0bf2d8ff-3f9c-4b27-9260-2fd571f9ce65",
         "x": [
          0.23449435830116272,
          0.25137925148010254,
          0.2684169411659241,
          0.28072506189346313,
          0.2687106132507324,
          0.25135359168052673,
          0.23494701087474823
         ],
         "y": [
          0.5683777332305908,
          0.5640944242477417,
          0.5560777187347412,
          0.5510014295578003,
          0.5572848916053772,
          0.5638328790664673,
          0.5681907534599304
         ]
        },
        {
         "line": {
          "shape": "spline"
         },
         "name": "24",
         "type": "scatter",
         "uid": "7a53c7a8-73bb-40f1-8dbb-97ffecbd4fb1",
         "x": [
          0.2518974840641022,
          0.2682774066925049,
          0.28666436672210693,
          0.29738473892211914,
          0.2860957980155945,
          0.2696590721607208,
          0.25500309467315674
         ],
         "y": [
          0.7139116525650024,
          0.7147737741470337,
          0.7144569754600525,
          0.7125111818313599,
          0.7161014676094055,
          0.7162806987762451,
          0.7142359614372253
         ]
        },
        {
         "line": {
          "shape": "spline"
         },
         "name": "25",
         "type": "scatter",
         "uid": "bda9ba45-d5b5-4f87-8190-d14b9601921f",
         "x": [
          0.2592932879924774,
          0.27530914545059204,
          0.2922988533973694,
          0.3014620840549469,
          0.291659414768219,
          0.2764827013015747,
          0.2628048360347748
         ],
         "y": [
          0.7995043992996216,
          0.8062952756881714,
          0.8110718131065369,
          0.8121849298477173,
          0.81245356798172,
          0.8072550296783447,
          0.7997718453407288
         ]
        },
        {
         "line": {
          "shape": "spline"
         },
         "name": "26",
         "type": "scatter",
         "uid": "38572fa4-f393-4fd5-9a7a-23e883c96021",
         "x": [
          0.24836981296539307,
          0.2602607309818268,
          0.2710190415382385,
          0.2763238847255707,
          0.2706928849220276,
          0.26023393869400024,
          0.25005999207496643
         ],
         "y": [
          0.9230564832687378,
          0.9327791929244995,
          0.9415311217308044,
          0.945060133934021,
          0.9416549801826477,
          0.9321839809417725,
          0.922648012638092
         ]
        },
        {
         "line": {
          "shape": "spline"
         },
         "name": "27",
         "type": "scatter",
         "uid": "79c5f55b-77ea-40f7-888e-bb071fd5c0b6",
         "x": [
          0.006903201341629028,
          0.004163041710853577,
          0.004079941660165787,
          0.0038986802101135254,
          0.003541290760040283,
          0.00498691201210022,
          0.006661266088485718
         ],
         "y": [
          0.00018803775310516357,
          -0.0034002065658569336,
          -0.005635678768157959,
          -0.006779015064239502,
          -0.005025923252105713,
          -0.0035507678985595703,
          0.00016295909881591797
         ]
        },
        {
         "line": {
          "shape": "spline"
         },
         "name": "28",
         "type": "scatter",
         "uid": "b4a1bcda-340d-45a1-94b4-bc8cf6bbb87c",
         "x": [
          0.10197728127241135,
          0.1053314208984375,
          0.10932101309299469,
          0.11289563775062561,
          0.10991871356964111,
          0.10565132647752762,
          0.10281436145305634
         ],
         "y": [
          0.12300784885883331,
          0.11568715423345566,
          0.10995299369096756,
          0.1051960289478302,
          0.10928605496883392,
          0.11531856656074524,
          0.12257120013237
         ]
        },
        {
         "line": {
          "shape": "spline"
         },
         "name": "29",
         "type": "scatter",
         "uid": "c635b6f2-c508-4b4f-80fb-2e392b1ffd4c",
         "x": [
          0.16807329654693604,
          0.17473948001861572,
          0.18153996765613556,
          0.18775048851966858,
          0.1820628046989441,
          0.17513668537139893,
          0.16882555186748505
         ],
         "y": [
          0.19290800392627716,
          0.1811579465866089,
          0.16997066140174866,
          0.16145437955856323,
          0.16930581629276276,
          0.18115869164466858,
          0.1921200454235077
         ]
        },
        {
         "line": {
          "shape": "spline"
         },
         "name": "30",
         "type": "scatter",
         "uid": "b1891fcd-8d40-4562-b148-4ddbea3ea38f",
         "x": [
          0.21838852763175964,
          0.22822383046150208,
          0.23796643316745758,
          0.24670305848121643,
          0.2383185774087906,
          0.2285347580909729,
          0.2187187373638153
         ],
         "y": [
          0.26035642623901367,
          0.24670392274856567,
          0.23168513178825378,
          0.22099554538726807,
          0.2313537746667862,
          0.24663949012756348,
          0.2592775523662567
         ]
        },
        {
         "line": {
          "shape": "spline"
         },
         "name": "31",
         "type": "scatter",
         "uid": "0b9bddeb-13c8-46cc-95a5-c9d0465ed8b4",
         "x": [
          0.2986905872821808,
          0.3125261664390564,
          0.3270503878593445,
          0.3397253751754761,
          0.3273600935935974,
          0.31243693828582764,
          0.29822778701782227
         ],
         "y": [
          0.38730013370513916,
          0.37473708391189575,
          0.3574013113975525,
          0.3462657034397125,
          0.3578839898109436,
          0.3739033043384552,
          0.38616669178009033
         ]
        },
        {
         "line": {
          "shape": "spline"
         },
         "name": "32",
         "type": "scatter",
         "uid": "f0af9e8c-6856-4d96-9b01-cbfd21dae950",
         "x": [
          0.35729873180389404,
          0.3730630874633789,
          0.3919912576675415,
          0.40617185831069946,
          0.39164936542510986,
          0.37380674481391907,
          0.3580667972564697
         ],
         "y": [
          0.5067791938781738,
          0.49718356132507324,
          0.48325520753860474,
          0.4738065302371979,
          0.48472529649734497,
          0.4971992075443268,
          0.5060346722602844
         ]
        },
        {
         "line": {
          "shape": "spline"
         },
         "name": "33",
         "type": "scatter",
         "uid": "fbc38bd3-97c3-4a31-97bc-97f807dafd08",
         "x": [
          0.4092060327529907,
          0.4252289831638336,
          0.4460133910179138,
          0.4592967629432678,
          0.44540315866470337,
          0.4268881380558014,
          0.41249990463256836
         ],
         "y": [
          0.6399549245834351,
          0.6377242803573608,
          0.6334335207939148,
          0.6287039518356323,
          0.6351748108863831,
          0.6386978626251221,
          0.640087902545929
         ]
        },
        {
         "line": {
          "shape": "spline"
         },
         "name": "34",
         "type": "scatter",
         "uid": "18582b17-77c9-4c37-9315-58fa75388318",
         "x": [
          0.43882250785827637,
          0.4560222625732422,
          0.47646135091781616,
          0.48898977041244507,
          0.47617390751838684,
          0.45742562413215637,
          0.44310683012008667
         ],
         "y": [
          0.720831036567688,
          0.7257994413375854,
          0.7282869219779968,
          0.7270203828811646,
          0.7294612526893616,
          0.726325273513794,
          0.7213566899299622
         ]
        },
        {
         "line": {
          "shape": "spline"
         },
         "name": "35",
         "type": "scatter",
         "uid": "19b372b0-a43d-4b8f-a0be-444b68b3c5db",
         "x": [
          0.4600871205329895,
          0.47659486532211304,
          0.4932892322540283,
          0.5035000443458557,
          0.49363982677459717,
          0.4768792688846588,
          0.4637393355369568
         ],
         "y": [
          0.8320325613021851,
          0.843504786491394,
          0.8525342345237732,
          0.8546731472015381,
          0.8523545861244202,
          0.8426065444946289,
          0.8324397206306458
         ]
        },
        {
         "line": {
          "shape": "spline"
         },
         "name": "36",
         "type": "scatter",
         "uid": "efe6e1eb-9e55-4a45-81ae-116db29a2bb3",
         "x": [
          0.0003627166152000427,
          0.00047087669372558594,
          -0.00041878223419189453,
          -0.0012235045433044434,
          -0.0005006194114685059,
          -2.0265579223632812e-05,
          0.00014910101890563965
         ],
         "y": [
          0.00504930317401886,
          0.002394266426563263,
          9.253621101379395e-06,
          -0.0006631016731262207,
          -3.5762786865234375e-07,
          0.001553073525428772,
          0.00560489296913147
         ]
        },
        {
         "line": {
          "shape": "spline"
         },
         "name": "37",
         "type": "scatter",
         "uid": "c0f65b2f-7830-42c1-ac3d-2f872f5a9136",
         "x": [
          0.1299486756324768,
          0.12884855270385742,
          0.1280078887939453,
          0.13067378103733063,
          0.12939436733722687,
          0.12856237590312958,
          0.12863245606422424
         ],
         "y": [
          0.08106444776058197,
          0.07227473706007004,
          0.06200406327843666,
          0.05617314577102661,
          0.061345890164375305,
          0.07079014182090759,
          0.08092719316482544
         ]
        },
        {
         "line": {
          "shape": "spline"
         },
         "name": "38",
         "type": "scatter",
         "uid": "cf0f04fa-dc57-497a-ae5c-b1ad61437560",
         "x": [
          0.22829008102416992,
          0.22737282514572144,
          0.22693081200122833,
          0.23155811429023743,
          0.22897124290466309,
          0.22714197635650635,
          0.2267356961965561
         ],
         "y": [
          0.13017670810222626,
          0.11390324681997299,
          0.0974280834197998,
          0.08694791793823242,
          0.09608276188373566,
          0.11284038424491882,
          0.13000339269638062
         ]
        },
        {
         "line": {
          "shape": "spline"
         },
         "name": "39",
         "type": "scatter",
         "uid": "f4de52e4-1bff-485c-854c-38a4b3fa4284",
         "x": [
          0.29984986782073975,
          0.3015221953392029,
          0.304318904876709,
          0.31026187539100647,
          0.30560576915740967,
          0.3020786643028259,
          0.29916393756866455
         ],
         "y": [
          0.1795317381620407,
          0.15628212690353394,
          0.13516706228256226,
          0.12064194679260254,
          0.13398192822933197,
          0.15676847100257874,
          0.1790124773979187
         ]
        },
        {
         "line": {
          "shape": "spline"
         },
         "name": "40",
         "type": "scatter",
         "uid": "f9e21ba4-eb26-4d89-a9a1-19449c86ee78",
         "x": [
          0.4256868064403534,
          0.4322223961353302,
          0.44108498096466064,
          0.4497551918029785,
          0.4415203928947449,
          0.4335672855377197,
          0.426207959651947
         ],
         "y": [
          0.2715306282043457,
          0.24087655544281006,
          0.21557682752609253,
          0.1968567669391632,
          0.21464507281780243,
          0.2430885136127472,
          0.27089470624923706
         ]
        },
        {
         "line": {
          "shape": "spline"
         },
         "name": "41",
         "type": "scatter",
         "uid": "e1200ff2-6cb3-4cf7-a37f-718ea4f960c8",
         "x": [
          0.5428484082221985,
          0.5549315214157104,
          0.5692705512046814,
          0.5818349719047546,
          0.5703859925270081,
          0.5557460784912109,
          0.5439037680625916
         ],
         "y": [
          0.35793983936309814,
          0.33125972747802734,
          0.3092861771583557,
          0.2917462885379791,
          0.3080753684043884,
          0.3328154385089874,
          0.35814470052719116
         ]
        },
        {
         "line": {
          "shape": "spline"
         },
         "name": "42",
         "type": "scatter",
         "uid": "5b849340-69c5-4ad7-bbb7-e83639a40638",
         "x": [
          0.6583340167999268,
          0.6796489357948303,
          0.7023225426673889,
          0.7195026874542236,
          0.7036564350128174,
          0.6807364821434021,
          0.6619352102279663
         ],
         "y": [
          0.4460839033126831,
          0.4326671361923218,
          0.4203316569328308,
          0.4065774977207184,
          0.4191039204597473,
          0.43393757939338684,
          0.4472091794013977
         ]
        },
        {
         "line": {
          "shape": "spline"
         },
         "name": "43",
         "type": "scatter",
         "uid": "80ea8301-10b6-454b-9246-e2824ad493ec",
         "x": [
          0.7204441428184509,
          0.7471770644187927,
          0.7737972140312195,
          0.793038010597229,
          0.775263786315918,
          0.748269259929657,
          0.7256288528442383
         ],
         "y": [
          0.49566829204559326,
          0.4936283826828003,
          0.4886721968650818,
          0.4787652790546417,
          0.4874804615974426,
          0.49412742257118225,
          0.49717456102371216
         ]
        },
        {
         "line": {
          "shape": "spline"
         },
         "name": "44",
         "type": "scatter",
         "uid": "9442b93c-12e0-460a-b41d-13a35a6a9e34",
         "x": [
          0.7825458645820618,
          0.8136674165725708,
          0.8419862985610962,
          0.8622733354568481,
          0.8439462184906006,
          0.8142070770263672,
          0.7886434197425842
         ],
         "y": [
          0.5630520582199097,
          0.574459433555603,
          0.5782570242881775,
          0.5734721422195435,
          0.5767002701759338,
          0.573279857635498,
          0.5647903084754944
         ]
        },
        {
         "line": {
          "shape": "spline"
         },
         "name": "45",
         "type": "scatter",
         "uid": "c69a2d0c-7b8b-4780-b3db-d48240815b13",
         "x": [
          -0.0008487105369567871,
          0.004176422953605652,
          0.003329738974571228,
          0.002045542001724243,
          0.003460913896560669,
          0.0023359060287475586,
          -0.0008009672164916992
         ],
         "y": [
          0.00034640729427337646,
          0.0007475614547729492,
          -0.0015327930450439453,
          -0.001621246337890625,
          -0.002082228660583496,
          -0.00022298097610473633,
          0.0011500716209411621
         ]
        },
        {
         "line": {
          "shape": "spline"
         },
         "name": "46",
         "type": "scatter",
         "uid": "f2c95907-9ab9-476d-a594-04fc5faee985",
         "x": [
          0.14864295721054077,
          0.14346399903297424,
          0.1403830498456955,
          0.1398540437221527,
          0.14041945338249207,
          0.14337895810604095,
          0.14711543917655945
         ],
         "y": [
          0.02749425172805786,
          0.01975836604833603,
          0.007838904857635498,
          0.0038776397705078125,
          0.008784845471382141,
          0.01867072284221649,
          0.026619791984558105
         ]
        },
        {
         "line": {
          "shape": "spline"
         },
         "name": "47",
         "type": "scatter",
         "uid": "3e2d7316-4e46-40c4-87b0-da78a77b2acf",
         "x": [
          0.266439288854599,
          0.25752654671669006,
          0.25269410014152527,
          0.2526932656764984,
          0.25354623794555664,
          0.2574909031391144,
          0.26416587829589844
         ],
         "y": [
          0.05109076201915741,
          0.03523274511098862,
          0.017450690269470215,
          0.010192513465881348,
          0.01794363558292389,
          0.03411176800727844,
          0.05002188682556152
         ]
        },
        {
         "line": {
          "shape": "spline"
         },
         "name": "48",
         "type": "scatter",
         "uid": "dad57d28-440b-4cd2-bddb-182c30872b25",
         "x": [
          0.35815972089767456,
          0.34987932443618774,
          0.34587520360946655,
          0.3462029993534088,
          0.3467792272567749,
          0.3500896692276001,
          0.35620081424713135
         ],
         "y": [
          0.07495217025279999,
          0.05078267306089401,
          0.02870732545852661,
          0.01795777678489685,
          0.028728529810905457,
          0.05068191885948181,
          0.07383525371551514
         ]
        },
        {
         "line": {
          "shape": "spline"
         },
         "name": "49",
         "type": "scatter",
         "uid": "52f7152a-bf3e-48bf-9522-aefa84718bf4",
         "x": [
          0.5028865337371826,
          0.5008136630058289,
          0.5031770467758179,
          0.5041292905807495,
          0.5024102926254272,
          0.5025585293769836,
          0.5029726028442383
         ],
         "y": [
          0.1184764951467514,
          0.08040570467710495,
          0.0526127815246582,
          0.03576436638832092,
          0.052795812487602234,
          0.08371487259864807,
          0.11694806814193726
         ]
        },
        {
         "line": {
          "shape": "spline"
         },
         "name": "50",
         "type": "scatter",
         "uid": "2a3dc9e4-41c3-416b-a44e-ffcdd3b757cd",
         "x": [
          0.6379339694976807,
          0.6449084281921387,
          0.6541550159454346,
          0.6577920913696289,
          0.6530453562736511,
          0.647087574005127,
          0.6391211748123169
         ],
         "y": [
          0.15046678483486176,
          0.10863196104764938,
          0.08042353391647339,
          0.061184436082839966,
          0.08035199344158173,
          0.11313977837562561,
          0.14923471212387085
         ]
        },
        {
         "line": {
          "shape": "spline"
         },
         "name": "51",
         "type": "scatter",
         "uid": "c1830c6c-c928-4c3a-9934-0a35e959ca9c",
         "x": [
          0.7836453914642334,
          0.8040695786476135,
          0.8218969702720642,
          0.8312357664108276,
          0.8216546177864075,
          0.8055917620658875,
          0.7855923175811768
         ],
         "y": [
          0.17225061357021332,
          0.14181721210479736,
          0.11965543031692505,
          0.10315659642219543,
          0.1193045824766159,
          0.1446235477924347,
          0.1718023419380188
         ]
        },
        {
         "line": {
          "shape": "spline"
         },
         "name": "52",
         "type": "scatter",
         "uid": "81b5778d-07e1-4466-a37c-04f556103141",
         "x": [
          0.8670512437820435,
          0.8965933322906494,
          0.9201470017433167,
          0.9337767362594604,
          0.9204964637756348,
          0.8975695371627808,
          0.8696401119232178
         ],
         "y": [
          0.1816474050283432,
          0.164831280708313,
          0.1486455798149109,
          0.13597145676612854,
          0.14845995604991913,
          0.16559436917304993,
          0.18154460191726685
         ]
        },
        {
         "line": {
          "shape": "spline"
         },
         "name": "53",
         "type": "scatter",
         "uid": "cce71875-0f8f-444d-b5fb-1f453eb790a9",
         "x": [
          0.9561097621917725,
          0.9960640668869019,
          1.0267281532287598,
          1.0453022718429565,
          1.0272208452224731,
          0.9967817068099976,
          0.9599037170410156
         ],
         "y": [
          0.19901953637599945,
          0.20095336437225342,
          0.19264191389083862,
          0.18512240052223206,
          0.19310574233531952,
          0.19932106137275696,
          0.19888430833816528
         ]
        },
        {
         "line": {
          "shape": "spline"
         },
         "name": "54",
         "type": "scatter",
         "uid": "59ccea41-c6dc-4f17-a633-58aa4842389e",
         "x": [
          0.009971357882022858,
          0.01297786831855774,
          0.012097179889678955,
          0.010816067457199097,
          0.01269504427909851,
          0.01118200272321701,
          0.010957233607769012
         ],
         "y": [
          -0.0009647011756896973,
          -0.00022852420806884766,
          0.0001666247844696045,
          -7.832050323486328e-05,
          -0.0009799599647521973,
          -0.00018459558486938477,
          0.00014823675155639648
         ]
        },
        {
         "line": {
          "shape": "spline"
         },
         "name": "55",
         "type": "scatter",
         "uid": "c722dfce-6b68-42f2-918e-149844553609",
         "x": [
          0.15865889191627502,
          0.14505314826965332,
          0.13988591730594635,
          0.13619545102119446,
          0.13933826982975006,
          0.14546450972557068,
          0.15997686982154846
         ],
         "y": [
          -0.016909122467041016,
          -0.027850687503814697,
          -0.03504115343093872,
          -0.03755718469619751,
          -0.034286320209503174,
          -0.026688992977142334,
          -0.017120063304901123
         ]
        },
        {
         "line": {
          "shape": "spline"
         },
         "name": "56",
         "type": "scatter",
         "uid": "3d9ef5dd-1efd-49dc-8f45-923df095d368",
         "x": [
          0.27829888463020325,
          0.2566096782684326,
          0.24726562201976776,
          0.24280622601509094,
          0.24775415658950806,
          0.2568301856517792,
          0.2779749035835266
         ],
         "y": [
          -0.02741837501525879,
          -0.046506643295288086,
          -0.058561086654663086,
          -0.062390148639678955,
          -0.057933926582336426,
          -0.04622292518615723,
          -0.027858972549438477
         ]
        },
        {
         "line": {
          "shape": "spline"
         },
         "name": "57",
         "type": "scatter",
         "uid": "af1e7f8e-b815-4b1f-8d3a-cc03ad3454a8",
         "x": [
          0.37250733375549316,
          0.3482319414615631,
          0.33664804697036743,
          0.33180150389671326,
          0.33813315629959106,
          0.3478579521179199,
          0.37088876962661743
         ],
         "y": [
          -0.03806757926940918,
          -0.06482529640197754,
          -0.08035486936569214,
          -0.08577471971511841,
          -0.08036667108535767,
          -0.06502699851989746,
          -0.0383601188659668
         ]
        },
        {
         "line": {
          "shape": "spline"
         },
         "name": "58",
         "type": "scatter",
         "uid": "dd1d886c-afec-4606-8ed3-c4e525986b6d",
         "x": [
          0.5098984241485596,
          0.49081355333328247,
          0.48413723707199097,
          0.478650838136673,
          0.48383569717407227,
          0.49184441566467285,
          0.5089821219444275
         ],
         "y": [
          -0.05439412593841553,
          -0.09650158882141113,
          -0.11807793378829956,
          -0.12841570377349854,
          -0.11759382486343384,
          -0.09411758184432983,
          -0.05542641878128052
         ]
        },
        {
         "line": {
          "shape": "spline"
         },
         "name": "59",
         "type": "scatter",
         "uid": "ff995847-f17b-4b80-a78c-6c2112fff0a4",
         "x": [
          0.6358633041381836,
          0.627550482749939,
          0.627785325050354,
          0.624093770980835,
          0.6265724897384644,
          0.6292425394058228,
          0.6353287696838379
         ],
         "y": [
          -0.0853610634803772,
          -0.13495749235153198,
          -0.158982515335083,
          -0.1724211573600769,
          -0.1584841012954712,
          -0.13131612539291382,
          -0.08656233549118042
         ]
        },
        {
         "line": {
          "shape": "spline"
         },
         "name": "60",
         "type": "scatter",
         "uid": "f3fde2f2-7718-4c05-bc61-5b84119a6ff0",
         "x": [
          0.7752179503440857,
          0.784130871295929,
          0.7930135130882263,
          0.7949216365814209,
          0.7925723791122437,
          0.78509122133255,
          0.7745575308799744
         ],
         "y": [
          -0.13709139823913574,
          -0.18210166692733765,
          -0.20430952310562134,
          -0.21789252758026123,
          -0.20436257123947144,
          -0.1796899437904358,
          -0.13780075311660767
         ]
        },
        {
         "line": {
          "shape": "spline"
         },
         "name": "61",
         "type": "scatter",
         "uid": "19b0313d-17a8-4ee7-a4d5-f71e4622af1e",
         "x": [
          0.8588841557502747,
          0.8799923658370972,
          0.8950923085212708,
          0.9017676115036011,
          0.8952847719192505,
          0.8804001808166504,
          0.8584288954734802
         ],
         "y": [
          -0.1712646484375,
          -0.20827460289001465,
          -0.22801971435546875,
          -0.24049264192581177,
          -0.22820329666137695,
          -0.20727699995040894,
          -0.1717650294303894
         ]
        },
        {
         "line": {
          "shape": "spline"
         },
         "name": "62",
         "type": "scatter",
         "uid": "557b480f-88b9-4b43-9dac-58ac4f51f9d5",
         "x": [
          0.9584236145019531,
          0.9950174689292908,
          1.0184755325317383,
          1.0316171646118164,
          1.019176959991455,
          0.9949823021888733,
          0.9586173295974731
         ],
         "y": [
          -0.2106398344039917,
          -0.23514145612716675,
          -0.25143539905548096,
          -0.26194173097610474,
          -0.2514238953590393,
          -0.23604345321655273,
          -0.21115988492965698
         ]
        },
        {
         "line": {
          "shape": "spline"
         },
         "name": "63",
         "type": "scatter",
         "uid": "316cb809-7364-4bfa-8d3f-b1b46681e4a3",
         "x": [
          0.00924009084701538,
          0.009746193885803223,
          0.010054625570774078,
          0.009828180074691772,
          0.01072835922241211,
          0.008776657283306122,
          0.009009920060634613
         ],
         "y": [
          -0.0010970830917358398,
          0.000591568648815155,
          0.0016844868659973145,
          0.0017935633659362793,
          0.0014146417379379272,
          0.0002841949462890625,
          -0.0008829832077026367
         ]
        },
        {
         "line": {
          "shape": "spline"
         },
         "name": "64",
         "type": "scatter",
         "uid": "86666076-4cd8-4616-a78e-d64a87cd0764",
         "x": [
          0.1502506136894226,
          0.13121746480464935,
          0.12616999447345734,
          0.12192922830581665,
          0.12519830465316772,
          0.13254712522029877,
          0.15188318490982056
         ],
         "y": [
          -0.044038236141204834,
          -0.05691266059875488,
          -0.06224977970123291,
          -0.06415432691574097,
          -0.06082993745803833,
          -0.05518174171447754,
          -0.04461544752120972
         ]
        },
        {
         "line": {
          "shape": "spline"
         },
         "name": "65",
         "type": "scatter",
         "uid": "6fe59180-1a63-4c12-a8d6-13701707e475",
         "x": [
          0.26229366660118103,
          0.2324007749557495,
          0.22170570492744446,
          0.21541878581047058,
          0.22160807251930237,
          0.2334282398223877,
          0.2636001408100128
         ],
         "y": [
          -0.0830690860748291,
          -0.10638213157653809,
          -0.11543071269989014,
          -0.11865729093551636,
          -0.11459451913833618,
          -0.10479885339736938,
          -0.08321136236190796
         ]
        },
        {
         "line": {
          "shape": "spline"
         },
         "name": "66",
         "type": "scatter",
         "uid": "63e93cc6-6dc8-4477-80be-2047b4f06f2b",
         "x": [
          0.3519163131713867,
          0.31835639476776123,
          0.30387789011001587,
          0.2972675859928131,
          0.30551260709762573,
          0.318198025226593,
          0.3512578010559082
         ],
         "y": [
          -0.11349016427993774,
          -0.14428365230560303,
          -0.156327486038208,
          -0.16083937883377075,
          -0.15653669834136963,
          -0.14379125833511353,
          -0.1131746768951416
         ]
        },
        {
         "line": {
          "shape": "spline"
         },
         "name": "67",
         "type": "scatter",
         "uid": "75336fe2-8385-46cd-8468-d97198d316a3",
         "x": [
          0.48037365078926086,
          0.45154717564582825,
          0.43996793031692505,
          0.4332126975059509,
          0.4410070776939392,
          0.45192086696624756,
          0.47905004024505615
         ],
         "y": [
          -0.1637650728225708,
          -0.2090488076210022,
          -0.22673249244689941,
          -0.235887348651886,
          -0.22714734077453613,
          -0.20717352628707886,
          -0.16376739740371704
         ]
        },
        {
         "line": {
          "shape": "spline"
         },
         "name": "68",
         "type": "scatter",
         "uid": "3c641a7c-236a-47ca-9774-19dd36f41e08",
         "x": [
          0.592829167842865,
          0.5760056376457214,
          0.5705606341362,
          0.566125750541687,
          0.5713480114936829,
          0.5765249729156494,
          0.591170072555542
         ],
         "y": [
          -0.22630834579467773,
          -0.2793940305709839,
          -0.29975855350494385,
          -0.3123655319213867,
          -0.3006380796432495,
          -0.27675479650497437,
          -0.22625917196273804
         ]
        },
        {
         "line": {
          "shape": "spline"
         },
         "name": "69",
         "type": "scatter",
         "uid": "8b3b862d-988a-486e-9c0e-70b1e8b4f100",
         "x": [
          0.7144467234611511,
          0.7168309688568115,
          0.7200656533241272,
          0.7220075130462646,
          0.7218546271324158,
          0.7165209054946899,
          0.7122856974601746
         ],
         "y": [
          -0.31244146823883057,
          -0.36343735456466675,
          -0.38341736793518066,
          -0.39733558893203735,
          -0.38496947288513184,
          -0.3616829514503479,
          -0.3120001554489136
         ]
        },
        {
         "line": {
          "shape": "spline"
         },
         "name": "70",
         "type": "scatter",
         "uid": "46cc6d93-d4b2-4d99-aeec-67de24b855c1",
         "x": [
          0.786978006362915,
          0.8029369711875916,
          0.8128569722175598,
          0.8200896978378296,
          0.8151714205741882,
          0.8022447824478149,
          0.7850273251533508
         ],
         "y": [
          -0.36430442333221436,
          -0.4100577235221863,
          -0.428864061832428,
          -0.44266223907470703,
          -0.4305190443992615,
          -0.4091324210166931,
          -0.3637903928756714
         ]
        },
        {
         "line": {
          "shape": "spline"
         },
         "name": "71",
         "type": "scatter",
         "uid": "05d4bb56-4f6a-41e3-b08e-7110a8ac05b5",
         "x": [
          0.8739941120147705,
          0.9072597622871399,
          0.9264410138130188,
          0.9408588409423828,
          0.929012656211853,
          0.9064587354660034,
          0.8728787899017334
         ],
         "y": [
          -0.4213526248931885,
          -0.4588962197303772,
          -0.4759690761566162,
          -0.4891435503959656,
          -0.4774378538131714,
          -0.4589652419090271,
          -0.4209746718406677
         ]
        },
        {
         "line": {
          "shape": "spline"
         },
         "name": "72",
         "type": "scatter",
         "uid": "d85a0048-9b3e-4acf-bded-6043f249f28f",
         "x": [
          -0.0013010501861572266,
          -0.003802776336669922,
          -0.001757204532623291,
          -8.106231689453125e-06,
          -0.0008823275566101074,
          -0.0036610960960388184,
          -0.00389939546585083
         ],
         "y": [
          -0.011415362358093262,
          -0.009723067283630371,
          -0.008851945400238037,
          -0.008668243885040283,
          -0.007793843746185303,
          -0.011018812656402588,
          -0.012583732604980469
         ]
        },
        {
         "line": {
          "shape": "spline"
         },
         "name": "73",
         "type": "scatter",
         "uid": "414eff3e-8dd8-40d2-9da8-7bcb43a9d156",
         "x": [
          0.12947311997413635,
          0.10527539253234863,
          0.10122962296009064,
          0.09804271161556244,
          0.10016962885856628,
          0.10783024877309799,
          0.1299152821302414
         ],
         "y": [
          -0.08243668079376221,
          -0.09837567806243896,
          -0.1033366322517395,
          -0.10557764768600464,
          -0.10102128982543945,
          -0.09682834148406982,
          -0.08385288715362549
         ]
        },
        {
         "line": {
          "shape": "spline"
         },
         "name": "74",
         "type": "scatter",
         "uid": "43c6d348-7d35-40d5-9833-35e141e137df",
         "x": [
          0.22819790244102478,
          0.1909956932067871,
          0.18039442598819733,
          0.17416095733642578,
          0.17983074486255646,
          0.1933368742465973,
          0.22975312173366547
         ],
         "y": [
          -0.15375888347625732,
          -0.18267273902893066,
          -0.19092696905136108,
          -0.19507819414138794,
          -0.18959105014801025,
          -0.18041175603866577,
          -0.15419906377792358
         ]
        },
        {
         "line": {
          "shape": "spline"
         },
         "name": "75",
         "type": "scatter",
         "uid": "0e1c7f0a-62d7-4ca0-a357-4a3af3b53cb6",
         "x": [
          0.301172137260437,
          0.25808778405189514,
          0.24315513670444489,
          0.23514625430107117,
          0.24333958327770233,
          0.2596169412136078,
          0.3026736378669739
         ],
         "y": [
          -0.2204667329788208,
          -0.2590062618255615,
          -0.27014029026031494,
          -0.27610093355178833,
          -0.2697930932044983,
          -0.2566697597503662,
          -0.22016817331314087
         ]
        },
        {
         "line": {
          "shape": "spline"
         },
         "name": "76",
         "type": "scatter",
         "uid": "b06a2793-5739-40a9-b195-ab71c84eb5a6",
         "x": [
          0.4029097557067871,
          0.36334168910980225,
          0.35068511962890625,
          0.34219467639923096,
          0.3495989143848419,
          0.36564669013023376,
          0.40331482887268066
         ],
         "y": [
          -0.32088369131088257,
          -0.3724514842033386,
          -0.38976365327835083,
          -0.39996278285980225,
          -0.3892897367477417,
          -0.36923301219940186,
          -0.3211177587509155
         ]
        },
        {
         "line": {
          "shape": "spline"
         },
         "name": "77",
         "type": "scatter",
         "uid": "2dc7f2ee-01d7-4344-9821-2886d8a33580",
         "x": [
          0.48271334171295166,
          0.45616215467453003,
          0.4511508345603943,
          0.444896399974823,
          0.44829031825065613,
          0.4596232771873474,
          0.48324739933013916
         ],
         "y": [
          -0.4205760359764099,
          -0.4784621000289917,
          -0.49886125326156616,
          -0.5122909545898438,
          -0.4983961582183838,
          -0.4743845462799072,
          -0.421151340007782
         ]
        },
        {
         "line": {
          "shape": "spline"
         },
         "name": "78",
         "type": "scatter",
         "uid": "6adb6831-60ce-4b17-a888-c55942dc451c",
         "x": [
          0.5641632676124573,
          0.5591800808906555,
          0.564784586429596,
          0.5658714771270752,
          0.5617152452468872,
          0.562857449054718,
          0.5648106336593628
         ],
         "y": [
          -0.5354310274124146,
          -0.5906424522399902,
          -0.6109319925308228,
          -0.6256013512611389,
          -0.6109639406204224,
          -0.5870646238327026,
          -0.5358600616455078
         ]
        },
        {
         "line": {
          "shape": "spline"
         },
         "name": "79",
         "type": "scatter",
         "uid": "22b75431-3909-4e70-a383-c3c69ccfcd3c",
         "x": [
          0.6128332018852234,
          0.62333744764328,
          0.6367754340171814,
          0.6442270278930664,
          0.633862316608429,
          0.6271241903305054,
          0.6140538454055786
         ],
         "y": [
          -0.5965542793273926,
          -0.6471301317214966,
          -0.6663527488708496,
          -0.6809137463569641,
          -0.6665905714035034,
          -0.6440824270248413,
          -0.5969007015228271
         ]
        },
        {
         "line": {
          "shape": "spline"
         },
         "name": "80",
         "type": "scatter",
         "uid": "07046072-b508-4041-970c-81d0a73f2f9f",
         "x": [
          0.6733258962631226,
          0.7036515474319458,
          0.7276710867881775,
          0.7438184022903442,
          0.7248178720474243,
          0.7077916860580444,
          0.6758057475090027
         ],
         "y": [
          -0.657886266708374,
          -0.7018760442733765,
          -0.7194923758506775,
          -0.7334617972373962,
          -0.7198119163513184,
          -0.6994474530220032,
          -0.6582269668579102
         ]
        }
       ],
       "layout": {
        "height": 600,
        "hovermode": "closest",
        "title": {
         "text": "Initial Curves"
        },
        "width": 600,
        "xaxis": {
         "range": [
          -0.5,
          1.1
         ],
         "title": {
          "text": "X"
         }
        },
        "yaxis": {
         "range": [
          -0.8,
          1.2
         ],
         "title": {
          "text": "Y"
         }
        }
       }
      },
      "text/html": [
       "<div id=\"5fe21c07-50d5-434e-b0ac-a73e4500fe61\" style=\"height: 600px; width: 600px;\" class=\"plotly-graph-div\"></div><script type=\"text/javascript\">require([\"plotly\"], function(Plotly) { window.PLOTLYENV=window.PLOTLYENV || {};window.PLOTLYENV.BASE_URL=\"https://plot.ly\";Plotly.newPlot(\"5fe21c07-50d5-434e-b0ac-a73e4500fe61\", [{\"line\": {\"dash\": \"2px,6px\", \"shape\": \"spline\"}, \"marker\": {\"symbol\": \"star\"}, \"name\": \"0\", \"x\": [-0.005277097225189209, -0.006634533405303955, -0.006476163864135742, -0.006336629390716553, -0.006471514701843262, -0.005752444267272949, -0.005557894706726074], \"y\": [0.003958389163017273, 0.0045890286564826965, 0.005535721778869629, 0.0063256919384002686, 0.005864948034286499, 0.004968106746673584, 0.0035791993141174316], \"type\": \"scatter\", \"uid\": \"c6282d4a-978d-49b4-9e9d-159fac35c893\"}, {\"line\": {\"dash\": \"2px,6px\", \"shape\": \"spline\"}, \"marker\": {\"symbol\": \"star\"}, \"name\": \"1\", \"x\": [0.004585638642311096, 0.0173027366399765, 0.024882927536964417, 0.028242439031600952, 0.02591046690940857, 0.016105391085147858, 0.006599888205528259], \"y\": [0.17438548803329468, 0.1779211461544037, 0.18293780088424683, 0.18505945801734924, 0.1815926879644394, 0.17739763855934143, 0.1741633415222168], \"type\": \"scatter\", \"uid\": \"d475339f-d895-47ca-a67e-06adde46413f\"}, {\"line\": {\"dash\": \"2px,6px\", \"shape\": \"spline\"}, \"marker\": {\"symbol\": \"star\"}, \"name\": \"2\", \"x\": [0.0021014362573623657, 0.019183024764060974, 0.03053729236125946, 0.03502945601940155, 0.03101867437362671, 0.017716340720653534, 0.0043969228863716125], \"y\": [0.2756962776184082, 0.27983152866363525, 0.2846253216266632, 0.28762152791023254, 0.28401970863342285, 0.27912890911102295, 0.27507123351097107], \"type\": \"scatter\", \"uid\": \"4027726e-7216-4483-9cfc-34604fd3ae69\"}, {\"line\": {\"dash\": \"2px,6px\", \"shape\": \"spline\"}, \"marker\": {\"symbol\": \"star\"}, \"name\": \"3\", \"x\": [-0.007268130779266357, 0.009892076253890991, 0.0216805562376976, 0.02659793198108673, 0.022150367498397827, 0.00819379836320877, -0.0060236454010009766], \"y\": [0.3508482575416565, 0.3548346161842346, 0.35847166180610657, 0.36228278279304504, 0.35861241817474365, 0.35365229845046997, 0.35026007890701294], \"type\": \"scatter\", \"uid\": \"1ba351ab-6464-4a5d-98ba-e463386a22ae\"}, {\"line\": {\"dash\": \"2px,6px\", \"shape\": \"spline\"}, \"marker\": {\"symbol\": \"star\"}, \"name\": \"4\", \"x\": [-0.04582560062408447, -0.02659553289413452, -0.015206575393676758, -0.008236587047576904, -0.013107120990753174, -0.029090464115142822, -0.04641646146774292], \"y\": [0.5001319646835327, 0.5044928789138794, 0.5073830485343933, 0.5111206769943237, 0.5071454048156738, 0.5026215314865112, 0.5008968710899353], \"type\": \"scatter\", \"uid\": \"67c2a736-5fd0-4262-9520-0c51204ceb8e\"}, {\"line\": {\"dash\": \"2px,6px\", \"shape\": \"spline\"}, \"marker\": {\"symbol\": \"star\"}, \"name\": \"5\", \"x\": [-0.10624253749847412, -0.08670163154602051, -0.07251065969467163, -0.06473022699356079, -0.07143658399581909, -0.08697491884231567, -0.10508370399475098], \"y\": [0.6341850757598877, 0.6381098031997681, 0.6408697962760925, 0.6425951719284058, 0.6417294144630432, 0.6390148401260376, 0.6354736685752869], \"type\": \"scatter\", \"uid\": \"3014e7c7-c153-4fa9-9915-5ff362d7aa16\"}, {\"line\": {\"dash\": \"2px,6px\", \"shape\": \"spline\"}, \"marker\": {\"symbol\": \"star\"}, \"name\": \"6\", \"x\": [-0.1873881220817566, -0.17359763383865356, -0.16189485788345337, -0.15607154369354248, -0.1614934206008911, -0.17274731397628784, -0.18509268760681152], \"y\": [0.7490866184234619, 0.7557592391967773, 0.7599098086357117, 0.762793779373169, 0.761603057384491, 0.7573264837265015, 0.7507098317146301], \"type\": \"scatter\", \"uid\": \"8438d39d-4aed-4f34-8aee-2a9f242ef681\"}, {\"line\": {\"dash\": \"2px,6px\", \"shape\": \"spline\"}, \"marker\": {\"symbol\": \"star\"}, \"name\": \"7\", \"x\": [-0.24349313974380493, -0.2357441782951355, -0.22830736637115479, -0.2247287631034851, -0.22808897495269775, -0.2347617745399475, -0.24156051874160767], \"y\": [0.8188827037811279, 0.826007604598999, 0.8297311663627625, 0.8328793048858643, 0.8313472867012024, 0.8269729614257812, 0.8201389908790588], \"type\": \"scatter\", \"uid\": \"62c5e21c-348a-4f02-8328-587d8a95f053\"}, {\"line\": {\"dash\": \"2px,6px\", \"shape\": \"spline\"}, \"marker\": {\"symbol\": \"star\"}, \"name\": \"8\", \"x\": [-0.3299875259399414, -0.3331865668296814, -0.3344549536705017, -0.33514195680618286, -0.33406537771224976, -0.3326043486595154, -0.3301343321800232], \"y\": [0.9333808422088623, 0.9315204620361328, 0.9312347769737244, 0.9313985109329224, 0.9312229752540588, 0.9316500425338745, 0.933697521686554], \"type\": \"scatter\", \"uid\": \"6e6969ed-9571-4766-b049-8be2197bbe00\"}, {\"line\": {\"shape\": \"spline\"}, \"name\": \"9\", \"x\": [0.00720321387052536, 0.005166471004486084, 0.005911543965339661, 0.006271630525588989, 0.005348801612854004, 0.006526418030261993, 0.006922110915184021], \"y\": [-0.0028765201568603516, -0.004334092140197754, -0.005394339561462402, -0.006118893623352051, -0.004658639430999756, -0.0038198232650756836, -0.00341874361038208], \"type\": \"scatter\", \"uid\": \"c21d4aeb-32ce-4f8e-aa6e-94879ac77a88\"}, {\"line\": {\"shape\": \"spline\"}, \"name\": \"10\", \"x\": [0.05652991682291031, 0.06620985269546509, 0.07382956147193909, 0.07766100764274597, 0.07413342595100403, 0.06605060398578644, 0.058708153665065765], \"y\": [0.15733656287193298, 0.15621507167816162, 0.15658073127269745, 0.15537944436073303, 0.15578262507915497, 0.1562531590461731, 0.15667150914669037], \"type\": \"scatter\", \"uid\": \"3f4e466d-1666-49dd-81c8-3761ee839271\"}, {\"line\": {\"shape\": \"spline\"}, \"name\": \"11\", \"x\": [0.08068390935659409, 0.09418849647045135, 0.10605350136756897, 0.11171576380729675, 0.10550253093242645, 0.09408100694417953, 0.0831739753484726], \"y\": [0.24905173480510712, 0.2476770579814911, 0.24592706561088562, 0.2443048059940338, 0.24609525501728058, 0.2477683126926422, 0.24772322177886963], \"type\": \"scatter\", \"uid\": \"88f36873-0749-4c41-9db9-bf968ce1f79e\"}, {\"line\": {\"shape\": \"spline\"}, \"name\": \"12\", \"x\": [0.09653407335281372, 0.11256316304206848, 0.12622901797294617, 0.13392314314842224, 0.12583914399147034, 0.11206729710102081, 0.09803986549377441], \"y\": [0.32385337352752686, 0.3225599229335785, 0.31853166222572327, 0.3162063956260681, 0.31904810667037964, 0.32214972376823425, 0.32250887155532837], \"type\": \"scatter\", \"uid\": \"5572f135-b895-4cf4-99e6-9eafaef94121\"}, {\"line\": {\"shape\": \"spline\"}, \"name\": \"13\", \"x\": [0.1029471829533577, 0.12248890101909637, 0.13574263453483582, 0.14631322026252747, 0.13762056827545166, 0.1203615814447403, 0.1022241860628128], \"y\": [0.4724869728088379, 0.471954345703125, 0.46743518114089966, 0.4649744927883148, 0.46687519550323486, 0.470196396112442, 0.4726574420928955], \"type\": \"scatter\", \"uid\": \"26c1ff6d-8986-44ff-91e8-f43c23a3dc51\"}, {\"line\": {\"shape\": \"spline\"}, \"name\": \"14\", \"x\": [0.08893852680921555, 0.10936351120471954, 0.1250942498445511, 0.13608773052692413, 0.1264643520116806, 0.10877364873886108, 0.08980030566453934], \"y\": [0.6151925325393677, 0.614566445350647, 0.6123701930046082, 0.6095248460769653, 0.6123698353767395, 0.6151100397109985, 0.6161074042320251], \"type\": \"scatter\", \"uid\": \"c41ad9a3-5a41-482d-b35d-f1c1058945ba\"}, {\"line\": {\"shape\": \"spline\"}, \"name\": \"15\", \"x\": [0.06113380938768387, 0.0798194408416748, 0.09571363031864166, 0.1049218624830246, 0.0961456149816513, 0.080568328499794, 0.06406477093696594], \"y\": [0.7565248012542725, 0.7599519491195679, 0.7628514170646667, 0.7621906995773315, 0.7634198665618896, 0.7619532346725464, 0.7577340006828308], \"type\": \"scatter\", \"uid\": \"9c22de86-c789-428a-bd96-a651c0a79c49\"}, {\"line\": {\"shape\": \"spline\"}, \"name\": \"16\", \"x\": [0.03775510936975479, 0.053711578249931335, 0.06679126620292664, 0.07386574149131775, 0.06699645519256592, 0.054298434406518936, 0.0405002236366272], \"y\": [0.8402210474014282, 0.8477247953414917, 0.8535050749778748, 0.8551236391067505, 0.8539837002754211, 0.8489680290222168, 0.8410809636116028], \"type\": \"scatter\", \"uid\": \"3976ab77-8a01-4c0e-a237-007b80921a65\"}, {\"line\": {\"shape\": \"spline\"}, \"name\": \"17\", \"x\": [-0.018421530723571777, -0.011450529098510742, -0.007692873477935791, -0.005853474140167236, -0.007230579853057861, -0.0120200514793396, -0.01855778694152832], \"y\": [0.9710816144943237, 0.9762872457504272, 0.9826430678367615, 0.9846929311752319, 0.9816678166389465, 0.9760022163391113, 0.9709265828132629], \"type\": \"scatter\", \"uid\": \"96bebf65-d305-42f4-80ec-a0284d74f701\"}, {\"line\": {\"shape\": \"spline\"}, \"name\": \"18\", \"x\": [0.008720152080059052, 0.006020307540893555, 0.006554022431373596, 0.006651133298873901, 0.005807220935821533, 0.007285602390766144, 0.008438214659690857], \"y\": [-0.00295257568359375, -0.005724966526031494, -0.007686316967010498, -0.008729934692382812, -0.006810188293457031, -0.005509674549102783, -0.0033590197563171387], \"type\": \"scatter\", \"uid\": \"fc059faf-03e1-4792-a57f-ef5a2fd981db\"}, {\"line\": {\"shape\": \"spline\"}, \"name\": \"19\", \"x\": [0.08262991160154343, 0.08912110328674316, 0.09536285698413849, 0.0991075336933136, 0.09555709362030029, 0.08943045884370804, 0.08427570760250092], \"y\": [0.13944435119628906, 0.1347116231918335, 0.1316426396369934, 0.1283520758152008, 0.13109181821346283, 0.13471007347106934, 0.13875128328800201], \"type\": \"scatter\", \"uid\": \"5badc182-ea79-4757-b2f1-01ee9d595d9c\"}, {\"line\": {\"shape\": \"spline\"}, \"name\": \"20\", \"x\": [0.129867285490036, 0.13959568738937378, 0.14973852038383484, 0.1556536853313446, 0.14914563298225403, 0.1401364803314209, 0.1317240297794342], \"y\": [0.2208179384469986, 0.21398049592971802, 0.20694391429424286, 0.20177891850471497, 0.2072250097990036, 0.21422800421714783, 0.2194116711616516], \"type\": \"scatter\", \"uid\": \"07aac1f7-4f44-4518-9ea9-67b1f85b29fc\"}, {\"line\": {\"shape\": \"spline\"}, \"name\": \"21\", \"x\": [0.16668853163719177, 0.17960771918296814, 0.19195155799388885, 0.2006988227367401, 0.19169747829437256, 0.17955541610717773, 0.16745468974113464], \"y\": [0.29485905170440674, 0.2881084382534027, 0.2779272198677063, 0.2714908719062805, 0.27838486433029175, 0.2875491976737976, 0.2933695316314697], \"type\": \"scatter\", \"uid\": \"b371d775-c40e-445c-8da6-74cb9b178a4b\"}, {\"line\": {\"shape\": \"spline\"}, \"name\": \"22\", \"x\": [0.21204319596290588, 0.22945627570152283, 0.24504293501377106, 0.2574363350868225, 0.24545970559120178, 0.2286730706691742, 0.21153360605239868], \"y\": [0.43295741081237793, 0.42743414640426636, 0.41560131311416626, 0.4086415469646454, 0.41625112295150757, 0.4260842502117157, 0.43194496631622314], \"type\": \"scatter\", \"uid\": \"cb45e00f-f3d3-464e-9ed9-52dd5a25c2e1\"}, {\"line\": {\"shape\": \"spline\"}, \"name\": \"23\", \"x\": [0.23449435830116272, 0.25137925148010254, 0.2684169411659241, 0.28072506189346313, 0.2687106132507324, 0.25135359168052673, 0.23494701087474823], \"y\": [0.5683777332305908, 0.5640944242477417, 0.5560777187347412, 0.5510014295578003, 0.5572848916053772, 0.5638328790664673, 0.5681907534599304], \"type\": \"scatter\", \"uid\": \"0bf2d8ff-3f9c-4b27-9260-2fd571f9ce65\"}, {\"line\": {\"shape\": \"spline\"}, \"name\": \"24\", \"x\": [0.2518974840641022, 0.2682774066925049, 0.28666436672210693, 0.29738473892211914, 0.2860957980155945, 0.2696590721607208, 0.25500309467315674], \"y\": [0.7139116525650024, 0.7147737741470337, 0.7144569754600525, 0.7125111818313599, 0.7161014676094055, 0.7162806987762451, 0.7142359614372253], \"type\": \"scatter\", \"uid\": \"7a53c7a8-73bb-40f1-8dbb-97ffecbd4fb1\"}, {\"line\": {\"shape\": \"spline\"}, \"name\": \"25\", \"x\": [0.2592932879924774, 0.27530914545059204, 0.2922988533973694, 0.3014620840549469, 0.291659414768219, 0.2764827013015747, 0.2628048360347748], \"y\": [0.7995043992996216, 0.8062952756881714, 0.8110718131065369, 0.8121849298477173, 0.81245356798172, 0.8072550296783447, 0.7997718453407288], \"type\": \"scatter\", \"uid\": \"bda9ba45-d5b5-4f87-8190-d14b9601921f\"}, {\"line\": {\"shape\": \"spline\"}, \"name\": \"26\", \"x\": [0.24836981296539307, 0.2602607309818268, 0.2710190415382385, 0.2763238847255707, 0.2706928849220276, 0.26023393869400024, 0.25005999207496643], \"y\": [0.9230564832687378, 0.9327791929244995, 0.9415311217308044, 0.945060133934021, 0.9416549801826477, 0.9321839809417725, 0.922648012638092], \"type\": \"scatter\", \"uid\": \"38572fa4-f393-4fd5-9a7a-23e883c96021\"}, {\"line\": {\"shape\": \"spline\"}, \"name\": \"27\", \"x\": [0.006903201341629028, 0.004163041710853577, 0.004079941660165787, 0.0038986802101135254, 0.003541290760040283, 0.00498691201210022, 0.006661266088485718], \"y\": [0.00018803775310516357, -0.0034002065658569336, -0.005635678768157959, -0.006779015064239502, -0.005025923252105713, -0.0035507678985595703, 0.00016295909881591797], \"type\": \"scatter\", \"uid\": \"79c5f55b-77ea-40f7-888e-bb071fd5c0b6\"}, {\"line\": {\"shape\": \"spline\"}, \"name\": \"28\", \"x\": [0.10197728127241135, 0.1053314208984375, 0.10932101309299469, 0.11289563775062561, 0.10991871356964111, 0.10565132647752762, 0.10281436145305634], \"y\": [0.12300784885883331, 0.11568715423345566, 0.10995299369096756, 0.1051960289478302, 0.10928605496883392, 0.11531856656074524, 0.12257120013237], \"type\": \"scatter\", \"uid\": \"b4a1bcda-340d-45a1-94b4-bc8cf6bbb87c\"}, {\"line\": {\"shape\": \"spline\"}, \"name\": \"29\", \"x\": [0.16807329654693604, 0.17473948001861572, 0.18153996765613556, 0.18775048851966858, 0.1820628046989441, 0.17513668537139893, 0.16882555186748505], \"y\": [0.19290800392627716, 0.1811579465866089, 0.16997066140174866, 0.16145437955856323, 0.16930581629276276, 0.18115869164466858, 0.1921200454235077], \"type\": \"scatter\", \"uid\": \"c635b6f2-c508-4b4f-80fb-2e392b1ffd4c\"}, {\"line\": {\"shape\": \"spline\"}, \"name\": \"30\", \"x\": [0.21838852763175964, 0.22822383046150208, 0.23796643316745758, 0.24670305848121643, 0.2383185774087906, 0.2285347580909729, 0.2187187373638153], \"y\": [0.26035642623901367, 0.24670392274856567, 0.23168513178825378, 0.22099554538726807, 0.2313537746667862, 0.24663949012756348, 0.2592775523662567], \"type\": \"scatter\", \"uid\": \"b1891fcd-8d40-4562-b148-4ddbea3ea38f\"}, {\"line\": {\"shape\": \"spline\"}, \"name\": \"31\", \"x\": [0.2986905872821808, 0.3125261664390564, 0.3270503878593445, 0.3397253751754761, 0.3273600935935974, 0.31243693828582764, 0.29822778701782227], \"y\": [0.38730013370513916, 0.37473708391189575, 0.3574013113975525, 0.3462657034397125, 0.3578839898109436, 0.3739033043384552, 0.38616669178009033], \"type\": \"scatter\", \"uid\": \"0b9bddeb-13c8-46cc-95a5-c9d0465ed8b4\"}, {\"line\": {\"shape\": \"spline\"}, \"name\": \"32\", \"x\": [0.35729873180389404, 0.3730630874633789, 0.3919912576675415, 0.40617185831069946, 0.39164936542510986, 0.37380674481391907, 0.3580667972564697], \"y\": [0.5067791938781738, 0.49718356132507324, 0.48325520753860474, 0.4738065302371979, 0.48472529649734497, 0.4971992075443268, 0.5060346722602844], \"type\": \"scatter\", \"uid\": \"f0af9e8c-6856-4d96-9b01-cbfd21dae950\"}, {\"line\": {\"shape\": \"spline\"}, \"name\": \"33\", \"x\": [0.4092060327529907, 0.4252289831638336, 0.4460133910179138, 0.4592967629432678, 0.44540315866470337, 0.4268881380558014, 0.41249990463256836], \"y\": [0.6399549245834351, 0.6377242803573608, 0.6334335207939148, 0.6287039518356323, 0.6351748108863831, 0.6386978626251221, 0.640087902545929], \"type\": \"scatter\", \"uid\": \"fbc38bd3-97c3-4a31-97bc-97f807dafd08\"}, {\"line\": {\"shape\": \"spline\"}, \"name\": \"34\", \"x\": [0.43882250785827637, 0.4560222625732422, 0.47646135091781616, 0.48898977041244507, 0.47617390751838684, 0.45742562413215637, 0.44310683012008667], \"y\": [0.720831036567688, 0.7257994413375854, 0.7282869219779968, 0.7270203828811646, 0.7294612526893616, 0.726325273513794, 0.7213566899299622], \"type\": \"scatter\", \"uid\": \"18582b17-77c9-4c37-9315-58fa75388318\"}, {\"line\": {\"shape\": \"spline\"}, \"name\": \"35\", \"x\": [0.4600871205329895, 0.47659486532211304, 0.4932892322540283, 0.5035000443458557, 0.49363982677459717, 0.4768792688846588, 0.4637393355369568], \"y\": [0.8320325613021851, 0.843504786491394, 0.8525342345237732, 0.8546731472015381, 0.8523545861244202, 0.8426065444946289, 0.8324397206306458], \"type\": \"scatter\", \"uid\": \"19b372b0-a43d-4b8f-a0be-444b68b3c5db\"}, {\"line\": {\"shape\": \"spline\"}, \"name\": \"36\", \"x\": [0.0003627166152000427, 0.00047087669372558594, -0.00041878223419189453, -0.0012235045433044434, -0.0005006194114685059, -2.0265579223632812e-05, 0.00014910101890563965], \"y\": [0.00504930317401886, 0.002394266426563263, 9.253621101379395e-06, -0.0006631016731262207, -3.5762786865234375e-07, 0.001553073525428772, 0.00560489296913147], \"type\": \"scatter\", \"uid\": \"efe6e1eb-9e55-4a45-81ae-116db29a2bb3\"}, {\"line\": {\"shape\": \"spline\"}, \"name\": \"37\", \"x\": [0.1299486756324768, 0.12884855270385742, 0.1280078887939453, 0.13067378103733063, 0.12939436733722687, 0.12856237590312958, 0.12863245606422424], \"y\": [0.08106444776058197, 0.07227473706007004, 0.06200406327843666, 0.05617314577102661, 0.061345890164375305, 0.07079014182090759, 0.08092719316482544], \"type\": \"scatter\", \"uid\": \"c0f65b2f-7830-42c1-ac3d-2f872f5a9136\"}, {\"line\": {\"shape\": \"spline\"}, \"name\": \"38\", \"x\": [0.22829008102416992, 0.22737282514572144, 0.22693081200122833, 0.23155811429023743, 0.22897124290466309, 0.22714197635650635, 0.2267356961965561], \"y\": [0.13017670810222626, 0.11390324681997299, 0.0974280834197998, 0.08694791793823242, 0.09608276188373566, 0.11284038424491882, 0.13000339269638062], \"type\": \"scatter\", \"uid\": \"cf0f04fa-dc57-497a-ae5c-b1ad61437560\"}, {\"line\": {\"shape\": \"spline\"}, \"name\": \"39\", \"x\": [0.29984986782073975, 0.3015221953392029, 0.304318904876709, 0.31026187539100647, 0.30560576915740967, 0.3020786643028259, 0.29916393756866455], \"y\": [0.1795317381620407, 0.15628212690353394, 0.13516706228256226, 0.12064194679260254, 0.13398192822933197, 0.15676847100257874, 0.1790124773979187], \"type\": \"scatter\", \"uid\": \"f4de52e4-1bff-485c-854c-38a4b3fa4284\"}, {\"line\": {\"shape\": \"spline\"}, \"name\": \"40\", \"x\": [0.4256868064403534, 0.4322223961353302, 0.44108498096466064, 0.4497551918029785, 0.4415203928947449, 0.4335672855377197, 0.426207959651947], \"y\": [0.2715306282043457, 0.24087655544281006, 0.21557682752609253, 0.1968567669391632, 0.21464507281780243, 0.2430885136127472, 0.27089470624923706], \"type\": \"scatter\", \"uid\": \"f9e21ba4-eb26-4d89-a9a1-19449c86ee78\"}, {\"line\": {\"shape\": \"spline\"}, \"name\": \"41\", \"x\": [0.5428484082221985, 0.5549315214157104, 0.5692705512046814, 0.5818349719047546, 0.5703859925270081, 0.5557460784912109, 0.5439037680625916], \"y\": [0.35793983936309814, 0.33125972747802734, 0.3092861771583557, 0.2917462885379791, 0.3080753684043884, 0.3328154385089874, 0.35814470052719116], \"type\": \"scatter\", \"uid\": \"e1200ff2-6cb3-4cf7-a37f-718ea4f960c8\"}, {\"line\": {\"shape\": \"spline\"}, \"name\": \"42\", \"x\": [0.6583340167999268, 0.6796489357948303, 0.7023225426673889, 0.7195026874542236, 0.7036564350128174, 0.6807364821434021, 0.6619352102279663], \"y\": [0.4460839033126831, 0.4326671361923218, 0.4203316569328308, 0.4065774977207184, 0.4191039204597473, 0.43393757939338684, 0.4472091794013977], \"type\": \"scatter\", \"uid\": \"5b849340-69c5-4ad7-bbb7-e83639a40638\"}, {\"line\": {\"shape\": \"spline\"}, \"name\": \"43\", \"x\": [0.7204441428184509, 0.7471770644187927, 0.7737972140312195, 0.793038010597229, 0.775263786315918, 0.748269259929657, 0.7256288528442383], \"y\": [0.49566829204559326, 0.4936283826828003, 0.4886721968650818, 0.4787652790546417, 0.4874804615974426, 0.49412742257118225, 0.49717456102371216], \"type\": \"scatter\", \"uid\": \"80ea8301-10b6-454b-9246-e2824ad493ec\"}, {\"line\": {\"shape\": \"spline\"}, \"name\": \"44\", \"x\": [0.7825458645820618, 0.8136674165725708, 0.8419862985610962, 0.8622733354568481, 0.8439462184906006, 0.8142070770263672, 0.7886434197425842], \"y\": [0.5630520582199097, 0.574459433555603, 0.5782570242881775, 0.5734721422195435, 0.5767002701759338, 0.573279857635498, 0.5647903084754944], \"type\": \"scatter\", \"uid\": \"9442b93c-12e0-460a-b41d-13a35a6a9e34\"}, {\"line\": {\"shape\": \"spline\"}, \"name\": \"45\", \"x\": [-0.0008487105369567871, 0.004176422953605652, 0.003329738974571228, 0.002045542001724243, 0.003460913896560669, 0.0023359060287475586, -0.0008009672164916992], \"y\": [0.00034640729427337646, 0.0007475614547729492, -0.0015327930450439453, -0.001621246337890625, -0.002082228660583496, -0.00022298097610473633, 0.0011500716209411621], \"type\": \"scatter\", \"uid\": \"c69a2d0c-7b8b-4780-b3db-d48240815b13\"}, {\"line\": {\"shape\": \"spline\"}, \"name\": \"46\", \"x\": [0.14864295721054077, 0.14346399903297424, 0.1403830498456955, 0.1398540437221527, 0.14041945338249207, 0.14337895810604095, 0.14711543917655945], \"y\": [0.02749425172805786, 0.01975836604833603, 0.007838904857635498, 0.0038776397705078125, 0.008784845471382141, 0.01867072284221649, 0.026619791984558105], \"type\": \"scatter\", \"uid\": \"f2c95907-9ab9-476d-a594-04fc5faee985\"}, {\"line\": {\"shape\": \"spline\"}, \"name\": \"47\", \"x\": [0.266439288854599, 0.25752654671669006, 0.25269410014152527, 0.2526932656764984, 0.25354623794555664, 0.2574909031391144, 0.26416587829589844], \"y\": [0.05109076201915741, 0.03523274511098862, 0.017450690269470215, 0.010192513465881348, 0.01794363558292389, 0.03411176800727844, 0.05002188682556152], \"type\": \"scatter\", \"uid\": \"3e2d7316-4e46-40c4-87b0-da78a77b2acf\"}, {\"line\": {\"shape\": \"spline\"}, \"name\": \"48\", \"x\": [0.35815972089767456, 0.34987932443618774, 0.34587520360946655, 0.3462029993534088, 0.3467792272567749, 0.3500896692276001, 0.35620081424713135], \"y\": [0.07495217025279999, 0.05078267306089401, 0.02870732545852661, 0.01795777678489685, 0.028728529810905457, 0.05068191885948181, 0.07383525371551514], \"type\": \"scatter\", \"uid\": \"dad57d28-440b-4cd2-bddb-182c30872b25\"}, {\"line\": {\"shape\": \"spline\"}, \"name\": \"49\", \"x\": [0.5028865337371826, 0.5008136630058289, 0.5031770467758179, 0.5041292905807495, 0.5024102926254272, 0.5025585293769836, 0.5029726028442383], \"y\": [0.1184764951467514, 0.08040570467710495, 0.0526127815246582, 0.03576436638832092, 0.052795812487602234, 0.08371487259864807, 0.11694806814193726], \"type\": \"scatter\", \"uid\": \"52f7152a-bf3e-48bf-9522-aefa84718bf4\"}, {\"line\": {\"shape\": \"spline\"}, \"name\": \"50\", \"x\": [0.6379339694976807, 0.6449084281921387, 0.6541550159454346, 0.6577920913696289, 0.6530453562736511, 0.647087574005127, 0.6391211748123169], \"y\": [0.15046678483486176, 0.10863196104764938, 0.08042353391647339, 0.061184436082839966, 0.08035199344158173, 0.11313977837562561, 0.14923471212387085], \"type\": \"scatter\", \"uid\": \"2a3dc9e4-41c3-416b-a44e-ffcdd3b757cd\"}, {\"line\": {\"shape\": \"spline\"}, \"name\": \"51\", \"x\": [0.7836453914642334, 0.8040695786476135, 0.8218969702720642, 0.8312357664108276, 0.8216546177864075, 0.8055917620658875, 0.7855923175811768], \"y\": [0.17225061357021332, 0.14181721210479736, 0.11965543031692505, 0.10315659642219543, 0.1193045824766159, 0.1446235477924347, 0.1718023419380188], \"type\": \"scatter\", \"uid\": \"c1830c6c-c928-4c3a-9934-0a35e959ca9c\"}, {\"line\": {\"shape\": \"spline\"}, \"name\": \"52\", \"x\": [0.8670512437820435, 0.8965933322906494, 0.9201470017433167, 0.9337767362594604, 0.9204964637756348, 0.8975695371627808, 0.8696401119232178], \"y\": [0.1816474050283432, 0.164831280708313, 0.1486455798149109, 0.13597145676612854, 0.14845995604991913, 0.16559436917304993, 0.18154460191726685], \"type\": \"scatter\", \"uid\": \"81b5778d-07e1-4466-a37c-04f556103141\"}, {\"line\": {\"shape\": \"spline\"}, \"name\": \"53\", \"x\": [0.9561097621917725, 0.9960640668869019, 1.0267281532287598, 1.0453022718429565, 1.0272208452224731, 0.9967817068099976, 0.9599037170410156], \"y\": [0.19901953637599945, 0.20095336437225342, 0.19264191389083862, 0.18512240052223206, 0.19310574233531952, 0.19932106137275696, 0.19888430833816528], \"type\": \"scatter\", \"uid\": \"cce71875-0f8f-444d-b5fb-1f453eb790a9\"}, {\"line\": {\"shape\": \"spline\"}, \"name\": \"54\", \"x\": [0.009971357882022858, 0.01297786831855774, 0.012097179889678955, 0.010816067457199097, 0.01269504427909851, 0.01118200272321701, 0.010957233607769012], \"y\": [-0.0009647011756896973, -0.00022852420806884766, 0.0001666247844696045, -7.832050323486328e-05, -0.0009799599647521973, -0.00018459558486938477, 0.00014823675155639648], \"type\": \"scatter\", \"uid\": \"59ccea41-c6dc-4f17-a633-58aa4842389e\"}, {\"line\": {\"shape\": \"spline\"}, \"name\": \"55\", \"x\": [0.15865889191627502, 0.14505314826965332, 0.13988591730594635, 0.13619545102119446, 0.13933826982975006, 0.14546450972557068, 0.15997686982154846], \"y\": [-0.016909122467041016, -0.027850687503814697, -0.03504115343093872, -0.03755718469619751, -0.034286320209503174, -0.026688992977142334, -0.017120063304901123], \"type\": \"scatter\", \"uid\": \"c722dfce-6b68-42f2-918e-149844553609\"}, {\"line\": {\"shape\": \"spline\"}, \"name\": \"56\", \"x\": [0.27829888463020325, 0.2566096782684326, 0.24726562201976776, 0.24280622601509094, 0.24775415658950806, 0.2568301856517792, 0.2779749035835266], \"y\": [-0.02741837501525879, -0.046506643295288086, -0.058561086654663086, -0.062390148639678955, -0.057933926582336426, -0.04622292518615723, -0.027858972549438477], \"type\": \"scatter\", \"uid\": \"3d9ef5dd-1efd-49dc-8f45-923df095d368\"}, {\"line\": {\"shape\": \"spline\"}, \"name\": \"57\", \"x\": [0.37250733375549316, 0.3482319414615631, 0.33664804697036743, 0.33180150389671326, 0.33813315629959106, 0.3478579521179199, 0.37088876962661743], \"y\": [-0.03806757926940918, -0.06482529640197754, -0.08035486936569214, -0.08577471971511841, -0.08036667108535767, -0.06502699851989746, -0.0383601188659668], \"type\": \"scatter\", \"uid\": \"af1e7f8e-b815-4b1f-8d3a-cc03ad3454a8\"}, {\"line\": {\"shape\": \"spline\"}, \"name\": \"58\", \"x\": [0.5098984241485596, 0.49081355333328247, 0.48413723707199097, 0.478650838136673, 0.48383569717407227, 0.49184441566467285, 0.5089821219444275], \"y\": [-0.05439412593841553, -0.09650158882141113, -0.11807793378829956, -0.12841570377349854, -0.11759382486343384, -0.09411758184432983, -0.05542641878128052], \"type\": \"scatter\", \"uid\": \"dd1d886c-afec-4606-8ed3-c4e525986b6d\"}, {\"line\": {\"shape\": \"spline\"}, \"name\": \"59\", \"x\": [0.6358633041381836, 0.627550482749939, 0.627785325050354, 0.624093770980835, 0.6265724897384644, 0.6292425394058228, 0.6353287696838379], \"y\": [-0.0853610634803772, -0.13495749235153198, -0.158982515335083, -0.1724211573600769, -0.1584841012954712, -0.13131612539291382, -0.08656233549118042], \"type\": \"scatter\", \"uid\": \"ff995847-f17b-4b80-a78c-6c2112fff0a4\"}, {\"line\": {\"shape\": \"spline\"}, \"name\": \"60\", \"x\": [0.7752179503440857, 0.784130871295929, 0.7930135130882263, 0.7949216365814209, 0.7925723791122437, 0.78509122133255, 0.7745575308799744], \"y\": [-0.13709139823913574, -0.18210166692733765, -0.20430952310562134, -0.21789252758026123, -0.20436257123947144, -0.1796899437904358, -0.13780075311660767], \"type\": \"scatter\", \"uid\": \"f3fde2f2-7718-4c05-bc61-5b84119a6ff0\"}, {\"line\": {\"shape\": \"spline\"}, \"name\": \"61\", \"x\": [0.8588841557502747, 0.8799923658370972, 0.8950923085212708, 0.9017676115036011, 0.8952847719192505, 0.8804001808166504, 0.8584288954734802], \"y\": [-0.1712646484375, -0.20827460289001465, -0.22801971435546875, -0.24049264192581177, -0.22820329666137695, -0.20727699995040894, -0.1717650294303894], \"type\": \"scatter\", \"uid\": \"19b0313d-17a8-4ee7-a4d5-f71e4622af1e\"}, {\"line\": {\"shape\": \"spline\"}, \"name\": \"62\", \"x\": [0.9584236145019531, 0.9950174689292908, 1.0184755325317383, 1.0316171646118164, 1.019176959991455, 0.9949823021888733, 0.9586173295974731], \"y\": [-0.2106398344039917, -0.23514145612716675, -0.25143539905548096, -0.26194173097610474, -0.2514238953590393, -0.23604345321655273, -0.21115988492965698], \"type\": \"scatter\", \"uid\": \"557b480f-88b9-4b43-9dac-58ac4f51f9d5\"}, {\"line\": {\"shape\": \"spline\"}, \"name\": \"63\", \"x\": [0.00924009084701538, 0.009746193885803223, 0.010054625570774078, 0.009828180074691772, 0.01072835922241211, 0.008776657283306122, 0.009009920060634613], \"y\": [-0.0010970830917358398, 0.000591568648815155, 0.0016844868659973145, 0.0017935633659362793, 0.0014146417379379272, 0.0002841949462890625, -0.0008829832077026367], \"type\": \"scatter\", \"uid\": \"316cb809-7364-4bfa-8d3f-b1b46681e4a3\"}, {\"line\": {\"shape\": \"spline\"}, \"name\": \"64\", \"x\": [0.1502506136894226, 0.13121746480464935, 0.12616999447345734, 0.12192922830581665, 0.12519830465316772, 0.13254712522029877, 0.15188318490982056], \"y\": [-0.044038236141204834, -0.05691266059875488, -0.06224977970123291, -0.06415432691574097, -0.06082993745803833, -0.05518174171447754, -0.04461544752120972], \"type\": \"scatter\", \"uid\": \"86666076-4cd8-4616-a78e-d64a87cd0764\"}, {\"line\": {\"shape\": \"spline\"}, \"name\": \"65\", \"x\": [0.26229366660118103, 0.2324007749557495, 0.22170570492744446, 0.21541878581047058, 0.22160807251930237, 0.2334282398223877, 0.2636001408100128], \"y\": [-0.0830690860748291, -0.10638213157653809, -0.11543071269989014, -0.11865729093551636, -0.11459451913833618, -0.10479885339736938, -0.08321136236190796], \"type\": \"scatter\", \"uid\": \"6fe59180-1a63-4c12-a8d6-13701707e475\"}, {\"line\": {\"shape\": \"spline\"}, \"name\": \"66\", \"x\": [0.3519163131713867, 0.31835639476776123, 0.30387789011001587, 0.2972675859928131, 0.30551260709762573, 0.318198025226593, 0.3512578010559082], \"y\": [-0.11349016427993774, -0.14428365230560303, -0.156327486038208, -0.16083937883377075, -0.15653669834136963, -0.14379125833511353, -0.1131746768951416], \"type\": \"scatter\", \"uid\": \"63e93cc6-6dc8-4477-80be-2047b4f06f2b\"}, {\"line\": {\"shape\": \"spline\"}, \"name\": \"67\", \"x\": [0.48037365078926086, 0.45154717564582825, 0.43996793031692505, 0.4332126975059509, 0.4410070776939392, 0.45192086696624756, 0.47905004024505615], \"y\": [-0.1637650728225708, -0.2090488076210022, -0.22673249244689941, -0.235887348651886, -0.22714734077453613, -0.20717352628707886, -0.16376739740371704], \"type\": \"scatter\", \"uid\": \"75336fe2-8385-46cd-8468-d97198d316a3\"}, {\"line\": {\"shape\": \"spline\"}, \"name\": \"68\", \"x\": [0.592829167842865, 0.5760056376457214, 0.5705606341362, 0.566125750541687, 0.5713480114936829, 0.5765249729156494, 0.591170072555542], \"y\": [-0.22630834579467773, -0.2793940305709839, -0.29975855350494385, -0.3123655319213867, -0.3006380796432495, -0.27675479650497437, -0.22625917196273804], \"type\": \"scatter\", \"uid\": \"3c641a7c-236a-47ca-9774-19dd36f41e08\"}, {\"line\": {\"shape\": \"spline\"}, \"name\": \"69\", \"x\": [0.7144467234611511, 0.7168309688568115, 0.7200656533241272, 0.7220075130462646, 0.7218546271324158, 0.7165209054946899, 0.7122856974601746], \"y\": [-0.31244146823883057, -0.36343735456466675, -0.38341736793518066, -0.39733558893203735, -0.38496947288513184, -0.3616829514503479, -0.3120001554489136], \"type\": \"scatter\", \"uid\": \"8b3b862d-988a-486e-9c0e-70b1e8b4f100\"}, {\"line\": {\"shape\": \"spline\"}, \"name\": \"70\", \"x\": [0.786978006362915, 0.8029369711875916, 0.8128569722175598, 0.8200896978378296, 0.8151714205741882, 0.8022447824478149, 0.7850273251533508], \"y\": [-0.36430442333221436, -0.4100577235221863, -0.428864061832428, -0.44266223907470703, -0.4305190443992615, -0.4091324210166931, -0.3637903928756714], \"type\": \"scatter\", \"uid\": \"46cc6d93-d4b2-4d99-aeec-67de24b855c1\"}, {\"line\": {\"shape\": \"spline\"}, \"name\": \"71\", \"x\": [0.8739941120147705, 0.9072597622871399, 0.9264410138130188, 0.9408588409423828, 0.929012656211853, 0.9064587354660034, 0.8728787899017334], \"y\": [-0.4213526248931885, -0.4588962197303772, -0.4759690761566162, -0.4891435503959656, -0.4774378538131714, -0.4589652419090271, -0.4209746718406677], \"type\": \"scatter\", \"uid\": \"05d4bb56-4f6a-41e3-b08e-7110a8ac05b5\"}, {\"line\": {\"shape\": \"spline\"}, \"name\": \"72\", \"x\": [-0.0013010501861572266, -0.003802776336669922, -0.001757204532623291, -8.106231689453125e-06, -0.0008823275566101074, -0.0036610960960388184, -0.00389939546585083], \"y\": [-0.011415362358093262, -0.009723067283630371, -0.008851945400238037, -0.008668243885040283, -0.007793843746185303, -0.011018812656402588, -0.012583732604980469], \"type\": \"scatter\", \"uid\": \"d85a0048-9b3e-4acf-bded-6043f249f28f\"}, {\"line\": {\"shape\": \"spline\"}, \"name\": \"73\", \"x\": [0.12947311997413635, 0.10527539253234863, 0.10122962296009064, 0.09804271161556244, 0.10016962885856628, 0.10783024877309799, 0.1299152821302414], \"y\": [-0.08243668079376221, -0.09837567806243896, -0.1033366322517395, -0.10557764768600464, -0.10102128982543945, -0.09682834148406982, -0.08385288715362549], \"type\": \"scatter\", \"uid\": \"414eff3e-8dd8-40d2-9da8-7bcb43a9d156\"}, {\"line\": {\"shape\": \"spline\"}, \"name\": \"74\", \"x\": [0.22819790244102478, 0.1909956932067871, 0.18039442598819733, 0.17416095733642578, 0.17983074486255646, 0.1933368742465973, 0.22975312173366547], \"y\": [-0.15375888347625732, -0.18267273902893066, -0.19092696905136108, -0.19507819414138794, -0.18959105014801025, -0.18041175603866577, -0.15419906377792358], \"type\": \"scatter\", \"uid\": \"43c6d348-7d35-40d5-9833-35e141e137df\"}, {\"line\": {\"shape\": \"spline\"}, \"name\": \"75\", \"x\": [0.301172137260437, 0.25808778405189514, 0.24315513670444489, 0.23514625430107117, 0.24333958327770233, 0.2596169412136078, 0.3026736378669739], \"y\": [-0.2204667329788208, -0.2590062618255615, -0.27014029026031494, -0.27610093355178833, -0.2697930932044983, -0.2566697597503662, -0.22016817331314087], \"type\": \"scatter\", \"uid\": \"0e1c7f0a-62d7-4ca0-a357-4a3af3b53cb6\"}, {\"line\": {\"shape\": \"spline\"}, \"name\": \"76\", \"x\": [0.4029097557067871, 0.36334168910980225, 0.35068511962890625, 0.34219467639923096, 0.3495989143848419, 0.36564669013023376, 0.40331482887268066], \"y\": [-0.32088369131088257, -0.3724514842033386, -0.38976365327835083, -0.39996278285980225, -0.3892897367477417, -0.36923301219940186, -0.3211177587509155], \"type\": \"scatter\", \"uid\": \"b06a2793-5739-40a9-b195-ab71c84eb5a6\"}, {\"line\": {\"shape\": \"spline\"}, \"name\": \"77\", \"x\": [0.48271334171295166, 0.45616215467453003, 0.4511508345603943, 0.444896399974823, 0.44829031825065613, 0.4596232771873474, 0.48324739933013916], \"y\": [-0.4205760359764099, -0.4784621000289917, -0.49886125326156616, -0.5122909545898438, -0.4983961582183838, -0.4743845462799072, -0.421151340007782], \"type\": \"scatter\", \"uid\": \"2dc7f2ee-01d7-4344-9821-2886d8a33580\"}, {\"line\": {\"shape\": \"spline\"}, \"name\": \"78\", \"x\": [0.5641632676124573, 0.5591800808906555, 0.564784586429596, 0.5658714771270752, 0.5617152452468872, 0.562857449054718, 0.5648106336593628], \"y\": [-0.5354310274124146, -0.5906424522399902, -0.6109319925308228, -0.6256013512611389, -0.6109639406204224, -0.5870646238327026, -0.5358600616455078], \"type\": \"scatter\", \"uid\": \"6adb6831-60ce-4b17-a888-c55942dc451c\"}, {\"line\": {\"shape\": \"spline\"}, \"name\": \"79\", \"x\": [0.6128332018852234, 0.62333744764328, 0.6367754340171814, 0.6442270278930664, 0.633862316608429, 0.6271241903305054, 0.6140538454055786], \"y\": [-0.5965542793273926, -0.6471301317214966, -0.6663527488708496, -0.6809137463569641, -0.6665905714035034, -0.6440824270248413, -0.5969007015228271], \"type\": \"scatter\", \"uid\": \"22b75431-3909-4e70-a383-c3c69ccfcd3c\"}, {\"line\": {\"shape\": \"spline\"}, \"name\": \"80\", \"x\": [0.6733258962631226, 0.7036515474319458, 0.7276710867881775, 0.7438184022903442, 0.7248178720474243, 0.7077916860580444, 0.6758057475090027], \"y\": [-0.657886266708374, -0.7018760442733765, -0.7194923758506775, -0.7334617972373962, -0.7198119163513184, -0.6994474530220032, -0.6582269668579102], \"type\": \"scatter\", \"uid\": \"07046072-b508-4041-970c-81d0a73f2f9f\"}], {\"height\": 600, \"hovermode\": \"closest\", \"title\": {\"text\": \"Initial Curves\"}, \"width\": 600, \"xaxis\": {\"range\": [-0.5, 1.1], \"title\": {\"text\": \"X\"}}, \"yaxis\": {\"range\": [-0.8, 1.2], \"title\": {\"text\": \"Y\"}}}, {\"showLink\": false, \"linkText\": \"Export to plot.ly\", \"plotlyServerURL\": \"https://plot.ly\"})});</script>"
      ],
      "text/vnd.plotly.v1+html": [
       "<div id=\"5fe21c07-50d5-434e-b0ac-a73e4500fe61\" style=\"height: 600px; width: 600px;\" class=\"plotly-graph-div\"></div><script type=\"text/javascript\">require([\"plotly\"], function(Plotly) { window.PLOTLYENV=window.PLOTLYENV || {};window.PLOTLYENV.BASE_URL=\"https://plot.ly\";Plotly.newPlot(\"5fe21c07-50d5-434e-b0ac-a73e4500fe61\", [{\"line\": {\"dash\": \"2px,6px\", \"shape\": \"spline\"}, \"marker\": {\"symbol\": \"star\"}, \"name\": \"0\", \"x\": [-0.005277097225189209, -0.006634533405303955, -0.006476163864135742, -0.006336629390716553, -0.006471514701843262, -0.005752444267272949, -0.005557894706726074], \"y\": [0.003958389163017273, 0.0045890286564826965, 0.005535721778869629, 0.0063256919384002686, 0.005864948034286499, 0.004968106746673584, 0.0035791993141174316], \"type\": \"scatter\", \"uid\": \"c6282d4a-978d-49b4-9e9d-159fac35c893\"}, {\"line\": {\"dash\": \"2px,6px\", \"shape\": \"spline\"}, \"marker\": {\"symbol\": \"star\"}, \"name\": \"1\", \"x\": [0.004585638642311096, 0.0173027366399765, 0.024882927536964417, 0.028242439031600952, 0.02591046690940857, 0.016105391085147858, 0.006599888205528259], \"y\": [0.17438548803329468, 0.1779211461544037, 0.18293780088424683, 0.18505945801734924, 0.1815926879644394, 0.17739763855934143, 0.1741633415222168], \"type\": \"scatter\", \"uid\": \"d475339f-d895-47ca-a67e-06adde46413f\"}, {\"line\": {\"dash\": \"2px,6px\", \"shape\": \"spline\"}, \"marker\": {\"symbol\": \"star\"}, \"name\": \"2\", \"x\": [0.0021014362573623657, 0.019183024764060974, 0.03053729236125946, 0.03502945601940155, 0.03101867437362671, 0.017716340720653534, 0.0043969228863716125], \"y\": [0.2756962776184082, 0.27983152866363525, 0.2846253216266632, 0.28762152791023254, 0.28401970863342285, 0.27912890911102295, 0.27507123351097107], \"type\": \"scatter\", \"uid\": \"4027726e-7216-4483-9cfc-34604fd3ae69\"}, {\"line\": {\"dash\": \"2px,6px\", \"shape\": \"spline\"}, \"marker\": {\"symbol\": \"star\"}, \"name\": \"3\", \"x\": [-0.007268130779266357, 0.009892076253890991, 0.0216805562376976, 0.02659793198108673, 0.022150367498397827, 0.00819379836320877, -0.0060236454010009766], \"y\": [0.3508482575416565, 0.3548346161842346, 0.35847166180610657, 0.36228278279304504, 0.35861241817474365, 0.35365229845046997, 0.35026007890701294], \"type\": \"scatter\", \"uid\": \"1ba351ab-6464-4a5d-98ba-e463386a22ae\"}, {\"line\": {\"dash\": \"2px,6px\", \"shape\": \"spline\"}, \"marker\": {\"symbol\": \"star\"}, \"name\": \"4\", \"x\": [-0.04582560062408447, -0.02659553289413452, -0.015206575393676758, -0.008236587047576904, -0.013107120990753174, -0.029090464115142822, -0.04641646146774292], \"y\": [0.5001319646835327, 0.5044928789138794, 0.5073830485343933, 0.5111206769943237, 0.5071454048156738, 0.5026215314865112, 0.5008968710899353], \"type\": \"scatter\", \"uid\": \"67c2a736-5fd0-4262-9520-0c51204ceb8e\"}, {\"line\": {\"dash\": \"2px,6px\", \"shape\": \"spline\"}, \"marker\": {\"symbol\": \"star\"}, \"name\": \"5\", \"x\": [-0.10624253749847412, -0.08670163154602051, -0.07251065969467163, -0.06473022699356079, -0.07143658399581909, -0.08697491884231567, -0.10508370399475098], \"y\": [0.6341850757598877, 0.6381098031997681, 0.6408697962760925, 0.6425951719284058, 0.6417294144630432, 0.6390148401260376, 0.6354736685752869], \"type\": \"scatter\", \"uid\": \"3014e7c7-c153-4fa9-9915-5ff362d7aa16\"}, {\"line\": {\"dash\": \"2px,6px\", \"shape\": \"spline\"}, \"marker\": {\"symbol\": \"star\"}, \"name\": \"6\", \"x\": [-0.1873881220817566, -0.17359763383865356, -0.16189485788345337, -0.15607154369354248, -0.1614934206008911, -0.17274731397628784, -0.18509268760681152], \"y\": [0.7490866184234619, 0.7557592391967773, 0.7599098086357117, 0.762793779373169, 0.761603057384491, 0.7573264837265015, 0.7507098317146301], \"type\": \"scatter\", \"uid\": \"8438d39d-4aed-4f34-8aee-2a9f242ef681\"}, {\"line\": {\"dash\": \"2px,6px\", \"shape\": \"spline\"}, \"marker\": {\"symbol\": \"star\"}, \"name\": \"7\", \"x\": [-0.24349313974380493, -0.2357441782951355, -0.22830736637115479, -0.2247287631034851, -0.22808897495269775, -0.2347617745399475, -0.24156051874160767], \"y\": [0.8188827037811279, 0.826007604598999, 0.8297311663627625, 0.8328793048858643, 0.8313472867012024, 0.8269729614257812, 0.8201389908790588], \"type\": \"scatter\", \"uid\": \"62c5e21c-348a-4f02-8328-587d8a95f053\"}, {\"line\": {\"dash\": \"2px,6px\", \"shape\": \"spline\"}, \"marker\": {\"symbol\": \"star\"}, \"name\": \"8\", \"x\": [-0.3299875259399414, -0.3331865668296814, -0.3344549536705017, -0.33514195680618286, -0.33406537771224976, -0.3326043486595154, -0.3301343321800232], \"y\": [0.9333808422088623, 0.9315204620361328, 0.9312347769737244, 0.9313985109329224, 0.9312229752540588, 0.9316500425338745, 0.933697521686554], \"type\": \"scatter\", \"uid\": \"6e6969ed-9571-4766-b049-8be2197bbe00\"}, {\"line\": {\"shape\": \"spline\"}, \"name\": \"9\", \"x\": [0.00720321387052536, 0.005166471004486084, 0.005911543965339661, 0.006271630525588989, 0.005348801612854004, 0.006526418030261993, 0.006922110915184021], \"y\": [-0.0028765201568603516, -0.004334092140197754, -0.005394339561462402, -0.006118893623352051, -0.004658639430999756, -0.0038198232650756836, -0.00341874361038208], \"type\": \"scatter\", \"uid\": \"c21d4aeb-32ce-4f8e-aa6e-94879ac77a88\"}, {\"line\": {\"shape\": \"spline\"}, \"name\": \"10\", \"x\": [0.05652991682291031, 0.06620985269546509, 0.07382956147193909, 0.07766100764274597, 0.07413342595100403, 0.06605060398578644, 0.058708153665065765], \"y\": [0.15733656287193298, 0.15621507167816162, 0.15658073127269745, 0.15537944436073303, 0.15578262507915497, 0.1562531590461731, 0.15667150914669037], \"type\": \"scatter\", \"uid\": \"3f4e466d-1666-49dd-81c8-3761ee839271\"}, {\"line\": {\"shape\": \"spline\"}, \"name\": \"11\", \"x\": [0.08068390935659409, 0.09418849647045135, 0.10605350136756897, 0.11171576380729675, 0.10550253093242645, 0.09408100694417953, 0.0831739753484726], \"y\": [0.24905173480510712, 0.2476770579814911, 0.24592706561088562, 0.2443048059940338, 0.24609525501728058, 0.2477683126926422, 0.24772322177886963], \"type\": \"scatter\", \"uid\": \"88f36873-0749-4c41-9db9-bf968ce1f79e\"}, {\"line\": {\"shape\": \"spline\"}, \"name\": \"12\", \"x\": [0.09653407335281372, 0.11256316304206848, 0.12622901797294617, 0.13392314314842224, 0.12583914399147034, 0.11206729710102081, 0.09803986549377441], \"y\": [0.32385337352752686, 0.3225599229335785, 0.31853166222572327, 0.3162063956260681, 0.31904810667037964, 0.32214972376823425, 0.32250887155532837], \"type\": \"scatter\", \"uid\": \"5572f135-b895-4cf4-99e6-9eafaef94121\"}, {\"line\": {\"shape\": \"spline\"}, \"name\": \"13\", \"x\": [0.1029471829533577, 0.12248890101909637, 0.13574263453483582, 0.14631322026252747, 0.13762056827545166, 0.1203615814447403, 0.1022241860628128], \"y\": [0.4724869728088379, 0.471954345703125, 0.46743518114089966, 0.4649744927883148, 0.46687519550323486, 0.470196396112442, 0.4726574420928955], \"type\": \"scatter\", \"uid\": \"26c1ff6d-8986-44ff-91e8-f43c23a3dc51\"}, {\"line\": {\"shape\": \"spline\"}, \"name\": \"14\", \"x\": [0.08893852680921555, 0.10936351120471954, 0.1250942498445511, 0.13608773052692413, 0.1264643520116806, 0.10877364873886108, 0.08980030566453934], \"y\": [0.6151925325393677, 0.614566445350647, 0.6123701930046082, 0.6095248460769653, 0.6123698353767395, 0.6151100397109985, 0.6161074042320251], \"type\": \"scatter\", \"uid\": \"c41ad9a3-5a41-482d-b35d-f1c1058945ba\"}, {\"line\": {\"shape\": \"spline\"}, \"name\": \"15\", \"x\": [0.06113380938768387, 0.0798194408416748, 0.09571363031864166, 0.1049218624830246, 0.0961456149816513, 0.080568328499794, 0.06406477093696594], \"y\": [0.7565248012542725, 0.7599519491195679, 0.7628514170646667, 0.7621906995773315, 0.7634198665618896, 0.7619532346725464, 0.7577340006828308], \"type\": \"scatter\", \"uid\": \"9c22de86-c789-428a-bd96-a651c0a79c49\"}, {\"line\": {\"shape\": \"spline\"}, \"name\": \"16\", \"x\": [0.03775510936975479, 0.053711578249931335, 0.06679126620292664, 0.07386574149131775, 0.06699645519256592, 0.054298434406518936, 0.0405002236366272], \"y\": [0.8402210474014282, 0.8477247953414917, 0.8535050749778748, 0.8551236391067505, 0.8539837002754211, 0.8489680290222168, 0.8410809636116028], \"type\": \"scatter\", \"uid\": \"3976ab77-8a01-4c0e-a237-007b80921a65\"}, {\"line\": {\"shape\": \"spline\"}, \"name\": \"17\", \"x\": [-0.018421530723571777, -0.011450529098510742, -0.007692873477935791, -0.005853474140167236, -0.007230579853057861, -0.0120200514793396, -0.01855778694152832], \"y\": [0.9710816144943237, 0.9762872457504272, 0.9826430678367615, 0.9846929311752319, 0.9816678166389465, 0.9760022163391113, 0.9709265828132629], \"type\": \"scatter\", \"uid\": \"96bebf65-d305-42f4-80ec-a0284d74f701\"}, {\"line\": {\"shape\": \"spline\"}, \"name\": \"18\", \"x\": [0.008720152080059052, 0.006020307540893555, 0.006554022431373596, 0.006651133298873901, 0.005807220935821533, 0.007285602390766144, 0.008438214659690857], \"y\": [-0.00295257568359375, -0.005724966526031494, -0.007686316967010498, -0.008729934692382812, -0.006810188293457031, -0.005509674549102783, -0.0033590197563171387], \"type\": \"scatter\", \"uid\": \"fc059faf-03e1-4792-a57f-ef5a2fd981db\"}, {\"line\": {\"shape\": \"spline\"}, \"name\": \"19\", \"x\": [0.08262991160154343, 0.08912110328674316, 0.09536285698413849, 0.0991075336933136, 0.09555709362030029, 0.08943045884370804, 0.08427570760250092], \"y\": [0.13944435119628906, 0.1347116231918335, 0.1316426396369934, 0.1283520758152008, 0.13109181821346283, 0.13471007347106934, 0.13875128328800201], \"type\": \"scatter\", \"uid\": \"5badc182-ea79-4757-b2f1-01ee9d595d9c\"}, {\"line\": {\"shape\": \"spline\"}, \"name\": \"20\", \"x\": [0.129867285490036, 0.13959568738937378, 0.14973852038383484, 0.1556536853313446, 0.14914563298225403, 0.1401364803314209, 0.1317240297794342], \"y\": [0.2208179384469986, 0.21398049592971802, 0.20694391429424286, 0.20177891850471497, 0.2072250097990036, 0.21422800421714783, 0.2194116711616516], \"type\": \"scatter\", \"uid\": \"07aac1f7-4f44-4518-9ea9-67b1f85b29fc\"}, {\"line\": {\"shape\": \"spline\"}, \"name\": \"21\", \"x\": [0.16668853163719177, 0.17960771918296814, 0.19195155799388885, 0.2006988227367401, 0.19169747829437256, 0.17955541610717773, 0.16745468974113464], \"y\": [0.29485905170440674, 0.2881084382534027, 0.2779272198677063, 0.2714908719062805, 0.27838486433029175, 0.2875491976737976, 0.2933695316314697], \"type\": \"scatter\", \"uid\": \"b371d775-c40e-445c-8da6-74cb9b178a4b\"}, {\"line\": {\"shape\": \"spline\"}, \"name\": \"22\", \"x\": [0.21204319596290588, 0.22945627570152283, 0.24504293501377106, 0.2574363350868225, 0.24545970559120178, 0.2286730706691742, 0.21153360605239868], \"y\": [0.43295741081237793, 0.42743414640426636, 0.41560131311416626, 0.4086415469646454, 0.41625112295150757, 0.4260842502117157, 0.43194496631622314], \"type\": \"scatter\", \"uid\": \"cb45e00f-f3d3-464e-9ed9-52dd5a25c2e1\"}, {\"line\": {\"shape\": \"spline\"}, \"name\": \"23\", \"x\": [0.23449435830116272, 0.25137925148010254, 0.2684169411659241, 0.28072506189346313, 0.2687106132507324, 0.25135359168052673, 0.23494701087474823], \"y\": [0.5683777332305908, 0.5640944242477417, 0.5560777187347412, 0.5510014295578003, 0.5572848916053772, 0.5638328790664673, 0.5681907534599304], \"type\": \"scatter\", \"uid\": \"0bf2d8ff-3f9c-4b27-9260-2fd571f9ce65\"}, {\"line\": {\"shape\": \"spline\"}, \"name\": \"24\", \"x\": [0.2518974840641022, 0.2682774066925049, 0.28666436672210693, 0.29738473892211914, 0.2860957980155945, 0.2696590721607208, 0.25500309467315674], \"y\": [0.7139116525650024, 0.7147737741470337, 0.7144569754600525, 0.7125111818313599, 0.7161014676094055, 0.7162806987762451, 0.7142359614372253], \"type\": \"scatter\", \"uid\": \"7a53c7a8-73bb-40f1-8dbb-97ffecbd4fb1\"}, {\"line\": {\"shape\": \"spline\"}, \"name\": \"25\", \"x\": [0.2592932879924774, 0.27530914545059204, 0.2922988533973694, 0.3014620840549469, 0.291659414768219, 0.2764827013015747, 0.2628048360347748], \"y\": [0.7995043992996216, 0.8062952756881714, 0.8110718131065369, 0.8121849298477173, 0.81245356798172, 0.8072550296783447, 0.7997718453407288], \"type\": \"scatter\", \"uid\": \"bda9ba45-d5b5-4f87-8190-d14b9601921f\"}, {\"line\": {\"shape\": \"spline\"}, \"name\": \"26\", \"x\": [0.24836981296539307, 0.2602607309818268, 0.2710190415382385, 0.2763238847255707, 0.2706928849220276, 0.26023393869400024, 0.25005999207496643], \"y\": [0.9230564832687378, 0.9327791929244995, 0.9415311217308044, 0.945060133934021, 0.9416549801826477, 0.9321839809417725, 0.922648012638092], \"type\": \"scatter\", \"uid\": \"38572fa4-f393-4fd5-9a7a-23e883c96021\"}, {\"line\": {\"shape\": \"spline\"}, \"name\": \"27\", \"x\": [0.006903201341629028, 0.004163041710853577, 0.004079941660165787, 0.0038986802101135254, 0.003541290760040283, 0.00498691201210022, 0.006661266088485718], \"y\": [0.00018803775310516357, -0.0034002065658569336, -0.005635678768157959, -0.006779015064239502, -0.005025923252105713, -0.0035507678985595703, 0.00016295909881591797], \"type\": \"scatter\", \"uid\": \"79c5f55b-77ea-40f7-888e-bb071fd5c0b6\"}, {\"line\": {\"shape\": \"spline\"}, \"name\": \"28\", \"x\": [0.10197728127241135, 0.1053314208984375, 0.10932101309299469, 0.11289563775062561, 0.10991871356964111, 0.10565132647752762, 0.10281436145305634], \"y\": [0.12300784885883331, 0.11568715423345566, 0.10995299369096756, 0.1051960289478302, 0.10928605496883392, 0.11531856656074524, 0.12257120013237], \"type\": \"scatter\", \"uid\": \"b4a1bcda-340d-45a1-94b4-bc8cf6bbb87c\"}, {\"line\": {\"shape\": \"spline\"}, \"name\": \"29\", \"x\": [0.16807329654693604, 0.17473948001861572, 0.18153996765613556, 0.18775048851966858, 0.1820628046989441, 0.17513668537139893, 0.16882555186748505], \"y\": [0.19290800392627716, 0.1811579465866089, 0.16997066140174866, 0.16145437955856323, 0.16930581629276276, 0.18115869164466858, 0.1921200454235077], \"type\": \"scatter\", \"uid\": \"c635b6f2-c508-4b4f-80fb-2e392b1ffd4c\"}, {\"line\": {\"shape\": \"spline\"}, \"name\": \"30\", \"x\": [0.21838852763175964, 0.22822383046150208, 0.23796643316745758, 0.24670305848121643, 0.2383185774087906, 0.2285347580909729, 0.2187187373638153], \"y\": [0.26035642623901367, 0.24670392274856567, 0.23168513178825378, 0.22099554538726807, 0.2313537746667862, 0.24663949012756348, 0.2592775523662567], \"type\": \"scatter\", \"uid\": \"b1891fcd-8d40-4562-b148-4ddbea3ea38f\"}, {\"line\": {\"shape\": \"spline\"}, \"name\": \"31\", \"x\": [0.2986905872821808, 0.3125261664390564, 0.3270503878593445, 0.3397253751754761, 0.3273600935935974, 0.31243693828582764, 0.29822778701782227], \"y\": [0.38730013370513916, 0.37473708391189575, 0.3574013113975525, 0.3462657034397125, 0.3578839898109436, 0.3739033043384552, 0.38616669178009033], \"type\": \"scatter\", \"uid\": \"0b9bddeb-13c8-46cc-95a5-c9d0465ed8b4\"}, {\"line\": {\"shape\": \"spline\"}, \"name\": \"32\", \"x\": [0.35729873180389404, 0.3730630874633789, 0.3919912576675415, 0.40617185831069946, 0.39164936542510986, 0.37380674481391907, 0.3580667972564697], \"y\": [0.5067791938781738, 0.49718356132507324, 0.48325520753860474, 0.4738065302371979, 0.48472529649734497, 0.4971992075443268, 0.5060346722602844], \"type\": \"scatter\", \"uid\": \"f0af9e8c-6856-4d96-9b01-cbfd21dae950\"}, {\"line\": {\"shape\": \"spline\"}, \"name\": \"33\", \"x\": [0.4092060327529907, 0.4252289831638336, 0.4460133910179138, 0.4592967629432678, 0.44540315866470337, 0.4268881380558014, 0.41249990463256836], \"y\": [0.6399549245834351, 0.6377242803573608, 0.6334335207939148, 0.6287039518356323, 0.6351748108863831, 0.6386978626251221, 0.640087902545929], \"type\": \"scatter\", \"uid\": \"fbc38bd3-97c3-4a31-97bc-97f807dafd08\"}, {\"line\": {\"shape\": \"spline\"}, \"name\": \"34\", \"x\": [0.43882250785827637, 0.4560222625732422, 0.47646135091781616, 0.48898977041244507, 0.47617390751838684, 0.45742562413215637, 0.44310683012008667], \"y\": [0.720831036567688, 0.7257994413375854, 0.7282869219779968, 0.7270203828811646, 0.7294612526893616, 0.726325273513794, 0.7213566899299622], \"type\": \"scatter\", \"uid\": \"18582b17-77c9-4c37-9315-58fa75388318\"}, {\"line\": {\"shape\": \"spline\"}, \"name\": \"35\", \"x\": [0.4600871205329895, 0.47659486532211304, 0.4932892322540283, 0.5035000443458557, 0.49363982677459717, 0.4768792688846588, 0.4637393355369568], \"y\": [0.8320325613021851, 0.843504786491394, 0.8525342345237732, 0.8546731472015381, 0.8523545861244202, 0.8426065444946289, 0.8324397206306458], \"type\": \"scatter\", \"uid\": \"19b372b0-a43d-4b8f-a0be-444b68b3c5db\"}, {\"line\": {\"shape\": \"spline\"}, \"name\": \"36\", \"x\": [0.0003627166152000427, 0.00047087669372558594, -0.00041878223419189453, -0.0012235045433044434, -0.0005006194114685059, -2.0265579223632812e-05, 0.00014910101890563965], \"y\": [0.00504930317401886, 0.002394266426563263, 9.253621101379395e-06, -0.0006631016731262207, -3.5762786865234375e-07, 0.001553073525428772, 0.00560489296913147], \"type\": \"scatter\", \"uid\": \"efe6e1eb-9e55-4a45-81ae-116db29a2bb3\"}, {\"line\": {\"shape\": \"spline\"}, \"name\": \"37\", \"x\": [0.1299486756324768, 0.12884855270385742, 0.1280078887939453, 0.13067378103733063, 0.12939436733722687, 0.12856237590312958, 0.12863245606422424], \"y\": [0.08106444776058197, 0.07227473706007004, 0.06200406327843666, 0.05617314577102661, 0.061345890164375305, 0.07079014182090759, 0.08092719316482544], \"type\": \"scatter\", \"uid\": \"c0f65b2f-7830-42c1-ac3d-2f872f5a9136\"}, {\"line\": {\"shape\": \"spline\"}, \"name\": \"38\", \"x\": [0.22829008102416992, 0.22737282514572144, 0.22693081200122833, 0.23155811429023743, 0.22897124290466309, 0.22714197635650635, 0.2267356961965561], \"y\": [0.13017670810222626, 0.11390324681997299, 0.0974280834197998, 0.08694791793823242, 0.09608276188373566, 0.11284038424491882, 0.13000339269638062], \"type\": \"scatter\", \"uid\": \"cf0f04fa-dc57-497a-ae5c-b1ad61437560\"}, {\"line\": {\"shape\": \"spline\"}, \"name\": \"39\", \"x\": [0.29984986782073975, 0.3015221953392029, 0.304318904876709, 0.31026187539100647, 0.30560576915740967, 0.3020786643028259, 0.29916393756866455], \"y\": [0.1795317381620407, 0.15628212690353394, 0.13516706228256226, 0.12064194679260254, 0.13398192822933197, 0.15676847100257874, 0.1790124773979187], \"type\": \"scatter\", \"uid\": \"f4de52e4-1bff-485c-854c-38a4b3fa4284\"}, {\"line\": {\"shape\": \"spline\"}, \"name\": \"40\", \"x\": [0.4256868064403534, 0.4322223961353302, 0.44108498096466064, 0.4497551918029785, 0.4415203928947449, 0.4335672855377197, 0.426207959651947], \"y\": [0.2715306282043457, 0.24087655544281006, 0.21557682752609253, 0.1968567669391632, 0.21464507281780243, 0.2430885136127472, 0.27089470624923706], \"type\": \"scatter\", \"uid\": \"f9e21ba4-eb26-4d89-a9a1-19449c86ee78\"}, {\"line\": {\"shape\": \"spline\"}, \"name\": \"41\", \"x\": [0.5428484082221985, 0.5549315214157104, 0.5692705512046814, 0.5818349719047546, 0.5703859925270081, 0.5557460784912109, 0.5439037680625916], \"y\": [0.35793983936309814, 0.33125972747802734, 0.3092861771583557, 0.2917462885379791, 0.3080753684043884, 0.3328154385089874, 0.35814470052719116], \"type\": \"scatter\", \"uid\": \"e1200ff2-6cb3-4cf7-a37f-718ea4f960c8\"}, {\"line\": {\"shape\": \"spline\"}, \"name\": \"42\", \"x\": [0.6583340167999268, 0.6796489357948303, 0.7023225426673889, 0.7195026874542236, 0.7036564350128174, 0.6807364821434021, 0.6619352102279663], \"y\": [0.4460839033126831, 0.4326671361923218, 0.4203316569328308, 0.4065774977207184, 0.4191039204597473, 0.43393757939338684, 0.4472091794013977], \"type\": \"scatter\", \"uid\": \"5b849340-69c5-4ad7-bbb7-e83639a40638\"}, {\"line\": {\"shape\": \"spline\"}, \"name\": \"43\", \"x\": [0.7204441428184509, 0.7471770644187927, 0.7737972140312195, 0.793038010597229, 0.775263786315918, 0.748269259929657, 0.7256288528442383], \"y\": [0.49566829204559326, 0.4936283826828003, 0.4886721968650818, 0.4787652790546417, 0.4874804615974426, 0.49412742257118225, 0.49717456102371216], \"type\": \"scatter\", \"uid\": \"80ea8301-10b6-454b-9246-e2824ad493ec\"}, {\"line\": {\"shape\": \"spline\"}, \"name\": \"44\", \"x\": [0.7825458645820618, 0.8136674165725708, 0.8419862985610962, 0.8622733354568481, 0.8439462184906006, 0.8142070770263672, 0.7886434197425842], \"y\": [0.5630520582199097, 0.574459433555603, 0.5782570242881775, 0.5734721422195435, 0.5767002701759338, 0.573279857635498, 0.5647903084754944], \"type\": \"scatter\", \"uid\": \"9442b93c-12e0-460a-b41d-13a35a6a9e34\"}, {\"line\": {\"shape\": \"spline\"}, \"name\": \"45\", \"x\": [-0.0008487105369567871, 0.004176422953605652, 0.003329738974571228, 0.002045542001724243, 0.003460913896560669, 0.0023359060287475586, -0.0008009672164916992], \"y\": [0.00034640729427337646, 0.0007475614547729492, -0.0015327930450439453, -0.001621246337890625, -0.002082228660583496, -0.00022298097610473633, 0.0011500716209411621], \"type\": \"scatter\", \"uid\": \"c69a2d0c-7b8b-4780-b3db-d48240815b13\"}, {\"line\": {\"shape\": \"spline\"}, \"name\": \"46\", \"x\": [0.14864295721054077, 0.14346399903297424, 0.1403830498456955, 0.1398540437221527, 0.14041945338249207, 0.14337895810604095, 0.14711543917655945], \"y\": [0.02749425172805786, 0.01975836604833603, 0.007838904857635498, 0.0038776397705078125, 0.008784845471382141, 0.01867072284221649, 0.026619791984558105], \"type\": \"scatter\", \"uid\": \"f2c95907-9ab9-476d-a594-04fc5faee985\"}, {\"line\": {\"shape\": \"spline\"}, \"name\": \"47\", \"x\": [0.266439288854599, 0.25752654671669006, 0.25269410014152527, 0.2526932656764984, 0.25354623794555664, 0.2574909031391144, 0.26416587829589844], \"y\": [0.05109076201915741, 0.03523274511098862, 0.017450690269470215, 0.010192513465881348, 0.01794363558292389, 0.03411176800727844, 0.05002188682556152], \"type\": \"scatter\", \"uid\": \"3e2d7316-4e46-40c4-87b0-da78a77b2acf\"}, {\"line\": {\"shape\": \"spline\"}, \"name\": \"48\", \"x\": [0.35815972089767456, 0.34987932443618774, 0.34587520360946655, 0.3462029993534088, 0.3467792272567749, 0.3500896692276001, 0.35620081424713135], \"y\": [0.07495217025279999, 0.05078267306089401, 0.02870732545852661, 0.01795777678489685, 0.028728529810905457, 0.05068191885948181, 0.07383525371551514], \"type\": \"scatter\", \"uid\": \"dad57d28-440b-4cd2-bddb-182c30872b25\"}, {\"line\": {\"shape\": \"spline\"}, \"name\": \"49\", \"x\": [0.5028865337371826, 0.5008136630058289, 0.5031770467758179, 0.5041292905807495, 0.5024102926254272, 0.5025585293769836, 0.5029726028442383], \"y\": [0.1184764951467514, 0.08040570467710495, 0.0526127815246582, 0.03576436638832092, 0.052795812487602234, 0.08371487259864807, 0.11694806814193726], \"type\": \"scatter\", \"uid\": \"52f7152a-bf3e-48bf-9522-aefa84718bf4\"}, {\"line\": {\"shape\": \"spline\"}, \"name\": \"50\", \"x\": [0.6379339694976807, 0.6449084281921387, 0.6541550159454346, 0.6577920913696289, 0.6530453562736511, 0.647087574005127, 0.6391211748123169], \"y\": [0.15046678483486176, 0.10863196104764938, 0.08042353391647339, 0.061184436082839966, 0.08035199344158173, 0.11313977837562561, 0.14923471212387085], \"type\": \"scatter\", \"uid\": \"2a3dc9e4-41c3-416b-a44e-ffcdd3b757cd\"}, {\"line\": {\"shape\": \"spline\"}, \"name\": \"51\", \"x\": [0.7836453914642334, 0.8040695786476135, 0.8218969702720642, 0.8312357664108276, 0.8216546177864075, 0.8055917620658875, 0.7855923175811768], \"y\": [0.17225061357021332, 0.14181721210479736, 0.11965543031692505, 0.10315659642219543, 0.1193045824766159, 0.1446235477924347, 0.1718023419380188], \"type\": \"scatter\", \"uid\": \"c1830c6c-c928-4c3a-9934-0a35e959ca9c\"}, {\"line\": {\"shape\": \"spline\"}, \"name\": \"52\", \"x\": [0.8670512437820435, 0.8965933322906494, 0.9201470017433167, 0.9337767362594604, 0.9204964637756348, 0.8975695371627808, 0.8696401119232178], \"y\": [0.1816474050283432, 0.164831280708313, 0.1486455798149109, 0.13597145676612854, 0.14845995604991913, 0.16559436917304993, 0.18154460191726685], \"type\": \"scatter\", \"uid\": \"81b5778d-07e1-4466-a37c-04f556103141\"}, {\"line\": {\"shape\": \"spline\"}, \"name\": \"53\", \"x\": [0.9561097621917725, 0.9960640668869019, 1.0267281532287598, 1.0453022718429565, 1.0272208452224731, 0.9967817068099976, 0.9599037170410156], \"y\": [0.19901953637599945, 0.20095336437225342, 0.19264191389083862, 0.18512240052223206, 0.19310574233531952, 0.19932106137275696, 0.19888430833816528], \"type\": \"scatter\", \"uid\": \"cce71875-0f8f-444d-b5fb-1f453eb790a9\"}, {\"line\": {\"shape\": \"spline\"}, \"name\": \"54\", \"x\": [0.009971357882022858, 0.01297786831855774, 0.012097179889678955, 0.010816067457199097, 0.01269504427909851, 0.01118200272321701, 0.010957233607769012], \"y\": [-0.0009647011756896973, -0.00022852420806884766, 0.0001666247844696045, -7.832050323486328e-05, -0.0009799599647521973, -0.00018459558486938477, 0.00014823675155639648], \"type\": \"scatter\", \"uid\": \"59ccea41-c6dc-4f17-a633-58aa4842389e\"}, {\"line\": {\"shape\": \"spline\"}, \"name\": \"55\", \"x\": [0.15865889191627502, 0.14505314826965332, 0.13988591730594635, 0.13619545102119446, 0.13933826982975006, 0.14546450972557068, 0.15997686982154846], \"y\": [-0.016909122467041016, -0.027850687503814697, -0.03504115343093872, -0.03755718469619751, -0.034286320209503174, -0.026688992977142334, -0.017120063304901123], \"type\": \"scatter\", \"uid\": \"c722dfce-6b68-42f2-918e-149844553609\"}, {\"line\": {\"shape\": \"spline\"}, \"name\": \"56\", \"x\": [0.27829888463020325, 0.2566096782684326, 0.24726562201976776, 0.24280622601509094, 0.24775415658950806, 0.2568301856517792, 0.2779749035835266], \"y\": [-0.02741837501525879, -0.046506643295288086, -0.058561086654663086, -0.062390148639678955, -0.057933926582336426, -0.04622292518615723, -0.027858972549438477], \"type\": \"scatter\", \"uid\": \"3d9ef5dd-1efd-49dc-8f45-923df095d368\"}, {\"line\": {\"shape\": \"spline\"}, \"name\": \"57\", \"x\": [0.37250733375549316, 0.3482319414615631, 0.33664804697036743, 0.33180150389671326, 0.33813315629959106, 0.3478579521179199, 0.37088876962661743], \"y\": [-0.03806757926940918, -0.06482529640197754, -0.08035486936569214, -0.08577471971511841, -0.08036667108535767, -0.06502699851989746, -0.0383601188659668], \"type\": \"scatter\", \"uid\": \"af1e7f8e-b815-4b1f-8d3a-cc03ad3454a8\"}, {\"line\": {\"shape\": \"spline\"}, \"name\": \"58\", \"x\": [0.5098984241485596, 0.49081355333328247, 0.48413723707199097, 0.478650838136673, 0.48383569717407227, 0.49184441566467285, 0.5089821219444275], \"y\": [-0.05439412593841553, -0.09650158882141113, -0.11807793378829956, -0.12841570377349854, -0.11759382486343384, -0.09411758184432983, -0.05542641878128052], \"type\": \"scatter\", \"uid\": \"dd1d886c-afec-4606-8ed3-c4e525986b6d\"}, {\"line\": {\"shape\": \"spline\"}, \"name\": \"59\", \"x\": [0.6358633041381836, 0.627550482749939, 0.627785325050354, 0.624093770980835, 0.6265724897384644, 0.6292425394058228, 0.6353287696838379], \"y\": [-0.0853610634803772, -0.13495749235153198, -0.158982515335083, -0.1724211573600769, -0.1584841012954712, -0.13131612539291382, -0.08656233549118042], \"type\": \"scatter\", \"uid\": \"ff995847-f17b-4b80-a78c-6c2112fff0a4\"}, {\"line\": {\"shape\": \"spline\"}, \"name\": \"60\", \"x\": [0.7752179503440857, 0.784130871295929, 0.7930135130882263, 0.7949216365814209, 0.7925723791122437, 0.78509122133255, 0.7745575308799744], \"y\": [-0.13709139823913574, -0.18210166692733765, -0.20430952310562134, -0.21789252758026123, -0.20436257123947144, -0.1796899437904358, -0.13780075311660767], \"type\": \"scatter\", \"uid\": \"f3fde2f2-7718-4c05-bc61-5b84119a6ff0\"}, {\"line\": {\"shape\": \"spline\"}, \"name\": \"61\", \"x\": [0.8588841557502747, 0.8799923658370972, 0.8950923085212708, 0.9017676115036011, 0.8952847719192505, 0.8804001808166504, 0.8584288954734802], \"y\": [-0.1712646484375, -0.20827460289001465, -0.22801971435546875, -0.24049264192581177, -0.22820329666137695, -0.20727699995040894, -0.1717650294303894], \"type\": \"scatter\", \"uid\": \"19b0313d-17a8-4ee7-a4d5-f71e4622af1e\"}, {\"line\": {\"shape\": \"spline\"}, \"name\": \"62\", \"x\": [0.9584236145019531, 0.9950174689292908, 1.0184755325317383, 1.0316171646118164, 1.019176959991455, 0.9949823021888733, 0.9586173295974731], \"y\": [-0.2106398344039917, -0.23514145612716675, -0.25143539905548096, -0.26194173097610474, -0.2514238953590393, -0.23604345321655273, -0.21115988492965698], \"type\": \"scatter\", \"uid\": \"557b480f-88b9-4b43-9dac-58ac4f51f9d5\"}, {\"line\": {\"shape\": \"spline\"}, \"name\": \"63\", \"x\": [0.00924009084701538, 0.009746193885803223, 0.010054625570774078, 0.009828180074691772, 0.01072835922241211, 0.008776657283306122, 0.009009920060634613], \"y\": [-0.0010970830917358398, 0.000591568648815155, 0.0016844868659973145, 0.0017935633659362793, 0.0014146417379379272, 0.0002841949462890625, -0.0008829832077026367], \"type\": \"scatter\", \"uid\": \"316cb809-7364-4bfa-8d3f-b1b46681e4a3\"}, {\"line\": {\"shape\": \"spline\"}, \"name\": \"64\", \"x\": [0.1502506136894226, 0.13121746480464935, 0.12616999447345734, 0.12192922830581665, 0.12519830465316772, 0.13254712522029877, 0.15188318490982056], \"y\": [-0.044038236141204834, -0.05691266059875488, -0.06224977970123291, -0.06415432691574097, -0.06082993745803833, -0.05518174171447754, -0.04461544752120972], \"type\": \"scatter\", \"uid\": \"86666076-4cd8-4616-a78e-d64a87cd0764\"}, {\"line\": {\"shape\": \"spline\"}, \"name\": \"65\", \"x\": [0.26229366660118103, 0.2324007749557495, 0.22170570492744446, 0.21541878581047058, 0.22160807251930237, 0.2334282398223877, 0.2636001408100128], \"y\": [-0.0830690860748291, -0.10638213157653809, -0.11543071269989014, -0.11865729093551636, -0.11459451913833618, -0.10479885339736938, -0.08321136236190796], \"type\": \"scatter\", \"uid\": \"6fe59180-1a63-4c12-a8d6-13701707e475\"}, {\"line\": {\"shape\": \"spline\"}, \"name\": \"66\", \"x\": [0.3519163131713867, 0.31835639476776123, 0.30387789011001587, 0.2972675859928131, 0.30551260709762573, 0.318198025226593, 0.3512578010559082], \"y\": [-0.11349016427993774, -0.14428365230560303, -0.156327486038208, -0.16083937883377075, -0.15653669834136963, -0.14379125833511353, -0.1131746768951416], \"type\": \"scatter\", \"uid\": \"63e93cc6-6dc8-4477-80be-2047b4f06f2b\"}, {\"line\": {\"shape\": \"spline\"}, \"name\": \"67\", \"x\": [0.48037365078926086, 0.45154717564582825, 0.43996793031692505, 0.4332126975059509, 0.4410070776939392, 0.45192086696624756, 0.47905004024505615], \"y\": [-0.1637650728225708, -0.2090488076210022, -0.22673249244689941, -0.235887348651886, -0.22714734077453613, -0.20717352628707886, -0.16376739740371704], \"type\": \"scatter\", \"uid\": \"75336fe2-8385-46cd-8468-d97198d316a3\"}, {\"line\": {\"shape\": \"spline\"}, \"name\": \"68\", \"x\": [0.592829167842865, 0.5760056376457214, 0.5705606341362, 0.566125750541687, 0.5713480114936829, 0.5765249729156494, 0.591170072555542], \"y\": [-0.22630834579467773, -0.2793940305709839, -0.29975855350494385, -0.3123655319213867, -0.3006380796432495, -0.27675479650497437, -0.22625917196273804], \"type\": \"scatter\", \"uid\": \"3c641a7c-236a-47ca-9774-19dd36f41e08\"}, {\"line\": {\"shape\": \"spline\"}, \"name\": \"69\", \"x\": [0.7144467234611511, 0.7168309688568115, 0.7200656533241272, 0.7220075130462646, 0.7218546271324158, 0.7165209054946899, 0.7122856974601746], \"y\": [-0.31244146823883057, -0.36343735456466675, -0.38341736793518066, -0.39733558893203735, -0.38496947288513184, -0.3616829514503479, -0.3120001554489136], \"type\": \"scatter\", \"uid\": \"8b3b862d-988a-486e-9c0e-70b1e8b4f100\"}, {\"line\": {\"shape\": \"spline\"}, \"name\": \"70\", \"x\": [0.786978006362915, 0.8029369711875916, 0.8128569722175598, 0.8200896978378296, 0.8151714205741882, 0.8022447824478149, 0.7850273251533508], \"y\": [-0.36430442333221436, -0.4100577235221863, -0.428864061832428, -0.44266223907470703, -0.4305190443992615, -0.4091324210166931, -0.3637903928756714], \"type\": \"scatter\", \"uid\": \"46cc6d93-d4b2-4d99-aeec-67de24b855c1\"}, {\"line\": {\"shape\": \"spline\"}, \"name\": \"71\", \"x\": [0.8739941120147705, 0.9072597622871399, 0.9264410138130188, 0.9408588409423828, 0.929012656211853, 0.9064587354660034, 0.8728787899017334], \"y\": [-0.4213526248931885, -0.4588962197303772, -0.4759690761566162, -0.4891435503959656, -0.4774378538131714, -0.4589652419090271, -0.4209746718406677], \"type\": \"scatter\", \"uid\": \"05d4bb56-4f6a-41e3-b08e-7110a8ac05b5\"}, {\"line\": {\"shape\": \"spline\"}, \"name\": \"72\", \"x\": [-0.0013010501861572266, -0.003802776336669922, -0.001757204532623291, -8.106231689453125e-06, -0.0008823275566101074, -0.0036610960960388184, -0.00389939546585083], \"y\": [-0.011415362358093262, -0.009723067283630371, -0.008851945400238037, -0.008668243885040283, -0.007793843746185303, -0.011018812656402588, -0.012583732604980469], \"type\": \"scatter\", \"uid\": \"d85a0048-9b3e-4acf-bded-6043f249f28f\"}, {\"line\": {\"shape\": \"spline\"}, \"name\": \"73\", \"x\": [0.12947311997413635, 0.10527539253234863, 0.10122962296009064, 0.09804271161556244, 0.10016962885856628, 0.10783024877309799, 0.1299152821302414], \"y\": [-0.08243668079376221, -0.09837567806243896, -0.1033366322517395, -0.10557764768600464, -0.10102128982543945, -0.09682834148406982, -0.08385288715362549], \"type\": \"scatter\", \"uid\": \"414eff3e-8dd8-40d2-9da8-7bcb43a9d156\"}, {\"line\": {\"shape\": \"spline\"}, \"name\": \"74\", \"x\": [0.22819790244102478, 0.1909956932067871, 0.18039442598819733, 0.17416095733642578, 0.17983074486255646, 0.1933368742465973, 0.22975312173366547], \"y\": [-0.15375888347625732, -0.18267273902893066, -0.19092696905136108, -0.19507819414138794, -0.18959105014801025, -0.18041175603866577, -0.15419906377792358], \"type\": \"scatter\", \"uid\": \"43c6d348-7d35-40d5-9833-35e141e137df\"}, {\"line\": {\"shape\": \"spline\"}, \"name\": \"75\", \"x\": [0.301172137260437, 0.25808778405189514, 0.24315513670444489, 0.23514625430107117, 0.24333958327770233, 0.2596169412136078, 0.3026736378669739], \"y\": [-0.2204667329788208, -0.2590062618255615, -0.27014029026031494, -0.27610093355178833, -0.2697930932044983, -0.2566697597503662, -0.22016817331314087], \"type\": \"scatter\", \"uid\": \"0e1c7f0a-62d7-4ca0-a357-4a3af3b53cb6\"}, {\"line\": {\"shape\": \"spline\"}, \"name\": \"76\", \"x\": [0.4029097557067871, 0.36334168910980225, 0.35068511962890625, 0.34219467639923096, 0.3495989143848419, 0.36564669013023376, 0.40331482887268066], \"y\": [-0.32088369131088257, -0.3724514842033386, -0.38976365327835083, -0.39996278285980225, -0.3892897367477417, -0.36923301219940186, -0.3211177587509155], \"type\": \"scatter\", \"uid\": \"b06a2793-5739-40a9-b195-ab71c84eb5a6\"}, {\"line\": {\"shape\": \"spline\"}, \"name\": \"77\", \"x\": [0.48271334171295166, 0.45616215467453003, 0.4511508345603943, 0.444896399974823, 0.44829031825065613, 0.4596232771873474, 0.48324739933013916], \"y\": [-0.4205760359764099, -0.4784621000289917, -0.49886125326156616, -0.5122909545898438, -0.4983961582183838, -0.4743845462799072, -0.421151340007782], \"type\": \"scatter\", \"uid\": \"2dc7f2ee-01d7-4344-9821-2886d8a33580\"}, {\"line\": {\"shape\": \"spline\"}, \"name\": \"78\", \"x\": [0.5641632676124573, 0.5591800808906555, 0.564784586429596, 0.5658714771270752, 0.5617152452468872, 0.562857449054718, 0.5648106336593628], \"y\": [-0.5354310274124146, -0.5906424522399902, -0.6109319925308228, -0.6256013512611389, -0.6109639406204224, -0.5870646238327026, -0.5358600616455078], \"type\": \"scatter\", \"uid\": \"6adb6831-60ce-4b17-a888-c55942dc451c\"}, {\"line\": {\"shape\": \"spline\"}, \"name\": \"79\", \"x\": [0.6128332018852234, 0.62333744764328, 0.6367754340171814, 0.6442270278930664, 0.633862316608429, 0.6271241903305054, 0.6140538454055786], \"y\": [-0.5965542793273926, -0.6471301317214966, -0.6663527488708496, -0.6809137463569641, -0.6665905714035034, -0.6440824270248413, -0.5969007015228271], \"type\": \"scatter\", \"uid\": \"22b75431-3909-4e70-a383-c3c69ccfcd3c\"}, {\"line\": {\"shape\": \"spline\"}, \"name\": \"80\", \"x\": [0.6733258962631226, 0.7036515474319458, 0.7276710867881775, 0.7438184022903442, 0.7248178720474243, 0.7077916860580444, 0.6758057475090027], \"y\": [-0.657886266708374, -0.7018760442733765, -0.7194923758506775, -0.7334617972373962, -0.7198119163513184, -0.6994474530220032, -0.6582269668579102], \"type\": \"scatter\", \"uid\": \"07046072-b508-4041-970c-81d0a73f2f9f\"}], {\"height\": 600, \"hovermode\": \"closest\", \"title\": {\"text\": \"Initial Curves\"}, \"width\": 600, \"xaxis\": {\"range\": [-0.5, 1.1], \"title\": {\"text\": \"X\"}}, \"yaxis\": {\"range\": [-0.8, 1.2], \"title\": {\"text\": \"Y\"}}}, {\"showLink\": false, \"linkText\": \"Export to plot.ly\", \"plotlyServerURL\": \"https://plot.ly\"})});</script>"
      ]
     },
     "metadata": {},
     "output_type": "display_data"
    }
   ],
   "source": [
    "'''\n",
    "3. Graph template data\n",
    "\n",
    "'''\n",
    "\n",
    "grPh0t = np.reshape(ph0t,(-1,21))\n",
    "grPh1t = np.reshape(ph1t,(-1,21))\n",
    "fdata = gy.FormatNetworkToGraphColumns(grPh1t, xOffset=0, yOffset=14, colPoints=7)\n",
    "\n",
    "layout = go.Layout(\n",
    "    title = 'Initial Curves',\n",
    "    height = 600,\n",
    "    width = 600,\n",
    "    hovermode= 'closest',\n",
    "    xaxis= dict(\n",
    "        title= 'X',\n",
    "        range = [-.5,1.1],\n",
    "    ),\n",
    "    yaxis=dict(\n",
    "        title= 'Y',\n",
    "        range = [-.8,1.2],\n",
    "    )\n",
    ")\n",
    "f = gy.graphCurves(fdata, layout, dashRange=range(0,9))\n",
    "\n",
    "offline.iplot(f)"
   ]
  },
  {
   "cell_type": "code",
   "execution_count": 11,
   "metadata": {},
   "outputs": [],
   "source": [
    "\n",
    "\n",
    "labels=['Temp0 T=.1', 'Temp1 T=.1',\n",
    "        'Temp0 T=.3', 'Temp1 T=.3',\n",
    "        'Temp0 T=.5', 'Temp1 T=.5', \n",
    "        'Temp0 T=.7', 'Temp1 T=.7',\n",
    "        'Temp0 T=.9', 'Temp1 T=.9',\n",
    "        'Temp0 T=1.0', 'Temp1 T=1.0',\n",
    "        'Temp0 T=1.1', 'Temp1 T=1.1']\n",
    "layout?"
   ]
  },
  {
   "cell_type": "code",
   "execution_count": 12,
   "metadata": {},
   "outputs": [
    {
     "data": {
      "application/vnd.plotly.v1+json": {
       "config": {
        "linkText": "Export to plot.ly",
        "plotlyServerURL": "https://plot.ly",
        "showLink": false
       },
       "data": [
        {
         "line": {
          "shape": "spline"
         },
         "name": "Temp0 T=.1",
         "type": "scatter",
         "uid": "ab90a9f8-ef8e-454c-8a20-009463dd2520",
         "x": [
          0.1,
          0.2,
          0.3,
          0.5,
          0.7,
          0.9,
          1,
          1.1
         ],
         "y": [
          -0.05438131093978882,
          -0.007733464241027832,
          0.035205766558647156,
          0.11581490933895111,
          0.19585095345973969,
          0.27811282873153687,
          0.32933056354522705,
          0.40746498107910156
         ]
        },
        {
         "line": {
          "shape": "spline"
         },
         "name": "Temp1 T=.1",
         "type": "scatter",
         "uid": "d41f1876-2b08-4b1c-bf0e-905ebaf9785d",
         "x": [
          0.1,
          0.2,
          0.3,
          0.5,
          0.7,
          0.9,
          1,
          1.1
         ],
         "y": [
          -0.05761319398880005,
          -0.016860008239746094,
          0.017479680478572845,
          0.1008831262588501,
          0.18705683946609497,
          0.27217772603034973,
          0.32160115242004395,
          0.4061874449253082
         ]
        },
        {
         "line": {
          "dash": "2px,6px",
          "shape": "spline"
         },
         "marker": {
          "symbol": "star"
         },
         "name": "Temp0 T=.3",
         "type": "scatter",
         "uid": "49f16794-9d8d-4d68-9bf9-71aca9ab7025",
         "x": [
          0.1,
          0.2,
          0.3,
          0.5,
          0.7,
          0.9,
          1,
          1.1
         ],
         "y": [
          -0.00976473093032837,
          0.0019548386335372925,
          0.012304052710533142,
          0.032897114753723145,
          0.07197601348161697,
          0.12201443314552307,
          0.14984212815761566,
          0.19315549731254578
         ]
        },
        {
         "line": {
          "dash": "2px,6px",
          "shape": "spline"
         },
         "marker": {
          "symbol": "star"
         },
         "name": "Temp1 T=.3",
         "type": "scatter",
         "uid": "46097c19-7194-4110-80b2-f1cd78a9eeff",
         "x": [
          0.1,
          0.2,
          0.3,
          0.5,
          0.7,
          0.9,
          1,
          1.1
         ],
         "y": [
          -0.04521280527114868,
          -0.035629868507385254,
          -0.02637350559234619,
          0.0005533099174499512,
          0.03162336349487305,
          0.06873169541358948,
          0.08706224709749222,
          0.11582577228546143
         ]
        },
        {
         "line": {
          "shape": "spline"
         },
         "name": "Temp0 T=.5",
         "type": "scatter",
         "uid": "4482fae9-637c-4344-a30a-ebdc07280745",
         "x": [
          0.1,
          0.2,
          0.3,
          0.5,
          0.7,
          0.9,
          1,
          1.1
         ],
         "y": [
          0.027296602725982666,
          0.017056450247764587,
          0.009922683238983154,
          -0.0019307732582092285,
          -0.010282158851623535,
          -0.015150010585784912,
          -0.015523791313171387,
          -0.006650686264038086
         ]
        },
        {
         "line": {
          "shape": "spline"
         },
         "name": "Temp1 T=.5",
         "type": "scatter",
         "uid": "edd22edd-1b1a-4271-98ac-9be48c2607f0",
         "x": [
          0.1,
          0.2,
          0.3,
          0.5,
          0.7,
          0.9,
          1,
          1.1
         ],
         "y": [
          -0.021770119667053223,
          -0.026542603969573975,
          -0.0374416708946228,
          -0.05168122053146362,
          -0.06201678514480591,
          -0.0774276852607727,
          -0.08726084232330322,
          -0.09411698579788208
         ]
        },
        {
         "line": {
          "dash": "2px,6px",
          "shape": "spline"
         },
         "marker": {
          "symbol": "star"
         },
         "name": "Temp0 T=.7",
         "type": "scatter",
         "uid": "c30a9851-27e0-421d-91c0-9a8b4e75ae4f",
         "x": [
          0.1,
          0.2,
          0.3,
          0.5,
          0.7,
          0.9,
          1,
          1.1
         ],
         "y": [
          0.08563680201768875,
          0.06451740860939026,
          0.04538866877555847,
          0.008337527513504028,
          -0.029240190982818604,
          -0.07477766275405884,
          -0.10203224420547485,
          -0.1287393569946289
         ]
        },
        {
         "line": {
          "dash": "2px,6px",
          "shape": "spline"
         },
         "marker": {
          "symbol": "star"
         },
         "name": "Temp1 T=.7",
         "type": "scatter",
         "uid": "185ac0f2-6cfd-4ccd-94aa-7f4636e5a175",
         "x": [
          0.1,
          0.2,
          0.3,
          0.5,
          0.7,
          0.9,
          1,
          1.1
         ],
         "y": [
          0.021178103983402252,
          -0.0030096769332885742,
          -0.03100186586380005,
          -0.07751554250717163,
          -0.12093967199325562,
          -0.17127984762191772,
          -0.2018415331840515,
          -0.23414582014083862
         ]
        },
        {
         "line": {
          "shape": "spline"
         },
         "name": "Temp0 T=.9",
         "type": "scatter",
         "uid": "55c2e227-ac1a-4de8-b1ba-c9cf16203c65",
         "x": [
          0.1,
          0.2,
          0.3,
          0.5,
          0.7,
          0.9,
          1,
          1.1
         ],
         "y": [
          0.1669202446937561,
          0.1372976005077362,
          0.10969184339046478,
          0.055507808923721313,
          -0.0018298625946044922,
          -0.07191479206085205,
          -0.11760658025741577,
          -0.17163705825805664
         ]
        },
        {
         "line": {
          "shape": "spline"
         },
         "name": "Temp1 T=.9",
         "type": "scatter",
         "uid": "9ce5c845-761b-4206-9d1e-0b8723cfa17f",
         "x": [
          0.1,
          0.2,
          0.3,
          0.5,
          0.7,
          0.9,
          1,
          1.1
         ],
         "y": [
          0.05996468663215637,
          0.020743995904922485,
          -0.019773006439208984,
          -0.08584892749786377,
          -0.14900583028793335,
          -0.22079193592071533,
          -0.26393431425094604,
          -0.3141756057739258
         ]
        }
       ],
       "layout": {
        "height": 500,
        "hovermode": "closest",
        "title": {
         "text": "Figure 4. Context changes over morphology steps for <br>different template and time indexes"
        },
        "width": 600,
        "xaxis": {
         "dtick": 0.2,
         "range": [
          -0.01,
          1.11
         ],
         "tick0": 0,
         "title": {
          "text": "Morphology index"
         }
        },
        "yaxis": {
         "range": [
          -0.4,
          0.5
         ],
         "title": {
          "text": "Context"
         }
        }
       }
      },
      "text/html": [
       "<div id=\"a986dc01-f882-4fba-9b6b-5a175a5f2102\" style=\"height: 500px; width: 600px;\" class=\"plotly-graph-div\"></div><script type=\"text/javascript\">require([\"plotly\"], function(Plotly) { window.PLOTLYENV=window.PLOTLYENV || {};window.PLOTLYENV.BASE_URL=\"https://plot.ly\";Plotly.newPlot(\"a986dc01-f882-4fba-9b6b-5a175a5f2102\", [{\"line\": {\"shape\": \"spline\"}, \"name\": \"Temp0 T=.1\", \"x\": [0.1, 0.2, 0.3, 0.5, 0.7, 0.9, 1.0, 1.1], \"y\": [-0.05438131093978882, -0.007733464241027832, 0.035205766558647156, 0.11581490933895111, 0.19585095345973969, 0.27811282873153687, 0.32933056354522705, 0.40746498107910156], \"type\": \"scatter\", \"uid\": \"ab90a9f8-ef8e-454c-8a20-009463dd2520\"}, {\"line\": {\"shape\": \"spline\"}, \"name\": \"Temp1 T=.1\", \"x\": [0.1, 0.2, 0.3, 0.5, 0.7, 0.9, 1.0, 1.1], \"y\": [-0.05761319398880005, -0.016860008239746094, 0.017479680478572845, 0.1008831262588501, 0.18705683946609497, 0.27217772603034973, 0.32160115242004395, 0.4061874449253082], \"type\": \"scatter\", \"uid\": \"d41f1876-2b08-4b1c-bf0e-905ebaf9785d\"}, {\"line\": {\"dash\": \"2px,6px\", \"shape\": \"spline\"}, \"marker\": {\"symbol\": \"star\"}, \"name\": \"Temp0 T=.3\", \"x\": [0.1, 0.2, 0.3, 0.5, 0.7, 0.9, 1.0, 1.1], \"y\": [-0.00976473093032837, 0.0019548386335372925, 0.012304052710533142, 0.032897114753723145, 0.07197601348161697, 0.12201443314552307, 0.14984212815761566, 0.19315549731254578], \"type\": \"scatter\", \"uid\": \"49f16794-9d8d-4d68-9bf9-71aca9ab7025\"}, {\"line\": {\"dash\": \"2px,6px\", \"shape\": \"spline\"}, \"marker\": {\"symbol\": \"star\"}, \"name\": \"Temp1 T=.3\", \"x\": [0.1, 0.2, 0.3, 0.5, 0.7, 0.9, 1.0, 1.1], \"y\": [-0.04521280527114868, -0.035629868507385254, -0.02637350559234619, 0.0005533099174499512, 0.03162336349487305, 0.06873169541358948, 0.08706224709749222, 0.11582577228546143], \"type\": \"scatter\", \"uid\": \"46097c19-7194-4110-80b2-f1cd78a9eeff\"}, {\"line\": {\"shape\": \"spline\"}, \"name\": \"Temp0 T=.5\", \"x\": [0.1, 0.2, 0.3, 0.5, 0.7, 0.9, 1.0, 1.1], \"y\": [0.027296602725982666, 0.017056450247764587, 0.009922683238983154, -0.0019307732582092285, -0.010282158851623535, -0.015150010585784912, -0.015523791313171387, -0.006650686264038086], \"type\": \"scatter\", \"uid\": \"4482fae9-637c-4344-a30a-ebdc07280745\"}, {\"line\": {\"shape\": \"spline\"}, \"name\": \"Temp1 T=.5\", \"x\": [0.1, 0.2, 0.3, 0.5, 0.7, 0.9, 1.0, 1.1], \"y\": [-0.021770119667053223, -0.026542603969573975, -0.0374416708946228, -0.05168122053146362, -0.06201678514480591, -0.0774276852607727, -0.08726084232330322, -0.09411698579788208], \"type\": \"scatter\", \"uid\": \"edd22edd-1b1a-4271-98ac-9be48c2607f0\"}, {\"line\": {\"dash\": \"2px,6px\", \"shape\": \"spline\"}, \"marker\": {\"symbol\": \"star\"}, \"name\": \"Temp0 T=.7\", \"x\": [0.1, 0.2, 0.3, 0.5, 0.7, 0.9, 1.0, 1.1], \"y\": [0.08563680201768875, 0.06451740860939026, 0.04538866877555847, 0.008337527513504028, -0.029240190982818604, -0.07477766275405884, -0.10203224420547485, -0.1287393569946289], \"type\": \"scatter\", \"uid\": \"c30a9851-27e0-421d-91c0-9a8b4e75ae4f\"}, {\"line\": {\"dash\": \"2px,6px\", \"shape\": \"spline\"}, \"marker\": {\"symbol\": \"star\"}, \"name\": \"Temp1 T=.7\", \"x\": [0.1, 0.2, 0.3, 0.5, 0.7, 0.9, 1.0, 1.1], \"y\": [0.021178103983402252, -0.0030096769332885742, -0.03100186586380005, -0.07751554250717163, -0.12093967199325562, -0.17127984762191772, -0.2018415331840515, -0.23414582014083862], \"type\": \"scatter\", \"uid\": \"185ac0f2-6cfd-4ccd-94aa-7f4636e5a175\"}, {\"line\": {\"shape\": \"spline\"}, \"name\": \"Temp0 T=.9\", \"x\": [0.1, 0.2, 0.3, 0.5, 0.7, 0.9, 1.0, 1.1], \"y\": [0.1669202446937561, 0.1372976005077362, 0.10969184339046478, 0.055507808923721313, -0.0018298625946044922, -0.07191479206085205, -0.11760658025741577, -0.17163705825805664], \"type\": \"scatter\", \"uid\": \"55c2e227-ac1a-4de8-b1ba-c9cf16203c65\"}, {\"line\": {\"shape\": \"spline\"}, \"name\": \"Temp1 T=.9\", \"x\": [0.1, 0.2, 0.3, 0.5, 0.7, 0.9, 1.0, 1.1], \"y\": [0.05996468663215637, 0.020743995904922485, -0.019773006439208984, -0.08584892749786377, -0.14900583028793335, -0.22079193592071533, -0.26393431425094604, -0.3141756057739258], \"type\": \"scatter\", \"uid\": \"9ce5c845-761b-4206-9d1e-0b8723cfa17f\"}], {\"height\": 500, \"hovermode\": \"closest\", \"title\": {\"text\": \"Figure 4. Context changes over morphology steps for <br>different template and time indexes\"}, \"width\": 600, \"xaxis\": {\"dtick\": 0.2, \"range\": [-0.01, 1.11], \"tick0\": 0.0, \"title\": {\"text\": \"Morphology index\"}}, \"yaxis\": {\"range\": [-0.4, 0.5], \"title\": {\"text\": \"Context\"}}}, {\"showLink\": false, \"linkText\": \"Export to plot.ly\", \"plotlyServerURL\": \"https://plot.ly\"})});</script>"
      ],
      "text/vnd.plotly.v1+html": [
       "<div id=\"a986dc01-f882-4fba-9b6b-5a175a5f2102\" style=\"height: 500px; width: 600px;\" class=\"plotly-graph-div\"></div><script type=\"text/javascript\">require([\"plotly\"], function(Plotly) { window.PLOTLYENV=window.PLOTLYENV || {};window.PLOTLYENV.BASE_URL=\"https://plot.ly\";Plotly.newPlot(\"a986dc01-f882-4fba-9b6b-5a175a5f2102\", [{\"line\": {\"shape\": \"spline\"}, \"name\": \"Temp0 T=.1\", \"x\": [0.1, 0.2, 0.3, 0.5, 0.7, 0.9, 1.0, 1.1], \"y\": [-0.05438131093978882, -0.007733464241027832, 0.035205766558647156, 0.11581490933895111, 0.19585095345973969, 0.27811282873153687, 0.32933056354522705, 0.40746498107910156], \"type\": \"scatter\", \"uid\": \"ab90a9f8-ef8e-454c-8a20-009463dd2520\"}, {\"line\": {\"shape\": \"spline\"}, \"name\": \"Temp1 T=.1\", \"x\": [0.1, 0.2, 0.3, 0.5, 0.7, 0.9, 1.0, 1.1], \"y\": [-0.05761319398880005, -0.016860008239746094, 0.017479680478572845, 0.1008831262588501, 0.18705683946609497, 0.27217772603034973, 0.32160115242004395, 0.4061874449253082], \"type\": \"scatter\", \"uid\": \"d41f1876-2b08-4b1c-bf0e-905ebaf9785d\"}, {\"line\": {\"dash\": \"2px,6px\", \"shape\": \"spline\"}, \"marker\": {\"symbol\": \"star\"}, \"name\": \"Temp0 T=.3\", \"x\": [0.1, 0.2, 0.3, 0.5, 0.7, 0.9, 1.0, 1.1], \"y\": [-0.00976473093032837, 0.0019548386335372925, 0.012304052710533142, 0.032897114753723145, 0.07197601348161697, 0.12201443314552307, 0.14984212815761566, 0.19315549731254578], \"type\": \"scatter\", \"uid\": \"49f16794-9d8d-4d68-9bf9-71aca9ab7025\"}, {\"line\": {\"dash\": \"2px,6px\", \"shape\": \"spline\"}, \"marker\": {\"symbol\": \"star\"}, \"name\": \"Temp1 T=.3\", \"x\": [0.1, 0.2, 0.3, 0.5, 0.7, 0.9, 1.0, 1.1], \"y\": [-0.04521280527114868, -0.035629868507385254, -0.02637350559234619, 0.0005533099174499512, 0.03162336349487305, 0.06873169541358948, 0.08706224709749222, 0.11582577228546143], \"type\": \"scatter\", \"uid\": \"46097c19-7194-4110-80b2-f1cd78a9eeff\"}, {\"line\": {\"shape\": \"spline\"}, \"name\": \"Temp0 T=.5\", \"x\": [0.1, 0.2, 0.3, 0.5, 0.7, 0.9, 1.0, 1.1], \"y\": [0.027296602725982666, 0.017056450247764587, 0.009922683238983154, -0.0019307732582092285, -0.010282158851623535, -0.015150010585784912, -0.015523791313171387, -0.006650686264038086], \"type\": \"scatter\", \"uid\": \"4482fae9-637c-4344-a30a-ebdc07280745\"}, {\"line\": {\"shape\": \"spline\"}, \"name\": \"Temp1 T=.5\", \"x\": [0.1, 0.2, 0.3, 0.5, 0.7, 0.9, 1.0, 1.1], \"y\": [-0.021770119667053223, -0.026542603969573975, -0.0374416708946228, -0.05168122053146362, -0.06201678514480591, -0.0774276852607727, -0.08726084232330322, -0.09411698579788208], \"type\": \"scatter\", \"uid\": \"edd22edd-1b1a-4271-98ac-9be48c2607f0\"}, {\"line\": {\"dash\": \"2px,6px\", \"shape\": \"spline\"}, \"marker\": {\"symbol\": \"star\"}, \"name\": \"Temp0 T=.7\", \"x\": [0.1, 0.2, 0.3, 0.5, 0.7, 0.9, 1.0, 1.1], \"y\": [0.08563680201768875, 0.06451740860939026, 0.04538866877555847, 0.008337527513504028, -0.029240190982818604, -0.07477766275405884, -0.10203224420547485, -0.1287393569946289], \"type\": \"scatter\", \"uid\": \"c30a9851-27e0-421d-91c0-9a8b4e75ae4f\"}, {\"line\": {\"dash\": \"2px,6px\", \"shape\": \"spline\"}, \"marker\": {\"symbol\": \"star\"}, \"name\": \"Temp1 T=.7\", \"x\": [0.1, 0.2, 0.3, 0.5, 0.7, 0.9, 1.0, 1.1], \"y\": [0.021178103983402252, -0.0030096769332885742, -0.03100186586380005, -0.07751554250717163, -0.12093967199325562, -0.17127984762191772, -0.2018415331840515, -0.23414582014083862], \"type\": \"scatter\", \"uid\": \"185ac0f2-6cfd-4ccd-94aa-7f4636e5a175\"}, {\"line\": {\"shape\": \"spline\"}, \"name\": \"Temp0 T=.9\", \"x\": [0.1, 0.2, 0.3, 0.5, 0.7, 0.9, 1.0, 1.1], \"y\": [0.1669202446937561, 0.1372976005077362, 0.10969184339046478, 0.055507808923721313, -0.0018298625946044922, -0.07191479206085205, -0.11760658025741577, -0.17163705825805664], \"type\": \"scatter\", \"uid\": \"55c2e227-ac1a-4de8-b1ba-c9cf16203c65\"}, {\"line\": {\"shape\": \"spline\"}, \"name\": \"Temp1 T=.9\", \"x\": [0.1, 0.2, 0.3, 0.5, 0.7, 0.9, 1.0, 1.1], \"y\": [0.05996468663215637, 0.020743995904922485, -0.019773006439208984, -0.08584892749786377, -0.14900583028793335, -0.22079193592071533, -0.26393431425094604, -0.3141756057739258], \"type\": \"scatter\", \"uid\": \"9ce5c845-761b-4206-9d1e-0b8723cfa17f\"}], {\"height\": 500, \"hovermode\": \"closest\", \"title\": {\"text\": \"Figure 4. Context changes over morphology steps for <br>different template and time indexes\"}, \"width\": 600, \"xaxis\": {\"dtick\": 0.2, \"range\": [-0.01, 1.11], \"tick0\": 0.0, \"title\": {\"text\": \"Morphology index\"}}, \"yaxis\": {\"range\": [-0.4, 0.5], \"title\": {\"text\": \"Context\"}}}, {\"showLink\": false, \"linkText\": \"Export to plot.ly\", \"plotlyServerURL\": \"https://plot.ly\"})});</script>"
      ]
     },
     "metadata": {},
     "output_type": "display_data"
    }
   ],
   "source": [
    "'''\n",
    "5. Graph T0, T1 context curves for different time step outputs, from the relContext Model\n",
    "\n",
    "'''\n",
    "gx0y1 = np.array([relIn[0,1:,1],relCn0[1,1:,2]])\n",
    "gx1y1 = np.array([relIn[0,1:,1],relCn1[1,1:,2]])\n",
    "\n",
    "gx0y3 = np.array([relIn[0,1:,1],relCn0[3,1:,2]])\n",
    "gx1y3 = np.array([relIn[0,1:,1],relCn1[3,1:,2]])\n",
    "\n",
    "gx0y4 = np.array([relIn[0,1:,1],relCn0[4,1:,2]])\n",
    "gx1y4 = np.array([relIn[0,1:,1],relCn1[4,1:,2]])\n",
    "\n",
    "gx0y5 = np.array([relIn[0,1:,1],relCn0[5,1:,2]])\n",
    "gx1y5 = np.array([relIn[0,1:,1],relCn1[5,1:,2]])\n",
    "\n",
    "gx0y6 = np.array([relIn[0,1:,1],relCn0[6,1:,2]])\n",
    "gx1y6 = np.array([relIn[0,1:,1],relCn1[6,1:,2]])\n",
    "\n",
    "gx0y7 = np.array([relIn[0,1:,1],relCn0[7,1:,2]])\n",
    "gx1y7 = np.array([relIn[0,1:,1],relCn1[7,1:,2]])\n",
    "\n",
    "gx0y8 = np.array([relIn[0,1:,1],relCn0[8,1:,2]])\n",
    "gx1y8 = np.array([relIn[0,1:,1],relCn1[8,1:,2]])\n",
    "\n",
    "glist = [gx0y1,gx1y1, gx0y3,gx1y3, gx0y4,gx1y4, gx0y5,gx1y5 , gx0y6,gx1y6,]\n",
    "\n",
    "labels=['Temp0 T=.1', 'Temp1 T=.1',\n",
    "        'Temp0 T=.3', 'Temp1 T=.3',\n",
    "        'Temp0 T=.5', 'Temp1 T=.5', \n",
    "        'Temp0 T=.7', 'Temp1 T=.7',\n",
    "        'Temp0 T=.9', 'Temp1 T=.9',\n",
    "        'Temp0 T=1.0', 'Temp1 T=1.0',\n",
    "        'Temp0 T=1.1', 'Temp1 T=1.1']\n",
    "\n",
    "layout = go.Layout(\n",
    "    title = '',\n",
    "    height = 500,\n",
    "    width = 600,\n",
    "    hovermode= 'closest',\n",
    "    xaxis= dict(\n",
    "        title= 'Morphology index',\n",
    "        range = [-.01,1.11],\n",
    "        tick0 = 0.,\n",
    "        dtick = 0.2\n",
    "    ),\n",
    "    yaxis=dict(\n",
    "        title= 'Context',\n",
    "        range = [-.4,.5],\n",
    "    )    \n",
    ")\n",
    "layout.title = 'Figure 4. Context changes over morphology steps for <br>different template and time indexes' \n",
    "f = gy.graphCurves(glist, layout, labels, \n",
    "        dashRange=gy.rangeList([range(2,4),range(6,8),range(10,112)]))\n",
    "\n",
    "offline.iplot(f)\n",
    "# if not os.path.exists('images'):\n",
    "#     os.mkdir('images')\n",
    "# pio.write_image(f, './images/fig4.png')"
   ]
  },
  {
   "cell_type": "code",
   "execution_count": 23,
   "metadata": {},
   "outputs": [
    {
     "data": {
      "text/plain": [
       "(1, 9)"
      ]
     },
     "execution_count": 23,
     "metadata": {},
     "output_type": "execute_result"
    }
   ],
   "source": [
    "'''\n",
    "6. Calculate exploratory context curves for a timestep (timeIndices Index)\n",
    "    using a set of weights to offset from the context average toward the T0 and T1 context boundaries\n",
    "\n",
    "'''\n",
    "timeIndex = 5\n",
    "rcAvg, [rcDelta2, rcDelta3] = getContextSearchVectors([ph0tModel,ph1tModel], relCnModel, relIn, timeIndex)\n",
    "\n",
    "# weights0 = [1., .5, 1.5, 2.5, 3.5]\n",
    "# weights1 = [1., 0., .5, 1.5, 2.5, 3.5]\n",
    "weights0 = [0]\n",
    "weights1 = [.5,1., 1.5, 2., 2.5, .3]\n",
    "context0 = [w*rcDelta2+rcAvg for w in  weights0]\n",
    "context1 = [w*rcDelta3+rcAvg for w in  weights1]\n",
    "\n",
    "np.array(context0).shape"
   ]
  },
  {
   "cell_type": "code",
   "execution_count": 14,
   "metadata": {},
   "outputs": [],
   "source": [
    "# str(timeIndices[timeIndex])"
   ]
  },
  {
   "cell_type": "code",
   "execution_count": 15,
   "metadata": {},
   "outputs": [
    {
     "data": {
      "application/vnd.plotly.v1+json": {
       "config": {
        "linkText": "Export to plot.ly",
        "plotlyServerURL": "https://plot.ly",
        "showLink": false
       },
       "data": [
        {
         "line": {
          "dash": "2px,6px",
          "shape": "spline"
         },
         "marker": {
          "symbol": "star"
         },
         "name": "Template0",
         "type": "scatter",
         "uid": "d9b7853f-4d1f-464c-8a4b-a98f76dd053d",
         "x": [
          0.1,
          0.2,
          0.3,
          0.5,
          0.7,
          0.9,
          1,
          1.1
         ],
         "y": [
          0.0534074530005455,
          0.030753865838050842,
          0.007193401455879211,
          -0.0345890074968338,
          -0.07508993148803711,
          -0.12302875518798828,
          -0.15193688869476318,
          -0.18144258856773376
         ]
        },
        {
         "line": {
          "shape": "spline"
         },
         "name": "Temp0 .5",
         "type": "scatter",
         "uid": "3184ab2b-c2f0-4f43-8243-43fcb928f1cd",
         "x": [
          0.1,
          0.2,
          0.3,
          0.5,
          0.7,
          0.9,
          1,
          1.1
         ],
         "y": [
          0.021178103983402252,
          -0.0030096769332885742,
          -0.03100186586380005,
          -0.07751554250717163,
          -0.12093967199325562,
          -0.17127984762191772,
          -0.2018415331840515,
          -0.23414582014083862
         ]
        },
        {
         "line": {
          "shape": "spline"
         },
         "name": "Temp0 1.5",
         "type": "scatter",
         "uid": "86382e8d-8c68-4498-b80c-0e5ff5d0288b",
         "x": [
          0.1,
          0.2,
          0.3,
          0.5,
          0.7,
          0.9,
          1,
          1.1
         ],
         "y": [
          0.0050634294748306274,
          -0.019891448318958282,
          -0.05009949952363968,
          -0.09897881001234055,
          -0.14386454224586487,
          -0.19540539383888245,
          -0.22679385542869568,
          -0.26049745082855225
         ]
        },
        {
         "line": {
          "shape": "spline"
         },
         "name": "Temp0 2.5",
         "type": "scatter",
         "uid": "6b9f92a0-63f4-460b-9448-7a7899b84626",
         "x": [
          0.1,
          0.2,
          0.3,
          0.5,
          0.7,
          0.9,
          1,
          1.1
         ],
         "y": [
          -0.027165919542312622,
          -0.0536549910902977,
          -0.08829476684331894,
          -0.14190533757209778,
          -0.18971428275108337,
          -0.2436564862728119,
          -0.276698499917984,
          -0.3132006525993347
         ]
        },
        {
         "line": {
          "shape": "spline"
         },
         "name": "Temp0 3.5",
         "type": "scatter",
         "uid": "badc7270-88f1-400b-98b0-718fc873e56d",
         "x": [
          0.1,
          0.2,
          0.3,
          0.5,
          0.7,
          0.9,
          1,
          1.1
         ],
         "y": [
          -0.05939526855945587,
          -0.08741853386163712,
          -0.1264900416135788,
          -0.1848318725824356,
          -0.23556402325630188,
          -0.29190757870674133,
          -0.32660314440727234,
          -0.36590391397476196
         ]
        },
        {
         "line": {
          "dash": "2px,6px",
          "shape": "spline"
         },
         "marker": {
          "symbol": "star"
         },
         "name": "Template1",
         "type": "scatter",
         "uid": "fef8424a-8d3f-4c70-9e7e-643569754ac4",
         "x": [
          0.1,
          0.2,
          0.3,
          0.5,
          0.7,
          0.9,
          1,
          1.1
         ],
         "y": [
          -0.10773929208517075,
          -0.13806384801864624,
          -0.1837829351425171,
          -0.24922168254852295,
          -0.30433863401412964,
          -0.3642842173576355,
          -0.40146011114120483,
          -0.44495874643325806
         ]
        },
        {
         "line": {
          "shape": "spline"
         },
         "name": "Avg",
         "type": "scatter",
         "uid": "f203dc5e-fd31-4e50-86d7-8a1924223cdd",
         "x": [
          0.1,
          0.2,
          0.3,
          0.5,
          0.7,
          0.9,
          1,
          1.1
         ],
         "y": [
          -0.17219799757003784,
          -0.20559093356132507,
          -0.260173499584198,
          -0.3350747227668762,
          -0.39603811502456665,
          -0.4607864022254944,
          -0.5012694001197815,
          -0.5503652095794678
         ]
        }
       ],
       "layout": {
        "height": 500,
        "hovermode": "closest",
        "title": {
         "text": "Figure 5. Context interpolation/extrapolation<br> of morphology for time index: 0.7"
        },
        "width": 600,
        "xaxis": {
         "dtick": 0.2,
         "range": [
          -0.01,
          1.2
         ],
         "tick0": 0,
         "title": {
          "text": "Morphology index"
         }
        },
        "yaxis": {
         "range": [
          -0.4,
          0.2
         ],
         "title": {
          "text": "Context"
         }
        }
       }
      },
      "text/html": [
       "<div id=\"82cd5c73-935f-4852-95f9-cf6c99f40f28\" style=\"height: 500px; width: 600px;\" class=\"plotly-graph-div\"></div><script type=\"text/javascript\">require([\"plotly\"], function(Plotly) { window.PLOTLYENV=window.PLOTLYENV || {};window.PLOTLYENV.BASE_URL=\"https://plot.ly\";Plotly.newPlot(\"82cd5c73-935f-4852-95f9-cf6c99f40f28\", [{\"line\": {\"dash\": \"2px,6px\", \"shape\": \"spline\"}, \"marker\": {\"symbol\": \"star\"}, \"name\": \"Template0\", \"x\": [0.1, 0.2, 0.3, 0.5, 0.7, 0.9, 1.0, 1.1], \"y\": [0.0534074530005455, 0.030753865838050842, 0.007193401455879211, -0.0345890074968338, -0.07508993148803711, -0.12302875518798828, -0.15193688869476318, -0.18144258856773376], \"type\": \"scatter\", \"uid\": \"d9b7853f-4d1f-464c-8a4b-a98f76dd053d\"}, {\"line\": {\"shape\": \"spline\"}, \"name\": \"Temp0 .5\", \"x\": [0.1, 0.2, 0.3, 0.5, 0.7, 0.9, 1.0, 1.1], \"y\": [0.021178103983402252, -0.0030096769332885742, -0.03100186586380005, -0.07751554250717163, -0.12093967199325562, -0.17127984762191772, -0.2018415331840515, -0.23414582014083862], \"type\": \"scatter\", \"uid\": \"3184ab2b-c2f0-4f43-8243-43fcb928f1cd\"}, {\"line\": {\"shape\": \"spline\"}, \"name\": \"Temp0 1.5\", \"x\": [0.1, 0.2, 0.3, 0.5, 0.7, 0.9, 1.0, 1.1], \"y\": [0.0050634294748306274, -0.019891448318958282, -0.05009949952363968, -0.09897881001234055, -0.14386454224586487, -0.19540539383888245, -0.22679385542869568, -0.26049745082855225], \"type\": \"scatter\", \"uid\": \"86382e8d-8c68-4498-b80c-0e5ff5d0288b\"}, {\"line\": {\"shape\": \"spline\"}, \"name\": \"Temp0 2.5\", \"x\": [0.1, 0.2, 0.3, 0.5, 0.7, 0.9, 1.0, 1.1], \"y\": [-0.027165919542312622, -0.0536549910902977, -0.08829476684331894, -0.14190533757209778, -0.18971428275108337, -0.2436564862728119, -0.276698499917984, -0.3132006525993347], \"type\": \"scatter\", \"uid\": \"6b9f92a0-63f4-460b-9448-7a7899b84626\"}, {\"line\": {\"shape\": \"spline\"}, \"name\": \"Temp0 3.5\", \"x\": [0.1, 0.2, 0.3, 0.5, 0.7, 0.9, 1.0, 1.1], \"y\": [-0.05939526855945587, -0.08741853386163712, -0.1264900416135788, -0.1848318725824356, -0.23556402325630188, -0.29190757870674133, -0.32660314440727234, -0.36590391397476196], \"type\": \"scatter\", \"uid\": \"badc7270-88f1-400b-98b0-718fc873e56d\"}, {\"line\": {\"dash\": \"2px,6px\", \"shape\": \"spline\"}, \"marker\": {\"symbol\": \"star\"}, \"name\": \"Template1\", \"x\": [0.1, 0.2, 0.3, 0.5, 0.7, 0.9, 1.0, 1.1], \"y\": [-0.10773929208517075, -0.13806384801864624, -0.1837829351425171, -0.24922168254852295, -0.30433863401412964, -0.3642842173576355, -0.40146011114120483, -0.44495874643325806], \"type\": \"scatter\", \"uid\": \"fef8424a-8d3f-4c70-9e7e-643569754ac4\"}, {\"line\": {\"shape\": \"spline\"}, \"name\": \"Avg\", \"x\": [0.1, 0.2, 0.3, 0.5, 0.7, 0.9, 1.0, 1.1], \"y\": [-0.17219799757003784, -0.20559093356132507, -0.260173499584198, -0.3350747227668762, -0.39603811502456665, -0.4607864022254944, -0.5012694001197815, -0.5503652095794678], \"type\": \"scatter\", \"uid\": \"f203dc5e-fd31-4e50-86d7-8a1924223cdd\"}], {\"height\": 500, \"hovermode\": \"closest\", \"title\": {\"text\": \"Figure 5. Context interpolation/extrapolation<br> of morphology for time index: 0.7\"}, \"width\": 600, \"xaxis\": {\"dtick\": 0.2, \"range\": [-0.01, 1.2], \"tick0\": 0.0, \"title\": {\"text\": \"Morphology index\"}}, \"yaxis\": {\"range\": [-0.4, 0.2], \"title\": {\"text\": \"Context\"}}}, {\"showLink\": false, \"linkText\": \"Export to plot.ly\", \"plotlyServerURL\": \"https://plot.ly\"})});</script>"
      ],
      "text/vnd.plotly.v1+html": [
       "<div id=\"82cd5c73-935f-4852-95f9-cf6c99f40f28\" style=\"height: 500px; width: 600px;\" class=\"plotly-graph-div\"></div><script type=\"text/javascript\">require([\"plotly\"], function(Plotly) { window.PLOTLYENV=window.PLOTLYENV || {};window.PLOTLYENV.BASE_URL=\"https://plot.ly\";Plotly.newPlot(\"82cd5c73-935f-4852-95f9-cf6c99f40f28\", [{\"line\": {\"dash\": \"2px,6px\", \"shape\": \"spline\"}, \"marker\": {\"symbol\": \"star\"}, \"name\": \"Template0\", \"x\": [0.1, 0.2, 0.3, 0.5, 0.7, 0.9, 1.0, 1.1], \"y\": [0.0534074530005455, 0.030753865838050842, 0.007193401455879211, -0.0345890074968338, -0.07508993148803711, -0.12302875518798828, -0.15193688869476318, -0.18144258856773376], \"type\": \"scatter\", \"uid\": \"d9b7853f-4d1f-464c-8a4b-a98f76dd053d\"}, {\"line\": {\"shape\": \"spline\"}, \"name\": \"Temp0 .5\", \"x\": [0.1, 0.2, 0.3, 0.5, 0.7, 0.9, 1.0, 1.1], \"y\": [0.021178103983402252, -0.0030096769332885742, -0.03100186586380005, -0.07751554250717163, -0.12093967199325562, -0.17127984762191772, -0.2018415331840515, -0.23414582014083862], \"type\": \"scatter\", \"uid\": \"3184ab2b-c2f0-4f43-8243-43fcb928f1cd\"}, {\"line\": {\"shape\": \"spline\"}, \"name\": \"Temp0 1.5\", \"x\": [0.1, 0.2, 0.3, 0.5, 0.7, 0.9, 1.0, 1.1], \"y\": [0.0050634294748306274, -0.019891448318958282, -0.05009949952363968, -0.09897881001234055, -0.14386454224586487, -0.19540539383888245, -0.22679385542869568, -0.26049745082855225], \"type\": \"scatter\", \"uid\": \"86382e8d-8c68-4498-b80c-0e5ff5d0288b\"}, {\"line\": {\"shape\": \"spline\"}, \"name\": \"Temp0 2.5\", \"x\": [0.1, 0.2, 0.3, 0.5, 0.7, 0.9, 1.0, 1.1], \"y\": [-0.027165919542312622, -0.0536549910902977, -0.08829476684331894, -0.14190533757209778, -0.18971428275108337, -0.2436564862728119, -0.276698499917984, -0.3132006525993347], \"type\": \"scatter\", \"uid\": \"6b9f92a0-63f4-460b-9448-7a7899b84626\"}, {\"line\": {\"shape\": \"spline\"}, \"name\": \"Temp0 3.5\", \"x\": [0.1, 0.2, 0.3, 0.5, 0.7, 0.9, 1.0, 1.1], \"y\": [-0.05939526855945587, -0.08741853386163712, -0.1264900416135788, -0.1848318725824356, -0.23556402325630188, -0.29190757870674133, -0.32660314440727234, -0.36590391397476196], \"type\": \"scatter\", \"uid\": \"badc7270-88f1-400b-98b0-718fc873e56d\"}, {\"line\": {\"dash\": \"2px,6px\", \"shape\": \"spline\"}, \"marker\": {\"symbol\": \"star\"}, \"name\": \"Template1\", \"x\": [0.1, 0.2, 0.3, 0.5, 0.7, 0.9, 1.0, 1.1], \"y\": [-0.10773929208517075, -0.13806384801864624, -0.1837829351425171, -0.24922168254852295, -0.30433863401412964, -0.3642842173576355, -0.40146011114120483, -0.44495874643325806], \"type\": \"scatter\", \"uid\": \"fef8424a-8d3f-4c70-9e7e-643569754ac4\"}, {\"line\": {\"shape\": \"spline\"}, \"name\": \"Avg\", \"x\": [0.1, 0.2, 0.3, 0.5, 0.7, 0.9, 1.0, 1.1], \"y\": [-0.17219799757003784, -0.20559093356132507, -0.260173499584198, -0.3350747227668762, -0.39603811502456665, -0.4607864022254944, -0.5012694001197815, -0.5503652095794678], \"type\": \"scatter\", \"uid\": \"f203dc5e-fd31-4e50-86d7-8a1924223cdd\"}], {\"height\": 500, \"hovermode\": \"closest\", \"title\": {\"text\": \"Figure 5. Context interpolation/extrapolation<br> of morphology for time index: 0.7\"}, \"width\": 600, \"xaxis\": {\"dtick\": 0.2, \"range\": [-0.01, 1.2], \"tick0\": 0.0, \"title\": {\"text\": \"Morphology index\"}}, \"yaxis\": {\"range\": [-0.4, 0.2], \"title\": {\"text\": \"Context\"}}}, {\"showLink\": false, \"linkText\": \"Export to plot.ly\", \"plotlyServerURL\": \"https://plot.ly\"})});</script>"
      ]
     },
     "metadata": {},
     "output_type": "display_data"
    }
   ],
   "source": [
    "'''\n",
    "7. Graph exploritory Relational Context values for a time step \n",
    "\n",
    "'''\n",
    "\n",
    "rcxy0 = np.array([[relIn[0,1:,1], c]for c in np.array(context0)[:,1:]])\n",
    "rcxy1 = np.array([[relIn[0,1:,1], c]for c in np.array(context1)[:,1:]])\n",
    "\n",
    "rlist = np.concatenate((rcxy0,rcxy1))\n",
    "\n",
    "layout = go.Layout(\n",
    "    title = '',\n",
    "    height = 500,\n",
    "    width = 600,\n",
    "    hovermode= 'closest',\n",
    "    xaxis= dict(\n",
    "        title= 'Morphology index',\n",
    "        range = [-.01,1.2],\n",
    "        tick0 = 0.,\n",
    "        dtick = 0.2\n",
    "    ),\n",
    "    yaxis=dict(\n",
    "        title= 'Context',\n",
    "        range = [-.4,.2],\n",
    "    )    \n",
    ")\n",
    "layout.title = 'Figure 5. Context interpolation/extrapolation<br> of morphology for time index: ' + str(timeIndices[timeIndex])\n",
    "f = gy.graphCurves(rlist, layout, dashRange=[0,5],\n",
    "                   labels=['Template0', 'Temp0 .5', 'Temp0 1.5','Temp0 2.5', 'Temp0 3.5', 'Template1','Avg',\n",
    "                           'Temp1 .5', 'Temp1 1.5', 'Temp1 2.5','Temp1 3.5', ],\n",
    "                   )\n",
    "\n",
    "offline.iplot(f)\n",
    "if not os.path.exists('images'):\n",
    "    os.mkdir('images')\n",
    "pio.write_image(f, './images/fig5.png')"
   ]
  },
  {
   "cell_type": "code",
   "execution_count": 20,
   "metadata": {},
   "outputs": [
    {
     "data": {
      "text/plain": [
       "((1, 9), (6, 9), (7, 9), (8, 21), (7, 8, 21))"
      ]
     },
     "execution_count": 20,
     "metadata": {},
     "output_type": "execute_result"
    }
   ],
   "source": [
    "'''\n",
    "8. Calculate Ph values for exploratory time and context values  \n",
    "\n",
    "'''\n",
    "timeIndex=6\n",
    "c0 = np.array(context0)\n",
    "c1 =  np.array(context1)\n",
    "contextCurves = np.concatenate((c0,c1))\n",
    "\n",
    "#ph from raw template\n",
    "pht0Petal = ph0t[timeIndex,1:]#suppress first morph value (just offset)\n",
    "pht1Petal = ph1t[timeIndex,1:]\n",
    "\n",
    "#ph from context model and exxloritory context curves\n",
    "phExplore = createPhFromContext(phCnModel,contextCurves,relIn,timeIndex)[:,1:] #suppress first value (just offset)\n",
    "\n",
    "c0.shape, c1.shape, contextCurves.shape, pht0Petal.shape, phExplore.shape"
   ]
  },
  {
   "cell_type": "code",
   "execution_count": 25,
   "metadata": {},
   "outputs": [
    {
     "data": {
      "application/vnd.plotly.v1+json": {
       "config": {
        "linkText": "Export to plot.ly",
        "plotlyServerURL": "https://plot.ly",
        "showLink": false
       },
       "data": [
        {
         "line": {
          "dash": "2px,6px",
          "shape": "spline"
         },
         "marker": {
          "symbol": "star"
         },
         "name": "0",
         "type": "scatter",
         "uid": "c3567e4e-3079-453b-a290-02efc1b5d46e",
         "x": [
          0.22860866785049438,
          0.18639975786209106,
          0.1535346955060959,
          0.14142021536827087,
          0.1536877155303955,
          0.18815088272094727,
          0.22711315751075745
         ],
         "y": [
          -0.006640434265136719,
          -0.015415608882904053,
          -0.027199745178222656,
          -0.0310671329498291,
          -0.02461487054824829,
          -0.017494559288024902,
          -0.005191802978515625
         ]
        },
        {
         "line": {
          "dash": "2px,6px",
          "shape": "spline"
         },
         "marker": {
          "symbol": "star"
         },
         "name": "1",
         "type": "scatter",
         "uid": "39ca7c19-8ad9-4b4a-bb7c-f9eec406b86e",
         "x": [
          0.2965802550315857,
          0.26958703994750977,
          0.24614383280277252,
          0.2361784726381302,
          0.24711009860038757,
          0.2711348235607147,
          0.29530587792396545
         ],
         "y": [
          -0.014294028282165527,
          -0.030918240547180176,
          -0.0495072603225708,
          -0.0609203577041626,
          -0.050047099590301514,
          -0.031895220279693604,
          -0.013845562934875488
         ]
        },
        {
         "line": {
          "dash": "2px,6px",
          "shape": "spline"
         },
         "marker": {
          "symbol": "star"
         },
         "name": "2",
         "type": "scatter",
         "uid": "41d01052-6152-41b7-9f64-10a05607438e",
         "x": [
          0.35436081886291504,
          0.33864569664001465,
          0.32230091094970703,
          0.31267356872558594,
          0.324182391166687,
          0.33947286009788513,
          0.35542798042297363
         ],
         "y": [
          -0.016077816486358643,
          -0.038394927978515625,
          -0.061518967151641846,
          -0.07784789800643921,
          -0.06337755918502808,
          -0.038301289081573486,
          -0.016001641750335693
         ]
        },
        {
         "line": {
          "dash": "2px,6px",
          "shape": "spline"
         },
         "marker": {
          "symbol": "star"
         },
         "name": "3",
         "type": "scatter",
         "uid": "711df053-5870-4383-b661-808614365154",
         "x": [
          0.46499139070510864,
          0.4665800929069519,
          0.4618931710720062,
          0.45420190691947937,
          0.4650459587574005,
          0.46591484546661377,
          0.4688989222049713
         ],
         "y": [
          -0.015164792537689209,
          -0.047381579875946045,
          -0.07662421464920044,
          -0.0978555679321289,
          -0.07882833480834961,
          -0.04633837938308716,
          -0.014755845069885254
         ]
        },
        {
         "line": {
          "dash": "2px,6px",
          "shape": "spline"
         },
         "marker": {
          "symbol": "star"
         },
         "name": "4",
         "type": "scatter",
         "uid": "b30a803c-27f0-45ff-9dde-694650b08d95",
         "x": [
          0.5832077860832214,
          0.59897381067276,
          0.6048274040222168,
          0.6026246547698975,
          0.6080038547515869,
          0.5972089767456055,
          0.586017370223999
         ],
         "y": [
          -0.0014888644218444824,
          -0.039254724979400635,
          -0.0698091983795166,
          -0.0893217921257019,
          -0.0700574517250061,
          -0.03914344310760498,
          -0.00017493963241577148
         ]
        },
        {
         "line": {
          "dash": "2px,6px",
          "shape": "spline"
         },
         "marker": {
          "symbol": "star"
         },
         "name": "5",
         "type": "scatter",
         "uid": "f6e10a93-a267-4691-b29c-1efd00cbb085",
         "x": [
          0.7259460687637329,
          0.761680006980896,
          0.7817572355270386,
          0.7897789478302002,
          0.7845636606216431,
          0.759515106678009,
          0.7254642248153687
         ],
         "y": [
          0.006909787654876709,
          -0.027641117572784424,
          -0.053297221660614014,
          -0.06813573837280273,
          -0.05312490463256836,
          -0.028777599334716797,
          0.0072002410888671875
         ]
        },
        {
         "line": {
          "dash": "2px,6px",
          "shape": "spline"
         },
         "marker": {
          "symbol": "star"
         },
         "name": "6",
         "type": "scatter",
         "uid": "1d8b4af8-9d28-4421-bb05-8e8420afb6c8",
         "x": [
          0.8153501152992249,
          0.8682395815849304,
          0.8986740112304688,
          0.912468671798706,
          0.9005125761032104,
          0.8662170767784119,
          0.8138426542282104
         ],
         "y": [
          0.006061121821403503,
          -0.018193542957305908,
          -0.03596627712249756,
          -0.0471230149269104,
          -0.03761082887649536,
          -0.019816339015960693,
          0.0029304921627044678
         ]
        },
        {
         "line": {
          "dash": "2px,6px",
          "shape": "spline"
         },
         "marker": {
          "symbol": "star"
         },
         "name": "7",
         "type": "scatter",
         "uid": "a396bbb7-ff0c-4cc1-af3d-021517e1cf77",
         "x": [
          0.9168204069137573,
          0.9941883683204651,
          1.0368316173553467,
          1.0532974004745483,
          1.0361542701721191,
          0.9923390746116638,
          0.9173595905303955
         ],
         "y": [
          0.01064331829547882,
          0.008655707351863384,
          0.006389547139406204,
          0.0010366812348365784,
          0.0009617023169994354,
          0.006705986335873604,
          -5.7756900787353516e-05
         ]
        },
        {
         "line": {
          "dash": "2px,6px",
          "shape": "spline"
         },
         "marker": {
          "symbol": "star"
         },
         "name": "8",
         "type": "scatter",
         "uid": "70a88e6d-487b-443c-b378-850422042ed5",
         "x": [
          0.15865889191627502,
          0.14505314826965332,
          0.13988591730594635,
          0.13619545102119446,
          0.13933826982975006,
          0.14546450972557068,
          0.15997686982154846
         ],
         "y": [
          -0.016909122467041016,
          -0.027850687503814697,
          -0.03504115343093872,
          -0.03755718469619751,
          -0.034286320209503174,
          -0.026688992977142334,
          -0.017120063304901123
         ]
        },
        {
         "line": {
          "dash": "2px,6px",
          "shape": "spline"
         },
         "marker": {
          "symbol": "star"
         },
         "name": "9",
         "type": "scatter",
         "uid": "12529ae4-3044-4a52-ae43-51d2dc79f6f2",
         "x": [
          0.27829888463020325,
          0.2566096782684326,
          0.24726562201976776,
          0.24280622601509094,
          0.24775415658950806,
          0.2568301856517792,
          0.2779749035835266
         ],
         "y": [
          -0.02741837501525879,
          -0.046506643295288086,
          -0.058561086654663086,
          -0.062390148639678955,
          -0.057933926582336426,
          -0.04622292518615723,
          -0.027858972549438477
         ]
        },
        {
         "line": {
          "dash": "2px,6px",
          "shape": "spline"
         },
         "marker": {
          "symbol": "star"
         },
         "name": "10",
         "type": "scatter",
         "uid": "0ef72907-8ed9-4fa9-baaa-63c42406827b",
         "x": [
          0.37250733375549316,
          0.3482319414615631,
          0.33664804697036743,
          0.33180150389671326,
          0.33813315629959106,
          0.3478579521179199,
          0.37088876962661743
         ],
         "y": [
          -0.03806757926940918,
          -0.06482529640197754,
          -0.08035486936569214,
          -0.08577471971511841,
          -0.08036667108535767,
          -0.06502699851989746,
          -0.0383601188659668
         ]
        },
        {
         "line": {
          "dash": "2px,6px",
          "shape": "spline"
         },
         "marker": {
          "symbol": "star"
         },
         "name": "11",
         "type": "scatter",
         "uid": "c1b450aa-a296-4c73-b41f-5033c374bd86",
         "x": [
          0.5098984241485596,
          0.49081355333328247,
          0.48413723707199097,
          0.478650838136673,
          0.48383569717407227,
          0.49184441566467285,
          0.5089821219444275
         ],
         "y": [
          -0.05439412593841553,
          -0.09650158882141113,
          -0.11807793378829956,
          -0.12841570377349854,
          -0.11759382486343384,
          -0.09411758184432983,
          -0.05542641878128052
         ]
        },
        {
         "line": {
          "dash": "2px,6px",
          "shape": "spline"
         },
         "marker": {
          "symbol": "star"
         },
         "name": "12",
         "type": "scatter",
         "uid": "fd03b690-baf2-4c42-a777-a9b6fde785fe",
         "x": [
          0.6358633041381836,
          0.627550482749939,
          0.627785325050354,
          0.624093770980835,
          0.6265724897384644,
          0.6292425394058228,
          0.6353287696838379
         ],
         "y": [
          -0.0853610634803772,
          -0.13495749235153198,
          -0.158982515335083,
          -0.1724211573600769,
          -0.1584841012954712,
          -0.13131612539291382,
          -0.08656233549118042
         ]
        },
        {
         "line": {
          "dash": "2px,6px",
          "shape": "spline"
         },
         "marker": {
          "symbol": "star"
         },
         "name": "13",
         "type": "scatter",
         "uid": "3f8dd657-42fc-4419-9acb-390af511d776",
         "x": [
          0.7752179503440857,
          0.784130871295929,
          0.7930135130882263,
          0.7949216365814209,
          0.7925723791122437,
          0.78509122133255,
          0.7745575308799744
         ],
         "y": [
          -0.13709139823913574,
          -0.18210166692733765,
          -0.20430952310562134,
          -0.21789252758026123,
          -0.20436257123947144,
          -0.1796899437904358,
          -0.13780075311660767
         ]
        },
        {
         "line": {
          "dash": "2px,6px",
          "shape": "spline"
         },
         "marker": {
          "symbol": "star"
         },
         "name": "14",
         "type": "scatter",
         "uid": "15bf1c47-21c6-48d0-998f-88beff940438",
         "x": [
          0.8588841557502747,
          0.8799923658370972,
          0.8950923085212708,
          0.9017676115036011,
          0.8952847719192505,
          0.8804001808166504,
          0.8584288954734802
         ],
         "y": [
          -0.1712646484375,
          -0.20827460289001465,
          -0.22801971435546875,
          -0.24049264192581177,
          -0.22820329666137695,
          -0.20727699995040894,
          -0.1717650294303894
         ]
        },
        {
         "line": {
          "dash": "2px,6px",
          "shape": "spline"
         },
         "marker": {
          "symbol": "star"
         },
         "name": "15",
         "type": "scatter",
         "uid": "60c38599-da17-4fd2-bd23-6828592d9751",
         "x": [
          0.9584236145019531,
          0.9950174689292908,
          1.0184755325317383,
          1.0316171646118164,
          1.019176959991455,
          0.9949823021888733,
          0.9586173295974731
         ],
         "y": [
          -0.2106398344039917,
          -0.23514145612716675,
          -0.25143539905548096,
          -0.26194173097610474,
          -0.2514238953590393,
          -0.23604345321655273,
          -0.21115988492965698
         ]
        },
        {
         "line": {
          "dash": "2px,6px",
          "shape": "spline"
         },
         "marker": {
          "symbol": "star"
         },
         "name": "16",
         "type": "scatter",
         "uid": "ad4d0451-6e6b-4395-a9c7-35e366e4bb63",
         "x": [
          0.2025747001171112,
          0.1515440046787262,
          0.12638252973556519,
          0.11555519700050354,
          0.12410520017147064,
          0.15486358106136322,
          0.20065845549106598
         ],
         "y": [
          -0.03814113140106201,
          -0.06262612342834473,
          -0.07350701093673706,
          -0.0809859037399292,
          -0.07352578639984131,
          -0.0600430965423584,
          -0.03713017702102661
         ]
        },
        {
         "line": {
          "dash": "2px,6px",
          "shape": "spline"
         },
         "marker": {
          "symbol": "star"
         },
         "name": "17",
         "type": "scatter",
         "uid": "46d684d4-aa91-4a32-a23a-e00036f5e560",
         "x": [
          0.2800622582435608,
          0.23713162541389465,
          0.21479123830795288,
          0.2048632949590683,
          0.21400634944438934,
          0.23972955346107483,
          0.2794334888458252
         ],
         "y": [
          -0.04136335849761963,
          -0.07063043117523193,
          -0.08696037530899048,
          -0.09716296195983887,
          -0.08760803937911987,
          -0.06802189350128174,
          -0.04074054956436157
         ]
        },
        {
         "line": {
          "shape": "spline"
         },
         "name": "18",
         "type": "scatter",
         "uid": "c1e84bb2-6579-4264-80f6-65d091d00403",
         "x": [
          0.353246808052063,
          0.3185599148273468,
          0.29997581243515015,
          0.2909926772117615,
          0.30020707845687866,
          0.32050246000289917,
          0.3532722294330597
         ],
         "y": [
          -0.04630345106124878,
          -0.08029228448867798,
          -0.10105651617050171,
          -0.1137050986289978,
          -0.10211217403411865,
          -0.07784497737884521,
          -0.04604548215866089
         ]
        },
        {
         "line": {
          "shape": "spline"
         },
         "name": "19",
         "type": "scatter",
         "uid": "9234052f-7266-42ad-ad99-0186ce1f98ce",
         "x": [
          0.4903523921966553,
          0.4740910530090332,
          0.4657597541809082,
          0.4593714773654938,
          0.46682292222976685,
          0.4749218821525574,
          0.49031782150268555
         ],
         "y": [
          -0.05170774459838867,
          -0.09306037425994873,
          -0.1198190450668335,
          -0.13616430759429932,
          -0.12106060981750488,
          -0.0914199948310852,
          -0.052227020263671875
         ]
        },
        {
         "line": {
          "shape": "spline"
         },
         "name": "20",
         "type": "scatter",
         "uid": "328b68cc-3074-48d1-97eb-66ef9a3f65ee",
         "x": [
          0.6179210543632507,
          0.6207051277160645,
          0.6237607002258301,
          0.6213714480400085,
          0.6250118017196655,
          0.620914101600647,
          0.617581844329834
         ],
         "y": [
          -0.05136007070541382,
          -0.09684169292449951,
          -0.12585675716400146,
          -0.1438639760017395,
          -0.12664103507995605,
          -0.09560167789459229,
          -0.05271565914154053
         ]
        },
        {
         "line": {
          "shape": "spline"
         },
         "name": "21",
         "type": "scatter",
         "uid": "8bd64a94-daee-48f1-a760-c591f0e65013",
         "x": [
          0.7453650236129761,
          0.7679662108421326,
          0.7834364175796509,
          0.7871845960617065,
          0.7843566536903381,
          0.767642617225647,
          0.7445472478866577
         ],
         "y": [
          -0.05249243974685669,
          -0.0959099531173706,
          -0.12286770343780518,
          -0.14074867963790894,
          -0.1236153244972229,
          -0.09495103359222412,
          -0.05408191680908203
         ]
        },
        {
         "line": {
          "shape": "spline"
         },
         "name": "22",
         "type": "scatter",
         "uid": "80bf5599-c6ba-4081-ad51-eb4af986fa3a",
         "x": [
          0.8125941157341003,
          0.8457894325256348,
          0.867594301700592,
          0.8755650520324707,
          0.8684617877006531,
          0.8452118635177612,
          0.811392068862915
         ],
         "y": [
          -0.05646544694900513,
          -0.0951642394065857,
          -0.11918044090270996,
          -0.13581961393356323,
          -0.12025570869445801,
          -0.09472155570983887,
          -0.05833345651626587
         ]
        },
        {
         "line": {
          "shape": "spline"
         },
         "name": "23",
         "type": "scatter",
         "uid": "3fe88fb1-26cf-4cc1-816a-39aa6e0c331f",
         "x": [
          0.8826184868812561,
          0.9268203973770142,
          0.9542475938796997,
          0.9672433137893677,
          0.955763578414917,
          0.926041841506958,
          0.8808975219726562
         ],
         "y": [
          -0.05935126543045044,
          -0.09026426076889038,
          -0.11026686429977417,
          -0.12450391054153442,
          -0.11203885078430176,
          -0.09101194143295288,
          -0.06226378679275513
         ]
        }
       ],
       "layout": {
        "height": 600,
        "hovermode": "closest",
        "title": {
         "text": "Compare template and exploritory context models xz front view"
        },
        "width": 600,
        "xaxis": {
         "range": [
          -0.1,
          1.5
         ],
         "title": {
          "text": "X"
         }
        },
        "yaxis": {
         "range": [
          -0.5,
          1
         ],
         "title": {
          "text": "Y"
         }
        }
       }
      },
      "text/html": [
       "<div id=\"0310e049-006c-45d2-bda7-ab4f5b23848c\" style=\"height: 600px; width: 600px;\" class=\"plotly-graph-div\"></div><script type=\"text/javascript\">require([\"plotly\"], function(Plotly) { window.PLOTLYENV=window.PLOTLYENV || {};window.PLOTLYENV.BASE_URL=\"https://plot.ly\";Plotly.newPlot(\"0310e049-006c-45d2-bda7-ab4f5b23848c\", [{\"line\": {\"dash\": \"2px,6px\", \"shape\": \"spline\"}, \"marker\": {\"symbol\": \"star\"}, \"name\": \"0\", \"x\": [0.22860866785049438, 0.18639975786209106, 0.1535346955060959, 0.14142021536827087, 0.1536877155303955, 0.18815088272094727, 0.22711315751075745], \"y\": [-0.006640434265136719, -0.015415608882904053, -0.027199745178222656, -0.0310671329498291, -0.02461487054824829, -0.017494559288024902, -0.005191802978515625], \"type\": \"scatter\", \"uid\": \"c3567e4e-3079-453b-a290-02efc1b5d46e\"}, {\"line\": {\"dash\": \"2px,6px\", \"shape\": \"spline\"}, \"marker\": {\"symbol\": \"star\"}, \"name\": \"1\", \"x\": [0.2965802550315857, 0.26958703994750977, 0.24614383280277252, 0.2361784726381302, 0.24711009860038757, 0.2711348235607147, 0.29530587792396545], \"y\": [-0.014294028282165527, -0.030918240547180176, -0.0495072603225708, -0.0609203577041626, -0.050047099590301514, -0.031895220279693604, -0.013845562934875488], \"type\": \"scatter\", \"uid\": \"39ca7c19-8ad9-4b4a-bb7c-f9eec406b86e\"}, {\"line\": {\"dash\": \"2px,6px\", \"shape\": \"spline\"}, \"marker\": {\"symbol\": \"star\"}, \"name\": \"2\", \"x\": [0.35436081886291504, 0.33864569664001465, 0.32230091094970703, 0.31267356872558594, 0.324182391166687, 0.33947286009788513, 0.35542798042297363], \"y\": [-0.016077816486358643, -0.038394927978515625, -0.061518967151641846, -0.07784789800643921, -0.06337755918502808, -0.038301289081573486, -0.016001641750335693], \"type\": \"scatter\", \"uid\": \"41d01052-6152-41b7-9f64-10a05607438e\"}, {\"line\": {\"dash\": \"2px,6px\", \"shape\": \"spline\"}, \"marker\": {\"symbol\": \"star\"}, \"name\": \"3\", \"x\": [0.46499139070510864, 0.4665800929069519, 0.4618931710720062, 0.45420190691947937, 0.4650459587574005, 0.46591484546661377, 0.4688989222049713], \"y\": [-0.015164792537689209, -0.047381579875946045, -0.07662421464920044, -0.0978555679321289, -0.07882833480834961, -0.04633837938308716, -0.014755845069885254], \"type\": \"scatter\", \"uid\": \"711df053-5870-4383-b661-808614365154\"}, {\"line\": {\"dash\": \"2px,6px\", \"shape\": \"spline\"}, \"marker\": {\"symbol\": \"star\"}, \"name\": \"4\", \"x\": [0.5832077860832214, 0.59897381067276, 0.6048274040222168, 0.6026246547698975, 0.6080038547515869, 0.5972089767456055, 0.586017370223999], \"y\": [-0.0014888644218444824, -0.039254724979400635, -0.0698091983795166, -0.0893217921257019, -0.0700574517250061, -0.03914344310760498, -0.00017493963241577148], \"type\": \"scatter\", \"uid\": \"b30a803c-27f0-45ff-9dde-694650b08d95\"}, {\"line\": {\"dash\": \"2px,6px\", \"shape\": \"spline\"}, \"marker\": {\"symbol\": \"star\"}, \"name\": \"5\", \"x\": [0.7259460687637329, 0.761680006980896, 0.7817572355270386, 0.7897789478302002, 0.7845636606216431, 0.759515106678009, 0.7254642248153687], \"y\": [0.006909787654876709, -0.027641117572784424, -0.053297221660614014, -0.06813573837280273, -0.05312490463256836, -0.028777599334716797, 0.0072002410888671875], \"type\": \"scatter\", \"uid\": \"f6e10a93-a267-4691-b29c-1efd00cbb085\"}, {\"line\": {\"dash\": \"2px,6px\", \"shape\": \"spline\"}, \"marker\": {\"symbol\": \"star\"}, \"name\": \"6\", \"x\": [0.8153501152992249, 0.8682395815849304, 0.8986740112304688, 0.912468671798706, 0.9005125761032104, 0.8662170767784119, 0.8138426542282104], \"y\": [0.006061121821403503, -0.018193542957305908, -0.03596627712249756, -0.0471230149269104, -0.03761082887649536, -0.019816339015960693, 0.0029304921627044678], \"type\": \"scatter\", \"uid\": \"1d8b4af8-9d28-4421-bb05-8e8420afb6c8\"}, {\"line\": {\"dash\": \"2px,6px\", \"shape\": \"spline\"}, \"marker\": {\"symbol\": \"star\"}, \"name\": \"7\", \"x\": [0.9168204069137573, 0.9941883683204651, 1.0368316173553467, 1.0532974004745483, 1.0361542701721191, 0.9923390746116638, 0.9173595905303955], \"y\": [0.01064331829547882, 0.008655707351863384, 0.006389547139406204, 0.0010366812348365784, 0.0009617023169994354, 0.006705986335873604, -5.7756900787353516e-05], \"type\": \"scatter\", \"uid\": \"a396bbb7-ff0c-4cc1-af3d-021517e1cf77\"}, {\"line\": {\"dash\": \"2px,6px\", \"shape\": \"spline\"}, \"marker\": {\"symbol\": \"star\"}, \"name\": \"8\", \"x\": [0.15865889191627502, 0.14505314826965332, 0.13988591730594635, 0.13619545102119446, 0.13933826982975006, 0.14546450972557068, 0.15997686982154846], \"y\": [-0.016909122467041016, -0.027850687503814697, -0.03504115343093872, -0.03755718469619751, -0.034286320209503174, -0.026688992977142334, -0.017120063304901123], \"type\": \"scatter\", \"uid\": \"70a88e6d-487b-443c-b378-850422042ed5\"}, {\"line\": {\"dash\": \"2px,6px\", \"shape\": \"spline\"}, \"marker\": {\"symbol\": \"star\"}, \"name\": \"9\", \"x\": [0.27829888463020325, 0.2566096782684326, 0.24726562201976776, 0.24280622601509094, 0.24775415658950806, 0.2568301856517792, 0.2779749035835266], \"y\": [-0.02741837501525879, -0.046506643295288086, -0.058561086654663086, -0.062390148639678955, -0.057933926582336426, -0.04622292518615723, -0.027858972549438477], \"type\": \"scatter\", \"uid\": \"12529ae4-3044-4a52-ae43-51d2dc79f6f2\"}, {\"line\": {\"dash\": \"2px,6px\", \"shape\": \"spline\"}, \"marker\": {\"symbol\": \"star\"}, \"name\": \"10\", \"x\": [0.37250733375549316, 0.3482319414615631, 0.33664804697036743, 0.33180150389671326, 0.33813315629959106, 0.3478579521179199, 0.37088876962661743], \"y\": [-0.03806757926940918, -0.06482529640197754, -0.08035486936569214, -0.08577471971511841, -0.08036667108535767, -0.06502699851989746, -0.0383601188659668], \"type\": \"scatter\", \"uid\": \"0ef72907-8ed9-4fa9-baaa-63c42406827b\"}, {\"line\": {\"dash\": \"2px,6px\", \"shape\": \"spline\"}, \"marker\": {\"symbol\": \"star\"}, \"name\": \"11\", \"x\": [0.5098984241485596, 0.49081355333328247, 0.48413723707199097, 0.478650838136673, 0.48383569717407227, 0.49184441566467285, 0.5089821219444275], \"y\": [-0.05439412593841553, -0.09650158882141113, -0.11807793378829956, -0.12841570377349854, -0.11759382486343384, -0.09411758184432983, -0.05542641878128052], \"type\": \"scatter\", \"uid\": \"c1b450aa-a296-4c73-b41f-5033c374bd86\"}, {\"line\": {\"dash\": \"2px,6px\", \"shape\": \"spline\"}, \"marker\": {\"symbol\": \"star\"}, \"name\": \"12\", \"x\": [0.6358633041381836, 0.627550482749939, 0.627785325050354, 0.624093770980835, 0.6265724897384644, 0.6292425394058228, 0.6353287696838379], \"y\": [-0.0853610634803772, -0.13495749235153198, -0.158982515335083, -0.1724211573600769, -0.1584841012954712, -0.13131612539291382, -0.08656233549118042], \"type\": \"scatter\", \"uid\": \"fd03b690-baf2-4c42-a777-a9b6fde785fe\"}, {\"line\": {\"dash\": \"2px,6px\", \"shape\": \"spline\"}, \"marker\": {\"symbol\": \"star\"}, \"name\": \"13\", \"x\": [0.7752179503440857, 0.784130871295929, 0.7930135130882263, 0.7949216365814209, 0.7925723791122437, 0.78509122133255, 0.7745575308799744], \"y\": [-0.13709139823913574, -0.18210166692733765, -0.20430952310562134, -0.21789252758026123, -0.20436257123947144, -0.1796899437904358, -0.13780075311660767], \"type\": \"scatter\", \"uid\": \"3f8dd657-42fc-4419-9acb-390af511d776\"}, {\"line\": {\"dash\": \"2px,6px\", \"shape\": \"spline\"}, \"marker\": {\"symbol\": \"star\"}, \"name\": \"14\", \"x\": [0.8588841557502747, 0.8799923658370972, 0.8950923085212708, 0.9017676115036011, 0.8952847719192505, 0.8804001808166504, 0.8584288954734802], \"y\": [-0.1712646484375, -0.20827460289001465, -0.22801971435546875, -0.24049264192581177, -0.22820329666137695, -0.20727699995040894, -0.1717650294303894], \"type\": \"scatter\", \"uid\": \"15bf1c47-21c6-48d0-998f-88beff940438\"}, {\"line\": {\"dash\": \"2px,6px\", \"shape\": \"spline\"}, \"marker\": {\"symbol\": \"star\"}, \"name\": \"15\", \"x\": [0.9584236145019531, 0.9950174689292908, 1.0184755325317383, 1.0316171646118164, 1.019176959991455, 0.9949823021888733, 0.9586173295974731], \"y\": [-0.2106398344039917, -0.23514145612716675, -0.25143539905548096, -0.26194173097610474, -0.2514238953590393, -0.23604345321655273, -0.21115988492965698], \"type\": \"scatter\", \"uid\": \"60c38599-da17-4fd2-bd23-6828592d9751\"}, {\"line\": {\"dash\": \"2px,6px\", \"shape\": \"spline\"}, \"marker\": {\"symbol\": \"star\"}, \"name\": \"16\", \"x\": [0.2025747001171112, 0.1515440046787262, 0.12638252973556519, 0.11555519700050354, 0.12410520017147064, 0.15486358106136322, 0.20065845549106598], \"y\": [-0.03814113140106201, -0.06262612342834473, -0.07350701093673706, -0.0809859037399292, -0.07352578639984131, -0.0600430965423584, -0.03713017702102661], \"type\": \"scatter\", \"uid\": \"ad4d0451-6e6b-4395-a9c7-35e366e4bb63\"}, {\"line\": {\"dash\": \"2px,6px\", \"shape\": \"spline\"}, \"marker\": {\"symbol\": \"star\"}, \"name\": \"17\", \"x\": [0.2800622582435608, 0.23713162541389465, 0.21479123830795288, 0.2048632949590683, 0.21400634944438934, 0.23972955346107483, 0.2794334888458252], \"y\": [-0.04136335849761963, -0.07063043117523193, -0.08696037530899048, -0.09716296195983887, -0.08760803937911987, -0.06802189350128174, -0.04074054956436157], \"type\": \"scatter\", \"uid\": \"46d684d4-aa91-4a32-a23a-e00036f5e560\"}, {\"line\": {\"shape\": \"spline\"}, \"name\": \"18\", \"x\": [0.353246808052063, 0.3185599148273468, 0.29997581243515015, 0.2909926772117615, 0.30020707845687866, 0.32050246000289917, 0.3532722294330597], \"y\": [-0.04630345106124878, -0.08029228448867798, -0.10105651617050171, -0.1137050986289978, -0.10211217403411865, -0.07784497737884521, -0.04604548215866089], \"type\": \"scatter\", \"uid\": \"c1e84bb2-6579-4264-80f6-65d091d00403\"}, {\"line\": {\"shape\": \"spline\"}, \"name\": \"19\", \"x\": [0.4903523921966553, 0.4740910530090332, 0.4657597541809082, 0.4593714773654938, 0.46682292222976685, 0.4749218821525574, 0.49031782150268555], \"y\": [-0.05170774459838867, -0.09306037425994873, -0.1198190450668335, -0.13616430759429932, -0.12106060981750488, -0.0914199948310852, -0.052227020263671875], \"type\": \"scatter\", \"uid\": \"9234052f-7266-42ad-ad99-0186ce1f98ce\"}, {\"line\": {\"shape\": \"spline\"}, \"name\": \"20\", \"x\": [0.6179210543632507, 0.6207051277160645, 0.6237607002258301, 0.6213714480400085, 0.6250118017196655, 0.620914101600647, 0.617581844329834], \"y\": [-0.05136007070541382, -0.09684169292449951, -0.12585675716400146, -0.1438639760017395, -0.12664103507995605, -0.09560167789459229, -0.05271565914154053], \"type\": \"scatter\", \"uid\": \"328b68cc-3074-48d1-97eb-66ef9a3f65ee\"}, {\"line\": {\"shape\": \"spline\"}, \"name\": \"21\", \"x\": [0.7453650236129761, 0.7679662108421326, 0.7834364175796509, 0.7871845960617065, 0.7843566536903381, 0.767642617225647, 0.7445472478866577], \"y\": [-0.05249243974685669, -0.0959099531173706, -0.12286770343780518, -0.14074867963790894, -0.1236153244972229, -0.09495103359222412, -0.05408191680908203], \"type\": \"scatter\", \"uid\": \"8bd64a94-daee-48f1-a760-c591f0e65013\"}, {\"line\": {\"shape\": \"spline\"}, \"name\": \"22\", \"x\": [0.8125941157341003, 0.8457894325256348, 0.867594301700592, 0.8755650520324707, 0.8684617877006531, 0.8452118635177612, 0.811392068862915], \"y\": [-0.05646544694900513, -0.0951642394065857, -0.11918044090270996, -0.13581961393356323, -0.12025570869445801, -0.09472155570983887, -0.05833345651626587], \"type\": \"scatter\", \"uid\": \"80bf5599-c6ba-4081-ad51-eb4af986fa3a\"}, {\"line\": {\"shape\": \"spline\"}, \"name\": \"23\", \"x\": [0.8826184868812561, 0.9268203973770142, 0.9542475938796997, 0.9672433137893677, 0.955763578414917, 0.926041841506958, 0.8808975219726562], \"y\": [-0.05935126543045044, -0.09026426076889038, -0.11026686429977417, -0.12450391054153442, -0.11203885078430176, -0.09101194143295288, -0.06226378679275513], \"type\": \"scatter\", \"uid\": \"3fe88fb1-26cf-4cc1-816a-39aa6e0c331f\"}], {\"height\": 600, \"hovermode\": \"closest\", \"title\": {\"text\": \"Compare template and exploritory context models xz front view\"}, \"width\": 600, \"xaxis\": {\"range\": [-0.1, 1.5], \"title\": {\"text\": \"X\"}}, \"yaxis\": {\"range\": [-0.5, 1.0], \"title\": {\"text\": \"Y\"}}}, {\"showLink\": false, \"linkText\": \"Export to plot.ly\", \"plotlyServerURL\": \"https://plot.ly\"})});</script>"
      ],
      "text/vnd.plotly.v1+html": [
       "<div id=\"0310e049-006c-45d2-bda7-ab4f5b23848c\" style=\"height: 600px; width: 600px;\" class=\"plotly-graph-div\"></div><script type=\"text/javascript\">require([\"plotly\"], function(Plotly) { window.PLOTLYENV=window.PLOTLYENV || {};window.PLOTLYENV.BASE_URL=\"https://plot.ly\";Plotly.newPlot(\"0310e049-006c-45d2-bda7-ab4f5b23848c\", [{\"line\": {\"dash\": \"2px,6px\", \"shape\": \"spline\"}, \"marker\": {\"symbol\": \"star\"}, \"name\": \"0\", \"x\": [0.22860866785049438, 0.18639975786209106, 0.1535346955060959, 0.14142021536827087, 0.1536877155303955, 0.18815088272094727, 0.22711315751075745], \"y\": [-0.006640434265136719, -0.015415608882904053, -0.027199745178222656, -0.0310671329498291, -0.02461487054824829, -0.017494559288024902, -0.005191802978515625], \"type\": \"scatter\", \"uid\": \"c3567e4e-3079-453b-a290-02efc1b5d46e\"}, {\"line\": {\"dash\": \"2px,6px\", \"shape\": \"spline\"}, \"marker\": {\"symbol\": \"star\"}, \"name\": \"1\", \"x\": [0.2965802550315857, 0.26958703994750977, 0.24614383280277252, 0.2361784726381302, 0.24711009860038757, 0.2711348235607147, 0.29530587792396545], \"y\": [-0.014294028282165527, -0.030918240547180176, -0.0495072603225708, -0.0609203577041626, -0.050047099590301514, -0.031895220279693604, -0.013845562934875488], \"type\": \"scatter\", \"uid\": \"39ca7c19-8ad9-4b4a-bb7c-f9eec406b86e\"}, {\"line\": {\"dash\": \"2px,6px\", \"shape\": \"spline\"}, \"marker\": {\"symbol\": \"star\"}, \"name\": \"2\", \"x\": [0.35436081886291504, 0.33864569664001465, 0.32230091094970703, 0.31267356872558594, 0.324182391166687, 0.33947286009788513, 0.35542798042297363], \"y\": [-0.016077816486358643, -0.038394927978515625, -0.061518967151641846, -0.07784789800643921, -0.06337755918502808, -0.038301289081573486, -0.016001641750335693], \"type\": \"scatter\", \"uid\": \"41d01052-6152-41b7-9f64-10a05607438e\"}, {\"line\": {\"dash\": \"2px,6px\", \"shape\": \"spline\"}, \"marker\": {\"symbol\": \"star\"}, \"name\": \"3\", \"x\": [0.46499139070510864, 0.4665800929069519, 0.4618931710720062, 0.45420190691947937, 0.4650459587574005, 0.46591484546661377, 0.4688989222049713], \"y\": [-0.015164792537689209, -0.047381579875946045, -0.07662421464920044, -0.0978555679321289, -0.07882833480834961, -0.04633837938308716, -0.014755845069885254], \"type\": \"scatter\", \"uid\": \"711df053-5870-4383-b661-808614365154\"}, {\"line\": {\"dash\": \"2px,6px\", \"shape\": \"spline\"}, \"marker\": {\"symbol\": \"star\"}, \"name\": \"4\", \"x\": [0.5832077860832214, 0.59897381067276, 0.6048274040222168, 0.6026246547698975, 0.6080038547515869, 0.5972089767456055, 0.586017370223999], \"y\": [-0.0014888644218444824, -0.039254724979400635, -0.0698091983795166, -0.0893217921257019, -0.0700574517250061, -0.03914344310760498, -0.00017493963241577148], \"type\": \"scatter\", \"uid\": \"b30a803c-27f0-45ff-9dde-694650b08d95\"}, {\"line\": {\"dash\": \"2px,6px\", \"shape\": \"spline\"}, \"marker\": {\"symbol\": \"star\"}, \"name\": \"5\", \"x\": [0.7259460687637329, 0.761680006980896, 0.7817572355270386, 0.7897789478302002, 0.7845636606216431, 0.759515106678009, 0.7254642248153687], \"y\": [0.006909787654876709, -0.027641117572784424, -0.053297221660614014, -0.06813573837280273, -0.05312490463256836, -0.028777599334716797, 0.0072002410888671875], \"type\": \"scatter\", \"uid\": \"f6e10a93-a267-4691-b29c-1efd00cbb085\"}, {\"line\": {\"dash\": \"2px,6px\", \"shape\": \"spline\"}, \"marker\": {\"symbol\": \"star\"}, \"name\": \"6\", \"x\": [0.8153501152992249, 0.8682395815849304, 0.8986740112304688, 0.912468671798706, 0.9005125761032104, 0.8662170767784119, 0.8138426542282104], \"y\": [0.006061121821403503, -0.018193542957305908, -0.03596627712249756, -0.0471230149269104, -0.03761082887649536, -0.019816339015960693, 0.0029304921627044678], \"type\": \"scatter\", \"uid\": \"1d8b4af8-9d28-4421-bb05-8e8420afb6c8\"}, {\"line\": {\"dash\": \"2px,6px\", \"shape\": \"spline\"}, \"marker\": {\"symbol\": \"star\"}, \"name\": \"7\", \"x\": [0.9168204069137573, 0.9941883683204651, 1.0368316173553467, 1.0532974004745483, 1.0361542701721191, 0.9923390746116638, 0.9173595905303955], \"y\": [0.01064331829547882, 0.008655707351863384, 0.006389547139406204, 0.0010366812348365784, 0.0009617023169994354, 0.006705986335873604, -5.7756900787353516e-05], \"type\": \"scatter\", \"uid\": \"a396bbb7-ff0c-4cc1-af3d-021517e1cf77\"}, {\"line\": {\"dash\": \"2px,6px\", \"shape\": \"spline\"}, \"marker\": {\"symbol\": \"star\"}, \"name\": \"8\", \"x\": [0.15865889191627502, 0.14505314826965332, 0.13988591730594635, 0.13619545102119446, 0.13933826982975006, 0.14546450972557068, 0.15997686982154846], \"y\": [-0.016909122467041016, -0.027850687503814697, -0.03504115343093872, -0.03755718469619751, -0.034286320209503174, -0.026688992977142334, -0.017120063304901123], \"type\": \"scatter\", \"uid\": \"70a88e6d-487b-443c-b378-850422042ed5\"}, {\"line\": {\"dash\": \"2px,6px\", \"shape\": \"spline\"}, \"marker\": {\"symbol\": \"star\"}, \"name\": \"9\", \"x\": [0.27829888463020325, 0.2566096782684326, 0.24726562201976776, 0.24280622601509094, 0.24775415658950806, 0.2568301856517792, 0.2779749035835266], \"y\": [-0.02741837501525879, -0.046506643295288086, -0.058561086654663086, -0.062390148639678955, -0.057933926582336426, -0.04622292518615723, -0.027858972549438477], \"type\": \"scatter\", \"uid\": \"12529ae4-3044-4a52-ae43-51d2dc79f6f2\"}, {\"line\": {\"dash\": \"2px,6px\", \"shape\": \"spline\"}, \"marker\": {\"symbol\": \"star\"}, \"name\": \"10\", \"x\": [0.37250733375549316, 0.3482319414615631, 0.33664804697036743, 0.33180150389671326, 0.33813315629959106, 0.3478579521179199, 0.37088876962661743], \"y\": [-0.03806757926940918, -0.06482529640197754, -0.08035486936569214, -0.08577471971511841, -0.08036667108535767, -0.06502699851989746, -0.0383601188659668], \"type\": \"scatter\", \"uid\": \"0ef72907-8ed9-4fa9-baaa-63c42406827b\"}, {\"line\": {\"dash\": \"2px,6px\", \"shape\": \"spline\"}, \"marker\": {\"symbol\": \"star\"}, \"name\": \"11\", \"x\": [0.5098984241485596, 0.49081355333328247, 0.48413723707199097, 0.478650838136673, 0.48383569717407227, 0.49184441566467285, 0.5089821219444275], \"y\": [-0.05439412593841553, -0.09650158882141113, -0.11807793378829956, -0.12841570377349854, -0.11759382486343384, -0.09411758184432983, -0.05542641878128052], \"type\": \"scatter\", \"uid\": \"c1b450aa-a296-4c73-b41f-5033c374bd86\"}, {\"line\": {\"dash\": \"2px,6px\", \"shape\": \"spline\"}, \"marker\": {\"symbol\": \"star\"}, \"name\": \"12\", \"x\": [0.6358633041381836, 0.627550482749939, 0.627785325050354, 0.624093770980835, 0.6265724897384644, 0.6292425394058228, 0.6353287696838379], \"y\": [-0.0853610634803772, -0.13495749235153198, -0.158982515335083, -0.1724211573600769, -0.1584841012954712, -0.13131612539291382, -0.08656233549118042], \"type\": \"scatter\", \"uid\": \"fd03b690-baf2-4c42-a777-a9b6fde785fe\"}, {\"line\": {\"dash\": \"2px,6px\", \"shape\": \"spline\"}, \"marker\": {\"symbol\": \"star\"}, \"name\": \"13\", \"x\": [0.7752179503440857, 0.784130871295929, 0.7930135130882263, 0.7949216365814209, 0.7925723791122437, 0.78509122133255, 0.7745575308799744], \"y\": [-0.13709139823913574, -0.18210166692733765, -0.20430952310562134, -0.21789252758026123, -0.20436257123947144, -0.1796899437904358, -0.13780075311660767], \"type\": \"scatter\", \"uid\": \"3f8dd657-42fc-4419-9acb-390af511d776\"}, {\"line\": {\"dash\": \"2px,6px\", \"shape\": \"spline\"}, \"marker\": {\"symbol\": \"star\"}, \"name\": \"14\", \"x\": [0.8588841557502747, 0.8799923658370972, 0.8950923085212708, 0.9017676115036011, 0.8952847719192505, 0.8804001808166504, 0.8584288954734802], \"y\": [-0.1712646484375, -0.20827460289001465, -0.22801971435546875, -0.24049264192581177, -0.22820329666137695, -0.20727699995040894, -0.1717650294303894], \"type\": \"scatter\", \"uid\": \"15bf1c47-21c6-48d0-998f-88beff940438\"}, {\"line\": {\"dash\": \"2px,6px\", \"shape\": \"spline\"}, \"marker\": {\"symbol\": \"star\"}, \"name\": \"15\", \"x\": [0.9584236145019531, 0.9950174689292908, 1.0184755325317383, 1.0316171646118164, 1.019176959991455, 0.9949823021888733, 0.9586173295974731], \"y\": [-0.2106398344039917, -0.23514145612716675, -0.25143539905548096, -0.26194173097610474, -0.2514238953590393, -0.23604345321655273, -0.21115988492965698], \"type\": \"scatter\", \"uid\": \"60c38599-da17-4fd2-bd23-6828592d9751\"}, {\"line\": {\"dash\": \"2px,6px\", \"shape\": \"spline\"}, \"marker\": {\"symbol\": \"star\"}, \"name\": \"16\", \"x\": [0.2025747001171112, 0.1515440046787262, 0.12638252973556519, 0.11555519700050354, 0.12410520017147064, 0.15486358106136322, 0.20065845549106598], \"y\": [-0.03814113140106201, -0.06262612342834473, -0.07350701093673706, -0.0809859037399292, -0.07352578639984131, -0.0600430965423584, -0.03713017702102661], \"type\": \"scatter\", \"uid\": \"ad4d0451-6e6b-4395-a9c7-35e366e4bb63\"}, {\"line\": {\"dash\": \"2px,6px\", \"shape\": \"spline\"}, \"marker\": {\"symbol\": \"star\"}, \"name\": \"17\", \"x\": [0.2800622582435608, 0.23713162541389465, 0.21479123830795288, 0.2048632949590683, 0.21400634944438934, 0.23972955346107483, 0.2794334888458252], \"y\": [-0.04136335849761963, -0.07063043117523193, -0.08696037530899048, -0.09716296195983887, -0.08760803937911987, -0.06802189350128174, -0.04074054956436157], \"type\": \"scatter\", \"uid\": \"46d684d4-aa91-4a32-a23a-e00036f5e560\"}, {\"line\": {\"shape\": \"spline\"}, \"name\": \"18\", \"x\": [0.353246808052063, 0.3185599148273468, 0.29997581243515015, 0.2909926772117615, 0.30020707845687866, 0.32050246000289917, 0.3532722294330597], \"y\": [-0.04630345106124878, -0.08029228448867798, -0.10105651617050171, -0.1137050986289978, -0.10211217403411865, -0.07784497737884521, -0.04604548215866089], \"type\": \"scatter\", \"uid\": \"c1e84bb2-6579-4264-80f6-65d091d00403\"}, {\"line\": {\"shape\": \"spline\"}, \"name\": \"19\", \"x\": [0.4903523921966553, 0.4740910530090332, 0.4657597541809082, 0.4593714773654938, 0.46682292222976685, 0.4749218821525574, 0.49031782150268555], \"y\": [-0.05170774459838867, -0.09306037425994873, -0.1198190450668335, -0.13616430759429932, -0.12106060981750488, -0.0914199948310852, -0.052227020263671875], \"type\": \"scatter\", \"uid\": \"9234052f-7266-42ad-ad99-0186ce1f98ce\"}, {\"line\": {\"shape\": \"spline\"}, \"name\": \"20\", \"x\": [0.6179210543632507, 0.6207051277160645, 0.6237607002258301, 0.6213714480400085, 0.6250118017196655, 0.620914101600647, 0.617581844329834], \"y\": [-0.05136007070541382, -0.09684169292449951, -0.12585675716400146, -0.1438639760017395, -0.12664103507995605, -0.09560167789459229, -0.05271565914154053], \"type\": \"scatter\", \"uid\": \"328b68cc-3074-48d1-97eb-66ef9a3f65ee\"}, {\"line\": {\"shape\": \"spline\"}, \"name\": \"21\", \"x\": [0.7453650236129761, 0.7679662108421326, 0.7834364175796509, 0.7871845960617065, 0.7843566536903381, 0.767642617225647, 0.7445472478866577], \"y\": [-0.05249243974685669, -0.0959099531173706, -0.12286770343780518, -0.14074867963790894, -0.1236153244972229, -0.09495103359222412, -0.05408191680908203], \"type\": \"scatter\", \"uid\": \"8bd64a94-daee-48f1-a760-c591f0e65013\"}, {\"line\": {\"shape\": \"spline\"}, \"name\": \"22\", \"x\": [0.8125941157341003, 0.8457894325256348, 0.867594301700592, 0.8755650520324707, 0.8684617877006531, 0.8452118635177612, 0.811392068862915], \"y\": [-0.05646544694900513, -0.0951642394065857, -0.11918044090270996, -0.13581961393356323, -0.12025570869445801, -0.09472155570983887, -0.05833345651626587], \"type\": \"scatter\", \"uid\": \"80bf5599-c6ba-4081-ad51-eb4af986fa3a\"}, {\"line\": {\"shape\": \"spline\"}, \"name\": \"23\", \"x\": [0.8826184868812561, 0.9268203973770142, 0.9542475938796997, 0.9672433137893677, 0.955763578414917, 0.926041841506958, 0.8808975219726562], \"y\": [-0.05935126543045044, -0.09026426076889038, -0.11026686429977417, -0.12450391054153442, -0.11203885078430176, -0.09101194143295288, -0.06226378679275513], \"type\": \"scatter\", \"uid\": \"3fe88fb1-26cf-4cc1-816a-39aa6e0c331f\"}], {\"height\": 600, \"hovermode\": \"closest\", \"title\": {\"text\": \"Compare template and exploritory context models xz front view\"}, \"width\": 600, \"xaxis\": {\"range\": [-0.1, 1.5], \"title\": {\"text\": \"X\"}}, \"yaxis\": {\"range\": [-0.5, 1.0], \"title\": {\"text\": \"Y\"}}}, {\"showLink\": false, \"linkText\": \"Export to plot.ly\", \"plotlyServerURL\": \"https://plot.ly\"})});</script>"
      ]
     },
     "metadata": {},
     "output_type": "display_data"
    }
   ],
   "source": [
    "'''\n",
    "9. Graph exploritory Ph curve against T0 and T1 reference shapes for a time and context vector\n",
    "\n",
    "'''\n",
    "###############\n",
    "cIndex = 0 #Context index selecting one of the exploritory context vectors\n",
    "###############\n",
    "\n",
    "nx = np.concatenate((pht0Petal, pht1Petal,phExplore[cIndex], ))\n",
    "gx = gy.FormatNetworkToGraphColumns(nx, xOffset=0, yOffset=14, colPoints=7)\n",
    "\n",
    "layout = go.Layout(\n",
    "    title = 'Initial Curves',\n",
    "    height = 600,\n",
    "    width = 600,\n",
    "    hovermode= 'closest',\n",
    "    xaxis= dict(\n",
    "        title= 'X',\n",
    "        range = [-.1,1.5],\n",
    "    ),\n",
    "    yaxis=dict(\n",
    "        title= 'Y',\n",
    "        range = [-.5,1.],\n",
    "    )\n",
    ")\n",
    "\n",
    "layout.title = 'Compare template and exploritory context models xz front view'\n",
    "f = gy.graphCurves(gx, layout, dashRange=range(0,18))\n",
    "offline.iplot(f)"
   ]
  },
  {
   "cell_type": "code",
   "execution_count": 27,
   "metadata": {},
   "outputs": [
    {
     "data": {
      "application/vnd.plotly.v1+json": {
       "config": {
        "linkText": "Export to plot.ly",
        "plotlyServerURL": "https://plot.ly",
        "showLink": false
       },
       "data": [
        {
         "line": {
          "dash": "2px,6px",
          "shape": "spline"
         },
         "marker": {
          "symbol": "star"
         },
         "name": "0",
         "type": "scatter",
         "uid": "b9dd454a-7b24-4e36-aca6-97a7d52e574c",
         "x": [
          0.22860866785049438,
          0.18639975786209106,
          0.1535346955060959,
          0.14142021536827087,
          0.1536877155303955,
          0.18815088272094727,
          0.22711315751075745
         ],
         "y": [
          -0.3117305636405945,
          -0.1903020143508911,
          -0.0920611023902893,
          0.00014602020382881165,
          0.09031595289707184,
          0.19236499071121216,
          0.29892900586128235
         ]
        },
        {
         "line": {
          "dash": "2px,6px",
          "shape": "spline"
         },
         "marker": {
          "symbol": "star"
         },
         "name": "1",
         "type": "scatter",
         "uid": "bb1e1c7a-f2fc-4039-bca0-4b8770089337",
         "x": [
          0.2965802550315857,
          0.26958703994750977,
          0.24614383280277252,
          0.2361784726381302,
          0.24711009860038757,
          0.2711348235607147,
          0.29530587792396545
         ],
         "y": [
          -0.35637450218200684,
          -0.22796976566314697,
          -0.11491543054580688,
          -0.0004870891571044922,
          0.11382070183753967,
          0.22762274742126465,
          0.3455697000026703
         ]
        },
        {
         "line": {
          "dash": "2px,6px",
          "shape": "spline"
         },
         "marker": {
          "symbol": "star"
         },
         "name": "2",
         "type": "scatter",
         "uid": "e2becd0a-9457-423f-be2a-690bf224076e",
         "x": [
          0.35436081886291504,
          0.33864569664001465,
          0.32230091094970703,
          0.31267356872558594,
          0.324182391166687,
          0.33947286009788513,
          0.35542798042297363
         ],
         "y": [
          -0.3826470971107483,
          -0.24941861629486084,
          -0.12826889753341675,
          -0.0006901025772094727,
          0.12739823758602142,
          0.24778389930725098,
          0.3738376796245575
         ]
        },
        {
         "line": {
          "dash": "2px,6px",
          "shape": "spline"
         },
         "marker": {
          "symbol": "star"
         },
         "name": "3",
         "type": "scatter",
         "uid": "48bde9c6-f428-43d5-9a6f-6e09b829ad8c",
         "x": [
          0.46499139070510864,
          0.4665800929069519,
          0.4618931710720062,
          0.45420190691947937,
          0.4650459587574005,
          0.46591484546661377,
          0.4688989222049713
         ],
         "y": [
          -0.41550225019454956,
          -0.27487146854400635,
          -0.1438542604446411,
          -0.0004354119300842285,
          0.1432182490825653,
          0.2719031572341919,
          0.4102269113063812
         ]
        },
        {
         "line": {
          "dash": "2px,6px",
          "shape": "spline"
         },
         "marker": {
          "symbol": "star"
         },
         "name": "4",
         "type": "scatter",
         "uid": "557dff72-0733-4b09-898d-a6da02777edc",
         "x": [
          0.5832077860832214,
          0.59897381067276,
          0.6048274040222168,
          0.6026246547698975,
          0.6080038547515869,
          0.5972089767456055,
          0.586017370223999
         ],
         "y": [
          -0.42696893215179443,
          -0.2832878828048706,
          -0.14801424741744995,
          0.0004946812987327576,
          0.14718802273273468,
          0.28087109327316284,
          0.4248180389404297
         ]
        },
        {
         "line": {
          "dash": "2px,6px",
          "shape": "spline"
         },
         "marker": {
          "symbol": "star"
         },
         "name": "5",
         "type": "scatter",
         "uid": "e0404673-a02e-4be9-af94-4382a236f8aa",
         "x": [
          0.7259460687637329,
          0.761680006980896,
          0.7817572355270386,
          0.7897789478302002,
          0.7845636606216431,
          0.759515106678009,
          0.7254642248153687
         ],
         "y": [
          -0.4212077260017395,
          -0.28530943393707275,
          -0.1478080153465271,
          0.0009892843663692474,
          0.14589689671993256,
          0.2828861474990845,
          0.4222537875175476
         ]
        },
        {
         "line": {
          "dash": "2px,6px",
          "shape": "spline"
         },
         "marker": {
          "symbol": "star"
         },
         "name": "6",
         "type": "scatter",
         "uid": "e13e8ed1-a011-4594-a662-f2002ea40447",
         "x": [
          0.8153501152992249,
          0.8682395815849304,
          0.8986740112304688,
          0.912468671798706,
          0.9005125761032104,
          0.8662170767784119,
          0.8138426542282104
         ],
         "y": [
          -0.404344379901886,
          -0.2830590009689331,
          -0.14640039205551147,
          0.0007898658514022827,
          0.14369507133960724,
          0.2802765965461731,
          0.4066302180290222
         ]
        },
        {
         "line": {
          "dash": "2px,6px",
          "shape": "spline"
         },
         "marker": {
          "symbol": "star"
         },
         "name": "7",
         "type": "scatter",
         "uid": "a928c203-501b-4576-9a3b-c90bec449bd6",
         "x": [
          0.9168204069137573,
          0.9941883683204651,
          1.0368316173553467,
          1.0532974004745483,
          1.0361542701721191,
          0.9923390746116638,
          0.9173595905303955
         ],
         "y": [
          -0.36307430267333984,
          -0.27123457193374634,
          -0.14076316356658936,
          0.0003099963068962097,
          0.13723279535770416,
          0.2675350308418274,
          0.3650050163269043
         ]
        },
        {
         "line": {
          "dash": "2px,6px",
          "shape": "spline"
         },
         "marker": {
          "symbol": "star"
         },
         "name": "8",
         "type": "scatter",
         "uid": "a5309833-e359-4f9f-a385-93e298a8fac4",
         "x": [
          0.15865889191627502,
          0.14505314826965332,
          0.13988591730594635,
          0.13619545102119446,
          0.13933826982975006,
          0.14546450972557068,
          0.15997686982154846
         ],
         "y": [
          -0.07890075445175171,
          -0.04613298177719116,
          -0.021096408367156982,
          0.00016465410590171814,
          0.021085619926452637,
          0.04788950830698013,
          0.07686330378055573
         ]
        },
        {
         "line": {
          "shape": "spline"
         },
         "name": "9",
         "type": "scatter",
         "uid": "92b40b1b-ecc8-4c7c-8661-cf65176da3ef",
         "x": [
          0.27829888463020325,
          0.2566096782684326,
          0.24726562201976776,
          0.24280622601509094,
          0.24775415658950806,
          0.2568301856517792,
          0.2779749035835266
         ],
         "y": [
          -0.11058253049850464,
          -0.06502491235733032,
          -0.031173229217529297,
          0.00012182444334030151,
          0.030845001339912415,
          0.07013676315546036,
          0.10665342211723328
         ]
        },
        {
         "line": {
          "shape": "spline"
         },
         "name": "10",
         "type": "scatter",
         "uid": "6b5f4b0f-ba6a-476f-81b6-afbbea5134a2",
         "x": [
          0.37250733375549316,
          0.3482319414615631,
          0.33664804697036743,
          0.33180150389671326,
          0.33813315629959106,
          0.3478579521179199,
          0.37088876962661743
         ],
         "y": [
          -0.13279402256011963,
          -0.0783047080039978,
          -0.03862965106964111,
          6.540119647979736e-05,
          0.038193464279174805,
          0.08626126497983932,
          0.12810541689395905
         ]
        },
        {
         "line": {
          "shape": "spline"
         },
         "name": "11",
         "type": "scatter",
         "uid": "7fef4648-ff5d-4578-878a-9710a9967b9c",
         "x": [
          0.5098984241485596,
          0.49081355333328247,
          0.48413723707199097,
          0.478650838136673,
          0.48383569717407227,
          0.49184441566467285,
          0.5089821219444275
         ],
         "y": [
          -0.15404468774795532,
          -0.0920952558517456,
          -0.04602938890457153,
          0.00015052780508995056,
          0.04606398940086365,
          0.1013057604432106,
          0.1507592648267746
         ]
        },
        {
         "line": {
          "shape": "spline"
         },
         "name": "12",
         "type": "scatter",
         "uid": "d69e744e-5f35-4353-87df-635d842dec3d",
         "x": [
          0.6358633041381836,
          0.627550482749939,
          0.627785325050354,
          0.624093770980835,
          0.6265724897384644,
          0.6292425394058228,
          0.6353287696838379
         ],
         "y": [
          -0.16031628847122192,
          -0.09777075052261353,
          -0.04953724145889282,
          0.0001914575695991516,
          0.049711257219314575,
          0.1066148653626442,
          0.1581072360277176
         ]
        },
        {
         "line": {
          "shape": "spline"
         },
         "name": "13",
         "type": "scatter",
         "uid": "cc8319d6-faa8-4099-a99c-ba782595640e",
         "x": [
          0.7752179503440857,
          0.784130871295929,
          0.7930135130882263,
          0.7949216365814209,
          0.7925723791122437,
          0.78509122133255,
          0.7745575308799744
         ],
         "y": [
          -0.15108919143676758,
          -0.09642046689987183,
          -0.0494576096534729,
          0.0001788884401321411,
          0.04873262345790863,
          0.10298485308885574,
          0.149221733212471
         ]
        },
        {
         "line": {
          "shape": "spline"
         },
         "name": "14",
         "type": "scatter",
         "uid": "1d7f0b3b-be43-46ad-8e23-12c9892a901d",
         "x": [
          0.8588841557502747,
          0.8799923658370972,
          0.8950923085212708,
          0.9017676115036011,
          0.8952847719192505,
          0.8804001808166504,
          0.8584288954734802
         ],
         "y": [
          -0.13775020837783813,
          -0.0924539566040039,
          -0.04729241132736206,
          0.00018906593322753906,
          0.04547913372516632,
          0.09624756127595901,
          0.1364077478647232
         ]
        },
        {
         "line": {
          "shape": "spline"
         },
         "name": "15",
         "type": "scatter",
         "uid": "02774b8f-8f2c-4f44-b15d-4211c6fc5746",
         "x": [
          0.9584236145019531,
          0.9950174689292908,
          1.0184755325317383,
          1.0316171646118164,
          1.019176959991455,
          0.9949823021888733,
          0.9586173295974731
         ],
         "y": [
          -0.11538064479827881,
          -0.08536583185195923,
          -0.0429036021232605,
          0.0002434961497783661,
          0.03945162892341614,
          0.08461058884859085,
          0.11562825739383698
         ]
        }
       ],
       "layout": {
        "height": 800,
        "hovermode": "closest",
        "title": {
         "text": "Compare template models xy top view"
        },
        "width": 800,
        "xaxis": {
         "range": [
          0,
          1.2
         ],
         "title": {
          "text": "X"
         }
        },
        "yaxis": {
         "range": [
          -0.8,
          0.8
         ],
         "title": {
          "text": "Y"
         }
        }
       }
      },
      "text/html": [
       "<div id=\"2a247162-29c4-4043-91ec-f02f60794b78\" style=\"height: 800px; width: 800px;\" class=\"plotly-graph-div\"></div><script type=\"text/javascript\">require([\"plotly\"], function(Plotly) { window.PLOTLYENV=window.PLOTLYENV || {};window.PLOTLYENV.BASE_URL=\"https://plot.ly\";Plotly.newPlot(\"2a247162-29c4-4043-91ec-f02f60794b78\", [{\"line\": {\"dash\": \"2px,6px\", \"shape\": \"spline\"}, \"marker\": {\"symbol\": \"star\"}, \"name\": \"0\", \"x\": [0.22860866785049438, 0.18639975786209106, 0.1535346955060959, 0.14142021536827087, 0.1536877155303955, 0.18815088272094727, 0.22711315751075745], \"y\": [-0.3117305636405945, -0.1903020143508911, -0.0920611023902893, 0.00014602020382881165, 0.09031595289707184, 0.19236499071121216, 0.29892900586128235], \"type\": \"scatter\", \"uid\": \"b9dd454a-7b24-4e36-aca6-97a7d52e574c\"}, {\"line\": {\"dash\": \"2px,6px\", \"shape\": \"spline\"}, \"marker\": {\"symbol\": \"star\"}, \"name\": \"1\", \"x\": [0.2965802550315857, 0.26958703994750977, 0.24614383280277252, 0.2361784726381302, 0.24711009860038757, 0.2711348235607147, 0.29530587792396545], \"y\": [-0.35637450218200684, -0.22796976566314697, -0.11491543054580688, -0.0004870891571044922, 0.11382070183753967, 0.22762274742126465, 0.3455697000026703], \"type\": \"scatter\", \"uid\": \"bb1e1c7a-f2fc-4039-bca0-4b8770089337\"}, {\"line\": {\"dash\": \"2px,6px\", \"shape\": \"spline\"}, \"marker\": {\"symbol\": \"star\"}, \"name\": \"2\", \"x\": [0.35436081886291504, 0.33864569664001465, 0.32230091094970703, 0.31267356872558594, 0.324182391166687, 0.33947286009788513, 0.35542798042297363], \"y\": [-0.3826470971107483, -0.24941861629486084, -0.12826889753341675, -0.0006901025772094727, 0.12739823758602142, 0.24778389930725098, 0.3738376796245575], \"type\": \"scatter\", \"uid\": \"e2becd0a-9457-423f-be2a-690bf224076e\"}, {\"line\": {\"dash\": \"2px,6px\", \"shape\": \"spline\"}, \"marker\": {\"symbol\": \"star\"}, \"name\": \"3\", \"x\": [0.46499139070510864, 0.4665800929069519, 0.4618931710720062, 0.45420190691947937, 0.4650459587574005, 0.46591484546661377, 0.4688989222049713], \"y\": [-0.41550225019454956, -0.27487146854400635, -0.1438542604446411, -0.0004354119300842285, 0.1432182490825653, 0.2719031572341919, 0.4102269113063812], \"type\": \"scatter\", \"uid\": \"48bde9c6-f428-43d5-9a6f-6e09b829ad8c\"}, {\"line\": {\"dash\": \"2px,6px\", \"shape\": \"spline\"}, \"marker\": {\"symbol\": \"star\"}, \"name\": \"4\", \"x\": [0.5832077860832214, 0.59897381067276, 0.6048274040222168, 0.6026246547698975, 0.6080038547515869, 0.5972089767456055, 0.586017370223999], \"y\": [-0.42696893215179443, -0.2832878828048706, -0.14801424741744995, 0.0004946812987327576, 0.14718802273273468, 0.28087109327316284, 0.4248180389404297], \"type\": \"scatter\", \"uid\": \"557dff72-0733-4b09-898d-a6da02777edc\"}, {\"line\": {\"dash\": \"2px,6px\", \"shape\": \"spline\"}, \"marker\": {\"symbol\": \"star\"}, \"name\": \"5\", \"x\": [0.7259460687637329, 0.761680006980896, 0.7817572355270386, 0.7897789478302002, 0.7845636606216431, 0.759515106678009, 0.7254642248153687], \"y\": [-0.4212077260017395, -0.28530943393707275, -0.1478080153465271, 0.0009892843663692474, 0.14589689671993256, 0.2828861474990845, 0.4222537875175476], \"type\": \"scatter\", \"uid\": \"e0404673-a02e-4be9-af94-4382a236f8aa\"}, {\"line\": {\"dash\": \"2px,6px\", \"shape\": \"spline\"}, \"marker\": {\"symbol\": \"star\"}, \"name\": \"6\", \"x\": [0.8153501152992249, 0.8682395815849304, 0.8986740112304688, 0.912468671798706, 0.9005125761032104, 0.8662170767784119, 0.8138426542282104], \"y\": [-0.404344379901886, -0.2830590009689331, -0.14640039205551147, 0.0007898658514022827, 0.14369507133960724, 0.2802765965461731, 0.4066302180290222], \"type\": \"scatter\", \"uid\": \"e13e8ed1-a011-4594-a662-f2002ea40447\"}, {\"line\": {\"dash\": \"2px,6px\", \"shape\": \"spline\"}, \"marker\": {\"symbol\": \"star\"}, \"name\": \"7\", \"x\": [0.9168204069137573, 0.9941883683204651, 1.0368316173553467, 1.0532974004745483, 1.0361542701721191, 0.9923390746116638, 0.9173595905303955], \"y\": [-0.36307430267333984, -0.27123457193374634, -0.14076316356658936, 0.0003099963068962097, 0.13723279535770416, 0.2675350308418274, 0.3650050163269043], \"type\": \"scatter\", \"uid\": \"a928c203-501b-4576-9a3b-c90bec449bd6\"}, {\"line\": {\"dash\": \"2px,6px\", \"shape\": \"spline\"}, \"marker\": {\"symbol\": \"star\"}, \"name\": \"8\", \"x\": [0.15865889191627502, 0.14505314826965332, 0.13988591730594635, 0.13619545102119446, 0.13933826982975006, 0.14546450972557068, 0.15997686982154846], \"y\": [-0.07890075445175171, -0.04613298177719116, -0.021096408367156982, 0.00016465410590171814, 0.021085619926452637, 0.04788950830698013, 0.07686330378055573], \"type\": \"scatter\", \"uid\": \"a5309833-e359-4f9f-a385-93e298a8fac4\"}, {\"line\": {\"shape\": \"spline\"}, \"name\": \"9\", \"x\": [0.27829888463020325, 0.2566096782684326, 0.24726562201976776, 0.24280622601509094, 0.24775415658950806, 0.2568301856517792, 0.2779749035835266], \"y\": [-0.11058253049850464, -0.06502491235733032, -0.031173229217529297, 0.00012182444334030151, 0.030845001339912415, 0.07013676315546036, 0.10665342211723328], \"type\": \"scatter\", \"uid\": \"92b40b1b-ecc8-4c7c-8661-cf65176da3ef\"}, {\"line\": {\"shape\": \"spline\"}, \"name\": \"10\", \"x\": [0.37250733375549316, 0.3482319414615631, 0.33664804697036743, 0.33180150389671326, 0.33813315629959106, 0.3478579521179199, 0.37088876962661743], \"y\": [-0.13279402256011963, -0.0783047080039978, -0.03862965106964111, 6.540119647979736e-05, 0.038193464279174805, 0.08626126497983932, 0.12810541689395905], \"type\": \"scatter\", \"uid\": \"6b5f4b0f-ba6a-476f-81b6-afbbea5134a2\"}, {\"line\": {\"shape\": \"spline\"}, \"name\": \"11\", \"x\": [0.5098984241485596, 0.49081355333328247, 0.48413723707199097, 0.478650838136673, 0.48383569717407227, 0.49184441566467285, 0.5089821219444275], \"y\": [-0.15404468774795532, -0.0920952558517456, -0.04602938890457153, 0.00015052780508995056, 0.04606398940086365, 0.1013057604432106, 0.1507592648267746], \"type\": \"scatter\", \"uid\": \"7fef4648-ff5d-4578-878a-9710a9967b9c\"}, {\"line\": {\"shape\": \"spline\"}, \"name\": \"12\", \"x\": [0.6358633041381836, 0.627550482749939, 0.627785325050354, 0.624093770980835, 0.6265724897384644, 0.6292425394058228, 0.6353287696838379], \"y\": [-0.16031628847122192, -0.09777075052261353, -0.04953724145889282, 0.0001914575695991516, 0.049711257219314575, 0.1066148653626442, 0.1581072360277176], \"type\": \"scatter\", \"uid\": \"d69e744e-5f35-4353-87df-635d842dec3d\"}, {\"line\": {\"shape\": \"spline\"}, \"name\": \"13\", \"x\": [0.7752179503440857, 0.784130871295929, 0.7930135130882263, 0.7949216365814209, 0.7925723791122437, 0.78509122133255, 0.7745575308799744], \"y\": [-0.15108919143676758, -0.09642046689987183, -0.0494576096534729, 0.0001788884401321411, 0.04873262345790863, 0.10298485308885574, 0.149221733212471], \"type\": \"scatter\", \"uid\": \"cc8319d6-faa8-4099-a99c-ba782595640e\"}, {\"line\": {\"shape\": \"spline\"}, \"name\": \"14\", \"x\": [0.8588841557502747, 0.8799923658370972, 0.8950923085212708, 0.9017676115036011, 0.8952847719192505, 0.8804001808166504, 0.8584288954734802], \"y\": [-0.13775020837783813, -0.0924539566040039, -0.04729241132736206, 0.00018906593322753906, 0.04547913372516632, 0.09624756127595901, 0.1364077478647232], \"type\": \"scatter\", \"uid\": \"1d7f0b3b-be43-46ad-8e23-12c9892a901d\"}, {\"line\": {\"shape\": \"spline\"}, \"name\": \"15\", \"x\": [0.9584236145019531, 0.9950174689292908, 1.0184755325317383, 1.0316171646118164, 1.019176959991455, 0.9949823021888733, 0.9586173295974731], \"y\": [-0.11538064479827881, -0.08536583185195923, -0.0429036021232605, 0.0002434961497783661, 0.03945162892341614, 0.08461058884859085, 0.11562825739383698], \"type\": \"scatter\", \"uid\": \"02774b8f-8f2c-4f44-b15d-4211c6fc5746\"}], {\"height\": 800, \"hovermode\": \"closest\", \"title\": {\"text\": \"Compare template models xy top view\"}, \"width\": 800, \"xaxis\": {\"range\": [-0.0, 1.2], \"title\": {\"text\": \"X\"}}, \"yaxis\": {\"range\": [-0.8, 0.8], \"title\": {\"text\": \"Y\"}}}, {\"showLink\": false, \"linkText\": \"Export to plot.ly\", \"plotlyServerURL\": \"https://plot.ly\"})});</script>"
      ],
      "text/vnd.plotly.v1+html": [
       "<div id=\"2a247162-29c4-4043-91ec-f02f60794b78\" style=\"height: 800px; width: 800px;\" class=\"plotly-graph-div\"></div><script type=\"text/javascript\">require([\"plotly\"], function(Plotly) { window.PLOTLYENV=window.PLOTLYENV || {};window.PLOTLYENV.BASE_URL=\"https://plot.ly\";Plotly.newPlot(\"2a247162-29c4-4043-91ec-f02f60794b78\", [{\"line\": {\"dash\": \"2px,6px\", \"shape\": \"spline\"}, \"marker\": {\"symbol\": \"star\"}, \"name\": \"0\", \"x\": [0.22860866785049438, 0.18639975786209106, 0.1535346955060959, 0.14142021536827087, 0.1536877155303955, 0.18815088272094727, 0.22711315751075745], \"y\": [-0.3117305636405945, -0.1903020143508911, -0.0920611023902893, 0.00014602020382881165, 0.09031595289707184, 0.19236499071121216, 0.29892900586128235], \"type\": \"scatter\", \"uid\": \"b9dd454a-7b24-4e36-aca6-97a7d52e574c\"}, {\"line\": {\"dash\": \"2px,6px\", \"shape\": \"spline\"}, \"marker\": {\"symbol\": \"star\"}, \"name\": \"1\", \"x\": [0.2965802550315857, 0.26958703994750977, 0.24614383280277252, 0.2361784726381302, 0.24711009860038757, 0.2711348235607147, 0.29530587792396545], \"y\": [-0.35637450218200684, -0.22796976566314697, -0.11491543054580688, -0.0004870891571044922, 0.11382070183753967, 0.22762274742126465, 0.3455697000026703], \"type\": \"scatter\", \"uid\": \"bb1e1c7a-f2fc-4039-bca0-4b8770089337\"}, {\"line\": {\"dash\": \"2px,6px\", \"shape\": \"spline\"}, \"marker\": {\"symbol\": \"star\"}, \"name\": \"2\", \"x\": [0.35436081886291504, 0.33864569664001465, 0.32230091094970703, 0.31267356872558594, 0.324182391166687, 0.33947286009788513, 0.35542798042297363], \"y\": [-0.3826470971107483, -0.24941861629486084, -0.12826889753341675, -0.0006901025772094727, 0.12739823758602142, 0.24778389930725098, 0.3738376796245575], \"type\": \"scatter\", \"uid\": \"e2becd0a-9457-423f-be2a-690bf224076e\"}, {\"line\": {\"dash\": \"2px,6px\", \"shape\": \"spline\"}, \"marker\": {\"symbol\": \"star\"}, \"name\": \"3\", \"x\": [0.46499139070510864, 0.4665800929069519, 0.4618931710720062, 0.45420190691947937, 0.4650459587574005, 0.46591484546661377, 0.4688989222049713], \"y\": [-0.41550225019454956, -0.27487146854400635, -0.1438542604446411, -0.0004354119300842285, 0.1432182490825653, 0.2719031572341919, 0.4102269113063812], \"type\": \"scatter\", \"uid\": \"48bde9c6-f428-43d5-9a6f-6e09b829ad8c\"}, {\"line\": {\"dash\": \"2px,6px\", \"shape\": \"spline\"}, \"marker\": {\"symbol\": \"star\"}, \"name\": \"4\", \"x\": [0.5832077860832214, 0.59897381067276, 0.6048274040222168, 0.6026246547698975, 0.6080038547515869, 0.5972089767456055, 0.586017370223999], \"y\": [-0.42696893215179443, -0.2832878828048706, -0.14801424741744995, 0.0004946812987327576, 0.14718802273273468, 0.28087109327316284, 0.4248180389404297], \"type\": \"scatter\", \"uid\": \"557dff72-0733-4b09-898d-a6da02777edc\"}, {\"line\": {\"dash\": \"2px,6px\", \"shape\": \"spline\"}, \"marker\": {\"symbol\": \"star\"}, \"name\": \"5\", \"x\": [0.7259460687637329, 0.761680006980896, 0.7817572355270386, 0.7897789478302002, 0.7845636606216431, 0.759515106678009, 0.7254642248153687], \"y\": [-0.4212077260017395, -0.28530943393707275, -0.1478080153465271, 0.0009892843663692474, 0.14589689671993256, 0.2828861474990845, 0.4222537875175476], \"type\": \"scatter\", \"uid\": \"e0404673-a02e-4be9-af94-4382a236f8aa\"}, {\"line\": {\"dash\": \"2px,6px\", \"shape\": \"spline\"}, \"marker\": {\"symbol\": \"star\"}, \"name\": \"6\", \"x\": [0.8153501152992249, 0.8682395815849304, 0.8986740112304688, 0.912468671798706, 0.9005125761032104, 0.8662170767784119, 0.8138426542282104], \"y\": [-0.404344379901886, -0.2830590009689331, -0.14640039205551147, 0.0007898658514022827, 0.14369507133960724, 0.2802765965461731, 0.4066302180290222], \"type\": \"scatter\", \"uid\": \"e13e8ed1-a011-4594-a662-f2002ea40447\"}, {\"line\": {\"dash\": \"2px,6px\", \"shape\": \"spline\"}, \"marker\": {\"symbol\": \"star\"}, \"name\": \"7\", \"x\": [0.9168204069137573, 0.9941883683204651, 1.0368316173553467, 1.0532974004745483, 1.0361542701721191, 0.9923390746116638, 0.9173595905303955], \"y\": [-0.36307430267333984, -0.27123457193374634, -0.14076316356658936, 0.0003099963068962097, 0.13723279535770416, 0.2675350308418274, 0.3650050163269043], \"type\": \"scatter\", \"uid\": \"a928c203-501b-4576-9a3b-c90bec449bd6\"}, {\"line\": {\"dash\": \"2px,6px\", \"shape\": \"spline\"}, \"marker\": {\"symbol\": \"star\"}, \"name\": \"8\", \"x\": [0.15865889191627502, 0.14505314826965332, 0.13988591730594635, 0.13619545102119446, 0.13933826982975006, 0.14546450972557068, 0.15997686982154846], \"y\": [-0.07890075445175171, -0.04613298177719116, -0.021096408367156982, 0.00016465410590171814, 0.021085619926452637, 0.04788950830698013, 0.07686330378055573], \"type\": \"scatter\", \"uid\": \"a5309833-e359-4f9f-a385-93e298a8fac4\"}, {\"line\": {\"shape\": \"spline\"}, \"name\": \"9\", \"x\": [0.27829888463020325, 0.2566096782684326, 0.24726562201976776, 0.24280622601509094, 0.24775415658950806, 0.2568301856517792, 0.2779749035835266], \"y\": [-0.11058253049850464, -0.06502491235733032, -0.031173229217529297, 0.00012182444334030151, 0.030845001339912415, 0.07013676315546036, 0.10665342211723328], \"type\": \"scatter\", \"uid\": \"92b40b1b-ecc8-4c7c-8661-cf65176da3ef\"}, {\"line\": {\"shape\": \"spline\"}, \"name\": \"10\", \"x\": [0.37250733375549316, 0.3482319414615631, 0.33664804697036743, 0.33180150389671326, 0.33813315629959106, 0.3478579521179199, 0.37088876962661743], \"y\": [-0.13279402256011963, -0.0783047080039978, -0.03862965106964111, 6.540119647979736e-05, 0.038193464279174805, 0.08626126497983932, 0.12810541689395905], \"type\": \"scatter\", \"uid\": \"6b5f4b0f-ba6a-476f-81b6-afbbea5134a2\"}, {\"line\": {\"shape\": \"spline\"}, \"name\": \"11\", \"x\": [0.5098984241485596, 0.49081355333328247, 0.48413723707199097, 0.478650838136673, 0.48383569717407227, 0.49184441566467285, 0.5089821219444275], \"y\": [-0.15404468774795532, -0.0920952558517456, -0.04602938890457153, 0.00015052780508995056, 0.04606398940086365, 0.1013057604432106, 0.1507592648267746], \"type\": \"scatter\", \"uid\": \"7fef4648-ff5d-4578-878a-9710a9967b9c\"}, {\"line\": {\"shape\": \"spline\"}, \"name\": \"12\", \"x\": [0.6358633041381836, 0.627550482749939, 0.627785325050354, 0.624093770980835, 0.6265724897384644, 0.6292425394058228, 0.6353287696838379], \"y\": [-0.16031628847122192, -0.09777075052261353, -0.04953724145889282, 0.0001914575695991516, 0.049711257219314575, 0.1066148653626442, 0.1581072360277176], \"type\": \"scatter\", \"uid\": \"d69e744e-5f35-4353-87df-635d842dec3d\"}, {\"line\": {\"shape\": \"spline\"}, \"name\": \"13\", \"x\": [0.7752179503440857, 0.784130871295929, 0.7930135130882263, 0.7949216365814209, 0.7925723791122437, 0.78509122133255, 0.7745575308799744], \"y\": [-0.15108919143676758, -0.09642046689987183, -0.0494576096534729, 0.0001788884401321411, 0.04873262345790863, 0.10298485308885574, 0.149221733212471], \"type\": \"scatter\", \"uid\": \"cc8319d6-faa8-4099-a99c-ba782595640e\"}, {\"line\": {\"shape\": \"spline\"}, \"name\": \"14\", \"x\": [0.8588841557502747, 0.8799923658370972, 0.8950923085212708, 0.9017676115036011, 0.8952847719192505, 0.8804001808166504, 0.8584288954734802], \"y\": [-0.13775020837783813, -0.0924539566040039, -0.04729241132736206, 0.00018906593322753906, 0.04547913372516632, 0.09624756127595901, 0.1364077478647232], \"type\": \"scatter\", \"uid\": \"1d7f0b3b-be43-46ad-8e23-12c9892a901d\"}, {\"line\": {\"shape\": \"spline\"}, \"name\": \"15\", \"x\": [0.9584236145019531, 0.9950174689292908, 1.0184755325317383, 1.0316171646118164, 1.019176959991455, 0.9949823021888733, 0.9586173295974731], \"y\": [-0.11538064479827881, -0.08536583185195923, -0.0429036021232605, 0.0002434961497783661, 0.03945162892341614, 0.08461058884859085, 0.11562825739383698], \"type\": \"scatter\", \"uid\": \"02774b8f-8f2c-4f44-b15d-4211c6fc5746\"}], {\"height\": 800, \"hovermode\": \"closest\", \"title\": {\"text\": \"Compare template models xy top view\"}, \"width\": 800, \"xaxis\": {\"range\": [-0.0, 1.2], \"title\": {\"text\": \"X\"}}, \"yaxis\": {\"range\": [-0.8, 0.8], \"title\": {\"text\": \"Y\"}}}, {\"showLink\": false, \"linkText\": \"Export to plot.ly\", \"plotlyServerURL\": \"https://plot.ly\"})});</script>"
      ]
     },
     "metadata": {},
     "output_type": "display_data"
    }
   ],
   "source": [
    "nx1 = np.concatenate((pht0Petal, pht1Petal, ))\n",
    "gx = gy.FormatNetworkToGraphColumns(nx1, xOffset=0, yOffset=7, colPoints=7)\n",
    "\n",
    "layout = go.Layout(\n",
    "    title = 'Initial Curves',\n",
    "    height = 800,\n",
    "    width = 800,\n",
    "    hovermode= 'closest',\n",
    "    xaxis= dict(\n",
    "        title= 'X',\n",
    "        range = [-.0,1.2],\n",
    "    ),\n",
    "    yaxis=dict(\n",
    "        title= 'Y',\n",
    "        range = [-.8,.8],\n",
    "    )\n",
    ")\n",
    "layout.title = 'Compare template models xy top view'\n",
    "f = gy.graphCurves(gx, layout, dashRange=range(0,9))\n",
    "offline.iplot(f)\n",
    "\n",
    "# if not os.path.exists('images'):\n",
    "#     os.mkdir('images')\n",
    "# pio.write_image(f, './images/fig2a.png')"
   ]
  },
  {
   "cell_type": "code",
   "execution_count": 28,
   "metadata": {},
   "outputs": [
    {
     "data": {
      "application/vnd.plotly.v1+json": {
       "config": {
        "linkText": "Export to plot.ly",
        "plotlyServerURL": "https://plot.ly",
        "showLink": false
       },
       "data": [
        {
         "line": {
          "dash": "2px,6px",
          "shape": "spline"
         },
         "marker": {
          "symbol": "star"
         },
         "name": "0",
         "type": "scatter",
         "uid": "f482dd60-8323-4c8a-9ec5-379ae89d0c08",
         "x": [
          -0.3117305636405945,
          -0.1903020143508911,
          -0.0920611023902893,
          0.00014602020382881165,
          0.09031595289707184,
          0.19236499071121216,
          0.29892900586128235
         ],
         "y": [
          -0.006640434265136719,
          -0.015415608882904053,
          -0.027199745178222656,
          -0.0310671329498291,
          -0.02461487054824829,
          -0.017494559288024902,
          -0.005191802978515625
         ]
        },
        {
         "line": {
          "dash": "2px,6px",
          "shape": "spline"
         },
         "marker": {
          "symbol": "star"
         },
         "name": "1",
         "type": "scatter",
         "uid": "092aa601-9e24-4080-a5d4-c005ff71d633",
         "x": [
          -0.35637450218200684,
          -0.22796976566314697,
          -0.11491543054580688,
          -0.0004870891571044922,
          0.11382070183753967,
          0.22762274742126465,
          0.3455697000026703
         ],
         "y": [
          -0.014294028282165527,
          -0.030918240547180176,
          -0.0495072603225708,
          -0.0609203577041626,
          -0.050047099590301514,
          -0.031895220279693604,
          -0.013845562934875488
         ]
        },
        {
         "line": {
          "dash": "2px,6px",
          "shape": "spline"
         },
         "marker": {
          "symbol": "star"
         },
         "name": "2",
         "type": "scatter",
         "uid": "120b09ec-fe0a-4578-a0b4-368b47feca81",
         "x": [
          -0.3826470971107483,
          -0.24941861629486084,
          -0.12826889753341675,
          -0.0006901025772094727,
          0.12739823758602142,
          0.24778389930725098,
          0.3738376796245575
         ],
         "y": [
          -0.016077816486358643,
          -0.038394927978515625,
          -0.061518967151641846,
          -0.07784789800643921,
          -0.06337755918502808,
          -0.038301289081573486,
          -0.016001641750335693
         ]
        },
        {
         "line": {
          "dash": "2px,6px",
          "shape": "spline"
         },
         "marker": {
          "symbol": "star"
         },
         "name": "3",
         "type": "scatter",
         "uid": "f1dcabef-babc-4790-a9ae-941aa76ef7c6",
         "x": [
          -0.41550225019454956,
          -0.27487146854400635,
          -0.1438542604446411,
          -0.0004354119300842285,
          0.1432182490825653,
          0.2719031572341919,
          0.4102269113063812
         ],
         "y": [
          -0.015164792537689209,
          -0.047381579875946045,
          -0.07662421464920044,
          -0.0978555679321289,
          -0.07882833480834961,
          -0.04633837938308716,
          -0.014755845069885254
         ]
        },
        {
         "line": {
          "dash": "2px,6px",
          "shape": "spline"
         },
         "marker": {
          "symbol": "star"
         },
         "name": "4",
         "type": "scatter",
         "uid": "3d12067b-c97b-4346-a46a-4621570dc2ae",
         "x": [
          -0.42696893215179443,
          -0.2832878828048706,
          -0.14801424741744995,
          0.0004946812987327576,
          0.14718802273273468,
          0.28087109327316284,
          0.4248180389404297
         ],
         "y": [
          -0.0014888644218444824,
          -0.039254724979400635,
          -0.0698091983795166,
          -0.0893217921257019,
          -0.0700574517250061,
          -0.03914344310760498,
          -0.00017493963241577148
         ]
        },
        {
         "line": {
          "dash": "2px,6px",
          "shape": "spline"
         },
         "marker": {
          "symbol": "star"
         },
         "name": "5",
         "type": "scatter",
         "uid": "67aaade0-d6b3-4855-a741-5edd8f603569",
         "x": [
          -0.4212077260017395,
          -0.28530943393707275,
          -0.1478080153465271,
          0.0009892843663692474,
          0.14589689671993256,
          0.2828861474990845,
          0.4222537875175476
         ],
         "y": [
          0.006909787654876709,
          -0.027641117572784424,
          -0.053297221660614014,
          -0.06813573837280273,
          -0.05312490463256836,
          -0.028777599334716797,
          0.0072002410888671875
         ]
        },
        {
         "line": {
          "dash": "2px,6px",
          "shape": "spline"
         },
         "marker": {
          "symbol": "star"
         },
         "name": "6",
         "type": "scatter",
         "uid": "6c9a2276-3a97-4e24-8060-974ae4f7c30b",
         "x": [
          -0.404344379901886,
          -0.2830590009689331,
          -0.14640039205551147,
          0.0007898658514022827,
          0.14369507133960724,
          0.2802765965461731,
          0.4066302180290222
         ],
         "y": [
          0.006061121821403503,
          -0.018193542957305908,
          -0.03596627712249756,
          -0.0471230149269104,
          -0.03761082887649536,
          -0.019816339015960693,
          0.0029304921627044678
         ]
        },
        {
         "line": {
          "dash": "2px,6px",
          "shape": "spline"
         },
         "marker": {
          "symbol": "star"
         },
         "name": "7",
         "type": "scatter",
         "uid": "44ccb356-12b9-41c4-ae67-ab49bad9c79a",
         "x": [
          -0.36307430267333984,
          -0.27123457193374634,
          -0.14076316356658936,
          0.0003099963068962097,
          0.13723279535770416,
          0.2675350308418274,
          0.3650050163269043
         ],
         "y": [
          0.01064331829547882,
          0.008655707351863384,
          0.006389547139406204,
          0.0010366812348365784,
          0.0009617023169994354,
          0.006705986335873604,
          -5.7756900787353516e-05
         ]
        },
        {
         "line": {
          "dash": "2px,6px",
          "shape": "spline"
         },
         "marker": {
          "symbol": "star"
         },
         "name": "8",
         "type": "scatter",
         "uid": "4d7a15f0-c762-4ae1-873b-93dfe7868ecf",
         "x": [
          -0.07890075445175171,
          -0.04613298177719116,
          -0.021096408367156982,
          0.00016465410590171814,
          0.021085619926452637,
          0.04788950830698013,
          0.07686330378055573
         ],
         "y": [
          -0.016909122467041016,
          -0.027850687503814697,
          -0.03504115343093872,
          -0.03755718469619751,
          -0.034286320209503174,
          -0.026688992977142334,
          -0.017120063304901123
         ]
        },
        {
         "line": {
          "dash": "2px,6px",
          "shape": "spline"
         },
         "marker": {
          "symbol": "star"
         },
         "name": "9",
         "type": "scatter",
         "uid": "91dd3a10-dcb4-463a-85c0-e5836a4d5f3d",
         "x": [
          -0.11058253049850464,
          -0.06502491235733032,
          -0.031173229217529297,
          0.00012182444334030151,
          0.030845001339912415,
          0.07013676315546036,
          0.10665342211723328
         ],
         "y": [
          -0.02741837501525879,
          -0.046506643295288086,
          -0.058561086654663086,
          -0.062390148639678955,
          -0.057933926582336426,
          -0.04622292518615723,
          -0.027858972549438477
         ]
        },
        {
         "line": {
          "dash": "2px,6px",
          "shape": "spline"
         },
         "marker": {
          "symbol": "star"
         },
         "name": "10",
         "type": "scatter",
         "uid": "c450ea8f-d1b7-4771-bff7-9606a8190f23",
         "x": [
          -0.13279402256011963,
          -0.0783047080039978,
          -0.03862965106964111,
          6.540119647979736e-05,
          0.038193464279174805,
          0.08626126497983932,
          0.12810541689395905
         ],
         "y": [
          -0.03806757926940918,
          -0.06482529640197754,
          -0.08035486936569214,
          -0.08577471971511841,
          -0.08036667108535767,
          -0.06502699851989746,
          -0.0383601188659668
         ]
        },
        {
         "line": {
          "dash": "2px,6px",
          "shape": "spline"
         },
         "marker": {
          "symbol": "star"
         },
         "name": "11",
         "type": "scatter",
         "uid": "3fa73693-2341-4996-b746-4cf7bd8a5f8c",
         "x": [
          -0.15404468774795532,
          -0.0920952558517456,
          -0.04602938890457153,
          0.00015052780508995056,
          0.04606398940086365,
          0.1013057604432106,
          0.1507592648267746
         ],
         "y": [
          -0.05439412593841553,
          -0.09650158882141113,
          -0.11807793378829956,
          -0.12841570377349854,
          -0.11759382486343384,
          -0.09411758184432983,
          -0.05542641878128052
         ]
        },
        {
         "line": {
          "dash": "2px,6px",
          "shape": "spline"
         },
         "marker": {
          "symbol": "star"
         },
         "name": "12",
         "type": "scatter",
         "uid": "a91a859d-e9d3-4b48-b762-fc0c9fb1e062",
         "x": [
          -0.16031628847122192,
          -0.09777075052261353,
          -0.04953724145889282,
          0.0001914575695991516,
          0.049711257219314575,
          0.1066148653626442,
          0.1581072360277176
         ],
         "y": [
          -0.0853610634803772,
          -0.13495749235153198,
          -0.158982515335083,
          -0.1724211573600769,
          -0.1584841012954712,
          -0.13131612539291382,
          -0.08656233549118042
         ]
        },
        {
         "line": {
          "dash": "2px,6px",
          "shape": "spline"
         },
         "marker": {
          "symbol": "star"
         },
         "name": "13",
         "type": "scatter",
         "uid": "9ee256fb-9099-4b2c-a0e5-912b4e974047",
         "x": [
          -0.15108919143676758,
          -0.09642046689987183,
          -0.0494576096534729,
          0.0001788884401321411,
          0.04873262345790863,
          0.10298485308885574,
          0.149221733212471
         ],
         "y": [
          -0.13709139823913574,
          -0.18210166692733765,
          -0.20430952310562134,
          -0.21789252758026123,
          -0.20436257123947144,
          -0.1796899437904358,
          -0.13780075311660767
         ]
        },
        {
         "line": {
          "dash": "2px,6px",
          "shape": "spline"
         },
         "marker": {
          "symbol": "star"
         },
         "name": "14",
         "type": "scatter",
         "uid": "b2b2f0d8-059e-49e6-ba94-8f643d6b422f",
         "x": [
          -0.13775020837783813,
          -0.0924539566040039,
          -0.04729241132736206,
          0.00018906593322753906,
          0.04547913372516632,
          0.09624756127595901,
          0.1364077478647232
         ],
         "y": [
          -0.1712646484375,
          -0.20827460289001465,
          -0.22801971435546875,
          -0.24049264192581177,
          -0.22820329666137695,
          -0.20727699995040894,
          -0.1717650294303894
         ]
        },
        {
         "line": {
          "dash": "2px,6px",
          "shape": "spline"
         },
         "marker": {
          "symbol": "star"
         },
         "name": "15",
         "type": "scatter",
         "uid": "caf9d06f-fbd6-41e0-885b-04e83850a7fe",
         "x": [
          -0.11538064479827881,
          -0.08536583185195923,
          -0.0429036021232605,
          0.0002434961497783661,
          0.03945162892341614,
          0.08461058884859085,
          0.11562825739383698
         ],
         "y": [
          -0.2106398344039917,
          -0.23514145612716675,
          -0.25143539905548096,
          -0.26194173097610474,
          -0.2514238953590393,
          -0.23604345321655273,
          -0.21115988492965698
         ]
        },
        {
         "line": {
          "dash": "2px,6px",
          "shape": "spline"
         },
         "marker": {
          "symbol": "star"
         },
         "name": "16",
         "type": "scatter",
         "uid": "70bf084d-e43e-48e1-b7ce-55065e1090d4",
         "x": [
          -0.054587483406066895,
          -0.02168351411819458,
          -0.008511126041412354,
          0.0007292740046977997,
          0.012341391295194626,
          0.0370233952999115,
          0.06704071909189224
         ],
         "y": [
          -0.03814113140106201,
          -0.06262612342834473,
          -0.07350701093673706,
          -0.0809859037399292,
          -0.07352578639984131,
          -0.0600430965423584,
          -0.03713017702102661
         ]
        },
        {
         "line": {
          "dash": "2px,6px",
          "shape": "spline"
         },
         "marker": {
          "symbol": "star"
         },
         "name": "17",
         "type": "scatter",
         "uid": "e9e68156-b6ed-418f-9ba4-aa0a153508b1",
         "x": [
          -0.11367112398147583,
          -0.06131035089492798,
          -0.02980870008468628,
          0.0003361497074365616,
          0.03188005089759827,
          0.07308681309223175,
          0.1168571263551712
         ],
         "y": [
          -0.04136335849761963,
          -0.07063043117523193,
          -0.08696037530899048,
          -0.09716296195983887,
          -0.08760803937911987,
          -0.06802189350128174,
          -0.04074054956436157
         ]
        },
        {
         "line": {
          "shape": "spline"
         },
         "name": "18",
         "type": "scatter",
         "uid": "d98e703b-918b-4633-8f40-b210b3de6b14",
         "x": [
          -0.16442203521728516,
          -0.09638220071792603,
          -0.048488736152648926,
          0.00015070848166942596,
          0.04951322451233864,
          0.105271115899086,
          0.16217201948165894
         ],
         "y": [
          -0.04630345106124878,
          -0.08029228448867798,
          -0.10105651617050171,
          -0.1137050986289978,
          -0.10211217403411865,
          -0.07784497737884521,
          -0.04604548215866089
         ]
        },
        {
         "line": {
          "shape": "spline"
         },
         "name": "19",
         "type": "scatter",
         "uid": "543af515-b3a8-4d9f-aef5-f62ae3428306",
         "x": [
          -0.2555140256881714,
          -0.16189581155776978,
          -0.08285212516784668,
          0.0002605058252811432,
          0.08294431865215302,
          0.16589145362377167,
          0.25005006790161133
         ],
         "y": [
          -0.05170774459838867,
          -0.09306037425994873,
          -0.1198190450668335,
          -0.13616430759429932,
          -0.12106060981750488,
          -0.0914199948310852,
          -0.052227020263671875
         ]
        },
        {
         "line": {
          "shape": "spline"
         },
         "name": "20",
         "type": "scatter",
         "uid": "429bb39b-947e-40ae-8a9a-55edd2bb4c9b",
         "x": [
          -0.3170139193534851,
          -0.208307147026062,
          -0.10719627141952515,
          0.0006891563534736633,
          0.10696037113666534,
          0.20960722863674164,
          0.3149365186691284
         ],
         "y": [
          -0.05136007070541382,
          -0.09684169292449951,
          -0.12585675716400146,
          -0.1438639760017395,
          -0.12664103507995605,
          -0.09560167789459229,
          -0.05271565914154053
         ]
        },
        {
         "line": {
          "shape": "spline"
         },
         "name": "21",
         "type": "scatter",
         "uid": "bae0e85a-53c1-43ee-b2ea-9fab028b6668",
         "x": [
          -0.3439134955406189,
          -0.23234593868255615,
          -0.11956930160522461,
          0.0010630358010530472,
          0.11902442574501038,
          0.23118363320827484,
          0.34474846720695496
         ],
         "y": [
          -0.05249243974685669,
          -0.0959099531173706,
          -0.12286770343780518,
          -0.14074867963790894,
          -0.1236153244972229,
          -0.09495103359222412,
          -0.05408191680908203
         ]
        },
        {
         "line": {
          "shape": "spline"
         },
         "name": "22",
         "type": "scatter",
         "uid": "e750d8f8-d582-4ca7-b2c6-7002edcce618",
         "x": [
          -0.3440430760383606,
          -0.23601007461547852,
          -0.12120509147644043,
          0.0010806508362293243,
          0.1201571375131607,
          0.23309645056724548,
          0.3450227379798889
         ],
         "y": [
          -0.05646544694900513,
          -0.0951642394065857,
          -0.11918044090270996,
          -0.13581961393356323,
          -0.12025570869445801,
          -0.09472155570983887,
          -0.05833345651626587
         ]
        },
        {
         "line": {
          "shape": "spline"
         },
         "name": "23",
         "type": "scatter",
         "uid": "468798aa-99d9-4d69-9845-dd3f3884c207",
         "x": [
          -0.3402419090270996,
          -0.23779916763305664,
          -0.12193822860717773,
          0.0008437689393758774,
          0.11981220543384552,
          0.2326124906539917,
          0.34119951725006104
         ],
         "y": [
          -0.05935126543045044,
          -0.09026426076889038,
          -0.11026686429977417,
          -0.12450391054153442,
          -0.11203885078430176,
          -0.09101194143295288,
          -0.06226378679275513
         ]
        }
       ],
       "layout": {
        "height": 600,
        "hovermode": "closest",
        "title": {
         "text": "Compare template and exploritory context models yz side view"
        },
        "width": 600,
        "xaxis": {
         "range": [
          -0.5,
          0.5
         ],
         "title": {
          "text": "X"
         }
        },
        "yaxis": {
         "range": [
          -0.2,
          0.5
         ],
         "title": {
          "text": "Y"
         }
        }
       }
      },
      "text/html": [
       "<div id=\"ba4e69fb-86a7-452f-aea8-8e1d093998c5\" style=\"height: 600px; width: 600px;\" class=\"plotly-graph-div\"></div><script type=\"text/javascript\">require([\"plotly\"], function(Plotly) { window.PLOTLYENV=window.PLOTLYENV || {};window.PLOTLYENV.BASE_URL=\"https://plot.ly\";Plotly.newPlot(\"ba4e69fb-86a7-452f-aea8-8e1d093998c5\", [{\"line\": {\"dash\": \"2px,6px\", \"shape\": \"spline\"}, \"marker\": {\"symbol\": \"star\"}, \"name\": \"0\", \"x\": [-0.3117305636405945, -0.1903020143508911, -0.0920611023902893, 0.00014602020382881165, 0.09031595289707184, 0.19236499071121216, 0.29892900586128235], \"y\": [-0.006640434265136719, -0.015415608882904053, -0.027199745178222656, -0.0310671329498291, -0.02461487054824829, -0.017494559288024902, -0.005191802978515625], \"type\": \"scatter\", \"uid\": \"f482dd60-8323-4c8a-9ec5-379ae89d0c08\"}, {\"line\": {\"dash\": \"2px,6px\", \"shape\": \"spline\"}, \"marker\": {\"symbol\": \"star\"}, \"name\": \"1\", \"x\": [-0.35637450218200684, -0.22796976566314697, -0.11491543054580688, -0.0004870891571044922, 0.11382070183753967, 0.22762274742126465, 0.3455697000026703], \"y\": [-0.014294028282165527, -0.030918240547180176, -0.0495072603225708, -0.0609203577041626, -0.050047099590301514, -0.031895220279693604, -0.013845562934875488], \"type\": \"scatter\", \"uid\": \"092aa601-9e24-4080-a5d4-c005ff71d633\"}, {\"line\": {\"dash\": \"2px,6px\", \"shape\": \"spline\"}, \"marker\": {\"symbol\": \"star\"}, \"name\": \"2\", \"x\": [-0.3826470971107483, -0.24941861629486084, -0.12826889753341675, -0.0006901025772094727, 0.12739823758602142, 0.24778389930725098, 0.3738376796245575], \"y\": [-0.016077816486358643, -0.038394927978515625, -0.061518967151641846, -0.07784789800643921, -0.06337755918502808, -0.038301289081573486, -0.016001641750335693], \"type\": \"scatter\", \"uid\": \"120b09ec-fe0a-4578-a0b4-368b47feca81\"}, {\"line\": {\"dash\": \"2px,6px\", \"shape\": \"spline\"}, \"marker\": {\"symbol\": \"star\"}, \"name\": \"3\", \"x\": [-0.41550225019454956, -0.27487146854400635, -0.1438542604446411, -0.0004354119300842285, 0.1432182490825653, 0.2719031572341919, 0.4102269113063812], \"y\": [-0.015164792537689209, -0.047381579875946045, -0.07662421464920044, -0.0978555679321289, -0.07882833480834961, -0.04633837938308716, -0.014755845069885254], \"type\": \"scatter\", \"uid\": \"f1dcabef-babc-4790-a9ae-941aa76ef7c6\"}, {\"line\": {\"dash\": \"2px,6px\", \"shape\": \"spline\"}, \"marker\": {\"symbol\": \"star\"}, \"name\": \"4\", \"x\": [-0.42696893215179443, -0.2832878828048706, -0.14801424741744995, 0.0004946812987327576, 0.14718802273273468, 0.28087109327316284, 0.4248180389404297], \"y\": [-0.0014888644218444824, -0.039254724979400635, -0.0698091983795166, -0.0893217921257019, -0.0700574517250061, -0.03914344310760498, -0.00017493963241577148], \"type\": \"scatter\", \"uid\": \"3d12067b-c97b-4346-a46a-4621570dc2ae\"}, {\"line\": {\"dash\": \"2px,6px\", \"shape\": \"spline\"}, \"marker\": {\"symbol\": \"star\"}, \"name\": \"5\", \"x\": [-0.4212077260017395, -0.28530943393707275, -0.1478080153465271, 0.0009892843663692474, 0.14589689671993256, 0.2828861474990845, 0.4222537875175476], \"y\": [0.006909787654876709, -0.027641117572784424, -0.053297221660614014, -0.06813573837280273, -0.05312490463256836, -0.028777599334716797, 0.0072002410888671875], \"type\": \"scatter\", \"uid\": \"67aaade0-d6b3-4855-a741-5edd8f603569\"}, {\"line\": {\"dash\": \"2px,6px\", \"shape\": \"spline\"}, \"marker\": {\"symbol\": \"star\"}, \"name\": \"6\", \"x\": [-0.404344379901886, -0.2830590009689331, -0.14640039205551147, 0.0007898658514022827, 0.14369507133960724, 0.2802765965461731, 0.4066302180290222], \"y\": [0.006061121821403503, -0.018193542957305908, -0.03596627712249756, -0.0471230149269104, -0.03761082887649536, -0.019816339015960693, 0.0029304921627044678], \"type\": \"scatter\", \"uid\": \"6c9a2276-3a97-4e24-8060-974ae4f7c30b\"}, {\"line\": {\"dash\": \"2px,6px\", \"shape\": \"spline\"}, \"marker\": {\"symbol\": \"star\"}, \"name\": \"7\", \"x\": [-0.36307430267333984, -0.27123457193374634, -0.14076316356658936, 0.0003099963068962097, 0.13723279535770416, 0.2675350308418274, 0.3650050163269043], \"y\": [0.01064331829547882, 0.008655707351863384, 0.006389547139406204, 0.0010366812348365784, 0.0009617023169994354, 0.006705986335873604, -5.7756900787353516e-05], \"type\": \"scatter\", \"uid\": \"44ccb356-12b9-41c4-ae67-ab49bad9c79a\"}, {\"line\": {\"dash\": \"2px,6px\", \"shape\": \"spline\"}, \"marker\": {\"symbol\": \"star\"}, \"name\": \"8\", \"x\": [-0.07890075445175171, -0.04613298177719116, -0.021096408367156982, 0.00016465410590171814, 0.021085619926452637, 0.04788950830698013, 0.07686330378055573], \"y\": [-0.016909122467041016, -0.027850687503814697, -0.03504115343093872, -0.03755718469619751, -0.034286320209503174, -0.026688992977142334, -0.017120063304901123], \"type\": \"scatter\", \"uid\": \"4d7a15f0-c762-4ae1-873b-93dfe7868ecf\"}, {\"line\": {\"dash\": \"2px,6px\", \"shape\": \"spline\"}, \"marker\": {\"symbol\": \"star\"}, \"name\": \"9\", \"x\": [-0.11058253049850464, -0.06502491235733032, -0.031173229217529297, 0.00012182444334030151, 0.030845001339912415, 0.07013676315546036, 0.10665342211723328], \"y\": [-0.02741837501525879, -0.046506643295288086, -0.058561086654663086, -0.062390148639678955, -0.057933926582336426, -0.04622292518615723, -0.027858972549438477], \"type\": \"scatter\", \"uid\": \"91dd3a10-dcb4-463a-85c0-e5836a4d5f3d\"}, {\"line\": {\"dash\": \"2px,6px\", \"shape\": \"spline\"}, \"marker\": {\"symbol\": \"star\"}, \"name\": \"10\", \"x\": [-0.13279402256011963, -0.0783047080039978, -0.03862965106964111, 6.540119647979736e-05, 0.038193464279174805, 0.08626126497983932, 0.12810541689395905], \"y\": [-0.03806757926940918, -0.06482529640197754, -0.08035486936569214, -0.08577471971511841, -0.08036667108535767, -0.06502699851989746, -0.0383601188659668], \"type\": \"scatter\", \"uid\": \"c450ea8f-d1b7-4771-bff7-9606a8190f23\"}, {\"line\": {\"dash\": \"2px,6px\", \"shape\": \"spline\"}, \"marker\": {\"symbol\": \"star\"}, \"name\": \"11\", \"x\": [-0.15404468774795532, -0.0920952558517456, -0.04602938890457153, 0.00015052780508995056, 0.04606398940086365, 0.1013057604432106, 0.1507592648267746], \"y\": [-0.05439412593841553, -0.09650158882141113, -0.11807793378829956, -0.12841570377349854, -0.11759382486343384, -0.09411758184432983, -0.05542641878128052], \"type\": \"scatter\", \"uid\": \"3fa73693-2341-4996-b746-4cf7bd8a5f8c\"}, {\"line\": {\"dash\": \"2px,6px\", \"shape\": \"spline\"}, \"marker\": {\"symbol\": \"star\"}, \"name\": \"12\", \"x\": [-0.16031628847122192, -0.09777075052261353, -0.04953724145889282, 0.0001914575695991516, 0.049711257219314575, 0.1066148653626442, 0.1581072360277176], \"y\": [-0.0853610634803772, -0.13495749235153198, -0.158982515335083, -0.1724211573600769, -0.1584841012954712, -0.13131612539291382, -0.08656233549118042], \"type\": \"scatter\", \"uid\": \"a91a859d-e9d3-4b48-b762-fc0c9fb1e062\"}, {\"line\": {\"dash\": \"2px,6px\", \"shape\": \"spline\"}, \"marker\": {\"symbol\": \"star\"}, \"name\": \"13\", \"x\": [-0.15108919143676758, -0.09642046689987183, -0.0494576096534729, 0.0001788884401321411, 0.04873262345790863, 0.10298485308885574, 0.149221733212471], \"y\": [-0.13709139823913574, -0.18210166692733765, -0.20430952310562134, -0.21789252758026123, -0.20436257123947144, -0.1796899437904358, -0.13780075311660767], \"type\": \"scatter\", \"uid\": \"9ee256fb-9099-4b2c-a0e5-912b4e974047\"}, {\"line\": {\"dash\": \"2px,6px\", \"shape\": \"spline\"}, \"marker\": {\"symbol\": \"star\"}, \"name\": \"14\", \"x\": [-0.13775020837783813, -0.0924539566040039, -0.04729241132736206, 0.00018906593322753906, 0.04547913372516632, 0.09624756127595901, 0.1364077478647232], \"y\": [-0.1712646484375, -0.20827460289001465, -0.22801971435546875, -0.24049264192581177, -0.22820329666137695, -0.20727699995040894, -0.1717650294303894], \"type\": \"scatter\", \"uid\": \"b2b2f0d8-059e-49e6-ba94-8f643d6b422f\"}, {\"line\": {\"dash\": \"2px,6px\", \"shape\": \"spline\"}, \"marker\": {\"symbol\": \"star\"}, \"name\": \"15\", \"x\": [-0.11538064479827881, -0.08536583185195923, -0.0429036021232605, 0.0002434961497783661, 0.03945162892341614, 0.08461058884859085, 0.11562825739383698], \"y\": [-0.2106398344039917, -0.23514145612716675, -0.25143539905548096, -0.26194173097610474, -0.2514238953590393, -0.23604345321655273, -0.21115988492965698], \"type\": \"scatter\", \"uid\": \"caf9d06f-fbd6-41e0-885b-04e83850a7fe\"}, {\"line\": {\"dash\": \"2px,6px\", \"shape\": \"spline\"}, \"marker\": {\"symbol\": \"star\"}, \"name\": \"16\", \"x\": [-0.054587483406066895, -0.02168351411819458, -0.008511126041412354, 0.0007292740046977997, 0.012341391295194626, 0.0370233952999115, 0.06704071909189224], \"y\": [-0.03814113140106201, -0.06262612342834473, -0.07350701093673706, -0.0809859037399292, -0.07352578639984131, -0.0600430965423584, -0.03713017702102661], \"type\": \"scatter\", \"uid\": \"70bf084d-e43e-48e1-b7ce-55065e1090d4\"}, {\"line\": {\"dash\": \"2px,6px\", \"shape\": \"spline\"}, \"marker\": {\"symbol\": \"star\"}, \"name\": \"17\", \"x\": [-0.11367112398147583, -0.06131035089492798, -0.02980870008468628, 0.0003361497074365616, 0.03188005089759827, 0.07308681309223175, 0.1168571263551712], \"y\": [-0.04136335849761963, -0.07063043117523193, -0.08696037530899048, -0.09716296195983887, -0.08760803937911987, -0.06802189350128174, -0.04074054956436157], \"type\": \"scatter\", \"uid\": \"e9e68156-b6ed-418f-9ba4-aa0a153508b1\"}, {\"line\": {\"shape\": \"spline\"}, \"name\": \"18\", \"x\": [-0.16442203521728516, -0.09638220071792603, -0.048488736152648926, 0.00015070848166942596, 0.04951322451233864, 0.105271115899086, 0.16217201948165894], \"y\": [-0.04630345106124878, -0.08029228448867798, -0.10105651617050171, -0.1137050986289978, -0.10211217403411865, -0.07784497737884521, -0.04604548215866089], \"type\": \"scatter\", \"uid\": \"d98e703b-918b-4633-8f40-b210b3de6b14\"}, {\"line\": {\"shape\": \"spline\"}, \"name\": \"19\", \"x\": [-0.2555140256881714, -0.16189581155776978, -0.08285212516784668, 0.0002605058252811432, 0.08294431865215302, 0.16589145362377167, 0.25005006790161133], \"y\": [-0.05170774459838867, -0.09306037425994873, -0.1198190450668335, -0.13616430759429932, -0.12106060981750488, -0.0914199948310852, -0.052227020263671875], \"type\": \"scatter\", \"uid\": \"543af515-b3a8-4d9f-aef5-f62ae3428306\"}, {\"line\": {\"shape\": \"spline\"}, \"name\": \"20\", \"x\": [-0.3170139193534851, -0.208307147026062, -0.10719627141952515, 0.0006891563534736633, 0.10696037113666534, 0.20960722863674164, 0.3149365186691284], \"y\": [-0.05136007070541382, -0.09684169292449951, -0.12585675716400146, -0.1438639760017395, -0.12664103507995605, -0.09560167789459229, -0.05271565914154053], \"type\": \"scatter\", \"uid\": \"429bb39b-947e-40ae-8a9a-55edd2bb4c9b\"}, {\"line\": {\"shape\": \"spline\"}, \"name\": \"21\", \"x\": [-0.3439134955406189, -0.23234593868255615, -0.11956930160522461, 0.0010630358010530472, 0.11902442574501038, 0.23118363320827484, 0.34474846720695496], \"y\": [-0.05249243974685669, -0.0959099531173706, -0.12286770343780518, -0.14074867963790894, -0.1236153244972229, -0.09495103359222412, -0.05408191680908203], \"type\": \"scatter\", \"uid\": \"bae0e85a-53c1-43ee-b2ea-9fab028b6668\"}, {\"line\": {\"shape\": \"spline\"}, \"name\": \"22\", \"x\": [-0.3440430760383606, -0.23601007461547852, -0.12120509147644043, 0.0010806508362293243, 0.1201571375131607, 0.23309645056724548, 0.3450227379798889], \"y\": [-0.05646544694900513, -0.0951642394065857, -0.11918044090270996, -0.13581961393356323, -0.12025570869445801, -0.09472155570983887, -0.05833345651626587], \"type\": \"scatter\", \"uid\": \"e750d8f8-d582-4ca7-b2c6-7002edcce618\"}, {\"line\": {\"shape\": \"spline\"}, \"name\": \"23\", \"x\": [-0.3402419090270996, -0.23779916763305664, -0.12193822860717773, 0.0008437689393758774, 0.11981220543384552, 0.2326124906539917, 0.34119951725006104], \"y\": [-0.05935126543045044, -0.09026426076889038, -0.11026686429977417, -0.12450391054153442, -0.11203885078430176, -0.09101194143295288, -0.06226378679275513], \"type\": \"scatter\", \"uid\": \"468798aa-99d9-4d69-9845-dd3f3884c207\"}], {\"height\": 600, \"hovermode\": \"closest\", \"title\": {\"text\": \"Compare template and exploritory context models yz side view\"}, \"width\": 600, \"xaxis\": {\"range\": [-0.5, 0.5], \"title\": {\"text\": \"X\"}}, \"yaxis\": {\"range\": [-0.2, 0.5], \"title\": {\"text\": \"Y\"}}}, {\"showLink\": false, \"linkText\": \"Export to plot.ly\", \"plotlyServerURL\": \"https://plot.ly\"})});</script>"
      ],
      "text/vnd.plotly.v1+html": [
       "<div id=\"ba4e69fb-86a7-452f-aea8-8e1d093998c5\" style=\"height: 600px; width: 600px;\" class=\"plotly-graph-div\"></div><script type=\"text/javascript\">require([\"plotly\"], function(Plotly) { window.PLOTLYENV=window.PLOTLYENV || {};window.PLOTLYENV.BASE_URL=\"https://plot.ly\";Plotly.newPlot(\"ba4e69fb-86a7-452f-aea8-8e1d093998c5\", [{\"line\": {\"dash\": \"2px,6px\", \"shape\": \"spline\"}, \"marker\": {\"symbol\": \"star\"}, \"name\": \"0\", \"x\": [-0.3117305636405945, -0.1903020143508911, -0.0920611023902893, 0.00014602020382881165, 0.09031595289707184, 0.19236499071121216, 0.29892900586128235], \"y\": [-0.006640434265136719, -0.015415608882904053, -0.027199745178222656, -0.0310671329498291, -0.02461487054824829, -0.017494559288024902, -0.005191802978515625], \"type\": \"scatter\", \"uid\": \"f482dd60-8323-4c8a-9ec5-379ae89d0c08\"}, {\"line\": {\"dash\": \"2px,6px\", \"shape\": \"spline\"}, \"marker\": {\"symbol\": \"star\"}, \"name\": \"1\", \"x\": [-0.35637450218200684, -0.22796976566314697, -0.11491543054580688, -0.0004870891571044922, 0.11382070183753967, 0.22762274742126465, 0.3455697000026703], \"y\": [-0.014294028282165527, -0.030918240547180176, -0.0495072603225708, -0.0609203577041626, -0.050047099590301514, -0.031895220279693604, -0.013845562934875488], \"type\": \"scatter\", \"uid\": \"092aa601-9e24-4080-a5d4-c005ff71d633\"}, {\"line\": {\"dash\": \"2px,6px\", \"shape\": \"spline\"}, \"marker\": {\"symbol\": \"star\"}, \"name\": \"2\", \"x\": [-0.3826470971107483, -0.24941861629486084, -0.12826889753341675, -0.0006901025772094727, 0.12739823758602142, 0.24778389930725098, 0.3738376796245575], \"y\": [-0.016077816486358643, -0.038394927978515625, -0.061518967151641846, -0.07784789800643921, -0.06337755918502808, -0.038301289081573486, -0.016001641750335693], \"type\": \"scatter\", \"uid\": \"120b09ec-fe0a-4578-a0b4-368b47feca81\"}, {\"line\": {\"dash\": \"2px,6px\", \"shape\": \"spline\"}, \"marker\": {\"symbol\": \"star\"}, \"name\": \"3\", \"x\": [-0.41550225019454956, -0.27487146854400635, -0.1438542604446411, -0.0004354119300842285, 0.1432182490825653, 0.2719031572341919, 0.4102269113063812], \"y\": [-0.015164792537689209, -0.047381579875946045, -0.07662421464920044, -0.0978555679321289, -0.07882833480834961, -0.04633837938308716, -0.014755845069885254], \"type\": \"scatter\", \"uid\": \"f1dcabef-babc-4790-a9ae-941aa76ef7c6\"}, {\"line\": {\"dash\": \"2px,6px\", \"shape\": \"spline\"}, \"marker\": {\"symbol\": \"star\"}, \"name\": \"4\", \"x\": [-0.42696893215179443, -0.2832878828048706, -0.14801424741744995, 0.0004946812987327576, 0.14718802273273468, 0.28087109327316284, 0.4248180389404297], \"y\": [-0.0014888644218444824, -0.039254724979400635, -0.0698091983795166, -0.0893217921257019, -0.0700574517250061, -0.03914344310760498, -0.00017493963241577148], \"type\": \"scatter\", \"uid\": \"3d12067b-c97b-4346-a46a-4621570dc2ae\"}, {\"line\": {\"dash\": \"2px,6px\", \"shape\": \"spline\"}, \"marker\": {\"symbol\": \"star\"}, \"name\": \"5\", \"x\": [-0.4212077260017395, -0.28530943393707275, -0.1478080153465271, 0.0009892843663692474, 0.14589689671993256, 0.2828861474990845, 0.4222537875175476], \"y\": [0.006909787654876709, -0.027641117572784424, -0.053297221660614014, -0.06813573837280273, -0.05312490463256836, -0.028777599334716797, 0.0072002410888671875], \"type\": \"scatter\", \"uid\": \"67aaade0-d6b3-4855-a741-5edd8f603569\"}, {\"line\": {\"dash\": \"2px,6px\", \"shape\": \"spline\"}, \"marker\": {\"symbol\": \"star\"}, \"name\": \"6\", \"x\": [-0.404344379901886, -0.2830590009689331, -0.14640039205551147, 0.0007898658514022827, 0.14369507133960724, 0.2802765965461731, 0.4066302180290222], \"y\": [0.006061121821403503, -0.018193542957305908, -0.03596627712249756, -0.0471230149269104, -0.03761082887649536, -0.019816339015960693, 0.0029304921627044678], \"type\": \"scatter\", \"uid\": \"6c9a2276-3a97-4e24-8060-974ae4f7c30b\"}, {\"line\": {\"dash\": \"2px,6px\", \"shape\": \"spline\"}, \"marker\": {\"symbol\": \"star\"}, \"name\": \"7\", \"x\": [-0.36307430267333984, -0.27123457193374634, -0.14076316356658936, 0.0003099963068962097, 0.13723279535770416, 0.2675350308418274, 0.3650050163269043], \"y\": [0.01064331829547882, 0.008655707351863384, 0.006389547139406204, 0.0010366812348365784, 0.0009617023169994354, 0.006705986335873604, -5.7756900787353516e-05], \"type\": \"scatter\", \"uid\": \"44ccb356-12b9-41c4-ae67-ab49bad9c79a\"}, {\"line\": {\"dash\": \"2px,6px\", \"shape\": \"spline\"}, \"marker\": {\"symbol\": \"star\"}, \"name\": \"8\", \"x\": [-0.07890075445175171, -0.04613298177719116, -0.021096408367156982, 0.00016465410590171814, 0.021085619926452637, 0.04788950830698013, 0.07686330378055573], \"y\": [-0.016909122467041016, -0.027850687503814697, -0.03504115343093872, -0.03755718469619751, -0.034286320209503174, -0.026688992977142334, -0.017120063304901123], \"type\": \"scatter\", \"uid\": \"4d7a15f0-c762-4ae1-873b-93dfe7868ecf\"}, {\"line\": {\"dash\": \"2px,6px\", \"shape\": \"spline\"}, \"marker\": {\"symbol\": \"star\"}, \"name\": \"9\", \"x\": [-0.11058253049850464, -0.06502491235733032, -0.031173229217529297, 0.00012182444334030151, 0.030845001339912415, 0.07013676315546036, 0.10665342211723328], \"y\": [-0.02741837501525879, -0.046506643295288086, -0.058561086654663086, -0.062390148639678955, -0.057933926582336426, -0.04622292518615723, -0.027858972549438477], \"type\": \"scatter\", \"uid\": \"91dd3a10-dcb4-463a-85c0-e5836a4d5f3d\"}, {\"line\": {\"dash\": \"2px,6px\", \"shape\": \"spline\"}, \"marker\": {\"symbol\": \"star\"}, \"name\": \"10\", \"x\": [-0.13279402256011963, -0.0783047080039978, -0.03862965106964111, 6.540119647979736e-05, 0.038193464279174805, 0.08626126497983932, 0.12810541689395905], \"y\": [-0.03806757926940918, -0.06482529640197754, -0.08035486936569214, -0.08577471971511841, -0.08036667108535767, -0.06502699851989746, -0.0383601188659668], \"type\": \"scatter\", \"uid\": \"c450ea8f-d1b7-4771-bff7-9606a8190f23\"}, {\"line\": {\"dash\": \"2px,6px\", \"shape\": \"spline\"}, \"marker\": {\"symbol\": \"star\"}, \"name\": \"11\", \"x\": [-0.15404468774795532, -0.0920952558517456, -0.04602938890457153, 0.00015052780508995056, 0.04606398940086365, 0.1013057604432106, 0.1507592648267746], \"y\": [-0.05439412593841553, -0.09650158882141113, -0.11807793378829956, -0.12841570377349854, -0.11759382486343384, -0.09411758184432983, -0.05542641878128052], \"type\": \"scatter\", \"uid\": \"3fa73693-2341-4996-b746-4cf7bd8a5f8c\"}, {\"line\": {\"dash\": \"2px,6px\", \"shape\": \"spline\"}, \"marker\": {\"symbol\": \"star\"}, \"name\": \"12\", \"x\": [-0.16031628847122192, -0.09777075052261353, -0.04953724145889282, 0.0001914575695991516, 0.049711257219314575, 0.1066148653626442, 0.1581072360277176], \"y\": [-0.0853610634803772, -0.13495749235153198, -0.158982515335083, -0.1724211573600769, -0.1584841012954712, -0.13131612539291382, -0.08656233549118042], \"type\": \"scatter\", \"uid\": \"a91a859d-e9d3-4b48-b762-fc0c9fb1e062\"}, {\"line\": {\"dash\": \"2px,6px\", \"shape\": \"spline\"}, \"marker\": {\"symbol\": \"star\"}, \"name\": \"13\", \"x\": [-0.15108919143676758, -0.09642046689987183, -0.0494576096534729, 0.0001788884401321411, 0.04873262345790863, 0.10298485308885574, 0.149221733212471], \"y\": [-0.13709139823913574, -0.18210166692733765, -0.20430952310562134, -0.21789252758026123, -0.20436257123947144, -0.1796899437904358, -0.13780075311660767], \"type\": \"scatter\", \"uid\": \"9ee256fb-9099-4b2c-a0e5-912b4e974047\"}, {\"line\": {\"dash\": \"2px,6px\", \"shape\": \"spline\"}, \"marker\": {\"symbol\": \"star\"}, \"name\": \"14\", \"x\": [-0.13775020837783813, -0.0924539566040039, -0.04729241132736206, 0.00018906593322753906, 0.04547913372516632, 0.09624756127595901, 0.1364077478647232], \"y\": [-0.1712646484375, -0.20827460289001465, -0.22801971435546875, -0.24049264192581177, -0.22820329666137695, -0.20727699995040894, -0.1717650294303894], \"type\": \"scatter\", \"uid\": \"b2b2f0d8-059e-49e6-ba94-8f643d6b422f\"}, {\"line\": {\"dash\": \"2px,6px\", \"shape\": \"spline\"}, \"marker\": {\"symbol\": \"star\"}, \"name\": \"15\", \"x\": [-0.11538064479827881, -0.08536583185195923, -0.0429036021232605, 0.0002434961497783661, 0.03945162892341614, 0.08461058884859085, 0.11562825739383698], \"y\": [-0.2106398344039917, -0.23514145612716675, -0.25143539905548096, -0.26194173097610474, -0.2514238953590393, -0.23604345321655273, -0.21115988492965698], \"type\": \"scatter\", \"uid\": \"caf9d06f-fbd6-41e0-885b-04e83850a7fe\"}, {\"line\": {\"dash\": \"2px,6px\", \"shape\": \"spline\"}, \"marker\": {\"symbol\": \"star\"}, \"name\": \"16\", \"x\": [-0.054587483406066895, -0.02168351411819458, -0.008511126041412354, 0.0007292740046977997, 0.012341391295194626, 0.0370233952999115, 0.06704071909189224], \"y\": [-0.03814113140106201, -0.06262612342834473, -0.07350701093673706, -0.0809859037399292, -0.07352578639984131, -0.0600430965423584, -0.03713017702102661], \"type\": \"scatter\", \"uid\": \"70bf084d-e43e-48e1-b7ce-55065e1090d4\"}, {\"line\": {\"dash\": \"2px,6px\", \"shape\": \"spline\"}, \"marker\": {\"symbol\": \"star\"}, \"name\": \"17\", \"x\": [-0.11367112398147583, -0.06131035089492798, -0.02980870008468628, 0.0003361497074365616, 0.03188005089759827, 0.07308681309223175, 0.1168571263551712], \"y\": [-0.04136335849761963, -0.07063043117523193, -0.08696037530899048, -0.09716296195983887, -0.08760803937911987, -0.06802189350128174, -0.04074054956436157], \"type\": \"scatter\", \"uid\": \"e9e68156-b6ed-418f-9ba4-aa0a153508b1\"}, {\"line\": {\"shape\": \"spline\"}, \"name\": \"18\", \"x\": [-0.16442203521728516, -0.09638220071792603, -0.048488736152648926, 0.00015070848166942596, 0.04951322451233864, 0.105271115899086, 0.16217201948165894], \"y\": [-0.04630345106124878, -0.08029228448867798, -0.10105651617050171, -0.1137050986289978, -0.10211217403411865, -0.07784497737884521, -0.04604548215866089], \"type\": \"scatter\", \"uid\": \"d98e703b-918b-4633-8f40-b210b3de6b14\"}, {\"line\": {\"shape\": \"spline\"}, \"name\": \"19\", \"x\": [-0.2555140256881714, -0.16189581155776978, -0.08285212516784668, 0.0002605058252811432, 0.08294431865215302, 0.16589145362377167, 0.25005006790161133], \"y\": [-0.05170774459838867, -0.09306037425994873, -0.1198190450668335, -0.13616430759429932, -0.12106060981750488, -0.0914199948310852, -0.052227020263671875], \"type\": \"scatter\", \"uid\": \"543af515-b3a8-4d9f-aef5-f62ae3428306\"}, {\"line\": {\"shape\": \"spline\"}, \"name\": \"20\", \"x\": [-0.3170139193534851, -0.208307147026062, -0.10719627141952515, 0.0006891563534736633, 0.10696037113666534, 0.20960722863674164, 0.3149365186691284], \"y\": [-0.05136007070541382, -0.09684169292449951, -0.12585675716400146, -0.1438639760017395, -0.12664103507995605, -0.09560167789459229, -0.05271565914154053], \"type\": \"scatter\", \"uid\": \"429bb39b-947e-40ae-8a9a-55edd2bb4c9b\"}, {\"line\": {\"shape\": \"spline\"}, \"name\": \"21\", \"x\": [-0.3439134955406189, -0.23234593868255615, -0.11956930160522461, 0.0010630358010530472, 0.11902442574501038, 0.23118363320827484, 0.34474846720695496], \"y\": [-0.05249243974685669, -0.0959099531173706, -0.12286770343780518, -0.14074867963790894, -0.1236153244972229, -0.09495103359222412, -0.05408191680908203], \"type\": \"scatter\", \"uid\": \"bae0e85a-53c1-43ee-b2ea-9fab028b6668\"}, {\"line\": {\"shape\": \"spline\"}, \"name\": \"22\", \"x\": [-0.3440430760383606, -0.23601007461547852, -0.12120509147644043, 0.0010806508362293243, 0.1201571375131607, 0.23309645056724548, 0.3450227379798889], \"y\": [-0.05646544694900513, -0.0951642394065857, -0.11918044090270996, -0.13581961393356323, -0.12025570869445801, -0.09472155570983887, -0.05833345651626587], \"type\": \"scatter\", \"uid\": \"e750d8f8-d582-4ca7-b2c6-7002edcce618\"}, {\"line\": {\"shape\": \"spline\"}, \"name\": \"23\", \"x\": [-0.3402419090270996, -0.23779916763305664, -0.12193822860717773, 0.0008437689393758774, 0.11981220543384552, 0.2326124906539917, 0.34119951725006104], \"y\": [-0.05935126543045044, -0.09026426076889038, -0.11026686429977417, -0.12450391054153442, -0.11203885078430176, -0.09101194143295288, -0.06226378679275513], \"type\": \"scatter\", \"uid\": \"468798aa-99d9-4d69-9845-dd3f3884c207\"}], {\"height\": 600, \"hovermode\": \"closest\", \"title\": {\"text\": \"Compare template and exploritory context models yz side view\"}, \"width\": 600, \"xaxis\": {\"range\": [-0.5, 0.5], \"title\": {\"text\": \"X\"}}, \"yaxis\": {\"range\": [-0.2, 0.5], \"title\": {\"text\": \"Y\"}}}, {\"showLink\": false, \"linkText\": \"Export to plot.ly\", \"plotlyServerURL\": \"https://plot.ly\"})});</script>"
      ]
     },
     "metadata": {},
     "output_type": "display_data"
    }
   ],
   "source": [
    "\n",
    "gx = gy.FormatNetworkToGraphColumns(nx, xOffset=7, yOffset=14, colPoints=7)\n",
    "\n",
    "layout = go.Layout(\n",
    "    title = 'Initial Curves',\n",
    "    height = 600,\n",
    "    width = 600,\n",
    "    hovermode= 'closest',\n",
    "    xaxis= dict(\n",
    "        title= 'X',\n",
    "        range = [-.5,.5],\n",
    "    ),\n",
    "    yaxis=dict(\n",
    "        title= 'Y',\n",
    "        range = [-.2,.5],\n",
    "    )\n",
    ")\n",
    "\n",
    "layout.title = 'Compare template and exploritory context models yz side view'\n",
    "f = gy.graphCurves(gx, layout, dashRange=range(0,18))\n",
    "offline.iplot(f)"
   ]
  },
  {
   "cell_type": "code",
   "execution_count": 72,
   "metadata": {},
   "outputs": [
    {
     "data": {
      "text/plain": [
       "((1, 9), (6, 9))"
      ]
     },
     "execution_count": 72,
     "metadata": {},
     "output_type": "execute_result"
    }
   ],
   "source": [
    "timeIndex = 5\n",
    "rcAvg, [rcDelta2, rcDelta3] = getContextSearchVectors([ph0tModel,ph1tModel], relCnModel, relIn, timeIndex)\n",
    "\n",
    "# weights0 = [1., .5, 1.5, 2.5, 3.5]\n",
    "# weights1 = [1., 0., .5, 1.5, 2.5, 3.5]\n",
    "# weights0 = [0]\n",
    "# weights1 = [.5,1., 1.5, 2., 2.5, .3]\n",
    "weights0 = [0]\n",
    "weights1 = [1., 1.4, 1.7, 1.8, 2.9, 3.4]\n",
    "\n",
    "context0 = [w*rcDelta2+rcAvg for w in  weights0]\n",
    "context1 = [w*rcDelta3+rcAvg for w in  weights1]\n",
    "\n",
    "np.array(context0).shape, np.array(context1).shape"
   ]
  },
  {
   "cell_type": "code",
   "execution_count": 73,
   "metadata": {},
   "outputs": [
    {
     "data": {
      "text/plain": [
       "(0.7, (7, 9), (7, 8, 21))"
      ]
     },
     "execution_count": 73,
     "metadata": {},
     "output_type": "execute_result"
    }
   ],
   "source": [
    "c0 = np.array(context0)\n",
    "c1 = np.array(context1)\n",
    "contextCurves = np.concatenate((c0,c1))\n",
    "\n",
    "#ph from raw template\n",
    "pht0Petal = ph0t[timeIndex,1:]#suppress first morph value (just offset)\n",
    "pht1Petal = ph1t[timeIndex,1:]\n",
    "\n",
    "#ph from context model and exxloritory context curves\n",
    "phExplore = createPhFromContext(phCnModel,contextCurves,relIn,timeIndex)[:,1:] #suppress first value (just offset)\n",
    "\n",
    "timeIndices[timeIndex],contextCurves.shape, phExplore.shape"
   ]
  },
  {
   "cell_type": "code",
   "execution_count": 74,
   "metadata": {},
   "outputs": [
    {
     "data": {
      "text/plain": [
       "((7, 8, 21), './save/btest.json')"
      ]
     },
     "execution_count": 74,
     "metadata": {},
     "output_type": "execute_result"
    }
   ],
   "source": [
    "'''\n",
    "10. Generate blender json data to graph phenomenal (leaf shapes) context exploration in 3D\n",
    "\n",
    "x.shape [num petals (time steps), num morph steps, 21 coord]\n",
    "\n",
    "'''\n",
    "\n",
    "x = phExplore\n",
    "# x = createPhFromContextAcrossTime([ph2tModel,ph3tModel],geCnModel, phCnModel, geIn, [1.3,0.])\n",
    "\n",
    "fb = gy.FormatNetworkToBlender(x, xOffset=0, yOffset=7, zOffset=14, colPoints=7)\n",
    "\n",
    "PATH = CURRENT_MODEL_SAVE_DIR +'btest.json'\n",
    "with open(PATH, 'w') as fp:\n",
    "    json.dump(fb.tolist(),fp)\n",
    "    \n",
    "x.shape, PATH"
   ]
  }
 ],
 "metadata": {
  "kernelspec": {
   "display_name": "Python [conda env:pytorch]",
   "language": "python",
   "name": "conda-env-pytorch-py"
  },
  "language_info": {
   "codemirror_mode": {
    "name": "ipython",
    "version": 3
   },
   "file_extension": ".py",
   "mimetype": "text/x-python",
   "name": "python",
   "nbconvert_exporter": "python",
   "pygments_lexer": "ipython3",
   "version": "3.7.2"
  }
 },
 "nbformat": 4,
 "nbformat_minor": 2
}
