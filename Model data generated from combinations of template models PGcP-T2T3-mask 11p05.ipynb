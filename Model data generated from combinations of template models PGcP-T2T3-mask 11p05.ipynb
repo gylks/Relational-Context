{
 "cells": [
  {
   "cell_type": "markdown",
   "metadata": {},
   "source": [
    "Read two saved template Models \n",
    "Interpolate Ge and Ph data to create input and output targets for training.  \n",
    "\n",
    "1. Load existing template NN models\n",
    "2. Create parameters for generating training data from source template models\n",
    "3. Initialize template interpolation (ti) model\n",
    "4. Train ti model\n",
    "5. Generate test data for graphing\n",
    "6. Save ti model to file\n",
    "7. Generate blender data from ti model output"
   ]
  },
  {
   "cell_type": "code",
   "execution_count": 2,
   "metadata": {},
   "outputs": [
    {
     "data": {
      "text/html": [
       "<script type=\"text/javascript\">window.PlotlyConfig = {MathJaxConfig: 'local'};</script><script type=\"text/javascript\">if (window.MathJax) {MathJax.Hub.Config({SVG: {font: \"STIX-Web\"}});}</script><script>requirejs.config({paths: { 'plotly': ['https://cdn.plot.ly/plotly-latest.min']},});if(!window._Plotly) {require(['plotly'],function(plotly) {window._Plotly=plotly;});}</script>"
      ],
      "text/vnd.plotly.v1+html": [
       "<script type=\"text/javascript\">window.PlotlyConfig = {MathJaxConfig: 'local'};</script><script type=\"text/javascript\">if (window.MathJax) {MathJax.Hub.Config({SVG: {font: \"STIX-Web\"}});}</script><script>requirejs.config({paths: { 'plotly': ['https://cdn.plot.ly/plotly-latest.min']},});if(!window._Plotly) {require(['plotly'],function(plotly) {window._Plotly=plotly;});}</script>"
      ]
     },
     "metadata": {},
     "output_type": "display_data"
    }
   ],
   "source": [
    "import torch as torch\n",
    "import torch.nn as nn\n",
    "import torch.nn.functional as F\n",
    "import torch.optim as optim\n",
    "\n",
    "import os\n",
    "import numpy as np\n",
    "import json \n",
    "import math as m\n",
    "import random\n",
    "import time\n",
    "import NNArt as gy\n",
    "from sympy.utilities.iterables import multiset_permutations\n",
    "\n",
    "import plotly as py\n",
    "import plotly.offline as offline\n",
    "import plotly.graph_objs as go\n",
    "import plotly.figure_factory as ff\n",
    "import plotly.io as pio\n",
    "\n",
    "CURRENT_MODEL_SAVE_DIR = './save/'\n",
    "\n",
    "offline.init_notebook_mode(connected=True) \n",
    "np.set_printoptions(precision=3, suppress=True)"
   ]
  },
  {
   "cell_type": "code",
   "execution_count": 3,
   "metadata": {},
   "outputs": [],
   "source": [
    "class Net(nn.Module):\n",
    "    def __init__(self, layerSizes, name):\n",
    "        super(Net, self).__init__()\n",
    "        self.shape = layerSizes\n",
    "        self.name = name\n",
    "        self.seq = nn.Sequential(\n",
    "            nn.Linear(layerSizes[0],layerSizes[1]),\n",
    "            nn.ELU(),          \n",
    "            nn.Linear(layerSizes[1],layerSizes[2]),\n",
    "            nn.ELU(),            \n",
    "            nn.Linear(layerSizes[2],layerSizes[3]),\n",
    "            nn.ELU()\n",
    "        )          \n",
    "    def forward(self, x):\n",
    "        return self.seq(x) "
   ]
  },
  {
   "cell_type": "code",
   "execution_count": 8,
   "metadata": {},
   "outputs": [],
   "source": [
    "def phRcPhTrain(relModel,phModel, parms):\n",
    "    epochs = parms['epochs']\n",
    "    lrR = parms['lrR']\n",
    "    lrP = parms['lrP']\n",
    "    tModels = parms['tModels']\n",
    "    device = parms['device']\n",
    "    numSamples = parms['numSamples']\n",
    "    rFilter = parms['rFilter'] \n",
    "    numContextDims=1 #extra emergent dimensions\n",
    "\n",
    "    minLossP = 1000\n",
    "    maxLossP = -10\n",
    "    minLossR = 10\n",
    "    maxLossR = 0\n",
    "    criterion = torch.nn.MSELoss(reduction='sum')\n",
    "    relOptimizer = torch.optim.Adam(relModel.parameters(), lr=lrR)\n",
    "    phOptimizer = torch.optim.Adam(phModel.parameters(), lr=lrP)\n",
    "    for epoch in range(epochs):\n",
    "        #Each epoch get a new training set based on random input to the template models\n",
    "        relTarget, phTarget, _ = gy.createPhRcTargetsFromModelList(tModels, numSamples, numContextDims)\n",
    "\n",
    "        phOptimizer.zero_grad()\n",
    "        relOptimizer.zero_grad()\n",
    "        \n",
    "        relOutput = relModel(phTarget)\n",
    "        phOutput = phModel(relOutput)\n",
    "\n",
    "        lossP = criterion(phOutput, phTarget)\n",
    "        lossR = criterion(relOutput*rFilter, relTarget*rFilter)\n",
    "\n",
    "        (lossP).backward(retain_graph=True)\n",
    "        (lossR).backward()\n",
    "        \n",
    "        phOptimizer.step()\n",
    "        relOptimizer.step()\n",
    "        \n",
    "        minLossP = min(lossP.data.item(), minLossP)\n",
    "        maxLossP = max(lossP.data.item(), maxLossP)\n",
    "        minLossR = min(lossR.data.item(), minLossR)\n",
    "        maxLossR = max(lossR.data.item(), maxLossR)\n",
    "        \n",
    "        if (epoch) % (epochs/10) == 0:\n",
    "            print(\"Epoch {0:,.0f} - lossR: {1:,.5f} - lossP: {2:,.5f}\".format(\n",
    "                epoch, lossR/numSamples, lossP/numSamples))\n",
    "            \n",
    "    print(\"Epoch {0:,.0f} - lossR: {1:,.5f}:{2:,.5f} - lossP: {3:,.5f}:{4:,.5f}\".format(epoch+1, \n",
    "                minLossR/numSamples, maxLossR/numSamples, minLossP/numSamples, maxLossP/numSamples))\n",
    "\n",
    "    return"
   ]
  },
  {
   "cell_type": "code",
   "execution_count": 5,
   "metadata": {},
   "outputs": [
    {
     "data": {
      "text/plain": [
       "([2, 10, 15, 21], [2, 10, 15, 21])"
      ]
     },
     "execution_count": 5,
     "metadata": {},
     "output_type": "execute_result"
    }
   ],
   "source": [
    "'''\n",
    "1. Load existing template NN models\n",
    "templateModel2\n",
    "\n",
    "'''\n",
    "\n",
    "path=CURRENT_MODEL_SAVE_DIR+'templateModel'\n",
    "tmModel0 = Net([2,10,15,21],'tmModel0')\n",
    "tmModel1 = Net([2,10,15,21],'tmModel1')\n",
    "\n",
    "tmModel0.load_state_dict(torch.load(path+'0.pth'))\n",
    "tmModel1.load_state_dict(torch.load(path+'1.pth'))\n",
    "tmModel0.eval()\n",
    "tmModel1.eval()\n",
    "\n",
    "tmModel0.shape, tmModel1.shape"
   ]
  },
  {
   "cell_type": "code",
   "execution_count": 6,
   "metadata": {},
   "outputs": [
    {
     "name": "stdout",
     "output_type": "stream",
     "text": [
      "Transfer to use  cpu\n"
     ]
    },
    {
     "data": {
      "text/plain": [
       "([21, 15, 10, 3], [3, 10, 15, 21])"
      ]
     },
     "execution_count": 6,
     "metadata": {},
     "output_type": "execute_result"
    }
   ],
   "source": [
    "'''\n",
    "2. Initialize P-Gc-P\n",
    "\n",
    "'''\n",
    "\n",
    "#initialize network\n",
    "manualSeed = 1\n",
    "\n",
    "np.random.seed(manualSeed)\n",
    "# random.seed(manualSeed)\n",
    "torch.manual_seed(manualSeed)\n",
    "\n",
    "relModel = Net([21,15,10,3],'relModel')\n",
    "phModel = Net([3,10,15,21],'phModel')\n",
    "relModel.train()\n",
    "phModel.train()\n",
    "\n",
    "# device = torch.device(\"cuda:0\")\n",
    "device = torch.device(\"cpu\")\n",
    "if device:\n",
    "    relModel.to(device)\n",
    "    phModel.to(device)\n",
    "    tmModel0.to(device)\n",
    "    tmModel1.to(device)\n",
    "    print(\"Transfer to use \", device)\n",
    "\n",
    "relModel.shape, phModel.shape"
   ]
  },
  {
   "cell_type": "code",
   "execution_count": 9,
   "metadata": {},
   "outputs": [
    {
     "name": "stdout",
     "output_type": "stream",
     "text": [
      "Epoch 0 - lossR: 0.39050 - lossP: 0.67026\n",
      "Epoch 10,000 - lossR: 0.04482 - lossP: 0.07583\n",
      "Epoch 20,000 - lossR: 0.05111 - lossP: 0.01110\n",
      "Epoch 30,000 - lossR: 0.01354 - lossP: 0.00702\n",
      "Epoch 40,000 - lossR: 0.01232 - lossP: 0.00682\n",
      "Epoch 50,000 - lossR: 0.00028 - lossP: 0.00394\n",
      "Epoch 60,000 - lossR: 0.06151 - lossP: 0.00325\n",
      "Epoch 70,000 - lossR: 0.00077 - lossP: 0.00112\n",
      "Epoch 80,000 - lossR: 0.00238 - lossP: 0.00059\n",
      "Epoch 90,000 - lossR: 0.00154 - lossP: 0.00226\n",
      "Epoch 100,000 - lossR: 0.00000:3.46448 - lossP: 0.00002:6.15427\n",
      "time:  245.02311754226685\n"
     ]
    }
   ],
   "source": [
    "''' \n",
    "3. Train template interpolation model\n",
    "\n",
    "'''\n",
    "start = time.time()\n",
    "\n",
    "parms={ 'epochs':100000,'lrR':.0001,'lrP':.0002,'numSamples':1,'rFilter':torch.Tensor([1,1,.05]),\n",
    "       'tModels':[tmModel0,tmModel1],'device':device}\n",
    "phRcPhTrain(relModel,phModel,parms)\n",
    "\n",
    "print('time: ', time.time()-start)\n",
    "relModel.train = False\n",
    "phModel.train = False"
   ]
  },
  {
   "cell_type": "code",
   "execution_count": null,
   "metadata": {},
   "outputs": [],
   "source": [
    "'''\n",
    "parms={ 'epochs':100000,'lrG':.0004,'lrP':.0005,'numSamples':1,'gFilter':torch.Tensor([1,1,.05]),\n",
    "Epoch 100,000 - lossG: 0.00000:0.27628 - lossP: 0.00002:0.07341\n",
    "parms={ 'epochs':100000,'lrG':.0002,'lrP':.0003,'numSamples':1,'gFilter':torch.Tensor([1,1,.05]),\n",
    "Epoch 100,000 - lossG: 0.00000:0.23505 - lossP: 0.00001:0.06539\n",
    "parms={ 'epochs':100000,'lrG':.0001,'lrP':.0002,'numSamples':1,'gFilter':torch.Tensor([1,1,.05]),\n",
    "Epoch 100,000 - lossG: 0.00000:0.21284 - lossP: 0.00001:0.04594\n",
    "Epoch 100,000 - lossG: 0.00000:0.21077 - lossP: 0.00001:0.03137   \n",
    "Epoch 100,000 - lossG: 0.00000:0.19727 - lossP: 0.00001:0.03196\n",
    "'''\n",
    "1==1"
   ]
  },
  {
   "cell_type": "code",
   "execution_count": 14,
   "metadata": {},
   "outputs": [],
   "source": [
    "'''\n",
    "4. Review Emergent Context \n",
    "\n",
    "\n",
    "'''\n",
    "morphIndices=[0.,0.1,.2,.3,.5,.7,.9,1.0, 1.1]\n",
    "timeIndices=[0.,0.1,.2,.3,.5,.7,.9,1.0, 1.1]\n",
    "\n",
    "#sample source templates to get ph samples\n",
    "relIn = gy.createRmInput(morphIndices, timeIndices, sPermutation=[])\n",
    "phTout0 = tmModel0(torch.Tensor(relMapIn))\n",
    "phTout1 = tmModel1(torch.Tensor(relMapIn))\n",
    "\n",
    "#use template generated ph samples to feed through contex models\n",
    "relCout0 = relModel(phTout0)\n",
    "relCout1 = relModel(phTout1)\n",
    "\n",
    "phCout0 = phModel(relCout0)\n",
    "phCout1 = phModel(relCout1)\n",
    "\n",
    "# gin.shape, pout2.shape, geCout2.shape, phCout2.shape"
   ]
  },
  {
   "cell_type": "code",
   "execution_count": 16,
   "metadata": {},
   "outputs": [],
   "source": [
    "g20 = np.array([relIn[0,:,1],relCout0[0,:,2].detach().numpy()])\n",
    "g22 = np.array([relIn[2,:,1],relCout0[2,:,2].detach().numpy()])\n",
    "g24 = np.array([relIn[4,:,1],relCout0[4,:,2].detach().numpy()])\n",
    "g26 = np.array([relIn[6,:,1],relCout0[6,:,2].detach().numpy()])\n",
    "g27 = np.array([relIn[7,:,1],relCout0[7,:,2].detach().numpy()])\n",
    "g28 = np.array([relIn[8,:,1],relCout0[8,:,2].detach().numpy()])\n",
    "\n",
    "g30 = np.array([relIn[0,:,1],relCout1[0,:,2].detach().numpy()])\n",
    "g32 = np.array([relIn[2,:,1],relCout1[2,:,2].detach().numpy()])\n",
    "g34 = np.array([relIn[4,:,1],relCout1[4,:,2].detach().numpy()])\n",
    "g36 = np.array([relIn[6,:,1],relCout1[6,:,2].detach().numpy()])\n",
    "g37 = np.array([relIn[7,:,1],relCout1[7,:,2].detach().numpy()])\n",
    "g38 = np.array([relIn[8,:,1],relCout1[8,:,2].detach().numpy()])\n",
    "\n",
    "gx = [g20,g30,g22,g32,g24,g34,g26,g36,g28,g38]\n"
   ]
  },
  {
   "cell_type": "code",
   "execution_count": 17,
   "metadata": {},
   "outputs": [
    {
     "data": {
      "application/vnd.plotly.v1+json": {
       "config": {
        "linkText": "Export to plot.ly",
        "plotlyServerURL": "https://plot.ly",
        "showLink": false
       },
       "data": [
        {
         "line": {
          "shape": "spline"
         },
         "name": "s2t0",
         "type": "scatter",
         "uid": "64789d2e-5598-49db-a230-6c335debe666",
         "x": [
          0,
          0.1,
          0.2,
          0.3,
          0.5,
          0.7,
          0.9,
          1,
          1.1
         ],
         "y": [
          -0.1432669758796692,
          -0.14253699779510498,
          -0.15972644090652466,
          -0.1805676817893982,
          -0.22791707515716553,
          -0.2791084051132202,
          -0.3338855504989624,
          -0.36346596479415894,
          -0.39557361602783203
         ]
        },
        {
         "line": {
          "shape": "spline"
         },
         "name": "s3t0",
         "type": "scatter",
         "uid": "788576fd-629f-4f63-af24-545e9c378abe",
         "x": [
          0,
          0.1,
          0.2,
          0.3,
          0.5,
          0.7,
          0.9,
          1,
          1.1
         ],
         "y": [
          -0.14069873094558716,
          -0.14424467086791992,
          -0.1593707799911499,
          -0.1792536973953247,
          -0.22778666019439697,
          -0.27933770418167114,
          -0.3320537805557251,
          -0.3581905961036682,
          -0.39486080408096313
         ]
        },
        {
         "line": {
          "dash": "2px,6px",
          "shape": "spline"
         },
         "marker": {
          "symbol": "star"
         },
         "name": "s2t2",
         "type": "scatter",
         "uid": "b930f37f-64ce-4235-88df-5d433b232ba4",
         "x": [
          0,
          0.1,
          0.2,
          0.3,
          0.5,
          0.7,
          0.9,
          1,
          1.1
         ],
         "y": [
          -0.15679430961608887,
          -0.12004387378692627,
          -0.09900593757629395,
          -0.08801788091659546,
          -0.09831339120864868,
          -0.12972241640090942,
          -0.16076618432998657,
          -0.17963236570358276,
          -0.21326464414596558
         ]
        },
        {
         "line": {
          "dash": "2px,6px",
          "shape": "spline"
         },
         "marker": {
          "symbol": "star"
         },
         "name": "s3t2",
         "type": "scatter",
         "uid": "05d38c30-4e31-457e-92fe-760fadb5f764",
         "x": [
          0,
          0.1,
          0.2,
          0.3,
          0.5,
          0.7,
          0.9,
          1,
          1.1
         ],
         "y": [
          -0.12988227605819702,
          -0.10009825229644775,
          -0.0799073576927185,
          -0.0659903883934021,
          -0.06700527667999268,
          -0.09756463766098022,
          -0.12682515382766724,
          -0.14122164249420166,
          -0.1748228669166565
         ]
        },
        {
         "line": {
          "shape": "spline"
         },
         "name": "s2t4",
         "type": "scatter",
         "uid": "4dadbec2-6351-4163-83ac-dda84374f61e",
         "x": [
          0,
          0.1,
          0.2,
          0.3,
          0.5,
          0.7,
          0.9,
          1,
          1.1
         ],
         "y": [
          -0.21885466575622559,
          -0.17001134157180786,
          -0.1261906623840332,
          -0.08717185258865356,
          -0.025852859020233154,
          0.017879009246826172,
          0.05466768145561218,
          0.07619611918926239,
          0.09131917357444763
         ]
        },
        {
         "line": {
          "shape": "spline"
         },
         "name": "s3t4",
         "type": "scatter",
         "uid": "b173e8b5-7476-46f2-92a3-5a93dcd4d9f2",
         "x": [
          0,
          0.1,
          0.2,
          0.3,
          0.5,
          0.7,
          0.9,
          1,
          1.1
         ],
         "y": [
          -0.14580166339874268,
          -0.0860522985458374,
          -0.03646808862686157,
          0.0021224841475486755,
          0.06343679875135422,
          0.1181834265589714,
          0.18008041381835938,
          0.2135179340839386,
          0.23966586589813232
         ]
        },
        {
         "line": {
          "dash": "2px,6px",
          "shape": "spline"
         },
         "marker": {
          "symbol": "star"
         },
         "name": "s2t6",
         "type": "scatter",
         "uid": "e282d2ac-b120-41ed-ba42-a742153c8ec5",
         "x": [
          0,
          0.1,
          0.2,
          0.3,
          0.5,
          0.7,
          0.9,
          1,
          1.1
         ],
         "y": [
          -0.37692147493362427,
          -0.326979398727417,
          -0.26579368114471436,
          -0.20454245805740356,
          -0.07470190525054932,
          0.07285197079181671,
          0.26081347465515137,
          0.38604724407196045,
          0.5262412428855896
         ]
        },
        {
         "line": {
          "dash": "2px,6px",
          "shape": "spline"
         },
         "marker": {
          "symbol": "star"
         },
         "name": "s3t6",
         "type": "scatter",
         "uid": "3cc2dcfc-0f36-4d5b-a5ae-d61ac6dcde55",
         "x": [
          0,
          0.1,
          0.2,
          0.3,
          0.5,
          0.7,
          0.9,
          1,
          1.1
         ],
         "y": [
          -0.16584420204162598,
          -0.10790324211120605,
          -0.028717994689941406,
          0.05384504795074463,
          0.20966029167175293,
          0.38025176525115967,
          0.5883312821388245,
          0.7108089923858643,
          0.8453048467636108
         ]
        },
        {
         "line": {
          "shape": "spline"
         },
         "name": "s2t8",
         "type": "scatter",
         "uid": "46e82b06-8e57-42a8-9cae-39df449c34e2",
         "x": [
          0,
          0.1,
          0.2,
          0.3,
          0.5,
          0.7,
          0.9,
          1,
          1.1
         ],
         "y": [
          -0.4747768044471741,
          -0.4201078414916992,
          -0.3542787432670593,
          -0.28433406352996826,
          -0.12079352140426636,
          0.0978197529911995,
          0.39387044310569763,
          0.5833041071891785,
          0.781550407409668
         ]
        },
        {
         "line": {
          "shape": "spline"
         },
         "name": "s3t8",
         "type": "scatter",
         "uid": "324c510a-247b-47bb-a067-e2aac6e56724",
         "x": [
          0,
          0.1,
          0.2,
          0.3,
          0.5,
          0.7,
          0.9,
          1,
          1.1
         ],
         "y": [
          -0.21691370010375977,
          -0.1775771975517273,
          -0.10168308019638062,
          -0.01159292459487915,
          0.1764776110649109,
          0.36905941367149353,
          0.5852778553962708,
          0.7089850902557373,
          0.8485500812530518
         ]
        }
       ],
       "layout": {
        "height": 700,
        "hovermode": "closest",
        "title": {
         "text": "PhC changes into GeOutput Sp Space for GeInput: "
        },
        "width": 800,
        "xaxis": {
         "range": [
          -0.1,
          1.5
         ],
         "title": {
          "text": "X"
         }
        },
        "yaxis": {
         "range": [
          -0.6,
          1
         ],
         "title": {
          "text": "Y"
         }
        }
       }
      },
      "text/html": [
       "<div id=\"77f0862f-cdae-4522-ac36-62072e9c0451\" style=\"height: 700px; width: 800px;\" class=\"plotly-graph-div\"></div><script type=\"text/javascript\">require([\"plotly\"], function(Plotly) { window.PLOTLYENV=window.PLOTLYENV || {};window.PLOTLYENV.BASE_URL=\"https://plot.ly\";Plotly.newPlot(\"77f0862f-cdae-4522-ac36-62072e9c0451\", [{\"line\": {\"shape\": \"spline\"}, \"name\": \"s2t0\", \"x\": [0.0, 0.1, 0.2, 0.3, 0.5, 0.7, 0.9, 1.0, 1.1], \"y\": [-0.1432669758796692, -0.14253699779510498, -0.15972644090652466, -0.1805676817893982, -0.22791707515716553, -0.2791084051132202, -0.3338855504989624, -0.36346596479415894, -0.39557361602783203], \"type\": \"scatter\", \"uid\": \"64789d2e-5598-49db-a230-6c335debe666\"}, {\"line\": {\"shape\": \"spline\"}, \"name\": \"s3t0\", \"x\": [0.0, 0.1, 0.2, 0.3, 0.5, 0.7, 0.9, 1.0, 1.1], \"y\": [-0.14069873094558716, -0.14424467086791992, -0.1593707799911499, -0.1792536973953247, -0.22778666019439697, -0.27933770418167114, -0.3320537805557251, -0.3581905961036682, -0.39486080408096313], \"type\": \"scatter\", \"uid\": \"788576fd-629f-4f63-af24-545e9c378abe\"}, {\"line\": {\"dash\": \"2px,6px\", \"shape\": \"spline\"}, \"marker\": {\"symbol\": \"star\"}, \"name\": \"s2t2\", \"x\": [0.0, 0.1, 0.2, 0.3, 0.5, 0.7, 0.9, 1.0, 1.1], \"y\": [-0.15679430961608887, -0.12004387378692627, -0.09900593757629395, -0.08801788091659546, -0.09831339120864868, -0.12972241640090942, -0.16076618432998657, -0.17963236570358276, -0.21326464414596558], \"type\": \"scatter\", \"uid\": \"b930f37f-64ce-4235-88df-5d433b232ba4\"}, {\"line\": {\"dash\": \"2px,6px\", \"shape\": \"spline\"}, \"marker\": {\"symbol\": \"star\"}, \"name\": \"s3t2\", \"x\": [0.0, 0.1, 0.2, 0.3, 0.5, 0.7, 0.9, 1.0, 1.1], \"y\": [-0.12988227605819702, -0.10009825229644775, -0.0799073576927185, -0.0659903883934021, -0.06700527667999268, -0.09756463766098022, -0.12682515382766724, -0.14122164249420166, -0.1748228669166565], \"type\": \"scatter\", \"uid\": \"05d38c30-4e31-457e-92fe-760fadb5f764\"}, {\"line\": {\"shape\": \"spline\"}, \"name\": \"s2t4\", \"x\": [0.0, 0.1, 0.2, 0.3, 0.5, 0.7, 0.9, 1.0, 1.1], \"y\": [-0.21885466575622559, -0.17001134157180786, -0.1261906623840332, -0.08717185258865356, -0.025852859020233154, 0.017879009246826172, 0.05466768145561218, 0.07619611918926239, 0.09131917357444763], \"type\": \"scatter\", \"uid\": \"4dadbec2-6351-4163-83ac-dda84374f61e\"}, {\"line\": {\"shape\": \"spline\"}, \"name\": \"s3t4\", \"x\": [0.0, 0.1, 0.2, 0.3, 0.5, 0.7, 0.9, 1.0, 1.1], \"y\": [-0.14580166339874268, -0.0860522985458374, -0.03646808862686157, 0.0021224841475486755, 0.06343679875135422, 0.1181834265589714, 0.18008041381835938, 0.2135179340839386, 0.23966586589813232], \"type\": \"scatter\", \"uid\": \"b173e8b5-7476-46f2-92a3-5a93dcd4d9f2\"}, {\"line\": {\"dash\": \"2px,6px\", \"shape\": \"spline\"}, \"marker\": {\"symbol\": \"star\"}, \"name\": \"s2t6\", \"x\": [0.0, 0.1, 0.2, 0.3, 0.5, 0.7, 0.9, 1.0, 1.1], \"y\": [-0.37692147493362427, -0.326979398727417, -0.26579368114471436, -0.20454245805740356, -0.07470190525054932, 0.07285197079181671, 0.26081347465515137, 0.38604724407196045, 0.5262412428855896], \"type\": \"scatter\", \"uid\": \"e282d2ac-b120-41ed-ba42-a742153c8ec5\"}, {\"line\": {\"dash\": \"2px,6px\", \"shape\": \"spline\"}, \"marker\": {\"symbol\": \"star\"}, \"name\": \"s3t6\", \"x\": [0.0, 0.1, 0.2, 0.3, 0.5, 0.7, 0.9, 1.0, 1.1], \"y\": [-0.16584420204162598, -0.10790324211120605, -0.028717994689941406, 0.05384504795074463, 0.20966029167175293, 0.38025176525115967, 0.5883312821388245, 0.7108089923858643, 0.8453048467636108], \"type\": \"scatter\", \"uid\": \"3cc2dcfc-0f36-4d5b-a5ae-d61ac6dcde55\"}, {\"line\": {\"shape\": \"spline\"}, \"name\": \"s2t8\", \"x\": [0.0, 0.1, 0.2, 0.3, 0.5, 0.7, 0.9, 1.0, 1.1], \"y\": [-0.4747768044471741, -0.4201078414916992, -0.3542787432670593, -0.28433406352996826, -0.12079352140426636, 0.0978197529911995, 0.39387044310569763, 0.5833041071891785, 0.781550407409668], \"type\": \"scatter\", \"uid\": \"46e82b06-8e57-42a8-9cae-39df449c34e2\"}, {\"line\": {\"shape\": \"spline\"}, \"name\": \"s3t8\", \"x\": [0.0, 0.1, 0.2, 0.3, 0.5, 0.7, 0.9, 1.0, 1.1], \"y\": [-0.21691370010375977, -0.1775771975517273, -0.10168308019638062, -0.01159292459487915, 0.1764776110649109, 0.36905941367149353, 0.5852778553962708, 0.7089850902557373, 0.8485500812530518], \"type\": \"scatter\", \"uid\": \"324c510a-247b-47bb-a067-e2aac6e56724\"}], {\"height\": 700, \"hovermode\": \"closest\", \"title\": {\"text\": \"PhC changes into GeOutput Sp Space for GeInput: \"}, \"width\": 800, \"xaxis\": {\"range\": [-0.1, 1.5], \"title\": {\"text\": \"X\"}}, \"yaxis\": {\"range\": [-0.6, 1.0], \"title\": {\"text\": \"Y\"}}}, {\"showLink\": false, \"linkText\": \"Export to plot.ly\", \"plotlyServerURL\": \"https://plot.ly\"})});</script>"
      ],
      "text/vnd.plotly.v1+html": [
       "<div id=\"77f0862f-cdae-4522-ac36-62072e9c0451\" style=\"height: 700px; width: 800px;\" class=\"plotly-graph-div\"></div><script type=\"text/javascript\">require([\"plotly\"], function(Plotly) { window.PLOTLYENV=window.PLOTLYENV || {};window.PLOTLYENV.BASE_URL=\"https://plot.ly\";Plotly.newPlot(\"77f0862f-cdae-4522-ac36-62072e9c0451\", [{\"line\": {\"shape\": \"spline\"}, \"name\": \"s2t0\", \"x\": [0.0, 0.1, 0.2, 0.3, 0.5, 0.7, 0.9, 1.0, 1.1], \"y\": [-0.1432669758796692, -0.14253699779510498, -0.15972644090652466, -0.1805676817893982, -0.22791707515716553, -0.2791084051132202, -0.3338855504989624, -0.36346596479415894, -0.39557361602783203], \"type\": \"scatter\", \"uid\": \"64789d2e-5598-49db-a230-6c335debe666\"}, {\"line\": {\"shape\": \"spline\"}, \"name\": \"s3t0\", \"x\": [0.0, 0.1, 0.2, 0.3, 0.5, 0.7, 0.9, 1.0, 1.1], \"y\": [-0.14069873094558716, -0.14424467086791992, -0.1593707799911499, -0.1792536973953247, -0.22778666019439697, -0.27933770418167114, -0.3320537805557251, -0.3581905961036682, -0.39486080408096313], \"type\": \"scatter\", \"uid\": \"788576fd-629f-4f63-af24-545e9c378abe\"}, {\"line\": {\"dash\": \"2px,6px\", \"shape\": \"spline\"}, \"marker\": {\"symbol\": \"star\"}, \"name\": \"s2t2\", \"x\": [0.0, 0.1, 0.2, 0.3, 0.5, 0.7, 0.9, 1.0, 1.1], \"y\": [-0.15679430961608887, -0.12004387378692627, -0.09900593757629395, -0.08801788091659546, -0.09831339120864868, -0.12972241640090942, -0.16076618432998657, -0.17963236570358276, -0.21326464414596558], \"type\": \"scatter\", \"uid\": \"b930f37f-64ce-4235-88df-5d433b232ba4\"}, {\"line\": {\"dash\": \"2px,6px\", \"shape\": \"spline\"}, \"marker\": {\"symbol\": \"star\"}, \"name\": \"s3t2\", \"x\": [0.0, 0.1, 0.2, 0.3, 0.5, 0.7, 0.9, 1.0, 1.1], \"y\": [-0.12988227605819702, -0.10009825229644775, -0.0799073576927185, -0.0659903883934021, -0.06700527667999268, -0.09756463766098022, -0.12682515382766724, -0.14122164249420166, -0.1748228669166565], \"type\": \"scatter\", \"uid\": \"05d38c30-4e31-457e-92fe-760fadb5f764\"}, {\"line\": {\"shape\": \"spline\"}, \"name\": \"s2t4\", \"x\": [0.0, 0.1, 0.2, 0.3, 0.5, 0.7, 0.9, 1.0, 1.1], \"y\": [-0.21885466575622559, -0.17001134157180786, -0.1261906623840332, -0.08717185258865356, -0.025852859020233154, 0.017879009246826172, 0.05466768145561218, 0.07619611918926239, 0.09131917357444763], \"type\": \"scatter\", \"uid\": \"4dadbec2-6351-4163-83ac-dda84374f61e\"}, {\"line\": {\"shape\": \"spline\"}, \"name\": \"s3t4\", \"x\": [0.0, 0.1, 0.2, 0.3, 0.5, 0.7, 0.9, 1.0, 1.1], \"y\": [-0.14580166339874268, -0.0860522985458374, -0.03646808862686157, 0.0021224841475486755, 0.06343679875135422, 0.1181834265589714, 0.18008041381835938, 0.2135179340839386, 0.23966586589813232], \"type\": \"scatter\", \"uid\": \"b173e8b5-7476-46f2-92a3-5a93dcd4d9f2\"}, {\"line\": {\"dash\": \"2px,6px\", \"shape\": \"spline\"}, \"marker\": {\"symbol\": \"star\"}, \"name\": \"s2t6\", \"x\": [0.0, 0.1, 0.2, 0.3, 0.5, 0.7, 0.9, 1.0, 1.1], \"y\": [-0.37692147493362427, -0.326979398727417, -0.26579368114471436, -0.20454245805740356, -0.07470190525054932, 0.07285197079181671, 0.26081347465515137, 0.38604724407196045, 0.5262412428855896], \"type\": \"scatter\", \"uid\": \"e282d2ac-b120-41ed-ba42-a742153c8ec5\"}, {\"line\": {\"dash\": \"2px,6px\", \"shape\": \"spline\"}, \"marker\": {\"symbol\": \"star\"}, \"name\": \"s3t6\", \"x\": [0.0, 0.1, 0.2, 0.3, 0.5, 0.7, 0.9, 1.0, 1.1], \"y\": [-0.16584420204162598, -0.10790324211120605, -0.028717994689941406, 0.05384504795074463, 0.20966029167175293, 0.38025176525115967, 0.5883312821388245, 0.7108089923858643, 0.8453048467636108], \"type\": \"scatter\", \"uid\": \"3cc2dcfc-0f36-4d5b-a5ae-d61ac6dcde55\"}, {\"line\": {\"shape\": \"spline\"}, \"name\": \"s2t8\", \"x\": [0.0, 0.1, 0.2, 0.3, 0.5, 0.7, 0.9, 1.0, 1.1], \"y\": [-0.4747768044471741, -0.4201078414916992, -0.3542787432670593, -0.28433406352996826, -0.12079352140426636, 0.0978197529911995, 0.39387044310569763, 0.5833041071891785, 0.781550407409668], \"type\": \"scatter\", \"uid\": \"46e82b06-8e57-42a8-9cae-39df449c34e2\"}, {\"line\": {\"shape\": \"spline\"}, \"name\": \"s3t8\", \"x\": [0.0, 0.1, 0.2, 0.3, 0.5, 0.7, 0.9, 1.0, 1.1], \"y\": [-0.21691370010375977, -0.1775771975517273, -0.10168308019638062, -0.01159292459487915, 0.1764776110649109, 0.36905941367149353, 0.5852778553962708, 0.7089850902557373, 0.8485500812530518], \"type\": \"scatter\", \"uid\": \"324c510a-247b-47bb-a067-e2aac6e56724\"}], {\"height\": 700, \"hovermode\": \"closest\", \"title\": {\"text\": \"PhC changes into GeOutput Sp Space for GeInput: \"}, \"width\": 800, \"xaxis\": {\"range\": [-0.1, 1.5], \"title\": {\"text\": \"X\"}}, \"yaxis\": {\"range\": [-0.6, 1.0], \"title\": {\"text\": \"Y\"}}}, {\"showLink\": false, \"linkText\": \"Export to plot.ly\", \"plotlyServerURL\": \"https://plot.ly\"})});</script>"
      ]
     },
     "metadata": {},
     "output_type": "display_data"
    }
   ],
   "source": [
    "layout = go.Layout(\n",
    "    title = 'Initial Curves',\n",
    "    height = 700,\n",
    "    width = 800,\n",
    "    hovermode= 'closest',\n",
    "    xaxis= dict(\n",
    "        title= 'X',\n",
    "        range = [-.1,1.5],\n",
    "    ),\n",
    "    yaxis=dict(\n",
    "        title= 'Y',\n",
    "        range = [-.6,1.],\n",
    "    )\n",
    ")\n",
    "layout.title = 'PhC changes into GeOutput Sp Space for GeInput: ' \n",
    "f = gy.graphCurves(gx, layout, labels=['s2t0', 's3t0','s2t2', 's3t2','s2t4', 's3t4','s2t6', 's3t6','s2t8', 's3t8', ], dashRange=gy.rangeList([range(2,4),range(6,8)]))\n",
    "\n",
    "offline.iplot(f)\n"
   ]
  },
  {
   "cell_type": "code",
   "execution_count": 18,
   "metadata": {},
   "outputs": [
    {
     "data": {
      "application/vnd.plotly.v1+json": {
       "config": {
        "linkText": "Export to plot.ly",
        "plotlyServerURL": "https://plot.ly",
        "showLink": false
       },
       "data": [
        {
         "line": {
          "dash": "2px,6px",
          "shape": "spline"
         },
         "marker": {
          "symbol": "star"
         },
         "name": "0",
         "type": "scatter",
         "uid": "01ac1f5f-01f5-428a-947d-604ee2b506da",
         "x": [
          -0.0008487105369567871,
          0.004176422953605652,
          0.003329738974571228,
          0.002045542001724243,
          0.003460913896560669,
          0.0023359060287475586,
          -0.0008009672164916992
         ],
         "y": [
          0.00034640729427337646,
          0.0007475614547729492,
          -0.0015327930450439453,
          -0.001621246337890625,
          -0.002082228660583496,
          -0.00022298097610473633,
          0.0011500716209411621
         ]
        },
        {
         "line": {
          "dash": "2px,6px",
          "shape": "spline"
         },
         "marker": {
          "symbol": "star"
         },
         "name": "1",
         "type": "scatter",
         "uid": "df071ab8-b9a8-4ee1-ad21-769f3c290e00",
         "x": [
          0.14864295721054077,
          0.14346399903297424,
          0.1403830498456955,
          0.1398540437221527,
          0.14041945338249207,
          0.14337895810604095,
          0.14711543917655945
         ],
         "y": [
          0.02749425172805786,
          0.01975836604833603,
          0.007838904857635498,
          0.0038776397705078125,
          0.008784845471382141,
          0.01867072284221649,
          0.026619791984558105
         ]
        },
        {
         "line": {
          "dash": "2px,6px",
          "shape": "spline"
         },
         "marker": {
          "symbol": "star"
         },
         "name": "2",
         "type": "scatter",
         "uid": "6e7c9cd3-02ff-4c8d-841b-f2db6ec5f310",
         "x": [
          0.266439288854599,
          0.25752654671669006,
          0.25269410014152527,
          0.2526932656764984,
          0.25354623794555664,
          0.2574909031391144,
          0.26416587829589844
         ],
         "y": [
          0.05109076201915741,
          0.03523274511098862,
          0.017450690269470215,
          0.010192513465881348,
          0.01794363558292389,
          0.03411176800727844,
          0.05002188682556152
         ]
        },
        {
         "line": {
          "dash": "2px,6px",
          "shape": "spline"
         },
         "marker": {
          "symbol": "star"
         },
         "name": "3",
         "type": "scatter",
         "uid": "100e96ad-089a-4806-a846-75c07900eaf1",
         "x": [
          0.35815972089767456,
          0.34987932443618774,
          0.34587520360946655,
          0.3462029993534088,
          0.3467792272567749,
          0.3500896692276001,
          0.35620081424713135
         ],
         "y": [
          0.07495217025279999,
          0.05078267306089401,
          0.02870732545852661,
          0.01795777678489685,
          0.028728529810905457,
          0.05068191885948181,
          0.07383525371551514
         ]
        },
        {
         "line": {
          "dash": "2px,6px",
          "shape": "spline"
         },
         "marker": {
          "symbol": "star"
         },
         "name": "4",
         "type": "scatter",
         "uid": "12f7cca0-de91-4ae3-89a3-508cd64e2a3d",
         "x": [
          0.5028865337371826,
          0.5008136630058289,
          0.5031770467758179,
          0.5041292905807495,
          0.5024102926254272,
          0.5025585293769836,
          0.5029726028442383
         ],
         "y": [
          0.1184764951467514,
          0.08040570467710495,
          0.0526127815246582,
          0.03576436638832092,
          0.052795812487602234,
          0.08371487259864807,
          0.11694806814193726
         ]
        },
        {
         "line": {
          "dash": "2px,6px",
          "shape": "spline"
         },
         "marker": {
          "symbol": "star"
         },
         "name": "5",
         "type": "scatter",
         "uid": "d8b7a5ec-9e8b-4571-9e35-5dcf94a2511f",
         "x": [
          0.6379339694976807,
          0.6449084281921387,
          0.6541550159454346,
          0.6577920913696289,
          0.6530453562736511,
          0.647087574005127,
          0.6391211748123169
         ],
         "y": [
          0.15046678483486176,
          0.10863196104764938,
          0.08042353391647339,
          0.061184436082839966,
          0.08035199344158173,
          0.11313977837562561,
          0.14923471212387085
         ]
        },
        {
         "line": {
          "dash": "2px,6px",
          "shape": "spline"
         },
         "marker": {
          "symbol": "star"
         },
         "name": "6",
         "type": "scatter",
         "uid": "e548a886-73e1-4412-a395-7e50757f9cc6",
         "x": [
          0.7836453914642334,
          0.8040695786476135,
          0.8218969702720642,
          0.8312357664108276,
          0.8216546177864075,
          0.8055917620658875,
          0.7855923175811768
         ],
         "y": [
          0.17225061357021332,
          0.14181721210479736,
          0.11965543031692505,
          0.10315659642219543,
          0.1193045824766159,
          0.1446235477924347,
          0.1718023419380188
         ]
        },
        {
         "line": {
          "dash": "2px,6px",
          "shape": "spline"
         },
         "marker": {
          "symbol": "star"
         },
         "name": "7",
         "type": "scatter",
         "uid": "e0ada056-cdce-42fe-a841-1be522c34a01",
         "x": [
          0.8670512437820435,
          0.8965933322906494,
          0.9201470017433167,
          0.9337767362594604,
          0.9204964637756348,
          0.8975695371627808,
          0.8696401119232178
         ],
         "y": [
          0.1816474050283432,
          0.164831280708313,
          0.1486455798149109,
          0.13597145676612854,
          0.14845995604991913,
          0.16559436917304993,
          0.18154460191726685
         ]
        },
        {
         "line": {
          "dash": "2px,6px",
          "shape": "spline"
         },
         "marker": {
          "symbol": "star"
         },
         "name": "8",
         "type": "scatter",
         "uid": "0cb4bcf5-5045-4559-bf61-3cf4865df440",
         "x": [
          0.9561097621917725,
          0.9960640668869019,
          1.0267281532287598,
          1.0453022718429565,
          1.0272208452224731,
          0.9967817068099976,
          0.9599037170410156
         ],
         "y": [
          0.19901953637599945,
          0.20095336437225342,
          0.19264191389083862,
          0.18512240052223206,
          0.19310574233531952,
          0.19932106137275696,
          0.19888430833816528
         ]
        },
        {
         "line": {
          "shape": "spline"
         },
         "name": "9",
         "type": "scatter",
         "uid": "8f0d8ca1-05db-4eee-8a6c-7a37d96ca40c",
         "x": [
          0.04380255937576294,
          0.025168176740407944,
          0.016077712178230286,
          0.01874084770679474,
          0.014360783621668816,
          0.02275487780570984,
          0.04103858768939972
         ],
         "y": [
          0.02719520777463913,
          0.020167797803878784,
          0.013689853250980377,
          0.012030750513076782,
          0.009699583053588867,
          0.01919691264629364,
          0.026879334822297096
         ]
        },
        {
         "line": {
          "shape": "spline"
         },
         "name": "10",
         "type": "scatter",
         "uid": "38aa2478-c7ab-488b-b92f-f92fe6e0c7b1",
         "x": [
          0.16714075207710266,
          0.1475449502468109,
          0.1384720802307129,
          0.13959014415740967,
          0.13899417221546173,
          0.14715754985809326,
          0.16555634140968323
         ],
         "y": [
          0.042779408395290375,
          0.024992793798446655,
          0.011457465589046478,
          0.003135986626148224,
          0.009526021778583527,
          0.02491830289363861,
          0.04128105193376541
         ]
        },
        {
         "line": {
          "shape": "spline"
         },
         "name": "11",
         "type": "scatter",
         "uid": "5df966d2-c4a1-4dac-ae1c-1dcaa69a32b1",
         "x": [
          0.27695655822753906,
          0.2611694931983948,
          0.2555901110172272,
          0.25559407472610474,
          0.25644102692604065,
          0.2620812654495239,
          0.27651751041412354
         ],
         "y": [
          0.06787324696779251,
          0.04070854187011719,
          0.020920798182487488,
          0.0077314600348472595,
          0.020232904702425003,
          0.04138825833797455,
          0.0663687065243721
         ]
        },
        {
         "line": {
          "shape": "spline"
         },
         "name": "12",
         "type": "scatter",
         "uid": "e8aa6452-1d5d-4970-8449-bb196c0ef082",
         "x": [
          0.36431223154067993,
          0.3543252646923065,
          0.35234564542770386,
          0.3524928092956543,
          0.3530607223510742,
          0.35562577843666077,
          0.3648805022239685
         ],
         "y": [
          0.08851113170385361,
          0.0560278445482254,
          0.031962670385837555,
          0.016059257090091705,
          0.03158988058567047,
          0.05740264058113098,
          0.08719932287931442
         ]
        },
        {
         "line": {
          "shape": "spline"
         },
         "name": "13",
         "type": "scatter",
         "uid": "8f690e95-2414-4431-9983-db632d280da4",
         "x": [
          0.5021630525588989,
          0.5043293833732605,
          0.5096573829650879,
          0.5115381479263306,
          0.5094553232192993,
          0.5055670142173767,
          0.5040756464004517
         ],
         "y": [
          0.12207259982824326,
          0.08521980047225952,
          0.05676913633942604,
          0.03848790377378464,
          0.0560070276260376,
          0.08747763931751251,
          0.12130845338106155
         ]
        },
        {
         "line": {
          "shape": "spline"
         },
         "name": "14",
         "type": "scatter",
         "uid": "35bcf029-92c1-4e22-b606-3fa19a7280ba",
         "x": [
          0.6313880085945129,
          0.6457445025444031,
          0.6583091020584106,
          0.6632381081581116,
          0.6565132737159729,
          0.6462100744247437,
          0.6339697241783142
         ],
         "y": [
          0.15098771452903748,
          0.11566156148910522,
          0.08720314502716064,
          0.06958591192960739,
          0.08539021015167236,
          0.11836443841457367,
          0.15117724239826202
         ]
        },
        {
         "line": {
          "shape": "spline"
         },
         "name": "15",
         "type": "scatter",
         "uid": "013a1914-ee39-4b9a-ad5c-7633afaf3660",
         "x": [
          0.7725648880004883,
          0.8003517985343933,
          0.8207092881202698,
          0.8311811089515686,
          0.8169689178466797,
          0.7994855642318726,
          0.7752366065979004
         ],
         "y": [
          0.1816112995147705,
          0.15476375818252563,
          0.13317596912384033,
          0.11926581710577011,
          0.13065361976623535,
          0.15818898379802704,
          0.1832650899887085
         ]
        },
        {
         "line": {
          "shape": "spline"
         },
         "name": "16",
         "type": "scatter",
         "uid": "3dc9dce6-33c0-49a7-8437-e38b2355f500",
         "x": [
          0.8535856008529663,
          0.8891215324401855,
          0.913703978061676,
          0.9286736845970154,
          0.9091041684150696,
          0.8873621821403503,
          0.8560296297073364
         ],
         "y": [
          0.20120805501937866,
          0.18279120326042175,
          0.16924813389778137,
          0.1587560474872589,
          0.16705602407455444,
          0.18694831430912018,
          0.2038261890411377
         ]
        },
        {
         "line": {
          "shape": "spline"
         },
         "name": "17",
         "type": "scatter",
         "uid": "b56dd660-f7db-49d3-a03f-2c4b50752d95",
         "x": [
          0.9355433583259583,
          0.9787310361862183,
          1.0075337886810303,
          1.0282498598098755,
          1.0024582147598267,
          0.9760501980781555,
          0.9372919201850891
         ],
         "y": [
          0.2275608777999878,
          0.2203821837902069,
          0.21762330830097198,
          0.21087220311164856,
          0.2159464806318283,
          0.22529689967632294,
          0.23095035552978516
         ]
        }
       ],
       "layout": {
        "height": 600,
        "hovermode": "closest",
        "title": {
         "text": "Initial Curves"
        },
        "width": 600,
        "xaxis": {
         "range": [
          -0.4,
          1.2
         ],
         "title": {
          "text": "X"
         }
        },
        "yaxis": {
         "range": [
          -0.4,
          1.2
         ],
         "title": {
          "text": "Y"
         }
        }
       }
      },
      "text/html": [
       "<div id=\"8ef67151-5531-420c-901d-101e4514c4ba\" style=\"height: 600px; width: 600px;\" class=\"plotly-graph-div\"></div><script type=\"text/javascript\">require([\"plotly\"], function(Plotly) { window.PLOTLYENV=window.PLOTLYENV || {};window.PLOTLYENV.BASE_URL=\"https://plot.ly\";Plotly.newPlot(\"8ef67151-5531-420c-901d-101e4514c4ba\", [{\"line\": {\"dash\": \"2px,6px\", \"shape\": \"spline\"}, \"marker\": {\"symbol\": \"star\"}, \"name\": \"0\", \"x\": [-0.0008487105369567871, 0.004176422953605652, 0.003329738974571228, 0.002045542001724243, 0.003460913896560669, 0.0023359060287475586, -0.0008009672164916992], \"y\": [0.00034640729427337646, 0.0007475614547729492, -0.0015327930450439453, -0.001621246337890625, -0.002082228660583496, -0.00022298097610473633, 0.0011500716209411621], \"type\": \"scatter\", \"uid\": \"01ac1f5f-01f5-428a-947d-604ee2b506da\"}, {\"line\": {\"dash\": \"2px,6px\", \"shape\": \"spline\"}, \"marker\": {\"symbol\": \"star\"}, \"name\": \"1\", \"x\": [0.14864295721054077, 0.14346399903297424, 0.1403830498456955, 0.1398540437221527, 0.14041945338249207, 0.14337895810604095, 0.14711543917655945], \"y\": [0.02749425172805786, 0.01975836604833603, 0.007838904857635498, 0.0038776397705078125, 0.008784845471382141, 0.01867072284221649, 0.026619791984558105], \"type\": \"scatter\", \"uid\": \"df071ab8-b9a8-4ee1-ad21-769f3c290e00\"}, {\"line\": {\"dash\": \"2px,6px\", \"shape\": \"spline\"}, \"marker\": {\"symbol\": \"star\"}, \"name\": \"2\", \"x\": [0.266439288854599, 0.25752654671669006, 0.25269410014152527, 0.2526932656764984, 0.25354623794555664, 0.2574909031391144, 0.26416587829589844], \"y\": [0.05109076201915741, 0.03523274511098862, 0.017450690269470215, 0.010192513465881348, 0.01794363558292389, 0.03411176800727844, 0.05002188682556152], \"type\": \"scatter\", \"uid\": \"6e7c9cd3-02ff-4c8d-841b-f2db6ec5f310\"}, {\"line\": {\"dash\": \"2px,6px\", \"shape\": \"spline\"}, \"marker\": {\"symbol\": \"star\"}, \"name\": \"3\", \"x\": [0.35815972089767456, 0.34987932443618774, 0.34587520360946655, 0.3462029993534088, 0.3467792272567749, 0.3500896692276001, 0.35620081424713135], \"y\": [0.07495217025279999, 0.05078267306089401, 0.02870732545852661, 0.01795777678489685, 0.028728529810905457, 0.05068191885948181, 0.07383525371551514], \"type\": \"scatter\", \"uid\": \"100e96ad-089a-4806-a846-75c07900eaf1\"}, {\"line\": {\"dash\": \"2px,6px\", \"shape\": \"spline\"}, \"marker\": {\"symbol\": \"star\"}, \"name\": \"4\", \"x\": [0.5028865337371826, 0.5008136630058289, 0.5031770467758179, 0.5041292905807495, 0.5024102926254272, 0.5025585293769836, 0.5029726028442383], \"y\": [0.1184764951467514, 0.08040570467710495, 0.0526127815246582, 0.03576436638832092, 0.052795812487602234, 0.08371487259864807, 0.11694806814193726], \"type\": \"scatter\", \"uid\": \"12f7cca0-de91-4ae3-89a3-508cd64e2a3d\"}, {\"line\": {\"dash\": \"2px,6px\", \"shape\": \"spline\"}, \"marker\": {\"symbol\": \"star\"}, \"name\": \"5\", \"x\": [0.6379339694976807, 0.6449084281921387, 0.6541550159454346, 0.6577920913696289, 0.6530453562736511, 0.647087574005127, 0.6391211748123169], \"y\": [0.15046678483486176, 0.10863196104764938, 0.08042353391647339, 0.061184436082839966, 0.08035199344158173, 0.11313977837562561, 0.14923471212387085], \"type\": \"scatter\", \"uid\": \"d8b7a5ec-9e8b-4571-9e35-5dcf94a2511f\"}, {\"line\": {\"dash\": \"2px,6px\", \"shape\": \"spline\"}, \"marker\": {\"symbol\": \"star\"}, \"name\": \"6\", \"x\": [0.7836453914642334, 0.8040695786476135, 0.8218969702720642, 0.8312357664108276, 0.8216546177864075, 0.8055917620658875, 0.7855923175811768], \"y\": [0.17225061357021332, 0.14181721210479736, 0.11965543031692505, 0.10315659642219543, 0.1193045824766159, 0.1446235477924347, 0.1718023419380188], \"type\": \"scatter\", \"uid\": \"e548a886-73e1-4412-a395-7e50757f9cc6\"}, {\"line\": {\"dash\": \"2px,6px\", \"shape\": \"spline\"}, \"marker\": {\"symbol\": \"star\"}, \"name\": \"7\", \"x\": [0.8670512437820435, 0.8965933322906494, 0.9201470017433167, 0.9337767362594604, 0.9204964637756348, 0.8975695371627808, 0.8696401119232178], \"y\": [0.1816474050283432, 0.164831280708313, 0.1486455798149109, 0.13597145676612854, 0.14845995604991913, 0.16559436917304993, 0.18154460191726685], \"type\": \"scatter\", \"uid\": \"e0ada056-cdce-42fe-a841-1be522c34a01\"}, {\"line\": {\"dash\": \"2px,6px\", \"shape\": \"spline\"}, \"marker\": {\"symbol\": \"star\"}, \"name\": \"8\", \"x\": [0.9561097621917725, 0.9960640668869019, 1.0267281532287598, 1.0453022718429565, 1.0272208452224731, 0.9967817068099976, 0.9599037170410156], \"y\": [0.19901953637599945, 0.20095336437225342, 0.19264191389083862, 0.18512240052223206, 0.19310574233531952, 0.19932106137275696, 0.19888430833816528], \"type\": \"scatter\", \"uid\": \"0cb4bcf5-5045-4559-bf61-3cf4865df440\"}, {\"line\": {\"shape\": \"spline\"}, \"name\": \"9\", \"x\": [0.04380255937576294, 0.025168176740407944, 0.016077712178230286, 0.01874084770679474, 0.014360783621668816, 0.02275487780570984, 0.04103858768939972], \"y\": [0.02719520777463913, 0.020167797803878784, 0.013689853250980377, 0.012030750513076782, 0.009699583053588867, 0.01919691264629364, 0.026879334822297096], \"type\": \"scatter\", \"uid\": \"8f0d8ca1-05db-4eee-8a6c-7a37d96ca40c\"}, {\"line\": {\"shape\": \"spline\"}, \"name\": \"10\", \"x\": [0.16714075207710266, 0.1475449502468109, 0.1384720802307129, 0.13959014415740967, 0.13899417221546173, 0.14715754985809326, 0.16555634140968323], \"y\": [0.042779408395290375, 0.024992793798446655, 0.011457465589046478, 0.003135986626148224, 0.009526021778583527, 0.02491830289363861, 0.04128105193376541], \"type\": \"scatter\", \"uid\": \"38aa2478-c7ab-488b-b92f-f92fe6e0c7b1\"}, {\"line\": {\"shape\": \"spline\"}, \"name\": \"11\", \"x\": [0.27695655822753906, 0.2611694931983948, 0.2555901110172272, 0.25559407472610474, 0.25644102692604065, 0.2620812654495239, 0.27651751041412354], \"y\": [0.06787324696779251, 0.04070854187011719, 0.020920798182487488, 0.0077314600348472595, 0.020232904702425003, 0.04138825833797455, 0.0663687065243721], \"type\": \"scatter\", \"uid\": \"5df966d2-c4a1-4dac-ae1c-1dcaa69a32b1\"}, {\"line\": {\"shape\": \"spline\"}, \"name\": \"12\", \"x\": [0.36431223154067993, 0.3543252646923065, 0.35234564542770386, 0.3524928092956543, 0.3530607223510742, 0.35562577843666077, 0.3648805022239685], \"y\": [0.08851113170385361, 0.0560278445482254, 0.031962670385837555, 0.016059257090091705, 0.03158988058567047, 0.05740264058113098, 0.08719932287931442], \"type\": \"scatter\", \"uid\": \"e8aa6452-1d5d-4970-8449-bb196c0ef082\"}, {\"line\": {\"shape\": \"spline\"}, \"name\": \"13\", \"x\": [0.5021630525588989, 0.5043293833732605, 0.5096573829650879, 0.5115381479263306, 0.5094553232192993, 0.5055670142173767, 0.5040756464004517], \"y\": [0.12207259982824326, 0.08521980047225952, 0.05676913633942604, 0.03848790377378464, 0.0560070276260376, 0.08747763931751251, 0.12130845338106155], \"type\": \"scatter\", \"uid\": \"8f690e95-2414-4431-9983-db632d280da4\"}, {\"line\": {\"shape\": \"spline\"}, \"name\": \"14\", \"x\": [0.6313880085945129, 0.6457445025444031, 0.6583091020584106, 0.6632381081581116, 0.6565132737159729, 0.6462100744247437, 0.6339697241783142], \"y\": [0.15098771452903748, 0.11566156148910522, 0.08720314502716064, 0.06958591192960739, 0.08539021015167236, 0.11836443841457367, 0.15117724239826202], \"type\": \"scatter\", \"uid\": \"35bcf029-92c1-4e22-b606-3fa19a7280ba\"}, {\"line\": {\"shape\": \"spline\"}, \"name\": \"15\", \"x\": [0.7725648880004883, 0.8003517985343933, 0.8207092881202698, 0.8311811089515686, 0.8169689178466797, 0.7994855642318726, 0.7752366065979004], \"y\": [0.1816112995147705, 0.15476375818252563, 0.13317596912384033, 0.11926581710577011, 0.13065361976623535, 0.15818898379802704, 0.1832650899887085], \"type\": \"scatter\", \"uid\": \"013a1914-ee39-4b9a-ad5c-7633afaf3660\"}, {\"line\": {\"shape\": \"spline\"}, \"name\": \"16\", \"x\": [0.8535856008529663, 0.8891215324401855, 0.913703978061676, 0.9286736845970154, 0.9091041684150696, 0.8873621821403503, 0.8560296297073364], \"y\": [0.20120805501937866, 0.18279120326042175, 0.16924813389778137, 0.1587560474872589, 0.16705602407455444, 0.18694831430912018, 0.2038261890411377], \"type\": \"scatter\", \"uid\": \"3dc9dce6-33c0-49a7-8437-e38b2355f500\"}, {\"line\": {\"shape\": \"spline\"}, \"name\": \"17\", \"x\": [0.9355433583259583, 0.9787310361862183, 1.0075337886810303, 1.0282498598098755, 1.0024582147598267, 0.9760501980781555, 0.9372919201850891], \"y\": [0.2275608777999878, 0.2203821837902069, 0.21762330830097198, 0.21087220311164856, 0.2159464806318283, 0.22529689967632294, 0.23095035552978516], \"type\": \"scatter\", \"uid\": \"b56dd660-f7db-49d3-a03f-2c4b50752d95\"}], {\"height\": 600, \"hovermode\": \"closest\", \"title\": {\"text\": \"Initial Curves\"}, \"width\": 600, \"xaxis\": {\"range\": [-0.4, 1.2], \"title\": {\"text\": \"X\"}}, \"yaxis\": {\"range\": [-0.4, 1.2], \"title\": {\"text\": \"Y\"}}}, {\"showLink\": false, \"linkText\": \"Export to plot.ly\", \"plotlyServerURL\": \"https://plot.ly\"})});</script>"
      ],
      "text/vnd.plotly.v1+html": [
       "<div id=\"8ef67151-5531-420c-901d-101e4514c4ba\" style=\"height: 600px; width: 600px;\" class=\"plotly-graph-div\"></div><script type=\"text/javascript\">require([\"plotly\"], function(Plotly) { window.PLOTLYENV=window.PLOTLYENV || {};window.PLOTLYENV.BASE_URL=\"https://plot.ly\";Plotly.newPlot(\"8ef67151-5531-420c-901d-101e4514c4ba\", [{\"line\": {\"dash\": \"2px,6px\", \"shape\": \"spline\"}, \"marker\": {\"symbol\": \"star\"}, \"name\": \"0\", \"x\": [-0.0008487105369567871, 0.004176422953605652, 0.003329738974571228, 0.002045542001724243, 0.003460913896560669, 0.0023359060287475586, -0.0008009672164916992], \"y\": [0.00034640729427337646, 0.0007475614547729492, -0.0015327930450439453, -0.001621246337890625, -0.002082228660583496, -0.00022298097610473633, 0.0011500716209411621], \"type\": \"scatter\", \"uid\": \"01ac1f5f-01f5-428a-947d-604ee2b506da\"}, {\"line\": {\"dash\": \"2px,6px\", \"shape\": \"spline\"}, \"marker\": {\"symbol\": \"star\"}, \"name\": \"1\", \"x\": [0.14864295721054077, 0.14346399903297424, 0.1403830498456955, 0.1398540437221527, 0.14041945338249207, 0.14337895810604095, 0.14711543917655945], \"y\": [0.02749425172805786, 0.01975836604833603, 0.007838904857635498, 0.0038776397705078125, 0.008784845471382141, 0.01867072284221649, 0.026619791984558105], \"type\": \"scatter\", \"uid\": \"df071ab8-b9a8-4ee1-ad21-769f3c290e00\"}, {\"line\": {\"dash\": \"2px,6px\", \"shape\": \"spline\"}, \"marker\": {\"symbol\": \"star\"}, \"name\": \"2\", \"x\": [0.266439288854599, 0.25752654671669006, 0.25269410014152527, 0.2526932656764984, 0.25354623794555664, 0.2574909031391144, 0.26416587829589844], \"y\": [0.05109076201915741, 0.03523274511098862, 0.017450690269470215, 0.010192513465881348, 0.01794363558292389, 0.03411176800727844, 0.05002188682556152], \"type\": \"scatter\", \"uid\": \"6e7c9cd3-02ff-4c8d-841b-f2db6ec5f310\"}, {\"line\": {\"dash\": \"2px,6px\", \"shape\": \"spline\"}, \"marker\": {\"symbol\": \"star\"}, \"name\": \"3\", \"x\": [0.35815972089767456, 0.34987932443618774, 0.34587520360946655, 0.3462029993534088, 0.3467792272567749, 0.3500896692276001, 0.35620081424713135], \"y\": [0.07495217025279999, 0.05078267306089401, 0.02870732545852661, 0.01795777678489685, 0.028728529810905457, 0.05068191885948181, 0.07383525371551514], \"type\": \"scatter\", \"uid\": \"100e96ad-089a-4806-a846-75c07900eaf1\"}, {\"line\": {\"dash\": \"2px,6px\", \"shape\": \"spline\"}, \"marker\": {\"symbol\": \"star\"}, \"name\": \"4\", \"x\": [0.5028865337371826, 0.5008136630058289, 0.5031770467758179, 0.5041292905807495, 0.5024102926254272, 0.5025585293769836, 0.5029726028442383], \"y\": [0.1184764951467514, 0.08040570467710495, 0.0526127815246582, 0.03576436638832092, 0.052795812487602234, 0.08371487259864807, 0.11694806814193726], \"type\": \"scatter\", \"uid\": \"12f7cca0-de91-4ae3-89a3-508cd64e2a3d\"}, {\"line\": {\"dash\": \"2px,6px\", \"shape\": \"spline\"}, \"marker\": {\"symbol\": \"star\"}, \"name\": \"5\", \"x\": [0.6379339694976807, 0.6449084281921387, 0.6541550159454346, 0.6577920913696289, 0.6530453562736511, 0.647087574005127, 0.6391211748123169], \"y\": [0.15046678483486176, 0.10863196104764938, 0.08042353391647339, 0.061184436082839966, 0.08035199344158173, 0.11313977837562561, 0.14923471212387085], \"type\": \"scatter\", \"uid\": \"d8b7a5ec-9e8b-4571-9e35-5dcf94a2511f\"}, {\"line\": {\"dash\": \"2px,6px\", \"shape\": \"spline\"}, \"marker\": {\"symbol\": \"star\"}, \"name\": \"6\", \"x\": [0.7836453914642334, 0.8040695786476135, 0.8218969702720642, 0.8312357664108276, 0.8216546177864075, 0.8055917620658875, 0.7855923175811768], \"y\": [0.17225061357021332, 0.14181721210479736, 0.11965543031692505, 0.10315659642219543, 0.1193045824766159, 0.1446235477924347, 0.1718023419380188], \"type\": \"scatter\", \"uid\": \"e548a886-73e1-4412-a395-7e50757f9cc6\"}, {\"line\": {\"dash\": \"2px,6px\", \"shape\": \"spline\"}, \"marker\": {\"symbol\": \"star\"}, \"name\": \"7\", \"x\": [0.8670512437820435, 0.8965933322906494, 0.9201470017433167, 0.9337767362594604, 0.9204964637756348, 0.8975695371627808, 0.8696401119232178], \"y\": [0.1816474050283432, 0.164831280708313, 0.1486455798149109, 0.13597145676612854, 0.14845995604991913, 0.16559436917304993, 0.18154460191726685], \"type\": \"scatter\", \"uid\": \"e0ada056-cdce-42fe-a841-1be522c34a01\"}, {\"line\": {\"dash\": \"2px,6px\", \"shape\": \"spline\"}, \"marker\": {\"symbol\": \"star\"}, \"name\": \"8\", \"x\": [0.9561097621917725, 0.9960640668869019, 1.0267281532287598, 1.0453022718429565, 1.0272208452224731, 0.9967817068099976, 0.9599037170410156], \"y\": [0.19901953637599945, 0.20095336437225342, 0.19264191389083862, 0.18512240052223206, 0.19310574233531952, 0.19932106137275696, 0.19888430833816528], \"type\": \"scatter\", \"uid\": \"0cb4bcf5-5045-4559-bf61-3cf4865df440\"}, {\"line\": {\"shape\": \"spline\"}, \"name\": \"9\", \"x\": [0.04380255937576294, 0.025168176740407944, 0.016077712178230286, 0.01874084770679474, 0.014360783621668816, 0.02275487780570984, 0.04103858768939972], \"y\": [0.02719520777463913, 0.020167797803878784, 0.013689853250980377, 0.012030750513076782, 0.009699583053588867, 0.01919691264629364, 0.026879334822297096], \"type\": \"scatter\", \"uid\": \"8f0d8ca1-05db-4eee-8a6c-7a37d96ca40c\"}, {\"line\": {\"shape\": \"spline\"}, \"name\": \"10\", \"x\": [0.16714075207710266, 0.1475449502468109, 0.1384720802307129, 0.13959014415740967, 0.13899417221546173, 0.14715754985809326, 0.16555634140968323], \"y\": [0.042779408395290375, 0.024992793798446655, 0.011457465589046478, 0.003135986626148224, 0.009526021778583527, 0.02491830289363861, 0.04128105193376541], \"type\": \"scatter\", \"uid\": \"38aa2478-c7ab-488b-b92f-f92fe6e0c7b1\"}, {\"line\": {\"shape\": \"spline\"}, \"name\": \"11\", \"x\": [0.27695655822753906, 0.2611694931983948, 0.2555901110172272, 0.25559407472610474, 0.25644102692604065, 0.2620812654495239, 0.27651751041412354], \"y\": [0.06787324696779251, 0.04070854187011719, 0.020920798182487488, 0.0077314600348472595, 0.020232904702425003, 0.04138825833797455, 0.0663687065243721], \"type\": \"scatter\", \"uid\": \"5df966d2-c4a1-4dac-ae1c-1dcaa69a32b1\"}, {\"line\": {\"shape\": \"spline\"}, \"name\": \"12\", \"x\": [0.36431223154067993, 0.3543252646923065, 0.35234564542770386, 0.3524928092956543, 0.3530607223510742, 0.35562577843666077, 0.3648805022239685], \"y\": [0.08851113170385361, 0.0560278445482254, 0.031962670385837555, 0.016059257090091705, 0.03158988058567047, 0.05740264058113098, 0.08719932287931442], \"type\": \"scatter\", \"uid\": \"e8aa6452-1d5d-4970-8449-bb196c0ef082\"}, {\"line\": {\"shape\": \"spline\"}, \"name\": \"13\", \"x\": [0.5021630525588989, 0.5043293833732605, 0.5096573829650879, 0.5115381479263306, 0.5094553232192993, 0.5055670142173767, 0.5040756464004517], \"y\": [0.12207259982824326, 0.08521980047225952, 0.05676913633942604, 0.03848790377378464, 0.0560070276260376, 0.08747763931751251, 0.12130845338106155], \"type\": \"scatter\", \"uid\": \"8f690e95-2414-4431-9983-db632d280da4\"}, {\"line\": {\"shape\": \"spline\"}, \"name\": \"14\", \"x\": [0.6313880085945129, 0.6457445025444031, 0.6583091020584106, 0.6632381081581116, 0.6565132737159729, 0.6462100744247437, 0.6339697241783142], \"y\": [0.15098771452903748, 0.11566156148910522, 0.08720314502716064, 0.06958591192960739, 0.08539021015167236, 0.11836443841457367, 0.15117724239826202], \"type\": \"scatter\", \"uid\": \"35bcf029-92c1-4e22-b606-3fa19a7280ba\"}, {\"line\": {\"shape\": \"spline\"}, \"name\": \"15\", \"x\": [0.7725648880004883, 0.8003517985343933, 0.8207092881202698, 0.8311811089515686, 0.8169689178466797, 0.7994855642318726, 0.7752366065979004], \"y\": [0.1816112995147705, 0.15476375818252563, 0.13317596912384033, 0.11926581710577011, 0.13065361976623535, 0.15818898379802704, 0.1832650899887085], \"type\": \"scatter\", \"uid\": \"013a1914-ee39-4b9a-ad5c-7633afaf3660\"}, {\"line\": {\"shape\": \"spline\"}, \"name\": \"16\", \"x\": [0.8535856008529663, 0.8891215324401855, 0.913703978061676, 0.9286736845970154, 0.9091041684150696, 0.8873621821403503, 0.8560296297073364], \"y\": [0.20120805501937866, 0.18279120326042175, 0.16924813389778137, 0.1587560474872589, 0.16705602407455444, 0.18694831430912018, 0.2038261890411377], \"type\": \"scatter\", \"uid\": \"3dc9dce6-33c0-49a7-8437-e38b2355f500\"}, {\"line\": {\"shape\": \"spline\"}, \"name\": \"17\", \"x\": [0.9355433583259583, 0.9787310361862183, 1.0075337886810303, 1.0282498598098755, 1.0024582147598267, 0.9760501980781555, 0.9372919201850891], \"y\": [0.2275608777999878, 0.2203821837902069, 0.21762330830097198, 0.21087220311164856, 0.2159464806318283, 0.22529689967632294, 0.23095035552978516], \"type\": \"scatter\", \"uid\": \"b56dd660-f7db-49d3-a03f-2c4b50752d95\"}], {\"height\": 600, \"hovermode\": \"closest\", \"title\": {\"text\": \"Initial Curves\"}, \"width\": 600, \"xaxis\": {\"range\": [-0.4, 1.2], \"title\": {\"text\": \"X\"}}, \"yaxis\": {\"range\": [-0.4, 1.2], \"title\": {\"text\": \"Y\"}}}, {\"showLink\": false, \"linkText\": \"Export to plot.ly\", \"plotlyServerURL\": \"https://plot.ly\"})});</script>"
      ]
     },
     "metadata": {},
     "output_type": "display_data"
    }
   ],
   "source": [
    "\n",
    "i = 5\n",
    "p0 = phTout0.data.numpy()[i]\n",
    "p1 = phTout1.data.numpy()[i]\n",
    "\n",
    "p01_0 = phCout0.data.numpy()[i]\n",
    "p01_1 = phCout1.data.numpy()[i]\n",
    "\n",
    "# nx = np.concatenate((p0,p01_0))\n",
    "nx = np.concatenate((p1,p01_1))\n",
    "\n",
    "gx = gy.FormatNetworkToGraphColumns(nx, xOffset=0, yOffset=14, colPoints=7)\n",
    "\n",
    "layout = go.Layout(\n",
    "    title = 'Initial Curves',\n",
    "    height = 600,\n",
    "    width = 600,\n",
    "    hovermode= 'closest',\n",
    "    xaxis= dict(\n",
    "        title= 'X',\n",
    "        range = [-.4,1.2],\n",
    "    ),\n",
    "    yaxis=dict(\n",
    "        title= 'Y',\n",
    "        range = [-.4,1.2],\n",
    "    )\n",
    ")\n",
    "f = gy.graphCurves(gx, layout, dashRange=range(0,9))\n",
    "offline.iplot(f)\n"
   ]
  },
  {
   "cell_type": "code",
   "execution_count": 19,
   "metadata": {},
   "outputs": [
    {
     "data": {
      "application/vnd.plotly.v1+json": {
       "config": {
        "linkText": "Export to plot.ly",
        "plotlyServerURL": "https://plot.ly",
        "showLink": false
       },
       "data": [
        {
         "line": {
          "dash": "2px,6px",
          "shape": "spline"
         },
         "marker": {
          "symbol": "star"
         },
         "name": "0",
         "type": "scatter",
         "uid": "7b1201fe-efaf-4c95-b302-b485cc2fc582",
         "x": [
          0.00924009084701538,
          0.009746193885803223,
          0.010054625570774078,
          0.009828180074691772,
          0.01072835922241211,
          0.008776657283306122,
          0.009009920060634613
         ],
         "y": [
          -0.051709532737731934,
          -0.03137695789337158,
          -0.014062047004699707,
          3.618001937866211e-05,
          0.013416916131973267,
          0.029561154544353485,
          0.054504185914993286
         ]
        },
        {
         "line": {
          "dash": "2px,6px",
          "shape": "spline"
         },
         "marker": {
          "symbol": "star"
         },
         "name": "1",
         "type": "scatter",
         "uid": "7d889f27-e07f-4711-a2b7-f12a1a22e560",
         "x": [
          0.1502506136894226,
          0.13121746480464935,
          0.12616999447345734,
          0.12192922830581665,
          0.12519830465316772,
          0.13254712522029877,
          0.15188318490982056
         ],
         "y": [
          -0.09083247184753418,
          -0.05187106132507324,
          -0.024411380290985107,
          0.00015370920300483704,
          0.024526968598365784,
          0.05457407981157303,
          0.08943147957324982
         ]
        },
        {
         "line": {
          "dash": "2px,6px",
          "shape": "spline"
         },
         "marker": {
          "symbol": "star"
         },
         "name": "2",
         "type": "scatter",
         "uid": "5ce71b19-6991-446d-aa22-b6e0972f88fa",
         "x": [
          0.26229366660118103,
          0.2324007749557495,
          0.22170570492744446,
          0.21541878581047058,
          0.22160807251930237,
          0.2334282398223877,
          0.2636001408100128
         ],
         "y": [
          -0.12067747116088867,
          -0.06761646270751953,
          -0.03338354825973511,
          0.00011090189218521118,
          0.03387299180030823,
          0.07523638755083084,
          0.11650829017162323
         ]
        },
        {
         "line": {
          "dash": "2px,6px",
          "shape": "spline"
         },
         "marker": {
          "symbol": "star"
         },
         "name": "3",
         "type": "scatter",
         "uid": "a30689ea-f6d1-47c6-bac1-cb15648fd5d4",
         "x": [
          0.3519163131713867,
          0.31835639476776123,
          0.30387789011001587,
          0.2972675859928131,
          0.30551260709762573,
          0.318198025226593,
          0.3512578010559082
         ],
         "y": [
          -0.14296090602874756,
          -0.08047527074813843,
          -0.0411839485168457,
          2.8427690267562866e-05,
          0.04167415201663971,
          0.09194911271333694,
          0.13791798055171967
         ]
        },
        {
         "line": {
          "dash": "2px,6px",
          "shape": "spline"
         },
         "marker": {
          "symbol": "star"
         },
         "name": "4",
         "type": "scatter",
         "uid": "69db9fe7-b512-47dc-a841-abe3d8c1f92b",
         "x": [
          0.48037365078926086,
          0.45154717564582825,
          0.43996793031692505,
          0.4332126975059509,
          0.4410070776939392,
          0.45192086696624756,
          0.47905004024505615
         ],
         "y": [
          -0.16403865814208984,
          -0.09395653009414673,
          -0.04912424087524414,
          5.853921175003052e-05,
          0.05002501606941223,
          0.10769752413034439,
          0.16073335707187653
         ]
        },
        {
         "line": {
          "dash": "2px,6px",
          "shape": "spline"
         },
         "marker": {
          "symbol": "star"
         },
         "name": "5",
         "type": "scatter",
         "uid": "e65df5f6-3353-40ae-8076-1075362bb982",
         "x": [
          0.592829167842865,
          0.5760056376457214,
          0.5705606341362,
          0.566125750541687,
          0.5713480114936829,
          0.5765249729156494,
          0.591170072555542
         ],
         "y": [
          -0.1697494387626648,
          -0.09933829307556152,
          -0.05285829305648804,
          4.860386252403259e-05,
          0.053718313574790955,
          0.11304152756929398,
          0.16828490793704987
         ]
        },
        {
         "line": {
          "dash": "2px,6px",
          "shape": "spline"
         },
         "marker": {
          "symbol": "star"
         },
         "name": "6",
         "type": "scatter",
         "uid": "7f91bdb8-bb2d-4068-b20b-74bf0d376606",
         "x": [
          0.7144467234611511,
          0.7168309688568115,
          0.7200656533241272,
          0.7220075130462646,
          0.7218546271324158,
          0.7165209054946899,
          0.7122856974601746
         ],
         "y": [
          -0.1596202850341797,
          -0.09788811206817627,
          -0.052854180335998535,
          -9.179115295410156e-06,
          0.05252693593502045,
          0.10898379236459732,
          0.15986575186252594
         ]
        },
        {
         "line": {
          "dash": "2px,6px",
          "shape": "spline"
         },
         "marker": {
          "symbol": "star"
         },
         "name": "7",
         "type": "scatter",
         "uid": "9ab2e510-e14a-449b-9961-ad712d30b56e",
         "x": [
          0.786978006362915,
          0.8029369711875916,
          0.8128569722175598,
          0.8200896978378296,
          0.8151714205741882,
          0.8022447824478149,
          0.7850273251533508
         ],
         "y": [
          -0.1456911563873291,
          -0.09398096799850464,
          -0.050670087337493896,
          -1.8656253814697266e-05,
          0.049051523208618164,
          0.10182023793458939,
          0.14744378626346588
         ]
        },
        {
         "line": {
          "dash": "2px,6px",
          "shape": "spline"
         },
         "marker": {
          "symbol": "star"
         },
         "name": "8",
         "type": "scatter",
         "uid": "20012fbd-1fa1-4a31-951d-592f0611e039",
         "x": [
          0.8739941120147705,
          0.9072597622871399,
          0.9264410138130188,
          0.9408588409423828,
          0.929012656211853,
          0.9064587354660034,
          0.8728787899017334
         ],
         "y": [
          -0.122749924659729,
          -0.0871572494506836,
          -0.04627060890197754,
          1.2721866369247437e-05,
          0.04270879924297333,
          0.08967293053865433,
          0.12730564177036285
         ]
        },
        {
         "line": {
          "shape": "spline"
         },
         "name": "9",
         "type": "scatter",
         "uid": "e6db9228-43ab-4b13-a6b7-6dc60afd74ed",
         "x": [
          0.05362984910607338,
          0.03235894814133644,
          0.020524799823760986,
          0.022065624594688416,
          0.02002127282321453,
          0.0302620530128479,
          0.0510815754532814
         ],
         "y": [
          -0.05804288387298584,
          -0.03097999095916748,
          -0.012326657772064209,
          -0.0007824301719665527,
          0.010746553540229797,
          0.03512510657310486,
          0.053601909428834915
         ]
        },
        {
         "line": {
          "shape": "spline"
         },
         "name": "10",
         "type": "scatter",
         "uid": "fa257525-4293-43f3-8c6e-c09d9c0a3586",
         "x": [
          0.17596453428268433,
          0.1413528025150299,
          0.12206147611141205,
          0.11751321703195572,
          0.12182983011007309,
          0.14169663190841675,
          0.17429886758327484
         ],
         "y": [
          -0.0943421721458435,
          -0.04927670955657959,
          -0.019120335578918457,
          -0.00032126903533935547,
          0.019501157104969025,
          0.051643796265125275,
          0.08726337552070618
         ]
        },
        {
         "line": {
          "shape": "spline"
         },
         "name": "11",
         "type": "scatter",
         "uid": "1ff120fe-3974-4c6e-8226-c951586da37c",
         "x": [
          0.2732231914997101,
          0.237803652882576,
          0.21842435002326965,
          0.21040792763233185,
          0.21695749461650848,
          0.2394232153892517,
          0.2728036642074585
         ],
         "y": [
          -0.1332319974899292,
          -0.07416015863418579,
          -0.031320035457611084,
          0.0003347955644130707,
          0.032579854130744934,
          0.07481730729341507,
          0.12410633265972137
         ]
        },
        {
         "line": {
          "shape": "spline"
         },
         "name": "12",
         "type": "scatter",
         "uid": "7c1c32a6-7890-4746-8163-99020e33fcf3",
         "x": [
          0.35293176770210266,
          0.3214491307735443,
          0.3047993779182434,
          0.2957170605659485,
          0.30294477939605713,
          0.32327327132225037,
          0.3530157208442688
         ],
         "y": [
          -0.16171270608901978,
          -0.09458327293395996,
          -0.042890310287475586,
          0.0004975851625204086,
          0.04347193241119385,
          0.09497720748186111,
          0.1531817615032196
         ]
        },
        {
         "line": {
          "shape": "spline"
         },
         "name": "13",
         "type": "scatter",
         "uid": "1826487b-3789-4ea7-b66b-a5c9ed00aea1",
         "x": [
          0.47397273778915405,
          0.4524737596511841,
          0.4435914158821106,
          0.43607500195503235,
          0.44199422001838684,
          0.45419391989707947,
          0.47394171357154846
         ],
         "y": [
          -0.18699020147323608,
          -0.11571967601776123,
          -0.05601680278778076,
          0.00021283049136400223,
          0.055003054440021515,
          0.11675510555505753,
          0.1825120449066162
         ]
        },
        {
         "line": {
          "shape": "spline"
         },
         "name": "14",
         "type": "scatter",
         "uid": "0c3df3e5-d455-4fb0-9216-de0ac146e595",
         "x": [
          0.5824503898620605,
          0.571743905544281,
          0.5729504227638245,
          0.5714937448501587,
          0.5732109546661377,
          0.5739610195159912,
          0.5809301137924194
         ],
         "y": [
          -0.1930469274520874,
          -0.12490397691726685,
          -0.06168729066848755,
          -0.0009282231330871582,
          0.0597304105758667,
          0.1255207359790802,
          0.19405433535575867
         ]
        },
        {
         "line": {
          "shape": "spline"
         },
         "name": "15",
         "type": "scatter",
         "uid": "e3073c87-bf0d-497c-b8b6-5788172d5700",
         "x": [
          0.7005870938301086,
          0.7045300602912903,
          0.7159571051597595,
          0.7230807542800903,
          0.7209910750389099,
          0.7088422179222107,
          0.6949172019958496
         ],
         "y": [
          -0.1810930371284485,
          -0.12495023012161255,
          -0.05834949016571045,
          -0.000664830207824707,
          0.05833329260349274,
          0.11756084114313126,
          0.18755017220973969
         ]
        },
        {
         "line": {
          "shape": "spline"
         },
         "name": "16",
         "type": "scatter",
         "uid": "561ee109-a32a-44ba-b5d3-3b69be02aa0c",
         "x": [
          0.7681149840354919,
          0.7816075682640076,
          0.7980982065200806,
          0.8102455735206604,
          0.8065215349197388,
          0.7875497341156006,
          0.759352445602417
         ],
         "y": [
          -0.16830074787139893,
          -0.12207907438278198,
          -0.05306810140609741,
          0.0005060071125626564,
          0.05530206859111786,
          0.10683489590883255,
          0.17681986093521118
         ]
        },
        {
         "line": {
          "shape": "spline"
         },
         "name": "17",
         "type": "scatter",
         "uid": "29bf8e62-62c4-4e3d-af12-af8775de3694",
         "x": [
          0.844301700592041,
          0.869692862033844,
          0.8911948800086975,
          0.909222424030304,
          0.903731644153595,
          0.8774579763412476,
          0.8322988152503967
         ],
         "y": [
          -0.15135765075683594,
          -0.11757171154022217,
          -0.04574131965637207,
          0.00258819293230772,
          0.05054943263530731,
          0.09221308678388596,
          0.16111773252487183
         ]
        }
       ],
       "layout": {
        "height": 600,
        "hovermode": "closest",
        "title": {
         "text": "Initial Curves"
        },
        "width": 600,
        "xaxis": {
         "range": [
          -0.3,
          1.1
         ],
         "title": {
          "text": "X"
         }
        },
        "yaxis": {
         "range": [
          -0.2,
          0.2
         ],
         "title": {
          "text": "Y"
         }
        }
       }
      },
      "text/html": [
       "<div id=\"fa503f57-9d42-493f-b59d-6995d5320bd3\" style=\"height: 600px; width: 600px;\" class=\"plotly-graph-div\"></div><script type=\"text/javascript\">require([\"plotly\"], function(Plotly) { window.PLOTLYENV=window.PLOTLYENV || {};window.PLOTLYENV.BASE_URL=\"https://plot.ly\";Plotly.newPlot(\"fa503f57-9d42-493f-b59d-6995d5320bd3\", [{\"line\": {\"dash\": \"2px,6px\", \"shape\": \"spline\"}, \"marker\": {\"symbol\": \"star\"}, \"name\": \"0\", \"x\": [0.00924009084701538, 0.009746193885803223, 0.010054625570774078, 0.009828180074691772, 0.01072835922241211, 0.008776657283306122, 0.009009920060634613], \"y\": [-0.051709532737731934, -0.03137695789337158, -0.014062047004699707, 3.618001937866211e-05, 0.013416916131973267, 0.029561154544353485, 0.054504185914993286], \"type\": \"scatter\", \"uid\": \"7b1201fe-efaf-4c95-b302-b485cc2fc582\"}, {\"line\": {\"dash\": \"2px,6px\", \"shape\": \"spline\"}, \"marker\": {\"symbol\": \"star\"}, \"name\": \"1\", \"x\": [0.1502506136894226, 0.13121746480464935, 0.12616999447345734, 0.12192922830581665, 0.12519830465316772, 0.13254712522029877, 0.15188318490982056], \"y\": [-0.09083247184753418, -0.05187106132507324, -0.024411380290985107, 0.00015370920300483704, 0.024526968598365784, 0.05457407981157303, 0.08943147957324982], \"type\": \"scatter\", \"uid\": \"7d889f27-e07f-4711-a2b7-f12a1a22e560\"}, {\"line\": {\"dash\": \"2px,6px\", \"shape\": \"spline\"}, \"marker\": {\"symbol\": \"star\"}, \"name\": \"2\", \"x\": [0.26229366660118103, 0.2324007749557495, 0.22170570492744446, 0.21541878581047058, 0.22160807251930237, 0.2334282398223877, 0.2636001408100128], \"y\": [-0.12067747116088867, -0.06761646270751953, -0.03338354825973511, 0.00011090189218521118, 0.03387299180030823, 0.07523638755083084, 0.11650829017162323], \"type\": \"scatter\", \"uid\": \"5ce71b19-6991-446d-aa22-b6e0972f88fa\"}, {\"line\": {\"dash\": \"2px,6px\", \"shape\": \"spline\"}, \"marker\": {\"symbol\": \"star\"}, \"name\": \"3\", \"x\": [0.3519163131713867, 0.31835639476776123, 0.30387789011001587, 0.2972675859928131, 0.30551260709762573, 0.318198025226593, 0.3512578010559082], \"y\": [-0.14296090602874756, -0.08047527074813843, -0.0411839485168457, 2.8427690267562866e-05, 0.04167415201663971, 0.09194911271333694, 0.13791798055171967], \"type\": \"scatter\", \"uid\": \"a30689ea-f6d1-47c6-bac1-cb15648fd5d4\"}, {\"line\": {\"dash\": \"2px,6px\", \"shape\": \"spline\"}, \"marker\": {\"symbol\": \"star\"}, \"name\": \"4\", \"x\": [0.48037365078926086, 0.45154717564582825, 0.43996793031692505, 0.4332126975059509, 0.4410070776939392, 0.45192086696624756, 0.47905004024505615], \"y\": [-0.16403865814208984, -0.09395653009414673, -0.04912424087524414, 5.853921175003052e-05, 0.05002501606941223, 0.10769752413034439, 0.16073335707187653], \"type\": \"scatter\", \"uid\": \"69db9fe7-b512-47dc-a841-abe3d8c1f92b\"}, {\"line\": {\"dash\": \"2px,6px\", \"shape\": \"spline\"}, \"marker\": {\"symbol\": \"star\"}, \"name\": \"5\", \"x\": [0.592829167842865, 0.5760056376457214, 0.5705606341362, 0.566125750541687, 0.5713480114936829, 0.5765249729156494, 0.591170072555542], \"y\": [-0.1697494387626648, -0.09933829307556152, -0.05285829305648804, 4.860386252403259e-05, 0.053718313574790955, 0.11304152756929398, 0.16828490793704987], \"type\": \"scatter\", \"uid\": \"e65df5f6-3353-40ae-8076-1075362bb982\"}, {\"line\": {\"dash\": \"2px,6px\", \"shape\": \"spline\"}, \"marker\": {\"symbol\": \"star\"}, \"name\": \"6\", \"x\": [0.7144467234611511, 0.7168309688568115, 0.7200656533241272, 0.7220075130462646, 0.7218546271324158, 0.7165209054946899, 0.7122856974601746], \"y\": [-0.1596202850341797, -0.09788811206817627, -0.052854180335998535, -9.179115295410156e-06, 0.05252693593502045, 0.10898379236459732, 0.15986575186252594], \"type\": \"scatter\", \"uid\": \"7f91bdb8-bb2d-4068-b20b-74bf0d376606\"}, {\"line\": {\"dash\": \"2px,6px\", \"shape\": \"spline\"}, \"marker\": {\"symbol\": \"star\"}, \"name\": \"7\", \"x\": [0.786978006362915, 0.8029369711875916, 0.8128569722175598, 0.8200896978378296, 0.8151714205741882, 0.8022447824478149, 0.7850273251533508], \"y\": [-0.1456911563873291, -0.09398096799850464, -0.050670087337493896, -1.8656253814697266e-05, 0.049051523208618164, 0.10182023793458939, 0.14744378626346588], \"type\": \"scatter\", \"uid\": \"9ab2e510-e14a-449b-9961-ad712d30b56e\"}, {\"line\": {\"dash\": \"2px,6px\", \"shape\": \"spline\"}, \"marker\": {\"symbol\": \"star\"}, \"name\": \"8\", \"x\": [0.8739941120147705, 0.9072597622871399, 0.9264410138130188, 0.9408588409423828, 0.929012656211853, 0.9064587354660034, 0.8728787899017334], \"y\": [-0.122749924659729, -0.0871572494506836, -0.04627060890197754, 1.2721866369247437e-05, 0.04270879924297333, 0.08967293053865433, 0.12730564177036285], \"type\": \"scatter\", \"uid\": \"20012fbd-1fa1-4a31-951d-592f0611e039\"}, {\"line\": {\"shape\": \"spline\"}, \"name\": \"9\", \"x\": [0.05362984910607338, 0.03235894814133644, 0.020524799823760986, 0.022065624594688416, 0.02002127282321453, 0.0302620530128479, 0.0510815754532814], \"y\": [-0.05804288387298584, -0.03097999095916748, -0.012326657772064209, -0.0007824301719665527, 0.010746553540229797, 0.03512510657310486, 0.053601909428834915], \"type\": \"scatter\", \"uid\": \"e6db9228-43ab-4b13-a6b7-6dc60afd74ed\"}, {\"line\": {\"shape\": \"spline\"}, \"name\": \"10\", \"x\": [0.17596453428268433, 0.1413528025150299, 0.12206147611141205, 0.11751321703195572, 0.12182983011007309, 0.14169663190841675, 0.17429886758327484], \"y\": [-0.0943421721458435, -0.04927670955657959, -0.019120335578918457, -0.00032126903533935547, 0.019501157104969025, 0.051643796265125275, 0.08726337552070618], \"type\": \"scatter\", \"uid\": \"fa257525-4293-43f3-8c6e-c09d9c0a3586\"}, {\"line\": {\"shape\": \"spline\"}, \"name\": \"11\", \"x\": [0.2732231914997101, 0.237803652882576, 0.21842435002326965, 0.21040792763233185, 0.21695749461650848, 0.2394232153892517, 0.2728036642074585], \"y\": [-0.1332319974899292, -0.07416015863418579, -0.031320035457611084, 0.0003347955644130707, 0.032579854130744934, 0.07481730729341507, 0.12410633265972137], \"type\": \"scatter\", \"uid\": \"1ff120fe-3974-4c6e-8226-c951586da37c\"}, {\"line\": {\"shape\": \"spline\"}, \"name\": \"12\", \"x\": [0.35293176770210266, 0.3214491307735443, 0.3047993779182434, 0.2957170605659485, 0.30294477939605713, 0.32327327132225037, 0.3530157208442688], \"y\": [-0.16171270608901978, -0.09458327293395996, -0.042890310287475586, 0.0004975851625204086, 0.04347193241119385, 0.09497720748186111, 0.1531817615032196], \"type\": \"scatter\", \"uid\": \"7c1c32a6-7890-4746-8163-99020e33fcf3\"}, {\"line\": {\"shape\": \"spline\"}, \"name\": \"13\", \"x\": [0.47397273778915405, 0.4524737596511841, 0.4435914158821106, 0.43607500195503235, 0.44199422001838684, 0.45419391989707947, 0.47394171357154846], \"y\": [-0.18699020147323608, -0.11571967601776123, -0.05601680278778076, 0.00021283049136400223, 0.055003054440021515, 0.11675510555505753, 0.1825120449066162], \"type\": \"scatter\", \"uid\": \"1826487b-3789-4ea7-b66b-a5c9ed00aea1\"}, {\"line\": {\"shape\": \"spline\"}, \"name\": \"14\", \"x\": [0.5824503898620605, 0.571743905544281, 0.5729504227638245, 0.5714937448501587, 0.5732109546661377, 0.5739610195159912, 0.5809301137924194], \"y\": [-0.1930469274520874, -0.12490397691726685, -0.06168729066848755, -0.0009282231330871582, 0.0597304105758667, 0.1255207359790802, 0.19405433535575867], \"type\": \"scatter\", \"uid\": \"0c3df3e5-d455-4fb0-9216-de0ac146e595\"}, {\"line\": {\"shape\": \"spline\"}, \"name\": \"15\", \"x\": [0.7005870938301086, 0.7045300602912903, 0.7159571051597595, 0.7230807542800903, 0.7209910750389099, 0.7088422179222107, 0.6949172019958496], \"y\": [-0.1810930371284485, -0.12495023012161255, -0.05834949016571045, -0.000664830207824707, 0.05833329260349274, 0.11756084114313126, 0.18755017220973969], \"type\": \"scatter\", \"uid\": \"e3073c87-bf0d-497c-b8b6-5788172d5700\"}, {\"line\": {\"shape\": \"spline\"}, \"name\": \"16\", \"x\": [0.7681149840354919, 0.7816075682640076, 0.7980982065200806, 0.8102455735206604, 0.8065215349197388, 0.7875497341156006, 0.759352445602417], \"y\": [-0.16830074787139893, -0.12207907438278198, -0.05306810140609741, 0.0005060071125626564, 0.05530206859111786, 0.10683489590883255, 0.17681986093521118], \"type\": \"scatter\", \"uid\": \"561ee109-a32a-44ba-b5d3-3b69be02aa0c\"}, {\"line\": {\"shape\": \"spline\"}, \"name\": \"17\", \"x\": [0.844301700592041, 0.869692862033844, 0.8911948800086975, 0.909222424030304, 0.903731644153595, 0.8774579763412476, 0.8322988152503967], \"y\": [-0.15135765075683594, -0.11757171154022217, -0.04574131965637207, 0.00258819293230772, 0.05054943263530731, 0.09221308678388596, 0.16111773252487183], \"type\": \"scatter\", \"uid\": \"29bf8e62-62c4-4e3d-af12-af8775de3694\"}], {\"height\": 600, \"hovermode\": \"closest\", \"title\": {\"text\": \"Initial Curves\"}, \"width\": 600, \"xaxis\": {\"range\": [-0.3, 1.1], \"title\": {\"text\": \"X\"}}, \"yaxis\": {\"range\": [-0.2, 0.2], \"title\": {\"text\": \"Y\"}}}, {\"showLink\": false, \"linkText\": \"Export to plot.ly\", \"plotlyServerURL\": \"https://plot.ly\"})});</script>"
      ],
      "text/vnd.plotly.v1+html": [
       "<div id=\"fa503f57-9d42-493f-b59d-6995d5320bd3\" style=\"height: 600px; width: 600px;\" class=\"plotly-graph-div\"></div><script type=\"text/javascript\">require([\"plotly\"], function(Plotly) { window.PLOTLYENV=window.PLOTLYENV || {};window.PLOTLYENV.BASE_URL=\"https://plot.ly\";Plotly.newPlot(\"fa503f57-9d42-493f-b59d-6995d5320bd3\", [{\"line\": {\"dash\": \"2px,6px\", \"shape\": \"spline\"}, \"marker\": {\"symbol\": \"star\"}, \"name\": \"0\", \"x\": [0.00924009084701538, 0.009746193885803223, 0.010054625570774078, 0.009828180074691772, 0.01072835922241211, 0.008776657283306122, 0.009009920060634613], \"y\": [-0.051709532737731934, -0.03137695789337158, -0.014062047004699707, 3.618001937866211e-05, 0.013416916131973267, 0.029561154544353485, 0.054504185914993286], \"type\": \"scatter\", \"uid\": \"7b1201fe-efaf-4c95-b302-b485cc2fc582\"}, {\"line\": {\"dash\": \"2px,6px\", \"shape\": \"spline\"}, \"marker\": {\"symbol\": \"star\"}, \"name\": \"1\", \"x\": [0.1502506136894226, 0.13121746480464935, 0.12616999447345734, 0.12192922830581665, 0.12519830465316772, 0.13254712522029877, 0.15188318490982056], \"y\": [-0.09083247184753418, -0.05187106132507324, -0.024411380290985107, 0.00015370920300483704, 0.024526968598365784, 0.05457407981157303, 0.08943147957324982], \"type\": \"scatter\", \"uid\": \"7d889f27-e07f-4711-a2b7-f12a1a22e560\"}, {\"line\": {\"dash\": \"2px,6px\", \"shape\": \"spline\"}, \"marker\": {\"symbol\": \"star\"}, \"name\": \"2\", \"x\": [0.26229366660118103, 0.2324007749557495, 0.22170570492744446, 0.21541878581047058, 0.22160807251930237, 0.2334282398223877, 0.2636001408100128], \"y\": [-0.12067747116088867, -0.06761646270751953, -0.03338354825973511, 0.00011090189218521118, 0.03387299180030823, 0.07523638755083084, 0.11650829017162323], \"type\": \"scatter\", \"uid\": \"5ce71b19-6991-446d-aa22-b6e0972f88fa\"}, {\"line\": {\"dash\": \"2px,6px\", \"shape\": \"spline\"}, \"marker\": {\"symbol\": \"star\"}, \"name\": \"3\", \"x\": [0.3519163131713867, 0.31835639476776123, 0.30387789011001587, 0.2972675859928131, 0.30551260709762573, 0.318198025226593, 0.3512578010559082], \"y\": [-0.14296090602874756, -0.08047527074813843, -0.0411839485168457, 2.8427690267562866e-05, 0.04167415201663971, 0.09194911271333694, 0.13791798055171967], \"type\": \"scatter\", \"uid\": \"a30689ea-f6d1-47c6-bac1-cb15648fd5d4\"}, {\"line\": {\"dash\": \"2px,6px\", \"shape\": \"spline\"}, \"marker\": {\"symbol\": \"star\"}, \"name\": \"4\", \"x\": [0.48037365078926086, 0.45154717564582825, 0.43996793031692505, 0.4332126975059509, 0.4410070776939392, 0.45192086696624756, 0.47905004024505615], \"y\": [-0.16403865814208984, -0.09395653009414673, -0.04912424087524414, 5.853921175003052e-05, 0.05002501606941223, 0.10769752413034439, 0.16073335707187653], \"type\": \"scatter\", \"uid\": \"69db9fe7-b512-47dc-a841-abe3d8c1f92b\"}, {\"line\": {\"dash\": \"2px,6px\", \"shape\": \"spline\"}, \"marker\": {\"symbol\": \"star\"}, \"name\": \"5\", \"x\": [0.592829167842865, 0.5760056376457214, 0.5705606341362, 0.566125750541687, 0.5713480114936829, 0.5765249729156494, 0.591170072555542], \"y\": [-0.1697494387626648, -0.09933829307556152, -0.05285829305648804, 4.860386252403259e-05, 0.053718313574790955, 0.11304152756929398, 0.16828490793704987], \"type\": \"scatter\", \"uid\": \"e65df5f6-3353-40ae-8076-1075362bb982\"}, {\"line\": {\"dash\": \"2px,6px\", \"shape\": \"spline\"}, \"marker\": {\"symbol\": \"star\"}, \"name\": \"6\", \"x\": [0.7144467234611511, 0.7168309688568115, 0.7200656533241272, 0.7220075130462646, 0.7218546271324158, 0.7165209054946899, 0.7122856974601746], \"y\": [-0.1596202850341797, -0.09788811206817627, -0.052854180335998535, -9.179115295410156e-06, 0.05252693593502045, 0.10898379236459732, 0.15986575186252594], \"type\": \"scatter\", \"uid\": \"7f91bdb8-bb2d-4068-b20b-74bf0d376606\"}, {\"line\": {\"dash\": \"2px,6px\", \"shape\": \"spline\"}, \"marker\": {\"symbol\": \"star\"}, \"name\": \"7\", \"x\": [0.786978006362915, 0.8029369711875916, 0.8128569722175598, 0.8200896978378296, 0.8151714205741882, 0.8022447824478149, 0.7850273251533508], \"y\": [-0.1456911563873291, -0.09398096799850464, -0.050670087337493896, -1.8656253814697266e-05, 0.049051523208618164, 0.10182023793458939, 0.14744378626346588], \"type\": \"scatter\", \"uid\": \"9ab2e510-e14a-449b-9961-ad712d30b56e\"}, {\"line\": {\"dash\": \"2px,6px\", \"shape\": \"spline\"}, \"marker\": {\"symbol\": \"star\"}, \"name\": \"8\", \"x\": [0.8739941120147705, 0.9072597622871399, 0.9264410138130188, 0.9408588409423828, 0.929012656211853, 0.9064587354660034, 0.8728787899017334], \"y\": [-0.122749924659729, -0.0871572494506836, -0.04627060890197754, 1.2721866369247437e-05, 0.04270879924297333, 0.08967293053865433, 0.12730564177036285], \"type\": \"scatter\", \"uid\": \"20012fbd-1fa1-4a31-951d-592f0611e039\"}, {\"line\": {\"shape\": \"spline\"}, \"name\": \"9\", \"x\": [0.05362984910607338, 0.03235894814133644, 0.020524799823760986, 0.022065624594688416, 0.02002127282321453, 0.0302620530128479, 0.0510815754532814], \"y\": [-0.05804288387298584, -0.03097999095916748, -0.012326657772064209, -0.0007824301719665527, 0.010746553540229797, 0.03512510657310486, 0.053601909428834915], \"type\": \"scatter\", \"uid\": \"e6db9228-43ab-4b13-a6b7-6dc60afd74ed\"}, {\"line\": {\"shape\": \"spline\"}, \"name\": \"10\", \"x\": [0.17596453428268433, 0.1413528025150299, 0.12206147611141205, 0.11751321703195572, 0.12182983011007309, 0.14169663190841675, 0.17429886758327484], \"y\": [-0.0943421721458435, -0.04927670955657959, -0.019120335578918457, -0.00032126903533935547, 0.019501157104969025, 0.051643796265125275, 0.08726337552070618], \"type\": \"scatter\", \"uid\": \"fa257525-4293-43f3-8c6e-c09d9c0a3586\"}, {\"line\": {\"shape\": \"spline\"}, \"name\": \"11\", \"x\": [0.2732231914997101, 0.237803652882576, 0.21842435002326965, 0.21040792763233185, 0.21695749461650848, 0.2394232153892517, 0.2728036642074585], \"y\": [-0.1332319974899292, -0.07416015863418579, -0.031320035457611084, 0.0003347955644130707, 0.032579854130744934, 0.07481730729341507, 0.12410633265972137], \"type\": \"scatter\", \"uid\": \"1ff120fe-3974-4c6e-8226-c951586da37c\"}, {\"line\": {\"shape\": \"spline\"}, \"name\": \"12\", \"x\": [0.35293176770210266, 0.3214491307735443, 0.3047993779182434, 0.2957170605659485, 0.30294477939605713, 0.32327327132225037, 0.3530157208442688], \"y\": [-0.16171270608901978, -0.09458327293395996, -0.042890310287475586, 0.0004975851625204086, 0.04347193241119385, 0.09497720748186111, 0.1531817615032196], \"type\": \"scatter\", \"uid\": \"7c1c32a6-7890-4746-8163-99020e33fcf3\"}, {\"line\": {\"shape\": \"spline\"}, \"name\": \"13\", \"x\": [0.47397273778915405, 0.4524737596511841, 0.4435914158821106, 0.43607500195503235, 0.44199422001838684, 0.45419391989707947, 0.47394171357154846], \"y\": [-0.18699020147323608, -0.11571967601776123, -0.05601680278778076, 0.00021283049136400223, 0.055003054440021515, 0.11675510555505753, 0.1825120449066162], \"type\": \"scatter\", \"uid\": \"1826487b-3789-4ea7-b66b-a5c9ed00aea1\"}, {\"line\": {\"shape\": \"spline\"}, \"name\": \"14\", \"x\": [0.5824503898620605, 0.571743905544281, 0.5729504227638245, 0.5714937448501587, 0.5732109546661377, 0.5739610195159912, 0.5809301137924194], \"y\": [-0.1930469274520874, -0.12490397691726685, -0.06168729066848755, -0.0009282231330871582, 0.0597304105758667, 0.1255207359790802, 0.19405433535575867], \"type\": \"scatter\", \"uid\": \"0c3df3e5-d455-4fb0-9216-de0ac146e595\"}, {\"line\": {\"shape\": \"spline\"}, \"name\": \"15\", \"x\": [0.7005870938301086, 0.7045300602912903, 0.7159571051597595, 0.7230807542800903, 0.7209910750389099, 0.7088422179222107, 0.6949172019958496], \"y\": [-0.1810930371284485, -0.12495023012161255, -0.05834949016571045, -0.000664830207824707, 0.05833329260349274, 0.11756084114313126, 0.18755017220973969], \"type\": \"scatter\", \"uid\": \"e3073c87-bf0d-497c-b8b6-5788172d5700\"}, {\"line\": {\"shape\": \"spline\"}, \"name\": \"16\", \"x\": [0.7681149840354919, 0.7816075682640076, 0.7980982065200806, 0.8102455735206604, 0.8065215349197388, 0.7875497341156006, 0.759352445602417], \"y\": [-0.16830074787139893, -0.12207907438278198, -0.05306810140609741, 0.0005060071125626564, 0.05530206859111786, 0.10683489590883255, 0.17681986093521118], \"type\": \"scatter\", \"uid\": \"561ee109-a32a-44ba-b5d3-3b69be02aa0c\"}, {\"line\": {\"shape\": \"spline\"}, \"name\": \"17\", \"x\": [0.844301700592041, 0.869692862033844, 0.8911948800086975, 0.909222424030304, 0.903731644153595, 0.8774579763412476, 0.8322988152503967], \"y\": [-0.15135765075683594, -0.11757171154022217, -0.04574131965637207, 0.00258819293230772, 0.05054943263530731, 0.09221308678388596, 0.16111773252487183], \"type\": \"scatter\", \"uid\": \"29bf8e62-62c4-4e3d-af12-af8775de3694\"}], {\"height\": 600, \"hovermode\": \"closest\", \"title\": {\"text\": \"Initial Curves\"}, \"width\": 600, \"xaxis\": {\"range\": [-0.3, 1.1], \"title\": {\"text\": \"X\"}}, \"yaxis\": {\"range\": [-0.2, 0.2], \"title\": {\"text\": \"Y\"}}}, {\"showLink\": false, \"linkText\": \"Export to plot.ly\", \"plotlyServerURL\": \"https://plot.ly\"})});</script>"
      ]
     },
     "metadata": {},
     "output_type": "display_data"
    }
   ],
   "source": [
    "\n",
    "i = 7\n",
    "p0 = phTout0.data.numpy()[i]\n",
    "p1 = phTout1.data.numpy()[i]\n",
    "\n",
    "p01_0 = phCout0.data.numpy()[i]\n",
    "p01_1 = phCout1.data.numpy()[i]\n",
    "\n",
    "# nx = np.concatenate((p0,p01_0))\n",
    "nx = np.concatenate((p1,p01_1))\n",
    "\n",
    "gx = gy.FormatNetworkToGraphColumns(nx, xOffset=0, yOffset=7, colPoints=7)\n",
    "\n",
    "layout = go.Layout(\n",
    "    title = 'Initial Curves',\n",
    "    height = 600,\n",
    "    width = 600,\n",
    "    hovermode= 'closest',\n",
    "    xaxis= dict(\n",
    "        title= 'X',\n",
    "        range = [-.3,1.1],\n",
    "    ),\n",
    "    yaxis=dict(\n",
    "        title= 'Y',\n",
    "        range = [-.2,.2],\n",
    "    )\n",
    ")\n",
    "f = gy.graphCurves(gx, layout, dashRange=range(0,9))\n",
    "offline.iplot(f)\n"
   ]
  },
  {
   "cell_type": "code",
   "execution_count": 20,
   "metadata": {},
   "outputs": [
    {
     "data": {
      "application/vnd.plotly.v1+json": {
       "config": {
        "linkText": "Export to plot.ly",
        "plotlyServerURL": "https://plot.ly",
        "showLink": false
       },
       "data": [
        {
         "line": {
          "dash": "2px,6px",
          "shape": "spline"
         },
         "marker": {
          "symbol": "star"
         },
         "name": "0",
         "type": "scatter",
         "uid": "d0acaeda-b5f9-4546-9154-5eda1e26e3b7",
         "x": [
          -0.051709532737731934,
          -0.03137695789337158,
          -0.014062047004699707,
          3.618001937866211e-05,
          0.013416916131973267,
          0.029561154544353485,
          0.054504185914993286
         ],
         "y": [
          -0.0010970830917358398,
          0.000591568648815155,
          0.0016844868659973145,
          0.0017935633659362793,
          0.0014146417379379272,
          0.0002841949462890625,
          -0.0008829832077026367
         ]
        },
        {
         "line": {
          "dash": "2px,6px",
          "shape": "spline"
         },
         "marker": {
          "symbol": "star"
         },
         "name": "1",
         "type": "scatter",
         "uid": "23c9874c-7e7e-4567-9c92-2413e6b09c73",
         "x": [
          -0.09083247184753418,
          -0.05187106132507324,
          -0.024411380290985107,
          0.00015370920300483704,
          0.024526968598365784,
          0.05457407981157303,
          0.08943147957324982
         ],
         "y": [
          -0.044038236141204834,
          -0.05691266059875488,
          -0.06224977970123291,
          -0.06415432691574097,
          -0.06082993745803833,
          -0.05518174171447754,
          -0.04461544752120972
         ]
        },
        {
         "line": {
          "dash": "2px,6px",
          "shape": "spline"
         },
         "marker": {
          "symbol": "star"
         },
         "name": "2",
         "type": "scatter",
         "uid": "9acbe9f1-ae57-4cf1-aff2-b279fd521d17",
         "x": [
          -0.12067747116088867,
          -0.06761646270751953,
          -0.03338354825973511,
          0.00011090189218521118,
          0.03387299180030823,
          0.07523638755083084,
          0.11650829017162323
         ],
         "y": [
          -0.0830690860748291,
          -0.10638213157653809,
          -0.11543071269989014,
          -0.11865729093551636,
          -0.11459451913833618,
          -0.10479885339736938,
          -0.08321136236190796
         ]
        },
        {
         "line": {
          "dash": "2px,6px",
          "shape": "spline"
         },
         "marker": {
          "symbol": "star"
         },
         "name": "3",
         "type": "scatter",
         "uid": "42daa03f-30e4-42b5-a64b-20ac2640f877",
         "x": [
          -0.14296090602874756,
          -0.08047527074813843,
          -0.0411839485168457,
          2.8427690267562866e-05,
          0.04167415201663971,
          0.09194911271333694,
          0.13791798055171967
         ],
         "y": [
          -0.11349016427993774,
          -0.14428365230560303,
          -0.156327486038208,
          -0.16083937883377075,
          -0.15653669834136963,
          -0.14379125833511353,
          -0.1131746768951416
         ]
        },
        {
         "line": {
          "dash": "2px,6px",
          "shape": "spline"
         },
         "marker": {
          "symbol": "star"
         },
         "name": "4",
         "type": "scatter",
         "uid": "ed99d20d-8e50-4710-a461-aace1e86143f",
         "x": [
          -0.16403865814208984,
          -0.09395653009414673,
          -0.04912424087524414,
          5.853921175003052e-05,
          0.05002501606941223,
          0.10769752413034439,
          0.16073335707187653
         ],
         "y": [
          -0.1637650728225708,
          -0.2090488076210022,
          -0.22673249244689941,
          -0.235887348651886,
          -0.22714734077453613,
          -0.20717352628707886,
          -0.16376739740371704
         ]
        },
        {
         "line": {
          "dash": "2px,6px",
          "shape": "spline"
         },
         "marker": {
          "symbol": "star"
         },
         "name": "5",
         "type": "scatter",
         "uid": "97f6e492-8082-4f07-ab60-b5f2cbaf09f6",
         "x": [
          -0.1697494387626648,
          -0.09933829307556152,
          -0.05285829305648804,
          4.860386252403259e-05,
          0.053718313574790955,
          0.11304152756929398,
          0.16828490793704987
         ],
         "y": [
          -0.22630834579467773,
          -0.2793940305709839,
          -0.29975855350494385,
          -0.3123655319213867,
          -0.3006380796432495,
          -0.27675479650497437,
          -0.22625917196273804
         ]
        },
        {
         "line": {
          "dash": "2px,6px",
          "shape": "spline"
         },
         "marker": {
          "symbol": "star"
         },
         "name": "6",
         "type": "scatter",
         "uid": "aabb30e7-1f9d-480d-a433-b26c4785c6f9",
         "x": [
          -0.1596202850341797,
          -0.09788811206817627,
          -0.052854180335998535,
          -9.179115295410156e-06,
          0.05252693593502045,
          0.10898379236459732,
          0.15986575186252594
         ],
         "y": [
          -0.31244146823883057,
          -0.36343735456466675,
          -0.38341736793518066,
          -0.39733558893203735,
          -0.38496947288513184,
          -0.3616829514503479,
          -0.3120001554489136
         ]
        },
        {
         "line": {
          "dash": "2px,6px",
          "shape": "spline"
         },
         "marker": {
          "symbol": "star"
         },
         "name": "7",
         "type": "scatter",
         "uid": "43aa2c9a-4eb4-41ca-a98c-9a66927b70f6",
         "x": [
          -0.1456911563873291,
          -0.09398096799850464,
          -0.050670087337493896,
          -1.8656253814697266e-05,
          0.049051523208618164,
          0.10182023793458939,
          0.14744378626346588
         ],
         "y": [
          -0.36430442333221436,
          -0.4100577235221863,
          -0.428864061832428,
          -0.44266223907470703,
          -0.4305190443992615,
          -0.4091324210166931,
          -0.3637903928756714
         ]
        },
        {
         "line": {
          "dash": "2px,6px",
          "shape": "spline"
         },
         "marker": {
          "symbol": "star"
         },
         "name": "8",
         "type": "scatter",
         "uid": "92c0c5b2-5997-4e35-83d1-59e4cba45abc",
         "x": [
          -0.122749924659729,
          -0.0871572494506836,
          -0.04627060890197754,
          1.2721866369247437e-05,
          0.04270879924297333,
          0.08967293053865433,
          0.12730564177036285
         ],
         "y": [
          -0.4213526248931885,
          -0.4588962197303772,
          -0.4759690761566162,
          -0.4891435503959656,
          -0.4774378538131714,
          -0.4589652419090271,
          -0.4209746718406677
         ]
        },
        {
         "line": {
          "shape": "spline"
         },
         "name": "9",
         "type": "scatter",
         "uid": "ee971293-2373-4a8d-9f2a-86cfefe72d91",
         "x": [
          -0.05804288387298584,
          -0.03097999095916748,
          -0.012326657772064209,
          -0.0007824301719665527,
          0.010746553540229797,
          0.03512510657310486,
          0.053601909428834915
         ],
         "y": [
          0.022680573165416718,
          0.01733514666557312,
          0.012281358242034912,
          0.009852312505245209,
          0.009804360568523407,
          0.016268238425254822,
          0.022041374817490578
         ]
        },
        {
         "line": {
          "shape": "spline"
         },
         "name": "10",
         "type": "scatter",
         "uid": "7b6861d1-e396-48aa-9d3a-37fcb4e5e9bc",
         "x": [
          -0.0943421721458435,
          -0.04927670955657959,
          -0.019120335578918457,
          -0.00032126903533935547,
          0.019501157104969025,
          0.051643796265125275,
          0.08726337552070618
         ],
         "y": [
          -0.024290859699249268,
          -0.04339057207107544,
          -0.05482625961303711,
          -0.06229299306869507,
          -0.05547356605529785,
          -0.04255920648574829,
          -0.024983882904052734
         ]
        },
        {
         "line": {
          "shape": "spline"
         },
         "name": "11",
         "type": "scatter",
         "uid": "9980f583-1a9e-43dc-a722-bdab6243d2c7",
         "x": [
          -0.1332319974899292,
          -0.07416015863418579,
          -0.031320035457611084,
          0.0003347955644130707,
          0.032579854130744934,
          0.07481730729341507,
          0.12410633265972137
         ],
         "y": [
          -0.06481385231018066,
          -0.09600955247879028,
          -0.11392170190811157,
          -0.12445920705795288,
          -0.11490523815155029,
          -0.09338665008544922,
          -0.06520569324493408
         ]
        },
        {
         "line": {
          "shape": "spline"
         },
         "name": "12",
         "type": "scatter",
         "uid": "c109399d-9498-4e26-91db-4d1bb249ca1f",
         "x": [
          -0.16171270608901978,
          -0.09458327293395996,
          -0.042890310287475586,
          0.0004975851625204086,
          0.04347193241119385,
          0.09497720748186111,
          0.1531817615032196
         ],
         "y": [
          -0.10283303260803223,
          -0.14120334386825562,
          -0.1640971302986145,
          -0.17638444900512695,
          -0.1659066081047058,
          -0.13851475715637207,
          -0.10347622632980347
         ]
        },
        {
         "line": {
          "shape": "spline"
         },
         "name": "13",
         "type": "scatter",
         "uid": "4ac61d9b-3108-418e-beee-c41e031e14d1",
         "x": [
          -0.18699020147323608,
          -0.11571967601776123,
          -0.05601680278778076,
          0.00021283049136400223,
          0.055003054440021515,
          0.11675510555505753,
          0.1825120449066162
         ],
         "y": [
          -0.16937237977981567,
          -0.2147618532180786,
          -0.24181324243545532,
          -0.2560844421386719,
          -0.24430209398269653,
          -0.21294987201690674,
          -0.17138570547103882
         ]
        },
        {
         "line": {
          "shape": "spline"
         },
         "name": "14",
         "type": "scatter",
         "uid": "87604c80-2831-4fd6-b57c-a1d6b9854fee",
         "x": [
          -0.1930469274520874,
          -0.12490397691726685,
          -0.06168729066848755,
          -0.0009282231330871582,
          0.0597304105758667,
          0.1255207359790802,
          0.19405433535575867
         ],
         "y": [
          -0.23895388841629028,
          -0.2865351438522339,
          -0.3108900785446167,
          -0.32724666595458984,
          -0.312164306640625,
          -0.2853456139564514,
          -0.24361956119537354
         ]
        },
        {
         "line": {
          "shape": "spline"
         },
         "name": "15",
         "type": "scatter",
         "uid": "1eee41d2-d0a6-4091-82b9-23e8386b8f4b",
         "x": [
          -0.1810930371284485,
          -0.12495023012161255,
          -0.05834949016571045,
          -0.000664830207824707,
          0.05833329260349274,
          0.11756084114313126,
          0.18755017220973969
         ],
         "y": [
          -0.31761419773101807,
          -0.36163294315338135,
          -0.3768641948699951,
          -0.39521557092666626,
          -0.37550997734069824,
          -0.362359881401062,
          -0.3267892599105835
         ]
        },
        {
         "line": {
          "shape": "spline"
         },
         "name": "16",
         "type": "scatter",
         "uid": "339c14ee-a6a9-41b4-96c4-d20c624e0e99",
         "x": [
          -0.16830074787139893,
          -0.12207907438278198,
          -0.05306810140609741,
          0.0005060071125626564,
          0.05530206859111786,
          0.10683489590883255,
          0.17681986093521118
         ],
         "y": [
          -0.35895729064941406,
          -0.3987637758255005,
          -0.4070546627044678,
          -0.4258996844291687,
          -0.4040377736091614,
          -0.4008558392524719,
          -0.37059205770492554
         ]
        },
        {
         "line": {
          "shape": "spline"
         },
         "name": "17",
         "type": "scatter",
         "uid": "8700f9f4-e909-4fba-9b1e-098294ffb602",
         "x": [
          -0.15135765075683594,
          -0.11757171154022217,
          -0.04574131965637207,
          0.00258819293230772,
          0.05054943263530731,
          0.09221308678388596,
          0.16111773252487183
         ],
         "y": [
          -0.4005075693130493,
          -0.4344884753227234,
          -0.4343818426132202,
          -0.45282310247421265,
          -0.4292879104614258,
          -0.4380335807800293,
          -0.414612352848053
         ]
        }
       ],
       "layout": {
        "height": 600,
        "hovermode": "closest",
        "title": {
         "text": "Initial Curves"
        },
        "width": 600,
        "xaxis": {
         "range": [
          -0.5,
          0.5
         ],
         "title": {
          "text": "X"
         }
        },
        "yaxis": {
         "range": [
          -0.8,
          0.2
         ],
         "title": {
          "text": "Y"
         }
        }
       }
      },
      "text/html": [
       "<div id=\"5105b350-3981-47f3-b6b7-fbd1d92ece90\" style=\"height: 600px; width: 600px;\" class=\"plotly-graph-div\"></div><script type=\"text/javascript\">require([\"plotly\"], function(Plotly) { window.PLOTLYENV=window.PLOTLYENV || {};window.PLOTLYENV.BASE_URL=\"https://plot.ly\";Plotly.newPlot(\"5105b350-3981-47f3-b6b7-fbd1d92ece90\", [{\"line\": {\"dash\": \"2px,6px\", \"shape\": \"spline\"}, \"marker\": {\"symbol\": \"star\"}, \"name\": \"0\", \"x\": [-0.051709532737731934, -0.03137695789337158, -0.014062047004699707, 3.618001937866211e-05, 0.013416916131973267, 0.029561154544353485, 0.054504185914993286], \"y\": [-0.0010970830917358398, 0.000591568648815155, 0.0016844868659973145, 0.0017935633659362793, 0.0014146417379379272, 0.0002841949462890625, -0.0008829832077026367], \"type\": \"scatter\", \"uid\": \"d0acaeda-b5f9-4546-9154-5eda1e26e3b7\"}, {\"line\": {\"dash\": \"2px,6px\", \"shape\": \"spline\"}, \"marker\": {\"symbol\": \"star\"}, \"name\": \"1\", \"x\": [-0.09083247184753418, -0.05187106132507324, -0.024411380290985107, 0.00015370920300483704, 0.024526968598365784, 0.05457407981157303, 0.08943147957324982], \"y\": [-0.044038236141204834, -0.05691266059875488, -0.06224977970123291, -0.06415432691574097, -0.06082993745803833, -0.05518174171447754, -0.04461544752120972], \"type\": \"scatter\", \"uid\": \"23c9874c-7e7e-4567-9c92-2413e6b09c73\"}, {\"line\": {\"dash\": \"2px,6px\", \"shape\": \"spline\"}, \"marker\": {\"symbol\": \"star\"}, \"name\": \"2\", \"x\": [-0.12067747116088867, -0.06761646270751953, -0.03338354825973511, 0.00011090189218521118, 0.03387299180030823, 0.07523638755083084, 0.11650829017162323], \"y\": [-0.0830690860748291, -0.10638213157653809, -0.11543071269989014, -0.11865729093551636, -0.11459451913833618, -0.10479885339736938, -0.08321136236190796], \"type\": \"scatter\", \"uid\": \"9acbe9f1-ae57-4cf1-aff2-b279fd521d17\"}, {\"line\": {\"dash\": \"2px,6px\", \"shape\": \"spline\"}, \"marker\": {\"symbol\": \"star\"}, \"name\": \"3\", \"x\": [-0.14296090602874756, -0.08047527074813843, -0.0411839485168457, 2.8427690267562866e-05, 0.04167415201663971, 0.09194911271333694, 0.13791798055171967], \"y\": [-0.11349016427993774, -0.14428365230560303, -0.156327486038208, -0.16083937883377075, -0.15653669834136963, -0.14379125833511353, -0.1131746768951416], \"type\": \"scatter\", \"uid\": \"42daa03f-30e4-42b5-a64b-20ac2640f877\"}, {\"line\": {\"dash\": \"2px,6px\", \"shape\": \"spline\"}, \"marker\": {\"symbol\": \"star\"}, \"name\": \"4\", \"x\": [-0.16403865814208984, -0.09395653009414673, -0.04912424087524414, 5.853921175003052e-05, 0.05002501606941223, 0.10769752413034439, 0.16073335707187653], \"y\": [-0.1637650728225708, -0.2090488076210022, -0.22673249244689941, -0.235887348651886, -0.22714734077453613, -0.20717352628707886, -0.16376739740371704], \"type\": \"scatter\", \"uid\": \"ed99d20d-8e50-4710-a461-aace1e86143f\"}, {\"line\": {\"dash\": \"2px,6px\", \"shape\": \"spline\"}, \"marker\": {\"symbol\": \"star\"}, \"name\": \"5\", \"x\": [-0.1697494387626648, -0.09933829307556152, -0.05285829305648804, 4.860386252403259e-05, 0.053718313574790955, 0.11304152756929398, 0.16828490793704987], \"y\": [-0.22630834579467773, -0.2793940305709839, -0.29975855350494385, -0.3123655319213867, -0.3006380796432495, -0.27675479650497437, -0.22625917196273804], \"type\": \"scatter\", \"uid\": \"97f6e492-8082-4f07-ab60-b5f2cbaf09f6\"}, {\"line\": {\"dash\": \"2px,6px\", \"shape\": \"spline\"}, \"marker\": {\"symbol\": \"star\"}, \"name\": \"6\", \"x\": [-0.1596202850341797, -0.09788811206817627, -0.052854180335998535, -9.179115295410156e-06, 0.05252693593502045, 0.10898379236459732, 0.15986575186252594], \"y\": [-0.31244146823883057, -0.36343735456466675, -0.38341736793518066, -0.39733558893203735, -0.38496947288513184, -0.3616829514503479, -0.3120001554489136], \"type\": \"scatter\", \"uid\": \"aabb30e7-1f9d-480d-a433-b26c4785c6f9\"}, {\"line\": {\"dash\": \"2px,6px\", \"shape\": \"spline\"}, \"marker\": {\"symbol\": \"star\"}, \"name\": \"7\", \"x\": [-0.1456911563873291, -0.09398096799850464, -0.050670087337493896, -1.8656253814697266e-05, 0.049051523208618164, 0.10182023793458939, 0.14744378626346588], \"y\": [-0.36430442333221436, -0.4100577235221863, -0.428864061832428, -0.44266223907470703, -0.4305190443992615, -0.4091324210166931, -0.3637903928756714], \"type\": \"scatter\", \"uid\": \"43aa2c9a-4eb4-41ca-a98c-9a66927b70f6\"}, {\"line\": {\"dash\": \"2px,6px\", \"shape\": \"spline\"}, \"marker\": {\"symbol\": \"star\"}, \"name\": \"8\", \"x\": [-0.122749924659729, -0.0871572494506836, -0.04627060890197754, 1.2721866369247437e-05, 0.04270879924297333, 0.08967293053865433, 0.12730564177036285], \"y\": [-0.4213526248931885, -0.4588962197303772, -0.4759690761566162, -0.4891435503959656, -0.4774378538131714, -0.4589652419090271, -0.4209746718406677], \"type\": \"scatter\", \"uid\": \"92c0c5b2-5997-4e35-83d1-59e4cba45abc\"}, {\"line\": {\"shape\": \"spline\"}, \"name\": \"9\", \"x\": [-0.05804288387298584, -0.03097999095916748, -0.012326657772064209, -0.0007824301719665527, 0.010746553540229797, 0.03512510657310486, 0.053601909428834915], \"y\": [0.022680573165416718, 0.01733514666557312, 0.012281358242034912, 0.009852312505245209, 0.009804360568523407, 0.016268238425254822, 0.022041374817490578], \"type\": \"scatter\", \"uid\": \"ee971293-2373-4a8d-9f2a-86cfefe72d91\"}, {\"line\": {\"shape\": \"spline\"}, \"name\": \"10\", \"x\": [-0.0943421721458435, -0.04927670955657959, -0.019120335578918457, -0.00032126903533935547, 0.019501157104969025, 0.051643796265125275, 0.08726337552070618], \"y\": [-0.024290859699249268, -0.04339057207107544, -0.05482625961303711, -0.06229299306869507, -0.05547356605529785, -0.04255920648574829, -0.024983882904052734], \"type\": \"scatter\", \"uid\": \"7b6861d1-e396-48aa-9d3a-37fcb4e5e9bc\"}, {\"line\": {\"shape\": \"spline\"}, \"name\": \"11\", \"x\": [-0.1332319974899292, -0.07416015863418579, -0.031320035457611084, 0.0003347955644130707, 0.032579854130744934, 0.07481730729341507, 0.12410633265972137], \"y\": [-0.06481385231018066, -0.09600955247879028, -0.11392170190811157, -0.12445920705795288, -0.11490523815155029, -0.09338665008544922, -0.06520569324493408], \"type\": \"scatter\", \"uid\": \"9980f583-1a9e-43dc-a722-bdab6243d2c7\"}, {\"line\": {\"shape\": \"spline\"}, \"name\": \"12\", \"x\": [-0.16171270608901978, -0.09458327293395996, -0.042890310287475586, 0.0004975851625204086, 0.04347193241119385, 0.09497720748186111, 0.1531817615032196], \"y\": [-0.10283303260803223, -0.14120334386825562, -0.1640971302986145, -0.17638444900512695, -0.1659066081047058, -0.13851475715637207, -0.10347622632980347], \"type\": \"scatter\", \"uid\": \"c109399d-9498-4e26-91db-4d1bb249ca1f\"}, {\"line\": {\"shape\": \"spline\"}, \"name\": \"13\", \"x\": [-0.18699020147323608, -0.11571967601776123, -0.05601680278778076, 0.00021283049136400223, 0.055003054440021515, 0.11675510555505753, 0.1825120449066162], \"y\": [-0.16937237977981567, -0.2147618532180786, -0.24181324243545532, -0.2560844421386719, -0.24430209398269653, -0.21294987201690674, -0.17138570547103882], \"type\": \"scatter\", \"uid\": \"4ac61d9b-3108-418e-beee-c41e031e14d1\"}, {\"line\": {\"shape\": \"spline\"}, \"name\": \"14\", \"x\": [-0.1930469274520874, -0.12490397691726685, -0.06168729066848755, -0.0009282231330871582, 0.0597304105758667, 0.1255207359790802, 0.19405433535575867], \"y\": [-0.23895388841629028, -0.2865351438522339, -0.3108900785446167, -0.32724666595458984, -0.312164306640625, -0.2853456139564514, -0.24361956119537354], \"type\": \"scatter\", \"uid\": \"87604c80-2831-4fd6-b57c-a1d6b9854fee\"}, {\"line\": {\"shape\": \"spline\"}, \"name\": \"15\", \"x\": [-0.1810930371284485, -0.12495023012161255, -0.05834949016571045, -0.000664830207824707, 0.05833329260349274, 0.11756084114313126, 0.18755017220973969], \"y\": [-0.31761419773101807, -0.36163294315338135, -0.3768641948699951, -0.39521557092666626, -0.37550997734069824, -0.362359881401062, -0.3267892599105835], \"type\": \"scatter\", \"uid\": \"1eee41d2-d0a6-4091-82b9-23e8386b8f4b\"}, {\"line\": {\"shape\": \"spline\"}, \"name\": \"16\", \"x\": [-0.16830074787139893, -0.12207907438278198, -0.05306810140609741, 0.0005060071125626564, 0.05530206859111786, 0.10683489590883255, 0.17681986093521118], \"y\": [-0.35895729064941406, -0.3987637758255005, -0.4070546627044678, -0.4258996844291687, -0.4040377736091614, -0.4008558392524719, -0.37059205770492554], \"type\": \"scatter\", \"uid\": \"339c14ee-a6a9-41b4-96c4-d20c624e0e99\"}, {\"line\": {\"shape\": \"spline\"}, \"name\": \"17\", \"x\": [-0.15135765075683594, -0.11757171154022217, -0.04574131965637207, 0.00258819293230772, 0.05054943263530731, 0.09221308678388596, 0.16111773252487183], \"y\": [-0.4005075693130493, -0.4344884753227234, -0.4343818426132202, -0.45282310247421265, -0.4292879104614258, -0.4380335807800293, -0.414612352848053], \"type\": \"scatter\", \"uid\": \"8700f9f4-e909-4fba-9b1e-098294ffb602\"}], {\"height\": 600, \"hovermode\": \"closest\", \"title\": {\"text\": \"Initial Curves\"}, \"width\": 600, \"xaxis\": {\"range\": [-0.5, 0.5], \"title\": {\"text\": \"X\"}}, \"yaxis\": {\"range\": [-0.8, 0.2], \"title\": {\"text\": \"Y\"}}}, {\"showLink\": false, \"linkText\": \"Export to plot.ly\", \"plotlyServerURL\": \"https://plot.ly\"})});</script>"
      ],
      "text/vnd.plotly.v1+html": [
       "<div id=\"5105b350-3981-47f3-b6b7-fbd1d92ece90\" style=\"height: 600px; width: 600px;\" class=\"plotly-graph-div\"></div><script type=\"text/javascript\">require([\"plotly\"], function(Plotly) { window.PLOTLYENV=window.PLOTLYENV || {};window.PLOTLYENV.BASE_URL=\"https://plot.ly\";Plotly.newPlot(\"5105b350-3981-47f3-b6b7-fbd1d92ece90\", [{\"line\": {\"dash\": \"2px,6px\", \"shape\": \"spline\"}, \"marker\": {\"symbol\": \"star\"}, \"name\": \"0\", \"x\": [-0.051709532737731934, -0.03137695789337158, -0.014062047004699707, 3.618001937866211e-05, 0.013416916131973267, 0.029561154544353485, 0.054504185914993286], \"y\": [-0.0010970830917358398, 0.000591568648815155, 0.0016844868659973145, 0.0017935633659362793, 0.0014146417379379272, 0.0002841949462890625, -0.0008829832077026367], \"type\": \"scatter\", \"uid\": \"d0acaeda-b5f9-4546-9154-5eda1e26e3b7\"}, {\"line\": {\"dash\": \"2px,6px\", \"shape\": \"spline\"}, \"marker\": {\"symbol\": \"star\"}, \"name\": \"1\", \"x\": [-0.09083247184753418, -0.05187106132507324, -0.024411380290985107, 0.00015370920300483704, 0.024526968598365784, 0.05457407981157303, 0.08943147957324982], \"y\": [-0.044038236141204834, -0.05691266059875488, -0.06224977970123291, -0.06415432691574097, -0.06082993745803833, -0.05518174171447754, -0.04461544752120972], \"type\": \"scatter\", \"uid\": \"23c9874c-7e7e-4567-9c92-2413e6b09c73\"}, {\"line\": {\"dash\": \"2px,6px\", \"shape\": \"spline\"}, \"marker\": {\"symbol\": \"star\"}, \"name\": \"2\", \"x\": [-0.12067747116088867, -0.06761646270751953, -0.03338354825973511, 0.00011090189218521118, 0.03387299180030823, 0.07523638755083084, 0.11650829017162323], \"y\": [-0.0830690860748291, -0.10638213157653809, -0.11543071269989014, -0.11865729093551636, -0.11459451913833618, -0.10479885339736938, -0.08321136236190796], \"type\": \"scatter\", \"uid\": \"9acbe9f1-ae57-4cf1-aff2-b279fd521d17\"}, {\"line\": {\"dash\": \"2px,6px\", \"shape\": \"spline\"}, \"marker\": {\"symbol\": \"star\"}, \"name\": \"3\", \"x\": [-0.14296090602874756, -0.08047527074813843, -0.0411839485168457, 2.8427690267562866e-05, 0.04167415201663971, 0.09194911271333694, 0.13791798055171967], \"y\": [-0.11349016427993774, -0.14428365230560303, -0.156327486038208, -0.16083937883377075, -0.15653669834136963, -0.14379125833511353, -0.1131746768951416], \"type\": \"scatter\", \"uid\": \"42daa03f-30e4-42b5-a64b-20ac2640f877\"}, {\"line\": {\"dash\": \"2px,6px\", \"shape\": \"spline\"}, \"marker\": {\"symbol\": \"star\"}, \"name\": \"4\", \"x\": [-0.16403865814208984, -0.09395653009414673, -0.04912424087524414, 5.853921175003052e-05, 0.05002501606941223, 0.10769752413034439, 0.16073335707187653], \"y\": [-0.1637650728225708, -0.2090488076210022, -0.22673249244689941, -0.235887348651886, -0.22714734077453613, -0.20717352628707886, -0.16376739740371704], \"type\": \"scatter\", \"uid\": \"ed99d20d-8e50-4710-a461-aace1e86143f\"}, {\"line\": {\"dash\": \"2px,6px\", \"shape\": \"spline\"}, \"marker\": {\"symbol\": \"star\"}, \"name\": \"5\", \"x\": [-0.1697494387626648, -0.09933829307556152, -0.05285829305648804, 4.860386252403259e-05, 0.053718313574790955, 0.11304152756929398, 0.16828490793704987], \"y\": [-0.22630834579467773, -0.2793940305709839, -0.29975855350494385, -0.3123655319213867, -0.3006380796432495, -0.27675479650497437, -0.22625917196273804], \"type\": \"scatter\", \"uid\": \"97f6e492-8082-4f07-ab60-b5f2cbaf09f6\"}, {\"line\": {\"dash\": \"2px,6px\", \"shape\": \"spline\"}, \"marker\": {\"symbol\": \"star\"}, \"name\": \"6\", \"x\": [-0.1596202850341797, -0.09788811206817627, -0.052854180335998535, -9.179115295410156e-06, 0.05252693593502045, 0.10898379236459732, 0.15986575186252594], \"y\": [-0.31244146823883057, -0.36343735456466675, -0.38341736793518066, -0.39733558893203735, -0.38496947288513184, -0.3616829514503479, -0.3120001554489136], \"type\": \"scatter\", \"uid\": \"aabb30e7-1f9d-480d-a433-b26c4785c6f9\"}, {\"line\": {\"dash\": \"2px,6px\", \"shape\": \"spline\"}, \"marker\": {\"symbol\": \"star\"}, \"name\": \"7\", \"x\": [-0.1456911563873291, -0.09398096799850464, -0.050670087337493896, -1.8656253814697266e-05, 0.049051523208618164, 0.10182023793458939, 0.14744378626346588], \"y\": [-0.36430442333221436, -0.4100577235221863, -0.428864061832428, -0.44266223907470703, -0.4305190443992615, -0.4091324210166931, -0.3637903928756714], \"type\": \"scatter\", \"uid\": \"43aa2c9a-4eb4-41ca-a98c-9a66927b70f6\"}, {\"line\": {\"dash\": \"2px,6px\", \"shape\": \"spline\"}, \"marker\": {\"symbol\": \"star\"}, \"name\": \"8\", \"x\": [-0.122749924659729, -0.0871572494506836, -0.04627060890197754, 1.2721866369247437e-05, 0.04270879924297333, 0.08967293053865433, 0.12730564177036285], \"y\": [-0.4213526248931885, -0.4588962197303772, -0.4759690761566162, -0.4891435503959656, -0.4774378538131714, -0.4589652419090271, -0.4209746718406677], \"type\": \"scatter\", \"uid\": \"92c0c5b2-5997-4e35-83d1-59e4cba45abc\"}, {\"line\": {\"shape\": \"spline\"}, \"name\": \"9\", \"x\": [-0.05804288387298584, -0.03097999095916748, -0.012326657772064209, -0.0007824301719665527, 0.010746553540229797, 0.03512510657310486, 0.053601909428834915], \"y\": [0.022680573165416718, 0.01733514666557312, 0.012281358242034912, 0.009852312505245209, 0.009804360568523407, 0.016268238425254822, 0.022041374817490578], \"type\": \"scatter\", \"uid\": \"ee971293-2373-4a8d-9f2a-86cfefe72d91\"}, {\"line\": {\"shape\": \"spline\"}, \"name\": \"10\", \"x\": [-0.0943421721458435, -0.04927670955657959, -0.019120335578918457, -0.00032126903533935547, 0.019501157104969025, 0.051643796265125275, 0.08726337552070618], \"y\": [-0.024290859699249268, -0.04339057207107544, -0.05482625961303711, -0.06229299306869507, -0.05547356605529785, -0.04255920648574829, -0.024983882904052734], \"type\": \"scatter\", \"uid\": \"7b6861d1-e396-48aa-9d3a-37fcb4e5e9bc\"}, {\"line\": {\"shape\": \"spline\"}, \"name\": \"11\", \"x\": [-0.1332319974899292, -0.07416015863418579, -0.031320035457611084, 0.0003347955644130707, 0.032579854130744934, 0.07481730729341507, 0.12410633265972137], \"y\": [-0.06481385231018066, -0.09600955247879028, -0.11392170190811157, -0.12445920705795288, -0.11490523815155029, -0.09338665008544922, -0.06520569324493408], \"type\": \"scatter\", \"uid\": \"9980f583-1a9e-43dc-a722-bdab6243d2c7\"}, {\"line\": {\"shape\": \"spline\"}, \"name\": \"12\", \"x\": [-0.16171270608901978, -0.09458327293395996, -0.042890310287475586, 0.0004975851625204086, 0.04347193241119385, 0.09497720748186111, 0.1531817615032196], \"y\": [-0.10283303260803223, -0.14120334386825562, -0.1640971302986145, -0.17638444900512695, -0.1659066081047058, -0.13851475715637207, -0.10347622632980347], \"type\": \"scatter\", \"uid\": \"c109399d-9498-4e26-91db-4d1bb249ca1f\"}, {\"line\": {\"shape\": \"spline\"}, \"name\": \"13\", \"x\": [-0.18699020147323608, -0.11571967601776123, -0.05601680278778076, 0.00021283049136400223, 0.055003054440021515, 0.11675510555505753, 0.1825120449066162], \"y\": [-0.16937237977981567, -0.2147618532180786, -0.24181324243545532, -0.2560844421386719, -0.24430209398269653, -0.21294987201690674, -0.17138570547103882], \"type\": \"scatter\", \"uid\": \"4ac61d9b-3108-418e-beee-c41e031e14d1\"}, {\"line\": {\"shape\": \"spline\"}, \"name\": \"14\", \"x\": [-0.1930469274520874, -0.12490397691726685, -0.06168729066848755, -0.0009282231330871582, 0.0597304105758667, 0.1255207359790802, 0.19405433535575867], \"y\": [-0.23895388841629028, -0.2865351438522339, -0.3108900785446167, -0.32724666595458984, -0.312164306640625, -0.2853456139564514, -0.24361956119537354], \"type\": \"scatter\", \"uid\": \"87604c80-2831-4fd6-b57c-a1d6b9854fee\"}, {\"line\": {\"shape\": \"spline\"}, \"name\": \"15\", \"x\": [-0.1810930371284485, -0.12495023012161255, -0.05834949016571045, -0.000664830207824707, 0.05833329260349274, 0.11756084114313126, 0.18755017220973969], \"y\": [-0.31761419773101807, -0.36163294315338135, -0.3768641948699951, -0.39521557092666626, -0.37550997734069824, -0.362359881401062, -0.3267892599105835], \"type\": \"scatter\", \"uid\": \"1eee41d2-d0a6-4091-82b9-23e8386b8f4b\"}, {\"line\": {\"shape\": \"spline\"}, \"name\": \"16\", \"x\": [-0.16830074787139893, -0.12207907438278198, -0.05306810140609741, 0.0005060071125626564, 0.05530206859111786, 0.10683489590883255, 0.17681986093521118], \"y\": [-0.35895729064941406, -0.3987637758255005, -0.4070546627044678, -0.4258996844291687, -0.4040377736091614, -0.4008558392524719, -0.37059205770492554], \"type\": \"scatter\", \"uid\": \"339c14ee-a6a9-41b4-96c4-d20c624e0e99\"}, {\"line\": {\"shape\": \"spline\"}, \"name\": \"17\", \"x\": [-0.15135765075683594, -0.11757171154022217, -0.04574131965637207, 0.00258819293230772, 0.05054943263530731, 0.09221308678388596, 0.16111773252487183], \"y\": [-0.4005075693130493, -0.4344884753227234, -0.4343818426132202, -0.45282310247421265, -0.4292879104614258, -0.4380335807800293, -0.414612352848053], \"type\": \"scatter\", \"uid\": \"8700f9f4-e909-4fba-9b1e-098294ffb602\"}], {\"height\": 600, \"hovermode\": \"closest\", \"title\": {\"text\": \"Initial Curves\"}, \"width\": 600, \"xaxis\": {\"range\": [-0.5, 0.5], \"title\": {\"text\": \"X\"}}, \"yaxis\": {\"range\": [-0.8, 0.2], \"title\": {\"text\": \"Y\"}}}, {\"showLink\": false, \"linkText\": \"Export to plot.ly\", \"plotlyServerURL\": \"https://plot.ly\"})});</script>"
      ]
     },
     "metadata": {},
     "output_type": "display_data"
    }
   ],
   "source": [
    "\n",
    "i = 7\n",
    "p0 = phTout0.data.numpy()[i]\n",
    "p1 = phTout1.data.numpy()[i]\n",
    "\n",
    "p01_0 = phCout0.data.numpy()[i]\n",
    "p01_1 = phCout1.data.numpy()[i]\n",
    "\n",
    "# nx = np.concatenate((p0,p01_0))\n",
    "nx = np.concatenate((p1,p01_1))\n",
    "\n",
    "\n",
    "# gx = gy.FormatNetworkToGraphColumns(nx, xOffset=0, yOffset=7, colPoints=7)\n",
    "# gx = gy.FormatNetworkToGraphColumns(nx, xOffset=0, yOffset=14, colPoints=7)\n",
    "gx = gy.FormatNetworkToGraphColumns(nx, xOffset=7, yOffset=14, colPoints=7)\n",
    "\n",
    "layout = go.Layout(\n",
    "    title = 'Initial Curves',\n",
    "    height = 600,\n",
    "    width = 600,\n",
    "    hovermode= 'closest',\n",
    "    xaxis= dict(\n",
    "        title= 'X',\n",
    "        range = [-.5,.5],\n",
    "    ),\n",
    "    yaxis=dict(\n",
    "        title= 'Y',\n",
    "        range = [-.8,.2],\n",
    "    )\n",
    ")\n",
    "f = gy.graphCurves(gx, layout, dashRange=range(0,9))\n",
    "offline.iplot(f)\n"
   ]
  },
  {
   "cell_type": "code",
   "execution_count": 24,
   "metadata": {},
   "outputs": [
    {
     "data": {
      "application/vnd.plotly.v1+json": {
       "config": {
        "linkText": "Export to plot.ly",
        "plotlyServerURL": "https://plot.ly",
        "showLink": false
       },
       "data": [
        {
         "line": {
          "shape": "spline"
         },
         "name": "0",
         "type": "scatter",
         "uid": "2bf44314-beed-490f-9ed6-5ee04d0beb96",
         "x": [
          0.00924009084701538,
          0.009746193885803223,
          0.010054625570774078,
          0.009828180074691772,
          0.01072835922241211,
          0.008776657283306122,
          0.009009920060634613
         ],
         "y": [
          -0.051709532737731934,
          -0.03137695789337158,
          -0.014062047004699707,
          3.618001937866211e-05,
          0.013416916131973267,
          0.029561154544353485,
          0.054504185914993286
         ]
        },
        {
         "line": {
          "shape": "spline"
         },
         "name": "1",
         "type": "scatter",
         "uid": "d7c1fd1d-563c-4ae0-8837-2f5ee1a24de0",
         "x": [
          0.1502506136894226,
          0.13121746480464935,
          0.12616999447345734,
          0.12192922830581665,
          0.12519830465316772,
          0.13254712522029877,
          0.15188318490982056
         ],
         "y": [
          -0.09083247184753418,
          -0.05187106132507324,
          -0.024411380290985107,
          0.00015370920300483704,
          0.024526968598365784,
          0.05457407981157303,
          0.08943147957324982
         ]
        },
        {
         "line": {
          "shape": "spline"
         },
         "name": "2",
         "type": "scatter",
         "uid": "9b9f6982-201e-4838-a5c5-07048b9746a1",
         "x": [
          0.26229366660118103,
          0.2324007749557495,
          0.22170570492744446,
          0.21541878581047058,
          0.22160807251930237,
          0.2334282398223877,
          0.2636001408100128
         ],
         "y": [
          -0.12067747116088867,
          -0.06761646270751953,
          -0.03338354825973511,
          0.00011090189218521118,
          0.03387299180030823,
          0.07523638755083084,
          0.11650829017162323
         ]
        },
        {
         "line": {
          "shape": "spline"
         },
         "name": "3",
         "type": "scatter",
         "uid": "c1bec9df-a0be-451f-9638-dfc6fabb5fbb",
         "x": [
          0.3519163131713867,
          0.31835639476776123,
          0.30387789011001587,
          0.2972675859928131,
          0.30551260709762573,
          0.318198025226593,
          0.3512578010559082
         ],
         "y": [
          -0.14296090602874756,
          -0.08047527074813843,
          -0.0411839485168457,
          2.8427690267562866e-05,
          0.04167415201663971,
          0.09194911271333694,
          0.13791798055171967
         ]
        },
        {
         "line": {
          "shape": "spline"
         },
         "name": "4",
         "type": "scatter",
         "uid": "eafacc9d-5505-41d3-a49d-b30c3136f5a4",
         "x": [
          0.48037365078926086,
          0.45154717564582825,
          0.43996793031692505,
          0.4332126975059509,
          0.4410070776939392,
          0.45192086696624756,
          0.47905004024505615
         ],
         "y": [
          -0.16403865814208984,
          -0.09395653009414673,
          -0.04912424087524414,
          5.853921175003052e-05,
          0.05002501606941223,
          0.10769752413034439,
          0.16073335707187653
         ]
        },
        {
         "line": {
          "shape": "spline"
         },
         "name": "5",
         "type": "scatter",
         "uid": "db7205e1-6ff8-4dfa-969c-22c0c9afd4f6",
         "x": [
          0.592829167842865,
          0.5760056376457214,
          0.5705606341362,
          0.566125750541687,
          0.5713480114936829,
          0.5765249729156494,
          0.591170072555542
         ],
         "y": [
          -0.1697494387626648,
          -0.09933829307556152,
          -0.05285829305648804,
          4.860386252403259e-05,
          0.053718313574790955,
          0.11304152756929398,
          0.16828490793704987
         ]
        },
        {
         "line": {
          "shape": "spline"
         },
         "name": "6",
         "type": "scatter",
         "uid": "20668d77-324e-4946-b97c-f4200573b1e1",
         "x": [
          0.7144467234611511,
          0.7168309688568115,
          0.7200656533241272,
          0.7220075130462646,
          0.7218546271324158,
          0.7165209054946899,
          0.7122856974601746
         ],
         "y": [
          -0.1596202850341797,
          -0.09788811206817627,
          -0.052854180335998535,
          -9.179115295410156e-06,
          0.05252693593502045,
          0.10898379236459732,
          0.15986575186252594
         ]
        },
        {
         "line": {
          "shape": "spline"
         },
         "name": "7",
         "type": "scatter",
         "uid": "d608d806-1f61-41e6-991b-0f3798ab07fe",
         "x": [
          0.786978006362915,
          0.8029369711875916,
          0.8128569722175598,
          0.8200896978378296,
          0.8151714205741882,
          0.8022447824478149,
          0.7850273251533508
         ],
         "y": [
          -0.1456911563873291,
          -0.09398096799850464,
          -0.050670087337493896,
          -1.8656253814697266e-05,
          0.049051523208618164,
          0.10182023793458939,
          0.14744378626346588
         ]
        },
        {
         "line": {
          "shape": "spline"
         },
         "name": "8",
         "type": "scatter",
         "uid": "be0c3bbf-3d6a-4b9b-970f-dfcce001e0d4",
         "x": [
          0.8739941120147705,
          0.9072597622871399,
          0.9264410138130188,
          0.9408588409423828,
          0.929012656211853,
          0.9064587354660034,
          0.8728787899017334
         ],
         "y": [
          -0.122749924659729,
          -0.0871572494506836,
          -0.04627060890197754,
          1.2721866369247437e-05,
          0.04270879924297333,
          0.08967293053865433,
          0.12730564177036285
         ]
        }
       ],
       "layout": {
        "height": 600,
        "hovermode": "closest",
        "title": {
         "text": "Time 0 for different species combinations"
        },
        "width": 600,
        "xaxis": {
         "range": [
          -0.4,
          1.1
         ],
         "title": {
          "text": "X"
         }
        },
        "yaxis": {
         "range": [
          -0.25,
          0.25
         ],
         "title": {
          "text": "Y"
         }
        }
       }
      },
      "text/html": [
       "<div id=\"f7e45fc6-c0bf-4a27-9c18-74094b55f605\" style=\"height: 600px; width: 600px;\" class=\"plotly-graph-div\"></div><script type=\"text/javascript\">require([\"plotly\"], function(Plotly) { window.PLOTLYENV=window.PLOTLYENV || {};window.PLOTLYENV.BASE_URL=\"https://plot.ly\";Plotly.newPlot(\"f7e45fc6-c0bf-4a27-9c18-74094b55f605\", [{\"line\": {\"shape\": \"spline\"}, \"name\": \"0\", \"x\": [0.00924009084701538, 0.009746193885803223, 0.010054625570774078, 0.009828180074691772, 0.01072835922241211, 0.008776657283306122, 0.009009920060634613], \"y\": [-0.051709532737731934, -0.03137695789337158, -0.014062047004699707, 3.618001937866211e-05, 0.013416916131973267, 0.029561154544353485, 0.054504185914993286], \"type\": \"scatter\", \"uid\": \"2bf44314-beed-490f-9ed6-5ee04d0beb96\"}, {\"line\": {\"shape\": \"spline\"}, \"name\": \"1\", \"x\": [0.1502506136894226, 0.13121746480464935, 0.12616999447345734, 0.12192922830581665, 0.12519830465316772, 0.13254712522029877, 0.15188318490982056], \"y\": [-0.09083247184753418, -0.05187106132507324, -0.024411380290985107, 0.00015370920300483704, 0.024526968598365784, 0.05457407981157303, 0.08943147957324982], \"type\": \"scatter\", \"uid\": \"d7c1fd1d-563c-4ae0-8837-2f5ee1a24de0\"}, {\"line\": {\"shape\": \"spline\"}, \"name\": \"2\", \"x\": [0.26229366660118103, 0.2324007749557495, 0.22170570492744446, 0.21541878581047058, 0.22160807251930237, 0.2334282398223877, 0.2636001408100128], \"y\": [-0.12067747116088867, -0.06761646270751953, -0.03338354825973511, 0.00011090189218521118, 0.03387299180030823, 0.07523638755083084, 0.11650829017162323], \"type\": \"scatter\", \"uid\": \"9b9f6982-201e-4838-a5c5-07048b9746a1\"}, {\"line\": {\"shape\": \"spline\"}, \"name\": \"3\", \"x\": [0.3519163131713867, 0.31835639476776123, 0.30387789011001587, 0.2972675859928131, 0.30551260709762573, 0.318198025226593, 0.3512578010559082], \"y\": [-0.14296090602874756, -0.08047527074813843, -0.0411839485168457, 2.8427690267562866e-05, 0.04167415201663971, 0.09194911271333694, 0.13791798055171967], \"type\": \"scatter\", \"uid\": \"c1bec9df-a0be-451f-9638-dfc6fabb5fbb\"}, {\"line\": {\"shape\": \"spline\"}, \"name\": \"4\", \"x\": [0.48037365078926086, 0.45154717564582825, 0.43996793031692505, 0.4332126975059509, 0.4410070776939392, 0.45192086696624756, 0.47905004024505615], \"y\": [-0.16403865814208984, -0.09395653009414673, -0.04912424087524414, 5.853921175003052e-05, 0.05002501606941223, 0.10769752413034439, 0.16073335707187653], \"type\": \"scatter\", \"uid\": \"eafacc9d-5505-41d3-a49d-b30c3136f5a4\"}, {\"line\": {\"shape\": \"spline\"}, \"name\": \"5\", \"x\": [0.592829167842865, 0.5760056376457214, 0.5705606341362, 0.566125750541687, 0.5713480114936829, 0.5765249729156494, 0.591170072555542], \"y\": [-0.1697494387626648, -0.09933829307556152, -0.05285829305648804, 4.860386252403259e-05, 0.053718313574790955, 0.11304152756929398, 0.16828490793704987], \"type\": \"scatter\", \"uid\": \"db7205e1-6ff8-4dfa-969c-22c0c9afd4f6\"}, {\"line\": {\"shape\": \"spline\"}, \"name\": \"6\", \"x\": [0.7144467234611511, 0.7168309688568115, 0.7200656533241272, 0.7220075130462646, 0.7218546271324158, 0.7165209054946899, 0.7122856974601746], \"y\": [-0.1596202850341797, -0.09788811206817627, -0.052854180335998535, -9.179115295410156e-06, 0.05252693593502045, 0.10898379236459732, 0.15986575186252594], \"type\": \"scatter\", \"uid\": \"20668d77-324e-4946-b97c-f4200573b1e1\"}, {\"line\": {\"shape\": \"spline\"}, \"name\": \"7\", \"x\": [0.786978006362915, 0.8029369711875916, 0.8128569722175598, 0.8200896978378296, 0.8151714205741882, 0.8022447824478149, 0.7850273251533508], \"y\": [-0.1456911563873291, -0.09398096799850464, -0.050670087337493896, -1.8656253814697266e-05, 0.049051523208618164, 0.10182023793458939, 0.14744378626346588], \"type\": \"scatter\", \"uid\": \"d608d806-1f61-41e6-991b-0f3798ab07fe\"}, {\"line\": {\"shape\": \"spline\"}, \"name\": \"8\", \"x\": [0.8739941120147705, 0.9072597622871399, 0.9264410138130188, 0.9408588409423828, 0.929012656211853, 0.9064587354660034, 0.8728787899017334], \"y\": [-0.122749924659729, -0.0871572494506836, -0.04627060890197754, 1.2721866369247437e-05, 0.04270879924297333, 0.08967293053865433, 0.12730564177036285], \"type\": \"scatter\", \"uid\": \"be0c3bbf-3d6a-4b9b-970f-dfcce001e0d4\"}], {\"height\": 600, \"hovermode\": \"closest\", \"title\": {\"text\": \"Time 0 for different species combinations\"}, \"width\": 600, \"xaxis\": {\"range\": [-0.4, 1.1], \"title\": {\"text\": \"X\"}}, \"yaxis\": {\"range\": [-0.25, 0.25], \"title\": {\"text\": \"Y\"}}}, {\"showLink\": false, \"linkText\": \"Export to plot.ly\", \"plotlyServerURL\": \"https://plot.ly\"})});</script>"
      ],
      "text/vnd.plotly.v1+html": [
       "<div id=\"f7e45fc6-c0bf-4a27-9c18-74094b55f605\" style=\"height: 600px; width: 600px;\" class=\"plotly-graph-div\"></div><script type=\"text/javascript\">require([\"plotly\"], function(Plotly) { window.PLOTLYENV=window.PLOTLYENV || {};window.PLOTLYENV.BASE_URL=\"https://plot.ly\";Plotly.newPlot(\"f7e45fc6-c0bf-4a27-9c18-74094b55f605\", [{\"line\": {\"shape\": \"spline\"}, \"name\": \"0\", \"x\": [0.00924009084701538, 0.009746193885803223, 0.010054625570774078, 0.009828180074691772, 0.01072835922241211, 0.008776657283306122, 0.009009920060634613], \"y\": [-0.051709532737731934, -0.03137695789337158, -0.014062047004699707, 3.618001937866211e-05, 0.013416916131973267, 0.029561154544353485, 0.054504185914993286], \"type\": \"scatter\", \"uid\": \"2bf44314-beed-490f-9ed6-5ee04d0beb96\"}, {\"line\": {\"shape\": \"spline\"}, \"name\": \"1\", \"x\": [0.1502506136894226, 0.13121746480464935, 0.12616999447345734, 0.12192922830581665, 0.12519830465316772, 0.13254712522029877, 0.15188318490982056], \"y\": [-0.09083247184753418, -0.05187106132507324, -0.024411380290985107, 0.00015370920300483704, 0.024526968598365784, 0.05457407981157303, 0.08943147957324982], \"type\": \"scatter\", \"uid\": \"d7c1fd1d-563c-4ae0-8837-2f5ee1a24de0\"}, {\"line\": {\"shape\": \"spline\"}, \"name\": \"2\", \"x\": [0.26229366660118103, 0.2324007749557495, 0.22170570492744446, 0.21541878581047058, 0.22160807251930237, 0.2334282398223877, 0.2636001408100128], \"y\": [-0.12067747116088867, -0.06761646270751953, -0.03338354825973511, 0.00011090189218521118, 0.03387299180030823, 0.07523638755083084, 0.11650829017162323], \"type\": \"scatter\", \"uid\": \"9b9f6982-201e-4838-a5c5-07048b9746a1\"}, {\"line\": {\"shape\": \"spline\"}, \"name\": \"3\", \"x\": [0.3519163131713867, 0.31835639476776123, 0.30387789011001587, 0.2972675859928131, 0.30551260709762573, 0.318198025226593, 0.3512578010559082], \"y\": [-0.14296090602874756, -0.08047527074813843, -0.0411839485168457, 2.8427690267562866e-05, 0.04167415201663971, 0.09194911271333694, 0.13791798055171967], \"type\": \"scatter\", \"uid\": \"c1bec9df-a0be-451f-9638-dfc6fabb5fbb\"}, {\"line\": {\"shape\": \"spline\"}, \"name\": \"4\", \"x\": [0.48037365078926086, 0.45154717564582825, 0.43996793031692505, 0.4332126975059509, 0.4410070776939392, 0.45192086696624756, 0.47905004024505615], \"y\": [-0.16403865814208984, -0.09395653009414673, -0.04912424087524414, 5.853921175003052e-05, 0.05002501606941223, 0.10769752413034439, 0.16073335707187653], \"type\": \"scatter\", \"uid\": \"eafacc9d-5505-41d3-a49d-b30c3136f5a4\"}, {\"line\": {\"shape\": \"spline\"}, \"name\": \"5\", \"x\": [0.592829167842865, 0.5760056376457214, 0.5705606341362, 0.566125750541687, 0.5713480114936829, 0.5765249729156494, 0.591170072555542], \"y\": [-0.1697494387626648, -0.09933829307556152, -0.05285829305648804, 4.860386252403259e-05, 0.053718313574790955, 0.11304152756929398, 0.16828490793704987], \"type\": \"scatter\", \"uid\": \"db7205e1-6ff8-4dfa-969c-22c0c9afd4f6\"}, {\"line\": {\"shape\": \"spline\"}, \"name\": \"6\", \"x\": [0.7144467234611511, 0.7168309688568115, 0.7200656533241272, 0.7220075130462646, 0.7218546271324158, 0.7165209054946899, 0.7122856974601746], \"y\": [-0.1596202850341797, -0.09788811206817627, -0.052854180335998535, -9.179115295410156e-06, 0.05252693593502045, 0.10898379236459732, 0.15986575186252594], \"type\": \"scatter\", \"uid\": \"20668d77-324e-4946-b97c-f4200573b1e1\"}, {\"line\": {\"shape\": \"spline\"}, \"name\": \"7\", \"x\": [0.786978006362915, 0.8029369711875916, 0.8128569722175598, 0.8200896978378296, 0.8151714205741882, 0.8022447824478149, 0.7850273251533508], \"y\": [-0.1456911563873291, -0.09398096799850464, -0.050670087337493896, -1.8656253814697266e-05, 0.049051523208618164, 0.10182023793458939, 0.14744378626346588], \"type\": \"scatter\", \"uid\": \"d608d806-1f61-41e6-991b-0f3798ab07fe\"}, {\"line\": {\"shape\": \"spline\"}, \"name\": \"8\", \"x\": [0.8739941120147705, 0.9072597622871399, 0.9264410138130188, 0.9408588409423828, 0.929012656211853, 0.9064587354660034, 0.8728787899017334], \"y\": [-0.122749924659729, -0.0871572494506836, -0.04627060890197754, 1.2721866369247437e-05, 0.04270879924297333, 0.08967293053865433, 0.12730564177036285], \"type\": \"scatter\", \"uid\": \"be0c3bbf-3d6a-4b9b-970f-dfcce001e0d4\"}], {\"height\": 600, \"hovermode\": \"closest\", \"title\": {\"text\": \"Time 0 for different species combinations\"}, \"width\": 600, \"xaxis\": {\"range\": [-0.4, 1.1], \"title\": {\"text\": \"X\"}}, \"yaxis\": {\"range\": [-0.25, 0.25], \"title\": {\"text\": \"Y\"}}}, {\"showLink\": false, \"linkText\": \"Export to plot.ly\", \"plotlyServerURL\": \"https://plot.ly\"})});</script>"
      ]
     },
     "metadata": {},
     "output_type": "display_data"
    }
   ],
   "source": [
    "'''\n",
    "5. Graph data \n",
    "'''\n",
    "ti = 7\n",
    "nx = np.array(phTout1[ti].data.numpy())\n",
    "gx = gy.FormatNetworkToGraphColumns(nx, xOffset=0, yOffset=7, colPoints=7)\n",
    "\n",
    "layout = go.Layout(\n",
    "    title = 'Initial Curves',\n",
    "    height = 600,\n",
    "    width = 600,\n",
    "    hovermode= 'closest',\n",
    "    xaxis= dict(\n",
    "        title= 'X',\n",
    "        range = [-.4,1.1],\n",
    "    ),\n",
    "    yaxis=dict(\n",
    "        title= 'Y',\n",
    "        range = [-.25,.25],\n",
    "    )\n",
    ")\n",
    "\n",
    "layout.title = 'Time 0 for different species combinations'\n",
    "f = gy.graphCurves(gx, layout)\n",
    "offline.iplot(f)"
   ]
  },
  {
   "cell_type": "code",
   "execution_count": 25,
   "metadata": {},
   "outputs": [
    {
     "data": {
      "text/plain": [
       "'\\n7. Save two template interpolation model to file\\n\\n'"
      ]
     },
     "execution_count": 25,
     "metadata": {},
     "output_type": "execute_result"
    }
   ],
   "source": [
    "'''\n",
    "7. Save two template interpolation model to file\n",
    "\n",
    "'''\n",
    "\n",
    "# PATH = CURRENT_MODEL_SAVE_DIR +'PH PhRcPh-T0T1-mask 11p05.pth'\n",
    "# torch.save(phModel.state_dict(), PATH)\n",
    "# PATH = CURRENT_MODEL_SAVE_DIR +'REL PhRcPh-T0T1-mask 11p05.pth'\n",
    "# torch.save(geModel.state_dict(), PATH)\n"
   ]
  },
  {
   "cell_type": "code",
   "execution_count": 26,
   "metadata": {},
   "outputs": [
    {
     "data": {
      "text/plain": [
       "'\\n9. Generate blender data from template interpolation model output\\n\\n#phOut.shape torch.Size([10, 7, 23])\\n\\n'"
      ]
     },
     "execution_count": 26,
     "metadata": {},
     "output_type": "execute_result"
    }
   ],
   "source": [
    "'''\n",
    "9. Generate blender data from template interpolation model output\n",
    "\n",
    "#phOut.shape torch.Size([10, 7, 23])\n",
    "\n",
    "'''\n",
    "\n",
    "# phOut = phModel(torch.Tensor(torch.Tensor(inpt0)))\n",
    "\n",
    "# x = phOut.detach().numpy()\n",
    "# fb = gy.FormatNetworkToBlender(x, xOffset=0, yOffset=7, zOffset=14, colPoints=7)\n",
    "\n",
    "# with open(CURRENT_MODEL_SAVE_DIR +'btest.json', 'w') as fp:\n",
    "#     json.dump(fb.tolist(),fp)\n",
    "    \n",
    "# x.shape, fb.shape"
   ]
  }
 ],
 "metadata": {
  "kernelspec": {
   "display_name": "Python [conda env:pytorch]",
   "language": "python",
   "name": "conda-env-pytorch-py"
  },
  "language_info": {
   "codemirror_mode": {
    "name": "ipython",
    "version": 3
   },
   "file_extension": ".py",
   "mimetype": "text/x-python",
   "name": "python",
   "nbconvert_exporter": "python",
   "pygments_lexer": "ipython3",
   "version": "3.7.2"
  }
 },
 "nbformat": 4,
 "nbformat_minor": 2
}
