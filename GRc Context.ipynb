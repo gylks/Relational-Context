{
 "cells": [
  {
   "cell_type": "markdown",
   "metadata": {},
   "source": [
    "Read two saved template Models \n",
    "Interpolate Ge and Ph data to create input and output targets for training.  \n",
    "\n",
    "1. Load existing template NN models\n",
    "2. Create parameters for generating training data from source template models\n",
    "3. Initialize template interpolation (ti) model\n",
    "4. Train ti model\n",
    "5. Generate test data for graphing\n",
    "6. Save ti model to file\n",
    "7. Generate blender data from ti model output"
   ]
  },
  {
   "cell_type": "code",
   "execution_count": 2,
   "metadata": {},
   "outputs": [
    {
     "data": {
      "text/html": [
       "<script type=\"text/javascript\">window.PlotlyConfig = {MathJaxConfig: 'local'};</script><script type=\"text/javascript\">if (window.MathJax) {MathJax.Hub.Config({SVG: {font: \"STIX-Web\"}});}</script><script>requirejs.config({paths: { 'plotly': ['https://cdn.plot.ly/plotly-latest.min']},});if(!window._Plotly) {require(['plotly'],function(plotly) {window._Plotly=plotly;});}</script>"
      ],
      "text/vnd.plotly.v1+html": [
       "<script type=\"text/javascript\">window.PlotlyConfig = {MathJaxConfig: 'local'};</script><script type=\"text/javascript\">if (window.MathJax) {MathJax.Hub.Config({SVG: {font: \"STIX-Web\"}});}</script><script>requirejs.config({paths: { 'plotly': ['https://cdn.plot.ly/plotly-latest.min']},});if(!window._Plotly) {require(['plotly'],function(plotly) {window._Plotly=plotly;});}</script>"
      ]
     },
     "metadata": {},
     "output_type": "display_data"
    }
   ],
   "source": [
    "import torch as torch\n",
    "import torch.nn as nn\n",
    "import torch.nn.functional as F\n",
    "import torch.optim as optim\n",
    "\n",
    "import os\n",
    "import numpy as np\n",
    "import json \n",
    "import math as m\n",
    "import random\n",
    "import time\n",
    "import NNArt as gy\n",
    "from sympy.utilities.iterables import multiset_permutations\n",
    "\n",
    "import plotly as py\n",
    "import plotly.offline as offline\n",
    "import plotly.graph_objs as go\n",
    "import plotly.figure_factory as ff\n",
    "import plotly.io as pio\n",
    "\n",
    "CURRENT_MODEL_SAVE_DIR = './save/'\n",
    "\n",
    "offline.init_notebook_mode(connected=True) \n",
    "np.set_printoptions(precision=3, suppress=True)"
   ]
  },
  {
   "cell_type": "code",
   "execution_count": 3,
   "metadata": {},
   "outputs": [],
   "source": [
    "class Net(nn.Module):\n",
    "    def __init__(self, layerSizes, name):\n",
    "        super(Net, self).__init__()\n",
    "        self.shape = layerSizes\n",
    "        self.name = name\n",
    "        self.seq = nn.Sequential(\n",
    "            nn.Linear(layerSizes[0],layerSizes[1]),\n",
    "            nn.ELU(),          \n",
    "            nn.Linear(layerSizes[1],layerSizes[2]),\n",
    "            nn.ELU(),            \n",
    "            nn.Linear(layerSizes[2],layerSizes[3]),\n",
    "            nn.ELU()\n",
    "        )          \n",
    "    def forward(self, x):\n",
    "        return self.seq(x) "
   ]
  },
  {
   "cell_type": "code",
   "execution_count": 19,
   "metadata": {},
   "outputs": [
    {
     "data": {
      "text/plain": [
       "([2, 10, 15, 21], torch.Size([10, 2]), (10, 21))"
      ]
     },
     "execution_count": 19,
     "metadata": {},
     "output_type": "execute_result"
    }
   ],
   "source": [
    "#tmModel1\n",
    "geRange = 1.\n",
    "batchsize = 10\n",
    "ge = np.random.random([batchsize,2]) * geRange\n",
    "tge = torch.Tensor(ge)\n",
    "tm0Out = tmModel1(tge).data.numpy()\n",
    "\n",
    "tmModel1.shape, tge.shape, tm0Out.shape"
   ]
  },
  {
   "cell_type": "code",
   "execution_count": 3,
   "metadata": {},
   "outputs": [],
   "source": [
    "def genRcTrain(relModel,genModel, parms):\n",
    "    epochs = parms['epochs']\n",
    "    lrR = parms['lrR']\n",
    "    lrG = parms['lrG']\n",
    "    tModels = parms['tModels']\n",
    "    device = parms['device']\n",
    "    numSamples = parms['numSamples']\n",
    "    rFilter = parms['rFilter'] \n",
    "    numContextDims=1 #extra emergent dimensions\n",
    "\n",
    "    minLossG = 1000\n",
    "    maxLossG = -10\n",
    "    minLossR = 10\n",
    "    maxLossR = 0\n",
    "    criterion = torch.nn.MSELoss(reduction='sum')\n",
    "    relOptimizer = torch.optim.Adam(relModel.parameters(), lr=lrR)\n",
    "    genOptimizer = torch.optim.Adam(genModel.parameters(), lr=lrG)\n",
    "    for epoch in range(epochs):\n",
    "        #Each epoch get a new training set based on random input to the template models\n",
    "        relTarget, genTarget, _ = gy.createGenRcTargetsFromModelList(tModels, numSamples, numContextDims)\n",
    "\n",
    "        genOptimizer.zero_grad()\n",
    "        relOptimizer.zero_grad()\n",
    "        \n",
    "        relOutput = relModel(genTarget)\n",
    "        genOutput = genModel(relOutput)\n",
    "\n",
    "        lossG = criterion(genOutput, genTarget)\n",
    "        lossR = criterion(relOutput*rFilter, relTarget*rFilter)\n",
    "\n",
    "        (lossG).backward(retain_graph=True)\n",
    "        (lossR).backward()\n",
    "        \n",
    "        genOptimizer.step()\n",
    "        relOptimizer.step()\n",
    "        \n",
    "        minLossG = min(lossG.data.item(), minLossG)\n",
    "        maxLossG = max(lossG.data.item(), maxLossG)\n",
    "        minLossR = min(lossR.data.item(), minLossR)\n",
    "        maxLossR = max(lossR.data.item(), maxLossR)\n",
    "        \n",
    "        if (epoch) % (epochs/10) == 0:\n",
    "            print(\"Epoch {0:,.0f} - lossR: {1:,.5f} - lossG: {2:,.5f}\".format(\n",
    "                epoch, lossR/numSamples, lossG/numSamples))\n",
    "            \n",
    "    print(\"Epoch {0:,.0f} - lossR: {1:,.5f}:{2:,.5f} - lossG: {3:,.5f}:{4:,.5f}\".format(epoch+1, \n",
    "                minLossR/numSamples, maxLossR/numSamples, minLossG/numSamples, maxLossG/numSamples))\n",
    "\n",
    "    return"
   ]
  },
  {
   "cell_type": "code",
   "execution_count": 7,
   "metadata": {},
   "outputs": [
    {
     "data": {
      "text/plain": [
       "([2, 10, 15, 21], [2, 10, 15, 21], './save/templateModel1.pth')"
      ]
     },
     "execution_count": 7,
     "metadata": {},
     "output_type": "execute_result"
    }
   ],
   "source": [
    "'''\n",
    "1. Load existing template NN models\n",
    "templateModel2\n",
    "\n",
    "'''\n",
    "\n",
    "tmModel0 = Net([2,10,15,21],'tmModel0')\n",
    "tmModel1 = Net([2,10,15,21],'tmModel1')\n",
    "\n",
    "PATH=CURRENT_MODEL_SAVE_DIR+'templateModel0.pth'\n",
    "tmModel0.load_state_dict(torch.load(PATH))\n",
    "PATH=CURRENT_MODEL_SAVE_DIR+'templateModel1.pth'\n",
    "tmModel1.load_state_dict(torch.load(PATH))\n",
    "tmModel0.eval()\n",
    "tmModel1.eval()\n",
    "\n",
    "tmModel0.shape, tmModel1.shape,PATH"
   ]
  },
  {
   "cell_type": "code",
   "execution_count": 8,
   "metadata": {},
   "outputs": [
    {
     "name": "stdout",
     "output_type": "stream",
     "text": [
      "Transfer to use  cpu\n"
     ]
    },
    {
     "data": {
      "text/plain": [
       "([21, 15, 10, 3], [3, 10, 15, 21])"
      ]
     },
     "execution_count": 8,
     "metadata": {},
     "output_type": "execute_result"
    }
   ],
   "source": [
    "'''\n",
    "2. Initialize P-Gc-P\n",
    "\n",
    "'''\n",
    "\n",
    "#initialize network\n",
    "manualSeed = 1\n",
    "\n",
    "np.random.seed(manualSeed)\n",
    "torch.manual_seed(manualSeed)\n",
    "\n",
    "relModel = Net([21,15,10,3],'relModel')\n",
    "genModel = Net([3,10,15,21],'genModel')\n",
    "relModel.train()\n",
    "genModel.train()\n",
    "\n",
    "# device = torch.device(\"cuda:0\")\n",
    "device = torch.device(\"cpu\")\n",
    "if device:\n",
    "    relModel.to(device)\n",
    "    genModel.to(device)\n",
    "    tmModel0.to(device)\n",
    "    tmModel1.to(device)\n",
    "    print(\"Transfer to use \", device)\n",
    "\n",
    "relModel.shape, genModel.shape"
   ]
  },
  {
   "cell_type": "code",
   "execution_count": 62,
   "metadata": {},
   "outputs": [
    {
     "name": "stdout",
     "output_type": "stream",
     "text": [
      "Epoch 0 - lossR: 1.84756 - lossG: 3.13059\n",
      "Epoch 10,000 - lossR: 0.19716 - lossG: 0.01196\n",
      "Epoch 20,000 - lossR: 0.00103 - lossG: 0.00510\n",
      "Epoch 30,000 - lossR: 0.06058 - lossG: 0.00220\n",
      "Epoch 40,000 - lossR: 0.00432 - lossG: 0.00054\n",
      "Epoch 50,000 - lossR: 0.00259 - lossG: 0.00171\n",
      "Epoch 60,000 - lossR: 0.00032 - lossG: 0.00095\n",
      "Epoch 70,000 - lossR: 0.00100 - lossG: 0.00310\n",
      "Epoch 80,000 - lossR: 0.00284 - lossG: 0.00219\n",
      "Epoch 90,000 - lossR: 0.00256 - lossG: 0.00107\n",
      "Epoch 100,000 - lossR: 0.00000:3.46201 - lossG: 0.00002:6.14693\n",
      "time:  242.9731731414795\n"
     ]
    }
   ],
   "source": [
    "''' \n",
    "3. Train template interpolation model\n",
    "\n",
    "'''\n",
    "start = time.time()\n",
    "\n",
    "parms={ 'epochs':100000,'lrR':.0001,'lrG':.0002,'numSamples':1,'rFilter':torch.Tensor([1,1,.05]),\n",
    "       'tModels':[tmModel0,tmModel1],'device':device}\n",
    "genRcTrain(relModel,genModel,parms)\n",
    "\n",
    "print('time: ', time.time()-start)\n",
    "relModel.train = False\n",
    "genModel.train = False"
   ]
  },
  {
   "cell_type": "code",
   "execution_count": null,
   "metadata": {},
   "outputs": [],
   "source": [
    "'''\n",
    "parms={ 'epochs':100000,'lrG':.0004,'lrP':.0005,'numSamples':1,'gFilter':torch.Tensor([1,1,.05]),\n",
    "Epoch 100,000 - lossG: 0.00000:0.27628 - lossP: 0.00002:0.07341\n",
    "parms={ 'epochs':100000,'lrG':.0002,'lrP':.0003,'numSamples':1,'gFilter':torch.Tensor([1,1,.05]),\n",
    "Epoch 100,000 - lossG: 0.00000:0.23505 - lossP: 0.00001:0.06539\n",
    "parms={ 'epochs':100000,'lrG':.0001,'lrP':.0002,'numSamples':1,'gFilter':torch.Tensor([1,1,.05]),\n",
    "Epoch 100,000 - lossG: 0.00000:0.21284 - lossP: 0.00001:0.04594\n",
    "Epoch 100,000 - lossG: 0.00000:0.21077 - lossP: 0.00001:0.03137   \n",
    "Epoch 100,000 - lossG: 0.00000:0.19727 - lossP: 0.00001:0.03196\n",
    "'''\n",
    "1==1"
   ]
  },
  {
   "cell_type": "code",
   "execution_count": 65,
   "metadata": {},
   "outputs": [],
   "source": [
    "'''\n",
    "4. Review Emergent Context \n",
    "\n",
    "\n",
    "'''\n",
    "morphIndices=[0.,0.1,.2,.3,.5,.7,.9,1.0, 1.1]\n",
    "timeIndices=[0.,0.1,.2,.3,.5,.7,.9,1.0, 1.1]\n",
    "\n",
    "#sample source templates to get ph samples\n",
    "relIn = gy.createRmInput(morphIndices, timeIndices, sPermutation=[])\n",
    "phTout0 = tmModel0(torch.Tensor(relIn))\n",
    "phTout1 = tmModel1(torch.Tensor(relIn))\n",
    "\n",
    "#use template generated ph samples to feed through contex models\n",
    "relCout0 = relModel(phTout0)\n",
    "relCout1 = relModel(phTout1)\n",
    "\n",
    "genOut0 = genModel(relCout0)\n",
    "genOut1 = genModel(relCout1)\n",
    "\n",
    "# gin.shape, pout2.shape, geCout2.shape, phCout2.shape"
   ]
  },
  {
   "cell_type": "code",
   "execution_count": 66,
   "metadata": {},
   "outputs": [],
   "source": [
    "g20 = np.array([relIn[0,:,1],relCout0[0,:,2].detach().numpy()])\n",
    "g22 = np.array([relIn[2,:,1],relCout0[2,:,2].detach().numpy()])\n",
    "g24 = np.array([relIn[4,:,1],relCout0[4,:,2].detach().numpy()])\n",
    "g26 = np.array([relIn[6,:,1],relCout0[6,:,2].detach().numpy()])\n",
    "g27 = np.array([relIn[7,:,1],relCout0[7,:,2].detach().numpy()])\n",
    "g28 = np.array([relIn[8,:,1],relCout0[8,:,2].detach().numpy()])\n",
    "\n",
    "g30 = np.array([relIn[0,:,1],relCout1[0,:,2].detach().numpy()])\n",
    "g32 = np.array([relIn[2,:,1],relCout1[2,:,2].detach().numpy()])\n",
    "g34 = np.array([relIn[4,:,1],relCout1[4,:,2].detach().numpy()])\n",
    "g36 = np.array([relIn[6,:,1],relCout1[6,:,2].detach().numpy()])\n",
    "g37 = np.array([relIn[7,:,1],relCout1[7,:,2].detach().numpy()])\n",
    "g38 = np.array([relIn[8,:,1],relCout1[8,:,2].detach().numpy()])\n",
    "\n",
    "gx = [g20,g30,g22,g32,g24,g34,g26,g36,g28,g38]\n"
   ]
  },
  {
   "cell_type": "code",
   "execution_count": 67,
   "metadata": {},
   "outputs": [
    {
     "data": {
      "application/vnd.plotly.v1+json": {
       "config": {
        "linkText": "Export to plot.ly",
        "plotlyServerURL": "https://plot.ly",
        "showLink": false
       },
       "data": [
        {
         "line": {
          "shape": "spline"
         },
         "name": "s2t0",
         "type": "scatter",
         "uid": "f8aeda9d-c283-458b-a4e3-e13705f1ea9c",
         "x": [
          0,
          0.1,
          0.2,
          0.3,
          0.5,
          0.7,
          0.9,
          1,
          1.1
         ],
         "y": [
          -0.14161306619644165,
          -0.14105772972106934,
          -0.1582120656967163,
          -0.17896825075149536,
          -0.22599083185195923,
          -0.2766658663749695,
          -0.33075904846191406,
          -0.35981738567352295,
          -0.391049325466156
         ]
        },
        {
         "line": {
          "shape": "spline"
         },
         "name": "s3t0",
         "type": "scatter",
         "uid": "f0df2e5a-36fb-4a02-a70b-7a6fe0ac3121",
         "x": [
          0,
          0.1,
          0.2,
          0.3,
          0.5,
          0.7,
          0.9,
          1,
          1.1
         ],
         "y": [
          -0.1390039324760437,
          -0.14277684688568115,
          -0.15786969661712646,
          -0.17767280340194702,
          -0.2258889079093933,
          -0.27689385414123535,
          -0.32888859510421753,
          -0.35445308685302734,
          -0.3902854323387146
         ]
        },
        {
         "line": {
          "dash": "2px,6px",
          "shape": "spline"
         },
         "marker": {
          "symbol": "star"
         },
         "name": "s2t2",
         "type": "scatter",
         "uid": "0f83b52b-2158-4613-b00d-fd6396b2e05a",
         "x": [
          0,
          0.1,
          0.2,
          0.3,
          0.5,
          0.7,
          0.9,
          1,
          1.1
         ],
         "y": [
          -0.15502917766571045,
          -0.11847424507141113,
          -0.09762221574783325,
          -0.086794912815094,
          -0.09720444679260254,
          -0.1284104585647583,
          -0.15895473957061768,
          -0.1773240566253662,
          -0.21004599332809448
         ]
        },
        {
         "line": {
          "dash": "2px,6px",
          "shape": "spline"
         },
         "marker": {
          "symbol": "star"
         },
         "name": "s3t2",
         "type": "scatter",
         "uid": "0ae54e90-13eb-4f56-95e8-65a8a6150248",
         "x": [
          0,
          0.1,
          0.2,
          0.3,
          0.5,
          0.7,
          0.9,
          1,
          1.1
         ],
         "y": [
          -0.12801682949066162,
          -0.09834563732147217,
          -0.07821333408355713,
          -0.06437045335769653,
          -0.06549292802810669,
          -0.09600436687469482,
          -0.12495625019073486,
          -0.13900309801101685,
          -0.17195922136306763
         ]
        },
        {
         "line": {
          "shape": "spline"
         },
         "name": "s2t4",
         "type": "scatter",
         "uid": "50946fd7-44c5-455a-bdea-ad21ea0e1bad",
         "x": [
          0,
          0.1,
          0.2,
          0.3,
          0.5,
          0.7,
          0.9,
          1,
          1.1
         ],
         "y": [
          -0.21725302934646606,
          -0.16833347082138062,
          -0.12448477745056152,
          -0.08550673723220825,
          -0.024520039558410645,
          0.018596787005662918,
          0.054388221353292465,
          0.07536008954048157,
          0.09066927433013916
         ]
        },
        {
         "line": {
          "shape": "spline"
         },
         "name": "s3t4",
         "type": "scatter",
         "uid": "e2f04d48-c96e-4e9b-9c17-a4322f5cc18a",
         "x": [
          0,
          0.1,
          0.2,
          0.3,
          0.5,
          0.7,
          0.9,
          1,
          1.1
         ],
         "y": [
          -0.1441149115562439,
          -0.08388292789459229,
          -0.03400707244873047,
          0.004631832242012024,
          0.06562329828739166,
          0.11995360255241394,
          0.1815868616104126,
          0.21494004130363464,
          0.2408413290977478
         ]
        },
        {
         "line": {
          "dash": "2px,6px",
          "shape": "spline"
         },
         "marker": {
          "symbol": "star"
         },
         "name": "s2t6",
         "type": "scatter",
         "uid": "afecc808-c534-4896-8588-7bb09f7ef7b1",
         "x": [
          0,
          0.1,
          0.2,
          0.3,
          0.5,
          0.7,
          0.9,
          1,
          1.1
         ],
         "y": [
          -0.37592601776123047,
          -0.3259890079498291,
          -0.26486068964004517,
          -0.20366454124450684,
          -0.07395422458648682,
          0.07342664897441864,
          0.2612133324146271,
          0.38689687848091125,
          0.5275864601135254
         ]
        },
        {
         "line": {
          "dash": "2px,6px",
          "shape": "spline"
         },
         "marker": {
          "symbol": "star"
         },
         "name": "s3t6",
         "type": "scatter",
         "uid": "09df27d2-2b19-4bfa-9174-a9221b4192fc",
         "x": [
          0,
          0.1,
          0.2,
          0.3,
          0.5,
          0.7,
          0.9,
          1,
          1.1
         ],
         "y": [
          -0.16424626111984253,
          -0.10551851987838745,
          -0.025842785835266113,
          0.056979577988386154,
          0.21318726241588593,
          0.3843483626842499,
          0.593368411064148,
          0.7165500521659851,
          0.8517842888832092
         ]
        },
        {
         "line": {
          "shape": "spline"
         },
         "name": "s2t8",
         "type": "scatter",
         "uid": "1bd27b11-597e-4ed0-88d3-570039af206b",
         "x": [
          0,
          0.1,
          0.2,
          0.3,
          0.5,
          0.7,
          0.9,
          1,
          1.1
         ],
         "y": [
          -0.4741932153701782,
          -0.4196181893348694,
          -0.3539012670516968,
          -0.28403615951538086,
          -0.1205984354019165,
          0.0980069488286972,
          0.39501845836639404,
          0.5862341523170471,
          0.7874971628189087
         ]
        },
        {
         "line": {
          "shape": "spline"
         },
         "name": "s3t8",
         "type": "scatter",
         "uid": "afdc0152-cf8b-49b0-b376-cc09dea4b312",
         "x": [
          0,
          0.1,
          0.2,
          0.3,
          0.5,
          0.7,
          0.9,
          1,
          1.1
         ],
         "y": [
          -0.2155987024307251,
          -0.17574858665466309,
          -0.09948974847793579,
          -0.009035348892211914,
          0.1794930398464203,
          0.37275856733322144,
          0.5909841060638428,
          0.7159298658370972,
          0.8569112420082092
         ]
        }
       ],
       "layout": {
        "height": 700,
        "hovermode": "closest",
        "title": {
         "text": "PhC changes into GeOutput Sp Space for GeInput: "
        },
        "width": 800,
        "xaxis": {
         "range": [
          -0.1,
          1.5
         ],
         "title": {
          "text": "X"
         }
        },
        "yaxis": {
         "range": [
          -0.6,
          1
         ],
         "title": {
          "text": "Y"
         }
        }
       }
      },
      "text/html": [
       "<div id=\"15019241-b8f9-4176-b0a7-80c467dfe077\" style=\"height: 700px; width: 800px;\" class=\"plotly-graph-div\"></div><script type=\"text/javascript\">require([\"plotly\"], function(Plotly) { window.PLOTLYENV=window.PLOTLYENV || {};window.PLOTLYENV.BASE_URL=\"https://plot.ly\";Plotly.newPlot(\"15019241-b8f9-4176-b0a7-80c467dfe077\", [{\"line\": {\"shape\": \"spline\"}, \"name\": \"s2t0\", \"x\": [0.0, 0.1, 0.2, 0.3, 0.5, 0.7, 0.9, 1.0, 1.1], \"y\": [-0.14161306619644165, -0.14105772972106934, -0.1582120656967163, -0.17896825075149536, -0.22599083185195923, -0.2766658663749695, -0.33075904846191406, -0.35981738567352295, -0.391049325466156], \"type\": \"scatter\", \"uid\": \"f8aeda9d-c283-458b-a4e3-e13705f1ea9c\"}, {\"line\": {\"shape\": \"spline\"}, \"name\": \"s3t0\", \"x\": [0.0, 0.1, 0.2, 0.3, 0.5, 0.7, 0.9, 1.0, 1.1], \"y\": [-0.1390039324760437, -0.14277684688568115, -0.15786969661712646, -0.17767280340194702, -0.2258889079093933, -0.27689385414123535, -0.32888859510421753, -0.35445308685302734, -0.3902854323387146], \"type\": \"scatter\", \"uid\": \"f0df2e5a-36fb-4a02-a70b-7a6fe0ac3121\"}, {\"line\": {\"dash\": \"2px,6px\", \"shape\": \"spline\"}, \"marker\": {\"symbol\": \"star\"}, \"name\": \"s2t2\", \"x\": [0.0, 0.1, 0.2, 0.3, 0.5, 0.7, 0.9, 1.0, 1.1], \"y\": [-0.15502917766571045, -0.11847424507141113, -0.09762221574783325, -0.086794912815094, -0.09720444679260254, -0.1284104585647583, -0.15895473957061768, -0.1773240566253662, -0.21004599332809448], \"type\": \"scatter\", \"uid\": \"0f83b52b-2158-4613-b00d-fd6396b2e05a\"}, {\"line\": {\"dash\": \"2px,6px\", \"shape\": \"spline\"}, \"marker\": {\"symbol\": \"star\"}, \"name\": \"s3t2\", \"x\": [0.0, 0.1, 0.2, 0.3, 0.5, 0.7, 0.9, 1.0, 1.1], \"y\": [-0.12801682949066162, -0.09834563732147217, -0.07821333408355713, -0.06437045335769653, -0.06549292802810669, -0.09600436687469482, -0.12495625019073486, -0.13900309801101685, -0.17195922136306763], \"type\": \"scatter\", \"uid\": \"0ae54e90-13eb-4f56-95e8-65a8a6150248\"}, {\"line\": {\"shape\": \"spline\"}, \"name\": \"s2t4\", \"x\": [0.0, 0.1, 0.2, 0.3, 0.5, 0.7, 0.9, 1.0, 1.1], \"y\": [-0.21725302934646606, -0.16833347082138062, -0.12448477745056152, -0.08550673723220825, -0.024520039558410645, 0.018596787005662918, 0.054388221353292465, 0.07536008954048157, 0.09066927433013916], \"type\": \"scatter\", \"uid\": \"50946fd7-44c5-455a-bdea-ad21ea0e1bad\"}, {\"line\": {\"shape\": \"spline\"}, \"name\": \"s3t4\", \"x\": [0.0, 0.1, 0.2, 0.3, 0.5, 0.7, 0.9, 1.0, 1.1], \"y\": [-0.1441149115562439, -0.08388292789459229, -0.03400707244873047, 0.004631832242012024, 0.06562329828739166, 0.11995360255241394, 0.1815868616104126, 0.21494004130363464, 0.2408413290977478], \"type\": \"scatter\", \"uid\": \"e2f04d48-c96e-4e9b-9c17-a4322f5cc18a\"}, {\"line\": {\"dash\": \"2px,6px\", \"shape\": \"spline\"}, \"marker\": {\"symbol\": \"star\"}, \"name\": \"s2t6\", \"x\": [0.0, 0.1, 0.2, 0.3, 0.5, 0.7, 0.9, 1.0, 1.1], \"y\": [-0.37592601776123047, -0.3259890079498291, -0.26486068964004517, -0.20366454124450684, -0.07395422458648682, 0.07342664897441864, 0.2612133324146271, 0.38689687848091125, 0.5275864601135254], \"type\": \"scatter\", \"uid\": \"afecc808-c534-4896-8588-7bb09f7ef7b1\"}, {\"line\": {\"dash\": \"2px,6px\", \"shape\": \"spline\"}, \"marker\": {\"symbol\": \"star\"}, \"name\": \"s3t6\", \"x\": [0.0, 0.1, 0.2, 0.3, 0.5, 0.7, 0.9, 1.0, 1.1], \"y\": [-0.16424626111984253, -0.10551851987838745, -0.025842785835266113, 0.056979577988386154, 0.21318726241588593, 0.3843483626842499, 0.593368411064148, 0.7165500521659851, 0.8517842888832092], \"type\": \"scatter\", \"uid\": \"09df27d2-2b19-4bfa-9174-a9221b4192fc\"}, {\"line\": {\"shape\": \"spline\"}, \"name\": \"s2t8\", \"x\": [0.0, 0.1, 0.2, 0.3, 0.5, 0.7, 0.9, 1.0, 1.1], \"y\": [-0.4741932153701782, -0.4196181893348694, -0.3539012670516968, -0.28403615951538086, -0.1205984354019165, 0.0980069488286972, 0.39501845836639404, 0.5862341523170471, 0.7874971628189087], \"type\": \"scatter\", \"uid\": \"1bd27b11-597e-4ed0-88d3-570039af206b\"}, {\"line\": {\"shape\": \"spline\"}, \"name\": \"s3t8\", \"x\": [0.0, 0.1, 0.2, 0.3, 0.5, 0.7, 0.9, 1.0, 1.1], \"y\": [-0.2155987024307251, -0.17574858665466309, -0.09948974847793579, -0.009035348892211914, 0.1794930398464203, 0.37275856733322144, 0.5909841060638428, 0.7159298658370972, 0.8569112420082092], \"type\": \"scatter\", \"uid\": \"afdc0152-cf8b-49b0-b376-cc09dea4b312\"}], {\"height\": 700, \"hovermode\": \"closest\", \"title\": {\"text\": \"PhC changes into GeOutput Sp Space for GeInput: \"}, \"width\": 800, \"xaxis\": {\"range\": [-0.1, 1.5], \"title\": {\"text\": \"X\"}}, \"yaxis\": {\"range\": [-0.6, 1.0], \"title\": {\"text\": \"Y\"}}}, {\"showLink\": false, \"linkText\": \"Export to plot.ly\", \"plotlyServerURL\": \"https://plot.ly\"})});</script>"
      ],
      "text/vnd.plotly.v1+html": [
       "<div id=\"15019241-b8f9-4176-b0a7-80c467dfe077\" style=\"height: 700px; width: 800px;\" class=\"plotly-graph-div\"></div><script type=\"text/javascript\">require([\"plotly\"], function(Plotly) { window.PLOTLYENV=window.PLOTLYENV || {};window.PLOTLYENV.BASE_URL=\"https://plot.ly\";Plotly.newPlot(\"15019241-b8f9-4176-b0a7-80c467dfe077\", [{\"line\": {\"shape\": \"spline\"}, \"name\": \"s2t0\", \"x\": [0.0, 0.1, 0.2, 0.3, 0.5, 0.7, 0.9, 1.0, 1.1], \"y\": [-0.14161306619644165, -0.14105772972106934, -0.1582120656967163, -0.17896825075149536, -0.22599083185195923, -0.2766658663749695, -0.33075904846191406, -0.35981738567352295, -0.391049325466156], \"type\": \"scatter\", \"uid\": \"f8aeda9d-c283-458b-a4e3-e13705f1ea9c\"}, {\"line\": {\"shape\": \"spline\"}, \"name\": \"s3t0\", \"x\": [0.0, 0.1, 0.2, 0.3, 0.5, 0.7, 0.9, 1.0, 1.1], \"y\": [-0.1390039324760437, -0.14277684688568115, -0.15786969661712646, -0.17767280340194702, -0.2258889079093933, -0.27689385414123535, -0.32888859510421753, -0.35445308685302734, -0.3902854323387146], \"type\": \"scatter\", \"uid\": \"f0df2e5a-36fb-4a02-a70b-7a6fe0ac3121\"}, {\"line\": {\"dash\": \"2px,6px\", \"shape\": \"spline\"}, \"marker\": {\"symbol\": \"star\"}, \"name\": \"s2t2\", \"x\": [0.0, 0.1, 0.2, 0.3, 0.5, 0.7, 0.9, 1.0, 1.1], \"y\": [-0.15502917766571045, -0.11847424507141113, -0.09762221574783325, -0.086794912815094, -0.09720444679260254, -0.1284104585647583, -0.15895473957061768, -0.1773240566253662, -0.21004599332809448], \"type\": \"scatter\", \"uid\": \"0f83b52b-2158-4613-b00d-fd6396b2e05a\"}, {\"line\": {\"dash\": \"2px,6px\", \"shape\": \"spline\"}, \"marker\": {\"symbol\": \"star\"}, \"name\": \"s3t2\", \"x\": [0.0, 0.1, 0.2, 0.3, 0.5, 0.7, 0.9, 1.0, 1.1], \"y\": [-0.12801682949066162, -0.09834563732147217, -0.07821333408355713, -0.06437045335769653, -0.06549292802810669, -0.09600436687469482, -0.12495625019073486, -0.13900309801101685, -0.17195922136306763], \"type\": \"scatter\", \"uid\": \"0ae54e90-13eb-4f56-95e8-65a8a6150248\"}, {\"line\": {\"shape\": \"spline\"}, \"name\": \"s2t4\", \"x\": [0.0, 0.1, 0.2, 0.3, 0.5, 0.7, 0.9, 1.0, 1.1], \"y\": [-0.21725302934646606, -0.16833347082138062, -0.12448477745056152, -0.08550673723220825, -0.024520039558410645, 0.018596787005662918, 0.054388221353292465, 0.07536008954048157, 0.09066927433013916], \"type\": \"scatter\", \"uid\": \"50946fd7-44c5-455a-bdea-ad21ea0e1bad\"}, {\"line\": {\"shape\": \"spline\"}, \"name\": \"s3t4\", \"x\": [0.0, 0.1, 0.2, 0.3, 0.5, 0.7, 0.9, 1.0, 1.1], \"y\": [-0.1441149115562439, -0.08388292789459229, -0.03400707244873047, 0.004631832242012024, 0.06562329828739166, 0.11995360255241394, 0.1815868616104126, 0.21494004130363464, 0.2408413290977478], \"type\": \"scatter\", \"uid\": \"e2f04d48-c96e-4e9b-9c17-a4322f5cc18a\"}, {\"line\": {\"dash\": \"2px,6px\", \"shape\": \"spline\"}, \"marker\": {\"symbol\": \"star\"}, \"name\": \"s2t6\", \"x\": [0.0, 0.1, 0.2, 0.3, 0.5, 0.7, 0.9, 1.0, 1.1], \"y\": [-0.37592601776123047, -0.3259890079498291, -0.26486068964004517, -0.20366454124450684, -0.07395422458648682, 0.07342664897441864, 0.2612133324146271, 0.38689687848091125, 0.5275864601135254], \"type\": \"scatter\", \"uid\": \"afecc808-c534-4896-8588-7bb09f7ef7b1\"}, {\"line\": {\"dash\": \"2px,6px\", \"shape\": \"spline\"}, \"marker\": {\"symbol\": \"star\"}, \"name\": \"s3t6\", \"x\": [0.0, 0.1, 0.2, 0.3, 0.5, 0.7, 0.9, 1.0, 1.1], \"y\": [-0.16424626111984253, -0.10551851987838745, -0.025842785835266113, 0.056979577988386154, 0.21318726241588593, 0.3843483626842499, 0.593368411064148, 0.7165500521659851, 0.8517842888832092], \"type\": \"scatter\", \"uid\": \"09df27d2-2b19-4bfa-9174-a9221b4192fc\"}, {\"line\": {\"shape\": \"spline\"}, \"name\": \"s2t8\", \"x\": [0.0, 0.1, 0.2, 0.3, 0.5, 0.7, 0.9, 1.0, 1.1], \"y\": [-0.4741932153701782, -0.4196181893348694, -0.3539012670516968, -0.28403615951538086, -0.1205984354019165, 0.0980069488286972, 0.39501845836639404, 0.5862341523170471, 0.7874971628189087], \"type\": \"scatter\", \"uid\": \"1bd27b11-597e-4ed0-88d3-570039af206b\"}, {\"line\": {\"shape\": \"spline\"}, \"name\": \"s3t8\", \"x\": [0.0, 0.1, 0.2, 0.3, 0.5, 0.7, 0.9, 1.0, 1.1], \"y\": [-0.2155987024307251, -0.17574858665466309, -0.09948974847793579, -0.009035348892211914, 0.1794930398464203, 0.37275856733322144, 0.5909841060638428, 0.7159298658370972, 0.8569112420082092], \"type\": \"scatter\", \"uid\": \"afdc0152-cf8b-49b0-b376-cc09dea4b312\"}], {\"height\": 700, \"hovermode\": \"closest\", \"title\": {\"text\": \"PhC changes into GeOutput Sp Space for GeInput: \"}, \"width\": 800, \"xaxis\": {\"range\": [-0.1, 1.5], \"title\": {\"text\": \"X\"}}, \"yaxis\": {\"range\": [-0.6, 1.0], \"title\": {\"text\": \"Y\"}}}, {\"showLink\": false, \"linkText\": \"Export to plot.ly\", \"plotlyServerURL\": \"https://plot.ly\"})});</script>"
      ]
     },
     "metadata": {},
     "output_type": "display_data"
    }
   ],
   "source": [
    "layout = go.Layout(\n",
    "    title = 'Initial Curves',\n",
    "    height = 700,\n",
    "    width = 800,\n",
    "    hovermode= 'closest',\n",
    "    xaxis= dict(\n",
    "        title= 'X',\n",
    "        range = [-.1,1.5],\n",
    "    ),\n",
    "    yaxis=dict(\n",
    "        title= 'Y',\n",
    "        range = [-.6,1.],\n",
    "    )\n",
    ")\n",
    "layout.title = 'PhC changes into GeOutput Sp Space for GeInput: ' \n",
    "f = gy.graphCurves(gx, layout, labels=['s2t0', 's3t0','s2t2', 's3t2','s2t4', 's3t4','s2t6', 's3t6','s2t8', 's3t8', ], dashRange=gy.rangeList([range(2,4),range(6,8)]))\n",
    "\n",
    "offline.iplot(f)\n"
   ]
  },
  {
   "cell_type": "code",
   "execution_count": 72,
   "metadata": {},
   "outputs": [
    {
     "data": {
      "application/vnd.plotly.v1+json": {
       "config": {
        "linkText": "Export to plot.ly",
        "plotlyServerURL": "https://plot.ly",
        "showLink": false
       },
       "data": [
        {
         "line": {
          "dash": "2px,6px",
          "shape": "spline"
         },
         "marker": {
          "symbol": "star"
         },
         "name": "0",
         "type": "scatter",
         "uid": "c5a7fd77-0226-43ad-816b-7f0d6b139040",
         "x": [
          0.11285713315010071,
          0.06834741681814194,
          0.04286620020866394,
          0.035129427909851074,
          0.04385325312614441,
          0.06829595565795898,
          0.11365029215812683
         ],
         "y": [
          0.03837259113788605,
          0.01546486560255289,
          0.003727998584508896,
          0.0017682388424873352,
          0.006766621023416519,
          0.01411237008869648,
          0.038899242877960205
         ]
        },
        {
         "line": {
          "dash": "2px,6px",
          "shape": "spline"
         },
         "marker": {
          "symbol": "star"
         },
         "name": "1",
         "type": "scatter",
         "uid": "69d9e079-e77e-403c-871e-4a396f02ad6d",
         "x": [
          0.20261719822883606,
          0.17445802688598633,
          0.160001739859581,
          0.15862026810646057,
          0.16172190010547638,
          0.1754307895898819,
          0.19918902218341827
         ],
         "y": [
          0.07101453095674515,
          0.04062936082482338,
          0.01991145685315132,
          0.008767291903495789,
          0.01880306378006935,
          0.039865098893642426,
          0.07023759186267853
         ]
        },
        {
         "line": {
          "dash": "2px,6px",
          "shape": "spline"
         },
         "marker": {
          "symbol": "star"
         },
         "name": "2",
         "type": "scatter",
         "uid": "adab593e-3c7a-443e-8e30-1eba7185f608",
         "x": [
          0.2742575407028198,
          0.25866755843162537,
          0.25197675824165344,
          0.25208497047424316,
          0.2539946734905243,
          0.2596939206123352,
          0.2709338963031769
         ],
         "y": [
          0.09298780560493469,
          0.05888684466481209,
          0.03310659900307655,
          0.016552872955799103,
          0.030051004141569138,
          0.0587717741727829,
          0.09126804769039154
         ]
        },
        {
         "line": {
          "dash": "2px,6px",
          "shape": "spline"
         },
         "marker": {
          "symbol": "star"
         },
         "name": "3",
         "type": "scatter",
         "uid": "6942a95e-7169-48a0-88cc-7232da0e1197",
         "x": [
          0.33620989322662354,
          0.33045709133148193,
          0.3294546902179718,
          0.3286995589733124,
          0.3314060866832733,
          0.33102256059646606,
          0.33504268527030945
         ],
         "y": [
          0.11333520710468292,
          0.07824648171663284,
          0.05030735209584236,
          0.03145424276590347,
          0.04699511453509331,
          0.07856716215610504,
          0.11106419563293457
         ]
        },
        {
         "line": {
          "dash": "2px,6px",
          "shape": "spline"
         },
         "marker": {
          "symbol": "star"
         },
         "name": "4",
         "type": "scatter",
         "uid": "57d42895-c85b-4c1d-b6da-b354e8fd1be2",
         "x": [
          0.45318830013275146,
          0.4621697664260864,
          0.4696437418460846,
          0.4680708348751068,
          0.47062066197395325,
          0.46175676584243774,
          0.4543691575527191
         ],
         "y": [
          0.15623818337917328,
          0.12160760909318924,
          0.09317038953304291,
          0.07573593407869339,
          0.09191463887691498,
          0.12144951522350311,
          0.15417852997779846
         ]
        },
        {
         "line": {
          "dash": "2px,6px",
          "shape": "spline"
         },
         "marker": {
          "symbol": "star"
         },
         "name": "5",
         "type": "scatter",
         "uid": "72ee30b8-ec67-4c66-a520-07368222d9bd",
         "x": [
          0.5691654682159424,
          0.589521050453186,
          0.6042487621307373,
          0.6063449382781982,
          0.6051965951919556,
          0.5884027481079102,
          0.570050835609436
         ],
         "y": [
          0.20298291742801666,
          0.17037735879421234,
          0.14372621476650238,
          0.1300579011440277,
          0.14508186280727386,
          0.16962988674640656,
          0.2029544860124588
         ]
        },
        {
         "line": {
          "dash": "2px,6px",
          "shape": "spline"
         },
         "marker": {
          "symbol": "star"
         },
         "name": "6",
         "type": "scatter",
         "uid": "b1d0ec85-3c02-4ca7-8a68-01d42e83b372",
         "x": [
          0.7022988796234131,
          0.7370238900184631,
          0.7607020139694214,
          0.7710846662521362,
          0.7622040510177612,
          0.7359748482704163,
          0.7011950016021729
         ],
         "y": [
          0.25661155581474304,
          0.23498158156871796,
          0.21602068841457367,
          0.20793336629867554,
          0.21803854405879974,
          0.234141543507576,
          0.25804197788238525
         ]
        },
        {
         "line": {
          "dash": "2px,6px",
          "shape": "spline"
         },
         "marker": {
          "symbol": "star"
         },
         "name": "7",
         "type": "scatter",
         "uid": "fa946627-6396-4974-8383-83733b5c6836",
         "x": [
          0.7789016962051392,
          0.8233206868171692,
          0.8517394065856934,
          0.8661127090454102,
          0.853178858757019,
          0.8227878212928772,
          0.7775490283966064
         ],
         "y": [
          0.29800838232040405,
          0.2911088764667511,
          0.28129416704177856,
          0.27723947167396545,
          0.28203925490379333,
          0.29067766666412354,
          0.29844245314598083
         ]
        },
        {
         "line": {
          "dash": "2px,6px",
          "shape": "spline"
         },
         "marker": {
          "symbol": "star"
         },
         "name": "8",
         "type": "scatter",
         "uid": "f62884fb-6f82-4c4b-89c8-603f2b81dddf",
         "x": [
          0.8569117784500122,
          0.9126577377319336,
          0.9440832138061523,
          0.9585635662078857,
          0.944144606590271,
          0.9128174185752869,
          0.8573988676071167
         ],
         "y": [
          0.36340129375457764,
          0.38079890608787537,
          0.3855786919593811,
          0.3870091736316681,
          0.3839026987552643,
          0.380912721157074,
          0.3599885106086731
         ]
        },
        {
         "line": {
          "shape": "spline"
         },
         "name": "9",
         "type": "scatter",
         "uid": "40c909cf-ded7-4d08-9102-22eb6f6f718a",
         "x": [
          0.04347328096628189,
          0.024951301515102386,
          0.015876293182373047,
          0.0186031311750412,
          0.014096876606345177,
          0.022515855729579926,
          0.04083534702658653
         ],
         "y": [
          0.028181366622447968,
          0.021202772855758667,
          0.014638841152191162,
          0.013076357543468475,
          0.010611582547426224,
          0.020304612815380096,
          0.02786644920706749
         ]
        },
        {
         "line": {
          "shape": "spline"
         },
         "name": "10",
         "type": "scatter",
         "uid": "37aa1ec5-d409-4967-b754-ae660eca7202",
         "x": [
          0.16700902581214905,
          0.14751887321472168,
          0.1383970081806183,
          0.1395660787820816,
          0.13888755440711975,
          0.1471082717180252,
          0.16554807126522064
         ],
         "y": [
          0.044138528406620026,
          0.026488378643989563,
          0.01284346729516983,
          0.004654332995414734,
          0.010875549167394638,
          0.026496760547161102,
          0.04264285787940025
         ]
        },
        {
         "line": {
          "shape": "spline"
         },
         "name": "11",
         "type": "scatter",
         "uid": "64d5ee00-ef89-4b8b-a682-1203fb2a7334",
         "x": [
          0.27704524993896484,
          0.26135939359664917,
          0.2556336522102356,
          0.25567957758903503,
          0.256472647190094,
          0.26223117113113403,
          0.27675098180770874
         ],
         "y": [
          0.0694660171866417,
          0.04250715672969818,
          0.022584855556488037,
          0.009553167968988419,
          0.021868202835321426,
          0.043296851217746735,
          0.06795817613601685
         ]
        },
        {
         "line": {
          "shape": "spline"
         },
         "name": "12",
         "type": "scatter",
         "uid": "020b61e5-2d97-4e38-b03a-1ee1b463a5fe",
         "x": [
          0.36445367336273193,
          0.35448095202445984,
          0.352380633354187,
          0.3525194823741913,
          0.3530764877796173,
          0.3557756245136261,
          0.3650933802127838
         ],
         "y": [
          0.09022625535726547,
          0.05787363648414612,
          0.03369750827550888,
          0.017916545271873474,
          0.033293768763542175,
          0.0593378022313118,
          0.08890320360660553
         ]
        },
        {
         "line": {
          "shape": "spline"
         },
         "name": "13",
         "type": "scatter",
         "uid": "c8db538b-8ea0-4d2c-9695-b497c94f9189",
         "x": [
          0.5024634599685669,
          0.5045620203018188,
          0.5097701549530029,
          0.5115735530853271,
          0.5095685124397278,
          0.5058290958404541,
          0.5043783783912659
         ],
         "y": [
          0.12419839948415756,
          0.08740921318531036,
          0.05889448523521423,
          0.04072260111570358,
          0.05812399089336395,
          0.08972082287073135,
          0.12341606616973877
         ]
        },
        {
         "line": {
          "shape": "spline"
         },
         "name": "14",
         "type": "scatter",
         "uid": "81246ce4-cba7-41df-a0db-f2b3ad9facd8",
         "x": [
          0.6318390965461731,
          0.6461176872253418,
          0.658525288105011,
          0.663341224193573,
          0.6567717790603638,
          0.6466226577758789,
          0.634419322013855
         ],
         "y": [
          0.15358272194862366,
          0.11830975115299225,
          0.0898486077785492,
          0.07236997038125992,
          0.08806546032428741,
          0.1210552379488945,
          0.15376774966716766
         ]
        },
        {
         "line": {
          "shape": "spline"
         },
         "name": "15",
         "type": "scatter",
         "uid": "0bac09cc-4e7c-4418-90fa-eb5096e9a505",
         "x": [
          0.7730595469474792,
          0.8007947206497192,
          0.8209644556045532,
          0.8313104510307312,
          0.8172928094863892,
          0.7999454736709595,
          0.7757673859596252
         ],
         "y": [
          0.1845128834247589,
          0.157683327794075,
          0.13618646562099457,
          0.12246938049793243,
          0.1337328553199768,
          0.16118460893630981,
          0.18621668219566345
         ]
        },
        {
         "line": {
          "shape": "spline"
         },
         "name": "16",
         "type": "scatter",
         "uid": "744bf215-636f-4149-952d-ef1f8dc88f17",
         "x": [
          0.8540809154510498,
          0.8896024823188782,
          0.9139979481697083,
          0.92885422706604,
          0.909470796585083,
          0.8878239393234253,
          0.8566045165061951
         ],
         "y": [
          0.20416656136512756,
          0.18570642173290253,
          0.17230597138404846,
          0.1620427519083023,
          0.17020267248153687,
          0.18998396396636963,
          0.20688658952713013
         ]
        },
        {
         "line": {
          "shape": "spline"
         },
         "name": "17",
         "type": "scatter",
         "uid": "183e942f-2a32-4645-b6f2-404f9075acfe",
         "x": [
          0.9360296726226807,
          0.9792376160621643,
          1.007878065109253,
          1.028502345085144,
          1.0028547048568726,
          0.97649747133255,
          0.9379101991653442
         ],
         "y": [
          0.23051005601882935,
          0.22318591177463531,
          0.22058919072151184,
          0.21408772468566895,
          0.2189955711364746,
          0.22828269004821777,
          0.23406001925468445
         ]
        }
       ],
       "layout": {
        "height": 600,
        "hovermode": "closest",
        "title": {
         "text": "Initial Curves"
        },
        "width": 600,
        "xaxis": {
         "range": [
          -0.4,
          1.2
         ],
         "title": {
          "text": "X"
         }
        },
        "yaxis": {
         "range": [
          -0.4,
          1.2
         ],
         "title": {
          "text": "Y"
         }
        }
       }
      },
      "text/html": [
       "<div id=\"78662f60-fbf4-4cfe-a4d2-b4866639aa4f\" style=\"height: 600px; width: 600px;\" class=\"plotly-graph-div\"></div><script type=\"text/javascript\">require([\"plotly\"], function(Plotly) { window.PLOTLYENV=window.PLOTLYENV || {};window.PLOTLYENV.BASE_URL=\"https://plot.ly\";Plotly.newPlot(\"78662f60-fbf4-4cfe-a4d2-b4866639aa4f\", [{\"line\": {\"dash\": \"2px,6px\", \"shape\": \"spline\"}, \"marker\": {\"symbol\": \"star\"}, \"name\": \"0\", \"x\": [0.11285713315010071, 0.06834741681814194, 0.04286620020866394, 0.035129427909851074, 0.04385325312614441, 0.06829595565795898, 0.11365029215812683], \"y\": [0.03837259113788605, 0.01546486560255289, 0.003727998584508896, 0.0017682388424873352, 0.006766621023416519, 0.01411237008869648, 0.038899242877960205], \"type\": \"scatter\", \"uid\": \"c5a7fd77-0226-43ad-816b-7f0d6b139040\"}, {\"line\": {\"dash\": \"2px,6px\", \"shape\": \"spline\"}, \"marker\": {\"symbol\": \"star\"}, \"name\": \"1\", \"x\": [0.20261719822883606, 0.17445802688598633, 0.160001739859581, 0.15862026810646057, 0.16172190010547638, 0.1754307895898819, 0.19918902218341827], \"y\": [0.07101453095674515, 0.04062936082482338, 0.01991145685315132, 0.008767291903495789, 0.01880306378006935, 0.039865098893642426, 0.07023759186267853], \"type\": \"scatter\", \"uid\": \"69d9e079-e77e-403c-871e-4a396f02ad6d\"}, {\"line\": {\"dash\": \"2px,6px\", \"shape\": \"spline\"}, \"marker\": {\"symbol\": \"star\"}, \"name\": \"2\", \"x\": [0.2742575407028198, 0.25866755843162537, 0.25197675824165344, 0.25208497047424316, 0.2539946734905243, 0.2596939206123352, 0.2709338963031769], \"y\": [0.09298780560493469, 0.05888684466481209, 0.03310659900307655, 0.016552872955799103, 0.030051004141569138, 0.0587717741727829, 0.09126804769039154], \"type\": \"scatter\", \"uid\": \"adab593e-3c7a-443e-8e30-1eba7185f608\"}, {\"line\": {\"dash\": \"2px,6px\", \"shape\": \"spline\"}, \"marker\": {\"symbol\": \"star\"}, \"name\": \"3\", \"x\": [0.33620989322662354, 0.33045709133148193, 0.3294546902179718, 0.3286995589733124, 0.3314060866832733, 0.33102256059646606, 0.33504268527030945], \"y\": [0.11333520710468292, 0.07824648171663284, 0.05030735209584236, 0.03145424276590347, 0.04699511453509331, 0.07856716215610504, 0.11106419563293457], \"type\": \"scatter\", \"uid\": \"6942a95e-7169-48a0-88cc-7232da0e1197\"}, {\"line\": {\"dash\": \"2px,6px\", \"shape\": \"spline\"}, \"marker\": {\"symbol\": \"star\"}, \"name\": \"4\", \"x\": [0.45318830013275146, 0.4621697664260864, 0.4696437418460846, 0.4680708348751068, 0.47062066197395325, 0.46175676584243774, 0.4543691575527191], \"y\": [0.15623818337917328, 0.12160760909318924, 0.09317038953304291, 0.07573593407869339, 0.09191463887691498, 0.12144951522350311, 0.15417852997779846], \"type\": \"scatter\", \"uid\": \"57d42895-c85b-4c1d-b6da-b354e8fd1be2\"}, {\"line\": {\"dash\": \"2px,6px\", \"shape\": \"spline\"}, \"marker\": {\"symbol\": \"star\"}, \"name\": \"5\", \"x\": [0.5691654682159424, 0.589521050453186, 0.6042487621307373, 0.6063449382781982, 0.6051965951919556, 0.5884027481079102, 0.570050835609436], \"y\": [0.20298291742801666, 0.17037735879421234, 0.14372621476650238, 0.1300579011440277, 0.14508186280727386, 0.16962988674640656, 0.2029544860124588], \"type\": \"scatter\", \"uid\": \"72ee30b8-ec67-4c66-a520-07368222d9bd\"}, {\"line\": {\"dash\": \"2px,6px\", \"shape\": \"spline\"}, \"marker\": {\"symbol\": \"star\"}, \"name\": \"6\", \"x\": [0.7022988796234131, 0.7370238900184631, 0.7607020139694214, 0.7710846662521362, 0.7622040510177612, 0.7359748482704163, 0.7011950016021729], \"y\": [0.25661155581474304, 0.23498158156871796, 0.21602068841457367, 0.20793336629867554, 0.21803854405879974, 0.234141543507576, 0.25804197788238525], \"type\": \"scatter\", \"uid\": \"b1d0ec85-3c02-4ca7-8a68-01d42e83b372\"}, {\"line\": {\"dash\": \"2px,6px\", \"shape\": \"spline\"}, \"marker\": {\"symbol\": \"star\"}, \"name\": \"7\", \"x\": [0.7789016962051392, 0.8233206868171692, 0.8517394065856934, 0.8661127090454102, 0.853178858757019, 0.8227878212928772, 0.7775490283966064], \"y\": [0.29800838232040405, 0.2911088764667511, 0.28129416704177856, 0.27723947167396545, 0.28203925490379333, 0.29067766666412354, 0.29844245314598083], \"type\": \"scatter\", \"uid\": \"fa946627-6396-4974-8383-83733b5c6836\"}, {\"line\": {\"dash\": \"2px,6px\", \"shape\": \"spline\"}, \"marker\": {\"symbol\": \"star\"}, \"name\": \"8\", \"x\": [0.8569117784500122, 0.9126577377319336, 0.9440832138061523, 0.9585635662078857, 0.944144606590271, 0.9128174185752869, 0.8573988676071167], \"y\": [0.36340129375457764, 0.38079890608787537, 0.3855786919593811, 0.3870091736316681, 0.3839026987552643, 0.380912721157074, 0.3599885106086731], \"type\": \"scatter\", \"uid\": \"f62884fb-6f82-4c4b-89c8-603f2b81dddf\"}, {\"line\": {\"shape\": \"spline\"}, \"name\": \"9\", \"x\": [0.04347328096628189, 0.024951301515102386, 0.015876293182373047, 0.0186031311750412, 0.014096876606345177, 0.022515855729579926, 0.04083534702658653], \"y\": [0.028181366622447968, 0.021202772855758667, 0.014638841152191162, 0.013076357543468475, 0.010611582547426224, 0.020304612815380096, 0.02786644920706749], \"type\": \"scatter\", \"uid\": \"40c909cf-ded7-4d08-9102-22eb6f6f718a\"}, {\"line\": {\"shape\": \"spline\"}, \"name\": \"10\", \"x\": [0.16700902581214905, 0.14751887321472168, 0.1383970081806183, 0.1395660787820816, 0.13888755440711975, 0.1471082717180252, 0.16554807126522064], \"y\": [0.044138528406620026, 0.026488378643989563, 0.01284346729516983, 0.004654332995414734, 0.010875549167394638, 0.026496760547161102, 0.04264285787940025], \"type\": \"scatter\", \"uid\": \"37aa1ec5-d409-4967-b754-ae660eca7202\"}, {\"line\": {\"shape\": \"spline\"}, \"name\": \"11\", \"x\": [0.27704524993896484, 0.26135939359664917, 0.2556336522102356, 0.25567957758903503, 0.256472647190094, 0.26223117113113403, 0.27675098180770874], \"y\": [0.0694660171866417, 0.04250715672969818, 0.022584855556488037, 0.009553167968988419, 0.021868202835321426, 0.043296851217746735, 0.06795817613601685], \"type\": \"scatter\", \"uid\": \"64d5ee00-ef89-4b8b-a682-1203fb2a7334\"}, {\"line\": {\"shape\": \"spline\"}, \"name\": \"12\", \"x\": [0.36445367336273193, 0.35448095202445984, 0.352380633354187, 0.3525194823741913, 0.3530764877796173, 0.3557756245136261, 0.3650933802127838], \"y\": [0.09022625535726547, 0.05787363648414612, 0.03369750827550888, 0.017916545271873474, 0.033293768763542175, 0.0593378022313118, 0.08890320360660553], \"type\": \"scatter\", \"uid\": \"020b61e5-2d97-4e38-b03a-1ee1b463a5fe\"}, {\"line\": {\"shape\": \"spline\"}, \"name\": \"13\", \"x\": [0.5024634599685669, 0.5045620203018188, 0.5097701549530029, 0.5115735530853271, 0.5095685124397278, 0.5058290958404541, 0.5043783783912659], \"y\": [0.12419839948415756, 0.08740921318531036, 0.05889448523521423, 0.04072260111570358, 0.05812399089336395, 0.08972082287073135, 0.12341606616973877], \"type\": \"scatter\", \"uid\": \"c8db538b-8ea0-4d2c-9695-b497c94f9189\"}, {\"line\": {\"shape\": \"spline\"}, \"name\": \"14\", \"x\": [0.6318390965461731, 0.6461176872253418, 0.658525288105011, 0.663341224193573, 0.6567717790603638, 0.6466226577758789, 0.634419322013855], \"y\": [0.15358272194862366, 0.11830975115299225, 0.0898486077785492, 0.07236997038125992, 0.08806546032428741, 0.1210552379488945, 0.15376774966716766], \"type\": \"scatter\", \"uid\": \"81246ce4-cba7-41df-a0db-f2b3ad9facd8\"}, {\"line\": {\"shape\": \"spline\"}, \"name\": \"15\", \"x\": [0.7730595469474792, 0.8007947206497192, 0.8209644556045532, 0.8313104510307312, 0.8172928094863892, 0.7999454736709595, 0.7757673859596252], \"y\": [0.1845128834247589, 0.157683327794075, 0.13618646562099457, 0.12246938049793243, 0.1337328553199768, 0.16118460893630981, 0.18621668219566345], \"type\": \"scatter\", \"uid\": \"0bac09cc-4e7c-4418-90fa-eb5096e9a505\"}, {\"line\": {\"shape\": \"spline\"}, \"name\": \"16\", \"x\": [0.8540809154510498, 0.8896024823188782, 0.9139979481697083, 0.92885422706604, 0.909470796585083, 0.8878239393234253, 0.8566045165061951], \"y\": [0.20416656136512756, 0.18570642173290253, 0.17230597138404846, 0.1620427519083023, 0.17020267248153687, 0.18998396396636963, 0.20688658952713013], \"type\": \"scatter\", \"uid\": \"744bf215-636f-4149-952d-ef1f8dc88f17\"}, {\"line\": {\"shape\": \"spline\"}, \"name\": \"17\", \"x\": [0.9360296726226807, 0.9792376160621643, 1.007878065109253, 1.028502345085144, 1.0028547048568726, 0.97649747133255, 0.9379101991653442], \"y\": [0.23051005601882935, 0.22318591177463531, 0.22058919072151184, 0.21408772468566895, 0.2189955711364746, 0.22828269004821777, 0.23406001925468445], \"type\": \"scatter\", \"uid\": \"183e942f-2a32-4645-b6f2-404f9075acfe\"}], {\"height\": 600, \"hovermode\": \"closest\", \"title\": {\"text\": \"Initial Curves\"}, \"width\": 600, \"xaxis\": {\"range\": [-0.4, 1.2], \"title\": {\"text\": \"X\"}}, \"yaxis\": {\"range\": [-0.4, 1.2], \"title\": {\"text\": \"Y\"}}}, {\"showLink\": false, \"linkText\": \"Export to plot.ly\", \"plotlyServerURL\": \"https://plot.ly\"})});</script>"
      ],
      "text/vnd.plotly.v1+html": [
       "<div id=\"78662f60-fbf4-4cfe-a4d2-b4866639aa4f\" style=\"height: 600px; width: 600px;\" class=\"plotly-graph-div\"></div><script type=\"text/javascript\">require([\"plotly\"], function(Plotly) { window.PLOTLYENV=window.PLOTLYENV || {};window.PLOTLYENV.BASE_URL=\"https://plot.ly\";Plotly.newPlot(\"78662f60-fbf4-4cfe-a4d2-b4866639aa4f\", [{\"line\": {\"dash\": \"2px,6px\", \"shape\": \"spline\"}, \"marker\": {\"symbol\": \"star\"}, \"name\": \"0\", \"x\": [0.11285713315010071, 0.06834741681814194, 0.04286620020866394, 0.035129427909851074, 0.04385325312614441, 0.06829595565795898, 0.11365029215812683], \"y\": [0.03837259113788605, 0.01546486560255289, 0.003727998584508896, 0.0017682388424873352, 0.006766621023416519, 0.01411237008869648, 0.038899242877960205], \"type\": \"scatter\", \"uid\": \"c5a7fd77-0226-43ad-816b-7f0d6b139040\"}, {\"line\": {\"dash\": \"2px,6px\", \"shape\": \"spline\"}, \"marker\": {\"symbol\": \"star\"}, \"name\": \"1\", \"x\": [0.20261719822883606, 0.17445802688598633, 0.160001739859581, 0.15862026810646057, 0.16172190010547638, 0.1754307895898819, 0.19918902218341827], \"y\": [0.07101453095674515, 0.04062936082482338, 0.01991145685315132, 0.008767291903495789, 0.01880306378006935, 0.039865098893642426, 0.07023759186267853], \"type\": \"scatter\", \"uid\": \"69d9e079-e77e-403c-871e-4a396f02ad6d\"}, {\"line\": {\"dash\": \"2px,6px\", \"shape\": \"spline\"}, \"marker\": {\"symbol\": \"star\"}, \"name\": \"2\", \"x\": [0.2742575407028198, 0.25866755843162537, 0.25197675824165344, 0.25208497047424316, 0.2539946734905243, 0.2596939206123352, 0.2709338963031769], \"y\": [0.09298780560493469, 0.05888684466481209, 0.03310659900307655, 0.016552872955799103, 0.030051004141569138, 0.0587717741727829, 0.09126804769039154], \"type\": \"scatter\", \"uid\": \"adab593e-3c7a-443e-8e30-1eba7185f608\"}, {\"line\": {\"dash\": \"2px,6px\", \"shape\": \"spline\"}, \"marker\": {\"symbol\": \"star\"}, \"name\": \"3\", \"x\": [0.33620989322662354, 0.33045709133148193, 0.3294546902179718, 0.3286995589733124, 0.3314060866832733, 0.33102256059646606, 0.33504268527030945], \"y\": [0.11333520710468292, 0.07824648171663284, 0.05030735209584236, 0.03145424276590347, 0.04699511453509331, 0.07856716215610504, 0.11106419563293457], \"type\": \"scatter\", \"uid\": \"6942a95e-7169-48a0-88cc-7232da0e1197\"}, {\"line\": {\"dash\": \"2px,6px\", \"shape\": \"spline\"}, \"marker\": {\"symbol\": \"star\"}, \"name\": \"4\", \"x\": [0.45318830013275146, 0.4621697664260864, 0.4696437418460846, 0.4680708348751068, 0.47062066197395325, 0.46175676584243774, 0.4543691575527191], \"y\": [0.15623818337917328, 0.12160760909318924, 0.09317038953304291, 0.07573593407869339, 0.09191463887691498, 0.12144951522350311, 0.15417852997779846], \"type\": \"scatter\", \"uid\": \"57d42895-c85b-4c1d-b6da-b354e8fd1be2\"}, {\"line\": {\"dash\": \"2px,6px\", \"shape\": \"spline\"}, \"marker\": {\"symbol\": \"star\"}, \"name\": \"5\", \"x\": [0.5691654682159424, 0.589521050453186, 0.6042487621307373, 0.6063449382781982, 0.6051965951919556, 0.5884027481079102, 0.570050835609436], \"y\": [0.20298291742801666, 0.17037735879421234, 0.14372621476650238, 0.1300579011440277, 0.14508186280727386, 0.16962988674640656, 0.2029544860124588], \"type\": \"scatter\", \"uid\": \"72ee30b8-ec67-4c66-a520-07368222d9bd\"}, {\"line\": {\"dash\": \"2px,6px\", \"shape\": \"spline\"}, \"marker\": {\"symbol\": \"star\"}, \"name\": \"6\", \"x\": [0.7022988796234131, 0.7370238900184631, 0.7607020139694214, 0.7710846662521362, 0.7622040510177612, 0.7359748482704163, 0.7011950016021729], \"y\": [0.25661155581474304, 0.23498158156871796, 0.21602068841457367, 0.20793336629867554, 0.21803854405879974, 0.234141543507576, 0.25804197788238525], \"type\": \"scatter\", \"uid\": \"b1d0ec85-3c02-4ca7-8a68-01d42e83b372\"}, {\"line\": {\"dash\": \"2px,6px\", \"shape\": \"spline\"}, \"marker\": {\"symbol\": \"star\"}, \"name\": \"7\", \"x\": [0.7789016962051392, 0.8233206868171692, 0.8517394065856934, 0.8661127090454102, 0.853178858757019, 0.8227878212928772, 0.7775490283966064], \"y\": [0.29800838232040405, 0.2911088764667511, 0.28129416704177856, 0.27723947167396545, 0.28203925490379333, 0.29067766666412354, 0.29844245314598083], \"type\": \"scatter\", \"uid\": \"fa946627-6396-4974-8383-83733b5c6836\"}, {\"line\": {\"dash\": \"2px,6px\", \"shape\": \"spline\"}, \"marker\": {\"symbol\": \"star\"}, \"name\": \"8\", \"x\": [0.8569117784500122, 0.9126577377319336, 0.9440832138061523, 0.9585635662078857, 0.944144606590271, 0.9128174185752869, 0.8573988676071167], \"y\": [0.36340129375457764, 0.38079890608787537, 0.3855786919593811, 0.3870091736316681, 0.3839026987552643, 0.380912721157074, 0.3599885106086731], \"type\": \"scatter\", \"uid\": \"f62884fb-6f82-4c4b-89c8-603f2b81dddf\"}, {\"line\": {\"shape\": \"spline\"}, \"name\": \"9\", \"x\": [0.04347328096628189, 0.024951301515102386, 0.015876293182373047, 0.0186031311750412, 0.014096876606345177, 0.022515855729579926, 0.04083534702658653], \"y\": [0.028181366622447968, 0.021202772855758667, 0.014638841152191162, 0.013076357543468475, 0.010611582547426224, 0.020304612815380096, 0.02786644920706749], \"type\": \"scatter\", \"uid\": \"40c909cf-ded7-4d08-9102-22eb6f6f718a\"}, {\"line\": {\"shape\": \"spline\"}, \"name\": \"10\", \"x\": [0.16700902581214905, 0.14751887321472168, 0.1383970081806183, 0.1395660787820816, 0.13888755440711975, 0.1471082717180252, 0.16554807126522064], \"y\": [0.044138528406620026, 0.026488378643989563, 0.01284346729516983, 0.004654332995414734, 0.010875549167394638, 0.026496760547161102, 0.04264285787940025], \"type\": \"scatter\", \"uid\": \"37aa1ec5-d409-4967-b754-ae660eca7202\"}, {\"line\": {\"shape\": \"spline\"}, \"name\": \"11\", \"x\": [0.27704524993896484, 0.26135939359664917, 0.2556336522102356, 0.25567957758903503, 0.256472647190094, 0.26223117113113403, 0.27675098180770874], \"y\": [0.0694660171866417, 0.04250715672969818, 0.022584855556488037, 0.009553167968988419, 0.021868202835321426, 0.043296851217746735, 0.06795817613601685], \"type\": \"scatter\", \"uid\": \"64d5ee00-ef89-4b8b-a682-1203fb2a7334\"}, {\"line\": {\"shape\": \"spline\"}, \"name\": \"12\", \"x\": [0.36445367336273193, 0.35448095202445984, 0.352380633354187, 0.3525194823741913, 0.3530764877796173, 0.3557756245136261, 0.3650933802127838], \"y\": [0.09022625535726547, 0.05787363648414612, 0.03369750827550888, 0.017916545271873474, 0.033293768763542175, 0.0593378022313118, 0.08890320360660553], \"type\": \"scatter\", \"uid\": \"020b61e5-2d97-4e38-b03a-1ee1b463a5fe\"}, {\"line\": {\"shape\": \"spline\"}, \"name\": \"13\", \"x\": [0.5024634599685669, 0.5045620203018188, 0.5097701549530029, 0.5115735530853271, 0.5095685124397278, 0.5058290958404541, 0.5043783783912659], \"y\": [0.12419839948415756, 0.08740921318531036, 0.05889448523521423, 0.04072260111570358, 0.05812399089336395, 0.08972082287073135, 0.12341606616973877], \"type\": \"scatter\", \"uid\": \"c8db538b-8ea0-4d2c-9695-b497c94f9189\"}, {\"line\": {\"shape\": \"spline\"}, \"name\": \"14\", \"x\": [0.6318390965461731, 0.6461176872253418, 0.658525288105011, 0.663341224193573, 0.6567717790603638, 0.6466226577758789, 0.634419322013855], \"y\": [0.15358272194862366, 0.11830975115299225, 0.0898486077785492, 0.07236997038125992, 0.08806546032428741, 0.1210552379488945, 0.15376774966716766], \"type\": \"scatter\", \"uid\": \"81246ce4-cba7-41df-a0db-f2b3ad9facd8\"}, {\"line\": {\"shape\": \"spline\"}, \"name\": \"15\", \"x\": [0.7730595469474792, 0.8007947206497192, 0.8209644556045532, 0.8313104510307312, 0.8172928094863892, 0.7999454736709595, 0.7757673859596252], \"y\": [0.1845128834247589, 0.157683327794075, 0.13618646562099457, 0.12246938049793243, 0.1337328553199768, 0.16118460893630981, 0.18621668219566345], \"type\": \"scatter\", \"uid\": \"0bac09cc-4e7c-4418-90fa-eb5096e9a505\"}, {\"line\": {\"shape\": \"spline\"}, \"name\": \"16\", \"x\": [0.8540809154510498, 0.8896024823188782, 0.9139979481697083, 0.92885422706604, 0.909470796585083, 0.8878239393234253, 0.8566045165061951], \"y\": [0.20416656136512756, 0.18570642173290253, 0.17230597138404846, 0.1620427519083023, 0.17020267248153687, 0.18998396396636963, 0.20688658952713013], \"type\": \"scatter\", \"uid\": \"744bf215-636f-4149-952d-ef1f8dc88f17\"}, {\"line\": {\"shape\": \"spline\"}, \"name\": \"17\", \"x\": [0.9360296726226807, 0.9792376160621643, 1.007878065109253, 1.028502345085144, 1.0028547048568726, 0.97649747133255, 0.9379101991653442], \"y\": [0.23051005601882935, 0.22318591177463531, 0.22058919072151184, 0.21408772468566895, 0.2189955711364746, 0.22828269004821777, 0.23406001925468445], \"type\": \"scatter\", \"uid\": \"183e942f-2a32-4645-b6f2-404f9075acfe\"}], {\"height\": 600, \"hovermode\": \"closest\", \"title\": {\"text\": \"Initial Curves\"}, \"width\": 600, \"xaxis\": {\"range\": [-0.4, 1.2], \"title\": {\"text\": \"X\"}}, \"yaxis\": {\"range\": [-0.4, 1.2], \"title\": {\"text\": \"Y\"}}}, {\"showLink\": false, \"linkText\": \"Export to plot.ly\", \"plotlyServerURL\": \"https://plot.ly\"})});</script>"
      ]
     },
     "metadata": {},
     "output_type": "display_data"
    }
   ],
   "source": [
    "\n",
    "i = 5\n",
    "ph0 = phTout0.data.numpy()[i]\n",
    "ph1 = phTout1.data.numpy()[i]\n",
    "\n",
    "p01_0 = genOut0.data.numpy()[i]\n",
    "p01_1 = genOut1.data.numpy()[i]\n",
    "\n",
    "# nx = np.concatenate((p0,p01_0))\n",
    "nx = np.concatenate((p1,p01_1))\n",
    "\n",
    "gx = gy.FormatNetworkToGraphColumns(nx, xOffset=0, yOffset=14, colPoints=7)\n",
    "\n",
    "layout = go.Layout(\n",
    "    title = 'Initial Curves',\n",
    "    height = 600,\n",
    "    width = 600,\n",
    "    hovermode= 'closest',\n",
    "    xaxis= dict(\n",
    "        title= 'X',\n",
    "        range = [-.4,1.2],\n",
    "    ),\n",
    "    yaxis=dict(\n",
    "        title= 'Y',\n",
    "        range = [-.4,1.2],\n",
    "    )\n",
    ")\n",
    "f = gy.graphCurves(gx, layout, dashRange=range(0,9))\n",
    "offline.iplot(f)\n"
   ]
  },
  {
   "cell_type": "code",
   "execution_count": 73,
   "metadata": {},
   "outputs": [
    {
     "data": {
      "application/vnd.plotly.v1+json": {
       "config": {
        "linkText": "Export to plot.ly",
        "plotlyServerURL": "https://plot.ly",
        "showLink": false
       },
       "data": [
        {
         "line": {
          "dash": "2px,6px",
          "shape": "spline"
         },
         "marker": {
          "symbol": "star"
         },
         "name": "0",
         "type": "scatter",
         "uid": "c5c98a93-b587-455d-b376-61271c08a00b",
         "x": [
          0.11285713315010071,
          0.06834741681814194,
          0.04286620020866394,
          0.035129427909851074,
          0.04385325312614441,
          0.06829595565795898,
          0.11365029215812683
         ],
         "y": [
          -0.13124901056289673,
          -0.06964576244354248,
          -0.0289270281791687,
          0.000513879582285881,
          0.02919098734855652,
          0.07795965671539307,
          0.13644900918006897
         ]
        },
        {
         "line": {
          "dash": "2px,6px",
          "shape": "spline"
         },
         "marker": {
          "symbol": "star"
         },
         "name": "1",
         "type": "scatter",
         "uid": "517cb296-e4f6-4723-9a68-93dd7d50b156",
         "x": [
          0.20261719822883606,
          0.17445802688598633,
          0.160001739859581,
          0.15862026810646057,
          0.16172190010547638,
          0.1754307895898819,
          0.19918902218341827
         ],
         "y": [
          -0.19574004411697388,
          -0.12141841650009155,
          -0.05814117193222046,
          -0.0006105899810791016,
          0.058385759592056274,
          0.12383022904396057,
          0.1946444809436798
         ]
        },
        {
         "line": {
          "dash": "2px,6px",
          "shape": "spline"
         },
         "marker": {
          "symbol": "star"
         },
         "name": "2",
         "type": "scatter",
         "uid": "325873ee-32a3-4c2a-8341-8ddfe5ae0f92",
         "x": [
          0.2742575407028198,
          0.25866755843162537,
          0.25197675824165344,
          0.25208497047424316,
          0.2539946734905243,
          0.2596939206123352,
          0.2709338963031769
         ],
         "y": [
          -0.23279857635498047,
          -0.1511242389678955,
          -0.07588613033294678,
          -0.0010346770286560059,
          0.07634346187114716,
          0.15132009983062744,
          0.2293650507926941
         ]
        },
        {
         "line": {
          "dash": "2px,6px",
          "shape": "spline"
         },
         "marker": {
          "symbol": "star"
         },
         "name": "3",
         "type": "scatter",
         "uid": "011d3a27-6047-4783-ba45-1c6b40f1e3ee",
         "x": [
          0.33620989322662354,
          0.33045709133148193,
          0.3294546902179718,
          0.3286995589733124,
          0.3314060866832733,
          0.33102256059646606,
          0.33504268527030945
         ],
         "y": [
          -0.25335609912872314,
          -0.16706037521362305,
          -0.08599042892456055,
          -0.0009517669677734375,
          0.08658728003501892,
          0.16702163219451904,
          0.24908319115638733
         ]
        },
        {
         "line": {
          "dash": "2px,6px",
          "shape": "spline"
         },
         "marker": {
          "symbol": "star"
         },
         "name": "4",
         "type": "scatter",
         "uid": "e94c74a9-adc5-4964-a312-fcfd96e27d26",
         "x": [
          0.45318830013275146,
          0.4621697664260864,
          0.4696437418460846,
          0.4680708348751068,
          0.47062066197395325,
          0.46175676584243774,
          0.4543691575527191
         ],
         "y": [
          -0.2754359245300293,
          -0.18192750215530396,
          -0.09554952383041382,
          -4.595518112182617e-05,
          0.09648801386356354,
          0.18350094556808472,
          0.27050477266311646
         ]
        },
        {
         "line": {
          "dash": "2px,6px",
          "shape": "spline"
         },
         "marker": {
          "symbol": "star"
         },
         "name": "5",
         "type": "scatter",
         "uid": "03d167da-0452-4263-bf50-2f838b565f09",
         "x": [
          0.5691654682159424,
          0.589521050453186,
          0.6042487621307373,
          0.6063449382781982,
          0.6051965951919556,
          0.5884027481079102,
          0.570050835609436
         ],
         "y": [
          -0.28862667083740234,
          -0.1879938244819641,
          -0.09810131788253784,
          0.0008357148617506027,
          0.09822984039783478,
          0.18934598565101624,
          0.2823335826396942
         ]
        },
        {
         "line": {
          "dash": "2px,6px",
          "shape": "spline"
         },
         "marker": {
          "symbol": "star"
         },
         "name": "6",
         "type": "scatter",
         "uid": "fcb4a068-43dc-4ca1-8ab2-bcc2c205a480",
         "x": [
          0.7022988796234131,
          0.7370238900184631,
          0.7607020139694214,
          0.7710846662521362,
          0.7622040510177612,
          0.7359748482704163,
          0.7011950016021729
         ],
         "y": [
          -0.28611308336257935,
          -0.1878564953804016,
          -0.09617578983306885,
          0.0010718759149312973,
          0.09425763785839081,
          0.18726542592048645,
          0.2800107002258301
         ]
        },
        {
         "line": {
          "dash": "2px,6px",
          "shape": "spline"
         },
         "marker": {
          "symbol": "star"
         },
         "name": "7",
         "type": "scatter",
         "uid": "247a44fc-d502-4e41-842b-d9fcc13834a5",
         "x": [
          0.7789016962051392,
          0.8233206868171692,
          0.8517394065856934,
          0.8661127090454102,
          0.853178858757019,
          0.8227878212928772,
          0.7775490283966064
         ],
         "y": [
          -0.26703697443008423,
          -0.18028903007507324,
          -0.09144145250320435,
          0.0007449258118867874,
          0.08817651867866516,
          0.17836767435073853,
          0.26216113567352295
         ]
        },
        {
         "line": {
          "dash": "2px,6px",
          "shape": "spline"
         },
         "marker": {
          "symbol": "star"
         },
         "name": "8",
         "type": "scatter",
         "uid": "d044501a-fe8d-4493-a390-e8be7c321345",
         "x": [
          0.8569117784500122,
          0.9126577377319336,
          0.9440832138061523,
          0.9585635662078857,
          0.944144606590271,
          0.9128174185752869,
          0.8573988676071167
         ],
         "y": [
          -0.22177547216415405,
          -0.15965384244918823,
          -0.08075278997421265,
          0.00023039989173412323,
          0.07672145962715149,
          0.15643474459648132,
          0.21864043176174164
         ]
        },
        {
         "line": {
          "shape": "spline"
         },
         "name": "9",
         "type": "scatter",
         "uid": "fc5e82ee-c0f8-4dc1-aaa4-d1dab51aaec4",
         "x": [
          0.05341561138629913,
          0.03225116431713104,
          0.020430520176887512,
          0.022039279341697693,
          0.019891967996954918,
          0.03012678027153015,
          0.05100894719362259
         ],
         "y": [
          -0.058818697929382324,
          -0.03147625923156738,
          -0.01271522045135498,
          -0.0006914138793945312,
          0.011174589395523071,
          0.035626426339149475,
          0.05420615151524544
         ]
        },
        {
         "line": {
          "shape": "spline"
         },
         "name": "10",
         "type": "scatter",
         "uid": "45486773-9e62-4320-98ec-5e8c92a0be8c",
         "x": [
          0.1759815663099289,
          0.14141064882278442,
          0.12200266122817993,
          0.11755390465259552,
          0.12179380655288696,
          0.14171545207500458,
          0.174398273229599
         ],
         "y": [
          -0.09451794624328613,
          -0.049476027488708496,
          -0.019236087799072266,
          -0.00019979476928710938,
          0.01963275671005249,
          0.05181945860385895,
          0.08740272372961044
         ]
        },
        {
         "line": {
          "shape": "spline"
         },
         "name": "11",
         "type": "scatter",
         "uid": "452bf46a-315b-4769-8ff2-5f8647c55f2d",
         "x": [
          0.2734636664390564,
          0.23789328336715698,
          0.21846556663513184,
          0.2104835957288742,
          0.21706509590148926,
          0.23951788246631622,
          0.27296698093414307
         ],
         "y": [
          -0.13307112455368042,
          -0.07434618473052979,
          -0.03130835294723511,
          0.0005327612161636353,
          0.03259847313165665,
          0.07484365999698639,
          0.12412001192569733
         ]
        },
        {
         "line": {
          "shape": "spline"
         },
         "name": "12",
         "type": "scatter",
         "uid": "c0b1abc0-3c19-452b-91b4-41a26a2e1c39",
         "x": [
          0.35336023569107056,
          0.3216574788093567,
          0.3049800395965576,
          0.2958813011646271,
          0.3032277822494507,
          0.3235277533531189,
          0.3533129394054413
         ],
         "y": [
          -0.1613767147064209,
          -0.09471803903579712,
          -0.042810678482055664,
          0.0007597953081130981,
          0.04338918626308441,
          0.09487570822238922,
          0.15305432677268982
         ]
        },
        {
         "line": {
          "shape": "spline"
         },
         "name": "13",
         "type": "scatter",
         "uid": "8d6e8362-16bf-4c33-b3ba-17e1ea8fae2d",
         "x": [
          0.47447383403778076,
          0.4526520073413849,
          0.4437403082847595,
          0.43618112802505493,
          0.4422909617424011,
          0.45448002219200134,
          0.47426143288612366
         ],
         "y": [
          -0.18666303157806396,
          -0.11585932970046997,
          -0.05586957931518555,
          0.0005348930135369301,
          0.05484408885240555,
          0.11656416952610016,
          0.18237994611263275
         ]
        },
        {
         "line": {
          "shape": "spline"
         },
         "name": "14",
         "type": "scatter",
         "uid": "6c1c0f93-de35-4856-99e9-38cd342ab142",
         "x": [
          0.5829169750213623,
          0.5718000531196594,
          0.5729227066040039,
          0.5714438557624817,
          0.5733875632286072,
          0.5741302371025085,
          0.5812119841575623
         ],
         "y": [
          -0.19278091192245483,
          -0.12498492002487183,
          -0.061447322368621826,
          -0.0005862116813659668,
          0.05948060750961304,
          0.12525826692581177,
          0.19395598769187927
         ]
        },
        {
         "line": {
          "shape": "spline"
         },
         "name": "15",
         "type": "scatter",
         "uid": "4690897a-6b48-466a-afc4-5c1c28e5d9e1",
         "x": [
          0.7013911008834839,
          0.7049254775047302,
          0.7161658406257629,
          0.7233362197875977,
          0.7214817404747009,
          0.7093332409858704,
          0.6955792903900146
         ],
         "y": [
          -0.1805132031440735,
          -0.12464278936386108,
          -0.0578463077545166,
          -0.00030499696731567383,
          0.0578303188085556,
          0.11689737439155579,
          0.18704041838645935
         ]
        },
        {
         "line": {
          "shape": "spline"
         },
         "name": "16",
         "type": "scatter",
         "uid": "8ddda94e-c285-4d52-8217-dc2ff7ee1d58",
         "x": [
          0.7693976163864136,
          0.7826045751571655,
          0.7987716794013977,
          0.811005175113678,
          0.8075681924819946,
          0.7886509895324707,
          0.7605164051055908
         ],
         "y": [
          -0.16721099615097046,
          -0.12133318185806274,
          -0.05223888158798218,
          0.0009181927889585495,
          0.05453146994113922,
          0.10558708012104034,
          0.175690159201622
         ]
        },
        {
         "line": {
          "shape": "spline"
         },
         "name": "17",
         "type": "scatter",
         "uid": "afb4495b-80d0-4c2f-ab76-241ac2ae435c",
         "x": [
          0.8456956148147583,
          0.8709345459938049,
          0.8918973207473755,
          0.9100186824798584,
          0.9049087762832642,
          0.8787946105003357,
          0.8336328268051147
         ],
         "y": [
          -0.15012818574905396,
          -0.11657983064651489,
          -0.04469728469848633,
          0.0030586346983909607,
          0.04962337762117386,
          0.09057900309562683,
          0.1596900373697281
         ]
        }
       ],
       "layout": {
        "height": 600,
        "hovermode": "closest",
        "title": {
         "text": "Initial Curves"
        },
        "width": 600,
        "xaxis": {
         "range": [
          -0.3,
          1.1
         ],
         "title": {
          "text": "X"
         }
        },
        "yaxis": {
         "range": [
          -0.2,
          0.2
         ],
         "title": {
          "text": "Y"
         }
        }
       }
      },
      "text/html": [
       "<div id=\"ab3fd557-73af-4ae9-8252-8edafee3a15d\" style=\"height: 600px; width: 600px;\" class=\"plotly-graph-div\"></div><script type=\"text/javascript\">require([\"plotly\"], function(Plotly) { window.PLOTLYENV=window.PLOTLYENV || {};window.PLOTLYENV.BASE_URL=\"https://plot.ly\";Plotly.newPlot(\"ab3fd557-73af-4ae9-8252-8edafee3a15d\", [{\"line\": {\"dash\": \"2px,6px\", \"shape\": \"spline\"}, \"marker\": {\"symbol\": \"star\"}, \"name\": \"0\", \"x\": [0.11285713315010071, 0.06834741681814194, 0.04286620020866394, 0.035129427909851074, 0.04385325312614441, 0.06829595565795898, 0.11365029215812683], \"y\": [-0.13124901056289673, -0.06964576244354248, -0.0289270281791687, 0.000513879582285881, 0.02919098734855652, 0.07795965671539307, 0.13644900918006897], \"type\": \"scatter\", \"uid\": \"c5c98a93-b587-455d-b376-61271c08a00b\"}, {\"line\": {\"dash\": \"2px,6px\", \"shape\": \"spline\"}, \"marker\": {\"symbol\": \"star\"}, \"name\": \"1\", \"x\": [0.20261719822883606, 0.17445802688598633, 0.160001739859581, 0.15862026810646057, 0.16172190010547638, 0.1754307895898819, 0.19918902218341827], \"y\": [-0.19574004411697388, -0.12141841650009155, -0.05814117193222046, -0.0006105899810791016, 0.058385759592056274, 0.12383022904396057, 0.1946444809436798], \"type\": \"scatter\", \"uid\": \"517cb296-e4f6-4723-9a68-93dd7d50b156\"}, {\"line\": {\"dash\": \"2px,6px\", \"shape\": \"spline\"}, \"marker\": {\"symbol\": \"star\"}, \"name\": \"2\", \"x\": [0.2742575407028198, 0.25866755843162537, 0.25197675824165344, 0.25208497047424316, 0.2539946734905243, 0.2596939206123352, 0.2709338963031769], \"y\": [-0.23279857635498047, -0.1511242389678955, -0.07588613033294678, -0.0010346770286560059, 0.07634346187114716, 0.15132009983062744, 0.2293650507926941], \"type\": \"scatter\", \"uid\": \"325873ee-32a3-4c2a-8341-8ddfe5ae0f92\"}, {\"line\": {\"dash\": \"2px,6px\", \"shape\": \"spline\"}, \"marker\": {\"symbol\": \"star\"}, \"name\": \"3\", \"x\": [0.33620989322662354, 0.33045709133148193, 0.3294546902179718, 0.3286995589733124, 0.3314060866832733, 0.33102256059646606, 0.33504268527030945], \"y\": [-0.25335609912872314, -0.16706037521362305, -0.08599042892456055, -0.0009517669677734375, 0.08658728003501892, 0.16702163219451904, 0.24908319115638733], \"type\": \"scatter\", \"uid\": \"011d3a27-6047-4783-ba45-1c6b40f1e3ee\"}, {\"line\": {\"dash\": \"2px,6px\", \"shape\": \"spline\"}, \"marker\": {\"symbol\": \"star\"}, \"name\": \"4\", \"x\": [0.45318830013275146, 0.4621697664260864, 0.4696437418460846, 0.4680708348751068, 0.47062066197395325, 0.46175676584243774, 0.4543691575527191], \"y\": [-0.2754359245300293, -0.18192750215530396, -0.09554952383041382, -4.595518112182617e-05, 0.09648801386356354, 0.18350094556808472, 0.27050477266311646], \"type\": \"scatter\", \"uid\": \"e94c74a9-adc5-4964-a312-fcfd96e27d26\"}, {\"line\": {\"dash\": \"2px,6px\", \"shape\": \"spline\"}, \"marker\": {\"symbol\": \"star\"}, \"name\": \"5\", \"x\": [0.5691654682159424, 0.589521050453186, 0.6042487621307373, 0.6063449382781982, 0.6051965951919556, 0.5884027481079102, 0.570050835609436], \"y\": [-0.28862667083740234, -0.1879938244819641, -0.09810131788253784, 0.0008357148617506027, 0.09822984039783478, 0.18934598565101624, 0.2823335826396942], \"type\": \"scatter\", \"uid\": \"03d167da-0452-4263-bf50-2f838b565f09\"}, {\"line\": {\"dash\": \"2px,6px\", \"shape\": \"spline\"}, \"marker\": {\"symbol\": \"star\"}, \"name\": \"6\", \"x\": [0.7022988796234131, 0.7370238900184631, 0.7607020139694214, 0.7710846662521362, 0.7622040510177612, 0.7359748482704163, 0.7011950016021729], \"y\": [-0.28611308336257935, -0.1878564953804016, -0.09617578983306885, 0.0010718759149312973, 0.09425763785839081, 0.18726542592048645, 0.2800107002258301], \"type\": \"scatter\", \"uid\": \"fcb4a068-43dc-4ca1-8ab2-bcc2c205a480\"}, {\"line\": {\"dash\": \"2px,6px\", \"shape\": \"spline\"}, \"marker\": {\"symbol\": \"star\"}, \"name\": \"7\", \"x\": [0.7789016962051392, 0.8233206868171692, 0.8517394065856934, 0.8661127090454102, 0.853178858757019, 0.8227878212928772, 0.7775490283966064], \"y\": [-0.26703697443008423, -0.18028903007507324, -0.09144145250320435, 0.0007449258118867874, 0.08817651867866516, 0.17836767435073853, 0.26216113567352295], \"type\": \"scatter\", \"uid\": \"247a44fc-d502-4e41-842b-d9fcc13834a5\"}, {\"line\": {\"dash\": \"2px,6px\", \"shape\": \"spline\"}, \"marker\": {\"symbol\": \"star\"}, \"name\": \"8\", \"x\": [0.8569117784500122, 0.9126577377319336, 0.9440832138061523, 0.9585635662078857, 0.944144606590271, 0.9128174185752869, 0.8573988676071167], \"y\": [-0.22177547216415405, -0.15965384244918823, -0.08075278997421265, 0.00023039989173412323, 0.07672145962715149, 0.15643474459648132, 0.21864043176174164], \"type\": \"scatter\", \"uid\": \"d044501a-fe8d-4493-a390-e8be7c321345\"}, {\"line\": {\"shape\": \"spline\"}, \"name\": \"9\", \"x\": [0.05341561138629913, 0.03225116431713104, 0.020430520176887512, 0.022039279341697693, 0.019891967996954918, 0.03012678027153015, 0.05100894719362259], \"y\": [-0.058818697929382324, -0.03147625923156738, -0.01271522045135498, -0.0006914138793945312, 0.011174589395523071, 0.035626426339149475, 0.05420615151524544], \"type\": \"scatter\", \"uid\": \"fc5e82ee-c0f8-4dc1-aaa4-d1dab51aaec4\"}, {\"line\": {\"shape\": \"spline\"}, \"name\": \"10\", \"x\": [0.1759815663099289, 0.14141064882278442, 0.12200266122817993, 0.11755390465259552, 0.12179380655288696, 0.14171545207500458, 0.174398273229599], \"y\": [-0.09451794624328613, -0.049476027488708496, -0.019236087799072266, -0.00019979476928710938, 0.01963275671005249, 0.05181945860385895, 0.08740272372961044], \"type\": \"scatter\", \"uid\": \"45486773-9e62-4320-98ec-5e8c92a0be8c\"}, {\"line\": {\"shape\": \"spline\"}, \"name\": \"11\", \"x\": [0.2734636664390564, 0.23789328336715698, 0.21846556663513184, 0.2104835957288742, 0.21706509590148926, 0.23951788246631622, 0.27296698093414307], \"y\": [-0.13307112455368042, -0.07434618473052979, -0.03130835294723511, 0.0005327612161636353, 0.03259847313165665, 0.07484365999698639, 0.12412001192569733], \"type\": \"scatter\", \"uid\": \"452bf46a-315b-4769-8ff2-5f8647c55f2d\"}, {\"line\": {\"shape\": \"spline\"}, \"name\": \"12\", \"x\": [0.35336023569107056, 0.3216574788093567, 0.3049800395965576, 0.2958813011646271, 0.3032277822494507, 0.3235277533531189, 0.3533129394054413], \"y\": [-0.1613767147064209, -0.09471803903579712, -0.042810678482055664, 0.0007597953081130981, 0.04338918626308441, 0.09487570822238922, 0.15305432677268982], \"type\": \"scatter\", \"uid\": \"c0b1abc0-3c19-452b-91b4-41a26a2e1c39\"}, {\"line\": {\"shape\": \"spline\"}, \"name\": \"13\", \"x\": [0.47447383403778076, 0.4526520073413849, 0.4437403082847595, 0.43618112802505493, 0.4422909617424011, 0.45448002219200134, 0.47426143288612366], \"y\": [-0.18666303157806396, -0.11585932970046997, -0.05586957931518555, 0.0005348930135369301, 0.05484408885240555, 0.11656416952610016, 0.18237994611263275], \"type\": \"scatter\", \"uid\": \"8d6e8362-16bf-4c33-b3ba-17e1ea8fae2d\"}, {\"line\": {\"shape\": \"spline\"}, \"name\": \"14\", \"x\": [0.5829169750213623, 0.5718000531196594, 0.5729227066040039, 0.5714438557624817, 0.5733875632286072, 0.5741302371025085, 0.5812119841575623], \"y\": [-0.19278091192245483, -0.12498492002487183, -0.061447322368621826, -0.0005862116813659668, 0.05948060750961304, 0.12525826692581177, 0.19395598769187927], \"type\": \"scatter\", \"uid\": \"6c1c0f93-de35-4856-99e9-38cd342ab142\"}, {\"line\": {\"shape\": \"spline\"}, \"name\": \"15\", \"x\": [0.7013911008834839, 0.7049254775047302, 0.7161658406257629, 0.7233362197875977, 0.7214817404747009, 0.7093332409858704, 0.6955792903900146], \"y\": [-0.1805132031440735, -0.12464278936386108, -0.0578463077545166, -0.00030499696731567383, 0.0578303188085556, 0.11689737439155579, 0.18704041838645935], \"type\": \"scatter\", \"uid\": \"4690897a-6b48-466a-afc4-5c1c28e5d9e1\"}, {\"line\": {\"shape\": \"spline\"}, \"name\": \"16\", \"x\": [0.7693976163864136, 0.7826045751571655, 0.7987716794013977, 0.811005175113678, 0.8075681924819946, 0.7886509895324707, 0.7605164051055908], \"y\": [-0.16721099615097046, -0.12133318185806274, -0.05223888158798218, 0.0009181927889585495, 0.05453146994113922, 0.10558708012104034, 0.175690159201622], \"type\": \"scatter\", \"uid\": \"8ddda94e-c285-4d52-8217-dc2ff7ee1d58\"}, {\"line\": {\"shape\": \"spline\"}, \"name\": \"17\", \"x\": [0.8456956148147583, 0.8709345459938049, 0.8918973207473755, 0.9100186824798584, 0.9049087762832642, 0.8787946105003357, 0.8336328268051147], \"y\": [-0.15012818574905396, -0.11657983064651489, -0.04469728469848633, 0.0030586346983909607, 0.04962337762117386, 0.09057900309562683, 0.1596900373697281], \"type\": \"scatter\", \"uid\": \"afb4495b-80d0-4c2f-ab76-241ac2ae435c\"}], {\"height\": 600, \"hovermode\": \"closest\", \"title\": {\"text\": \"Initial Curves\"}, \"width\": 600, \"xaxis\": {\"range\": [-0.3, 1.1], \"title\": {\"text\": \"X\"}}, \"yaxis\": {\"range\": [-0.2, 0.2], \"title\": {\"text\": \"Y\"}}}, {\"showLink\": false, \"linkText\": \"Export to plot.ly\", \"plotlyServerURL\": \"https://plot.ly\"})});</script>"
      ],
      "text/vnd.plotly.v1+html": [
       "<div id=\"ab3fd557-73af-4ae9-8252-8edafee3a15d\" style=\"height: 600px; width: 600px;\" class=\"plotly-graph-div\"></div><script type=\"text/javascript\">require([\"plotly\"], function(Plotly) { window.PLOTLYENV=window.PLOTLYENV || {};window.PLOTLYENV.BASE_URL=\"https://plot.ly\";Plotly.newPlot(\"ab3fd557-73af-4ae9-8252-8edafee3a15d\", [{\"line\": {\"dash\": \"2px,6px\", \"shape\": \"spline\"}, \"marker\": {\"symbol\": \"star\"}, \"name\": \"0\", \"x\": [0.11285713315010071, 0.06834741681814194, 0.04286620020866394, 0.035129427909851074, 0.04385325312614441, 0.06829595565795898, 0.11365029215812683], \"y\": [-0.13124901056289673, -0.06964576244354248, -0.0289270281791687, 0.000513879582285881, 0.02919098734855652, 0.07795965671539307, 0.13644900918006897], \"type\": \"scatter\", \"uid\": \"c5c98a93-b587-455d-b376-61271c08a00b\"}, {\"line\": {\"dash\": \"2px,6px\", \"shape\": \"spline\"}, \"marker\": {\"symbol\": \"star\"}, \"name\": \"1\", \"x\": [0.20261719822883606, 0.17445802688598633, 0.160001739859581, 0.15862026810646057, 0.16172190010547638, 0.1754307895898819, 0.19918902218341827], \"y\": [-0.19574004411697388, -0.12141841650009155, -0.05814117193222046, -0.0006105899810791016, 0.058385759592056274, 0.12383022904396057, 0.1946444809436798], \"type\": \"scatter\", \"uid\": \"517cb296-e4f6-4723-9a68-93dd7d50b156\"}, {\"line\": {\"dash\": \"2px,6px\", \"shape\": \"spline\"}, \"marker\": {\"symbol\": \"star\"}, \"name\": \"2\", \"x\": [0.2742575407028198, 0.25866755843162537, 0.25197675824165344, 0.25208497047424316, 0.2539946734905243, 0.2596939206123352, 0.2709338963031769], \"y\": [-0.23279857635498047, -0.1511242389678955, -0.07588613033294678, -0.0010346770286560059, 0.07634346187114716, 0.15132009983062744, 0.2293650507926941], \"type\": \"scatter\", \"uid\": \"325873ee-32a3-4c2a-8341-8ddfe5ae0f92\"}, {\"line\": {\"dash\": \"2px,6px\", \"shape\": \"spline\"}, \"marker\": {\"symbol\": \"star\"}, \"name\": \"3\", \"x\": [0.33620989322662354, 0.33045709133148193, 0.3294546902179718, 0.3286995589733124, 0.3314060866832733, 0.33102256059646606, 0.33504268527030945], \"y\": [-0.25335609912872314, -0.16706037521362305, -0.08599042892456055, -0.0009517669677734375, 0.08658728003501892, 0.16702163219451904, 0.24908319115638733], \"type\": \"scatter\", \"uid\": \"011d3a27-6047-4783-ba45-1c6b40f1e3ee\"}, {\"line\": {\"dash\": \"2px,6px\", \"shape\": \"spline\"}, \"marker\": {\"symbol\": \"star\"}, \"name\": \"4\", \"x\": [0.45318830013275146, 0.4621697664260864, 0.4696437418460846, 0.4680708348751068, 0.47062066197395325, 0.46175676584243774, 0.4543691575527191], \"y\": [-0.2754359245300293, -0.18192750215530396, -0.09554952383041382, -4.595518112182617e-05, 0.09648801386356354, 0.18350094556808472, 0.27050477266311646], \"type\": \"scatter\", \"uid\": \"e94c74a9-adc5-4964-a312-fcfd96e27d26\"}, {\"line\": {\"dash\": \"2px,6px\", \"shape\": \"spline\"}, \"marker\": {\"symbol\": \"star\"}, \"name\": \"5\", \"x\": [0.5691654682159424, 0.589521050453186, 0.6042487621307373, 0.6063449382781982, 0.6051965951919556, 0.5884027481079102, 0.570050835609436], \"y\": [-0.28862667083740234, -0.1879938244819641, -0.09810131788253784, 0.0008357148617506027, 0.09822984039783478, 0.18934598565101624, 0.2823335826396942], \"type\": \"scatter\", \"uid\": \"03d167da-0452-4263-bf50-2f838b565f09\"}, {\"line\": {\"dash\": \"2px,6px\", \"shape\": \"spline\"}, \"marker\": {\"symbol\": \"star\"}, \"name\": \"6\", \"x\": [0.7022988796234131, 0.7370238900184631, 0.7607020139694214, 0.7710846662521362, 0.7622040510177612, 0.7359748482704163, 0.7011950016021729], \"y\": [-0.28611308336257935, -0.1878564953804016, -0.09617578983306885, 0.0010718759149312973, 0.09425763785839081, 0.18726542592048645, 0.2800107002258301], \"type\": \"scatter\", \"uid\": \"fcb4a068-43dc-4ca1-8ab2-bcc2c205a480\"}, {\"line\": {\"dash\": \"2px,6px\", \"shape\": \"spline\"}, \"marker\": {\"symbol\": \"star\"}, \"name\": \"7\", \"x\": [0.7789016962051392, 0.8233206868171692, 0.8517394065856934, 0.8661127090454102, 0.853178858757019, 0.8227878212928772, 0.7775490283966064], \"y\": [-0.26703697443008423, -0.18028903007507324, -0.09144145250320435, 0.0007449258118867874, 0.08817651867866516, 0.17836767435073853, 0.26216113567352295], \"type\": \"scatter\", \"uid\": \"247a44fc-d502-4e41-842b-d9fcc13834a5\"}, {\"line\": {\"dash\": \"2px,6px\", \"shape\": \"spline\"}, \"marker\": {\"symbol\": \"star\"}, \"name\": \"8\", \"x\": [0.8569117784500122, 0.9126577377319336, 0.9440832138061523, 0.9585635662078857, 0.944144606590271, 0.9128174185752869, 0.8573988676071167], \"y\": [-0.22177547216415405, -0.15965384244918823, -0.08075278997421265, 0.00023039989173412323, 0.07672145962715149, 0.15643474459648132, 0.21864043176174164], \"type\": \"scatter\", \"uid\": \"d044501a-fe8d-4493-a390-e8be7c321345\"}, {\"line\": {\"shape\": \"spline\"}, \"name\": \"9\", \"x\": [0.05341561138629913, 0.03225116431713104, 0.020430520176887512, 0.022039279341697693, 0.019891967996954918, 0.03012678027153015, 0.05100894719362259], \"y\": [-0.058818697929382324, -0.03147625923156738, -0.01271522045135498, -0.0006914138793945312, 0.011174589395523071, 0.035626426339149475, 0.05420615151524544], \"type\": \"scatter\", \"uid\": \"fc5e82ee-c0f8-4dc1-aaa4-d1dab51aaec4\"}, {\"line\": {\"shape\": \"spline\"}, \"name\": \"10\", \"x\": [0.1759815663099289, 0.14141064882278442, 0.12200266122817993, 0.11755390465259552, 0.12179380655288696, 0.14171545207500458, 0.174398273229599], \"y\": [-0.09451794624328613, -0.049476027488708496, -0.019236087799072266, -0.00019979476928710938, 0.01963275671005249, 0.05181945860385895, 0.08740272372961044], \"type\": \"scatter\", \"uid\": \"45486773-9e62-4320-98ec-5e8c92a0be8c\"}, {\"line\": {\"shape\": \"spline\"}, \"name\": \"11\", \"x\": [0.2734636664390564, 0.23789328336715698, 0.21846556663513184, 0.2104835957288742, 0.21706509590148926, 0.23951788246631622, 0.27296698093414307], \"y\": [-0.13307112455368042, -0.07434618473052979, -0.03130835294723511, 0.0005327612161636353, 0.03259847313165665, 0.07484365999698639, 0.12412001192569733], \"type\": \"scatter\", \"uid\": \"452bf46a-315b-4769-8ff2-5f8647c55f2d\"}, {\"line\": {\"shape\": \"spline\"}, \"name\": \"12\", \"x\": [0.35336023569107056, 0.3216574788093567, 0.3049800395965576, 0.2958813011646271, 0.3032277822494507, 0.3235277533531189, 0.3533129394054413], \"y\": [-0.1613767147064209, -0.09471803903579712, -0.042810678482055664, 0.0007597953081130981, 0.04338918626308441, 0.09487570822238922, 0.15305432677268982], \"type\": \"scatter\", \"uid\": \"c0b1abc0-3c19-452b-91b4-41a26a2e1c39\"}, {\"line\": {\"shape\": \"spline\"}, \"name\": \"13\", \"x\": [0.47447383403778076, 0.4526520073413849, 0.4437403082847595, 0.43618112802505493, 0.4422909617424011, 0.45448002219200134, 0.47426143288612366], \"y\": [-0.18666303157806396, -0.11585932970046997, -0.05586957931518555, 0.0005348930135369301, 0.05484408885240555, 0.11656416952610016, 0.18237994611263275], \"type\": \"scatter\", \"uid\": \"8d6e8362-16bf-4c33-b3ba-17e1ea8fae2d\"}, {\"line\": {\"shape\": \"spline\"}, \"name\": \"14\", \"x\": [0.5829169750213623, 0.5718000531196594, 0.5729227066040039, 0.5714438557624817, 0.5733875632286072, 0.5741302371025085, 0.5812119841575623], \"y\": [-0.19278091192245483, -0.12498492002487183, -0.061447322368621826, -0.0005862116813659668, 0.05948060750961304, 0.12525826692581177, 0.19395598769187927], \"type\": \"scatter\", \"uid\": \"6c1c0f93-de35-4856-99e9-38cd342ab142\"}, {\"line\": {\"shape\": \"spline\"}, \"name\": \"15\", \"x\": [0.7013911008834839, 0.7049254775047302, 0.7161658406257629, 0.7233362197875977, 0.7214817404747009, 0.7093332409858704, 0.6955792903900146], \"y\": [-0.1805132031440735, -0.12464278936386108, -0.0578463077545166, -0.00030499696731567383, 0.0578303188085556, 0.11689737439155579, 0.18704041838645935], \"type\": \"scatter\", \"uid\": \"4690897a-6b48-466a-afc4-5c1c28e5d9e1\"}, {\"line\": {\"shape\": \"spline\"}, \"name\": \"16\", \"x\": [0.7693976163864136, 0.7826045751571655, 0.7987716794013977, 0.811005175113678, 0.8075681924819946, 0.7886509895324707, 0.7605164051055908], \"y\": [-0.16721099615097046, -0.12133318185806274, -0.05223888158798218, 0.0009181927889585495, 0.05453146994113922, 0.10558708012104034, 0.175690159201622], \"type\": \"scatter\", \"uid\": \"8ddda94e-c285-4d52-8217-dc2ff7ee1d58\"}, {\"line\": {\"shape\": \"spline\"}, \"name\": \"17\", \"x\": [0.8456956148147583, 0.8709345459938049, 0.8918973207473755, 0.9100186824798584, 0.9049087762832642, 0.8787946105003357, 0.8336328268051147], \"y\": [-0.15012818574905396, -0.11657983064651489, -0.04469728469848633, 0.0030586346983909607, 0.04962337762117386, 0.09057900309562683, 0.1596900373697281], \"type\": \"scatter\", \"uid\": \"afb4495b-80d0-4c2f-ab76-241ac2ae435c\"}], {\"height\": 600, \"hovermode\": \"closest\", \"title\": {\"text\": \"Initial Curves\"}, \"width\": 600, \"xaxis\": {\"range\": [-0.3, 1.1], \"title\": {\"text\": \"X\"}}, \"yaxis\": {\"range\": [-0.2, 0.2], \"title\": {\"text\": \"Y\"}}}, {\"showLink\": false, \"linkText\": \"Export to plot.ly\", \"plotlyServerURL\": \"https://plot.ly\"})});</script>"
      ]
     },
     "metadata": {},
     "output_type": "display_data"
    }
   ],
   "source": [
    "\n",
    "i = 7\n",
    "ph0 = phTout0.data.numpy()[i]\n",
    "ph1 = phTout1.data.numpy()[i]\n",
    "\n",
    "p01_0 = genOut0.data.numpy()[i]\n",
    "p01_1 = genOut1.data.numpy()[i]\n",
    "\n",
    "# nx = np.concatenate((p0,p01_0))\n",
    "nx = np.concatenate((p1,p01_1))\n",
    "\n",
    "gx = gy.FormatNetworkToGraphColumns(nx, xOffset=0, yOffset=7, colPoints=7)\n",
    "\n",
    "layout = go.Layout(\n",
    "    title = 'Initial Curves',\n",
    "    height = 600,\n",
    "    width = 600,\n",
    "    hovermode= 'closest',\n",
    "    xaxis= dict(\n",
    "        title= 'X',\n",
    "        range = [-.3,1.1],\n",
    "    ),\n",
    "    yaxis=dict(\n",
    "        title= 'Y',\n",
    "        range = [-.2,.2],\n",
    "    )\n",
    ")\n",
    "f = gy.graphCurves(gx, layout, dashRange=range(0,9))\n",
    "offline.iplot(f)\n"
   ]
  },
  {
   "cell_type": "code",
   "execution_count": 76,
   "metadata": {},
   "outputs": [
    {
     "data": {
      "application/vnd.plotly.v1+json": {
       "config": {
        "linkText": "Export to plot.ly",
        "plotlyServerURL": "https://plot.ly",
        "showLink": false
       },
       "data": [
        {
         "line": {
          "dash": "2px,6px",
          "shape": "spline"
         },
         "marker": {
          "symbol": "star"
         },
         "name": "0",
         "type": "scatter",
         "uid": "cfcffdd7-ef9d-4a23-96a8-12e637275184",
         "x": [
          -0.051709532737731934,
          -0.03137695789337158,
          -0.014062047004699707,
          3.618001937866211e-05,
          0.013416916131973267,
          0.029561154544353485,
          0.054504185914993286
         ],
         "y": [
          -0.0010970830917358398,
          0.000591568648815155,
          0.0016844868659973145,
          0.0017935633659362793,
          0.0014146417379379272,
          0.0002841949462890625,
          -0.0008829832077026367
         ]
        },
        {
         "line": {
          "dash": "2px,6px",
          "shape": "spline"
         },
         "marker": {
          "symbol": "star"
         },
         "name": "1",
         "type": "scatter",
         "uid": "361b98bf-bf51-4cc1-b9de-0ae9e2981ed4",
         "x": [
          -0.09083247184753418,
          -0.05187106132507324,
          -0.024411380290985107,
          0.00015370920300483704,
          0.024526968598365784,
          0.05457407981157303,
          0.08943147957324982
         ],
         "y": [
          -0.044038236141204834,
          -0.05691266059875488,
          -0.06224977970123291,
          -0.06415432691574097,
          -0.06082993745803833,
          -0.05518174171447754,
          -0.04461544752120972
         ]
        },
        {
         "line": {
          "dash": "2px,6px",
          "shape": "spline"
         },
         "marker": {
          "symbol": "star"
         },
         "name": "2",
         "type": "scatter",
         "uid": "b4df132c-deaf-40e2-b20b-bba59a3fcfe3",
         "x": [
          -0.12067747116088867,
          -0.06761646270751953,
          -0.03338354825973511,
          0.00011090189218521118,
          0.03387299180030823,
          0.07523638755083084,
          0.11650829017162323
         ],
         "y": [
          -0.0830690860748291,
          -0.10638213157653809,
          -0.11543071269989014,
          -0.11865729093551636,
          -0.11459451913833618,
          -0.10479885339736938,
          -0.08321136236190796
         ]
        },
        {
         "line": {
          "dash": "2px,6px",
          "shape": "spline"
         },
         "marker": {
          "symbol": "star"
         },
         "name": "3",
         "type": "scatter",
         "uid": "5fb10a6b-f03e-428e-9237-2c4e31b22d96",
         "x": [
          -0.14296090602874756,
          -0.08047527074813843,
          -0.0411839485168457,
          2.8427690267562866e-05,
          0.04167415201663971,
          0.09194911271333694,
          0.13791798055171967
         ],
         "y": [
          -0.11349016427993774,
          -0.14428365230560303,
          -0.156327486038208,
          -0.16083937883377075,
          -0.15653669834136963,
          -0.14379125833511353,
          -0.1131746768951416
         ]
        },
        {
         "line": {
          "dash": "2px,6px",
          "shape": "spline"
         },
         "marker": {
          "symbol": "star"
         },
         "name": "4",
         "type": "scatter",
         "uid": "f3c4f891-2ee5-49da-a4f7-4007ceea3cd5",
         "x": [
          -0.16403865814208984,
          -0.09395653009414673,
          -0.04912424087524414,
          5.853921175003052e-05,
          0.05002501606941223,
          0.10769752413034439,
          0.16073335707187653
         ],
         "y": [
          -0.1637650728225708,
          -0.2090488076210022,
          -0.22673249244689941,
          -0.235887348651886,
          -0.22714734077453613,
          -0.20717352628707886,
          -0.16376739740371704
         ]
        },
        {
         "line": {
          "dash": "2px,6px",
          "shape": "spline"
         },
         "marker": {
          "symbol": "star"
         },
         "name": "5",
         "type": "scatter",
         "uid": "2312a8af-54b8-499a-ace9-9555d2912a79",
         "x": [
          -0.1697494387626648,
          -0.09933829307556152,
          -0.05285829305648804,
          4.860386252403259e-05,
          0.053718313574790955,
          0.11304152756929398,
          0.16828490793704987
         ],
         "y": [
          -0.22630834579467773,
          -0.2793940305709839,
          -0.29975855350494385,
          -0.3123655319213867,
          -0.3006380796432495,
          -0.27675479650497437,
          -0.22625917196273804
         ]
        },
        {
         "line": {
          "dash": "2px,6px",
          "shape": "spline"
         },
         "marker": {
          "symbol": "star"
         },
         "name": "6",
         "type": "scatter",
         "uid": "de622524-1722-4bc6-b2c4-1d349c2469cb",
         "x": [
          -0.1596202850341797,
          -0.09788811206817627,
          -0.052854180335998535,
          -9.179115295410156e-06,
          0.05252693593502045,
          0.10898379236459732,
          0.15986575186252594
         ],
         "y": [
          -0.31244146823883057,
          -0.36343735456466675,
          -0.38341736793518066,
          -0.39733558893203735,
          -0.38496947288513184,
          -0.3616829514503479,
          -0.3120001554489136
         ]
        },
        {
         "line": {
          "dash": "2px,6px",
          "shape": "spline"
         },
         "marker": {
          "symbol": "star"
         },
         "name": "7",
         "type": "scatter",
         "uid": "4850eb49-641d-4716-a8b0-2859d140c84b",
         "x": [
          -0.1456911563873291,
          -0.09398096799850464,
          -0.050670087337493896,
          -1.8656253814697266e-05,
          0.049051523208618164,
          0.10182023793458939,
          0.14744378626346588
         ],
         "y": [
          -0.36430442333221436,
          -0.4100577235221863,
          -0.428864061832428,
          -0.44266223907470703,
          -0.4305190443992615,
          -0.4091324210166931,
          -0.3637903928756714
         ]
        },
        {
         "line": {
          "dash": "2px,6px",
          "shape": "spline"
         },
         "marker": {
          "symbol": "star"
         },
         "name": "8",
         "type": "scatter",
         "uid": "de1cf583-df24-48ab-870a-6d7ecd95f950",
         "x": [
          -0.122749924659729,
          -0.0871572494506836,
          -0.04627060890197754,
          1.2721866369247437e-05,
          0.04270879924297333,
          0.08967293053865433,
          0.12730564177036285
         ],
         "y": [
          -0.4213526248931885,
          -0.4588962197303772,
          -0.4759690761566162,
          -0.4891435503959656,
          -0.4774378538131714,
          -0.4589652419090271,
          -0.4209746718406677
         ]
        },
        {
         "line": {
          "shape": "spline"
         },
         "name": "9",
         "type": "scatter",
         "uid": "faa3a359-4176-4410-a080-3bfbe4ce4bee",
         "x": [
          -0.058818697929382324,
          -0.03147625923156738,
          -0.01271522045135498,
          -0.0006914138793945312,
          0.011174589395523071,
          0.035626426339149475,
          0.05420615151524544
         ],
         "y": [
          0.023765929043293,
          0.018378913402557373,
          0.013229697942733765,
          0.010889191180467606,
          0.010754495859146118,
          0.017389342188835144,
          0.02314385399222374
         ]
        },
        {
         "line": {
          "shape": "spline"
         },
         "name": "10",
         "type": "scatter",
         "uid": "a5ca5bae-41aa-415a-836f-89f09c7d60de",
         "x": [
          -0.09451794624328613,
          -0.049476027488708496,
          -0.019236087799072266,
          -0.00019979476928710938,
          0.01963275671005249,
          0.05181945860385895,
          0.08740272372961044
         ],
         "y": [
          -0.022815823554992676,
          -0.04189002513885498,
          -0.053372204303741455,
          -0.060706138610839844,
          -0.054051101207733154,
          -0.04096287488937378,
          -0.023519039154052734
         ]
        },
        {
         "line": {
          "shape": "spline"
         },
         "name": "11",
         "type": "scatter",
         "uid": "62a9794a-3dbd-49b0-9f4a-ba02a5222330",
         "x": [
          -0.13307112455368042,
          -0.07434618473052979,
          -0.03130835294723511,
          0.0005327612161636353,
          0.03259847313165665,
          0.07484365999698639,
          0.12412001192569733
         ],
         "y": [
          -0.06323868036270142,
          -0.09434199333190918,
          -0.11225003004074097,
          -0.12276142835617065,
          -0.11329543590545654,
          -0.09174233675003052,
          -0.06370079517364502
         ]
        },
        {
         "line": {
          "shape": "spline"
         },
         "name": "12",
         "type": "scatter",
         "uid": "34f695df-70eb-41a1-a2fe-4363cc2eac91",
         "x": [
          -0.1613767147064209,
          -0.09471803903579712,
          -0.042810678482055664,
          0.0007597953081130981,
          0.04338918626308441,
          0.09487570822238922,
          0.15305432677268982
         ],
         "y": [
          -0.10104668140411377,
          -0.13919568061828613,
          -0.16209501028060913,
          -0.1744084358215332,
          -0.16397684812545776,
          -0.13660389184951782,
          -0.10179919004440308
         ]
        },
        {
         "line": {
          "shape": "spline"
         },
         "name": "13",
         "type": "scatter",
         "uid": "6e2c2dc2-e5ec-4094-ac59-deae26fd87ec",
         "x": [
          -0.18666303157806396,
          -0.11585932970046997,
          -0.05586957931518555,
          0.0005348930135369301,
          0.05484408885240555,
          0.11656416952610016,
          0.18237994611263275
         ],
         "y": [
          -0.1672677993774414,
          -0.21231412887573242,
          -0.23937571048736572,
          -0.2537171244621277,
          -0.24194222688674927,
          -0.2106456160545349,
          -0.1694146990776062
         ]
        },
        {
         "line": {
          "shape": "spline"
         },
         "name": "14",
         "type": "scatter",
         "uid": "6338d087-5984-436a-83d1-0016887970bd",
         "x": [
          -0.19278091192245483,
          -0.12498492002487183,
          -0.061447322368621826,
          -0.0005862116813659668,
          0.05948060750961304,
          0.12525826692581177,
          0.19395598769187927
         ],
         "y": [
          -0.23674356937408447,
          -0.2839764356613159,
          -0.30832380056381226,
          -0.3247309923171997,
          -0.30964982509613037,
          -0.2829170227050781,
          -0.24151557683944702
         ]
        },
        {
         "line": {
          "shape": "spline"
         },
         "name": "15",
         "type": "scatter",
         "uid": "65017e47-8c75-4883-bb1f-57df6543deac",
         "x": [
          -0.1805132031440735,
          -0.12464278936386108,
          -0.0578463077545166,
          -0.00030499696731567383,
          0.0578303188085556,
          0.11689737439155579,
          0.18704041838645935
         ],
         "y": [
          -0.31526947021484375,
          -0.358970046043396,
          -0.37412208318710327,
          -0.3924679160118103,
          -0.3727450370788574,
          -0.359774112701416,
          -0.32447582483291626
         ]
        },
        {
         "line": {
          "shape": "spline"
         },
         "name": "16",
         "type": "scatter",
         "uid": "fa88b7d7-b71a-4ee2-bd4b-47bade7edcb9",
         "x": [
          -0.16721099615097046,
          -0.12133318185806274,
          -0.05223888158798218,
          0.0009181927889585495,
          0.05453146994113922,
          0.10558708012104034,
          0.175690159201622
         ],
         "y": [
          -0.356563925743103,
          -0.39600813388824463,
          -0.4041041135787964,
          -0.4229013919830322,
          -0.4009853005409241,
          -0.3981667757034302,
          -0.3682199716567993
         ]
        },
        {
         "line": {
          "shape": "spline"
         },
         "name": "17",
         "type": "scatter",
         "uid": "fbeb2d67-23b9-48af-bc05-41783b0fa9d4",
         "x": [
          -0.15012818574905396,
          -0.11657983064651489,
          -0.04469728469848633,
          0.0030586346983909607,
          0.04962337762117386,
          0.09057900309562683,
          0.1596900373697281
         ],
         "y": [
          -0.3982202410697937,
          -0.43179506063461304,
          -0.4313931465148926,
          -0.4497253894805908,
          -0.4261143207550049,
          -0.43539243936538696,
          -0.4123203158378601
         ]
        }
       ],
       "layout": {
        "height": 600,
        "hovermode": "closest",
        "title": {
         "text": "Initial Curves"
        },
        "width": 600,
        "xaxis": {
         "range": [
          -0.5,
          0.5
         ],
         "title": {
          "text": "X"
         }
        },
        "yaxis": {
         "range": [
          -0.8,
          0.2
         ],
         "title": {
          "text": "Y"
         }
        }
       }
      },
      "text/html": [
       "<div id=\"7beb62b1-8f39-4e8a-9865-72d72a66216f\" style=\"height: 600px; width: 600px;\" class=\"plotly-graph-div\"></div><script type=\"text/javascript\">require([\"plotly\"], function(Plotly) { window.PLOTLYENV=window.PLOTLYENV || {};window.PLOTLYENV.BASE_URL=\"https://plot.ly\";Plotly.newPlot(\"7beb62b1-8f39-4e8a-9865-72d72a66216f\", [{\"line\": {\"dash\": \"2px,6px\", \"shape\": \"spline\"}, \"marker\": {\"symbol\": \"star\"}, \"name\": \"0\", \"x\": [-0.051709532737731934, -0.03137695789337158, -0.014062047004699707, 3.618001937866211e-05, 0.013416916131973267, 0.029561154544353485, 0.054504185914993286], \"y\": [-0.0010970830917358398, 0.000591568648815155, 0.0016844868659973145, 0.0017935633659362793, 0.0014146417379379272, 0.0002841949462890625, -0.0008829832077026367], \"type\": \"scatter\", \"uid\": \"cfcffdd7-ef9d-4a23-96a8-12e637275184\"}, {\"line\": {\"dash\": \"2px,6px\", \"shape\": \"spline\"}, \"marker\": {\"symbol\": \"star\"}, \"name\": \"1\", \"x\": [-0.09083247184753418, -0.05187106132507324, -0.024411380290985107, 0.00015370920300483704, 0.024526968598365784, 0.05457407981157303, 0.08943147957324982], \"y\": [-0.044038236141204834, -0.05691266059875488, -0.06224977970123291, -0.06415432691574097, -0.06082993745803833, -0.05518174171447754, -0.04461544752120972], \"type\": \"scatter\", \"uid\": \"361b98bf-bf51-4cc1-b9de-0ae9e2981ed4\"}, {\"line\": {\"dash\": \"2px,6px\", \"shape\": \"spline\"}, \"marker\": {\"symbol\": \"star\"}, \"name\": \"2\", \"x\": [-0.12067747116088867, -0.06761646270751953, -0.03338354825973511, 0.00011090189218521118, 0.03387299180030823, 0.07523638755083084, 0.11650829017162323], \"y\": [-0.0830690860748291, -0.10638213157653809, -0.11543071269989014, -0.11865729093551636, -0.11459451913833618, -0.10479885339736938, -0.08321136236190796], \"type\": \"scatter\", \"uid\": \"b4df132c-deaf-40e2-b20b-bba59a3fcfe3\"}, {\"line\": {\"dash\": \"2px,6px\", \"shape\": \"spline\"}, \"marker\": {\"symbol\": \"star\"}, \"name\": \"3\", \"x\": [-0.14296090602874756, -0.08047527074813843, -0.0411839485168457, 2.8427690267562866e-05, 0.04167415201663971, 0.09194911271333694, 0.13791798055171967], \"y\": [-0.11349016427993774, -0.14428365230560303, -0.156327486038208, -0.16083937883377075, -0.15653669834136963, -0.14379125833511353, -0.1131746768951416], \"type\": \"scatter\", \"uid\": \"5fb10a6b-f03e-428e-9237-2c4e31b22d96\"}, {\"line\": {\"dash\": \"2px,6px\", \"shape\": \"spline\"}, \"marker\": {\"symbol\": \"star\"}, \"name\": \"4\", \"x\": [-0.16403865814208984, -0.09395653009414673, -0.04912424087524414, 5.853921175003052e-05, 0.05002501606941223, 0.10769752413034439, 0.16073335707187653], \"y\": [-0.1637650728225708, -0.2090488076210022, -0.22673249244689941, -0.235887348651886, -0.22714734077453613, -0.20717352628707886, -0.16376739740371704], \"type\": \"scatter\", \"uid\": \"f3c4f891-2ee5-49da-a4f7-4007ceea3cd5\"}, {\"line\": {\"dash\": \"2px,6px\", \"shape\": \"spline\"}, \"marker\": {\"symbol\": \"star\"}, \"name\": \"5\", \"x\": [-0.1697494387626648, -0.09933829307556152, -0.05285829305648804, 4.860386252403259e-05, 0.053718313574790955, 0.11304152756929398, 0.16828490793704987], \"y\": [-0.22630834579467773, -0.2793940305709839, -0.29975855350494385, -0.3123655319213867, -0.3006380796432495, -0.27675479650497437, -0.22625917196273804], \"type\": \"scatter\", \"uid\": \"2312a8af-54b8-499a-ace9-9555d2912a79\"}, {\"line\": {\"dash\": \"2px,6px\", \"shape\": \"spline\"}, \"marker\": {\"symbol\": \"star\"}, \"name\": \"6\", \"x\": [-0.1596202850341797, -0.09788811206817627, -0.052854180335998535, -9.179115295410156e-06, 0.05252693593502045, 0.10898379236459732, 0.15986575186252594], \"y\": [-0.31244146823883057, -0.36343735456466675, -0.38341736793518066, -0.39733558893203735, -0.38496947288513184, -0.3616829514503479, -0.3120001554489136], \"type\": \"scatter\", \"uid\": \"de622524-1722-4bc6-b2c4-1d349c2469cb\"}, {\"line\": {\"dash\": \"2px,6px\", \"shape\": \"spline\"}, \"marker\": {\"symbol\": \"star\"}, \"name\": \"7\", \"x\": [-0.1456911563873291, -0.09398096799850464, -0.050670087337493896, -1.8656253814697266e-05, 0.049051523208618164, 0.10182023793458939, 0.14744378626346588], \"y\": [-0.36430442333221436, -0.4100577235221863, -0.428864061832428, -0.44266223907470703, -0.4305190443992615, -0.4091324210166931, -0.3637903928756714], \"type\": \"scatter\", \"uid\": \"4850eb49-641d-4716-a8b0-2859d140c84b\"}, {\"line\": {\"dash\": \"2px,6px\", \"shape\": \"spline\"}, \"marker\": {\"symbol\": \"star\"}, \"name\": \"8\", \"x\": [-0.122749924659729, -0.0871572494506836, -0.04627060890197754, 1.2721866369247437e-05, 0.04270879924297333, 0.08967293053865433, 0.12730564177036285], \"y\": [-0.4213526248931885, -0.4588962197303772, -0.4759690761566162, -0.4891435503959656, -0.4774378538131714, -0.4589652419090271, -0.4209746718406677], \"type\": \"scatter\", \"uid\": \"de1cf583-df24-48ab-870a-6d7ecd95f950\"}, {\"line\": {\"shape\": \"spline\"}, \"name\": \"9\", \"x\": [-0.058818697929382324, -0.03147625923156738, -0.01271522045135498, -0.0006914138793945312, 0.011174589395523071, 0.035626426339149475, 0.05420615151524544], \"y\": [0.023765929043293, 0.018378913402557373, 0.013229697942733765, 0.010889191180467606, 0.010754495859146118, 0.017389342188835144, 0.02314385399222374], \"type\": \"scatter\", \"uid\": \"faa3a359-4176-4410-a080-3bfbe4ce4bee\"}, {\"line\": {\"shape\": \"spline\"}, \"name\": \"10\", \"x\": [-0.09451794624328613, -0.049476027488708496, -0.019236087799072266, -0.00019979476928710938, 0.01963275671005249, 0.05181945860385895, 0.08740272372961044], \"y\": [-0.022815823554992676, -0.04189002513885498, -0.053372204303741455, -0.060706138610839844, -0.054051101207733154, -0.04096287488937378, -0.023519039154052734], \"type\": \"scatter\", \"uid\": \"a5ca5bae-41aa-415a-836f-89f09c7d60de\"}, {\"line\": {\"shape\": \"spline\"}, \"name\": \"11\", \"x\": [-0.13307112455368042, -0.07434618473052979, -0.03130835294723511, 0.0005327612161636353, 0.03259847313165665, 0.07484365999698639, 0.12412001192569733], \"y\": [-0.06323868036270142, -0.09434199333190918, -0.11225003004074097, -0.12276142835617065, -0.11329543590545654, -0.09174233675003052, -0.06370079517364502], \"type\": \"scatter\", \"uid\": \"62a9794a-3dbd-49b0-9f4a-ba02a5222330\"}, {\"line\": {\"shape\": \"spline\"}, \"name\": \"12\", \"x\": [-0.1613767147064209, -0.09471803903579712, -0.042810678482055664, 0.0007597953081130981, 0.04338918626308441, 0.09487570822238922, 0.15305432677268982], \"y\": [-0.10104668140411377, -0.13919568061828613, -0.16209501028060913, -0.1744084358215332, -0.16397684812545776, -0.13660389184951782, -0.10179919004440308], \"type\": \"scatter\", \"uid\": \"34f695df-70eb-41a1-a2fe-4363cc2eac91\"}, {\"line\": {\"shape\": \"spline\"}, \"name\": \"13\", \"x\": [-0.18666303157806396, -0.11585932970046997, -0.05586957931518555, 0.0005348930135369301, 0.05484408885240555, 0.11656416952610016, 0.18237994611263275], \"y\": [-0.1672677993774414, -0.21231412887573242, -0.23937571048736572, -0.2537171244621277, -0.24194222688674927, -0.2106456160545349, -0.1694146990776062], \"type\": \"scatter\", \"uid\": \"6e2c2dc2-e5ec-4094-ac59-deae26fd87ec\"}, {\"line\": {\"shape\": \"spline\"}, \"name\": \"14\", \"x\": [-0.19278091192245483, -0.12498492002487183, -0.061447322368621826, -0.0005862116813659668, 0.05948060750961304, 0.12525826692581177, 0.19395598769187927], \"y\": [-0.23674356937408447, -0.2839764356613159, -0.30832380056381226, -0.3247309923171997, -0.30964982509613037, -0.2829170227050781, -0.24151557683944702], \"type\": \"scatter\", \"uid\": \"6338d087-5984-436a-83d1-0016887970bd\"}, {\"line\": {\"shape\": \"spline\"}, \"name\": \"15\", \"x\": [-0.1805132031440735, -0.12464278936386108, -0.0578463077545166, -0.00030499696731567383, 0.0578303188085556, 0.11689737439155579, 0.18704041838645935], \"y\": [-0.31526947021484375, -0.358970046043396, -0.37412208318710327, -0.3924679160118103, -0.3727450370788574, -0.359774112701416, -0.32447582483291626], \"type\": \"scatter\", \"uid\": \"65017e47-8c75-4883-bb1f-57df6543deac\"}, {\"line\": {\"shape\": \"spline\"}, \"name\": \"16\", \"x\": [-0.16721099615097046, -0.12133318185806274, -0.05223888158798218, 0.0009181927889585495, 0.05453146994113922, 0.10558708012104034, 0.175690159201622], \"y\": [-0.356563925743103, -0.39600813388824463, -0.4041041135787964, -0.4229013919830322, -0.4009853005409241, -0.3981667757034302, -0.3682199716567993], \"type\": \"scatter\", \"uid\": \"fa88b7d7-b71a-4ee2-bd4b-47bade7edcb9\"}, {\"line\": {\"shape\": \"spline\"}, \"name\": \"17\", \"x\": [-0.15012818574905396, -0.11657983064651489, -0.04469728469848633, 0.0030586346983909607, 0.04962337762117386, 0.09057900309562683, 0.1596900373697281], \"y\": [-0.3982202410697937, -0.43179506063461304, -0.4313931465148926, -0.4497253894805908, -0.4261143207550049, -0.43539243936538696, -0.4123203158378601], \"type\": \"scatter\", \"uid\": \"fbeb2d67-23b9-48af-bc05-41783b0fa9d4\"}], {\"height\": 600, \"hovermode\": \"closest\", \"title\": {\"text\": \"Initial Curves\"}, \"width\": 600, \"xaxis\": {\"range\": [-0.5, 0.5], \"title\": {\"text\": \"X\"}}, \"yaxis\": {\"range\": [-0.8, 0.2], \"title\": {\"text\": \"Y\"}}}, {\"showLink\": false, \"linkText\": \"Export to plot.ly\", \"plotlyServerURL\": \"https://plot.ly\"})});</script>"
      ],
      "text/vnd.plotly.v1+html": [
       "<div id=\"7beb62b1-8f39-4e8a-9865-72d72a66216f\" style=\"height: 600px; width: 600px;\" class=\"plotly-graph-div\"></div><script type=\"text/javascript\">require([\"plotly\"], function(Plotly) { window.PLOTLYENV=window.PLOTLYENV || {};window.PLOTLYENV.BASE_URL=\"https://plot.ly\";Plotly.newPlot(\"7beb62b1-8f39-4e8a-9865-72d72a66216f\", [{\"line\": {\"dash\": \"2px,6px\", \"shape\": \"spline\"}, \"marker\": {\"symbol\": \"star\"}, \"name\": \"0\", \"x\": [-0.051709532737731934, -0.03137695789337158, -0.014062047004699707, 3.618001937866211e-05, 0.013416916131973267, 0.029561154544353485, 0.054504185914993286], \"y\": [-0.0010970830917358398, 0.000591568648815155, 0.0016844868659973145, 0.0017935633659362793, 0.0014146417379379272, 0.0002841949462890625, -0.0008829832077026367], \"type\": \"scatter\", \"uid\": \"cfcffdd7-ef9d-4a23-96a8-12e637275184\"}, {\"line\": {\"dash\": \"2px,6px\", \"shape\": \"spline\"}, \"marker\": {\"symbol\": \"star\"}, \"name\": \"1\", \"x\": [-0.09083247184753418, -0.05187106132507324, -0.024411380290985107, 0.00015370920300483704, 0.024526968598365784, 0.05457407981157303, 0.08943147957324982], \"y\": [-0.044038236141204834, -0.05691266059875488, -0.06224977970123291, -0.06415432691574097, -0.06082993745803833, -0.05518174171447754, -0.04461544752120972], \"type\": \"scatter\", \"uid\": \"361b98bf-bf51-4cc1-b9de-0ae9e2981ed4\"}, {\"line\": {\"dash\": \"2px,6px\", \"shape\": \"spline\"}, \"marker\": {\"symbol\": \"star\"}, \"name\": \"2\", \"x\": [-0.12067747116088867, -0.06761646270751953, -0.03338354825973511, 0.00011090189218521118, 0.03387299180030823, 0.07523638755083084, 0.11650829017162323], \"y\": [-0.0830690860748291, -0.10638213157653809, -0.11543071269989014, -0.11865729093551636, -0.11459451913833618, -0.10479885339736938, -0.08321136236190796], \"type\": \"scatter\", \"uid\": \"b4df132c-deaf-40e2-b20b-bba59a3fcfe3\"}, {\"line\": {\"dash\": \"2px,6px\", \"shape\": \"spline\"}, \"marker\": {\"symbol\": \"star\"}, \"name\": \"3\", \"x\": [-0.14296090602874756, -0.08047527074813843, -0.0411839485168457, 2.8427690267562866e-05, 0.04167415201663971, 0.09194911271333694, 0.13791798055171967], \"y\": [-0.11349016427993774, -0.14428365230560303, -0.156327486038208, -0.16083937883377075, -0.15653669834136963, -0.14379125833511353, -0.1131746768951416], \"type\": \"scatter\", \"uid\": \"5fb10a6b-f03e-428e-9237-2c4e31b22d96\"}, {\"line\": {\"dash\": \"2px,6px\", \"shape\": \"spline\"}, \"marker\": {\"symbol\": \"star\"}, \"name\": \"4\", \"x\": [-0.16403865814208984, -0.09395653009414673, -0.04912424087524414, 5.853921175003052e-05, 0.05002501606941223, 0.10769752413034439, 0.16073335707187653], \"y\": [-0.1637650728225708, -0.2090488076210022, -0.22673249244689941, -0.235887348651886, -0.22714734077453613, -0.20717352628707886, -0.16376739740371704], \"type\": \"scatter\", \"uid\": \"f3c4f891-2ee5-49da-a4f7-4007ceea3cd5\"}, {\"line\": {\"dash\": \"2px,6px\", \"shape\": \"spline\"}, \"marker\": {\"symbol\": \"star\"}, \"name\": \"5\", \"x\": [-0.1697494387626648, -0.09933829307556152, -0.05285829305648804, 4.860386252403259e-05, 0.053718313574790955, 0.11304152756929398, 0.16828490793704987], \"y\": [-0.22630834579467773, -0.2793940305709839, -0.29975855350494385, -0.3123655319213867, -0.3006380796432495, -0.27675479650497437, -0.22625917196273804], \"type\": \"scatter\", \"uid\": \"2312a8af-54b8-499a-ace9-9555d2912a79\"}, {\"line\": {\"dash\": \"2px,6px\", \"shape\": \"spline\"}, \"marker\": {\"symbol\": \"star\"}, \"name\": \"6\", \"x\": [-0.1596202850341797, -0.09788811206817627, -0.052854180335998535, -9.179115295410156e-06, 0.05252693593502045, 0.10898379236459732, 0.15986575186252594], \"y\": [-0.31244146823883057, -0.36343735456466675, -0.38341736793518066, -0.39733558893203735, -0.38496947288513184, -0.3616829514503479, -0.3120001554489136], \"type\": \"scatter\", \"uid\": \"de622524-1722-4bc6-b2c4-1d349c2469cb\"}, {\"line\": {\"dash\": \"2px,6px\", \"shape\": \"spline\"}, \"marker\": {\"symbol\": \"star\"}, \"name\": \"7\", \"x\": [-0.1456911563873291, -0.09398096799850464, -0.050670087337493896, -1.8656253814697266e-05, 0.049051523208618164, 0.10182023793458939, 0.14744378626346588], \"y\": [-0.36430442333221436, -0.4100577235221863, -0.428864061832428, -0.44266223907470703, -0.4305190443992615, -0.4091324210166931, -0.3637903928756714], \"type\": \"scatter\", \"uid\": \"4850eb49-641d-4716-a8b0-2859d140c84b\"}, {\"line\": {\"dash\": \"2px,6px\", \"shape\": \"spline\"}, \"marker\": {\"symbol\": \"star\"}, \"name\": \"8\", \"x\": [-0.122749924659729, -0.0871572494506836, -0.04627060890197754, 1.2721866369247437e-05, 0.04270879924297333, 0.08967293053865433, 0.12730564177036285], \"y\": [-0.4213526248931885, -0.4588962197303772, -0.4759690761566162, -0.4891435503959656, -0.4774378538131714, -0.4589652419090271, -0.4209746718406677], \"type\": \"scatter\", \"uid\": \"de1cf583-df24-48ab-870a-6d7ecd95f950\"}, {\"line\": {\"shape\": \"spline\"}, \"name\": \"9\", \"x\": [-0.058818697929382324, -0.03147625923156738, -0.01271522045135498, -0.0006914138793945312, 0.011174589395523071, 0.035626426339149475, 0.05420615151524544], \"y\": [0.023765929043293, 0.018378913402557373, 0.013229697942733765, 0.010889191180467606, 0.010754495859146118, 0.017389342188835144, 0.02314385399222374], \"type\": \"scatter\", \"uid\": \"faa3a359-4176-4410-a080-3bfbe4ce4bee\"}, {\"line\": {\"shape\": \"spline\"}, \"name\": \"10\", \"x\": [-0.09451794624328613, -0.049476027488708496, -0.019236087799072266, -0.00019979476928710938, 0.01963275671005249, 0.05181945860385895, 0.08740272372961044], \"y\": [-0.022815823554992676, -0.04189002513885498, -0.053372204303741455, -0.060706138610839844, -0.054051101207733154, -0.04096287488937378, -0.023519039154052734], \"type\": \"scatter\", \"uid\": \"a5ca5bae-41aa-415a-836f-89f09c7d60de\"}, {\"line\": {\"shape\": \"spline\"}, \"name\": \"11\", \"x\": [-0.13307112455368042, -0.07434618473052979, -0.03130835294723511, 0.0005327612161636353, 0.03259847313165665, 0.07484365999698639, 0.12412001192569733], \"y\": [-0.06323868036270142, -0.09434199333190918, -0.11225003004074097, -0.12276142835617065, -0.11329543590545654, -0.09174233675003052, -0.06370079517364502], \"type\": \"scatter\", \"uid\": \"62a9794a-3dbd-49b0-9f4a-ba02a5222330\"}, {\"line\": {\"shape\": \"spline\"}, \"name\": \"12\", \"x\": [-0.1613767147064209, -0.09471803903579712, -0.042810678482055664, 0.0007597953081130981, 0.04338918626308441, 0.09487570822238922, 0.15305432677268982], \"y\": [-0.10104668140411377, -0.13919568061828613, -0.16209501028060913, -0.1744084358215332, -0.16397684812545776, -0.13660389184951782, -0.10179919004440308], \"type\": \"scatter\", \"uid\": \"34f695df-70eb-41a1-a2fe-4363cc2eac91\"}, {\"line\": {\"shape\": \"spline\"}, \"name\": \"13\", \"x\": [-0.18666303157806396, -0.11585932970046997, -0.05586957931518555, 0.0005348930135369301, 0.05484408885240555, 0.11656416952610016, 0.18237994611263275], \"y\": [-0.1672677993774414, -0.21231412887573242, -0.23937571048736572, -0.2537171244621277, -0.24194222688674927, -0.2106456160545349, -0.1694146990776062], \"type\": \"scatter\", \"uid\": \"6e2c2dc2-e5ec-4094-ac59-deae26fd87ec\"}, {\"line\": {\"shape\": \"spline\"}, \"name\": \"14\", \"x\": [-0.19278091192245483, -0.12498492002487183, -0.061447322368621826, -0.0005862116813659668, 0.05948060750961304, 0.12525826692581177, 0.19395598769187927], \"y\": [-0.23674356937408447, -0.2839764356613159, -0.30832380056381226, -0.3247309923171997, -0.30964982509613037, -0.2829170227050781, -0.24151557683944702], \"type\": \"scatter\", \"uid\": \"6338d087-5984-436a-83d1-0016887970bd\"}, {\"line\": {\"shape\": \"spline\"}, \"name\": \"15\", \"x\": [-0.1805132031440735, -0.12464278936386108, -0.0578463077545166, -0.00030499696731567383, 0.0578303188085556, 0.11689737439155579, 0.18704041838645935], \"y\": [-0.31526947021484375, -0.358970046043396, -0.37412208318710327, -0.3924679160118103, -0.3727450370788574, -0.359774112701416, -0.32447582483291626], \"type\": \"scatter\", \"uid\": \"65017e47-8c75-4883-bb1f-57df6543deac\"}, {\"line\": {\"shape\": \"spline\"}, \"name\": \"16\", \"x\": [-0.16721099615097046, -0.12133318185806274, -0.05223888158798218, 0.0009181927889585495, 0.05453146994113922, 0.10558708012104034, 0.175690159201622], \"y\": [-0.356563925743103, -0.39600813388824463, -0.4041041135787964, -0.4229013919830322, -0.4009853005409241, -0.3981667757034302, -0.3682199716567993], \"type\": \"scatter\", \"uid\": \"fa88b7d7-b71a-4ee2-bd4b-47bade7edcb9\"}, {\"line\": {\"shape\": \"spline\"}, \"name\": \"17\", \"x\": [-0.15012818574905396, -0.11657983064651489, -0.04469728469848633, 0.0030586346983909607, 0.04962337762117386, 0.09057900309562683, 0.1596900373697281], \"y\": [-0.3982202410697937, -0.43179506063461304, -0.4313931465148926, -0.4497253894805908, -0.4261143207550049, -0.43539243936538696, -0.4123203158378601], \"type\": \"scatter\", \"uid\": \"fbeb2d67-23b9-48af-bc05-41783b0fa9d4\"}], {\"height\": 600, \"hovermode\": \"closest\", \"title\": {\"text\": \"Initial Curves\"}, \"width\": 600, \"xaxis\": {\"range\": [-0.5, 0.5], \"title\": {\"text\": \"X\"}}, \"yaxis\": {\"range\": [-0.8, 0.2], \"title\": {\"text\": \"Y\"}}}, {\"showLink\": false, \"linkText\": \"Export to plot.ly\", \"plotlyServerURL\": \"https://plot.ly\"})});</script>"
      ]
     },
     "metadata": {},
     "output_type": "display_data"
    }
   ],
   "source": [
    "\n",
    "i = 7\n",
    "ph0 = phTout0.data.numpy()[i]\n",
    "ph1 = phTout1.data.numpy()[i]\n",
    "\n",
    "p01_0 = genOut0.data.numpy()[i]\n",
    "p01_1 = genOut1.data.numpy()[i]\n",
    "\n",
    "# nx = np.concatenate((p0,p01_0))\n",
    "nx = np.concatenate((p1,p01_1))\n",
    "\n",
    "\n",
    "# gx = gy.FormatNetworkToGraphColumns(nx, xOffset=0, yOffset=7, colPoints=7)\n",
    "# gx = gy.FormatNetworkToGraphColumns(nx, xOffset=0, yOffset=14, colPoints=7)\n",
    "gx = gy.FormatNetworkToGraphColumns(nx, xOffset=7, yOffset=14, colPoints=7)\n",
    "\n",
    "layout = go.Layout(\n",
    "    title = 'Initial Curves',\n",
    "    height = 600,\n",
    "    width = 600,\n",
    "    hovermode= 'closest',\n",
    "    xaxis= dict(\n",
    "        title= 'X',\n",
    "        range = [-.5,.5],\n",
    "    ),\n",
    "    yaxis=dict(\n",
    "        title= 'Y',\n",
    "        range = [-.8,.2],\n",
    "    )\n",
    ")\n",
    "f = gy.graphCurves(gx, layout, dashRange=range(0,9))\n",
    "offline.iplot(f)\n"
   ]
  },
  {
   "cell_type": "code",
   "execution_count": 77,
   "metadata": {},
   "outputs": [
    {
     "data": {
      "application/vnd.plotly.v1+json": {
       "config": {
        "linkText": "Export to plot.ly",
        "plotlyServerURL": "https://plot.ly",
        "showLink": false
       },
       "data": [
        {
         "line": {
          "shape": "spline"
         },
         "name": "0",
         "type": "scatter",
         "uid": "a5d27388-a406-465a-a86d-9ae8b65e0cc4",
         "x": [
          0.00924009084701538,
          0.009746193885803223,
          0.010054625570774078,
          0.009828180074691772,
          0.01072835922241211,
          0.008776657283306122,
          0.009009920060634613
         ],
         "y": [
          -0.051709532737731934,
          -0.03137695789337158,
          -0.014062047004699707,
          3.618001937866211e-05,
          0.013416916131973267,
          0.029561154544353485,
          0.054504185914993286
         ]
        },
        {
         "line": {
          "shape": "spline"
         },
         "name": "1",
         "type": "scatter",
         "uid": "64362ecd-d268-49ae-9eb8-ad156f27b316",
         "x": [
          0.1502506136894226,
          0.13121746480464935,
          0.12616999447345734,
          0.12192922830581665,
          0.12519830465316772,
          0.13254712522029877,
          0.15188318490982056
         ],
         "y": [
          -0.09083247184753418,
          -0.05187106132507324,
          -0.024411380290985107,
          0.00015370920300483704,
          0.024526968598365784,
          0.05457407981157303,
          0.08943147957324982
         ]
        },
        {
         "line": {
          "shape": "spline"
         },
         "name": "2",
         "type": "scatter",
         "uid": "c41b9178-2843-43e3-8ebd-79c7489db9cb",
         "x": [
          0.26229366660118103,
          0.2324007749557495,
          0.22170570492744446,
          0.21541878581047058,
          0.22160807251930237,
          0.2334282398223877,
          0.2636001408100128
         ],
         "y": [
          -0.12067747116088867,
          -0.06761646270751953,
          -0.03338354825973511,
          0.00011090189218521118,
          0.03387299180030823,
          0.07523638755083084,
          0.11650829017162323
         ]
        },
        {
         "line": {
          "shape": "spline"
         },
         "name": "3",
         "type": "scatter",
         "uid": "3bfc1653-ea2b-433a-9eae-e099dfecf9cb",
         "x": [
          0.3519163131713867,
          0.31835639476776123,
          0.30387789011001587,
          0.2972675859928131,
          0.30551260709762573,
          0.318198025226593,
          0.3512578010559082
         ],
         "y": [
          -0.14296090602874756,
          -0.08047527074813843,
          -0.0411839485168457,
          2.8427690267562866e-05,
          0.04167415201663971,
          0.09194911271333694,
          0.13791798055171967
         ]
        },
        {
         "line": {
          "shape": "spline"
         },
         "name": "4",
         "type": "scatter",
         "uid": "16a3477b-568e-4afd-b6ac-4dbb022b2a50",
         "x": [
          0.48037365078926086,
          0.45154717564582825,
          0.43996793031692505,
          0.4332126975059509,
          0.4410070776939392,
          0.45192086696624756,
          0.47905004024505615
         ],
         "y": [
          -0.16403865814208984,
          -0.09395653009414673,
          -0.04912424087524414,
          5.853921175003052e-05,
          0.05002501606941223,
          0.10769752413034439,
          0.16073335707187653
         ]
        },
        {
         "line": {
          "shape": "spline"
         },
         "name": "5",
         "type": "scatter",
         "uid": "e4d63838-bc54-4357-a701-c9fd583b08bc",
         "x": [
          0.592829167842865,
          0.5760056376457214,
          0.5705606341362,
          0.566125750541687,
          0.5713480114936829,
          0.5765249729156494,
          0.591170072555542
         ],
         "y": [
          -0.1697494387626648,
          -0.09933829307556152,
          -0.05285829305648804,
          4.860386252403259e-05,
          0.053718313574790955,
          0.11304152756929398,
          0.16828490793704987
         ]
        },
        {
         "line": {
          "shape": "spline"
         },
         "name": "6",
         "type": "scatter",
         "uid": "62059ad7-a789-4d18-bd8f-3a331c3a67f3",
         "x": [
          0.7144467234611511,
          0.7168309688568115,
          0.7200656533241272,
          0.7220075130462646,
          0.7218546271324158,
          0.7165209054946899,
          0.7122856974601746
         ],
         "y": [
          -0.1596202850341797,
          -0.09788811206817627,
          -0.052854180335998535,
          -9.179115295410156e-06,
          0.05252693593502045,
          0.10898379236459732,
          0.15986575186252594
         ]
        },
        {
         "line": {
          "shape": "spline"
         },
         "name": "7",
         "type": "scatter",
         "uid": "345f891e-98a5-4dcb-99ab-61cc4cc653fd",
         "x": [
          0.786978006362915,
          0.8029369711875916,
          0.8128569722175598,
          0.8200896978378296,
          0.8151714205741882,
          0.8022447824478149,
          0.7850273251533508
         ],
         "y": [
          -0.1456911563873291,
          -0.09398096799850464,
          -0.050670087337493896,
          -1.8656253814697266e-05,
          0.049051523208618164,
          0.10182023793458939,
          0.14744378626346588
         ]
        },
        {
         "line": {
          "shape": "spline"
         },
         "name": "8",
         "type": "scatter",
         "uid": "541c190b-f422-4383-8b2a-713e89da0b62",
         "x": [
          0.8739941120147705,
          0.9072597622871399,
          0.9264410138130188,
          0.9408588409423828,
          0.929012656211853,
          0.9064587354660034,
          0.8728787899017334
         ],
         "y": [
          -0.122749924659729,
          -0.0871572494506836,
          -0.04627060890197754,
          1.2721866369247437e-05,
          0.04270879924297333,
          0.08967293053865433,
          0.12730564177036285
         ]
        }
       ],
       "layout": {
        "height": 600,
        "hovermode": "closest",
        "title": {
         "text": "Time 0 for different species combinations"
        },
        "width": 600,
        "xaxis": {
         "range": [
          -0.4,
          1.1
         ],
         "title": {
          "text": "X"
         }
        },
        "yaxis": {
         "range": [
          -0.25,
          0.25
         ],
         "title": {
          "text": "Y"
         }
        }
       }
      },
      "text/html": [
       "<div id=\"f914b11f-1795-43c1-ba10-81f3c0e50f2b\" style=\"height: 600px; width: 600px;\" class=\"plotly-graph-div\"></div><script type=\"text/javascript\">require([\"plotly\"], function(Plotly) { window.PLOTLYENV=window.PLOTLYENV || {};window.PLOTLYENV.BASE_URL=\"https://plot.ly\";Plotly.newPlot(\"f914b11f-1795-43c1-ba10-81f3c0e50f2b\", [{\"line\": {\"shape\": \"spline\"}, \"name\": \"0\", \"x\": [0.00924009084701538, 0.009746193885803223, 0.010054625570774078, 0.009828180074691772, 0.01072835922241211, 0.008776657283306122, 0.009009920060634613], \"y\": [-0.051709532737731934, -0.03137695789337158, -0.014062047004699707, 3.618001937866211e-05, 0.013416916131973267, 0.029561154544353485, 0.054504185914993286], \"type\": \"scatter\", \"uid\": \"a5d27388-a406-465a-a86d-9ae8b65e0cc4\"}, {\"line\": {\"shape\": \"spline\"}, \"name\": \"1\", \"x\": [0.1502506136894226, 0.13121746480464935, 0.12616999447345734, 0.12192922830581665, 0.12519830465316772, 0.13254712522029877, 0.15188318490982056], \"y\": [-0.09083247184753418, -0.05187106132507324, -0.024411380290985107, 0.00015370920300483704, 0.024526968598365784, 0.05457407981157303, 0.08943147957324982], \"type\": \"scatter\", \"uid\": \"64362ecd-d268-49ae-9eb8-ad156f27b316\"}, {\"line\": {\"shape\": \"spline\"}, \"name\": \"2\", \"x\": [0.26229366660118103, 0.2324007749557495, 0.22170570492744446, 0.21541878581047058, 0.22160807251930237, 0.2334282398223877, 0.2636001408100128], \"y\": [-0.12067747116088867, -0.06761646270751953, -0.03338354825973511, 0.00011090189218521118, 0.03387299180030823, 0.07523638755083084, 0.11650829017162323], \"type\": \"scatter\", \"uid\": \"c41b9178-2843-43e3-8ebd-79c7489db9cb\"}, {\"line\": {\"shape\": \"spline\"}, \"name\": \"3\", \"x\": [0.3519163131713867, 0.31835639476776123, 0.30387789011001587, 0.2972675859928131, 0.30551260709762573, 0.318198025226593, 0.3512578010559082], \"y\": [-0.14296090602874756, -0.08047527074813843, -0.0411839485168457, 2.8427690267562866e-05, 0.04167415201663971, 0.09194911271333694, 0.13791798055171967], \"type\": \"scatter\", \"uid\": \"3bfc1653-ea2b-433a-9eae-e099dfecf9cb\"}, {\"line\": {\"shape\": \"spline\"}, \"name\": \"4\", \"x\": [0.48037365078926086, 0.45154717564582825, 0.43996793031692505, 0.4332126975059509, 0.4410070776939392, 0.45192086696624756, 0.47905004024505615], \"y\": [-0.16403865814208984, -0.09395653009414673, -0.04912424087524414, 5.853921175003052e-05, 0.05002501606941223, 0.10769752413034439, 0.16073335707187653], \"type\": \"scatter\", \"uid\": \"16a3477b-568e-4afd-b6ac-4dbb022b2a50\"}, {\"line\": {\"shape\": \"spline\"}, \"name\": \"5\", \"x\": [0.592829167842865, 0.5760056376457214, 0.5705606341362, 0.566125750541687, 0.5713480114936829, 0.5765249729156494, 0.591170072555542], \"y\": [-0.1697494387626648, -0.09933829307556152, -0.05285829305648804, 4.860386252403259e-05, 0.053718313574790955, 0.11304152756929398, 0.16828490793704987], \"type\": \"scatter\", \"uid\": \"e4d63838-bc54-4357-a701-c9fd583b08bc\"}, {\"line\": {\"shape\": \"spline\"}, \"name\": \"6\", \"x\": [0.7144467234611511, 0.7168309688568115, 0.7200656533241272, 0.7220075130462646, 0.7218546271324158, 0.7165209054946899, 0.7122856974601746], \"y\": [-0.1596202850341797, -0.09788811206817627, -0.052854180335998535, -9.179115295410156e-06, 0.05252693593502045, 0.10898379236459732, 0.15986575186252594], \"type\": \"scatter\", \"uid\": \"62059ad7-a789-4d18-bd8f-3a331c3a67f3\"}, {\"line\": {\"shape\": \"spline\"}, \"name\": \"7\", \"x\": [0.786978006362915, 0.8029369711875916, 0.8128569722175598, 0.8200896978378296, 0.8151714205741882, 0.8022447824478149, 0.7850273251533508], \"y\": [-0.1456911563873291, -0.09398096799850464, -0.050670087337493896, -1.8656253814697266e-05, 0.049051523208618164, 0.10182023793458939, 0.14744378626346588], \"type\": \"scatter\", \"uid\": \"345f891e-98a5-4dcb-99ab-61cc4cc653fd\"}, {\"line\": {\"shape\": \"spline\"}, \"name\": \"8\", \"x\": [0.8739941120147705, 0.9072597622871399, 0.9264410138130188, 0.9408588409423828, 0.929012656211853, 0.9064587354660034, 0.8728787899017334], \"y\": [-0.122749924659729, -0.0871572494506836, -0.04627060890197754, 1.2721866369247437e-05, 0.04270879924297333, 0.08967293053865433, 0.12730564177036285], \"type\": \"scatter\", \"uid\": \"541c190b-f422-4383-8b2a-713e89da0b62\"}], {\"height\": 600, \"hovermode\": \"closest\", \"title\": {\"text\": \"Time 0 for different species combinations\"}, \"width\": 600, \"xaxis\": {\"range\": [-0.4, 1.1], \"title\": {\"text\": \"X\"}}, \"yaxis\": {\"range\": [-0.25, 0.25], \"title\": {\"text\": \"Y\"}}}, {\"showLink\": false, \"linkText\": \"Export to plot.ly\", \"plotlyServerURL\": \"https://plot.ly\"})});</script>"
      ],
      "text/vnd.plotly.v1+html": [
       "<div id=\"f914b11f-1795-43c1-ba10-81f3c0e50f2b\" style=\"height: 600px; width: 600px;\" class=\"plotly-graph-div\"></div><script type=\"text/javascript\">require([\"plotly\"], function(Plotly) { window.PLOTLYENV=window.PLOTLYENV || {};window.PLOTLYENV.BASE_URL=\"https://plot.ly\";Plotly.newPlot(\"f914b11f-1795-43c1-ba10-81f3c0e50f2b\", [{\"line\": {\"shape\": \"spline\"}, \"name\": \"0\", \"x\": [0.00924009084701538, 0.009746193885803223, 0.010054625570774078, 0.009828180074691772, 0.01072835922241211, 0.008776657283306122, 0.009009920060634613], \"y\": [-0.051709532737731934, -0.03137695789337158, -0.014062047004699707, 3.618001937866211e-05, 0.013416916131973267, 0.029561154544353485, 0.054504185914993286], \"type\": \"scatter\", \"uid\": \"a5d27388-a406-465a-a86d-9ae8b65e0cc4\"}, {\"line\": {\"shape\": \"spline\"}, \"name\": \"1\", \"x\": [0.1502506136894226, 0.13121746480464935, 0.12616999447345734, 0.12192922830581665, 0.12519830465316772, 0.13254712522029877, 0.15188318490982056], \"y\": [-0.09083247184753418, -0.05187106132507324, -0.024411380290985107, 0.00015370920300483704, 0.024526968598365784, 0.05457407981157303, 0.08943147957324982], \"type\": \"scatter\", \"uid\": \"64362ecd-d268-49ae-9eb8-ad156f27b316\"}, {\"line\": {\"shape\": \"spline\"}, \"name\": \"2\", \"x\": [0.26229366660118103, 0.2324007749557495, 0.22170570492744446, 0.21541878581047058, 0.22160807251930237, 0.2334282398223877, 0.2636001408100128], \"y\": [-0.12067747116088867, -0.06761646270751953, -0.03338354825973511, 0.00011090189218521118, 0.03387299180030823, 0.07523638755083084, 0.11650829017162323], \"type\": \"scatter\", \"uid\": \"c41b9178-2843-43e3-8ebd-79c7489db9cb\"}, {\"line\": {\"shape\": \"spline\"}, \"name\": \"3\", \"x\": [0.3519163131713867, 0.31835639476776123, 0.30387789011001587, 0.2972675859928131, 0.30551260709762573, 0.318198025226593, 0.3512578010559082], \"y\": [-0.14296090602874756, -0.08047527074813843, -0.0411839485168457, 2.8427690267562866e-05, 0.04167415201663971, 0.09194911271333694, 0.13791798055171967], \"type\": \"scatter\", \"uid\": \"3bfc1653-ea2b-433a-9eae-e099dfecf9cb\"}, {\"line\": {\"shape\": \"spline\"}, \"name\": \"4\", \"x\": [0.48037365078926086, 0.45154717564582825, 0.43996793031692505, 0.4332126975059509, 0.4410070776939392, 0.45192086696624756, 0.47905004024505615], \"y\": [-0.16403865814208984, -0.09395653009414673, -0.04912424087524414, 5.853921175003052e-05, 0.05002501606941223, 0.10769752413034439, 0.16073335707187653], \"type\": \"scatter\", \"uid\": \"16a3477b-568e-4afd-b6ac-4dbb022b2a50\"}, {\"line\": {\"shape\": \"spline\"}, \"name\": \"5\", \"x\": [0.592829167842865, 0.5760056376457214, 0.5705606341362, 0.566125750541687, 0.5713480114936829, 0.5765249729156494, 0.591170072555542], \"y\": [-0.1697494387626648, -0.09933829307556152, -0.05285829305648804, 4.860386252403259e-05, 0.053718313574790955, 0.11304152756929398, 0.16828490793704987], \"type\": \"scatter\", \"uid\": \"e4d63838-bc54-4357-a701-c9fd583b08bc\"}, {\"line\": {\"shape\": \"spline\"}, \"name\": \"6\", \"x\": [0.7144467234611511, 0.7168309688568115, 0.7200656533241272, 0.7220075130462646, 0.7218546271324158, 0.7165209054946899, 0.7122856974601746], \"y\": [-0.1596202850341797, -0.09788811206817627, -0.052854180335998535, -9.179115295410156e-06, 0.05252693593502045, 0.10898379236459732, 0.15986575186252594], \"type\": \"scatter\", \"uid\": \"62059ad7-a789-4d18-bd8f-3a331c3a67f3\"}, {\"line\": {\"shape\": \"spline\"}, \"name\": \"7\", \"x\": [0.786978006362915, 0.8029369711875916, 0.8128569722175598, 0.8200896978378296, 0.8151714205741882, 0.8022447824478149, 0.7850273251533508], \"y\": [-0.1456911563873291, -0.09398096799850464, -0.050670087337493896, -1.8656253814697266e-05, 0.049051523208618164, 0.10182023793458939, 0.14744378626346588], \"type\": \"scatter\", \"uid\": \"345f891e-98a5-4dcb-99ab-61cc4cc653fd\"}, {\"line\": {\"shape\": \"spline\"}, \"name\": \"8\", \"x\": [0.8739941120147705, 0.9072597622871399, 0.9264410138130188, 0.9408588409423828, 0.929012656211853, 0.9064587354660034, 0.8728787899017334], \"y\": [-0.122749924659729, -0.0871572494506836, -0.04627060890197754, 1.2721866369247437e-05, 0.04270879924297333, 0.08967293053865433, 0.12730564177036285], \"type\": \"scatter\", \"uid\": \"541c190b-f422-4383-8b2a-713e89da0b62\"}], {\"height\": 600, \"hovermode\": \"closest\", \"title\": {\"text\": \"Time 0 for different species combinations\"}, \"width\": 600, \"xaxis\": {\"range\": [-0.4, 1.1], \"title\": {\"text\": \"X\"}}, \"yaxis\": {\"range\": [-0.25, 0.25], \"title\": {\"text\": \"Y\"}}}, {\"showLink\": false, \"linkText\": \"Export to plot.ly\", \"plotlyServerURL\": \"https://plot.ly\"})});</script>"
      ]
     },
     "metadata": {},
     "output_type": "display_data"
    }
   ],
   "source": [
    "'''\n",
    "5. Graph data \n",
    "'''\n",
    "ti = 7\n",
    "nx = np.array(phTout1[ti].data.numpy())\n",
    "gx = gy.FormatNetworkToGraphColumns(nx, xOffset=0, yOffset=7, colPoints=7)\n",
    "\n",
    "layout = go.Layout(\n",
    "    title = 'Initial Curves',\n",
    "    height = 600,\n",
    "    width = 600,\n",
    "    hovermode= 'closest',\n",
    "    xaxis= dict(\n",
    "        title= 'X',\n",
    "        range = [-.4,1.1],\n",
    "    ),\n",
    "    yaxis=dict(\n",
    "        title= 'Y',\n",
    "        range = [-.25,.25],\n",
    "    )\n",
    ")\n",
    "\n",
    "layout.title = 'Time 0 for different species combinations'\n",
    "f = gy.graphCurves(gx, layout)\n",
    "offline.iplot(f)"
   ]
  },
  {
   "cell_type": "code",
   "execution_count": 78,
   "metadata": {},
   "outputs": [
    {
     "data": {
      "text/plain": [
       "'\\n7. Save two template interpolation model to file\\n\\n'"
      ]
     },
     "execution_count": 78,
     "metadata": {},
     "output_type": "execute_result"
    }
   ],
   "source": [
    "'''\n",
    "7. Save two template interpolation model to file\n",
    "\n",
    "'''\n",
    "\n",
    "# PATH = CURRENT_MODEL_SAVE_DIR +'GEN PhRcPh-T0T1-mask 11p05.pth'\n",
    "# torch.save(phModel.state_dict(), PATH)\n",
    "# PATH = CURRENT_MODEL_SAVE_DIR +'REL PhRc-T0T1-mask 11p05.pth'\n",
    "# torch.save(geModel.state_dict(), PATH)\n"
   ]
  },
  {
   "cell_type": "code",
   "execution_count": null,
   "metadata": {},
   "outputs": [],
   "source": [
    "'''\n",
    "9. Generate blender data from template interpolation model output\n",
    "\n",
    "#phOut.shape torch.Size([10, 7, 23])\n",
    "\n",
    "'''\n",
    "\n",
    "# phOut = phModel(torch.Tensor(torch.Tensor(inpt0)))\n",
    "\n",
    "# x = phOut.detach().numpy()\n",
    "# fb = gy.FormatNetworkToBlender(x, xOffset=0, yOffset=7, zOffset=14, colPoints=7)\n",
    "\n",
    "# with open(CURRENT_MODEL_SAVE_DIR +'btest.json', 'w') as fp:\n",
    "#     json.dump(fb.tolist(),fp)\n",
    "    \n",
    "# x.shape, fb.shape"
   ]
  }
 ],
 "metadata": {
  "kernelspec": {
   "display_name": "Python [conda env:pytorch]",
   "language": "python",
   "name": "conda-env-pytorch-py"
  },
  "language_info": {
   "codemirror_mode": {
    "name": "ipython",
    "version": 3
   },
   "file_extension": ".py",
   "mimetype": "text/x-python",
   "name": "python",
   "nbconvert_exporter": "python",
   "pygments_lexer": "ipython3",
   "version": "3.7.2"
  }
 },
 "nbformat": 4,
 "nbformat_minor": 2
}
